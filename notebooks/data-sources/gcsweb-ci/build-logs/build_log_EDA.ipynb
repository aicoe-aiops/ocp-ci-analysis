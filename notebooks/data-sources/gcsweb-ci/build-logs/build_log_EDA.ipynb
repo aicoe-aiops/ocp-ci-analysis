{
 "cells": [
  {
   "cell_type": "markdown",
   "id": "8291798c",
   "metadata": {
    "tags": []
   },
   "source": [
    "# openshift-ci: build logs initial data collection and EDA"
   ]
  },
  {
   "cell_type": "markdown",
   "id": "3df8078e",
   "metadata": {},
   "source": [
    "Automated log analysis normally relies on some treats that typical logs exhibit:\n",
    "\n",
    "- Similar messages are repeated over and over.\n",
    "- Messages are short, and contain mixed text and parameters.\n",
    "- Log files contain some structure (time stamps, severity levels, system/component identifiers) as well as *free form* textual data.\n",
    "\n",
    "Log files from OpenShift CI do not always have these characteristics. A single log file can contain a wide diverstity of log entries, some of which can be long multi-line sequences (e.g. command output) and do not always have the same structure. Moreover, the content type, structure and format varies between jobs, even between executions of the same job over time.\n",
    "\n",
    "On the other hand, CI logs offer other characteristics that traditional logs often don't:\n",
    "\n",
    "- Diversity of content (as explained above).\n",
    "- They have a *beginning* and and *end*.\n",
    "- We have repetitions at a whole log file level. I.e. the same job runs multiple times, which enables us to compare multiple versions of the same log file (in contrast with traditional log analysis, which can exploit multiple occurrences only at the log entry level).\n",
    "\n",
    "Different jobs in OpenShif CI provide different log files and outputs, but there is one specific log output that they all have in common: the job's *build log* (`build-log.txt`). We start the log exploration with this type of log.\n"
   ]
  },
  {
   "cell_type": "markdown",
   "id": "61c502d9",
   "metadata": {},
   "source": [
    "## Download build log data"
   ]
  },
  {
   "cell_type": "markdown",
   "id": "bf377615",
   "metadata": {},
   "source": [
    "We start by accessing job log data. Initially we will get:\n",
    "\n",
    "- Build logs (`build-log.txt`) for jobs\n",
    "- Basic metadata about each build log:\n",
    "  - Size (lenght) of the build log file\n",
    "  - Duration of the job run\n",
    "  - The result of the job, i.e. wether the log corresponds to a failed or passed execution\n",
    "  \n",
    "All that information is available in a Google Storage bucket called `openshift-ci`. Within that bucket, each CI job definition has matching *prefixes* for its generated artifacts.\n",
    "\n",
    "For example, all the builds for the job `release-openshift-ocp-installer-e2e-aws-serial-4.7` have the form:\n",
    "\n",
    "    /logs/release-openshift-ocp-installer-e2e-aws-serial-4.7/BUILD_ID/\n",
    "    \n",
    "and right after that prefix we will always find 3 blobs that will provide us the information we need:\n",
    "\n",
    "- `build-log.txt`, the build log itself\n",
    "- `started.json` with the start's timestamp\n",
    "- `finished.json` (after the job has fininshed) contains the end timestamp and the job result (success, failure, or error)\n",
    "\n",
    "You can see an example build of that job [here](https://gcsweb-ci.apps.ci.l2s4.p1.openshiftapps.com/gcs/origin-ci-test/logs/release-openshift-ocp-installer-e2e-aws-serial-4.7/1379147319978496000/).\n",
    "\n",
    "Beyond that common information, each job type will have their own set of job-specific *artifacts* available under the `artifacts/` infix. This notebook does not explore job-specific logs or artifacts."
   ]
  },
  {
   "cell_type": "code",
   "execution_count": 1,
   "id": "d70d950a",
   "metadata": {
    "jupyter": {
     "source_hidden": true
    },
    "tags": []
   },
   "outputs": [],
   "source": [
    "import json\n",
    "import matplotlib.pyplot as plt\n",
    "import pandas as pd\n",
    "import os\n",
    "import seaborn as sns\n",
    "from google.cloud import storage\n",
    "\n",
    "pd.options.display.float_format = \"{:.2f}\".format\n",
    "sns.set()"
   ]
  },
  {
   "cell_type": "markdown",
   "id": "5652c23c",
   "metadata": {},
   "source": [
    "The following class contains the logic for obtaining the logs and metadata that we are interested in:"
   ]
  },
  {
   "cell_type": "code",
   "execution_count": 2,
   "id": "7673a841",
   "metadata": {
    "code_folding": [],
    "jupyter": {
     "source_hidden": true
    },
    "tags": []
   },
   "outputs": [],
   "source": [
    "# Getting infortation about all builds from the job\n",
    "\n",
    "# TODO: add an option to limit the number of builds to work with\n",
    "\n",
    "\n",
    "class Builds:\n",
    "\n",
    "    # To fetch build metadata without downloading a copy of the log files\n",
    "    # create an instance with refresh=False and call fetch_build_data\n",
    "\n",
    "    project = \"origin-ci-test\"  # The Google Storage bucket\n",
    "    logs_path = \"../../../../data/raw/gcs/build-logs/\"  # Where to save log files\n",
    "    metadata_path = \"../../../../data/raw/gcs/build-metadata/\"  # Where to save metadata\n",
    "\n",
    "    @staticmethod\n",
    "    def log_path_for(build_id):\n",
    "        return os.path.join(Builds.logs_path, f\"{build_id}.txt\")\n",
    "\n",
    "    def __init__(self, job_name, refresh=False):\n",
    "        self.job_name = job_name\n",
    "        self.prefixes = set()\n",
    "        self.latest_build_id = \"\"\n",
    "        self.df = None\n",
    "        self.refresh = refresh\n",
    "        self.cache_file_name = os.path.join(\n",
    "            self.metadata_path, f\"{job_name}_build-logs.csv\"\n",
    "        )\n",
    "        # Note: it's important that the job prefix ends in '/' as this is used as a\n",
    "        # prefix for google storage client's list_blobs with '/' as the delimiter\n",
    "        # FIXME: this prefix only works for periodics. Generalize to include pre/post-submit job types\n",
    "        self.job_prefix = f\"logs/{job_name}/\"\n",
    "        # Google storage client\n",
    "        self.client = storage.client.Client.create_anonymous_client()\n",
    "        self.bucket = self.client.bucket(self.project)\n",
    "\n",
    "    def prow_url_for(self, build_id):\n",
    "        return f\"https://prow.ci.openshift.org/view/gcs/{self.project}/{self.job_prefix}{build_id}\"\n",
    "\n",
    "    def build_log_url_for(self, build_id):\n",
    "        \"\"\"Returns a public URL to download a build's build-log.txt\"\"\"\n",
    "        blob = self.bucket.get_blob(f\"{self.job_prefix}{build_id}/build-log.txt\")\n",
    "        return blob.public_url\n",
    "\n",
    "    # from https://github.com/googleapis/google-cloud-python/issues/920\n",
    "    def _fetch_build_prefixes(self):\n",
    "        iterator = self.client.list_blobs(\n",
    "            self.bucket, prefix=self.job_prefix, delimiter=\"/\"\n",
    "        )\n",
    "        for page in iterator.pages:\n",
    "            self.prefixes.update(page.prefixes)\n",
    "\n",
    "    def fetch_build_data(self):\n",
    "        \"\"\"Downloads build log information from google storage.\n",
    "        If \"refresh\" is set, it dowloads and saves a copy of the log file itself.\n",
    "        Otherwise, it just gets the metadata.\n",
    "        This method does not save metadata to a local file\"\"\"\n",
    "        self.df = pd.DataFrame(columns=[\"result\", \"size\", \"start\", \"end\"])\n",
    "\n",
    "        print(\"Fetching information about builds of\", self.job_name)\n",
    "        if not self.prefixes:\n",
    "            self._fetch_build_prefixes()\n",
    "\n",
    "        num_builds = len(self.prefixes)\n",
    "        for i, prefix in enumerate(self.prefixes, start=1):\n",
    "            build_id = prefix.split(\"/\")[-2]\n",
    "            print(f\"({i}/{num_builds}) {build_id}\", end=\"\\r\")\n",
    "\n",
    "            blob = self.bucket.get_blob(f\"{prefix}finished.json\")\n",
    "            if not blob:\n",
    "                # Build has not finished yet\n",
    "                continue\n",
    "            finished = json.loads(blob.download_as_bytes())\n",
    "\n",
    "            blob = self.bucket.get_blob(f\"{prefix}started.json\")\n",
    "            started = json.loads(blob.download_as_bytes())\n",
    "\n",
    "            blob = self.bucket.get_blob(f\"{prefix}build-log.txt\")\n",
    "            if blob:\n",
    "                length = blob.size\n",
    "                path = Builds.log_path_for(build_id)\n",
    "                if self.refresh and not os.path.exists(path):\n",
    "                    # Save a copy of the log itself, unless we already have it\n",
    "                    blob.download_to_filename(path)\n",
    "            else:\n",
    "                length = 0\n",
    "\n",
    "            row = {\n",
    "                \"result\": finished[\"result\"],\n",
    "                \"size\": length,\n",
    "                \"start\": started[\"timestamp\"],\n",
    "                \"end\": finished[\"timestamp\"],\n",
    "            }\n",
    "            self.df = self.df.append(pd.DataFrame(row, index=[build_id]))\n",
    "            if build_id > self.latest_build_id:\n",
    "                self.latest_build_id = build_id\n",
    "        print(\"Latest build is\", self.latest_build_id)\n",
    "\n",
    "    def save_metadata(self, overwrite=False):\n",
    "        \"\"\"Saves a copy of the metadata to a local CSV file\"\"\"\n",
    "        if os.path.exists(self.cache_file_name) and not overwrite:\n",
    "            print(f\"{self.cache_file_name} already exists\")\n",
    "            print(\"Use overwrite=True to overwrite\")\n",
    "            return\n",
    "        if not self.have_metadata():\n",
    "            # We don't have anything to save yet, fetch it\n",
    "            self.fetch_build_data()\n",
    "        print(f\"Saving build data to {self.cache_file_name}\")\n",
    "        self.df.to_csv(self.cache_file_name)\n",
    "\n",
    "    def load_metadata(self):\n",
    "        \"\"\"Loads the metadata DataFrame from a local CSV file\"\"\"\n",
    "        print(f\"Loading build data from {self.cache_file_name}\")\n",
    "        self.df = pd.read_csv(self.cache_file_name, index_col=0)\n",
    "        self.latest_build_id = self.df.index.max()\n",
    "\n",
    "    def have_metadata(self):\n",
    "        return self.df is not None and not self.df.empty\n",
    "\n",
    "    def get_metadata(self):\n",
    "        \"\"\"Returns a DataFrame with build metadata,\n",
    "        loading it from a previous save or downloading it\n",
    "        from google cloud\"\"\"\n",
    "        if not self.have_metadata():\n",
    "            if self.refresh:\n",
    "                self.fetch_build_data()\n",
    "            else:\n",
    "                self.load_metadata()\n",
    "        return self.df"
   ]
  },
  {
   "cell_type": "markdown",
   "id": "d4027e98",
   "metadata": {},
   "source": [
    "### Get data for a job"
   ]
  },
  {
   "cell_type": "markdown",
   "id": "b07c8812",
   "metadata": {},
   "source": [
    "Let's pick a specific job to work with.\n",
    "\n",
    "**NOTE**: pick only a *periodic* job for now. pre/post-submit jobs are not much different, but the code so far assumes a `/logs` prefix, and pre/post-submit jobs use e.g. `/pr-logs`."
   ]
  },
  {
   "cell_type": "code",
   "execution_count": 3,
   "id": "895916d8",
   "metadata": {
    "tags": []
   },
   "outputs": [],
   "source": [
    "job_name = \"periodic-ci-openshift-release-master-ci-4.8-e2e-gcp\""
   ]
  },
  {
   "cell_type": "markdown",
   "id": "8be996a6",
   "metadata": {
    "tags": []
   },
   "source": [
    "There are 3 options to load the information about job builds:\n",
    "\n",
    "1. Download everything (metadata and log files) from google cloud storage.\n",
    "2. Download the metadata but do not dowload the logs themselves.\n",
    "3. Load metadata from a local CSV file that has been created on a previous download.\n",
    "\n",
    "The local copy of the metadata can be saved by calling `save_metadata`. **NOTE**: any existing metadata copy will not be overwritten by defaut; call with `overwrite=True` to replace the existing cache."
   ]
  },
  {
   "cell_type": "code",
   "execution_count": 4,
   "id": "024b0b31",
   "metadata": {
    "jupyter": {
     "source_hidden": true
    },
    "tags": []
   },
   "outputs": [],
   "source": [
    "# Option 1: Refresh (re-download) all data, including log files:\n",
    "# builds = Builds(job_name, refresh=True)\n",
    "# builds.save_metadata(overwrite=True)\n",
    "\n",
    "# Option 2: Get fresh build metadata without downloading a copy of the logs\n",
    "# builds = Builds(job_name, refresh=False)\n",
    "# builds.fetch_build_data()\n",
    "# builds.save_metadata(overwrite=True)\n",
    "\n",
    "# Option 3: Load [cached] build information\n",
    "builds = Builds(job_name)"
   ]
  },
  {
   "cell_type": "markdown",
   "id": "f8459412",
   "metadata": {},
   "source": [
    "Let's get all the metadata (result, duration, build-log length) of all builds of that job.\n",
    "\n",
    "Note that if we set `refresh=True` above this will also download a copy of each build log locally."
   ]
  },
  {
   "cell_type": "code",
   "execution_count": 5,
   "id": "1319c44c",
   "metadata": {
    "jupyter": {
     "outputs_hidden": true,
     "source_hidden": true
    },
    "tags": []
   },
   "outputs": [
    {
     "name": "stdout",
     "output_type": "stream",
     "text": [
      "Loading build data from ../../../../data/raw/gcs/build-metadata/periodic-ci-openshift-release-master-ci-4.8-e2e-gcp_build-logs.csv\n"
     ]
    },
    {
     "data": {
      "text/html": [
       "<div>\n",
       "<style scoped>\n",
       "    .dataframe tbody tr th:only-of-type {\n",
       "        vertical-align: middle;\n",
       "    }\n",
       "\n",
       "    .dataframe tbody tr th {\n",
       "        vertical-align: top;\n",
       "    }\n",
       "\n",
       "    .dataframe thead th {\n",
       "        text-align: right;\n",
       "    }\n",
       "</style>\n",
       "<table border=\"1\" class=\"dataframe\">\n",
       "  <thead>\n",
       "    <tr style=\"text-align: right;\">\n",
       "      <th></th>\n",
       "      <th>size</th>\n",
       "      <th>duration</th>\n",
       "      <th>success</th>\n",
       "    </tr>\n",
       "  </thead>\n",
       "  <tbody>\n",
       "    <tr>\n",
       "      <th>1368338379971760128</th>\n",
       "      <td>5846974</td>\n",
       "      <td>4432</td>\n",
       "      <td>False</td>\n",
       "    </tr>\n",
       "    <tr>\n",
       "      <th>1372646746210963456</th>\n",
       "      <td>9785</td>\n",
       "      <td>5111</td>\n",
       "      <td>True</td>\n",
       "    </tr>\n",
       "    <tr>\n",
       "      <th>1375709011390763008</th>\n",
       "      <td>9962</td>\n",
       "      <td>4435</td>\n",
       "      <td>True</td>\n",
       "    </tr>\n",
       "    <tr>\n",
       "      <th>1380281977160077312</th>\n",
       "      <td>3841</td>\n",
       "      <td>9649</td>\n",
       "      <td>True</td>\n",
       "    </tr>\n",
       "    <tr>\n",
       "      <th>1385025333723402240</th>\n",
       "      <td>3868</td>\n",
       "      <td>5436</td>\n",
       "      <td>True</td>\n",
       "    </tr>\n",
       "    <tr>\n",
       "      <th>...</th>\n",
       "      <td>...</td>\n",
       "      <td>...</td>\n",
       "      <td>...</td>\n",
       "    </tr>\n",
       "    <tr>\n",
       "      <th>1381826019446493184</th>\n",
       "      <td>3837</td>\n",
       "      <td>4778</td>\n",
       "      <td>True</td>\n",
       "    </tr>\n",
       "    <tr>\n",
       "      <th>1371068681810874368</th>\n",
       "      <td>9782</td>\n",
       "      <td>4804</td>\n",
       "      <td>True</td>\n",
       "    </tr>\n",
       "    <tr>\n",
       "      <th>1377999575511470080</th>\n",
       "      <td>12329</td>\n",
       "      <td>4855</td>\n",
       "      <td>True</td>\n",
       "    </tr>\n",
       "    <tr>\n",
       "      <th>1369750447904002048</th>\n",
       "      <td>6467331</td>\n",
       "      <td>4742</td>\n",
       "      <td>False</td>\n",
       "    </tr>\n",
       "    <tr>\n",
       "      <th>1382368829539094528</th>\n",
       "      <td>3840</td>\n",
       "      <td>4903</td>\n",
       "      <td>True</td>\n",
       "    </tr>\n",
       "  </tbody>\n",
       "</table>\n",
       "<p>837 rows × 3 columns</p>\n",
       "</div>"
      ],
      "text/plain": [
       "                        size  duration  success\n",
       "1368338379971760128  5846974      4432    False\n",
       "1372646746210963456     9785      5111     True\n",
       "1375709011390763008     9962      4435     True\n",
       "1380281977160077312     3841      9649     True\n",
       "1385025333723402240     3868      5436     True\n",
       "...                      ...       ...      ...\n",
       "1381826019446493184     3837      4778     True\n",
       "1371068681810874368     9782      4804     True\n",
       "1377999575511470080    12329      4855     True\n",
       "1369750447904002048  6467331      4742    False\n",
       "1382368829539094528     3840      4903     True\n",
       "\n",
       "[837 rows x 3 columns]"
      ]
     },
     "execution_count": 5,
     "metadata": {},
     "output_type": "execute_result"
    }
   ],
   "source": [
    "df = builds.get_metadata()\n",
    "\n",
    "# Remove builds that simply erroed\n",
    "build_errors = df[df[\"result\"] == \"error\"].index\n",
    "df.drop(build_errors, inplace=True)\n",
    "\n",
    "# From timestamps to job duration\n",
    "df[\"duration\"] = df[\"end\"] - df[\"start\"]\n",
    "del df[\"start\"]\n",
    "del df[\"end\"]\n",
    "\n",
    "# A boolean version of the result\n",
    "df[\"success\"] = df[\"result\"] == \"SUCCESS\"\n",
    "del df[\"result\"]\n",
    "\n",
    "df"
   ]
  },
  {
   "cell_type": "markdown",
   "id": "758399ae",
   "metadata": {},
   "source": [
    "## Overview of the metadata"
   ]
  },
  {
   "cell_type": "code",
   "execution_count": 6,
   "id": "2ef509c6",
   "metadata": {
    "jupyter": {
     "source_hidden": true
    }
   },
   "outputs": [
    {
     "name": "stdout",
     "output_type": "stream",
     "text": [
      "success: 479 PASS and 358 FAIL\n"
     ]
    },
    {
     "data": {
      "text/html": [
       "<div>\n",
       "<style scoped>\n",
       "    .dataframe tbody tr th:only-of-type {\n",
       "        vertical-align: middle;\n",
       "    }\n",
       "\n",
       "    .dataframe tbody tr th {\n",
       "        vertical-align: top;\n",
       "    }\n",
       "\n",
       "    .dataframe thead th {\n",
       "        text-align: right;\n",
       "    }\n",
       "</style>\n",
       "<table border=\"1\" class=\"dataframe\">\n",
       "  <thead>\n",
       "    <tr style=\"text-align: right;\">\n",
       "      <th></th>\n",
       "      <th>size</th>\n",
       "      <th>duration</th>\n",
       "    </tr>\n",
       "  </thead>\n",
       "  <tbody>\n",
       "    <tr>\n",
       "      <th>count</th>\n",
       "      <td>837.00</td>\n",
       "      <td>837.00</td>\n",
       "    </tr>\n",
       "    <tr>\n",
       "      <th>mean</th>\n",
       "      <td>3223683.72</td>\n",
       "      <td>5214.82</td>\n",
       "    </tr>\n",
       "    <tr>\n",
       "      <th>std</th>\n",
       "      <td>5112869.50</td>\n",
       "      <td>1558.29</td>\n",
       "    </tr>\n",
       "    <tr>\n",
       "      <th>min</th>\n",
       "      <td>92.00</td>\n",
       "      <td>4.00</td>\n",
       "    </tr>\n",
       "    <tr>\n",
       "      <th>25%</th>\n",
       "      <td>3872.00</td>\n",
       "      <td>4460.00</td>\n",
       "    </tr>\n",
       "    <tr>\n",
       "      <th>50%</th>\n",
       "      <td>9883.00</td>\n",
       "      <td>4785.00</td>\n",
       "    </tr>\n",
       "    <tr>\n",
       "      <th>75%</th>\n",
       "      <td>7329272.00</td>\n",
       "      <td>5436.00</td>\n",
       "    </tr>\n",
       "    <tr>\n",
       "      <th>max</th>\n",
       "      <td>37896258.00</td>\n",
       "      <td>15294.00</td>\n",
       "    </tr>\n",
       "  </tbody>\n",
       "</table>\n",
       "</div>"
      ],
      "text/plain": [
       "             size  duration\n",
       "count      837.00    837.00\n",
       "mean   3223683.72   5214.82\n",
       "std    5112869.50   1558.29\n",
       "min         92.00      4.00\n",
       "25%       3872.00   4460.00\n",
       "50%       9883.00   4785.00\n",
       "75%    7329272.00   5436.00\n",
       "max   37896258.00  15294.00"
      ]
     },
     "execution_count": 6,
     "metadata": {},
     "output_type": "execute_result"
    }
   ],
   "source": [
    "print(f\"success: {df.success.sum()} PASS and {(~df.success).sum()} FAIL\")\n",
    "df.describe()"
   ]
  },
  {
   "cell_type": "markdown",
   "id": "12d3862b",
   "metadata": {},
   "source": [
    "And a graphical overview of the distributions:"
   ]
  },
  {
   "cell_type": "code",
   "execution_count": 7,
   "id": "32e3a9f5",
   "metadata": {},
   "outputs": [
    {
     "data": {
      "image/png": "[encoded data removed]",
      "text/plain": [
       "<Figure size 1080x360 with 3 Axes>"
      ]
     },
     "metadata": {},
     "output_type": "display_data"
    }
   ],
   "source": [
    "fig, axs = plt.subplots(1, 3, figsize=(15, 5))\n",
    "axs[0].hist(df[\"size\"], log=True, bins=30)\n",
    "axs[0].set_xlabel(\"build log length (bytes)\")\n",
    "axs[1].hist(df[\"duration\"], bins=30)\n",
    "axs[1].set_xlabel(\"job duration (seconds)\")\n",
    "results = [df.success.sum(), (~df.success).sum()]\n",
    "axs[2].pie(results, autopct=\"%1.1f%%\", labels=[\"Pass\", \"Fail\"], colors=[\"green\", \"red\"])\n",
    "axs[2].set_xlabel(\"job result\")\n",
    "plt.show()"
   ]
  },
  {
   "cell_type": "markdown",
   "id": "2e049036",
   "metadata": {},
   "source": [
    "We can see that the build log sizes go from very short (a few bytes log) to quite long (a few megabytes). By looking at the median (50%) we see that most of them stay on the relatively small side, but the ones that get log do get significantly bigger. Note that the axis for log lenght are in a logarithmic scale, to better accomodate this.\n",
    "\n",
    "We will find out why by looking at the relationship between the features:"
   ]
  },
  {
   "cell_type": "code",
   "execution_count": 8,
   "id": "171203b5",
   "metadata": {
    "jupyter": {
     "source_hidden": true
    }
   },
   "outputs": [
    {
     "data": {
      "image/png": "[encoded data removed]",
      "text/plain": [
       "<Figure size 432x288 with 1 Axes>"
      ]
     },
     "metadata": {},
     "output_type": "display_data"
    }
   ],
   "source": [
    "plt.plot(\"size\", \"duration\", \"go\", data=df[df.success], alpha=0.1, label=\"Pass\")\n",
    "plt.plot(\"size\", \"duration\", \"ro\", data=df[~df.success], alpha=0.1, label=\"Fail\")\n",
    "plt.xscale(\"log\")\n",
    "plt.xlabel(\"build-log size (bytes)\")\n",
    "plt.ylabel(\"duration (seconds)\")\n",
    "plt.legend()\n",
    "plt.show()"
   ]
  },
  {
   "cell_type": "markdown",
   "id": "d0045188",
   "metadata": {},
   "source": [
    "Here we can notice a few interesting things:\n",
    "\n",
    "- There is a strong correlation between a build's `build-log` size and its result.\n",
    "- Successful job runs have a very consistent build log length.\n",
    "- A build's duration also has a relationship with the results: a duration under a certain threshold indicates a failure before tests could start, e.g. install or infrastructure issues.\n",
    "\n",
    "All in all, we can appreciate that it seems to be quite possible to classify build results based on their log size and duration."
   ]
  },
  {
   "cell_type": "markdown",
   "id": "8e6b58aa",
   "metadata": {},
   "source": [
    "## Log samples"
   ]
  },
  {
   "cell_type": "markdown",
   "id": "d5eb6a49",
   "metadata": {},
   "source": [
    "Now let's take a look at the contents of the build logs.\n",
    "\n",
    "### Latest build's head\n",
    "\n",
    "This is the beginning of the latest build's `build-log.txt`:"
   ]
  },
  {
   "cell_type": "code",
   "execution_count": 9,
   "id": "a7fd6b72",
   "metadata": {
    "jupyter": {
     "source_hidden": true
    }
   },
   "outputs": [
    {
     "name": "stdout",
     "output_type": "stream",
     "text": [
      "Build URL: https://prow.ci.openshift.org/view/gcs/origin-ci-test/logs/periodic-ci-openshift-release-master-ci-4.8-e2e-gcp/1387498929158885376 \n",
      "\n",
      "\u001b[36mINFO\u001b[0m[2021-04-28T20:08:36Z] ci-operator version v20210428-04f6984        \n",
      "\u001b[36mINFO\u001b[0m[2021-04-28T20:08:36Z] Loading configuration from https://config.ci.openshift.org for openshift/release@master [ci-4.8] \n",
      "\u001b[36mINFO\u001b[0m[2021-04-28T20:08:37Z] Resolved SHA missing for master in https://github.com/openshift/release (will prevent caching) \n",
      "\u001b[36mINFO\u001b[0m[2021-04-28T20:08:37Z] Resolved release initial to registry.ci.openshift.org/ocp/release:4.8.0-0.ci-2021-04-27-075557 \n",
      "\u001b[36mINFO\u001b[0m[2021-04-28T20:08:37Z] Using explicitly provided pull-spec for release latest (registry.ci.openshift.org/ocp/release:4.8.0-0.ci-2021-04-28-200224) \n",
      "\u001b[36mINFO\u001b[0m[2021-04-28T20:08:37Z] Using namespace https://console.build01.ci.openshift.org/k8s/cluster/projects/ci-op-ptfyqcy5 \n",
      "\u001b[36mINFO\u001b[0m[2021-04-28T20:08:37Z] Running [input:origin-centos-8], [input:ocp-4.5-upi-installer], [release:latest], [images], e2e-gcp \n",
      "\u001b[36mINFO\u001b[0m[2021-04-28T20:08:38Z] Tagging ocp/4.5:upi-installer into pipeline:ocp-4.5-upi-installer. \n",
      "\u001b[36mINFO\u001b[0m[2021-04-28T20:08:38Z] Tagging origin/centos:8 into pipeline:origin-centos-8. \n",
      "\u001b[36mINFO\u001b[0m[2021-04-28T20:08:38Z] Importing release image latest.              \n",
      "\u001b[36mINFO\u001b[0m[2021-04-28T20:11:42Z] Imported release 4.8.0-0.ci-2021-04-28-200224 created at 2021-04-28 20:04:24 +0000 UTC with 140 images to tag release:latest \n",
      "\u001b[36mINFO\u001b[0m[2021-04-28T20:11:42Z] Acquiring leases for test e2e-gcp            \n",
      "\u001b[36mINFO\u001b[0m[2021-04-28T20:11:42Z] Running multi-stage test e2e-gcp             \n",
      "\u001b[36mINFO\u001b[0m[2021-04-28T20:11:42Z] Running step e2e-gcp-ipi-conf.               \n",
      "\u001b[36mINFO\u001b[0m[2021-04-28T20:11:52Z] Step e2e-gcp-ipi-conf succeeded after 10s.   \n",
      "\u001b[36mINFO\u001b[0m[2021-04-28T20:11:52Z] Running step e2e-gcp-ipi-conf-gcp.           \n",
      "\u001b[36mINFO\u001b[0m[2021-04-28T20:12:02Z] Step e2e-gcp-ipi-conf-gcp succeeded after 10s. \n",
      "\u001b[36mINFO\u001b[0m[2021-04-28T20:12:02Z] Running step e2e-gcp-ipi-install-monitoringpvc. \n",
      "\u001b[36mINFO\u001b[0m[2021-04-28T20:12:12Z] Step e2e-gcp-ipi-install-monitoringpvc succeeded after 10s. \n"
     ]
    }
   ],
   "source": [
    "print(\"Build URL:\", builds.prow_url_for(builds.latest_build_id), \"\\n\")\n",
    "\n",
    "path = Builds.log_path_for(builds.latest_build_id)\n",
    "with open(path) as f:\n",
    "    lines = f.readlines(2000)\n",
    "\n",
    "for line in lines:\n",
    "    print(line, end=\"\")"
   ]
  },
  {
   "cell_type": "markdown",
   "id": "25df65f9",
   "metadata": {},
   "source": [
    "**NOTE**: pretty output with colored log level is a recent addition as of this writing ([PR 1836](https://github.com/openshift/ci-tools/pull/1836), merged 2021-04-05). This change altered the formatting of all build logs (from the change onwards, of course; previous builds' logs have a different format). May this serve as an example of the type of diversity and unexpected output we need to handle.\n",
    "\n",
    "### Full log of a successful job\n",
    "\n",
    "When we looked at the metadata, we saw that all the successful builds have a similar lenght. Let's look at one of them:"
   ]
  },
  {
   "cell_type": "code",
   "execution_count": 10,
   "id": "05caf7ef",
   "metadata": {},
   "outputs": [
    {
     "name": "stdout",
     "output_type": "stream",
     "text": [
      "Full log of a successful build:  1378441280396201984\n",
      "Build URL: https://prow.ci.openshift.org/view/gcs/origin-ci-test/logs/periodic-ci-openshift-release-master-ci-4.8-e2e-gcp/1378441280396201984\n",
      "Raw log URL: https://storage.googleapis.com/origin-ci-test/logs/periodic-ci-openshift-release-master-ci-4.8-e2e-gcp/1378441280396201984/build-log.txt \n",
      "\n",
      "time=\"2021-04-03T20:16:31Z\" level=info msg=\"ci-operator version v20210402-7d9fcd2\"\n",
      "time=\"2021-04-03T20:16:31Z\" level=info msg=\"Loading configuration from https://config.ci.openshift.org for openshift/release@master [ci-4.8]\"\n",
      "time=\"2021-04-03T20:16:31Z\" level=info msg=\"Resolved source https://github.com/openshift/release to master@\"\n",
      "time=\"2021-04-03T20:16:31Z\" level=info msg=\"Resolved release initial to registry.ci.openshift.org/ocp/release:4.8.0-0.ci-2021-04-02-173758\"\n",
      "time=\"2021-04-03T20:16:31Z\" level=info msg=\"Using explicitly provided pull-spec for release latest (registry.ci.openshift.org/ocp/release:4.8.0-0.ci-2021-04-03-201542)\"\n",
      "time=\"2021-04-03T20:16:32Z\" level=info msg=\"Using namespace https://console.build02.ci.openshift.org/k8s/cluster/projects/ci-op-8ps2vgf0\"\n",
      "time=\"2021-04-03T20:16:32Z\" level=info msg=\"Running [input:origin-centos-8], [input:ocp-4.5-upi-installer], [release:latest], [images], e2e-gcp\"\n",
      "time=\"2021-04-03T20:16:33Z\" level=info msg=\"Tagging origin/centos:8 into pipeline:origin-centos-8.\"\n",
      "time=\"2021-04-03T20:16:33Z\" level=info msg=\"Tagging ocp/4.5:upi-installer into pipeline:ocp-4.5-upi-installer.\"\n",
      "time=\"2021-04-03T20:16:33Z\" level=info msg=\"Importing release image latest.\"\n",
      "time=\"2021-04-03T20:18:03Z\" level=info msg=\"Imported release 4.8.0-0.ci-2021-04-03-201542 created at 2021-04-03 20:15:59 +0000 UTC with 137 images to tag release:latest\"\n",
      "time=\"2021-04-03T20:18:03Z\" level=info msg=\"Acquiring leases for test e2e-gcp\"\n",
      "time=\"2021-04-03T20:18:03Z\" level=info msg=\"Running multi-stage test e2e-gcp\"\n",
      "time=\"2021-04-03T20:18:03Z\" level=info msg=\"Running step e2e-***-ipi-conf.\"\n",
      "time=\"2021-04-03T20:18:13Z\" level=info msg=\"Step e2e-***-ipi-conf succeeded after 10.043593091s.\"\n",
      "time=\"2021-04-03T20:18:13Z\" level=info msg=\"Running step e2e-***-ipi-conf-***.\"\n",
      "time=\"2021-04-03T20:18:23Z\" level=info msg=\"Step e2e-***-ipi-conf-*** succeeded after 10.06050712s.\"\n",
      "time=\"2021-04-03T20:18:23Z\" level=info msg=\"Running step e2e-***-ipi-install-monitoringpvc.\"\n",
      "time=\"2021-04-03T20:18:33Z\" level=info msg=\"Step e2e-***-ipi-install-monitoringpvc succeeded after 10.092816083s.\"\n",
      "time=\"2021-04-03T20:18:33Z\" level=info msg=\"Running step e2e-***-ipi-install-rbac.\"\n",
      "time=\"2021-04-03T20:18:43Z\" level=info msg=\"Step e2e-***-ipi-install-rbac succeeded after 10.064313278s.\"\n",
      "time=\"2021-04-03T20:18:43Z\" level=info msg=\"Running step e2e-***-ipi-install-install.\"\n",
      "time=\"2021-04-03T20:50:53Z\" level=info msg=\"Step e2e-***-ipi-install-install succeeded after 32m10.048191864s.\"\n",
      "time=\"2021-04-03T20:50:53Z\" level=info msg=\"Running step e2e-***-openshift-e2e-test.\"\n",
      "time=\"2021-04-03T21:18:23Z\" level=info msg=\"Step e2e-***-openshift-e2e-test succeeded after 27m30.068558431s.\"\n",
      "time=\"2021-04-03T21:18:23Z\" level=info msg=\"Running step e2e-***-gather-core-dump.\"\n",
      "time=\"2021-04-03T21:18:43Z\" level=info msg=\"Step e2e-***-gather-core-dump succeeded after 20.08649363s.\"\n",
      "time=\"2021-04-03T21:18:43Z\" level=info msg=\"Running step e2e-***-gather-***-console.\"\n",
      "time=\"2021-04-03T21:19:34Z\" level=info msg=\"Step e2e-***-gather-***-console succeeded after 50.054776703s.\"\n",
      "time=\"2021-04-03T21:19:34Z\" level=info msg=\"Running step e2e-***-gather-must-gather.\"\n",
      "time=\"2021-04-03T21:23:04Z\" level=info msg=\"Step e2e-***-gather-must-gather succeeded after 3m30.054931144s.\"\n",
      "time=\"2021-04-03T21:23:04Z\" level=info msg=\"Running step e2e-***-gather-extra.\"\n",
      "time=\"2021-04-03T21:25:04Z\" level=info msg=\"Step e2e-***-gather-extra succeeded after 2m0.055763349s.\"\n",
      "time=\"2021-04-03T21:25:04Z\" level=info msg=\"Running step e2e-***-gather-audit-logs.\"\n",
      "time=\"2021-04-03T21:26:04Z\" level=info msg=\"Step e2e-***-gather-audit-logs succeeded after 1m0.054968828s.\"\n",
      "time=\"2021-04-03T21:26:04Z\" level=info msg=\"Running step e2e-***-ipi-deprovision-deprovision.\"\n",
      "time=\"2021-04-03T21:30:44Z\" level=info msg=\"Step e2e-***-ipi-deprovision-deprovision succeeded after 4m40.050907857s.\"\n",
      "time=\"2021-04-03T21:30:44Z\" level=info msg=\"Releasing leases for test e2e-***\"\n",
      "time=\"2021-04-03T21:30:44Z\" level=info msg=\"Ran for 1h14m12s\"\n",
      "time=\"2021-04-03T21:30:44Z\" level=info msg=\"Reporting job state 'succeeded'\"\n"
     ]
    }
   ],
   "source": [
    "sample_pass = df[df.success].sample(random_state=1).index.item()\n",
    "\n",
    "print(\"Full log of a successful build: \", sample_pass)\n",
    "print(\"Build URL:\", builds.prow_url_for(sample_pass))\n",
    "print(\"Raw log URL:\", builds.build_log_url_for(sample_pass), \"\\n\")\n",
    "\n",
    "path = Builds.log_path_for(sample_pass)\n",
    "with open(path) as f:\n",
    "    lines = f.readlines()\n",
    "\n",
    "for line in lines:\n",
    "    print(line, end=\"\")"
   ]
  },
  {
   "cell_type": "markdown",
   "id": "0680ac6f",
   "metadata": {},
   "source": [
    "Successful jobs tend to have quite similar contents, essentially enumerating the steps that are being followed and reporting their success.\n",
    "\n",
    "While they are all similar, note the differences in output format, and also format differences within the log file itself.\n",
    "\n",
    "### Failed job output\n",
    "\n",
    "When there are failures, the log output of the step that failed is added to the build log. This is why we see the significant differences in log lenghts, and why logs from failed jobs tend to be longer. Or, if the problem occurs during the preparatory steps, we get shorter logs as we saw in the metadata overview.\n",
    "\n",
    "Let's look at some failed builds' logs. Because these can be huge, we only look at a few lines around the middle of the log file, which is enough to notice that they contain different types of logs than a successful build; they also differ between each other.\n",
    "\n",
    "**NOTE**: a representative sample was handpicked from builds I had downloaded. To reproduce this, just uncomment the line below that sets `failed_buids` to be a random sample of the data you currently have; re-running the cell a few times should show the diversity of these logs."
   ]
  },
  {
   "cell_type": "code",
   "execution_count": 11,
   "id": "30cd702c",
   "metadata": {
    "jupyter": {
     "source_hidden": true
    },
    "scrolled": false
   },
   "outputs": [
    {
     "name": "stdout",
     "output_type": "stream",
     "text": [
      "\n",
      ">> BUILD 1372555706749685760\n",
      ">> BUILD URL: https://prow.ci.openshift.org/view/gcs/origin-ci-test/logs/periodic-ci-openshift-release-master-ci-4.8-e2e-gcp/1372555706749685760\n",
      ">> RAW LOG URL: https://storage.googleapis.com/origin-ci-test/logs/periodic-ci-openshift-release-master-ci-4.8-e2e-gcp/1372555706749685760/build-log.txt \n",
      "\n",
      "2021/03/18 14:29:22 Setting up pipeline imagestream for the test\n",
      "2021/03/18 14:29:22 Updated secret ci-pull-credentials\n",
      "2021/03/18 14:29:22 Created secret e2e-gcp-cluster-profile\n",
      "2021/03/18 14:29:22 Created PDB for pods with openshift.io/build.name label\n",
      "2021/03/18 14:29:22 Created PDB for pods with created-by-ci label\n",
      "2021/03/18 14:29:22 Tagging origin/centos:8 into pipeline:origin-centos-8\n",
      "2021/03/18 14:29:22 Tagging ocp/4.5:upi-installer into pipeline:ocp-4.5-upi-installer\n",
      "2021/03/18 14:29:22 Importing release image latest\n",
      "2021/03/18 14:29:23 Executing pod \"release-images-latest-cli\" running image \"release:latest\"\n",
      "2021/03/18 14:29:33 Executing pod \"release-images-latest\" running image \"stable:cli\"\n",
      "2021/03/18 14:30:50 Imported release 4.8.0-0.ci-2021-03-18-142508 created at 2021-03-18 14:25:55 +0000 UTC with 132 images to tag release:latest\n",
      "2021/03/18 14:30:50 Acquiring leases for \"e2e-gcp\"\n",
      "2021/03/18 14:30:50 Acquiring 1 lease(s) for \"gcp-quota-slice\"\n",
      "2021/03/18 16:30:50 error: Failed to acquire resource, current capacity: 0 free, 70 leased\n",
      "2021/03/18 16:30:50 No custom metadata found and prow metadata already exists. Not updating the metadata.\n",
      "2021/03/18 16:30:50 Ran for 2h1m28s\n",
      "error: some steps failed:\n",
      "  * could not run steps: step e2e-gcp failed: failed to acquire lease: resources not found\n",
      "time=\"2021-03-18T16:30:50Z\" level=info msg=\"Reporting job state 'failed' with reason 'executing_graph:step_failed:utilizing_lease'\"\n",
      "\n",
      ">> BUILD 1380185997530107904\n",
      ">> BUILD URL: https://prow.ci.openshift.org/view/gcs/origin-ci-test/logs/periodic-ci-openshift-release-master-ci-4.8-e2e-gcp/1380185997530107904\n",
      ">> RAW LOG URL: https://storage.googleapis.com/origin-ci-test/logs/periodic-ci-openshift-release-master-ci-4.8-e2e-gcp/1380185997530107904/build-log.txt \n",
      "\n",
      "\u001b[36mINFO\u001b[0m[2021-04-08T15:49:27Z] Tagging ocp/4.5:upi-installer into pipeline:ocp-4.5-upi-installer. \n",
      "\u001b[36mINFO\u001b[0m[2021-04-08T15:49:27Z] Importing release image latest.              \n",
      "\u001b[36mINFO\u001b[0m[2021-04-08T15:52:09Z] Imported release 4.8.0-0.ci-2021-04-08-154429 created at 2021-04-08 15:48:46 +0000 UTC with 138 images to tag release:latest \n",
      "\u001b[36mINFO\u001b[0m[2021-04-08T15:52:09Z] Acquiring leases for test e2e-gcp            \n",
      "\u001b[31mERRO\u001b[0m[2021-04-08T17:52:09Z] error: Failed to acquire resource, current capacity: 0 free, 70 leased \n",
      "\u001b[36mINFO\u001b[0m[2021-04-08T17:52:09Z] Ran for 2h2m43s                              \n",
      "\u001b[31mERRO\u001b[0m[2021-04-08T17:52:09Z] Some steps failed:                           \n",
      "\u001b[31mERRO\u001b[0m[2021-04-08T17:52:09Z]   * could not run steps: step e2e-gcp failed: failed to acquire lease: resources not found \n",
      "\n",
      ">> BUILD 1375113030177656832\n",
      ">> BUILD URL: https://prow.ci.openshift.org/view/gcs/origin-ci-test/logs/periodic-ci-openshift-release-master-ci-4.8-e2e-gcp/1375113030177656832\n",
      ">> RAW LOG URL: https://storage.googleapis.com/origin-ci-test/logs/periodic-ci-openshift-release-master-ci-4.8-e2e-gcp/1375113030177656832/build-log.txt \n",
      "\n",
      "level=error msg=https://docs.openshift.com/container-platform/latest/support/troubleshooting/troubleshooting-installations.html\n",
      "level=error msg=The 'wait-for install-complete' subcommand can then be used to continue the installation\n",
      "level=fatal msg=failed to initialize the cluster: Working towards 4.8.0-0.ci-2021-03-25-155021: 687 of 689 done (99% complete), waiting on cloud-controller-manager\n",
      "Setup phase finished, prepare env for next steps\n",
      "Copying log bundle...\n",
      "Removing REDACTED info from log...\n",
      "Copying required artifacts to shared dir\n",
      "{\"component\":\"entrypoint\",\"error\":\"wrapped process failed: exit status 1\",\"file\":\"prow/entrypoint/run.go:80\",\"func\":\"k8s.io/test-infra/prow/entrypoint.Options.Run\",\"level\":\"error\",\"msg\":\"Error executing test process\",\"severity\":\"error\",\"time\":\"2021-03-25T18:31:04Z\"}\n",
      "error: failed to execute wrapped command: exit status 1\n",
      "2021/03/25 18:31:09 Container test in pod e2e-gcp-ipi-install-install failed, exit code 1, reason Error\n",
      "2021/03/25 18:31:09 Executing pod \"e2e-gcp-gather-core-dump\" running image \"stable:cli\"\n",
      "2021/03/25 18:31:20 Container place-entrypoint in pod e2e-gcp-gather-core-dump completed successfully\n",
      "2021/03/25 18:31:20 Container cp-entrypoint-wrapper in pod e2e-gcp-gather-core-dump completed successfully\n",
      "2021/03/25 18:31:50 Container sidecar in pod e2e-gcp-gather-core-dump completed successfully\n",
      "2021/03/25 18:31:50 Container test in pod e2e-gcp-gather-core-dump completed successfully\n",
      "2021/03/25 18:31:50 Pod e2e-gcp-gather-core-dump succeeded after 31s\n",
      "2021/03/25 18:31:50 Executing pod \"e2e-gcp-gather-gcp-console\" running image \"pipeline:ocp-4.5-upi-installer\"\n",
      "2021/03/25 18:32:00 Container place-entrypoint in pod e2e-gcp-gather-gcp-console completed successfully\n",
      "2021/03/25 18:32:00 Container cp-entrypoint-wrapper in pod e2e-gcp-gather-gcp-console completed successfully\n",
      "2021/03/25 18:32:40 Container test in pod e2e-gcp-gather-gcp-console completed successfully\n",
      "2021/03/25 18:32:50 Container sidecar in pod e2e-gcp-gather-gcp-console completed successfully\n",
      "2021/03/25 18:32:50 Pod e2e-gcp-gather-gcp-console succeeded after 49s\n",
      "2021/03/25 18:32:50 Executing pod \"e2e-gcp-gather-must-gather\" running image \"stable:cli\"\n",
      "2021/03/25 18:33:00 Container place-entrypoint in pod e2e-gcp-gather-must-gather completed successfully\n",
      "2021/03/25 18:33:00 Container cp-entrypoint-wrapper in pod e2e-gcp-gather-must-gather completed successfully\n",
      "2021/03/25 18:36:00 Container test in pod e2e-gcp-gather-must-gather completed successfully\n",
      "\n",
      ">> BUILD 1383399218122592256\n",
      ">> BUILD URL: https://prow.ci.openshift.org/view/gcs/origin-ci-test/logs/periodic-ci-openshift-release-master-ci-4.8-e2e-gcp/1383399218122592256\n",
      ">> RAW LOG URL: https://storage.googleapis.com/origin-ci-test/logs/periodic-ci-openshift-release-master-ci-4.8-e2e-gcp/1383399218122592256/build-log.txt \n",
      "\n",
      "\u001b[36mINFO\u001b[0m[2021-04-17T13:43:59Z] Apr 17 13:19:49.383 I ns/e2e-nettest-6790 pod/netserver-1 node/ reason/Created \n",
      "\u001b[36mINFO\u001b[0m[2021-04-17T13:43:59Z] Apr 17 13:19:49.410 I ns/e2e-nettest-6790 pod/netserver-0 node/ci-op-tf25ybz0-f23e1-vhknz-worker-b-sflfq reason/Scheduled \n",
      "\u001b[36mINFO\u001b[0m[2021-04-17T13:43:59Z] Apr 17 13:19:49.442 E ns/e2e-statefulset-4735 pod/test-pod node/ci-op-tf25ybz0-f23e1-vhknz-worker-b-sflfq container/webserver container exited with code 1 (Error):  \n",
      "\u001b[36mINFO\u001b[0m[2021-04-17T13:43:59Z] Apr 17 13:19:49.456 I ns/e2e-nettest-6790 pod/netserver-2 node/ reason/Created \n",
      "\u001b[36mINFO\u001b[0m[2021-04-17T13:43:59Z] Apr 17 13:19:49.473 I ns/e2e-nettest-6790 pod/netserver-1 node/ci-op-tf25ybz0-f23e1-vhknz-worker-c-85q2g reason/Scheduled \n",
      "\u001b[36mINFO\u001b[0m[2021-04-17T13:43:59Z] Apr 17 13:19:49.517 E ns/e2e-statefulset-4735 pod/ss-0 node/ci-op-tf25ybz0-f23e1-vhknz-worker-b-sflfq reason/Failed (NodePorts): Pod Predicate NodePorts failed \n",
      "\u001b[36mINFO\u001b[0m[2021-04-17T13:43:59Z] Apr 17 13:19:49.610 I ns/e2e-nettest-6790 pod/netserver-2 node/ci-op-tf25ybz0-f23e1-vhknz-worker-d-ksn4v reason/Scheduled \n",
      "\u001b[36mINFO\u001b[0m[2021-04-17T13:43:59Z] Apr 17 13:19:49.632 W ns/e2e-statefulset-4735 pod/ss-0 node/ci-op-tf25ybz0-f23e1-vhknz-worker-b-sflfq reason/GracefulDelete in 0s \n",
      "\u001b[36mINFO\u001b[0m[2021-04-17T13:43:59Z] Apr 17 13:19:49.672 W ns/e2e-statefulset-4735 pod/ss-0 node/ci-op-tf25ybz0-f23e1-vhknz-worker-b-sflfq reason/Deleted \n",
      "\u001b[36mINFO\u001b[0m[2021-04-17T13:43:59Z] Apr 17 13:19:49.723 I ns/e2e-statefulset-4735 pod/ss-0 node/ci-op-tf25ybz0-f23e1-vhknz-worker-b-sflfq reason/Created \n",
      "\u001b[36mINFO\u001b[0m[2021-04-17T13:43:59Z] Apr 17 13:19:49.737 I ns/e2e-volumemode-5842-6017 pod/csi-hostpath-snapshotter-0 node/ci-op-tf25ybz0-f23e1-vhknz-worker-b-sflfq container/csi-snapshotter reason/Ready \n",
      "\u001b[36mINFO\u001b[0m[2021-04-17T13:43:59Z] Apr 17 13:19:49.982 E ns/e2e-statefulset-4735 pod/ss-0 node/ci-op-tf25ybz0-f23e1-vhknz-worker-b-sflfq reason/Failed (NodePorts): Pod Predicate NodePorts failed \n",
      "\u001b[36mINFO\u001b[0m[2021-04-17T13:43:59Z] Apr 17 13:19:50.000 I ns/e2e-network-policy-8642 pod/client-b-hd6c9 node/ci-op-tf25ybz0-f23e1-vhknz-worker-d-ksn4v container/client reason/Created \n",
      "\u001b[36mINFO\u001b[0m[2021-04-17T13:43:59Z] Apr 17 13:19:50.000 I ns/e2e-network-policy-8642 pod/client-b-hd6c9 node/ci-op-tf25ybz0-f23e1-vhknz-worker-d-ksn4v container/client reason/Started \n",
      "\u001b[36mINFO\u001b[0m[2021-04-17T13:43:59Z] Apr 17 13:19:50.000 I ns/e2e-init-container-8983 pod/pod-init-a9d79f8a-1345-470d-809a-7187e250b285 node/ci-op-tf25ybz0-f23e1-vhknz-worker-c-85q2g container/init1 reason/Created \n",
      "\n",
      ">> BUILD 1375882831099596800\n",
      ">> BUILD URL: https://prow.ci.openshift.org/view/gcs/origin-ci-test/logs/periodic-ci-openshift-release-master-ci-4.8-e2e-gcp/1375882831099596800\n",
      ">> RAW LOG URL: https://storage.googleapis.com/origin-ci-test/logs/periodic-ci-openshift-release-master-ci-4.8-e2e-gcp/1375882831099596800/build-log.txt \n",
      "\n",
      "When opening a support case, bugzilla, or issue please include the following summary data along with any other requested information.\n",
      "error getting cluster version: Get \"https://api.ci-op-5zgvkrl1-f23e1.origin-ci-int-gce.dev.openshift.com:6443/apis/config.openshift.io/v1/clusterversions/version\": dial tcp 35.231.173.152:6443: i/o timeout\n",
      "ClusterID: \n",
      "ClusterVersion: Installing \"\" for <unknown>: <unknown>\n",
      "error getting cluster operators: Get \"https://api.ci-op-5zgvkrl1-f23e1.origin-ci-int-gce.dev.openshift.com:6443/apis/config.openshift.io/v1/clusteroperators\": dial tcp 35.231.173.152:6443: i/o timeout\n",
      "ClusterOperators:\n",
      "\tclusteroperators are missing\n",
      "\n",
      "\n",
      "\n",
      "\n",
      "When opening a support case, bugzilla, or issue please include the following summary data along with any other requested information.\n",
      "error getting cluster version: Get \"https://api.ci-op-5zgvkrl1-f23e1.origin-ci-int-gce.dev.openshift.com:6443/apis/config.openshift.io/v1/clusterversions/version\": dial tcp 35.231.173.152:6443: i/o timeout\n",
      "ClusterID: \n",
      "ClusterVersion: Installing \"\" for <unknown>: <unknown>\n",
      "error getting cluster operators: Get \"https://api.ci-op-5zgvkrl1-f23e1.origin-ci-int-gce.dev.openshift.com:6443/apis/config.openshift.io/v1/clusteroperators\": dial tcp 35.231.173.152:6443: i/o timeout\n",
      "ClusterOperators:\n",
      "\tclusteroperators are missing\n",
      "\n",
      "\n",
      "Gathering data for ns/openshift-cloud-credential-operator...\n",
      "Gathering data for ns/openshift-config...\n",
      "Gathering data for ns/openshift-config-managed...\n",
      "Gathering data for ns/openshift-etcd-operator...\n",
      "Gathering data for ns/openshift-etcd...\n",
      "Gathering data for ns/openshift-kube-apiserver-operator...\n",
      "Gathering data for ns/openshift-kube-apiserver...\n",
      "Gathering data for ns/openshift-kube-controller-manager...\n",
      "Gathering data for ns/openshift-kube-controller-manager-operator...\n",
      "Gathering data for ns/openshift-kube-scheduler-operator...\n",
      "Gathering data for ns/openshift-kube-scheduler...\n",
      "Gathering data for ns/openshift-kube-storage-version-migrator-operator...\n",
      "Gathering data for ns/openshift-machine-config-operator...\n",
      "Wrote inspect data to /logs/artifacts/audit-logs.\n",
      "error running backup collection: errors ocurred while gathering data:\n",
      "    [skipping gathering securitycontextconstraints.security.openshift.io due to error: the server doesn't have a resource type \"securitycontextconstraints\", skipping gathering podnetworkconnectivitychecks.controlplane.operator.openshift.io due to error: the server doesn't have a resource type \"podnetworkconnectivitychecks\", skipping gathering namespaces/openshift-kube-storage-version-migrator due to error: namespaces \"openshift-kube-storage-version-migrator\" not found, skipping gathering controllerconfigs.machineconfiguration.openshift.io due to error: the server doesn't have a resource type \"controllerconfigs\"]Unable to connect to the server: dial tcp 35.231.173.152:6443: i/o timeout\n"
     ]
    }
   ],
   "source": [
    "# A list of hand-picked represenative build IDs from failed job runs:\n",
    "failed_builds = [  # Some custom build IDs representing log diversity\n",
    "    1372555706749685760,  # infra error, short log, long duration, old format\n",
    "    1380185997530107904,  # same type of error, new formatting\n",
    "    1375113030177656832,  # mixed output structure\n",
    "    1383399218122592256,  # new formatting, duplicate and inconsistent timestamps\n",
    "    1375882831099596800,  # output from a must-gather\n",
    "]\n",
    "\n",
    "# No hand pick version: Get a sample of current failed builds\n",
    "# IMPORTANT NOTE: ------------------------------------------------------------------\n",
    "# IMPORTANT NOTE: uncomment next line to get a sample from currently available data:\n",
    "# IMPORTANT NOTE: ------------------------------------------------------------------\n",
    "# failed_builds = df[~df.success].sample(3).index\n",
    "\n",
    "for build_id in failed_builds:\n",
    "    print(f\"\\n>> BUILD {build_id}\")\n",
    "    print(\">> BUILD URL:\", builds.prow_url_for(build_id))\n",
    "    print(\">> RAW LOG URL:\", builds.build_log_url_for(build_id), \"\\n\")\n",
    "    path = Builds.log_path_for(build_id)\n",
    "\n",
    "    with open(path) as f:\n",
    "        # We will look around the middle of the file\n",
    "        length = df.loc[build_id][\"size\"].item()\n",
    "        f.seek(length / 2)\n",
    "        lines = f.readlines(2500)\n",
    "\n",
    "    for line in lines[1:]:\n",
    "        print(line, end=\"\")"
   ]
  },
  {
   "cell_type": "markdown",
   "id": "e14648c3",
   "metadata": {},
   "source": [
    "We can see that the build logs can contain quite diverse content, including multi-line command output, entries with partial structure (timestamps, log levels, componets) or completely unsturctured, all of that mixed together in the same log file.\n",
    "\n",
    "Traditional approaches to automated log parsing would probably not work too well with this type of log data."
   ]
  },
  {
   "cell_type": "markdown",
   "id": "b07e9be4",
   "metadata": {},
   "source": [
    "# Conclusions\n",
    "\n",
    "- Failed jobs can contain very diverse types of logs. Different failure causes often lead to different type of content in the logs.\n",
    "- Successful jobs have significantly more constistent log output.\n",
    "- Even for successful jobs, we can't assume a consistent structure.\n",
    "- It should be relatively easy to classify builds from their duration and `build-log` lenght, but can we do the same based on the content of the logs?"
   ]
  },
  {
   "cell_type": "markdown",
   "id": "914298bd",
   "metadata": {},
   "source": [
    "## Next steps\n",
    "\n",
    "- Look at specific steps instead of the overall job build log. The expectation would be that by looking at the same step we would get more consistency across job runs, both successful and failed.\n",
    "\n",
    "- More detailed exploration of the log contents by applying different techniques to log files themselves.\n"
   ]
  }
 ],
 "metadata": {
  "kernelspec": {
   "display_name": "Python 3",
   "language": "python",
   "name": "python3"
  },
  "language_info": {
   "codemirror_mode": {
    "name": "ipython",
    "version": 3
   },
   "file_extension": ".py",
   "mimetype": "text/x-python",
   "name": "python",
   "nbconvert_exporter": "python",
   "pygments_lexer": "ipython3",
   "version": "3.8.9"
  },
  "toc-autonumbering": true,
  "toc-showtags": false
 },
 "nbformat": 4,
 "nbformat_minor": 5
}
