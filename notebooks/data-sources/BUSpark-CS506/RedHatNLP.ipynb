{
  "nbformat": 4,
  "nbformat_minor": 0,
  "metadata": {
    "colab": {
      "name": "Due 02/28/2021",
      "provenance": [],
      "collapsed_sections": []
    },
    "kernelspec": {
      "name": "python3",
      "display_name": "Python 3"
    }
  },
  "cells": [
    {
      "cell_type": "markdown",
      "metadata": {
        "id": "P-SchSDwNCgQ"
      },
      "source": [
        "<H1>Red Hat NLP Spark Project</H1>\n",
        "\n",
        "This notebook uses Red Hat's OpenShift data logs and processes them using Drain3. \n",
        "\n",
        "The first thing this notebook does is webscrape the OpenShift logs and installs dependencies. After, the logs are then cleaned by removing leading tags, dates, timestamps and other unique identifiers. This is done manually because drain does not do this consistently for all logs. Finally the parsed logs are then fed into Drain3 and then put into a dictionary sorted by cluster ID.\n",
        "\n",
        "The final step that needs to be done is to sift out the pass and fail logs based on their cluster ID and visualize our data."
      ]
    },
    {
      "cell_type": "code",
      "metadata": {
        "colab": {
          "base_uri": "https://localhost:8080/"
        },
        "id": "z5cWx89XM9t6",
        "outputId": "ccb873ac-4bb1-4955-cdb0-6459e08a139a"
      },
      "source": [
        "!pip3 install drain3\n",
        "!pip3 install kafka-python\n",
        "!pip3 install redis"
      ],
      "execution_count": 1,
      "outputs": [
        {
          "output_type": "stream",
          "text": [
            "Collecting drain3\n",
            "  Downloading https://files.pythonhosted.org/packages/03/df/cd2118d85b0401cd4b2cc555b97cd5a918ca551a035c77c853087321328e/drain3-0.9.3.tar.gz\n",
            "Collecting jsonpickle==1.5.1\n",
            "  Downloading https://files.pythonhosted.org/packages/77/a7/c2f527ddce3155ae9e008385963c2325cbfd52969f8b38efa2723e2af4af/jsonpickle-1.5.1-py2.py3-none-any.whl\n",
            "Requirement already satisfied: cachetools==4.2.1 in /usr/local/lib/python3.7/dist-packages (from drain3) (4.2.1)\n",
            "Requirement already satisfied: importlib-metadata; python_version < \"3.8\" in /usr/local/lib/python3.7/dist-packages (from jsonpickle==1.5.1->drain3) (3.8.1)\n",
            "Requirement already satisfied: typing-extensions>=3.6.4; python_version < \"3.8\" in /usr/local/lib/python3.7/dist-packages (from importlib-metadata; python_version < \"3.8\"->jsonpickle==1.5.1->drain3) (3.7.4.3)\n",
            "Requirement already satisfied: zipp>=0.5 in /usr/local/lib/python3.7/dist-packages (from importlib-metadata; python_version < \"3.8\"->jsonpickle==1.5.1->drain3) (3.4.1)\n",
            "Building wheels for collected packages: drain3\n",
            "  Building wheel for drain3 (setup.py) ... \u001b[?25l\u001b[?25hdone\n",
            "  Created wheel for drain3: filename=drain3-0.9.3-cp37-none-any.whl size=16397 sha256=58a05fd02fc645b0bfe8aaf45fd03453719ac330cced3db9f74145ba8f905fa0\n",
            "  Stored in directory: /root/.cache/pip/wheels/44/eb/c8/0c42c729fa7f47040d8b9bc2e8359a96fee8a4b2bf442fd924\n",
            "Successfully built drain3\n",
            "Installing collected packages: jsonpickle, drain3\n",
            "Successfully installed drain3-0.9.3 jsonpickle-1.5.1\n",
            "Collecting kafka-python\n",
            "\u001b[?25l  Downloading https://files.pythonhosted.org/packages/75/68/dcb0db055309f680ab2931a3eeb22d865604b638acf8c914bedf4c1a0c8c/kafka_python-2.0.2-py2.py3-none-any.whl (246kB)\n",
            "\u001b[K     |████████████████████████████████| 256kB 5.8MB/s \n",
            "\u001b[?25hInstalling collected packages: kafka-python\n",
            "Successfully installed kafka-python-2.0.2\n",
            "Collecting redis\n",
            "\u001b[?25l  Downloading https://files.pythonhosted.org/packages/a7/7c/24fb0511df653cf1a5d938d8f5d19802a88cef255706fdda242ff97e91b7/redis-3.5.3-py2.py3-none-any.whl (72kB)\n",
            "\u001b[K     |████████████████████████████████| 81kB 3.1MB/s \n",
            "\u001b[?25hInstalling collected packages: redis\n",
            "Successfully installed redis-3.5.3\n"
          ],
          "name": "stdout"
        }
      ]
    },
    {
      "cell_type": "markdown",
      "metadata": {
        "id": "Iq11lna0RAee"
      },
      "source": [
        "<H3>Web scraping</H3>\n",
        "\n",
        "Gathers OpenShift using BeautifulSoup and then returns an array containing all of the logs."
      ]
    },
    {
      "cell_type": "code",
      "metadata": {
        "id": "RT1xSMJ40ewc"
      },
      "source": [
        "# Web scraping (Kyle, due 02/26/2021)\n",
        "#     BeautifulSoup for web scraping\n",
        "\n",
        "from urllib.request import urlopen\n",
        "from bs4 import BeautifulSoup\n",
        "from google.colab import files\n",
        "import pandas as pd\n",
        "import io\n",
        "import numpy as np\n",
        "import dateutil\n",
        "from dateutil import parser\n",
        "import textblob\n",
        "import requests\n",
        "import matplotlib.pyplot as plt\n",
        "\n",
        "#url core needed to pull\n",
        "website = \"https://gcsweb-ci.apps.ci.l2s4.p1.openshiftapps.com\"\n",
        "base = \"https://gcsweb-ci.apps.ci.l2s4.p1.openshiftapps.com/gcs/origin-ci-test/logs/canary-release-openshift-origin-installer-e2e-aws-4.5-cnv/\"\n",
        "ending = \"build-log.txt\"\n",
        "url = \"https://gcsweb-ci.apps.ci.l2s4.p1.openshiftapps.com/gcs/origin-ci-test/logs/canary-release-openshift-origin-installer-e2e-aws-4.5-cnv/1300557127638585344/build-log.txt\"\n",
        "page = requests.get(base)    \n",
        "data = page.text\n",
        "soup = BeautifulSoup(data)\n",
        "links = []\n",
        "for link in soup.find_all('a'):\n",
        "    links.append(link.get('href'))\n",
        "links = links[1:-1]\n",
        "\n",
        "final_array = []\n",
        "# create array of urls\n",
        "for x in range(len(links)):\n",
        "  final_array.append(str(website) + str(links[x]) + str(ending))\n",
        "\n",
        "\n",
        "# pull all urls logs and store in 2-d array where array_of_logs[x] is a build-log file and \n",
        "# array_of_logs[x][y] is an individual log line split by new line\n",
        "array_of_logs = []\n",
        "for x in range(len(final_array)):\n",
        "  page = urlopen(final_array[x])\n",
        "  html_bytes = page.read()\n",
        "  array_of_logs.append(str(html_bytes).split('\\\\n'))\n",
        "  \n",
        "# first log\n",
        "# print(array_of_logs[0])"
      ],
      "execution_count": 28,
      "outputs": []
    },
    {
      "cell_type": "code",
      "metadata": {
        "id": "yaYWmzJoL1NL"
      },
      "source": [
        "#url core needed to pull\n",
        "website2 = \"https://gcsweb-ci.apps.ci.l2s4.p1.openshiftapps.com\"\n",
        "base2 = \"https://gcsweb-ci.apps.ci.l2s4.p1.openshiftapps.com/gcs/origin-ci-test/logs/release-openshift-ocp-installer-e2e-aws-serial-4.1/\"\n",
        "ending2 = \"build-log.txt\"\n",
        "page2 = requests.get(base2)    \n",
        "data2 = page2.text\n",
        "soup2 = BeautifulSoup(data2)\n",
        "links2 = []\n",
        "for link2 in soup2.find_all('a'):\n",
        "    links2.append(link2.get('href'))\n",
        "links2 = links2[1:-1]\n",
        "\n",
        "final_array2 = []\n",
        "# create array of urls\n",
        "for x in range(len(links2)):\n",
        "  final_array2.append(str(website2) + str(links2[x]) + str(ending2))\n",
        "\n",
        "\n",
        "# pull all urls logs and store in 2-d array where array_of_logs[x] is a build-log file and \n",
        "# array_of_logs[x][y] is an individual log line split by new line\n",
        "array_of_logs2 = []\n",
        "for x in range(len(final_array2)):\n",
        "  page2 = urlopen(final_array2[x])\n",
        "  html_bytes2 = page2.read()\n",
        "  array_of_logs2.append(str(html_bytes2).split('\\\\n'))\n",
        "  \n",
        "# first log\n",
        "# print(array_of_logs2[0])"
      ],
      "execution_count": 29,
      "outputs": []
    },
    {
      "cell_type": "markdown",
      "metadata": {
        "id": "4UBShV3kRskG"
      },
      "source": [
        "<H3>Log Parsing</H3>\n",
        "\n",
        "Logs need to be parsed before processing into drain. This is necessary because drain does not parse consistently for every log.\n",
        "\n",
        "Things to be parsed:\n",
        "<ul>\n",
        "  <li>Dates</li>\n",
        "  <li>Timestamps</li>\n",
        "  <li>Newline characters</li>\n",
        "  <li>Version numbers</li>\n",
        "  <li>Namespace IDs</li>\n",
        "  <li>URLs</li>\n",
        "</ul>"
      ]
    },
    {
      "cell_type": "code",
      "metadata": {
        "id": "cfVaPkbgA_tl"
      },
      "source": [
        "for i in range(len(array_of_logs2)):\n",
        "  #  removing newline characters\n",
        "  array_of_logs2[i] = str(array_of_logs2[i]).replace('\\\\n', ' ')\n",
        "  \n",
        " # removes leading 'b from log\n",
        "  array_of_logs2[i] = array_of_logs2[i][2:]\n"
      ],
      "execution_count": 32,
      "outputs": []
    },
    {
      "cell_type": "markdown",
      "metadata": {
        "id": "FRo4qOg5Bzc0"
      },
      "source": [
        "This Code cell removes the newline and byte entries in each log"
      ]
    },
    {
      "cell_type": "code",
      "metadata": {
        "id": "aRyol0yU4HP_"
      },
      "source": [
        "# ******* PARKER *******\n",
        "#  helper function detecting if a string is a date / timestamp\n",
        "def is_date(str):\n",
        "  try:\n",
        "    dateutil.parser.parse(str)\n",
        "    return True\n",
        "  except:\n",
        "    return False\n",
        "for i in range(len(array_of_logs2)):\n",
        " # splitting each section as its own index (for parsing)\n",
        "  array_of_logs2[i] = str(array_of_logs2[i]).split(' ')\n",
        "  for j in range(len(array_of_logs2[i])):\n",
        "    if is_date(array_of_logs2[i][j]) == True:\n",
        "      array_of_logs2[i][j] = ''\n",
        "  array_of_logs2[i] = list(filter(lambda x: x != '', array_of_logs2[i]))\n",
        "  array_of_logs2[i] = ' '.join(array_of_logs2[i])"
      ],
      "execution_count": 33,
      "outputs": []
    },
    {
      "cell_type": "markdown",
      "metadata": {
        "id": "tSINSnQeDqZ9"
      },
      "source": [
        "This code cell removes timestamps and dates in order to mitigate unique identifiers"
      ]
    },
    {
      "cell_type": "code",
      "metadata": {
        "id": "L8a8Nyc76PQo"
      },
      "source": [
        "for index in range(len(array_of_logs2)):\n",
        "  # removing version number\n",
        "  if \"version\" in array_of_logs2[index]:\n",
        "    tmp = array_of_logs2[index].split(\"version\",1)\n",
        "    tmp_1 = tmp[0]\n",
        "    tmp_2 = tmp[1].split()\n",
        "    tmp_2 = tmp_2[1:]\n",
        "    tmp = ''.join(tmp_1) + ' '.join(tmp_2)\n",
        "    array_of_logs2[index] = tmp\n",
        "\n",
        "  # removing creating namespace ID\n",
        "  if \"Creating namespace\" in array_of_logs2[index]:\n",
        "    tmp = array_of_logs2[index].split(\"Creating namespace\", 1)\n",
        "    tmp_1 = tmp[0]\n",
        "    tmp_2 = tmp[1].split()\n",
        "    tmp_2 = tmp_2[1:]\n",
        "    tmp = ''.join(tmp_1) + ' '.join(tmp_2)\n",
        "    array_of_logs2[index] = tmp\n",
        "\n",
        "  # removing using namespace ID\n",
        "  if \"Using namespace\" in array_of_logs2[index]:\n",
        "    tmp = array_of_logs2[index].split(\"Using namespace\", 1)\n",
        "    tmp_1 = tmp[0]\n",
        "    tmp_2 = tmp[1].split()\n",
        "    tmp_2 = tmp_2[1:]\n",
        "    tmp = ''.join(tmp_1) + ' '.join(tmp_2)\n",
        "    array_of_logs2[index] = tmp\n",
        "\n",
        "  # removing Imported release stamp\n",
        "  if \"Imported release\" in array_of_logs2[index]:\n",
        "    tmp = array_of_logs2[index].split(\"Imported release\", 1)\n",
        "    tmp_1 = tmp[0]\n",
        "    tmp_2 = tmp[1].split()\n",
        "    tmp_2 = tmp_2[1:]\n",
        "    tmp = ''.join(tmp_1) + ' '.join(tmp_2)\n",
        "    array_of_logs2[index] = tmp\n",
        "\n",
        "  # removing Acquired lease stamp\n",
        "  if \"Acquired lease\" in array_of_logs2[index]:\n",
        "    tmp = array_of_logs2[index].split(\"Acquired lease\", 1)\n",
        "    tmp_1 = tmp[0]\n",
        "    tmp_2 = tmp[1].split()\n",
        "    tmp_2 = tmp_2[1:]\n",
        "    tmp = ''.join(tmp_1) + ' '.join(tmp_2)\n",
        "    array_of_logs2[index] = tmp\n",
        "\n",
        "  # removing \"images will be pullable from\" link\n",
        "  if \"images will be pullable from\" in array_of_logs2[index]:\n",
        "    tmp = array_of_logs2[index].split(\"images will be pullable from\", 1)\n",
        "    tmp_1 = tmp[0]\n",
        "    tmp_2 = tmp[1].split()\n",
        "    tmp_2 = tmp_2[1:]\n",
        "    tmp = ''.join(tmp_1) + ' '.join(tmp_2)\n",
        "    array_of_logs2[index] = tmp"
      ],
      "execution_count": 24,
      "outputs": []
    },
    {
      "cell_type": "markdown",
      "metadata": {
        "id": "35RiS8Y2S3Yn"
      },
      "source": [
        "This code cell is removing any unique identifiers such as version numbers, URLs and namespace IDs"
      ]
    },
    {
      "cell_type": "markdown",
      "metadata": {
        "id": "RDSHV7fZTOBT"
      },
      "source": [
        "<H3>Drain3 Processing</H3>\n",
        "\n",
        "The parsed logs are now being processed in Drain. Drain will do additional parsing and also cluster the logs. Drain uses longest common subsequence as their algorithm for clustering, so logs with similar structure will be considered to be in the same clustering. There are two dictionaries that represent the size of each cluster and another that separates the logs by cluster ID. The goal of this is to determine which clusters are pass logs and which clusters are fail logs."
      ]
    },
    {
      "cell_type": "code",
      "metadata": {
        "id": "WtFxnlMOmp3W",
        "colab": {
          "base_uri": "https://localhost:8080/"
        },
        "outputId": "3e1fc3e2-ff22-49db-f1ab-5f9aed4e7caf"
      },
      "source": [
        "import drain3\n",
        "from drain3 import TemplateMiner\n",
        "import json\n",
        "import logging\n",
        "import sys\n",
        "from drain3.kafka_persistence import KafkaPersistence\n",
        "import re\n",
        "\n",
        "template_miner = TemplateMiner(None)\n",
        "i = 0\n",
        "ints_from_drain = []\n",
        "while True:\n",
        "    if i >= len(array_of_logs2):\n",
        "      break\n",
        "    log_line = ' '.join(array_of_logs2[i])\n",
        "    i += 1\n",
        "    if log_line == 'q':\n",
        "        break\n",
        "    result = template_miner.add_log_message(log_line)\n",
        "    result_json = json.dumps(result)\n",
        "    ints_from_drain.append(re.findall(r'\\d+', result_json))\n",
        "    # print(result_json)\n",
        "\n",
        "ints_from_drain = np.asarray(ints_from_drain)\n",
        "\n",
        "cluster_size = {}\n",
        "cluster_id = {}\n",
        "for cluster in template_miner.drain.clusters:\n",
        "  if cluster.cluster_id not in cluster_size:\n",
        "    cluster_size[cluster.cluster_id] = cluster.size\n",
        "    cluster_id[cluster.cluster_id] = []\n",
        "\n",
        "\n",
        "for i in range(len(ints_from_drain)):\n",
        "  cluster_id[int(ints_from_drain[i][0])].append(array_of_logs2[i])\n"
      ],
      "execution_count": 34,
      "outputs": [
        {
          "output_type": "stream",
          "text": [
            "Starting Drain3 template miner\n",
            "Loading configuration from drain3.ini\n",
            "config file not found: drain3.ini\n"
          ],
          "name": "stdout"
        },
        {
          "output_type": "stream",
          "text": [
            "/usr/local/lib/python3.7/dist-packages/numpy/core/_asarray.py:83: VisibleDeprecationWarning: Creating an ndarray from ragged nested sequences (which is a list-or-tuple of lists-or-tuples-or ndarrays with different lengths or shapes) is deprecated. If you meant to do this, you must specify 'dtype=object' when creating the ndarray\n",
            "  return array(a, dtype, copy=False, order=order)\n"
          ],
          "name": "stderr"
        }
      ]
    },
    {
      "cell_type": "markdown",
      "metadata": {
        "id": "aMuEAdZvVZUX"
      },
      "source": [
        "<H4>Log cluster example</H4>\n",
        "\n",
        "Here is a printout of logs that fall under a cluster with the ID of 15. Based on the clustering algorithm it is evident that drain uses longest common subsequence because all of these logs in this cluster contain the exact same structure with very small differences, especially after being parsed."
      ]
    },
    {
      "cell_type": "code",
      "metadata": {
        "colab": {
          "base_uri": "https://localhost:8080/"
        },
        "id": "Rx-UE8x2VXRg",
        "outputId": "d309e6bd-56ba-48be-8f49-8d2cff597c80"
      },
      "source": [
        "i = 1\n",
        "for log in cluster_id[15]:\n",
        "  print(\"log\", i, \":\",  log[:134])\n",
        "  print()\n",
        "  i += 1"
      ],
      "execution_count": 45,
      "outputs": [
        {
          "output_type": "stream",
          "text": [
            "log 1 : ci-operator version v20201031-2d599eb\", No source defined', Resolved release latest to registry.svc.ci.openshift.org/ocp/release:4.1',\n",
            "\n",
            "log 2 : ci-operator version v20201102-4b4af3e\", No source defined', Resolved release latest to registry.svc.ci.openshift.org/ocp/release:4.1',\n",
            "\n",
            "log 3 : ci-operator version v20201104-37c6b55\", No source defined', Resolved release latest to registry.svc.ci.openshift.org/ocp/release:4.1',\n",
            "\n",
            "log 4 : ci-operator version v20201105-7b69d87\", No source defined', Resolved release latest to registry.svc.ci.openshift.org/ocp/release:4.1',\n",
            "\n",
            "log 5 : ci-operator version v20201106-6361972\", No source defined', Resolved release latest to registry.svc.ci.openshift.org/ocp/release:4.1',\n",
            "\n",
            "log 6 : ci-operator version v20201117-f1442dc\", No source defined', Resolved release latest to registry.svc.ci.openshift.org/ocp/release:4.1',\n",
            "\n",
            "log 7 : ci-operator version v20201120-f0cf909\", No source defined', Resolved release latest to registry.svc.ci.openshift.org/ocp/release:4.1',\n",
            "\n",
            "log 8 : ci-operator version v20201120-f0cf909\", No source defined', Resolved release latest to registry.svc.ci.openshift.org/ocp/release:4.1',\n",
            "\n"
          ],
          "name": "stdout"
        }
      ]
    },
    {
      "cell_type": "markdown",
      "metadata": {
        "id": "DtfC_gaeGv8v"
      },
      "source": [
        "The cell below runs the drain3 program. Process the log info and generate clusters and a prefix tree of the log information."
      ]
    },
    {
      "cell_type": "code",
      "metadata": {
        "colab": {
          "base_uri": "https://localhost:8080/"
        },
        "id": "cb0-1Ou6EYbx",
        "outputId": "912d92b2-0fe4-4b38-cf78-33aa21827cac"
      },
      "source": [
        "import subprocess\n",
        "import time\n",
        "\n",
        "logger = logging.getLogger(__name__)\n",
        "logging.basicConfig(stream=sys.stdout, level=logging.INFO, format='%(message)s')\n",
        "\n",
        "template_miner = TemplateMiner()\n",
        "\n",
        "line_count = 0\n",
        "start_time = time.time()\n",
        "batch_start_time = start_time\n",
        "batch_size = 10000\n",
        "for i in range(len(array_of_logs2)):\n",
        "  for line in array_of_logs2[i]:\n",
        "      line = line.rstrip()\n",
        "      line = line.partition(\": \")[2]\n",
        "      result = template_miner.add_log_message(line)\n",
        "      line_count += 1\n",
        "      if line_count % batch_size == 0:\n",
        "          time_took = time.time() - batch_start_time\n",
        "          rate = batch_size / time_took\n",
        "          # logger.info(f\"Processing line: {line_count}, rate {rate:.1f} lines/sec, \"\n",
        "          #             f\"{len(template_miner.drain.clusters)} clusters so far.\")\n",
        "          batch_start_time = time.time()\n",
        "      if result[\"change_type\"] != \"none\":\n",
        "          result_json = json.dumps(result)\n",
        "          logger.info(f\"Input ({line_count}): \" + line)\n",
        "          logger.info(\"Result: \" + result_json)\n",
        "\n",
        "time_took = time.time() - start_time\n",
        "rate = line_count / time_took\n",
        "logger.info(f\"--- Done processing file. Total of {line_count} lines, rate {rate:.1f} lines/sec, \"\n",
        "            f\"{len(template_miner.drain.clusters)} clusters\")\n",
        "sorted_clusters = sorted(template_miner.drain.clusters, key=lambda it: it.size, reverse=True)\n",
        "for cluster in sorted_clusters:\n",
        "    logger.info(cluster)\n",
        "\n",
        "print(\"Prefix Tree:\")\n",
        "template_miner.drain.print_tree()\n",
        "\n",
        "template_miner.profiler.report(0)"
      ],
      "execution_count": 27,
      "outputs": [
        {
          "output_type": "stream",
          "text": [
            "Starting Drain3 template miner\n",
            "Loading configuration from drain3.ini\n",
            "config file not found: drain3.ini\n",
            "Input (1): \n",
            "Result: {\"change_type\": \"cluster_created\", \"cluster_id\": 1, \"cluster_size\": 1, \"template_mined\": \"\", \"cluster_count\": 1}\n",
            "--- Done processing file. Total of 1473041 lines, rate 142565.6 lines/sec, 1 clusters\n",
            "ID=1     : size=1473041   : \n",
            "Prefix Tree:\n",
            "<root>\n",
            "\t<0>\n"
          ],
          "name": "stdout"
        }
      ]
    },
    {
      "cell_type": "code",
      "metadata": {
        "colab": {
          "base_uri": "https://localhost:8080/",
          "height": 458
        },
        "id": "Did5do5Ga_TQ",
        "outputId": "3c5cafb4-2d0e-41e7-8157-3d06f19c9cc0"
      },
      "source": [
        "# ******* NINGXIAO *******\n",
        "# find events in log, display frequecy of each event in a bar chart\n",
        "import spacy\n",
        "s = \"\"\n",
        "for log in logs:\n",
        "    temp = \"\"\n",
        "    temp = temp.join(log)\n",
        "    s += temp\n",
        "# Error Message: Text of length 5496377 exceeds maximum of 1000000.\n",
        "s = s[0:100000]\n",
        "nlp = spacy.load(\"en_core_web_sm\")\n",
        "doc = nlp(s)\n",
        "dictionary = {};\n",
        "for token in doc:\n",
        "    if token.pos_ == 'VERB':\n",
        "        if token.text not in dictionary:\n",
        "            dictionary[token.text] = 1\n",
        "        else:\n",
        "            dictionary[token.text] += 1\n",
        "    #print(token.text, toekn.pos_)\n",
        "\n",
        "#print(dictionary)\n",
        "\n",
        "keys = list(dictionary.keys())\n",
        "values = list(dictionary.values())\n",
        "\n",
        "fig, ax = plt.subplots(figsize=(9.2, 7))  \n",
        "ax.barh(keys,values)\n",
        "plt.title('Verbs in logs')\n",
        "plt.ylabel('Verbs')\n",
        "plt.xlabel('Frequency')\n",
        "\n",
        "plt.show()"
      ],
      "execution_count": null,
      "outputs": [
        {
          "output_type": "display_data",
          "data": {
            "image/png": "[encoded data removed]",
            "text/plain": [
              "<Figure size 662.4x504 with 1 Axes>"
            ]
          },
          "metadata": {
            "tags": [],
            "needs_background": "light"
          }
        }
      ]
    },
    {
      "cell_type": "markdown",
      "metadata": {
        "id": "R1oosA55NoQZ"
      },
      "source": [
        "The image above shows the verbs and their frequency appear in the tokenized log text. It indicates what event and how often it happens in the log."
      ]
    }
  ]
}