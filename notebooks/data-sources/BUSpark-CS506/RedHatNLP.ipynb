{
  "nbformat": 4,
  "nbformat_minor": 0,
  "metadata": {
    "colab": {
      "name": "Due 02/28/2021",
      "provenance": [],
      "collapsed_sections": []
    },
    "kernelspec": {
      "name": "python3",
      "display_name": "Python 3"
    }
  },
  "cells": [
    {
      "cell_type": "markdown",
      "metadata": {
        "id": "P-SchSDwNCgQ"
      },
      "source": [
        "<H1>Red Hat NLP Spark Project</H1>\n",
        "\n",
        "This notebook uses Red Hat's OpenShift data logs and processes them using Drain3. \n",
        "\n",
        "The first thing this notebook does is webscrape the OpenShift logs and installs dependencies. After, the logs are then cleaned by removing leading tags, dates, timestamps and other unique identifiers. This is done manually because drain does not do this consistently for all logs. Finally the parsed logs are then fed into Drain3 and then put into a dictionary sorted by cluster ID.\n",
        "\n",
        "The final step that needs to be done is to sift out the pass and fail logs based on their cluster ID and visualize our data."
      ]
    },
    {
      "cell_type": "code",
      "metadata": {
        "colab": {
          "base_uri": "https://localhost:8080/"
        },
        "id": "z5cWx89XM9t6",
        "outputId": "2f998d1a-204c-447d-fa5d-f7db82ff1bfb"
      },
      "source": [
        "!pip3 install drain3\n",
        "!pip3 install kafka-python\n",
        "!pip3 install redis"
      ],
      "execution_count": 38,
      "outputs": [
        {
          "output_type": "stream",
          "text": [
            "Requirement already satisfied: drain3 in /usr/local/lib/python3.7/dist-packages (0.9.3)\n",
            "Requirement already satisfied: jsonpickle==1.5.1 in /usr/local/lib/python3.7/dist-packages (from drain3) (1.5.1)\n",
            "Requirement already satisfied: cachetools==4.2.1 in /usr/local/lib/python3.7/dist-packages (from drain3) (4.2.1)\n",
            "Requirement already satisfied: importlib-metadata; python_version < \"3.8\" in /usr/local/lib/python3.7/dist-packages (from jsonpickle==1.5.1->drain3) (3.10.0)\n",
            "Requirement already satisfied: zipp>=0.5 in /usr/local/lib/python3.7/dist-packages (from importlib-metadata; python_version < \"3.8\"->jsonpickle==1.5.1->drain3) (3.4.1)\n",
            "Requirement already satisfied: typing-extensions>=3.6.4; python_version < \"3.8\" in /usr/local/lib/python3.7/dist-packages (from importlib-metadata; python_version < \"3.8\"->jsonpickle==1.5.1->drain3) (3.7.4.3)\n",
            "Requirement already satisfied: kafka-python in /usr/local/lib/python3.7/dist-packages (2.0.2)\n",
            "Requirement already satisfied: redis in /usr/local/lib/python3.7/dist-packages (3.5.3)\n"
          ],
          "name": "stdout"
        }
      ]
    },
    {
      "cell_type": "markdown",
      "metadata": {
        "id": "Iq11lna0RAee"
      },
      "source": [
        "<H3>Web scraping</H3>\n",
        "\n",
        "Gathers OpenShift using BeautifulSoup and then returns an array containing all of the logs."
      ]
    },
    {
      "cell_type": "code",
      "metadata": {
        "id": "RT1xSMJ40ewc"
      },
      "source": [
        "# Web scraping (Kyle, due 02/26/2021)\n",
        "#     BeautifulSoup for web scraping\n",
        "\n",
        "from urllib.request import urlopen\n",
        "from bs4 import BeautifulSoup\n",
        "from google.colab import files\n",
        "import pandas as pd\n",
        "import io\n",
        "import numpy as np\n",
        "import dateutil\n",
        "from dateutil import parser\n",
        "import textblob\n",
        "import requests\n",
        "import matplotlib.pyplot as plt\n",
        "import json\n",
        "\n",
        "#url core needed to pull\n",
        "website = \"https://gcsweb-ci.apps.ci.l2s4.p1.openshiftapps.com\"\n",
        "base = \"https://gcsweb-ci.apps.ci.l2s4.p1.openshiftapps.com/gcs/origin-ci-test/logs/canary-release-openshift-origin-installer-e2e-aws-4.5-cnv/\"\n",
        "ending = \"build-log.txt\"\n",
        "finished = \"finished.json\"\n",
        "url = \"https://gcsweb-ci.apps.ci.l2s4.p1.openshiftapps.com/gcs/origin-ci-test/logs/canary-release-openshift-origin-installer-e2e-aws-4.5-cnv/1300557127638585344/build-log.txt\"\n",
        "page = requests.get(base)   \n",
        "data = page.text\n",
        "soup = BeautifulSoup(data)\n",
        "links = []\n",
        "for link in soup.find_all('a'):\n",
        "    links.append(link.get('href'))\n",
        "links = links[1:-1]\n",
        "\n",
        "final_array = []\n",
        "labels_link = []\n",
        "# create array of urls\n",
        "for x in range(len(links)):\n",
        "  final_array.append(str(website) + str(links[x]) + str(ending))\n",
        "  labels_link.append(str(website) + str(links[x]) + str(finished))\n",
        "\n",
        "# pull all urls logs and store in 2-d array where array_of_logs[x] is a build-log file and \n",
        "# array_of_logs[x][y] is an individual log line split by new line\n",
        "array_of_logs = []\n",
        "for x in range(len(final_array)):\n",
        "  page = urlopen(final_array[x])\n",
        "  html_bytes = page.read()\n",
        "  array_of_logs.append(str(html_bytes).split('\\\\n'))\n",
        "  \n",
        "# first log\n",
        "# print(len(lab))\n"
      ],
      "execution_count": 39,
      "outputs": []
    },
    {
      "cell_type": "code",
      "metadata": {
        "id": "yaYWmzJoL1NL"
      },
      "source": [
        "#url core needed to pull\n",
        "website2 = \"https://gcsweb-ci.apps.ci.l2s4.p1.openshiftapps.com\"\n",
        "base2 = \"https://gcsweb-ci.apps.ci.l2s4.p1.openshiftapps.com/gcs/origin-ci-test/logs/release-openshift-ocp-installer-e2e-aws-serial-4.1/\"\n",
        "ending2 = \"build-log.txt\"\n",
        "finished2 = \"finished.json\"\n",
        "page2 = requests.get(base2)    \n",
        "data2 = page2.text\n",
        "soup2 = BeautifulSoup(data2)\n",
        "links2 = []\n",
        "for link2 in soup2.find_all('a'):\n",
        "    links2.append(link2.get('href'))\n",
        "links2 = links2[1:-1]\n",
        "\n",
        "final_array2 = []\n",
        "labels_link2 = []\n",
        "# create array of urls\n",
        "for x in range(len(links2)):\n",
        "  final_array2.append(str(website2) + str(links2[x]) + str(ending2))\n",
        "  labels_link2.append(str(website2) + str(links2[x]) + str(finished2))\n",
        "\n",
        "# pull all urls logs and store in 2-d array where array_of_logs[x] is a build-log file and \n",
        "# array_of_logs[x][y] is an individual log line split by new line\n",
        "array_of_logs2 = []\n",
        "for x in range(len(final_array2)):\n",
        "  page2 = urlopen(final_array2[x])\n",
        "  html_bytes2 = page2.read()\n",
        "  array_of_logs2.append(str(html_bytes2).split('\\\\n'))\n",
        "  \n",
        "# first log\n",
        "# print(array_of_logs2[0])"
      ],
      "execution_count": 40,
      "outputs": []
    },
    {
      "cell_type": "code",
      "metadata": {
        "id": "JsfDoHsxQmqH"
      },
      "source": [
        "for i in range(len(array_of_logs2)):\n",
        "  #  removing newline characters\n",
        "  array_of_logs2[i] = str(array_of_logs2[i]).replace('\\\\n', ' ')\n",
        "  \n",
        " # removes leading 'b from log\n",
        "  array_of_logs2[i] = array_of_logs2[i][2:]"
      ],
      "execution_count": 49,
      "outputs": []
    },
    {
      "cell_type": "markdown",
      "metadata": {
        "id": "OqeBizbVQn6m"
      },
      "source": [
        "This code cell above removes newline characters and leading byte signature"
      ]
    },
    {
      "cell_type": "markdown",
      "metadata": {
        "id": "heDQxXYAQzcU"
      },
      "source": [
        "<H4>Assigning Labels to Logs </H4>"
      ]
    },
    {
      "cell_type": "code",
      "metadata": {
        "id": "nX15zcw5v8_z",
        "colab": {
          "base_uri": "https://localhost:8080/"
        },
        "outputId": "cfc3bae3-7ce5-4899-d3eb-ad32c73c7d3e"
      },
      "source": [
        "labels= []\n",
        "\n",
        "for x in range(len(labels_link)):\n",
        "  page = urlopen(labels_link[x])\n",
        "  data = json.load(page)  \n",
        "  labels.append(data[\"result\"])\n",
        "\n",
        "for x in range(len(labels_link2)):\n",
        "  page = urlopen(labels_link2[x])\n",
        "  data = json.load(page)  \n",
        "  labels.append(data[\"result\"])\n",
        "\n",
        "print(labels)\n",
        "\n",
        "array_of_logs2 = array_of_logs + array_of_logs2\n"
      ],
      "execution_count": 44,
      "outputs": [
        {
          "output_type": "stream",
          "text": [
            "['FAILURE', 'FAILURE', 'FAILURE', 'FAILURE', 'FAILURE', 'FAILURE', 'FAILURE', 'FAILURE', 'FAILURE', 'FAILURE', 'FAILURE', 'FAILURE', 'FAILURE', 'FAILURE', 'FAILURE', 'FAILURE', 'FAILURE', 'FAILURE', 'FAILURE', 'FAILURE', 'FAILURE', 'FAILURE', 'FAILURE', 'FAILURE', 'FAILURE', 'FAILURE', 'FAILURE', 'FAILURE', 'FAILURE', 'FAILURE', 'FAILURE', 'FAILURE', 'FAILURE', 'FAILURE', 'FAILURE', 'FAILURE', 'FAILURE', 'FAILURE', 'FAILURE', 'FAILURE', 'FAILURE', 'FAILURE', 'FAILURE', 'FAILURE', 'FAILURE', 'FAILURE', 'FAILURE', 'FAILURE', 'FAILURE', 'FAILURE', 'FAILURE', 'FAILURE', 'FAILURE', 'FAILURE', 'FAILURE', 'FAILURE', 'FAILURE', 'FAILURE', 'FAILURE', 'FAILURE', 'FAILURE', 'FAILURE', 'FAILURE', 'FAILURE', 'FAILURE', 'FAILURE', 'FAILURE', 'FAILURE', 'FAILURE', 'FAILURE', 'FAILURE', 'FAILURE', 'FAILURE', 'FAILURE', 'FAILURE', 'FAILURE', 'FAILURE', 'FAILURE', 'FAILURE', 'FAILURE', 'FAILURE', 'FAILURE', 'FAILURE', 'FAILURE', 'FAILURE', 'FAILURE', 'FAILURE', 'FAILURE', 'FAILURE', 'SUCCESS', 'SUCCESS', 'SUCCESS', 'SUCCESS', 'FAILURE', 'FAILURE', 'SUCCESS', 'SUCCESS', 'SUCCESS', 'SUCCESS', 'SUCCESS', 'SUCCESS', 'SUCCESS', 'SUCCESS', 'SUCCESS', 'SUCCESS', 'SUCCESS', 'SUCCESS', 'SUCCESS', 'SUCCESS', 'SUCCESS', 'SUCCESS', 'SUCCESS', 'SUCCESS', 'SUCCESS', 'SUCCESS', 'SUCCESS', 'SUCCESS', 'SUCCESS', 'SUCCESS', 'SUCCESS', 'SUCCESS', 'SUCCESS', 'FAILURE', 'SUCCESS', 'SUCCESS', 'SUCCESS', 'FAILURE', 'SUCCESS', 'FAILURE', 'SUCCESS', 'SUCCESS', 'SUCCESS', 'SUCCESS', 'SUCCESS', 'FAILURE', 'FAILURE', 'SUCCESS', 'SUCCESS', 'SUCCESS', 'FAILURE', 'SUCCESS', 'SUCCESS', 'FAILURE', 'SUCCESS', 'SUCCESS', 'SUCCESS', 'FAILURE', 'FAILURE', 'FAILURE', 'SUCCESS', 'SUCCESS', 'SUCCESS', 'error', 'SUCCESS', 'SUCCESS', 'SUCCESS', 'SUCCESS', 'SUCCESS', 'SUCCESS', 'SUCCESS', 'SUCCESS', 'SUCCESS', 'SUCCESS', 'SUCCESS', 'SUCCESS', 'FAILURE', 'SUCCESS', 'SUCCESS', 'SUCCESS', 'SUCCESS', 'SUCCESS', 'FAILURE', 'SUCCESS', 'SUCCESS', 'SUCCESS', 'SUCCESS', 'SUCCESS', 'SUCCESS', 'FAILURE', 'SUCCESS', 'SUCCESS', 'SUCCESS', 'SUCCESS', 'FAILURE', 'SUCCESS', 'SUCCESS', 'SUCCESS', 'SUCCESS', 'FAILURE', 'SUCCESS', 'SUCCESS', 'SUCCESS', 'SUCCESS', 'SUCCESS', 'SUCCESS', 'SUCCESS', 'SUCCESS', 'SUCCESS', 'SUCCESS', 'SUCCESS', 'SUCCESS', 'SUCCESS', 'SUCCESS', 'SUCCESS', 'SUCCESS', 'SUCCESS', 'SUCCESS', 'SUCCESS', 'SUCCESS', 'SUCCESS', 'SUCCESS', 'SUCCESS', 'SUCCESS', 'SUCCESS', 'SUCCESS', 'SUCCESS', 'FAILURE', 'SUCCESS', 'SUCCESS', 'SUCCESS', 'SUCCESS', 'SUCCESS', 'SUCCESS', 'FAILURE', 'SUCCESS', 'SUCCESS', 'SUCCESS', 'SUCCESS', 'SUCCESS', 'SUCCESS', 'FAILURE', 'SUCCESS', 'SUCCESS', 'FAILURE', 'SUCCESS', 'FAILURE', 'SUCCESS', 'SUCCESS', 'FAILURE', 'SUCCESS', 'FAILURE', 'SUCCESS', 'SUCCESS', 'SUCCESS', 'FAILURE', 'SUCCESS', 'SUCCESS', 'SUCCESS', 'SUCCESS', 'FAILURE', 'SUCCESS', 'SUCCESS', 'SUCCESS', 'SUCCESS', 'SUCCESS', 'SUCCESS', 'SUCCESS', 'SUCCESS', 'SUCCESS', 'SUCCESS']\n"
          ],
          "name": "stdout"
        }
      ]
    },
    {
      "cell_type": "markdown",
      "metadata": {
        "id": "pb5gAOrHQ67U"
      },
      "source": [
        "<H4>Splitting log lines for vectorization</H4>"
      ]
    },
    {
      "cell_type": "code",
      "metadata": {
        "colab": {
          "base_uri": "https://localhost:8080/"
        },
        "id": "BuzkkC0dOamf",
        "outputId": "7920c662-efa6-4850-9e51-19477a9adb98"
      },
      "source": [
        "vocab = {}\n",
        "i = 0\n",
        "for log in array_of_logs2:\n",
        "  log = str(log).split(\",\")\n",
        "  for line in log:\n",
        "    if line not in vocab:\n",
        "      vocab[line] = i\n",
        "      i+=1\n",
        "print(len(vocab))"
      ],
      "execution_count": 45,
      "outputs": [
        {
          "output_type": "stream",
          "text": [
            "39005\n"
          ],
          "name": "stdout"
        }
      ]
    },
    {
      "cell_type": "code",
      "metadata": {
        "id": "S056NuDx71Wt"
      },
      "source": [
        "# 1 := success, 0 := fail\n",
        "y = []\n",
        "for label in labels:\n",
        "  if label == 'SUCCESS':\n",
        "    y.append(1)\n",
        "  else:\n",
        "    y.append(0)"
      ],
      "execution_count": 46,
      "outputs": []
    },
    {
      "cell_type": "markdown",
      "metadata": {
        "id": "aTYgLuEaRHiX"
      },
      "source": [
        "<H2>Classifying logs without drain and parsing</H2>\n",
        "\n",
        "Here begins the process of vectorizing each log line and then classifying it as a pass or fail log accordingly. If this cell has an error, run the cell that removes newline characters and the leading b' tag from the logs."
      ]
    },
    {
      "cell_type": "code",
      "metadata": {
        "id": "sUhrDxlNO7JS"
      },
      "source": [
        "from sklearn.feature_extraction.text import TfidfVectorizer\n",
        "vectorizer = TfidfVectorizer(vocabulary = vocab)\n",
        "X = vectorizer.fit_transform(array_of_logs2)"
      ],
      "execution_count": 50,
      "outputs": []
    },
    {
      "cell_type": "code",
      "metadata": {
        "id": "TPerlihUQUkT"
      },
      "source": [
        "from sklearn.model_selection import StratifiedShuffleSplit\n",
        "sss = StratifiedShuffleSplit(n_splits=1, test_size=0.4, random_state=1)\n",
        "sss.get_n_splits(X, y)\n",
        "y = np.array(y)\n",
        "for train_index, test_index in sss.split(X, y):\n",
        "  X_train, X_test = X[train_index], X[test_index]\n",
        "  y_train, y_test = y[train_index], y[test_index]"
      ],
      "execution_count": 51,
      "outputs": []
    },
    {
      "cell_type": "code",
      "metadata": {
        "colab": {
          "base_uri": "https://localhost:8080/"
        },
        "id": "6Y-0e2p9Qa4J",
        "outputId": "95fc1be9-43b0-4763-ecef-a4865cce3b9d"
      },
      "source": [
        "from sklearn.ensemble import RandomForestClassifier\n",
        "model = RandomForestClassifier(n_estimators=100, criterion='gini', max_depth=None, min_samples_split=12,\n",
        "                               min_samples_leaf=1, min_weight_fraction_leaf=0.0, max_features=None, \n",
        "                               max_leaf_nodes=None, min_impurity_decrease=0.0, min_impurity_split=None, \n",
        "                               bootstrap=True, oob_score=False, n_jobs=None, random_state=1, verbose=0, \n",
        "                               warm_start=False, class_weight=None, ccp_alpha=0.0, max_samples=None).fit(X_train, y_train)\n",
        "                              \n",
        "from sklearn.metrics import mean_squared_error\n",
        "y_test_predictions = model.predict(X_test)\n",
        "print(\"RMSE on testing set = \", mean_squared_error(y_test, y_test_predictions))\n",
        "\n",
        "from sklearn.metrics import accuracy_score\n",
        "print(\"Accuracy on testing set = \",accuracy_score(y_test, y_test_predictions))"
      ],
      "execution_count": 52,
      "outputs": [
        {
          "output_type": "stream",
          "text": [
            "RMSE on testing set =  0.4423076923076923\n",
            "Accuracy on testing set =  0.5576923076923077\n"
          ],
          "name": "stdout"
        }
      ]
    },
    {
      "cell_type": "markdown",
      "metadata": {
        "id": "4UBShV3kRskG"
      },
      "source": [
        "<H3>Log Parsing</H3>\n",
        "\n",
        "Logs need to be parsed before processing into drain. This is necessary because drain does not parse consistently for every log.\n",
        "\n",
        "Things to be parsed:\n",
        "<ul>\n",
        "  <li>Dates</li>\n",
        "  <li>Timestamps</li>\n",
        "  <li>Newline characters</li>\n",
        "  <li>Version numbers</li>\n",
        "  <li>Namespace IDs</li>\n",
        "  <li>URLs</li>\n",
        "</ul>"
      ]
    },
    {
      "cell_type": "code",
      "metadata": {
        "id": "fDM9A5aB2wSl"
      },
      "source": [
        "original_log = array_of_logs2[1]"
      ],
      "execution_count": 53,
      "outputs": []
    },
    {
      "cell_type": "code",
      "metadata": {
        "id": "aRyol0yU4HP_"
      },
      "source": [
        "# ******* PARKER *******\n",
        "#  helper function detecting if a string is a date / timestamp\n",
        "def is_date(str):\n",
        "  try:\n",
        "    dateutil.parser.parse(str)\n",
        "    return True\n",
        "  except:\n",
        "    return False\n",
        "for i in range(len(array_of_logs2)):\n",
        " # splitting each section as its own index (for parsing)\n",
        "  array_of_logs2[i] = str(array_of_logs2[i]).split(' ')\n",
        "  for j in range(len(array_of_logs2[i])):\n",
        "    if is_date(array_of_logs2[i][j]) == True:\n",
        "      array_of_logs2[i][j] = ''\n",
        "  array_of_logs2[i] = list(filter(lambda x: x != '', array_of_logs2[i]))\n",
        "  array_of_logs2[i] = ' '.join(array_of_logs2[i])"
      ],
      "execution_count": 54,
      "outputs": []
    },
    {
      "cell_type": "markdown",
      "metadata": {
        "id": "tSINSnQeDqZ9"
      },
      "source": [
        "This code cell removes timestamps and dates in order to mitigate unique identifiers"
      ]
    },
    {
      "cell_type": "code",
      "metadata": {
        "id": "L8a8Nyc76PQo"
      },
      "source": [
        "for index in range(len(array_of_logs2)):\n",
        "  # removing version number\n",
        "  if \"version\" in array_of_logs2[index]:\n",
        "    tmp = array_of_logs2[index].split(\"version\",1)\n",
        "    tmp_1 = tmp[0]\n",
        "    tmp_2 = tmp[1].split()\n",
        "    tmp_2 = tmp_2[1:]\n",
        "    tmp = ''.join(tmp_1) + ' '.join(tmp_2)\n",
        "    array_of_logs2[index] = tmp\n",
        "\n",
        "  # removing creating namespace ID\n",
        "  if \"Creating namespace\" in array_of_logs2[index]:\n",
        "    tmp = array_of_logs2[index].split(\"Creating namespace\", 1)\n",
        "    tmp_1 = tmp[0]\n",
        "    tmp_2 = tmp[1].split()\n",
        "    tmp_2 = tmp_2[1:]\n",
        "    tmp = ''.join(tmp_1) + ' '.join(tmp_2)\n",
        "    array_of_logs2[index] = tmp\n",
        "\n",
        "  # removing using namespace ID\n",
        "  if \"Using namespace\" in array_of_logs2[index]:\n",
        "    tmp = array_of_logs2[index].split(\"Using namespace\", 1)\n",
        "    tmp_1 = tmp[0]\n",
        "    tmp_2 = tmp[1].split()\n",
        "    tmp_2 = tmp_2[1:]\n",
        "    tmp = ''.join(tmp_1) + ' '.join(tmp_2)\n",
        "    array_of_logs2[index] = tmp\n",
        "\n",
        "  # removing Imported release stamp\n",
        "  if \"Imported release\" in array_of_logs2[index]:\n",
        "    tmp = array_of_logs2[index].split(\"Imported release\", 1)\n",
        "    tmp_1 = tmp[0]\n",
        "    tmp_2 = tmp[1].split()\n",
        "    tmp_2 = tmp_2[1:]\n",
        "    tmp = ''.join(tmp_1) + ' '.join(tmp_2)\n",
        "    array_of_logs2[index] = tmp\n",
        "\n",
        "  # removing Acquired lease stamp\n",
        "  if \"Acquired lease\" in array_of_logs2[index]:\n",
        "    tmp = array_of_logs2[index].split(\"Acquired lease\", 1)\n",
        "    tmp_1 = tmp[0]\n",
        "    tmp_2 = tmp[1].split()\n",
        "    tmp_2 = tmp_2[1:]\n",
        "    tmp = ''.join(tmp_1) + ' '.join(tmp_2)\n",
        "    array_of_logs2[index] = tmp\n",
        "\n",
        "  # removing \"images will be pullable from\" link\n",
        "  if \"images will be pullable from\" in array_of_logs2[index]:\n",
        "    tmp = array_of_logs2[index].split(\"images will be pullable from\", 1)\n",
        "    tmp_1 = tmp[0]\n",
        "    tmp_2 = tmp[1].split()\n",
        "    tmp_2 = tmp_2[1:]\n",
        "    tmp = ''.join(tmp_1) + ' '.join(tmp_2)\n",
        "    array_of_logs2[index] = tmp"
      ],
      "execution_count": 55,
      "outputs": []
    },
    {
      "cell_type": "markdown",
      "metadata": {
        "id": "35RiS8Y2S3Yn"
      },
      "source": [
        "This code cell is removing any unique identifiers such as version numbers, URLs and namespace IDs"
      ]
    },
    {
      "cell_type": "markdown",
      "metadata": {
        "id": "RDSHV7fZTOBT"
      },
      "source": [
        "<H3>Drain3 Processing</H3>\n",
        "\n",
        "The parsed logs are now being processed in Drain. Drain will do additional parsing and also cluster the logs. Drain uses longest common subsequence as their algorithm for clustering, so logs with similar structure will be considered to be in the same clustering. There are two dictionaries that represent the size of each cluster and another that separates the logs by cluster ID. The goal of this is to determine which clusters are pass logs and which clusters are fail logs."
      ]
    },
    {
      "cell_type": "code",
      "metadata": {
        "id": "WtFxnlMOmp3W",
        "colab": {
          "base_uri": "https://localhost:8080/"
        },
        "outputId": "7ac27f36-ec4f-4818-9998-d9c98940f744"
      },
      "source": [
        "import drain3\n",
        "from drain3 import TemplateMiner\n",
        "import json\n",
        "import logging\n",
        "import sys\n",
        "from drain3.kafka_persistence import KafkaPersistence\n",
        "import re\n",
        "\n",
        "template_miner = TemplateMiner(None)\n",
        "i = 0\n",
        "ints_from_drain = []\n",
        "while True:\n",
        "    if i >= len(array_of_logs2):\n",
        "      break\n",
        "    log_line = ' '.join(array_of_logs2[i])\n",
        "    i += 1\n",
        "    if log_line == 'q':\n",
        "        break\n",
        "    result = template_miner.add_log_message(log_line)\n",
        "    result_json = json.dumps(result)\n",
        "    ints_from_drain.append(re.findall(r'\\d+', result_json))\n",
        "    # print(result_json)\n",
        "\n",
        "ints_from_drain = np.asarray(ints_from_drain)\n",
        "\n",
        "cluster_size = {}\n",
        "cluster_id = {}\n",
        "for cluster in template_miner.drain.clusters:\n",
        "  if cluster.cluster_id not in cluster_size:\n",
        "    cluster_size[cluster.cluster_id] = cluster.size\n",
        "    cluster_id[cluster.cluster_id] = []\n",
        "\n",
        "\n",
        "for i in range(len(ints_from_drain)):\n",
        "  cluster_id[int(ints_from_drain[i][0])].append(array_of_logs2[i])\n",
        "\n",
        "print(cluster_size)\n"
      ],
      "execution_count": 56,
      "outputs": [
        {
          "output_type": "stream",
          "text": [
            "config file not found: drain3.ini\n"
          ],
          "name": "stderr"
        },
        {
          "output_type": "stream",
          "text": [
            "{1: 1, 2: 1, 3: 1, 4: 1, 5: 1, 6: 1, 7: 1, 8: 1, 9: 1, 10: 1, 11: 1, 12: 1, 13: 1, 14: 1, 15: 2, 16: 1, 17: 1, 18: 1, 19: 1, 20: 1, 21: 1, 22: 1, 23: 1, 24: 1, 25: 1, 26: 1, 27: 1, 28: 1, 29: 1, 30: 1, 31: 1, 32: 1, 33: 1, 34: 1, 35: 1, 36: 1, 37: 1, 38: 1, 39: 1, 40: 1, 41: 1, 42: 1, 43: 1, 44: 1, 45: 1, 46: 1, 47: 1, 48: 1, 49: 1, 50: 1, 51: 1, 52: 1, 53: 1, 54: 1, 55: 1, 56: 1, 57: 1, 58: 1, 59: 1, 60: 1, 61: 1, 62: 1, 63: 1, 64: 1, 65: 1, 66: 1, 67: 1, 68: 1, 69: 1, 70: 1, 71: 1, 72: 1, 73: 1, 74: 1, 75: 1, 76: 1, 77: 1, 78: 1, 79: 1, 80: 1, 81: 1, 82: 1, 83: 1, 84: 1, 85: 1, 86: 1, 87: 1, 88: 1, 89: 9, 90: 1, 91: 1, 92: 1, 93: 2, 94: 1, 95: 5, 96: 7, 97: 1, 98: 5, 99: 1, 100: 2, 101: 1, 102: 1, 103: 6, 104: 1, 105: 1, 106: 1, 107: 3, 108: 1, 109: 1, 110: 1, 111: 1, 112: 14, 113: 1, 114: 1, 115: 1, 116: 1, 117: 3, 118: 3, 119: 1, 120: 1, 121: 1, 122: 10, 123: 1, 124: 1, 125: 1, 126: 1, 127: 1, 128: 3, 129: 1, 130: 3, 131: 2, 132: 37, 133: 4, 134: 1, 135: 1, 136: 1, 137: 1, 138: 3, 139: 2, 140: 1, 141: 1, 142: 1, 143: 1, 144: 1, 145: 1, 146: 1, 147: 2, 148: 1, 149: 1, 150: 1, 151: 2, 152: 1, 153: 1}\n"
          ],
          "name": "stdout"
        },
        {
          "output_type": "stream",
          "text": [
            "/usr/local/lib/python3.7/dist-packages/numpy/core/_asarray.py:83: VisibleDeprecationWarning: Creating an ndarray from ragged nested sequences (which is a list-or-tuple of lists-or-tuples-or ndarrays with different lengths or shapes) is deprecated. If you meant to do this, you must specify 'dtype=object' when creating the ndarray\n",
            "  return array(a, dtype, copy=False, order=order)\n"
          ],
          "name": "stderr"
        }
      ]
    },
    {
      "cell_type": "markdown",
      "metadata": {
        "id": "UlznByNoD3w1"
      },
      "source": [
        "<H3>Parsing Results Printout</H3>\n",
        "\n",
        "Here is a snippet example of what the parsing process does to each log. As you can see the leading byte tag, dates, and unique URLs will be parsed out from both manual parsing and Drain."
      ]
    },
    {
      "cell_type": "code",
      "metadata": {
        "colab": {
          "base_uri": "https://localhost:8080/"
        },
        "id": "6rqae9VQDaoS",
        "outputId": "84e6ce6a-73ac-4dce-eae7-feb4624183cb"
      },
      "source": [
        "print(original_log.split(',')[:3])\n",
        "print(array_of_logs2[1].split(',')[:3])"
      ],
      "execution_count": 57,
      "outputs": [
        {
          "output_type": "stream",
          "text": [
            "['2020/10/20 22:29:21 ci-operator version v20201015-b9bdbe6\"', \" '2020/10/20 22:29:21 No source defined'\", \" '2020/10/20 22:29:21 Resolved release latest to registry.svc.ci.openshift.org/ocp/release:4.5-ci'\"]\n",
            "[\"ci-operator No source defined'\", \" Resolved release latest to registry.svc.ci.openshift.org/ocp/release:4.5-ci'\", ' Running [release-inputs]']\n"
          ],
          "name": "stdout"
        }
      ]
    },
    {
      "cell_type": "markdown",
      "metadata": {
        "id": "6exsz7srB2en"
      },
      "source": [
        "<H3>Number of unique logs</H3>\n",
        "Before drain there was 266 logs that were passed into the algorithm. Drain returned 155 unique clusters after that."
      ]
    },
    {
      "cell_type": "markdown",
      "metadata": {
        "id": "aMuEAdZvVZUX"
      },
      "source": [
        "<H4>Log cluster example</H4>\n",
        "\n",
        "Here is a printout of logs that fall under a cluster with the ID of 94. This cluster contains the most amount of data logs. Based on the clustering algorithm it is evident that drain uses longest common sequence because all of these logs in this cluster contain the exact same structure with very small differences, especially after being parsed."
      ]
    },
    {
      "cell_type": "code",
      "metadata": {
        "colab": {
          "base_uri": "https://localhost:8080/"
        },
        "id": "Rx-UE8x2VXRg",
        "outputId": "c7f2d2c0-eed4-42e0-b3bd-82778afebd87"
      },
      "source": [
        "i = 1\n",
        "for log in cluster_id[95]:\n",
        "  print(\"log\", i, \":\",  log[:200], \"...\")\n",
        "  print()\n",
        "  i += 1"
      ],
      "execution_count": 58,
      "outputs": [
        {
          "output_type": "stream",
          "text": [
            "log 1 : ci-operator No source defined', Resolved release latest to registry.svc.ci.openshift.org/ocp/release:4.1', Running [release-inputs], e2e-aws-serial, [images], [release:latest]', Setting up pipeline im ...\n",
            "\n",
            "log 2 : ci-operator No source defined', Resolved release latest to registry.svc.ci.openshift.org/ocp/release:4.1', Running [release-inputs], e2e-aws-serial, [images], [release:latest]', Setting up pipeline im ...\n",
            "\n",
            "log 3 : ci-operator No source defined', Resolved release latest to registry.svc.ci.openshift.org/ocp/release:4.1', Running [release-inputs], e2e-aws-serial, [images], [release:latest]', Setting up pipeline im ...\n",
            "\n",
            "log 4 : ci-operator No source defined', Resolved release latest to registry.svc.ci.openshift.org/ocp/release:4.1', Running [release-inputs], e2e-aws-serial, [images], [release:latest]', Setting up pipeline im ...\n",
            "\n",
            "log 5 : ci-operator No source defined', Resolved release latest to registry.svc.ci.openshift.org/ocp/release:4.1', Running [release-inputs], e2e-aws-serial, [images], [release:latest]', Setting up pipeline im ...\n",
            "\n"
          ],
          "name": "stdout"
        }
      ]
    },
    {
      "cell_type": "markdown",
      "metadata": {
        "id": "yMgfiryITDZ5"
      },
      "source": [
        "<H2>Classifying logs with Drain and parsing</H2>"
      ]
    },
    {
      "cell_type": "code",
      "metadata": {
        "colab": {
          "base_uri": "https://localhost:8080/"
        },
        "id": "Zm8de6q1RvAx",
        "outputId": "be6cb593-2e4a-43a2-8ec2-05565eb8ebe8"
      },
      "source": [
        "vocab = {}\n",
        "i = 0\n",
        "for log in array_of_logs2:\n",
        "  log = str(log).split(\",\")\n",
        "  for line in log:\n",
        "    if line not in vocab:\n",
        "      vocab[line] = i\n",
        "      i+=1\n",
        "print(len(vocab))"
      ],
      "execution_count": 59,
      "outputs": [
        {
          "output_type": "stream",
          "text": [
            "25810\n"
          ],
          "name": "stdout"
        }
      ]
    },
    {
      "cell_type": "markdown",
      "metadata": {
        "id": "feNguNBnV7c_"
      },
      "source": [
        "<H4>Vectorizing log lines</H4>"
      ]
    },
    {
      "cell_type": "code",
      "metadata": {
        "id": "M-7kd8rRR4qL"
      },
      "source": [
        "from sklearn.feature_extraction.text import TfidfVectorizer\n",
        "vectorizer = TfidfVectorizer(vocabulary = vocab)\n",
        "X = vectorizer.fit_transform(array_of_logs2)"
      ],
      "execution_count": 60,
      "outputs": []
    },
    {
      "cell_type": "code",
      "metadata": {
        "id": "gfJt0J1bR9ir"
      },
      "source": [
        "from sklearn.model_selection import StratifiedShuffleSplit\n",
        "sss = StratifiedShuffleSplit(n_splits=1, test_size=0.4, random_state=1)\n",
        "sss.get_n_splits(X, y)\n",
        "y = np.array(y)\n",
        "for train_index, test_index in sss.split(X, y):\n",
        "  X_train, X_test = X[train_index], X[test_index]\n",
        "  y_train, y_test = y[train_index], y[test_index]"
      ],
      "execution_count": 61,
      "outputs": []
    },
    {
      "cell_type": "markdown",
      "metadata": {
        "id": "N4sxG2SiWB0_"
      },
      "source": [
        "<H4>Classifying logs with Random Forest Classifier</H4>"
      ]
    },
    {
      "cell_type": "code",
      "metadata": {
        "colab": {
          "base_uri": "https://localhost:8080/"
        },
        "id": "Bpp7dguESDXu",
        "outputId": "e486cb9d-d742-45f5-a4e5-0533be5255b2"
      },
      "source": [
        "from sklearn.ensemble import RandomForestClassifier\n",
        "model = RandomForestClassifier(n_estimators=100, criterion='gini', max_depth=None, min_samples_split=12,\n",
        "                               min_samples_leaf=1, min_weight_fraction_leaf=0.0, max_features=None, \n",
        "                               max_leaf_nodes=None, min_impurity_decrease=0.0, min_impurity_split=None, \n",
        "                               bootstrap=True, oob_score=False, n_jobs=None, random_state=1, verbose=0, \n",
        "                               warm_start=False, class_weight=None, ccp_alpha=0.0, max_samples=None).fit(X_train, y_train)\n",
        "                              \n",
        "from sklearn.metrics import mean_squared_error\n",
        "y_test_predictions = model.predict(X_test)\n",
        "print(\"RMSE on testing set = \", mean_squared_error(y_test, y_test_predictions))\n",
        "\n",
        "from sklearn.metrics import accuracy_score\n",
        "print(\"Accuracy on testing set = \",accuracy_score(y_test, y_test_predictions))\n"
      ],
      "execution_count": 62,
      "outputs": [
        {
          "output_type": "stream",
          "text": [
            "RMSE on testing set =  0.4423076923076923\n",
            "Accuracy on testing set =  0.5576923076923077\n"
          ],
          "name": "stdout"
        }
      ]
    },
    {
      "cell_type": "markdown",
      "metadata": {
        "id": "DtfC_gaeGv8v"
      },
      "source": [
        "The cell below runs the drain3 program. Process the log info and generate clusters and a prefix tree of the log information."
      ]
    },
    {
      "cell_type": "code",
      "metadata": {
        "colab": {
          "base_uri": "https://localhost:8080/"
        },
        "id": "cb0-1Ou6EYbx",
        "outputId": "1afd2a3e-9e0b-422d-e8d9-0bf2e698ee3f"
      },
      "source": [
        "import subprocess\n",
        "import time\n",
        "\n",
        "logger = logging.getLogger(__name__)\n",
        "logging.basicConfig(stream=sys.stdout, level=logging.INFO, format='%(message)s')\n",
        "\n",
        "template_miner = TemplateMiner()\n",
        "\n",
        "line_count = 0\n",
        "start_time = time.time()\n",
        "batch_start_time = start_time\n",
        "batch_size = 10000\n",
        "for i in range(len(array_of_logs2)):\n",
        "  for line in array_of_logs2[i]:\n",
        "      line = line.rstrip()\n",
        "      line = line.partition(\": \")[2]\n",
        "      result = template_miner.add_log_message(line)\n",
        "      line_count += 1\n",
        "      if line_count % batch_size == 0:\n",
        "          time_took = time.time() - batch_start_time\n",
        "          rate = batch_size / time_took\n",
        "          # logger.info(f\"Processing line: {line_count}, rate {rate:.1f} lines/sec, \"\n",
        "          #             f\"{len(template_miner.drain.clusters)} clusters so far.\")\n",
        "          batch_start_time = time.time()\n",
        "      if result[\"change_type\"] != \"none\":\n",
        "          result_json = json.dumps(result)\n",
        "          logger.info(f\"Input ({line_count}): \" + line)\n",
        "          logger.info(\"Result: \" + result_json)\n",
        "\n",
        "time_took = time.time() - start_time\n",
        "rate = line_count / time_took\n",
        "logger.info(f\"--- Done processing file. Total of {line_count} lines, rate {rate:.1f} lines/sec, \"\n",
        "            f\"{len(template_miner.drain.clusters)} clusters\")\n",
        "sorted_clusters = sorted(template_miner.drain.clusters, key=lambda it: it.size, reverse=True)\n",
        "for cluster in sorted_clusters:\n",
        "    logger.info(cluster)\n",
        "\n",
        "print(\"Prefix Tree:\")\n",
        "template_miner.drain.print_tree()\n",
        "\n",
        "template_miner.profiler.report(0)"
      ],
      "execution_count": null,
      "outputs": [
        {
          "output_type": "stream",
          "text": [
            "Starting Drain3 template miner\n",
            "Loading configuration from drain3.ini\n",
            "config file not found: drain3.ini\n",
            "Input (1): \n",
            "Result: {\"change_type\": \"cluster_created\", \"cluster_id\": 1, \"cluster_size\": 1, \"template_mined\": \"\", \"cluster_count\": 1}\n",
            "--- Done processing file. Total of 8423059 lines, rate 142207.0 lines/sec, 1 clusters\n",
            "ID=1     : size=8423059   : \n",
            "Prefix Tree:\n",
            "<root>\n",
            "\t<0>\n"
          ],
          "name": "stdout"
        }
      ]
    },
    {
      "cell_type": "code",
      "metadata": {
        "colab": {
          "base_uri": "https://localhost:8080/",
          "height": 839
        },
        "id": "Did5do5Ga_TQ",
        "outputId": "fd66edb1-5c5e-4e9e-f85f-f6366ee80b03"
      },
      "source": [
        "# ******* NINGXIAO *******\n",
        "# find events in log, display frequecy of each event in a bar chart\n",
        "import spacy\n",
        "s = \"\"\n",
        "for log in array_of_logs2:\n",
        "    temp = \"\"\n",
        "    temp = temp.join(log)\n",
        "    s += temp\n",
        "# Error Message: Text of length 5496377 exceeds maximum of 1000000.\n",
        "s = s[0:100000]\n",
        "nlp = spacy.load(\"en_core_web_sm\")\n",
        "doc = nlp(s)\n",
        "dictionary = {};\n",
        "for token in doc:\n",
        "    if token.pos_ == 'VERB':\n",
        "        if token.text not in dictionary:\n",
        "            dictionary[token.text] = 1\n",
        "        else:\n",
        "            dictionary[token.text] += 1\n",
        "    #print(token.text, toekn.pos_)\n",
        "\n",
        "#print(dictionary)\n",
        "\n",
        "keys = list(dictionary.keys())\n",
        "values = list(dictionary.values())\n",
        "\n",
        "fig, ax = plt.subplots(figsize=(20, 14))  \n",
        "ax.barh(keys,values)\n",
        "plt.title('Verbs in logs')\n",
        "plt.ylabel('Verbs')\n",
        "plt.xlabel('Frequency')\n",
        "\n",
        "plt.show()"
      ],
      "execution_count": null,
      "outputs": [
        {
          "output_type": "display_data",
          "data": {
            "image/png": "[encoded data removed]",
            "text/plain": [
              "<Figure size 1440x1008 with 1 Axes>"
            ]
          },
          "metadata": {
            "tags": [],
            "needs_background": "light"
          }
        }
      ]
    },
    {
      "cell_type": "code",
      "metadata": {
        "id": "p4HDylvOFVLQ"
      },
      "source": [
        ""
      ],
      "execution_count": null,
      "outputs": []
    },
    {
      "cell_type": "markdown",
      "metadata": {
        "id": "R1oosA55NoQZ"
      },
      "source": [
        "The image above shows the verbs and their frequency appear in the tokenized log text. It indicates what event and how often it happens in the log."
      ]
    },
    {
      "cell_type": "markdown",
      "metadata": {
        "id": "OgppBguQFb-q"
      },
      "source": [
        "***Analysis logs***"
      ]
    },
    {
      "cell_type": "code",
      "metadata": {
        "id": "CmbDC2qqq-8k"
      },
      "source": [
        "# ******* Tianze Shan *******\n",
        "\n",
        "# input: dict of logs, wether show negative logs\n",
        "# return: dict of log scores, negative logs if TRUE\n",
        "def score_clusters(cluster_id, show_negative_logs=False):\n",
        "  from textblob import TextBlob\n",
        "  logList=[]\n",
        "  for i in range(1,len(cluster_id)+1):\n",
        "    valueList=[]\n",
        "    for log in cluster_id[i]:\n",
        "      emotionScore = TextBlob(log).sentiment.polarity\n",
        "      if emotionScore < 0 and show_negative_logs==True:\n",
        "        print('cluster_id =',i ,' includes log has negative score ', round(emotionScore,3),': ',log)\n",
        "      valueList.append(emotionScore)\n",
        "    logList.append(valueList)\n",
        "    # print('emotion score of Cluster_id ',i,': ', valueList)\n",
        "    scoreDict = dict(zip(list(range(1,len(cluster_id)+1)), logList))\n",
        "  return scoreDict\n",
        "\n",
        "# input: dict of logs, keyword\n",
        "# return: dict of number of keyword in each log\n",
        "def countWords(cluster_id, word):\n",
        "  numFail=[]\n",
        "  for i in range(1,len(cluster_id)+1):\n",
        "    countList=[]\n",
        "    for log in cluster_id[i]:\n",
        "      count= log.lower().count(word)\n",
        "      countList.append(count)\n",
        "      # print('Cluster_id ',i,': ', count)\n",
        "    numFail.append(countList)\n",
        "    result = dict(zip(list(range(1,len(cluster_id)+1)), numFail))\n",
        "  return result"
      ],
      "execution_count": 63,
      "outputs": []
    },
    {
      "cell_type": "code",
      "metadata": {
        "id": "zv6AGTaM01fW"
      },
      "source": [
        "#print failed logs (negative socres) and a dictionary of emotion score\n",
        "# print(score_clusters(cluster_id,True))\n"
      ],
      "execution_count": 64,
      "outputs": []
    },
    {
      "cell_type": "code",
      "metadata": {
        "colab": {
          "base_uri": "https://localhost:8080/"
        },
        "id": "XudqdyJYDXb-",
        "outputId": "e640c067-8b00-4080-a48c-840cc3c28d84"
      },
      "source": [
        "print('count fail: ', countWords(cluster_id,'fail'))\n",
        "print('count timeout: ', countWords(cluster_id,'timeout'))\n",
        "print('emotion score: ', score_clusters(cluster_id))"
      ],
      "execution_count": null,
      "outputs": [
        {
          "output_type": "stream",
          "text": [
            "count fail:  {1: [9], 2: [8], 3: [8], 4: [8], 5: [8], 6: [8], 7: [8], 8: [8], 9: [8], 10: [8], 11: [8], 12: [8], 13: [8], 14: [8], 15: [8], 16: [8], 17: [8], 18: [8], 19: [8, 8], 20: [8], 21: [8], 22: [5], 23: [8], 24: [61], 25: [8], 26: [235], 27: [8], 28: [8], 29: [8], 30: [61], 31: [8], 32: [122], 33: [8], 34: [8], 35: [8], 36: [8], 37: [8], 38: [8], 39: [8], 40: [28], 41: [8], 42: [8], 43: [8], 44: [8], 45: [8], 46: [8], 47: [8], 48: [8], 49: [8], 50: [8], 51: [140], 52: [14], 53: [73], 54: [9], 55: [8], 56: [8], 57: [7], 58: [8], 59: [7], 60: [8], 61: [8], 62: [8], 63: [8], 64: [8], 65: [8], 66: [8], 67: [8], 68: [8], 69: [8], 70: [8], 71: [8], 72: [7], 73: [8], 74: [8], 75: [8], 76: [8], 77: [8], 78: [8], 79: [8], 80: [8], 81: [8], 82: [8], 83: [8], 84: [7], 85: [8], 86: [8], 87: [7], 88: [10], 89: [3], 90: [0], 91: [0], 92: [0], 93: [9], 94: [33], 95: [0, 0, 0, 0, 0, 0, 0, 0, 0, 0], 96: [0], 97: [22], 98: [17], 99: [0, 0], 100: [0, 0, 0, 0, 0, 0, 0, 0], 101: [0, 0, 0, 0, 0], 102: [0], 103: [0, 0, 0, 0, 0], 104: [0], 105: [0, 0], 106: [37], 107: [3], 108: [0, 0, 0, 0, 0, 0], 109: [31], 110: [25], 111: [15], 112: [0, 0, 0], 113: [19], 114: [13], 115: [1], 116: [13], 117: [0, 0, 0, 0, 0, 0, 0, 0, 0, 0, 0, 0, 0, 0, 0, 0, 0], 118: [0], 119: [13], 120: [31], 121: [0, 0], 122: [0, 0, 0], 123: [15], 124: [1], 125: [0], 126: [0, 0, 0, 0, 0, 0, 0, 0, 0, 0], 127: [9], 128: [13], 129: [1], 130: [13], 131: [0], 132: [0, 0, 0], 133: [51], 134: [1, 1, 1], 135: [0, 0], 136: [0, 0, 0, 0, 0, 0, 0, 0, 0, 0, 0, 0, 0, 0, 0, 0, 0, 0, 0, 0, 0, 0, 0, 0, 0, 0, 0, 0, 0, 0, 0, 0, 0, 0, 0, 0, 0], 137: [0, 0, 0, 0], 138: [2], 139: [26], 140: [0], 141: [15], 142: [0, 0, 0], 143: [0, 0], 144: [3], 145: [60], 146: [9], 147: [18], 148: [13], 149: [9], 150: [9], 151: [0, 0], 152: [0], 153: [0], 154: [0], 155: [0, 0], 156: [0]}\n",
            "count timeout:  {1: [10], 2: [14], 3: [14], 4: [14], 5: [14], 6: [9], 7: [14], 8: [14], 9: [14], 10: [14], 11: [14], 12: [14], 13: [14], 14: [14], 15: [9], 16: [14], 17: [14], 18: [14], 19: [14, 14], 20: [14], 21: [9], 22: [14], 23: [10], 24: [12], 25: [14], 26: [200], 27: [14], 28: [14], 29: [14], 30: [14], 31: [14], 32: [14], 33: [14], 34: [14], 35: [14], 36: [14], 37: [10], 38: [14], 39: [14], 40: [6], 41: [14], 42: [14], 43: [9], 44: [14], 45: [12], 46: [14], 47: [14], 48: [14], 49: [15], 50: [14], 51: [146], 52: [14], 53: [14], 54: [14], 55: [14], 56: [14], 57: [1], 58: [14], 59: [1], 60: [14], 61: [14], 62: [14], 63: [14], 64: [14], 65: [14], 66: [14], 67: [14], 68: [9], 69: [14], 70: [14], 71: [14], 72: [2], 73: [14], 74: [14], 75: [14], 76: [14], 77: [9], 78: [14], 79: [14], 80: [14], 81: [14], 82: [14], 83: [14], 84: [1], 85: [14], 86: [14], 87: [14], 88: [0], 89: [3], 90: [0], 91: [0], 92: [0], 93: [0], 94: [4], 95: [0, 0, 0, 0, 0, 0, 0, 0, 0, 0], 96: [0], 97: [1], 98: [0], 99: [0, 0], 100: [0, 0, 0, 0, 0, 0, 0, 0], 101: [0, 0, 0, 0, 0], 102: [0], 103: [0, 0, 0, 0, 0], 104: [0], 105: [0, 0], 106: [9], 107: [0], 108: [0, 0, 0, 0, 0, 0], 109: [6], 110: [4], 111: [0], 112: [0, 0, 0], 113: [0], 114: [0], 115: [0], 116: [0], 117: [0, 0, 0, 0, 0, 0, 0, 0, 0, 0, 0, 0, 0, 0, 0, 0, 0], 118: [0], 119: [0], 120: [6], 121: [0, 0], 122: [0, 0, 0], 123: [4], 124: [0], 125: [0], 126: [0, 0, 0, 0, 0, 0, 0, 0, 0, 0], 127: [0], 128: [0], 129: [0], 130: [0], 131: [0], 132: [0, 0, 0], 133: [14], 134: [0, 0, 0], 135: [0, 0], 136: [0, 0, 0, 0, 0, 0, 0, 0, 0, 0, 0, 0, 0, 0, 0, 0, 0, 0, 0, 0, 0, 0, 0, 0, 0, 0, 0, 0, 0, 0, 0, 0, 0, 0, 0, 0, 0], 137: [0, 0, 0, 0], 138: [0], 139: [9], 140: [0], 141: [0], 142: [0, 0, 0], 143: [0, 0], 144: [0], 145: [6], 146: [0], 147: [2], 148: [0], 149: [0], 150: [0], 151: [0, 0], 152: [0], 153: [0], 154: [0], 155: [0, 0], 156: [0]}\n",
            "emotion score:  {1: [0.06955721137375813], 2: [0.11798902195608767], 3: [0.1590465465465465], 4: [0.1590465465465465], 5: [0.12823368111289432], 6: [0.07026081424936385], 7: [0.11452310090702934], 8: [0.10592803030303008], 9: [0.07880998702983123], 10: [0.11349800399201586], 11: [0.11850429125138416], 12: [0.1590465465465465], 13: [0.1194708230112853], 14: [0.09092487373737357], 15: [0.07026081424936385], 16: [0.11349800399201586], 17: [0.1590465465465465], 18: [0.11349800399201586], 19: [0.1590465465465465, 0.1590465465465465], 20: [0.05131673881673872], 21: [0.07026081424936385], 22: [0.08034494535519117], 23: [0.03828806170355468], 24: [-0.07600532945736442], 25: [0.1695058997050147], 26: [0.03618399988357211], 27: [0.1665607344632768], 28: [0.16854662698412692], 29: [0.1590465465465465], 30: [-0.4776329866154477], 31: [0.0676400273224043], 32: [0.1923154586318292], 33: [0.1590465465465465], 34: [0.06386019283746548], 35: [0.10866769547325097], 36: [0.10866769547325097], 37: [0.017658730158730176], 38: [0.09516888150609065], 39: [0.1590465465465465], 40: [-0.013679245283018874], 41: [0.12734396018294297], 42: [0.09626369327073538], 43: [0.0689726631393298], 44: [0.10835813492063485], 45: [0.00289740896358545], 46: [0.15093005952380947], 47: [0.10835813492063485], 48: [0.10835813492063485], 49: [0.07996108058608042], 50: [0.10953419158361008], 51: [-0.059983652790256206], 52: [0.08981504994074824], 53: [-0.03565962323584273], 54: [0.10272510822510814], 55: [0.14556689779147403], 56: [0.10923184630811737], 57: [0.031926406926406935], 58: [0.10618904562870071], 59: [-0.019851576994434135], 60: [0.08733741524837405], 61: [0.14407290114257323], 62: [0.1082291051751278], 63: [0.0910313360881541], 64: [0.14790268759018754], 65: [0.14904162641765945], 66: [0.10721490414347547], 67: [0.14556689779147403], 68: [0.06323836187966622], 69: [0.10618904562870071], 70: [0.09561159211159191], 71: [0.10618904562870071], 72: [-0.02907092907092907], 73: [0.10408323321318898], 74: [0.11727565712372326], 75: [0.07803611511944829], 76: [0.1151841022697375], 77: [0.06797189217401982], 78: [0.14790268759018754], 79: [0.14556689779147403], 80: [0.11072510822510807], 81: [0.12212579087579065], 82: [0.10618904562870071], 83: [0.12091757341757328], 84: [0.016984975808505227], 85: [0.14556689779147403], 86: [0.10829589499647628], 87: [0.1264784946236558], 88: [-0.0663265306122449], 89: [-0.038888888888888896], 90: [0.19166666666666665], 91: [0.2714285714285714], 92: [0.19166666666666665], 93: [-0.195], 94: [-0.13577717996289376], 95: [0.19166666666666665, 0.19166666666666665, 0.19166666666666665, 0.19166666666666665, 0.19166666666666665, 0.19166666666666665, 0.19166666666666665, 0.19166666666666665, 0.19166666666666665, 0.19166666666666665], 96: [0.19166666666666665], 97: [-0.19405796055796032], 98: [-0.1764705882352941], 99: [0.2714285714285714, 0.2714285714285714], 100: [0.19166666666666665, 0.19166666666666665, 0.19166666666666665, 0.19166666666666665, 0.19166666666666665, 0.19166666666666665, 0.19166666666666665, 0.19166666666666665], 101: [0.33125, 0.33125, 0.33125, 0.33125, 0.33125], 102: [0.33125], 103: [0.19166666666666665, 0.19166666666666665, 0.19166666666666665, 0.19166666666666665, 0.19166666666666665], 104: [0.2714285714285714], 105: [0.2714285714285714, 0.2714285714285714], 106: [-0.20819729458325922], 107: [0.2189655172413793], 108: [0.37777777777777777, 0.37777777777777777, 0.37777777777777777, 0.37777777777777777, 0.37777777777777777, 0.37777777777777777], 109: [-0.24433817260053012], 110: [-0.11198587157751085], 111: [-0.19285714285714284], 112: [0.33125, 0.33125, 0.33125], 113: [-0.3554347826086957], 114: [-0.2625], 115: [0.23888888888888887], 116: [-0.222], 117: [0.33125, 0.33125, 0.33125, 0.33125, 0.33125, 0.33125, 0.33125, 0.33125, 0.33125, 0.33125, 0.33125, 0.33125, 0.33125, 0.33125, 0.33125, 0.33125, 0.33125], 118: [0.19166666666666665], 119: [-0.222], 120: [-0.21917592147221748], 121: [-0.08333333333333333, -0.08333333333333333], 122: [0.33125, 0.33125, 0.33125], 123: [-0.22999999999999998], 124: [0.13999999999999999], 125: [0.2111111111111111], 126: [0.2111111111111111, 0.2111111111111111, 0.2111111111111111, 0.2111111111111111, 0.2111111111111111, 0.2111111111111111, 0.2111111111111111, 0.2111111111111111, 0.2111111111111111, 0.2111111111111111], 127: [-0.16150793650793654], 128: [-0.3078947368421052], 129: [0.13999999999999999], 130: [-0.3078947368421052], 131: [0.15174825174825174], 132: [0.14484848484848487, 0.14484848484848487, 0.14484848484848487], 133: [-0.22607275480529326], 134: [0.10454545454545454, 0.10454545454545454, 0.10454545454545454], 135: [0.14484848484848487, 0.14484848484848487], 136: [0.14484848484848487, 0.14484848484848487, 0.14484848484848487, 0.14484848484848487, 0.14484848484848487, 0.14484848484848487, 0.14484848484848487, 0.14484848484848487, 0.14484848484848487, 0.14484848484848487, 0.14484848484848487, 0.14484848484848487, 0.14484848484848487, 0.14484848484848487, 0.14484848484848487, 0.14484848484848487, 0.14484848484848487, 0.14484848484848487, 0.14484848484848487, 0.14484848484848487, 0.14484848484848487, 0.14484848484848487, 0.14484848484848487, 0.14484848484848487, 0.14484848484848487, 0.14484848484848487, 0.14484848484848487, 0.14484848484848487, 0.14484848484848487, 0.14484848484848487, 0.14484848484848487, 0.14484848484848487, 0.14484848484848487, 0.14484848484848487, 0.14484848484848487, 0.14484848484848487, 0.14484848484848487], 137: [0.14484848484848487, 0.14484848484848487, 0.14484848484848487, 0.14484848484848487], 138: [0.06484848484848485], 139: [-0.24714399904557374], 140: [0.15174825174825174], 141: [-0.16792207792207792], 142: [0.15174825174825174, 0.15174825174825174, 0.15174825174825174], 143: [0.14484848484848487, 0.14484848484848487], 144: [-0.07902097902097903], 145: [-0.3803409090909091], 146: [-0.14404388714733543], 147: [-0.2385786775679712], 148: [-0.18566433566433566], 149: [-0.12954545454545455], 150: [-0.07935064935064934], 151: [0.15174825174825174, 0.15174825174825174], 152: [0.14484848484848487], 153: [0.14484848484848487], 154: [0.5], 155: [0.5, 0.5], 156: [0.5]}\n"
          ],
          "name": "stdout"
        }
      ]
    },
    {
      "cell_type": "code",
      "metadata": {
        "id": "w23gawBGI8RK"
      },
      "source": [
        "#{[1,1,1],[3,3],[1,2,3]} -> {[1],[3],[2]}\n",
        "import numpy as np\n",
        "def mean_dict(dic):\n",
        "  mean_list=[]\n",
        "  for key, value in dic.items():\n",
        "    mean_list.append(np.mean(value))\n",
        "  result = dict(zip(list(range(1,len(dic)+1)),mean_list))\n",
        "  return result\n",
        "\n",
        "\n"
      ],
      "execution_count": null,
      "outputs": []
    },
    {
      "cell_type": "code",
      "metadata": {
        "id": "iSlnG_OgLP69"
      },
      "source": [
        "def dictDraw(dictionary,title,xlabel,ylabel):\n",
        "  keys = list(dictionary.keys())\n",
        "  values = list(dictionary.values())\n",
        "  fig, ax = plt.subplots(figsize=(14, 7))  \n",
        "  ax.barh(keys,values)\n",
        "  plt.title(title)\n",
        "  plt.ylabel(ylabel)\n",
        "  plt.xlabel(xlabel)\n",
        "  plt.show()"
      ],
      "execution_count": null,
      "outputs": []
    },
    {
      "cell_type": "code",
      "metadata": {
        "colab": {
          "base_uri": "https://localhost:8080/",
          "height": 1000
        },
        "id": "-s1pmED1LdeO",
        "outputId": "833a48e4-fc5c-4101-b3a6-ab66a1bf1f77"
      },
      "source": [
        "# Distribution of negative score is similar to the distribution of amount of 'fail'. \n",
        "# This is reasonable since emotion score is based on sentiment analysis.\n",
        "# Distribution of amount of 'Timeout' is less representative than the distribution of amount of 'fail'\n",
        "# because timeout is the one of many reasons of fail. \n",
        "dictDraw(mean_dict(score_clusters(cluster_id)),'Emotion score','score','Cluster_ID')\n",
        "dictDraw(mean_dict(countWords(cluster_id,'fail')),'Count of Fail','Frequency','Cluster_ID')\n",
        "dictDraw(mean_dict(countWords(cluster_id,'timeout')),'Count of Timeout','Frequency','Cluster_ID')"
      ],
      "execution_count": null,
      "outputs": [
        {
          "output_type": "display_data",
          "data": {
            "image/png": "[encoded data removed]",
            "text/plain": [
              "<Figure size 1008x504 with 1 Axes>"
            ]
          },
          "metadata": {
            "tags": [],
            "needs_background": "light"
          }
        },
        {
          "output_type": "display_data",
          "data": {
            "image/png": "[encoded data removed]",
            "text/plain": [
              "<Figure size 1008x504 with 1 Axes>"
            ]
          },
          "metadata": {
            "tags": [],
            "needs_background": "light"
          }
        },
        {
          "output_type": "display_data",
          "data": {
            "image/png": "[encoded data removed]",
            "text/plain": [
              "<Figure size 1008x504 with 1 Axes>"
            ]
          },
          "metadata": {
            "tags": [],
            "needs_background": "light"
          }
        }
      ]
    }
  ]
}