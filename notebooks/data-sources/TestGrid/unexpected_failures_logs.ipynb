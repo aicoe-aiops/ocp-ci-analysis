{
 "cells": [
  {
   "cell_type": "markdown",
   "id": "67e15a41-82e0-4c0c-87e1-9433f6cf5746",
   "metadata": {},
   "source": [
    "# Unexpected Failures Logs"
   ]
  },
  {
   "cell_type": "markdown",
   "id": "f131d8cd-845b-42b3-985e-20d72fafce29",
   "metadata": {},
   "source": [
    "In a different notebook we characterized certain failures as \"unexpected\". We additionally came up with a simple metric to classify a test run, i.e. a column in TestGrid, as \"unexpected\". In this notebook we will look at the log data and see what happens in unexpected test failures, and see if these failures are the ones that persist in the unexpected columns."
   ]
  },
  {
   "cell_type": "code",
   "execution_count": 32,
   "id": "13f42a79-1915-4bab-bc50-2ddc68d393db",
   "metadata": {},
   "outputs": [],
   "source": [
    "import requests\n",
    "import json\n",
    "import pandas as pd\n",
    "import numpy as np\n",
    "import datetime\n",
    "from bs4 import BeautifulSoup\n",
    "import os\n",
    "import seaborn as sns\n",
    "from google.cloud import storage\n",
    "from IPython.display import Image\n",
    "import matplotlib.pyplot as plt\n",
    "from collections import Counter\n",
    "\n",
    "import sys\n",
    "sys.path.append('../../failure-type-classification')\n",
    "sys.path.append('./metrics')\n",
    "\n",
    "\n",
    "from ipynb.fs.defs.failure_type_functions import ( #noqa\n",
    "    normalize, #noqa\n",
    "    decode_run_length, #noqa\n",
    ")\n",
    "\n",
    "from ipynb.fs.defs.unexpected_test_failures import ( #noqa\n",
    "    naive_prob_failure, #noqa\n",
    "    get_grid, #noqa\n",
    "    preprocess, # noqa\n",
    "    column_scores, # noqa\n",
    "    column_score, # noqa\n",
    "    random_trial, # noqa\n",
    "    score_grid, # noqa\n",
    ")"
   ]
  },
  {
   "cell_type": "code",
   "execution_count": 3,
   "id": "8d1705df-e428-4cea-b6ff-4eeab996a595",
   "metadata": {},
   "outputs": [],
   "source": [
    "response = requests.get(\n",
    "    \"https://testgrid.k8s.io/redhat-openshift-informing?id=dashboard-group-bar\"\n",
    ")"
   ]
  },
  {
   "cell_type": "code",
   "execution_count": 4,
   "id": "d58fc101-e653-417b-be12-54f9b07b5582",
   "metadata": {},
   "outputs": [
    {
     "data": {
      "text/plain": [
       "['redhat-assisted-installer',\n",
       " 'redhat-hypershift',\n",
       " 'redhat-openshift-informing',\n",
       " 'redhat-openshift-ocp-release-3.11-informing',\n",
       " 'redhat-openshift-ocp-release-4.1-blocking',\n",
       " 'redhat-openshift-ocp-release-4.1-informing',\n",
       " 'redhat-openshift-ocp-release-4.10-blocking',\n",
       " 'redhat-openshift-ocp-release-4.10-broken',\n",
       " 'redhat-openshift-ocp-release-4.10-informing',\n",
       " 'redhat-openshift-ocp-release-4.2-blocking',\n",
       " 'redhat-openshift-ocp-release-4.2-informing',\n",
       " 'redhat-openshift-ocp-release-4.3-blocking',\n",
       " 'redhat-openshift-ocp-release-4.3-informing',\n",
       " 'redhat-openshift-ocp-release-4.4-blocking',\n",
       " 'redhat-openshift-ocp-release-4.4-broken',\n",
       " 'redhat-openshift-ocp-release-4.4-informing',\n",
       " 'redhat-openshift-ocp-release-4.5-blocking',\n",
       " 'redhat-openshift-ocp-release-4.5-broken',\n",
       " 'redhat-openshift-ocp-release-4.5-informing',\n",
       " 'redhat-openshift-ocp-release-4.6-blocking',\n",
       " 'redhat-openshift-ocp-release-4.6-informing',\n",
       " 'redhat-openshift-ocp-release-4.7-blocking',\n",
       " 'redhat-openshift-ocp-release-4.7-informing',\n",
       " 'redhat-openshift-ocp-release-4.8-blocking',\n",
       " 'redhat-openshift-ocp-release-4.8-broken',\n",
       " 'redhat-openshift-ocp-release-4.8-informing',\n",
       " 'redhat-openshift-ocp-release-4.9-blocking',\n",
       " 'redhat-openshift-ocp-release-4.9-broken',\n",
       " 'redhat-openshift-ocp-release-4.9-informing',\n",
       " 'redhat-openshift-okd-release-4.10-blocking',\n",
       " 'redhat-openshift-okd-release-4.10-informing',\n",
       " 'redhat-openshift-okd-release-4.3-informing',\n",
       " 'redhat-openshift-okd-release-4.4-informing',\n",
       " 'redhat-openshift-okd-release-4.5-informing',\n",
       " 'redhat-openshift-okd-release-4.6-blocking',\n",
       " 'redhat-openshift-okd-release-4.6-informing',\n",
       " 'redhat-openshift-okd-release-4.7-blocking',\n",
       " 'redhat-openshift-okd-release-4.7-informing',\n",
       " 'redhat-openshift-okd-release-4.8-blocking',\n",
       " 'redhat-openshift-okd-release-4.8-informing',\n",
       " 'redhat-openshift-okd-release-4.9-blocking',\n",
       " 'redhat-openshift-okd-release-4.9-informing',\n",
       " 'redhat-openshift-presubmit-master-gcp',\n",
       " 'redhat-openshift-serverless',\n",
       " 'redhat-openshift-virtualization',\n",
       " 'redhat-osd',\n",
       " 'redhat-single-node']"
      ]
     },
     "execution_count": 4,
     "metadata": {},
     "output_type": "execute_result"
    }
   ],
   "source": [
    "html = BeautifulSoup(response.content)\n",
    "testgrid_script = html.findAll(\"script\")[3]\n",
    "testgrid_script = testgrid_script.text.split()[5].split(\",\")\n",
    "dashboard_names = [x.split(\":\")[1] for x in testgrid_script if \"name\" in x]\n",
    "dashboard_names = [d[1: -1] for d in dashboard_names]\n",
    "dashboard_names"
   ]
  },
  {
   "cell_type": "code",
   "execution_count": 6,
   "id": "b573f29b-5fb6-4ef4-8e0a-b8bf29e3b1d2",
   "metadata": {},
   "outputs": [
    {
     "name": "stdout",
     "output_type": "stream",
     "text": [
      "redhat-assisted-installer\n",
      "redhat-hypershift\n",
      "redhat-openshift-informing\n",
      "redhat-openshift-ocp-release-3.11-informing\n",
      "redhat-openshift-ocp-release-4.1-blocking\n",
      "redhat-openshift-ocp-release-4.1-informing\n",
      "redhat-openshift-ocp-release-4.10-blocking\n",
      "redhat-openshift-ocp-release-4.10-broken\n",
      "redhat-openshift-ocp-release-4.10-informing\n",
      "redhat-openshift-ocp-release-4.2-blocking\n",
      "redhat-openshift-ocp-release-4.2-informing\n",
      "redhat-openshift-ocp-release-4.3-blocking\n",
      "redhat-openshift-ocp-release-4.3-informing\n",
      "redhat-openshift-ocp-release-4.4-blocking\n",
      "redhat-openshift-ocp-release-4.4-broken\n",
      "redhat-openshift-ocp-release-4.4-informing\n",
      "redhat-openshift-ocp-release-4.5-blocking\n",
      "redhat-openshift-ocp-release-4.5-broken\n",
      "redhat-openshift-ocp-release-4.5-informing\n",
      "redhat-openshift-ocp-release-4.6-blocking\n",
      "redhat-openshift-ocp-release-4.6-informing\n",
      "redhat-openshift-ocp-release-4.7-blocking\n",
      "redhat-openshift-ocp-release-4.7-informing\n",
      "redhat-openshift-ocp-release-4.8-blocking\n",
      "redhat-openshift-ocp-release-4.8-broken\n",
      "redhat-openshift-ocp-release-4.8-informing\n",
      "redhat-openshift-ocp-release-4.9-blocking\n",
      "redhat-openshift-ocp-release-4.9-broken\n",
      "redhat-openshift-ocp-release-4.9-informing\n",
      "redhat-openshift-okd-release-4.10-blocking\n",
      "redhat-openshift-okd-release-4.10-informing\n",
      "redhat-openshift-okd-release-4.3-informing\n",
      "redhat-openshift-okd-release-4.4-informing\n",
      "redhat-openshift-okd-release-4.5-informing\n",
      "redhat-openshift-okd-release-4.6-blocking\n",
      "redhat-openshift-okd-release-4.6-informing\n",
      "redhat-openshift-okd-release-4.7-blocking\n",
      "redhat-openshift-okd-release-4.7-informing\n",
      "redhat-openshift-okd-release-4.8-blocking\n",
      "redhat-openshift-okd-release-4.8-informing\n",
      "redhat-openshift-okd-release-4.9-blocking\n",
      "redhat-openshift-okd-release-4.9-informing\n",
      "redhat-openshift-presubmit-master-gcp\n",
      "redhat-openshift-serverless\n",
      "redhat-openshift-virtualization\n",
      "redhat-osd\n",
      "redhat-single-node\n"
     ]
    }
   ],
   "source": [
    "data_dict = {}\n",
    "for d in dashboard_names:\n",
    "    print(d)\n",
    "    response = requests.get(f\"https://testgrid.k8s.io/{d}/summary\")\n",
    "    data = response.json()\n",
    "    ocp42 = pd.DataFrame(data)\n",
    "    jobs = ocp42.columns\n",
    "    dashboard_dict = {}\n",
    "    for j in jobs:\n",
    "        response = requests.get(f'https://testgrid.k8s.io/{d}/table?&show-stale-tests=&tab={j}')\n",
    "        grid = []\n",
    "        if response.json()[\"tests\"]:\n",
    "            for x in response.json()[\"tests\"]:\n",
    "                test = {\"name\": x[\"name\"], \"statuses\": x[\"statuses\"]}\n",
    "                if \"graphs\" in x.keys():\n",
    "                    test[\"graphs\"] = x[\"graphs\"]\n",
    "                else:\n",
    "                    test[\"graphs\"] = None\n",
    "                grid.append(test)\n",
    "            x = np.array(list(pd.DataFrame(grid).statuses.apply(decode_run_length)))\n",
    "            x = pd.DataFrame(x).apply(lambda x: [normalize(y) for y in x])\n",
    "            changelists = response.json()['changelists']\n",
    "            dashboard_dict[j] = {'grid': x, 'timestamps': changelists}\n",
    "        else:\n",
    "            continue\n",
    "    data_dict[d] = dashboard_dict"
   ]
  },
  {
   "cell_type": "code",
   "execution_count": 7,
   "id": "302479a0-7b5e-400d-9fb8-597eabd6c328",
   "metadata": {},
   "outputs": [],
   "source": [
    "response = requests.get(f'https://testgrid.k8s.io/redhat-osd/table?&show-stale-tests=&tab=osde2e-prod-gcp-e2e-upgrade-to-next-z')"
   ]
  },
  {
   "cell_type": "code",
   "execution_count": 8,
   "id": "60d96e7e-88b9-42b8-9d65-0bb693ebde9b",
   "metadata": {},
   "outputs": [],
   "source": [
    "grid = []\n",
    "for x in response.json()[\"tests\"]:\n",
    "    test = {\"name\": x[\"name\"], \"statuses\": x[\"statuses\"]}\n",
    "    if \"graphs\" in x.keys():\n",
    "        test[\"graphs\"] = x[\"graphs\"]\n",
    "    else:\n",
    "        test[\"graphs\"] = None\n",
    "    grid.append(test)"
   ]
  },
  {
   "cell_type": "code",
   "execution_count": 9,
   "id": "fe8b2436-654c-462d-b4b8-34afff560933",
   "metadata": {},
   "outputs": [],
   "source": [
    "def get_random_dashboard():\n",
    "    dashboard = np.random.choice(list(data_dict.keys()))\n",
    "    job = np.random.choice(list(data_dict[dashboard].keys()))\n",
    "    return dashboard, job"
   ]
  },
  {
   "cell_type": "code",
   "execution_count": 10,
   "id": "13473c97-b0ae-4c3e-9493-1b0eae3ae2f1",
   "metadata": {},
   "outputs": [],
   "source": [
    "# taken from data-sources/gcsweb-ci/build-logs/build_log_EDA.ipynb\n",
    "\n",
    "client = storage.client.Client.create_anonymous_client()\n",
    "bucket = client.bucket(\"origin-ci-test\")"
   ]
  },
  {
   "cell_type": "code",
   "execution_count": 11,
   "id": "bcbcf772-3a5e-4c83-a7aa-66d3ddf6f259",
   "metadata": {},
   "outputs": [],
   "source": [
    "def prow_url_for(job, build_id):\n",
    "        return f\"https://prow.ci.openshift.org/view/gcs/origin-ci-test/logs/{job}/{build_id}\"\n",
    "    \n",
    "def build_log_url_for(job, build_id):\n",
    "    \"\"\"Returns a public URL to download a build's build-log.txt\"\"\"\n",
    "    blob = bucket.get_blob(f\"logs/{job}/{build_id}/build-log.txt\")\n",
    "    return blob.public_url\n",
    "\n",
    "def testgrid_url(dash, job):\n",
    "    return f\"https://testgrid.k8s.io/{dash}#{job}\""
   ]
  },
  {
   "cell_type": "code",
   "execution_count": 12,
   "id": "ac812943-32d2-4d47-a161-aa59ede9d3c9",
   "metadata": {},
   "outputs": [
    {
     "name": "stdout",
     "output_type": "stream",
     "text": [
      "redhat-openshift-okd-release-4.8-blocking\n",
      "periodic-ci-openshift-release-master-okd-4.8-e2e-aws\n"
     ]
    }
   ],
   "source": [
    "dash, job = get_random_dashboard()\n",
    "\n",
    "print(dash)\n",
    "print(job)"
   ]
  },
  {
   "cell_type": "code",
   "execution_count": 13,
   "id": "3d021caf-48f7-4a88-a993-1576c610b68c",
   "metadata": {
    "tags": []
   },
   "outputs": [
    {
     "data": {
      "text/html": [
       "<div>\n",
       "<style scoped>\n",
       "    .dataframe tbody tr th:only-of-type {\n",
       "        vertical-align: middle;\n",
       "    }\n",
       "\n",
       "    .dataframe tbody tr th {\n",
       "        vertical-align: top;\n",
       "    }\n",
       "\n",
       "    .dataframe thead th {\n",
       "        text-align: right;\n",
       "    }\n",
       "</style>\n",
       "<table border=\"1\" class=\"dataframe\">\n",
       "  <thead>\n",
       "    <tr style=\"text-align: right;\">\n",
       "      <th></th>\n",
       "      <th>0</th>\n",
       "      <th>1</th>\n",
       "      <th>2</th>\n",
       "      <th>3</th>\n",
       "      <th>4</th>\n",
       "      <th>5</th>\n",
       "      <th>6</th>\n",
       "      <th>7</th>\n",
       "      <th>8</th>\n",
       "      <th>9</th>\n",
       "      <th>...</th>\n",
       "      <th>138</th>\n",
       "      <th>139</th>\n",
       "      <th>140</th>\n",
       "      <th>141</th>\n",
       "      <th>142</th>\n",
       "      <th>143</th>\n",
       "      <th>144</th>\n",
       "      <th>145</th>\n",
       "      <th>146</th>\n",
       "      <th>147</th>\n",
       "    </tr>\n",
       "  </thead>\n",
       "  <tbody>\n",
       "    <tr>\n",
       "      <th>0</th>\n",
       "      <td>NaN</td>\n",
       "      <td>NaN</td>\n",
       "      <td>NaN</td>\n",
       "      <td>0</td>\n",
       "      <td>NaN</td>\n",
       "      <td>NaN</td>\n",
       "      <td>NaN</td>\n",
       "      <td>NaN</td>\n",
       "      <td>NaN</td>\n",
       "      <td>NaN</td>\n",
       "      <td>...</td>\n",
       "      <td>NaN</td>\n",
       "      <td>NaN</td>\n",
       "      <td>NaN</td>\n",
       "      <td>NaN</td>\n",
       "      <td>NaN</td>\n",
       "      <td>NaN</td>\n",
       "      <td>NaN</td>\n",
       "      <td>NaN</td>\n",
       "      <td>NaN</td>\n",
       "      <td>NaN</td>\n",
       "    </tr>\n",
       "    <tr>\n",
       "      <th>1</th>\n",
       "      <td>NaN</td>\n",
       "      <td>NaN</td>\n",
       "      <td>NaN</td>\n",
       "      <td>0</td>\n",
       "      <td>NaN</td>\n",
       "      <td>NaN</td>\n",
       "      <td>NaN</td>\n",
       "      <td>NaN</td>\n",
       "      <td>NaN</td>\n",
       "      <td>NaN</td>\n",
       "      <td>...</td>\n",
       "      <td>NaN</td>\n",
       "      <td>NaN</td>\n",
       "      <td>NaN</td>\n",
       "      <td>NaN</td>\n",
       "      <td>NaN</td>\n",
       "      <td>NaN</td>\n",
       "      <td>NaN</td>\n",
       "      <td>NaN</td>\n",
       "      <td>NaN</td>\n",
       "      <td>NaN</td>\n",
       "    </tr>\n",
       "    <tr>\n",
       "      <th>2</th>\n",
       "      <td>NaN</td>\n",
       "      <td>NaN</td>\n",
       "      <td>NaN</td>\n",
       "      <td>0</td>\n",
       "      <td>NaN</td>\n",
       "      <td>NaN</td>\n",
       "      <td>NaN</td>\n",
       "      <td>NaN</td>\n",
       "      <td>NaN</td>\n",
       "      <td>NaN</td>\n",
       "      <td>...</td>\n",
       "      <td>NaN</td>\n",
       "      <td>NaN</td>\n",
       "      <td>NaN</td>\n",
       "      <td>NaN</td>\n",
       "      <td>NaN</td>\n",
       "      <td>NaN</td>\n",
       "      <td>NaN</td>\n",
       "      <td>NaN</td>\n",
       "      <td>NaN</td>\n",
       "      <td>NaN</td>\n",
       "    </tr>\n",
       "    <tr>\n",
       "      <th>3</th>\n",
       "      <td>NaN</td>\n",
       "      <td>NaN</td>\n",
       "      <td>NaN</td>\n",
       "      <td>0</td>\n",
       "      <td>NaN</td>\n",
       "      <td>NaN</td>\n",
       "      <td>NaN</td>\n",
       "      <td>NaN</td>\n",
       "      <td>NaN</td>\n",
       "      <td>NaN</td>\n",
       "      <td>...</td>\n",
       "      <td>NaN</td>\n",
       "      <td>NaN</td>\n",
       "      <td>NaN</td>\n",
       "      <td>NaN</td>\n",
       "      <td>NaN</td>\n",
       "      <td>NaN</td>\n",
       "      <td>NaN</td>\n",
       "      <td>NaN</td>\n",
       "      <td>NaN</td>\n",
       "      <td>NaN</td>\n",
       "    </tr>\n",
       "    <tr>\n",
       "      <th>4</th>\n",
       "      <td>NaN</td>\n",
       "      <td>1.0</td>\n",
       "      <td>1.0</td>\n",
       "      <td>0</td>\n",
       "      <td>1.0</td>\n",
       "      <td>1.0</td>\n",
       "      <td>1.0</td>\n",
       "      <td>1.0</td>\n",
       "      <td>1.0</td>\n",
       "      <td>1.0</td>\n",
       "      <td>...</td>\n",
       "      <td>1.0</td>\n",
       "      <td>1.0</td>\n",
       "      <td>1.0</td>\n",
       "      <td>1.0</td>\n",
       "      <td>1.0</td>\n",
       "      <td>1.0</td>\n",
       "      <td>1.0</td>\n",
       "      <td>1.0</td>\n",
       "      <td>1.0</td>\n",
       "      <td>1.0</td>\n",
       "    </tr>\n",
       "  </tbody>\n",
       "</table>\n",
       "<p>5 rows × 148 columns</p>\n",
       "</div>"
      ],
      "text/plain": [
       "   0    1    2    3    4    5    6    7    8    9    ...  138  139  140  141  \\\n",
       "0  NaN  NaN  NaN    0  NaN  NaN  NaN  NaN  NaN  NaN  ...  NaN  NaN  NaN  NaN   \n",
       "1  NaN  NaN  NaN    0  NaN  NaN  NaN  NaN  NaN  NaN  ...  NaN  NaN  NaN  NaN   \n",
       "2  NaN  NaN  NaN    0  NaN  NaN  NaN  NaN  NaN  NaN  ...  NaN  NaN  NaN  NaN   \n",
       "3  NaN  NaN  NaN    0  NaN  NaN  NaN  NaN  NaN  NaN  ...  NaN  NaN  NaN  NaN   \n",
       "4  NaN  1.0  1.0    0  1.0  1.0  1.0  1.0  1.0  1.0  ...  1.0  1.0  1.0  1.0   \n",
       "\n",
       "   142  143  144  145  146  147  \n",
       "0  NaN  NaN  NaN  NaN  NaN  NaN  \n",
       "1  NaN  NaN  NaN  NaN  NaN  NaN  \n",
       "2  NaN  NaN  NaN  NaN  NaN  NaN  \n",
       "3  NaN  NaN  NaN  NaN  NaN  NaN  \n",
       "4  1.0  1.0  1.0  1.0  1.0  1.0  \n",
       "\n",
       "[5 rows x 148 columns]"
      ]
     },
     "execution_count": 13,
     "metadata": {},
     "output_type": "execute_result"
    }
   ],
   "source": [
    "grid = data_dict[dash][job]['grid']\n",
    "grid.head(5)"
   ]
  },
  {
   "cell_type": "code",
   "execution_count": 14,
   "id": "36c76066-8545-4c77-bb0a-32c094d7088b",
   "metadata": {},
   "outputs": [
    {
     "data": {
      "text/plain": [
       "'https://testgrid.k8s.io/redhat-openshift-okd-release-4.8-blocking#periodic-ci-openshift-release-master-okd-4.8-e2e-aws'"
      ]
     },
     "execution_count": 14,
     "metadata": {},
     "output_type": "execute_result"
    }
   ],
   "source": [
    "# check to see if testgrid data more or less matches\n",
    "\n",
    "testgrid_url(dash, job)"
   ]
  },
  {
   "cell_type": "code",
   "execution_count": 15,
   "id": "d736a12b-8534-4c22-94c4-3426841a3542",
   "metadata": {
    "tags": []
   },
   "outputs": [],
   "source": [
    "scores = score_grid(grid)"
   ]
  },
  {
   "cell_type": "code",
   "execution_count": 16,
   "id": "a2fd14df-cdc1-40b9-8403-01dbdaf98ffa",
   "metadata": {},
   "outputs": [
    {
     "data": {
      "image/png": "[encoded data removed]",
      "text/plain": [
       "<Figure size 720x360 with 1 Axes>"
      ]
     },
     "metadata": {
      "needs_background": "light"
     },
     "output_type": "display_data"
    }
   ],
   "source": [
    "get_grid(grid)"
   ]
  },
  {
   "cell_type": "code",
   "execution_count": 18,
   "id": "68673515-dfe3-46d7-9f58-4ce3a23663f2",
   "metadata": {},
   "outputs": [
    {
     "data": {
      "image/png": "[encoded data removed]",
      "text/plain": [
       "<Figure size 720x360 with 1 Axes>"
      ]
     },
     "metadata": {
      "needs_background": "light"
     },
     "output_type": "display_data"
    }
   ],
   "source": [
    "plt.figure(figsize=(10, 5))\n",
    "plt.bar(x = grid.columns, height = scores, color = 'r', alpha = 0.5)\n",
    "plt.ylabel(\"Score\")\n",
    "plt.xlabel(\"Days\")\n",
    "plt.show()"
   ]
  },
  {
   "cell_type": "code",
   "execution_count": 19,
   "id": "8b26187e-f96e-4852-9acc-50abf866de44",
   "metadata": {},
   "outputs": [],
   "source": [
    "tstamps = data_dict[dash][job]['timestamps']"
   ]
  },
  {
   "cell_type": "code",
   "execution_count": 20,
   "id": "a952b208-da22-4de7-88f2-3864613fb2e6",
   "metadata": {},
   "outputs": [],
   "source": [
    "# look at only the errors\n",
    "error_lines = []\n",
    "log_lines = []\n",
    "\n",
    "for tstamp in tstamps:\n",
    "    r = requests.get(build_log_url_for(job, tstamp))\n",
    "    line_list = r.text.split('\\n')\n",
    "    log_lines.append(line_list)\n",
    "    line_list = [line for line in line_list if 'error' in line.lower()]\n",
    "    error_lines.append(line_list)"
   ]
  },
  {
   "cell_type": "code",
   "execution_count": 21,
   "id": "2d242a8d-eb5a-4d4f-b312-b1f36132f6a6",
   "metadata": {
    "collapsed": true,
    "jupyter": {
     "outputs_hidden": true
    },
    "tags": []
   },
   "outputs": [
    {
     "data": {
      "text/plain": [
       "[0,\n",
       " 0,\n",
       " 0,\n",
       " 7,\n",
       " 0,\n",
       " 0,\n",
       " 0,\n",
       " 0,\n",
       " 0,\n",
       " 0,\n",
       " 70,\n",
       " 0,\n",
       " 815,\n",
       " 0,\n",
       " 0,\n",
       " 0,\n",
       " 0,\n",
       " 0,\n",
       " 0,\n",
       " 0,\n",
       " 0,\n",
       " 0,\n",
       " 12,\n",
       " 0,\n",
       " 860,\n",
       " 0,\n",
       " 53,\n",
       " 53,\n",
       " 53,\n",
       " 0,\n",
       " 0,\n",
       " 0,\n",
       " 0,\n",
       " 0,\n",
       " 0,\n",
       " 0,\n",
       " 0,\n",
       " 0,\n",
       " 0,\n",
       " 824,\n",
       " 0,\n",
       " 0,\n",
       " 858,\n",
       " 0,\n",
       " 0,\n",
       " 0,\n",
       " 0,\n",
       " 68,\n",
       " 0,\n",
       " 934,\n",
       " 0,\n",
       " 0,\n",
       " 3522,\n",
       " 0,\n",
       " 0,\n",
       " 0,\n",
       " 895,\n",
       " 0,\n",
       " 0,\n",
       " 0,\n",
       " 0,\n",
       " 0,\n",
       " 0,\n",
       " 0,\n",
       " 0,\n",
       " 0,\n",
       " 0,\n",
       " 0,\n",
       " 0,\n",
       " 0,\n",
       " 0,\n",
       " 0,\n",
       " 809,\n",
       " 0,\n",
       " 852,\n",
       " 0,\n",
       " 0,\n",
       " 848,\n",
       " 865,\n",
       " 0,\n",
       " 869,\n",
       " 0,\n",
       " 2,\n",
       " 0,\n",
       " 993,\n",
       " 0,\n",
       " 778,\n",
       " 0,\n",
       " 761,\n",
       " 773,\n",
       " 0,\n",
       " 0,\n",
       " 0,\n",
       " 0,\n",
       " 0,\n",
       " 0,\n",
       " 0,\n",
       " 0,\n",
       " 819,\n",
       " 49,\n",
       " 49,\n",
       " 49,\n",
       " 0,\n",
       " 0,\n",
       " 0,\n",
       " 1655,\n",
       " 1693,\n",
       " 1616,\n",
       " 1672,\n",
       " 1604,\n",
       " 1620,\n",
       " 1634,\n",
       " 1617,\n",
       " 1649,\n",
       " 1648,\n",
       " 1648,\n",
       " 1608,\n",
       " 1666,\n",
       " 1666,\n",
       " 15615,\n",
       " 0,\n",
       " 0,\n",
       " 0,\n",
       " 0,\n",
       " 0,\n",
       " 1671,\n",
       " 0,\n",
       " 0,\n",
       " 0,\n",
       " 0,\n",
       " 0,\n",
       " 0,\n",
       " 1654,\n",
       " 1670,\n",
       " 1771,\n",
       " 1649,\n",
       " 0,\n",
       " 0,\n",
       " 0,\n",
       " 0,\n",
       " 0,\n",
       " 2,\n",
       " 0,\n",
       " 0,\n",
       " 1619,\n",
       " 0,\n",
       " 0,\n",
       " 0]"
      ]
     },
     "execution_count": 21,
     "metadata": {},
     "output_type": "execute_result"
    }
   ],
   "source": [
    "[len(l) for l in error_lines]"
   ]
  },
  {
   "cell_type": "code",
   "execution_count": 204,
   "id": "989cb405-5bf1-46fb-9c39-e0bb58d67b0c",
   "metadata": {},
   "outputs": [],
   "source": [
    "from collections import Counter"
   ]
  },
  {
   "cell_type": "code",
   "execution_count": 29,
   "id": "2eefefaa-b51d-4d1a-ab05-a2b766e79f92",
   "metadata": {},
   "outputs": [
    {
     "data": {
      "image/png": "[encoded data removed]",
      "text/plain": [
       "<Figure size 720x360 with 1 Axes>"
      ]
     },
     "metadata": {
      "needs_background": "light"
     },
     "output_type": "display_data"
    }
   ],
   "source": [
    "line_lens = np.array([len(l) for l in error_lines])\n",
    "line_lens = (line_lens - min(line_lens))/max(line_lens)\n",
    "\n",
    "plt.figure(figsize=(10, 5))\n",
    "plt.bar(x = grid.columns, height = line_lens, color = 'r', alpha = 0.5)\n",
    "plt.bar(x = grid.columns, height = scores, color = 'g', alpha = 0.5)\n",
    "plt.ylabel(\"Score\")\n",
    "plt.xlabel(\"Days\")\n",
    "plt.show()"
   ]
  },
  {
   "cell_type": "markdown",
   "id": "8b87de1f-9f88-4035-b340-f586094170f7",
   "metadata": {},
   "source": [
    "At first when doing this analysis I started to think the \"unexpectedness\" metric was useless due to the very heavy overlap between the unexpectedness score and the number of error lines. However, this changed when I saw this graph. The red is the number of error lines in a log (min-max scaled), and the green is the scores themselves. Something interesting is definitely happening at the two parts that have high score, and now we know that the little red bars are not signaling anything anomolous at all."
   ]
  },
  {
   "cell_type": "code",
   "execution_count": 31,
   "id": "93c749e4-e81a-4872-862f-06380ed17be7",
   "metadata": {},
   "outputs": [],
   "source": [
    "letters = [chr(char) for char in range(ord('a'), ord('z') + 1)]"
   ]
  },
  {
   "cell_type": "code",
   "execution_count": 33,
   "id": "9003ada7-2dd6-4af7-a2b6-09380a214cc7",
   "metadata": {},
   "outputs": [],
   "source": [
    "def get_letters_vector(error_line):\n",
    "    c = Counter(error_line)\n",
    "    return np.array([c[letter] for letter in letters])"
   ]
  },
  {
   "cell_type": "code",
   "execution_count": 40,
   "id": "5c7b53e3-c5e9-4a2e-a785-eafe378aefe6",
   "metadata": {},
   "outputs": [],
   "source": [
    "list1, list2 = error_lines[52], error_lines[119]"
   ]
  },
  {
   "cell_type": "code",
   "execution_count": 233,
   "id": "cdcbab70-67cb-431b-b627-cfac090b4f0e",
   "metadata": {},
   "outputs": [],
   "source": [
    "# the goal is to compare the errors and see how many overlapping characters they have"
   ]
  },
  {
   "cell_type": "code",
   "execution_count": 41,
   "id": "166b7f50-89c0-46ff-9b0e-79dcdfa9e0b4",
   "metadata": {},
   "outputs": [
    {
     "data": {
      "text/plain": [
       "3522"
      ]
     },
     "execution_count": 41,
     "metadata": {},
     "output_type": "execute_result"
    }
   ],
   "source": [
    "len(list1)"
   ]
  },
  {
   "cell_type": "code",
   "execution_count": 42,
   "id": "0e19d13e-be6c-4bd7-8019-a9b9a5f6eb72",
   "metadata": {},
   "outputs": [
    {
     "data": {
      "text/plain": [
       "15615"
      ]
     },
     "execution_count": 42,
     "metadata": {},
     "output_type": "execute_result"
    }
   ],
   "source": [
    "len(list2)"
   ]
  },
  {
   "cell_type": "code",
   "execution_count": 43,
   "id": "82566ea9-4eec-469c-a8cf-95f932696ce3",
   "metadata": {},
   "outputs": [],
   "source": [
    "list1_counts = [get_letters_vector(l) for l in list1]\n",
    "list2_counts = [get_letters_vector(l) for l in list2]"
   ]
  },
  {
   "cell_type": "code",
   "execution_count": 44,
   "id": "3c64bff5-51a4-4e49-83e3-eead225bcc81",
   "metadata": {},
   "outputs": [
    {
     "data": {
      "text/plain": [
       "<AxesSubplot:ylabel='Count'>"
      ]
     },
     "execution_count": 44,
     "metadata": {},
     "output_type": "execute_result"
    },
    {
     "data": {
      "image/png": "[encoded data removed]",
      "text/plain": [
       "<Figure size 432x288 with 1 Axes>"
      ]
     },
     "metadata": {
      "needs_background": "light"
     },
     "output_type": "display_data"
    }
   ],
   "source": [
    "sns.histplot([sum(l) for l in list1_counts])"
   ]
  },
  {
   "cell_type": "code",
   "execution_count": 45,
   "id": "3165eb97-8185-4e4d-ba12-10035fc974a2",
   "metadata": {},
   "outputs": [
    {
     "data": {
      "text/plain": [
       "<AxesSubplot:ylabel='Count'>"
      ]
     },
     "execution_count": 45,
     "metadata": {},
     "output_type": "execute_result"
    },
    {
     "data": {
      "image/png": "[encoded data removed]",
      "text/plain": [
       "<Figure size 432x288 with 1 Axes>"
      ]
     },
     "metadata": {
      "needs_background": "light"
     },
     "output_type": "display_data"
    }
   ],
   "source": [
    "sns.histplot([sum(l) for l in list2_counts])"
   ]
  },
  {
   "cell_type": "markdown",
   "id": "e90292cb-4e63-4243-ad7c-6a8f92671196",
   "metadata": {},
   "source": [
    "It's interesting to see that the distributions are shaped about the same here. Maybe expected due to the large sample sizes."
   ]
  },
  {
   "cell_type": "code",
   "execution_count": null,
   "id": "2715d824-fc6d-401a-96b2-7efdd788cdec",
   "metadata": {},
   "outputs": [],
   "source": []
  }
 ],
 "metadata": {
  "kernelspec": {
   "display_name": "Python 3 (ipykernel)",
   "language": "python",
   "name": "python3"
  },
  "language_info": {
   "codemirror_mode": {
    "name": "ipython",
    "version": 3
   },
   "file_extension": ".py",
   "mimetype": "text/x-python",
   "name": "python",
   "nbconvert_exporter": "python",
   "pygments_lexer": "ipython3",
   "version": "3.8.3"
  }
 },
 "nbformat": 4,
 "nbformat_minor": 5
}
