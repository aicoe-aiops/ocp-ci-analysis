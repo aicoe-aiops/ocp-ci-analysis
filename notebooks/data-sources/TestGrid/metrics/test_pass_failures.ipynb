{
 "cells": [
  {
   "cell_type": "code",
   "execution_count": 2,
   "id": "creative-bacon",
   "metadata": {
    "ExecuteTime": {
     "end_time": "2021-02-05T21:27:31.912568Z",
     "start_time": "2021-02-05T21:27:31.420458Z"
    }
   },
   "outputs": [],
   "source": [
    "import gzip\n",
    "import json\n",
    "import os\n",
    "import sys\n",
    "import numpy as np\n",
    "import pandas as pd\n",
    "import datetime\n",
    "\n",
    "sys.path.append(\"../../..\")\n",
    "\n",
    "module_path_1 = os.path.abspath(os.path.join(\"../../../data-sources/TestGrid\"))\n",
    "\n",
    "if module_path_1 not in sys.path:\n",
    "    sys.path.append(module_path_1)\n",
    "\n",
    "from ipynb.fs.defs.testgrid_EDA import decode_run_length  # noqa: E402"
   ]
  },
  {
   "cell_type": "code",
   "execution_count": 3,
   "id": "undefined-movie",
   "metadata": {
    "ExecuteTime": {
     "end_time": "2021-02-05T21:27:35.963641Z",
     "start_time": "2021-02-05T21:27:31.914927Z"
    }
   },
   "outputs": [],
   "source": [
    "# Load test file\n",
    "with gzip.open(\"../../../../data/raw/testgrid_810.json.gz\", \"rb\") as read_file:\n",
    "    data = json.load(read_file)"
   ]
  },
  {
   "cell_type": "code",
   "execution_count": 4,
   "id": "usual-reverse",
   "metadata": {
    "ExecuteTime": {
     "end_time": "2021-02-05T21:27:53.799738Z",
     "start_time": "2021-02-05T21:27:35.966249Z"
    }
   },
   "outputs": [
    {
     "name": "stdout",
     "output_type": "stream",
     "text": [
      "\"redhat-openshift-informing\"\n",
      "\"redhat-openshift-ocp-release-3.11-informing\"\n",
      "\"redhat-openshift-ocp-release-4.1-blocking\"\n",
      "\"redhat-openshift-ocp-release-4.1-informing\"\n",
      "\"redhat-openshift-ocp-release-4.2-blocking\"\n",
      "\"redhat-openshift-ocp-release-4.2-informing\"\n",
      "\"redhat-openshift-ocp-release-4.3-blocking\"\n",
      "\"redhat-openshift-ocp-release-4.3-broken\"\n",
      "\"redhat-openshift-ocp-release-4.3-informing\"\n",
      "\"redhat-openshift-ocp-release-4.4-blocking\"\n",
      "\"redhat-openshift-ocp-release-4.4-broken\"\n",
      "\"redhat-openshift-ocp-release-4.4-informing\"\n",
      "\"redhat-openshift-ocp-release-4.5-blocking\"\n",
      "\"redhat-openshift-ocp-release-4.5-broken\"\n",
      "\"redhat-openshift-ocp-release-4.5-informing\"\n",
      "\"redhat-openshift-ocp-release-4.6-blocking\"\n",
      "\"redhat-openshift-ocp-release-4.6-broken\"\n",
      "\"redhat-openshift-ocp-release-4.6-informing\"\n",
      "\"redhat-openshift-ocp-release-4.7-blocking\"\n",
      "\"redhat-openshift-ocp-release-4.7-broken\"\n",
      "\"redhat-openshift-ocp-release-4.7-informing\"\n",
      "\"redhat-openshift-okd-release-4.3-informing\"\n",
      "\"redhat-openshift-okd-release-4.4-informing\"\n",
      "\"redhat-openshift-okd-release-4.5-blocking\"\n",
      "\"redhat-openshift-okd-release-4.5-informing\"\n",
      "\"redhat-openshift-okd-release-4.6-blocking\"\n",
      "\"redhat-openshift-okd-release-4.6-informing\"\n",
      "\"redhat-openshift-okd-release-4.7-informing\"\n",
      "\"redhat-openshift-presubmit-master-gcp\"\n",
      "\"redhat-osde2e-int-aws\"\n",
      "\"redhat-osde2e-int-gcp\"\n",
      "\"redhat-osde2e-int-moa\"\n",
      "\"redhat-osde2e-prod-aws\"\n",
      "\"redhat-osde2e-prod-gcp\"\n",
      "\"redhat-osde2e-prod-moa\"\n",
      "\"redhat-osde2e-stage-aws\"\n",
      "\"redhat-osde2e-stage-gcp\"\n",
      "\"redhat-osde2e-stage-moa\"\n"
     ]
    },
    {
     "data": {
      "text/plain": [
       "369"
      ]
     },
     "execution_count": 4,
     "metadata": {},
     "output_type": "execute_result"
    }
   ],
   "source": [
    "percent_failure_by_grid_csv = []\n",
    "\n",
    "for tab in data.keys():\n",
    "    print(tab)\n",
    "    for grid in data[tab].keys():\n",
    "        current_grid = data[tab][grid]\n",
    "        if len(current_grid[\"grid\"]) == 0:\n",
    "            pass\n",
    "        else:\n",
    "            # get all timestamps for this grid (x-axis of grid)\n",
    "            timestamps = [\n",
    "                datetime.datetime.fromtimestamp(x // 1000)\n",
    "                for x in current_grid[\"timestamps\"]\n",
    "            ]\n",
    "            # get all test names for this grid (y-axis of grid)\n",
    "            tests = [\n",
    "                current_grid[\"grid\"][i][\"name\"]\n",
    "                for i in range(len(current_grid[\"grid\"]))\n",
    "            ]\n",
    "            # unroll the run-length encoding and set bool for failure or not (x==12)\n",
    "            decoded = [\n",
    "                (\n",
    "                    np.array(\n",
    "                        decode_run_length(current_grid[\"grid\"][i][\"statuses\"])\n",
    "                    )\n",
    "                    == 12\n",
    "                ).tolist()\n",
    "                for i in range(len(current_grid[\"grid\"]))\n",
    "            ]\n",
    "            # add the timestamp to bool value\n",
    "            decoded = [list(zip(timestamps, g)) for g in decoded]\n",
    "            # add the test, tab and grid name to each entry\n",
    "            # TODO: any ideas for avoiding this quad-loop\n",
    "            for i, d in enumerate(decoded):\n",
    "                for j, k in enumerate(d):\n",
    "                    decoded[i][j] = (k[0], tab, grid, tests[i], k[1])\n",
    "            # accumulate the results\n",
    "            percent_failure_by_grid_csv.append(decoded)\n",
    "\n",
    "\n",
    "len(percent_failure_by_grid_csv)"
   ]
  },
  {
   "cell_type": "code",
   "execution_count": 5,
   "id": "advance-aluminum",
   "metadata": {
    "ExecuteTime": {
     "end_time": "2021-02-05T21:27:54.404742Z",
     "start_time": "2021-02-05T21:27:53.802165Z"
    }
   },
   "outputs": [],
   "source": [
    "# output above leaves us with a doubly nested list. Flatten\n",
    "flat_list = [item for sublist in percent_failure_by_grid_csv for item in sublist]\n",
    "flatter_list = [item for sublist in flat_list for item in sublist]"
   ]
  },
  {
   "cell_type": "code",
   "execution_count": 6,
   "id": "alert-seminar",
   "metadata": {
    "ExecuteTime": {
     "end_time": "2021-02-05T21:27:54.411624Z",
     "start_time": "2021-02-05T21:27:54.407042Z"
    }
   },
   "outputs": [
    {
     "data": {
      "text/plain": [
       "(datetime.datetime(2020, 10, 8, 20, 48, 5),\n",
       " '\"redhat-openshift-informing\"',\n",
       " 'release-openshift-okd-installer-e2e-aws-upgrade',\n",
       " 'Application behind service load balancer with PDB is not disrupted',\n",
       " False)"
      ]
     },
     "execution_count": 6,
     "metadata": {},
     "output_type": "execute_result"
    }
   ],
   "source": [
    "flatter_list[0]"
   ]
  },
  {
   "cell_type": "code",
   "execution_count": 7,
   "id": "twenty-presentation",
   "metadata": {
    "ExecuteTime": {
     "end_time": "2021-02-05T21:27:54.424692Z",
     "start_time": "2021-02-05T21:27:54.413649Z"
    }
   },
   "outputs": [
    {
     "data": {
      "text/plain": [
       "19483548"
      ]
     },
     "execution_count": 7,
     "metadata": {},
     "output_type": "execute_result"
    }
   ],
   "source": [
    "len(flatter_list)"
   ]
  },
  {
   "cell_type": "code",
   "execution_count": 8,
   "id": "graphic-resort",
   "metadata": {
    "ExecuteTime": {
     "end_time": "2021-02-05T21:28:01.820880Z",
     "start_time": "2021-02-05T21:27:54.426629Z"
    }
   },
   "outputs": [
    {
     "data": {
      "text/html": [
       "<div>\n",
       "<style scoped>\n",
       "    .dataframe tbody tr th:only-of-type {\n",
       "        vertical-align: middle;\n",
       "    }\n",
       "\n",
       "    .dataframe tbody tr th {\n",
       "        vertical-align: top;\n",
       "    }\n",
       "\n",
       "    .dataframe thead th {\n",
       "        text-align: right;\n",
       "    }\n",
       "</style>\n",
       "<table border=\"1\" class=\"dataframe\">\n",
       "  <thead>\n",
       "    <tr style=\"text-align: right;\">\n",
       "      <th></th>\n",
       "      <th>timestamp</th>\n",
       "      <th>tab</th>\n",
       "      <th>job</th>\n",
       "      <th>test</th>\n",
       "      <th>failure</th>\n",
       "    </tr>\n",
       "  </thead>\n",
       "  <tbody>\n",
       "    <tr>\n",
       "      <th>0</th>\n",
       "      <td>2020-10-08 20:48:05</td>\n",
       "      <td>\"redhat-openshift-informing\"</td>\n",
       "      <td>release-openshift-okd-installer-e2e-aws-upgrade</td>\n",
       "      <td>Application behind service load balancer with ...</td>\n",
       "      <td>False</td>\n",
       "    </tr>\n",
       "    <tr>\n",
       "      <th>1</th>\n",
       "      <td>2020-10-08 19:12:01</td>\n",
       "      <td>\"redhat-openshift-informing\"</td>\n",
       "      <td>release-openshift-okd-installer-e2e-aws-upgrade</td>\n",
       "      <td>Application behind service load balancer with ...</td>\n",
       "      <td>True</td>\n",
       "    </tr>\n",
       "    <tr>\n",
       "      <th>2</th>\n",
       "      <td>2020-10-08 14:18:13</td>\n",
       "      <td>\"redhat-openshift-informing\"</td>\n",
       "      <td>release-openshift-okd-installer-e2e-aws-upgrade</td>\n",
       "      <td>Application behind service load balancer with ...</td>\n",
       "      <td>False</td>\n",
       "    </tr>\n",
       "    <tr>\n",
       "      <th>3</th>\n",
       "      <td>2020-10-08 11:15:28</td>\n",
       "      <td>\"redhat-openshift-informing\"</td>\n",
       "      <td>release-openshift-okd-installer-e2e-aws-upgrade</td>\n",
       "      <td>Application behind service load balancer with ...</td>\n",
       "      <td>False</td>\n",
       "    </tr>\n",
       "    <tr>\n",
       "      <th>4</th>\n",
       "      <td>2020-10-08 08:27:53</td>\n",
       "      <td>\"redhat-openshift-informing\"</td>\n",
       "      <td>release-openshift-okd-installer-e2e-aws-upgrade</td>\n",
       "      <td>Application behind service load balancer with ...</td>\n",
       "      <td>False</td>\n",
       "    </tr>\n",
       "  </tbody>\n",
       "</table>\n",
       "</div>"
      ],
      "text/plain": [
       "            timestamp                           tab  \\\n",
       "0 2020-10-08 20:48:05  \"redhat-openshift-informing\"   \n",
       "1 2020-10-08 19:12:01  \"redhat-openshift-informing\"   \n",
       "2 2020-10-08 14:18:13  \"redhat-openshift-informing\"   \n",
       "3 2020-10-08 11:15:28  \"redhat-openshift-informing\"   \n",
       "4 2020-10-08 08:27:53  \"redhat-openshift-informing\"   \n",
       "\n",
       "                                               job  \\\n",
       "0  release-openshift-okd-installer-e2e-aws-upgrade   \n",
       "1  release-openshift-okd-installer-e2e-aws-upgrade   \n",
       "2  release-openshift-okd-installer-e2e-aws-upgrade   \n",
       "3  release-openshift-okd-installer-e2e-aws-upgrade   \n",
       "4  release-openshift-okd-installer-e2e-aws-upgrade   \n",
       "\n",
       "                                                test  failure  \n",
       "0  Application behind service load balancer with ...    False  \n",
       "1  Application behind service load balancer with ...     True  \n",
       "2  Application behind service load balancer with ...    False  \n",
       "3  Application behind service load balancer with ...    False  \n",
       "4  Application behind service load balancer with ...    False  "
      ]
     },
     "execution_count": 8,
     "metadata": {},
     "output_type": "execute_result"
    }
   ],
   "source": [
    "# Convert to dataframe\n",
    "df_csv = pd.DataFrame(\n",
    "    flatter_list, columns=[\"timestamp\", \"tab\", \"job\", \"test\", \"failure\"]\n",
    ")\n",
    "df_csv.head()"
   ]
  },
  {
   "cell_type": "code",
   "execution_count": 9,
   "id": "exciting-meeting",
   "metadata": {
    "ExecuteTime": {
     "end_time": "2021-02-05T21:28:10.773144Z",
     "start_time": "2021-02-05T21:28:01.823873Z"
    }
   },
   "outputs": [],
   "source": [
    "# saving only the first 1000000 out of 19 million rows due to pvc limits.\n",
    "# 250mb = 1 million --> 4750 mb = 19 million\n",
    "df_csv.head(1000000).to_csv(\n",
    "    \"../../../../data/processed/failures.csv\",\n",
    "    header=False,\n",
    ")"
   ]
  },
  {
   "cell_type": "code",
   "execution_count": 10,
   "id": "finnish-argument",
   "metadata": {
    "ExecuteTime": {
     "end_time": "2021-02-05T21:28:31.165963Z",
     "start_time": "2021-02-05T21:28:10.775293Z"
    }
   },
   "outputs": [
    {
     "name": "stdout",
     "output_type": "stream",
     "text": [
      "\"redhat-openshift-informing\"\n",
      "\"redhat-openshift-ocp-release-3.11-informing\"\n",
      "\"redhat-openshift-ocp-release-4.1-blocking\"\n",
      "\"redhat-openshift-ocp-release-4.1-informing\"\n",
      "\"redhat-openshift-ocp-release-4.2-blocking\"\n",
      "\"redhat-openshift-ocp-release-4.2-informing\"\n",
      "\"redhat-openshift-ocp-release-4.3-blocking\"\n",
      "\"redhat-openshift-ocp-release-4.3-broken\"\n",
      "\"redhat-openshift-ocp-release-4.3-informing\"\n",
      "\"redhat-openshift-ocp-release-4.4-blocking\"\n",
      "\"redhat-openshift-ocp-release-4.4-broken\"\n",
      "\"redhat-openshift-ocp-release-4.4-informing\"\n",
      "\"redhat-openshift-ocp-release-4.5-blocking\"\n",
      "\"redhat-openshift-ocp-release-4.5-broken\"\n",
      "\"redhat-openshift-ocp-release-4.5-informing\"\n",
      "\"redhat-openshift-ocp-release-4.6-blocking\"\n",
      "\"redhat-openshift-ocp-release-4.6-broken\"\n",
      "\"redhat-openshift-ocp-release-4.6-informing\"\n",
      "\"redhat-openshift-ocp-release-4.7-blocking\"\n",
      "\"redhat-openshift-ocp-release-4.7-broken\"\n",
      "\"redhat-openshift-ocp-release-4.7-informing\"\n",
      "\"redhat-openshift-okd-release-4.3-informing\"\n",
      "\"redhat-openshift-okd-release-4.4-informing\"\n",
      "\"redhat-openshift-okd-release-4.5-blocking\"\n",
      "\"redhat-openshift-okd-release-4.5-informing\"\n",
      "\"redhat-openshift-okd-release-4.6-blocking\"\n",
      "\"redhat-openshift-okd-release-4.6-informing\"\n",
      "\"redhat-openshift-okd-release-4.7-informing\"\n",
      "\"redhat-openshift-presubmit-master-gcp\"\n",
      "\"redhat-osde2e-int-aws\"\n",
      "\"redhat-osde2e-int-gcp\"\n",
      "\"redhat-osde2e-int-moa\"\n",
      "\"redhat-osde2e-prod-aws\"\n",
      "\"redhat-osde2e-prod-gcp\"\n",
      "\"redhat-osde2e-prod-moa\"\n",
      "\"redhat-osde2e-stage-aws\"\n",
      "\"redhat-osde2e-stage-gcp\"\n",
      "\"redhat-osde2e-stage-moa\"\n"
     ]
    },
    {
     "data": {
      "text/plain": [
       "369"
      ]
     },
     "execution_count": 10,
     "metadata": {},
     "output_type": "execute_result"
    }
   ],
   "source": [
    "percent_pass_by_grid_csv = []\n",
    "\n",
    "for tab in data.keys():\n",
    "    print(tab)\n",
    "    for grid in data[tab].keys():\n",
    "        current_grid = data[tab][grid]\n",
    "        if len(current_grid[\"grid\"]) == 0:\n",
    "            pass\n",
    "        else:\n",
    "            # get all timestamps for this grid (x-axis of grid)\n",
    "            timestamps = [\n",
    "                datetime.datetime.fromtimestamp(x // 1000)\n",
    "                for x in current_grid[\"timestamps\"]\n",
    "            ]\n",
    "            # get all test names for this grid (y-axis of grid)\n",
    "            tests = [\n",
    "                current_grid[\"grid\"][i][\"name\"]\n",
    "                for i in range(len(current_grid[\"grid\"]))\n",
    "            ]\n",
    "            # unroll the run-length encoding and set bool for passing or not (x==1)\n",
    "            decoded = [\n",
    "                (\n",
    "                    np.array(\n",
    "                        decode_run_length(current_grid[\"grid\"][i][\"statuses\"])\n",
    "                    )\n",
    "                    == 1\n",
    "                ).tolist()\n",
    "                for i in range(len(current_grid[\"grid\"]))\n",
    "            ]\n",
    "            # add the timestamp to bool value\n",
    "            decoded = [list(zip(timestamps, g)) for g in decoded]\n",
    "            # add the test, tab and grid name to each entry\n",
    "            # TODO: any ideas for avoiding this quad-loop\n",
    "            for i, d in enumerate(decoded):\n",
    "                for j, k in enumerate(d):\n",
    "                    decoded[i][j] = (k[0], tab, grid, tests[i], k[1])\n",
    "            # accumulate the results\n",
    "            percent_pass_by_grid_csv.append(decoded)\n",
    "\n",
    "\n",
    "len(percent_pass_by_grid_csv)"
   ]
  },
  {
   "cell_type": "code",
   "execution_count": 11,
   "id": "under-direction",
   "metadata": {
    "ExecuteTime": {
     "end_time": "2021-02-05T21:28:31.948957Z",
     "start_time": "2021-02-05T21:28:31.167705Z"
    }
   },
   "outputs": [
    {
     "data": {
      "text/plain": [
       "19483548"
      ]
     },
     "execution_count": 11,
     "metadata": {},
     "output_type": "execute_result"
    }
   ],
   "source": [
    "# output above leaves us with a doubly nested list. Flatten\n",
    "flat_list = [item for sublist in percent_pass_by_grid_csv for item in sublist]\n",
    "flatter_list = [item for sublist in flat_list for item in sublist]\n",
    "len(flatter_list)"
   ]
  },
  {
   "cell_type": "code",
   "execution_count": 12,
   "id": "separated-thailand",
   "metadata": {
    "ExecuteTime": {
     "end_time": "2021-02-05T21:28:39.112872Z",
     "start_time": "2021-02-05T21:28:31.950748Z"
    }
   },
   "outputs": [
    {
     "data": {
      "text/html": [
       "<div>\n",
       "<style scoped>\n",
       "    .dataframe tbody tr th:only-of-type {\n",
       "        vertical-align: middle;\n",
       "    }\n",
       "\n",
       "    .dataframe tbody tr th {\n",
       "        vertical-align: top;\n",
       "    }\n",
       "\n",
       "    .dataframe thead th {\n",
       "        text-align: right;\n",
       "    }\n",
       "</style>\n",
       "<table border=\"1\" class=\"dataframe\">\n",
       "  <thead>\n",
       "    <tr style=\"text-align: right;\">\n",
       "      <th></th>\n",
       "      <th>timestamp</th>\n",
       "      <th>tab</th>\n",
       "      <th>job</th>\n",
       "      <th>test</th>\n",
       "      <th>passing</th>\n",
       "    </tr>\n",
       "  </thead>\n",
       "  <tbody>\n",
       "    <tr>\n",
       "      <th>0</th>\n",
       "      <td>2020-10-08 20:48:05</td>\n",
       "      <td>\"redhat-openshift-informing\"</td>\n",
       "      <td>release-openshift-okd-installer-e2e-aws-upgrade</td>\n",
       "      <td>Application behind service load balancer with ...</td>\n",
       "      <td>False</td>\n",
       "    </tr>\n",
       "    <tr>\n",
       "      <th>1</th>\n",
       "      <td>2020-10-08 19:12:01</td>\n",
       "      <td>\"redhat-openshift-informing\"</td>\n",
       "      <td>release-openshift-okd-installer-e2e-aws-upgrade</td>\n",
       "      <td>Application behind service load balancer with ...</td>\n",
       "      <td>False</td>\n",
       "    </tr>\n",
       "    <tr>\n",
       "      <th>2</th>\n",
       "      <td>2020-10-08 14:18:13</td>\n",
       "      <td>\"redhat-openshift-informing\"</td>\n",
       "      <td>release-openshift-okd-installer-e2e-aws-upgrade</td>\n",
       "      <td>Application behind service load balancer with ...</td>\n",
       "      <td>False</td>\n",
       "    </tr>\n",
       "    <tr>\n",
       "      <th>3</th>\n",
       "      <td>2020-10-08 11:15:28</td>\n",
       "      <td>\"redhat-openshift-informing\"</td>\n",
       "      <td>release-openshift-okd-installer-e2e-aws-upgrade</td>\n",
       "      <td>Application behind service load balancer with ...</td>\n",
       "      <td>False</td>\n",
       "    </tr>\n",
       "    <tr>\n",
       "      <th>4</th>\n",
       "      <td>2020-10-08 08:27:53</td>\n",
       "      <td>\"redhat-openshift-informing\"</td>\n",
       "      <td>release-openshift-okd-installer-e2e-aws-upgrade</td>\n",
       "      <td>Application behind service load balancer with ...</td>\n",
       "      <td>False</td>\n",
       "    </tr>\n",
       "  </tbody>\n",
       "</table>\n",
       "</div>"
      ],
      "text/plain": [
       "            timestamp                           tab  \\\n",
       "0 2020-10-08 20:48:05  \"redhat-openshift-informing\"   \n",
       "1 2020-10-08 19:12:01  \"redhat-openshift-informing\"   \n",
       "2 2020-10-08 14:18:13  \"redhat-openshift-informing\"   \n",
       "3 2020-10-08 11:15:28  \"redhat-openshift-informing\"   \n",
       "4 2020-10-08 08:27:53  \"redhat-openshift-informing\"   \n",
       "\n",
       "                                               job  \\\n",
       "0  release-openshift-okd-installer-e2e-aws-upgrade   \n",
       "1  release-openshift-okd-installer-e2e-aws-upgrade   \n",
       "2  release-openshift-okd-installer-e2e-aws-upgrade   \n",
       "3  release-openshift-okd-installer-e2e-aws-upgrade   \n",
       "4  release-openshift-okd-installer-e2e-aws-upgrade   \n",
       "\n",
       "                                                test  passing  \n",
       "0  Application behind service load balancer with ...    False  \n",
       "1  Application behind service load balancer with ...    False  \n",
       "2  Application behind service load balancer with ...    False  \n",
       "3  Application behind service load balancer with ...    False  \n",
       "4  Application behind service load balancer with ...    False  "
      ]
     },
     "execution_count": 12,
     "metadata": {},
     "output_type": "execute_result"
    }
   ],
   "source": [
    "# Convert to dataframe\n",
    "df1_csv = pd.DataFrame(\n",
    "    flatter_list, columns=[\"timestamp\", \"tab\", \"job\", \"test\", \"passing\"]\n",
    ")\n",
    "df1_csv.head()"
   ]
  },
  {
   "cell_type": "code",
   "execution_count": 13,
   "id": "acting-orleans",
   "metadata": {
    "ExecuteTime": {
     "end_time": "2021-02-05T21:28:47.969064Z",
     "start_time": "2021-02-05T21:28:39.114890Z"
    }
   },
   "outputs": [],
   "source": [
    "# saving only the first 1000000 out of 19 million rows due to pvc limits.\n",
    "# 250mb = 1 million --> 4750 mb = 19 million\n",
    "df1_csv.head(1000000).to_csv(\n",
    "    \"../../../../data/processed/pass.csv\",\n",
    "    header=False,\n",
    ")"
   ]
  },
  {
   "cell_type": "code",
   "execution_count": 14,
   "id": "caroline-comparison",
   "metadata": {
    "ExecuteTime": {
     "end_time": "2021-02-05T21:28:48.064248Z",
     "start_time": "2021-02-05T21:28:47.971427Z"
    }
   },
   "outputs": [
    {
     "name": "stdout",
     "output_type": "stream",
     "text": [
      "Total number of tests: 1000000\n",
      "Total number of failing tests: 3989\n",
      "Test failure percentage: 0.398900\n",
      "Total number of passing tests: 704558\n",
      "Test pass percentage: 70.455800\n"
     ]
    }
   ],
   "source": [
    "# Metrics\n",
    "no_tests = df1_csv.head(1000000).test.count()\n",
    "print(\"Total number of tests: %i\" %(no_tests))\n",
    "no_failures = df_csv.head(1000000).failure.sum()\n",
    "print(\"Total number of failing tests: %i\" %(no_failures))\n",
    "test_failures_percentage = ((df_csv.head(1000000).failure.sum() / df_csv.head(1000000).test.count()))*100\n",
    "print(\"Test failure percentage: %f\" %(test_failures_percentage))\n",
    "no_pass = df1_csv.head(1000000).passing.sum()\n",
    "print(\"Total number of passing tests: %i\" %(no_pass))\n",
    "test_pass_percentage = ((df1_csv.head(1000000).passing.sum() / df1_csv.head(1000000).passing.count()))*100\n",
    "print(\"Test pass percentage: %f\" %(test_pass_percentage))"
   ]
  }
 ],
 "metadata": {
  "kernelspec": {
   "display_name": "Python 3",
   "language": "python",
   "name": "python3"
  },
  "language_info": {
   "codemirror_mode": {
    "name": "ipython",
    "version": 3
   },
   "file_extension": ".py",
   "mimetype": "text/x-python",
   "name": "python",
   "nbconvert_exporter": "python",
   "pygments_lexer": "ipython3",
   "version": "3.6.8"
  },
  "toc": {
   "base_numbering": 1,
   "nav_menu": {},
   "number_sections": true,
   "sideBar": true,
   "skip_h1_title": false,
   "title_cell": "Table of Contents",
   "title_sidebar": "Contents",
   "toc_cell": false,
   "toc_position": {},
   "toc_section_display": true,
   "toc_window_display": false
  }
 },
 "nbformat": 4,
 "nbformat_minor": 5
}
