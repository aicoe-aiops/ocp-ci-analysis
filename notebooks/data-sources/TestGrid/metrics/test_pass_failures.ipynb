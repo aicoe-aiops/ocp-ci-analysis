{
 "cells": [
  {
   "cell_type": "markdown",
   "id": "brown-check",
   "metadata": {},
   "source": [
    "# Quantify Tests\n",
    "\n",
    "This notebook is an extension to the [number_of_flakes](number_of_flakes.ipynb) notebook. In this notebook, the key perfomance indicators that we would like to create greater visbility into and track over time is the percent of tests that passed/failed. This can help track and measure the effectiveness and success of our testing process.\n",
    "\n",
    "By measuring this metric, we can observe the trend of test failures over time and a decrease in the percent of failures over time (or increase in percent of test passes), should correlate to improved test efficiencies, enhanced testing process and error free releases.  In this notebook, we derive the following metrics from the TestGrid dataset:\n",
    "\n",
    "* total number of test cases\n",
    "* number of test cases passed\n",
    "* number of test cases failed\n",
    "* percent of tests that pass\n",
    "* percent of tests that fail"
   ]
  },
  {
   "cell_type": "code",
   "execution_count": 2,
   "id": "brilliant-expense",
   "metadata": {
    "ExecuteTime": {
     "end_time": "2021-03-22T16:16:54.374718Z",
     "start_time": "2021-03-22T16:16:53.570595Z"
    }
   },
   "outputs": [],
   "source": [
    "import gzip\n",
    "import json\n",
    "import os\n",
    "import sys\n",
    "import pandas as pd\n",
    "\n",
    "sys.path.append(\"../../..\")\n",
    "\n",
    "module_path_1 = os.path.abspath(os.path.join(\"../../../data-sources/TestGrid\"))\n",
    "if module_path_1 not in sys.path:\n",
    "    sys.path.append(module_path_1)\n",
    "\n",
    "from ipynb.fs.defs.number_of_flakes import (  # noqa: E402\n",
    "    testgrid_labelwise_encoding,\n",
    ")  # noqa: E402"
   ]
  },
  {
   "cell_type": "code",
   "execution_count": 3,
   "id": "boxed-enough",
   "metadata": {
    "ExecuteTime": {
     "end_time": "2021-03-22T16:17:09.434021Z",
     "start_time": "2021-03-22T16:16:54.377410Z"
    }
   },
   "outputs": [],
   "source": [
    "# Load test file\n",
    "with gzip.open(\"../../../../data/raw/testgrid_183.json.gz\", \"rb\") as read_file:\n",
    "    testgrid_data = json.load(read_file)"
   ]
  },
  {
   "cell_type": "code",
   "execution_count": 4,
   "id": "standard-parade",
   "metadata": {
    "ExecuteTime": {
     "end_time": "2021-03-22T16:17:58.003103Z",
     "start_time": "2021-03-22T16:17:09.437197Z"
    }
   },
   "outputs": [],
   "source": [
    "failures_list = testgrid_labelwise_encoding(testgrid_data, 12)"
   ]
  },
  {
   "cell_type": "code",
   "execution_count": 5,
   "id": "worst-egypt",
   "metadata": {
    "ExecuteTime": {
     "end_time": "2021-03-22T16:17:58.010647Z",
     "start_time": "2021-03-22T16:17:58.006094Z"
    }
   },
   "outputs": [
    {
     "data": {
      "text/plain": [
       "27192485"
      ]
     },
     "execution_count": 5,
     "metadata": {},
     "output_type": "execute_result"
    }
   ],
   "source": [
    "len(failures_list)"
   ]
  },
  {
   "cell_type": "code",
   "execution_count": 6,
   "id": "burning-ecology",
   "metadata": {
    "ExecuteTime": {
     "end_time": "2021-03-22T16:17:58.031262Z",
     "start_time": "2021-03-22T16:17:58.012453Z"
    }
   },
   "outputs": [
    {
     "data": {
      "text/plain": [
       "(datetime.datetime(2021, 3, 15, 23, 40, 20),\n",
       " '\"redhat-assisted-installer\"',\n",
       " 'periodic-ci-openshift-release-master-nightly-4.6-e2e-metal-assisted',\n",
       " 'Overall',\n",
       " [{'metric': ['test-duration-minutes'],\n",
       "   'values': [[80.28333333333333,\n",
       "     92.05,\n",
       "     80.98333333333333,\n",
       "     117.71666666666667,\n",
       "     108.63333333333334,\n",
       "     87.06666666666666,\n",
       "     111.03333333333333,\n",
       "     100.28333333333333,\n",
       "     143.2,\n",
       "     577.0333333333333,\n",
       "     18.833333333333332,\n",
       "     92.81666666666666,\n",
       "     81.36666666666666,\n",
       "     89.05,\n",
       "     84.08333333333333,\n",
       "     108.68333333333334,\n",
       "     82.61666666666666,\n",
       "     99.98333333333333,\n",
       "     99.63333333333334,\n",
       "     84.35,\n",
       "     80.15]]}],\n",
       " False)"
      ]
     },
     "execution_count": 6,
     "metadata": {},
     "output_type": "execute_result"
    }
   ],
   "source": [
    "failures_list[0]"
   ]
  },
  {
   "cell_type": "code",
   "execution_count": 7,
   "id": "handled-metabolism",
   "metadata": {
    "ExecuteTime": {
     "end_time": "2021-03-22T16:18:12.867545Z",
     "start_time": "2021-03-22T16:17:58.033245Z"
    }
   },
   "outputs": [
    {
     "data": {
      "text/html": [
       "<div>\n",
       "<style scoped>\n",
       "    .dataframe tbody tr th:only-of-type {\n",
       "        vertical-align: middle;\n",
       "    }\n",
       "\n",
       "    .dataframe tbody tr th {\n",
       "        vertical-align: top;\n",
       "    }\n",
       "\n",
       "    .dataframe thead th {\n",
       "        text-align: right;\n",
       "    }\n",
       "</style>\n",
       "<table border=\"1\" class=\"dataframe\">\n",
       "  <thead>\n",
       "    <tr style=\"text-align: right;\">\n",
       "      <th></th>\n",
       "      <th>timestamp</th>\n",
       "      <th>tab</th>\n",
       "      <th>grid</th>\n",
       "      <th>test</th>\n",
       "      <th>graph</th>\n",
       "      <th>failure</th>\n",
       "    </tr>\n",
       "  </thead>\n",
       "  <tbody>\n",
       "    <tr>\n",
       "      <th>0</th>\n",
       "      <td>2021-03-15 23:40:20</td>\n",
       "      <td>\"redhat-assisted-installer\"</td>\n",
       "      <td>periodic-ci-openshift-release-master-nightly-4...</td>\n",
       "      <td>Overall</td>\n",
       "      <td>[{'metric': ['test-duration-minutes'], 'values...</td>\n",
       "      <td>False</td>\n",
       "    </tr>\n",
       "    <tr>\n",
       "      <th>1</th>\n",
       "      <td>2021-03-15 00:01:06</td>\n",
       "      <td>\"redhat-assisted-installer\"</td>\n",
       "      <td>periodic-ci-openshift-release-master-nightly-4...</td>\n",
       "      <td>Overall</td>\n",
       "      <td>[{'metric': ['test-duration-minutes'], 'values...</td>\n",
       "      <td>False</td>\n",
       "    </tr>\n",
       "    <tr>\n",
       "      <th>2</th>\n",
       "      <td>2021-03-13 20:51:32</td>\n",
       "      <td>\"redhat-assisted-installer\"</td>\n",
       "      <td>periodic-ci-openshift-release-master-nightly-4...</td>\n",
       "      <td>Overall</td>\n",
       "      <td>[{'metric': ['test-duration-minutes'], 'values...</td>\n",
       "      <td>False</td>\n",
       "    </tr>\n",
       "    <tr>\n",
       "      <th>3</th>\n",
       "      <td>2021-03-13 07:51:20</td>\n",
       "      <td>\"redhat-assisted-installer\"</td>\n",
       "      <td>periodic-ci-openshift-release-master-nightly-4...</td>\n",
       "      <td>Overall</td>\n",
       "      <td>[{'metric': ['test-duration-minutes'], 'values...</td>\n",
       "      <td>False</td>\n",
       "    </tr>\n",
       "    <tr>\n",
       "      <th>4</th>\n",
       "      <td>2021-03-13 06:43:20</td>\n",
       "      <td>\"redhat-assisted-installer\"</td>\n",
       "      <td>periodic-ci-openshift-release-master-nightly-4...</td>\n",
       "      <td>Overall</td>\n",
       "      <td>[{'metric': ['test-duration-minutes'], 'values...</td>\n",
       "      <td>False</td>\n",
       "    </tr>\n",
       "  </tbody>\n",
       "</table>\n",
       "</div>"
      ],
      "text/plain": [
       "            timestamp                          tab  \\\n",
       "0 2021-03-15 23:40:20  \"redhat-assisted-installer\"   \n",
       "1 2021-03-15 00:01:06  \"redhat-assisted-installer\"   \n",
       "2 2021-03-13 20:51:32  \"redhat-assisted-installer\"   \n",
       "3 2021-03-13 07:51:20  \"redhat-assisted-installer\"   \n",
       "4 2021-03-13 06:43:20  \"redhat-assisted-installer\"   \n",
       "\n",
       "                                                grid     test  \\\n",
       "0  periodic-ci-openshift-release-master-nightly-4...  Overall   \n",
       "1  periodic-ci-openshift-release-master-nightly-4...  Overall   \n",
       "2  periodic-ci-openshift-release-master-nightly-4...  Overall   \n",
       "3  periodic-ci-openshift-release-master-nightly-4...  Overall   \n",
       "4  periodic-ci-openshift-release-master-nightly-4...  Overall   \n",
       "\n",
       "                                               graph  failure  \n",
       "0  [{'metric': ['test-duration-minutes'], 'values...    False  \n",
       "1  [{'metric': ['test-duration-minutes'], 'values...    False  \n",
       "2  [{'metric': ['test-duration-minutes'], 'values...    False  \n",
       "3  [{'metric': ['test-duration-minutes'], 'values...    False  \n",
       "4  [{'metric': ['test-duration-minutes'], 'values...    False  "
      ]
     },
     "execution_count": 7,
     "metadata": {},
     "output_type": "execute_result"
    }
   ],
   "source": [
    "# Convert to dataframe\n",
    "failures_df = pd.DataFrame(\n",
    "    failures_list, columns=[\"timestamp\", \"tab\", \"grid\", \"test\", \"graph\", \"failure\"]\n",
    ")\n",
    "failures_df.head()"
   ]
  },
  {
   "cell_type": "code",
   "execution_count": 8,
   "id": "excessive-listening",
   "metadata": {
    "ExecuteTime": {
     "end_time": "2021-03-22T16:20:01.633103Z",
     "start_time": "2021-03-22T16:18:12.869772Z"
    }
   },
   "outputs": [],
   "source": [
    "# saving only the first 1000000 out of 19 million rows due to pvc limits.\n",
    "# 250mb = 1 million --> 4750 mb = 19 million\n",
    "failures_df.head(1000000).to_csv(\n",
    "    \"../../../../data/processed/failures.csv\",\n",
    "    header=False,\n",
    ")"
   ]
  },
  {
   "cell_type": "code",
   "execution_count": 9,
   "id": "confident-simon",
   "metadata": {
    "ExecuteTime": {
     "end_time": "2021-03-22T16:20:47.988281Z",
     "start_time": "2021-03-22T16:20:01.636464Z"
    }
   },
   "outputs": [],
   "source": [
    "passing_list = testgrid_labelwise_encoding(testgrid_data, 1)"
   ]
  },
  {
   "cell_type": "code",
   "execution_count": 10,
   "id": "international-sculpture",
   "metadata": {
    "ExecuteTime": {
     "end_time": "2021-03-22T16:20:47.994997Z",
     "start_time": "2021-03-22T16:20:47.990845Z"
    }
   },
   "outputs": [
    {
     "data": {
      "text/plain": [
       "27192485"
      ]
     },
     "execution_count": 10,
     "metadata": {},
     "output_type": "execute_result"
    }
   ],
   "source": [
    "len(passing_list)"
   ]
  },
  {
   "cell_type": "code",
   "execution_count": 11,
   "id": "professional-territory",
   "metadata": {
    "ExecuteTime": {
     "end_time": "2021-03-22T16:21:02.191780Z",
     "start_time": "2021-03-22T16:20:47.996907Z"
    }
   },
   "outputs": [
    {
     "data": {
      "text/html": [
       "<div>\n",
       "<style scoped>\n",
       "    .dataframe tbody tr th:only-of-type {\n",
       "        vertical-align: middle;\n",
       "    }\n",
       "\n",
       "    .dataframe tbody tr th {\n",
       "        vertical-align: top;\n",
       "    }\n",
       "\n",
       "    .dataframe thead th {\n",
       "        text-align: right;\n",
       "    }\n",
       "</style>\n",
       "<table border=\"1\" class=\"dataframe\">\n",
       "  <thead>\n",
       "    <tr style=\"text-align: right;\">\n",
       "      <th></th>\n",
       "      <th>timestamp</th>\n",
       "      <th>tab</th>\n",
       "      <th>grid</th>\n",
       "      <th>test</th>\n",
       "      <th>graph</th>\n",
       "      <th>passing</th>\n",
       "    </tr>\n",
       "  </thead>\n",
       "  <tbody>\n",
       "    <tr>\n",
       "      <th>0</th>\n",
       "      <td>2021-03-15 23:40:20</td>\n",
       "      <td>\"redhat-assisted-installer\"</td>\n",
       "      <td>periodic-ci-openshift-release-master-nightly-4...</td>\n",
       "      <td>Overall</td>\n",
       "      <td>[{'metric': ['test-duration-minutes'], 'values...</td>\n",
       "      <td>True</td>\n",
       "    </tr>\n",
       "    <tr>\n",
       "      <th>1</th>\n",
       "      <td>2021-03-15 00:01:06</td>\n",
       "      <td>\"redhat-assisted-installer\"</td>\n",
       "      <td>periodic-ci-openshift-release-master-nightly-4...</td>\n",
       "      <td>Overall</td>\n",
       "      <td>[{'metric': ['test-duration-minutes'], 'values...</td>\n",
       "      <td>True</td>\n",
       "    </tr>\n",
       "    <tr>\n",
       "      <th>2</th>\n",
       "      <td>2021-03-13 20:51:32</td>\n",
       "      <td>\"redhat-assisted-installer\"</td>\n",
       "      <td>periodic-ci-openshift-release-master-nightly-4...</td>\n",
       "      <td>Overall</td>\n",
       "      <td>[{'metric': ['test-duration-minutes'], 'values...</td>\n",
       "      <td>True</td>\n",
       "    </tr>\n",
       "    <tr>\n",
       "      <th>3</th>\n",
       "      <td>2021-03-13 07:51:20</td>\n",
       "      <td>\"redhat-assisted-installer\"</td>\n",
       "      <td>periodic-ci-openshift-release-master-nightly-4...</td>\n",
       "      <td>Overall</td>\n",
       "      <td>[{'metric': ['test-duration-minutes'], 'values...</td>\n",
       "      <td>True</td>\n",
       "    </tr>\n",
       "    <tr>\n",
       "      <th>4</th>\n",
       "      <td>2021-03-13 06:43:20</td>\n",
       "      <td>\"redhat-assisted-installer\"</td>\n",
       "      <td>periodic-ci-openshift-release-master-nightly-4...</td>\n",
       "      <td>Overall</td>\n",
       "      <td>[{'metric': ['test-duration-minutes'], 'values...</td>\n",
       "      <td>True</td>\n",
       "    </tr>\n",
       "  </tbody>\n",
       "</table>\n",
       "</div>"
      ],
      "text/plain": [
       "            timestamp                          tab  \\\n",
       "0 2021-03-15 23:40:20  \"redhat-assisted-installer\"   \n",
       "1 2021-03-15 00:01:06  \"redhat-assisted-installer\"   \n",
       "2 2021-03-13 20:51:32  \"redhat-assisted-installer\"   \n",
       "3 2021-03-13 07:51:20  \"redhat-assisted-installer\"   \n",
       "4 2021-03-13 06:43:20  \"redhat-assisted-installer\"   \n",
       "\n",
       "                                                grid     test  \\\n",
       "0  periodic-ci-openshift-release-master-nightly-4...  Overall   \n",
       "1  periodic-ci-openshift-release-master-nightly-4...  Overall   \n",
       "2  periodic-ci-openshift-release-master-nightly-4...  Overall   \n",
       "3  periodic-ci-openshift-release-master-nightly-4...  Overall   \n",
       "4  periodic-ci-openshift-release-master-nightly-4...  Overall   \n",
       "\n",
       "                                               graph  passing  \n",
       "0  [{'metric': ['test-duration-minutes'], 'values...     True  \n",
       "1  [{'metric': ['test-duration-minutes'], 'values...     True  \n",
       "2  [{'metric': ['test-duration-minutes'], 'values...     True  \n",
       "3  [{'metric': ['test-duration-minutes'], 'values...     True  \n",
       "4  [{'metric': ['test-duration-minutes'], 'values...     True  "
      ]
     },
     "execution_count": 11,
     "metadata": {},
     "output_type": "execute_result"
    }
   ],
   "source": [
    "# Convert to dataframe\n",
    "passing_df = pd.DataFrame(\n",
    "    passing_list, columns=[\"timestamp\", \"tab\", \"grid\", \"test\", \"graph\", \"passing\"]\n",
    ")\n",
    "passing_df.head()"
   ]
  },
  {
   "cell_type": "code",
   "execution_count": 12,
   "id": "perfect-packing",
   "metadata": {
    "ExecuteTime": {
     "end_time": "2021-03-22T16:22:50.095732Z",
     "start_time": "2021-03-22T16:21:02.194099Z"
    }
   },
   "outputs": [],
   "source": [
    "# saving only the first 1000000 out of 19 million rows due to pvc limits.\n",
    "# 250mb = 1 million --> 4750 mb = 19 million\n",
    "passing_df.head(1000000).to_csv(\n",
    "    \"../../../../data/processed/pass.csv\",\n",
    "    header=False,\n",
    ")"
   ]
  },
  {
   "cell_type": "code",
   "execution_count": 13,
   "id": "sublime-timing",
   "metadata": {
    "ExecuteTime": {
     "end_time": "2021-03-22T16:22:50.211338Z",
     "start_time": "2021-03-22T16:22:50.098303Z"
    }
   },
   "outputs": [
    {
     "name": "stdout",
     "output_type": "stream",
     "text": [
      "Total number of tests: 1000000\n",
      "Total number of failing tests: 4210\n",
      "Test failure percentage: 0.421000\n",
      "Total number of passing tests: 86976\n",
      "Test pass percentage: 8.697600\n"
     ]
    }
   ],
   "source": [
    "# Metrics\n",
    "no_tests = passing_df.head(1000000).test.count()\n",
    "print(\"Total number of tests: %i\" % (no_tests))\n",
    "no_failures = failures_df.head(1000000).failure.sum()\n",
    "print(\"Total number of failing tests: %i\" % (no_failures))\n",
    "test_failures_percentage = (\n",
    "    (failures_df.head(1000000).failure.sum() / failures_df.head(1000000).test.count())\n",
    ") * 100\n",
    "print(\"Test failure percentage: %f\" % (test_failures_percentage))\n",
    "no_pass = passing_df.head(1000000).passing.sum()\n",
    "print(\"Total number of passing tests: %i\" % (no_pass))\n",
    "test_pass_percentage = (\n",
    "    (passing_df.head(1000000).passing.sum() / passing_df.head(1000000).passing.count())\n",
    ") * 100\n",
    "print(\"Test pass percentage: %f\" % (test_pass_percentage))"
   ]
  }
 ],
 "metadata": {
  "finalized": {
   "timestamp": 1612822647266,
   "trusted": true
  },
  "kernelspec": {
   "display_name": "Python 3",
   "language": "python",
   "name": "python3"
  },
  "language_info": {
   "codemirror_mode": {
    "name": "ipython",
    "version": 3
   },
   "file_extension": ".py",
   "mimetype": "text/x-python",
   "name": "python",
   "nbconvert_exporter": "python",
   "pygments_lexer": "ipython3",
   "version": "3.6.8"
  },
  "toc": {
   "base_numbering": 1,
   "nav_menu": {},
   "number_sections": true,
   "sideBar": true,
   "skip_h1_title": false,
   "title_cell": "Table of Contents",
   "title_sidebar": "Contents",
   "toc_cell": false,
   "toc_position": {},
   "toc_section_display": true,
   "toc_window_display": false
  }
 },
 "nbformat": 4,
 "nbformat_minor": 5
}
