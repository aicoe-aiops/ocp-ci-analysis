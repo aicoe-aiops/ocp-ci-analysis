{
 "cells": [
  {
   "cell_type": "markdown",
   "id": "brown-check",
   "metadata": {},
   "source": [
    "# Quantify Tests\n",
    "\n",
    "This notebook is an extension to the [number_of_flakes](number_of_flakes.ipynb) notebook. In this notebook, the key perfomance indicators that we would like to create greater visbility into and track over time is the percent of tests that passed/failed. This can help track and measure the effectiveness and success of our testing process.\n",
    "\n",
    "By measuring this metric, we can observe the trend of test failures over time and a decrease in the percent of failures over time (or increase in percent of test passes), should correlate to improved test efficiencies, enhanced testing process and error free releases.  In this notebook, we derive the following metrics from the TestGrid dataset:\n",
    "\n",
    "* total number of test cases\n",
    "* number of test cases passed\n",
    "* number of test cases failed\n",
    "* percent of tests that pass\n",
    "* percent of tests that fail"
   ]
  },
  {
   "cell_type": "code",
   "execution_count": 1,
   "id": "brilliant-expense",
   "metadata": {
    "ExecuteTime": {
     "end_time": "2021-02-08T22:09:14.897443Z",
     "start_time": "2021-02-08T22:09:14.371522Z"
    }
   },
   "outputs": [],
   "source": [
    "import gzip\n",
    "import json\n",
    "import os\n",
    "import sys\n",
    "import pandas as pd\n",
    "\n",
    "sys.path.append(\"../../..\")\n",
    "\n",
    "module_path_1 = os.path.abspath(os.path.join(\"../../../data-sources/TestGrid\"))\n",
    "if module_path_1 not in sys.path:\n",
    "    sys.path.append(module_path_1)\n",
    "\n",
    "from ipynb.fs.defs.number_of_flakes import (  # noqa: E402\n",
    "    testgrid_labelwise_encoding,\n",
    ")  # noqa: E402"
   ]
  },
  {
   "cell_type": "code",
   "execution_count": 2,
   "id": "boxed-enough",
   "metadata": {
    "ExecuteTime": {
     "end_time": "2021-02-08T22:09:19.031967Z",
     "start_time": "2021-02-08T22:09:15.200904Z"
    }
   },
   "outputs": [],
   "source": [
    "# Load test file\n",
    "with gzip.open(\"../../../../data/raw/testgrid_810.json.gz\", \"rb\") as read_file:\n",
    "    testgrid_data = json.load(read_file)"
   ]
  },
  {
   "cell_type": "code",
   "execution_count": 3,
   "id": "standard-parade",
   "metadata": {
    "ExecuteTime": {
     "end_time": "2021-02-08T22:09:34.731090Z",
     "start_time": "2021-02-08T22:09:19.991258Z"
    }
   },
   "outputs": [],
   "source": [
    "failures_list = testgrid_labelwise_encoding(testgrid_data, 12)"
   ]
  },
  {
   "cell_type": "code",
   "execution_count": 4,
   "id": "worst-egypt",
   "metadata": {
    "ExecuteTime": {
     "end_time": "2021-02-08T22:09:35.959527Z",
     "start_time": "2021-02-08T22:09:35.954444Z"
    }
   },
   "outputs": [
    {
     "data": {
      "text/plain": [
       "19483548"
      ]
     },
     "execution_count": 4,
     "metadata": {},
     "output_type": "execute_result"
    }
   ],
   "source": [
    "len(failures_list)"
   ]
  },
  {
   "cell_type": "code",
   "execution_count": 5,
   "id": "burning-ecology",
   "metadata": {
    "ExecuteTime": {
     "end_time": "2021-02-08T22:09:37.225228Z",
     "start_time": "2021-02-08T22:09:37.220095Z"
    }
   },
   "outputs": [
    {
     "data": {
      "text/plain": [
       "(datetime.datetime(2020, 10, 8, 16, 48, 5),\n",
       " '\"redhat-openshift-informing\"',\n",
       " 'release-openshift-okd-installer-e2e-aws-upgrade',\n",
       " 'Application behind service load balancer with PDB is not disrupted',\n",
       " False)"
      ]
     },
     "execution_count": 5,
     "metadata": {},
     "output_type": "execute_result"
    }
   ],
   "source": [
    "failures_list[0]"
   ]
  },
  {
   "cell_type": "code",
   "execution_count": 6,
   "id": "handled-metabolism",
   "metadata": {
    "ExecuteTime": {
     "start_time": "2021-02-08T22:11:18.046Z"
    }
   },
   "outputs": [
    {
     "data": {
      "text/html": [
       "<div>\n",
       "<style scoped>\n",
       "    .dataframe tbody tr th:only-of-type {\n",
       "        vertical-align: middle;\n",
       "    }\n",
       "\n",
       "    .dataframe tbody tr th {\n",
       "        vertical-align: top;\n",
       "    }\n",
       "\n",
       "    .dataframe thead th {\n",
       "        text-align: right;\n",
       "    }\n",
       "</style>\n",
       "<table border=\"1\" class=\"dataframe\">\n",
       "  <thead>\n",
       "    <tr style=\"text-align: right;\">\n",
       "      <th></th>\n",
       "      <th>timestamp</th>\n",
       "      <th>tab</th>\n",
       "      <th>job</th>\n",
       "      <th>test</th>\n",
       "      <th>failure</th>\n",
       "    </tr>\n",
       "  </thead>\n",
       "  <tbody>\n",
       "    <tr>\n",
       "      <th>0</th>\n",
       "      <td>2020-10-08 16:48:05</td>\n",
       "      <td>\"redhat-openshift-informing\"</td>\n",
       "      <td>release-openshift-okd-installer-e2e-aws-upgrade</td>\n",
       "      <td>Application behind service load balancer with ...</td>\n",
       "      <td>False</td>\n",
       "    </tr>\n",
       "    <tr>\n",
       "      <th>1</th>\n",
       "      <td>2020-10-08 15:12:01</td>\n",
       "      <td>\"redhat-openshift-informing\"</td>\n",
       "      <td>release-openshift-okd-installer-e2e-aws-upgrade</td>\n",
       "      <td>Application behind service load balancer with ...</td>\n",
       "      <td>True</td>\n",
       "    </tr>\n",
       "    <tr>\n",
       "      <th>2</th>\n",
       "      <td>2020-10-08 10:18:13</td>\n",
       "      <td>\"redhat-openshift-informing\"</td>\n",
       "      <td>release-openshift-okd-installer-e2e-aws-upgrade</td>\n",
       "      <td>Application behind service load balancer with ...</td>\n",
       "      <td>False</td>\n",
       "    </tr>\n",
       "    <tr>\n",
       "      <th>3</th>\n",
       "      <td>2020-10-08 07:15:28</td>\n",
       "      <td>\"redhat-openshift-informing\"</td>\n",
       "      <td>release-openshift-okd-installer-e2e-aws-upgrade</td>\n",
       "      <td>Application behind service load balancer with ...</td>\n",
       "      <td>False</td>\n",
       "    </tr>\n",
       "    <tr>\n",
       "      <th>4</th>\n",
       "      <td>2020-10-08 04:27:53</td>\n",
       "      <td>\"redhat-openshift-informing\"</td>\n",
       "      <td>release-openshift-okd-installer-e2e-aws-upgrade</td>\n",
       "      <td>Application behind service load balancer with ...</td>\n",
       "      <td>False</td>\n",
       "    </tr>\n",
       "  </tbody>\n",
       "</table>\n",
       "</div>"
      ],
      "text/plain": [
       "            timestamp                           tab  \\\n",
       "0 2020-10-08 16:48:05  \"redhat-openshift-informing\"   \n",
       "1 2020-10-08 15:12:01  \"redhat-openshift-informing\"   \n",
       "2 2020-10-08 10:18:13  \"redhat-openshift-informing\"   \n",
       "3 2020-10-08 07:15:28  \"redhat-openshift-informing\"   \n",
       "4 2020-10-08 04:27:53  \"redhat-openshift-informing\"   \n",
       "\n",
       "                                               job  \\\n",
       "0  release-openshift-okd-installer-e2e-aws-upgrade   \n",
       "1  release-openshift-okd-installer-e2e-aws-upgrade   \n",
       "2  release-openshift-okd-installer-e2e-aws-upgrade   \n",
       "3  release-openshift-okd-installer-e2e-aws-upgrade   \n",
       "4  release-openshift-okd-installer-e2e-aws-upgrade   \n",
       "\n",
       "                                                test  failure  \n",
       "0  Application behind service load balancer with ...    False  \n",
       "1  Application behind service load balancer with ...     True  \n",
       "2  Application behind service load balancer with ...    False  \n",
       "3  Application behind service load balancer with ...    False  \n",
       "4  Application behind service load balancer with ...    False  "
      ]
     },
     "execution_count": 6,
     "metadata": {},
     "output_type": "execute_result"
    }
   ],
   "source": [
    "# Convert to dataframe\n",
    "failures_df = pd.DataFrame(\n",
    "    failures_list, columns=[\"timestamp\", \"tab\", \"job\", \"test\", \"failure\"]\n",
    ")\n",
    "failures_df.head()"
   ]
  },
  {
   "cell_type": "code",
   "execution_count": 7,
   "id": "excessive-listening",
   "metadata": {
    "ExecuteTime": {
     "end_time": "2021-02-08T22:06:25.771549Z",
     "start_time": "2021-02-08T22:06:14.236882Z"
    }
   },
   "outputs": [],
   "source": [
    "# saving only the first 1000000 out of 19 million rows due to pvc limits.\n",
    "# 250mb = 1 million --> 4750 mb = 19 million\n",
    "failures_df.head(1000000).to_csv(\n",
    "    \"../../../../data/processed/failures.csv\",\n",
    "    header=False,\n",
    ")"
   ]
  },
  {
   "cell_type": "code",
   "execution_count": 8,
   "id": "confident-simon",
   "metadata": {
    "ExecuteTime": {
     "end_time": "2021-02-08T22:06:42.772105Z",
     "start_time": "2021-02-08T22:06:25.774788Z"
    }
   },
   "outputs": [],
   "source": [
    "passing_list = testgrid_labelwise_encoding(testgrid_data, 1)"
   ]
  },
  {
   "cell_type": "code",
   "execution_count": 9,
   "id": "international-sculpture",
   "metadata": {
    "ExecuteTime": {
     "end_time": "2021-02-08T22:06:42.779094Z",
     "start_time": "2021-02-08T22:06:42.774821Z"
    }
   },
   "outputs": [
    {
     "data": {
      "text/plain": [
       "19483548"
      ]
     },
     "execution_count": 9,
     "metadata": {},
     "output_type": "execute_result"
    }
   ],
   "source": [
    "len(passing_list)"
   ]
  },
  {
   "cell_type": "code",
   "execution_count": 10,
   "id": "professional-territory",
   "metadata": {
    "ExecuteTime": {
     "end_time": "2021-02-08T22:06:54.956900Z",
     "start_time": "2021-02-08T22:06:54.639105Z"
    }
   },
   "outputs": [
    {
     "data": {
      "text/html": [
       "<div>\n",
       "<style scoped>\n",
       "    .dataframe tbody tr th:only-of-type {\n",
       "        vertical-align: middle;\n",
       "    }\n",
       "\n",
       "    .dataframe tbody tr th {\n",
       "        vertical-align: top;\n",
       "    }\n",
       "\n",
       "    .dataframe thead th {\n",
       "        text-align: right;\n",
       "    }\n",
       "</style>\n",
       "<table border=\"1\" class=\"dataframe\">\n",
       "  <thead>\n",
       "    <tr style=\"text-align: right;\">\n",
       "      <th></th>\n",
       "      <th>timestamp</th>\n",
       "      <th>tab</th>\n",
       "      <th>job</th>\n",
       "      <th>test</th>\n",
       "      <th>passing</th>\n",
       "    </tr>\n",
       "  </thead>\n",
       "  <tbody>\n",
       "    <tr>\n",
       "      <th>0</th>\n",
       "      <td>2020-10-08 16:48:05</td>\n",
       "      <td>\"redhat-openshift-informing\"</td>\n",
       "      <td>release-openshift-okd-installer-e2e-aws-upgrade</td>\n",
       "      <td>Application behind service load balancer with ...</td>\n",
       "      <td>False</td>\n",
       "    </tr>\n",
       "    <tr>\n",
       "      <th>1</th>\n",
       "      <td>2020-10-08 15:12:01</td>\n",
       "      <td>\"redhat-openshift-informing\"</td>\n",
       "      <td>release-openshift-okd-installer-e2e-aws-upgrade</td>\n",
       "      <td>Application behind service load balancer with ...</td>\n",
       "      <td>False</td>\n",
       "    </tr>\n",
       "    <tr>\n",
       "      <th>2</th>\n",
       "      <td>2020-10-08 10:18:13</td>\n",
       "      <td>\"redhat-openshift-informing\"</td>\n",
       "      <td>release-openshift-okd-installer-e2e-aws-upgrade</td>\n",
       "      <td>Application behind service load balancer with ...</td>\n",
       "      <td>False</td>\n",
       "    </tr>\n",
       "    <tr>\n",
       "      <th>3</th>\n",
       "      <td>2020-10-08 07:15:28</td>\n",
       "      <td>\"redhat-openshift-informing\"</td>\n",
       "      <td>release-openshift-okd-installer-e2e-aws-upgrade</td>\n",
       "      <td>Application behind service load balancer with ...</td>\n",
       "      <td>False</td>\n",
       "    </tr>\n",
       "    <tr>\n",
       "      <th>4</th>\n",
       "      <td>2020-10-08 04:27:53</td>\n",
       "      <td>\"redhat-openshift-informing\"</td>\n",
       "      <td>release-openshift-okd-installer-e2e-aws-upgrade</td>\n",
       "      <td>Application behind service load balancer with ...</td>\n",
       "      <td>False</td>\n",
       "    </tr>\n",
       "  </tbody>\n",
       "</table>\n",
       "</div>"
      ],
      "text/plain": [
       "            timestamp                           tab  \\\n",
       "0 2020-10-08 16:48:05  \"redhat-openshift-informing\"   \n",
       "1 2020-10-08 15:12:01  \"redhat-openshift-informing\"   \n",
       "2 2020-10-08 10:18:13  \"redhat-openshift-informing\"   \n",
       "3 2020-10-08 07:15:28  \"redhat-openshift-informing\"   \n",
       "4 2020-10-08 04:27:53  \"redhat-openshift-informing\"   \n",
       "\n",
       "                                               job  \\\n",
       "0  release-openshift-okd-installer-e2e-aws-upgrade   \n",
       "1  release-openshift-okd-installer-e2e-aws-upgrade   \n",
       "2  release-openshift-okd-installer-e2e-aws-upgrade   \n",
       "3  release-openshift-okd-installer-e2e-aws-upgrade   \n",
       "4  release-openshift-okd-installer-e2e-aws-upgrade   \n",
       "\n",
       "                                                test  passing  \n",
       "0  Application behind service load balancer with ...    False  \n",
       "1  Application behind service load balancer with ...    False  \n",
       "2  Application behind service load balancer with ...    False  \n",
       "3  Application behind service load balancer with ...    False  \n",
       "4  Application behind service load balancer with ...    False  "
      ]
     },
     "execution_count": 10,
     "metadata": {},
     "output_type": "execute_result"
    }
   ],
   "source": [
    "# Convert to dataframe\n",
    "passing_df = pd.DataFrame(\n",
    "    passing_list, columns=[\"timestamp\", \"tab\", \"job\", \"test\", \"passing\"]\n",
    ")\n",
    "passing_df.head()"
   ]
  },
  {
   "cell_type": "code",
   "execution_count": 11,
   "id": "perfect-packing",
   "metadata": {
    "ExecuteTime": {
     "start_time": "2021-02-08T22:07:26.466Z"
    }
   },
   "outputs": [],
   "source": [
    "# saving only the first 1000000 out of 19 million rows due to pvc limits.\n",
    "# 250mb = 1 million --> 4750 mb = 19 million\n",
    "passing_df.head(1000000).to_csv(\n",
    "    \"../../../../data/processed/pass.csv\",\n",
    "    header=False,\n",
    ")"
   ]
  },
  {
   "cell_type": "code",
   "execution_count": 12,
   "id": "sublime-timing",
   "metadata": {
    "ExecuteTime": {
     "start_time": "2021-02-08T22:07:26.468Z"
    }
   },
   "outputs": [
    {
     "name": "stdout",
     "output_type": "stream",
     "text": [
      "Total number of tests: 1000000\n",
      "Total number of failing tests: 3989\n",
      "Test failure percentage: 0.398900\n",
      "Total number of passing tests: 704558\n",
      "Test pass percentage: 70.455800\n"
     ]
    }
   ],
   "source": [
    "# Metrics\n",
    "no_tests = passing_df.head(1000000).test.count()\n",
    "print(\"Total number of tests: %i\" % (no_tests))\n",
    "no_failures = failures_df.head(1000000).failure.sum()\n",
    "print(\"Total number of failing tests: %i\" % (no_failures))\n",
    "test_failures_percentage = (\n",
    "    (\n",
    "        failures_df.head(1000000).failure.sum()\n",
    "        / failures_df.head(1000000).test.count()\n",
    "    )\n",
    ") * 100\n",
    "print(\"Test failure percentage: %f\" % (test_failures_percentage))\n",
    "no_pass = passing_df.head(1000000).passing.sum()\n",
    "print(\"Total number of passing tests: %i\" % (no_pass))\n",
    "test_pass_percentage = (\n",
    "    (\n",
    "        passing_df.head(1000000).passing.sum()\n",
    "        / passing_df.head(1000000).passing.count()\n",
    "    )\n",
    ") * 100\n",
    "print(\"Test pass percentage: %f\" % (test_pass_percentage))"
   ]
  }
 ],
 "metadata": {
  "finalized": {
   "timestamp": 1612822647266,
   "trusted": true
  },
  "kernelspec": {
   "display_name": "Python 3",
   "language": "python",
   "name": "python3"
  },
  "language_info": {
   "codemirror_mode": {
    "name": "ipython",
    "version": 3
   },
   "file_extension": ".py",
   "mimetype": "text/x-python",
   "name": "python",
   "nbconvert_exporter": "python",
   "pygments_lexer": "ipython3",
   "version": "3.6.8"
  },
  "toc": {
   "base_numbering": 1,
   "nav_menu": {},
   "number_sections": true,
   "sideBar": true,
   "skip_h1_title": false,
   "title_cell": "Table of Contents",
   "title_sidebar": "Contents",
   "toc_cell": false,
   "toc_position": {},
   "toc_section_display": true,
   "toc_window_display": false
  }
 },
 "nbformat": 4,
 "nbformat_minor": 5
}
