{
 "cells": [
  {
   "cell_type": "markdown",
   "id": "endless-optimum",
   "metadata": {
    "ExecuteTime": {
     "end_time": "2021-03-12T15:35:37.863850Z",
     "start_time": "2021-03-12T15:35:37.498594Z"
    }
   },
   "source": [
    "# Quantify Time to Test\n",
    "\n",
    "In this notebook, the Key Performance Indicator that we capture is `the time to test` for the test Overall or `the total runtime` for builds as it would help filter and observe builds with longer than expected runtimes.\n",
    "\n",
    "By measuring this metric, we can observe the trend of build runtimes and check if the execution time of the builds exceed the specified values. If the execution of the test suite takes a long time, we may wish to optimize our test code or track down tests that are taking too long. This metric can also be used to draw a correlation to the tests turning out to be flaky.\n",
    "\n",
    "In this notebook, we capture:\n",
    "* Time taken to run builds over time"
   ]
  },
  {
   "cell_type": "markdown",
   "id": "downtown-central",
   "metadata": {},
   "source": [
    "_Linked issues: [issue1](https://github.com/aicoe-aiops/ocp-ci-analysis/issues/117)_"
   ]
  },
  {
   "cell_type": "code",
   "execution_count": 1,
   "id": "diverse-providence",
   "metadata": {
    "ExecuteTime": {
     "end_time": "2021-03-25T20:19:12.433862Z",
     "start_time": "2021-03-25T20:19:12.428062Z"
    }
   },
   "outputs": [
    {
     "data": {
      "text/plain": [
       "True"
      ]
     },
     "execution_count": 1,
     "metadata": {},
     "output_type": "execute_result"
    }
   ],
   "source": [
    "import os\n",
    "import json\n",
    "import datetime\n",
    "import gzip\n",
    "import pandas as pd\n",
    "import matplotlib.pyplot as plt\n",
    "import seaborn as sns\n",
    "\n",
    "from ipynb.fs.defs.metric_template import testgrid_labelwise_encoding\n",
    "from ipynb.fs.defs.metric_template import CephCommunication\n",
    "from ipynb.fs.defs.metric_template import save_to_disk, read_from_disk\n",
    "from dotenv import load_dotenv, find_dotenv\n",
    "\n",
    "load_dotenv(find_dotenv())"
   ]
  },
  {
   "cell_type": "markdown",
   "id": "disciplinary-elimination",
   "metadata": {},
   "source": [
    "For extracting this metric, we will dig into the time series data in the detailed test grids. In this notebook, we use the `Overall` tests as our proxy for builds."
   ]
  },
  {
   "cell_type": "markdown",
   "id": "organized-morning",
   "metadata": {},
   "source": [
    "There are inbuilt Graphs within TestGrid for each Test in the job, which capture the time taken for running each test."
   ]
  },
  {
   "cell_type": "markdown",
   "id": "twenty-composer",
   "metadata": {},
   "source": [
    "As a part of our data download and extraction process we are capturing time taken not for all tests but the test `Overall` which can be used as a proxy for a Build since time durations are not consistently captured for all tests. Thus in this notebook, we capture time elapsed for each Build."
   ]
  },
  {
   "cell_type": "code",
   "execution_count": 2,
   "id": "fiscal-elimination",
   "metadata": {},
   "outputs": [],
   "source": [
    "## Specify variables\n",
    "\n",
    "METRIC_NAME = \"time_to_test\"\n",
    "\n",
    "# Specify the path for input grid data,\n",
    "INPUT_DATA_PATH = \"../../../../data/raw/testgrid_183.json.gz\"\n",
    "\n",
    "# Specify the path for output metric data\n",
    "OUTPUT_DATA_PATH = f\"../../../../data/processed/metrics/{METRIC_NAME}\"\n",
    "\n",
    "## CEPH Bucket variables\n",
    "## Create a .env file on your local with the correct configs,\n",
    "s3_endpoint_url = os.getenv(\"S3_ENDPOINT\")\n",
    "s3_access_key = os.getenv(\"S3_ACCESS_KEY\")\n",
    "s3_secret_key = os.getenv(\"S3_SECRET_KEY\")\n",
    "s3_bucket = os.getenv(\"S3_BUCKET\")\n",
    "s3_path = os.getenv(\"S3_PROJECT_KEY\", \"metrics\")\n",
    "s3_input_data_path = \"raw_data\"\n",
    "AUTOMATION = os.getenv(\"IN_AUTOMATION\")"
   ]
  },
  {
   "cell_type": "code",
   "execution_count": 3,
   "id": "little-attraction",
   "metadata": {},
   "outputs": [],
   "source": [
    "## Import data\n",
    "timestamp = datetime.datetime.today()\n",
    "\n",
    "if AUTOMATION:\n",
    "    filename = f\"testgrid_{timestamp.day}{timestamp.month}.json\"\n",
    "    cc = CephCommunication(s3_endpoint_url, s3_access_key, s3_secret_key, s3_bucket)\n",
    "    s3_object = cc.s3_resource.Object(s3_bucket, f\"{s3_input_data_path}/{filename}\")\n",
    "    file_content = s3_object.get()[\"Body\"].read().decode(\"utf-8\")\n",
    "    testgrid_data = json.loads(file_content)\n",
    "\n",
    "else:\n",
    "    with gzip.open(INPUT_DATA_PATH, \"rb\") as read_file:\n",
    "        testgrid_data = json.load(read_file)"
   ]
  },
  {
   "cell_type": "markdown",
   "id": "incomplete-patch",
   "metadata": {},
   "source": [
    "## Metric Calculation\n",
    "We find runtimes for each Test Overall or Build"
   ]
  },
  {
   "cell_type": "code",
   "execution_count": 4,
   "id": "distinguished-chosen",
   "metadata": {
    "ExecuteTime": {
     "end_time": "2021-03-25T20:00:08.197830Z",
     "start_time": "2021-03-25T19:59:39.206083Z"
    }
   },
   "outputs": [],
   "source": [
    "# We pass status code as None since we are not filtering by Status here\n",
    "testgrid_list = testgrid_labelwise_encoding(testgrid_data, None)"
   ]
  },
  {
   "cell_type": "code",
   "execution_count": 5,
   "id": "future-difference",
   "metadata": {},
   "outputs": [
    {
     "data": {
      "text/plain": [
       "29292485"
      ]
     },
     "execution_count": 5,
     "metadata": {},
     "output_type": "execute_result"
    }
   ],
   "source": [
    "len(testgrid_list)"
   ]
  },
  {
   "cell_type": "code",
   "execution_count": 6,
   "id": "suburban-coordinate",
   "metadata": {},
   "outputs": [
    {
     "data": {
      "text/plain": [
       "(datetime.datetime(2021, 4, 14, 16, 12, 4),\n",
       " '\"redhat-assisted-installer\"',\n",
       " 'periodic-ci-openshift-release-master-nightly-4.6-e2e-metal-assisted',\n",
       " 'Overall',\n",
       " 105.58333333333333)"
      ]
     },
     "execution_count": 6,
     "metadata": {},
     "output_type": "execute_result"
    }
   ],
   "source": [
    "testgrid_list[0]"
   ]
  },
  {
   "cell_type": "code",
   "execution_count": 7,
   "id": "pleased-sport",
   "metadata": {
    "ExecuteTime": {
     "end_time": "2021-03-25T20:00:20.628684Z",
     "start_time": "2021-03-25T20:00:08.200578Z"
    }
   },
   "outputs": [
    {
     "data": {
      "text/html": [
       "<div>\n",
       "<style scoped>\n",
       "    .dataframe tbody tr th:only-of-type {\n",
       "        vertical-align: middle;\n",
       "    }\n",
       "\n",
       "    .dataframe tbody tr th {\n",
       "        vertical-align: top;\n",
       "    }\n",
       "\n",
       "    .dataframe thead th {\n",
       "        text-align: right;\n",
       "    }\n",
       "</style>\n",
       "<table border=\"1\" class=\"dataframe\">\n",
       "  <thead>\n",
       "    <tr style=\"text-align: right;\">\n",
       "      <th></th>\n",
       "      <th>timestamp</th>\n",
       "      <th>tab</th>\n",
       "      <th>job</th>\n",
       "      <th>test</th>\n",
       "      <th>test_duration</th>\n",
       "    </tr>\n",
       "  </thead>\n",
       "  <tbody>\n",
       "    <tr>\n",
       "      <th>0</th>\n",
       "      <td>2021-04-14 16:12:04</td>\n",
       "      <td>\"redhat-assisted-installer\"</td>\n",
       "      <td>periodic-ci-openshift-release-master-nightly-4...</td>\n",
       "      <td>Overall</td>\n",
       "      <td>105.583333</td>\n",
       "    </tr>\n",
       "    <tr>\n",
       "      <th>1</th>\n",
       "      <td>2021-04-14 15:05:09</td>\n",
       "      <td>\"redhat-assisted-installer\"</td>\n",
       "      <td>periodic-ci-openshift-release-master-nightly-4...</td>\n",
       "      <td>Overall</td>\n",
       "      <td>87.216667</td>\n",
       "    </tr>\n",
       "    <tr>\n",
       "      <th>2</th>\n",
       "      <td>2021-04-14 13:13:36</td>\n",
       "      <td>\"redhat-assisted-installer\"</td>\n",
       "      <td>periodic-ci-openshift-release-master-nightly-4...</td>\n",
       "      <td>Overall</td>\n",
       "      <td>99.100000</td>\n",
       "    </tr>\n",
       "    <tr>\n",
       "      <th>3</th>\n",
       "      <td>2021-04-14 02:02:46</td>\n",
       "      <td>\"redhat-assisted-installer\"</td>\n",
       "      <td>periodic-ci-openshift-release-master-nightly-4...</td>\n",
       "      <td>Overall</td>\n",
       "      <td>107.316667</td>\n",
       "    </tr>\n",
       "    <tr>\n",
       "      <th>4</th>\n",
       "      <td>2021-04-13 19:12:42</td>\n",
       "      <td>\"redhat-assisted-installer\"</td>\n",
       "      <td>periodic-ci-openshift-release-master-nightly-4...</td>\n",
       "      <td>Overall</td>\n",
       "      <td>85.583333</td>\n",
       "    </tr>\n",
       "  </tbody>\n",
       "</table>\n",
       "</div>"
      ],
      "text/plain": [
       "            timestamp                          tab  \\\n",
       "0 2021-04-14 16:12:04  \"redhat-assisted-installer\"   \n",
       "1 2021-04-14 15:05:09  \"redhat-assisted-installer\"   \n",
       "2 2021-04-14 13:13:36  \"redhat-assisted-installer\"   \n",
       "3 2021-04-14 02:02:46  \"redhat-assisted-installer\"   \n",
       "4 2021-04-13 19:12:42  \"redhat-assisted-installer\"   \n",
       "\n",
       "                                                 job     test  test_duration  \n",
       "0  periodic-ci-openshift-release-master-nightly-4...  Overall     105.583333  \n",
       "1  periodic-ci-openshift-release-master-nightly-4...  Overall      87.216667  \n",
       "2  periodic-ci-openshift-release-master-nightly-4...  Overall      99.100000  \n",
       "3  periodic-ci-openshift-release-master-nightly-4...  Overall     107.316667  \n",
       "4  periodic-ci-openshift-release-master-nightly-4...  Overall      85.583333  "
      ]
     },
     "execution_count": 7,
     "metadata": {},
     "output_type": "execute_result"
    }
   ],
   "source": [
    "# Convert to dataframe\n",
    "testgrid_df = pd.DataFrame(\n",
    "    testgrid_list, columns=[\"timestamp\", \"tab\", \"job\", \"test\", \"test_duration\"]\n",
    ")\n",
    "testgrid_df.head()"
   ]
  },
  {
   "cell_type": "code",
   "execution_count": 8,
   "id": "oriented-graduate",
   "metadata": {
    "ExecuteTime": {
     "end_time": "2021-03-25T20:00:22.082622Z",
     "start_time": "2021-03-25T20:00:20.630938Z"
    }
   },
   "outputs": [],
   "source": [
    "# time durations are captured currently for the Test Overalls, hence we filter\n",
    "testgrid_df = testgrid_df[testgrid_df[\"test\"] == \"Overall\"]"
   ]
  },
  {
   "cell_type": "code",
   "execution_count": 9,
   "id": "sufficient-probe",
   "metadata": {
    "ExecuteTime": {
     "end_time": "2021-03-25T20:00:25.775781Z",
     "start_time": "2021-03-25T20:00:25.766264Z"
    }
   },
   "outputs": [],
   "source": [
    "testgrid_df = testgrid_df.loc[testgrid_df.test_duration.notnull()]"
   ]
  },
  {
   "cell_type": "code",
   "execution_count": 10,
   "id": "naughty-laundry",
   "metadata": {
    "ExecuteTime": {
     "end_time": "2021-03-25T20:00:28.420797Z",
     "start_time": "2021-03-25T20:00:28.408107Z"
    }
   },
   "outputs": [
    {
     "data": {
      "text/html": [
       "<div>\n",
       "<style scoped>\n",
       "    .dataframe tbody tr th:only-of-type {\n",
       "        vertical-align: middle;\n",
       "    }\n",
       "\n",
       "    .dataframe tbody tr th {\n",
       "        vertical-align: top;\n",
       "    }\n",
       "\n",
       "    .dataframe thead th {\n",
       "        text-align: right;\n",
       "    }\n",
       "</style>\n",
       "<table border=\"1\" class=\"dataframe\">\n",
       "  <thead>\n",
       "    <tr style=\"text-align: right;\">\n",
       "      <th></th>\n",
       "      <th>timestamp</th>\n",
       "      <th>tab</th>\n",
       "      <th>job</th>\n",
       "      <th>test</th>\n",
       "      <th>test_duration</th>\n",
       "    </tr>\n",
       "  </thead>\n",
       "  <tbody>\n",
       "    <tr>\n",
       "      <th>0</th>\n",
       "      <td>2021-04-14 16:12:04</td>\n",
       "      <td>\"redhat-assisted-installer\"</td>\n",
       "      <td>periodic-ci-openshift-release-master-nightly-4...</td>\n",
       "      <td>Overall</td>\n",
       "      <td>105.583333</td>\n",
       "    </tr>\n",
       "    <tr>\n",
       "      <th>1</th>\n",
       "      <td>2021-04-14 15:05:09</td>\n",
       "      <td>\"redhat-assisted-installer\"</td>\n",
       "      <td>periodic-ci-openshift-release-master-nightly-4...</td>\n",
       "      <td>Overall</td>\n",
       "      <td>87.216667</td>\n",
       "    </tr>\n",
       "    <tr>\n",
       "      <th>2</th>\n",
       "      <td>2021-04-14 13:13:36</td>\n",
       "      <td>\"redhat-assisted-installer\"</td>\n",
       "      <td>periodic-ci-openshift-release-master-nightly-4...</td>\n",
       "      <td>Overall</td>\n",
       "      <td>99.100000</td>\n",
       "    </tr>\n",
       "    <tr>\n",
       "      <th>3</th>\n",
       "      <td>2021-04-14 02:02:46</td>\n",
       "      <td>\"redhat-assisted-installer\"</td>\n",
       "      <td>periodic-ci-openshift-release-master-nightly-4...</td>\n",
       "      <td>Overall</td>\n",
       "      <td>107.316667</td>\n",
       "    </tr>\n",
       "    <tr>\n",
       "      <th>4</th>\n",
       "      <td>2021-04-13 19:12:42</td>\n",
       "      <td>\"redhat-assisted-installer\"</td>\n",
       "      <td>periodic-ci-openshift-release-master-nightly-4...</td>\n",
       "      <td>Overall</td>\n",
       "      <td>85.583333</td>\n",
       "    </tr>\n",
       "  </tbody>\n",
       "</table>\n",
       "</div>"
      ],
      "text/plain": [
       "            timestamp                          tab  \\\n",
       "0 2021-04-14 16:12:04  \"redhat-assisted-installer\"   \n",
       "1 2021-04-14 15:05:09  \"redhat-assisted-installer\"   \n",
       "2 2021-04-14 13:13:36  \"redhat-assisted-installer\"   \n",
       "3 2021-04-14 02:02:46  \"redhat-assisted-installer\"   \n",
       "4 2021-04-13 19:12:42  \"redhat-assisted-installer\"   \n",
       "\n",
       "                                                 job     test  test_duration  \n",
       "0  periodic-ci-openshift-release-master-nightly-4...  Overall     105.583333  \n",
       "1  periodic-ci-openshift-release-master-nightly-4...  Overall      87.216667  \n",
       "2  periodic-ci-openshift-release-master-nightly-4...  Overall      99.100000  \n",
       "3  periodic-ci-openshift-release-master-nightly-4...  Overall     107.316667  \n",
       "4  periodic-ci-openshift-release-master-nightly-4...  Overall      85.583333  "
      ]
     },
     "execution_count": 10,
     "metadata": {},
     "output_type": "execute_result"
    }
   ],
   "source": [
    "testgrid_df.head()"
   ]
  },
  {
   "cell_type": "code",
   "execution_count": 11,
   "id": "prompt-montgomery",
   "metadata": {},
   "outputs": [
    {
     "data": {
      "text/plain": [
       "40061"
      ]
     },
     "execution_count": 11,
     "metadata": {},
     "output_type": "execute_result"
    }
   ],
   "source": [
    "len(testgrid_df)"
   ]
  },
  {
   "cell_type": "markdown",
   "id": "egyptian-boxing",
   "metadata": {},
   "source": [
    "## Metric Calculation\n",
    "We want to calcluate the average time duration for the job/build"
   ]
  },
  {
   "cell_type": "code",
   "execution_count": 12,
   "id": "mighty-confidentiality",
   "metadata": {
    "ExecuteTime": {
     "end_time": "2021-03-25T20:00:47.026572Z",
     "start_time": "2021-03-25T20:00:46.991913Z"
    }
   },
   "outputs": [],
   "source": [
    "average_time = (\n",
    "    testgrid_df.groupby([\"tab\", \"job\", \"test\"])[\"test_duration\"].mean().reset_index()\n",
    ")"
   ]
  },
  {
   "cell_type": "code",
   "execution_count": 13,
   "id": "posted-dryer",
   "metadata": {},
   "outputs": [
    {
     "data": {
      "text/html": [
       "<div>\n",
       "<style scoped>\n",
       "    .dataframe tbody tr th:only-of-type {\n",
       "        vertical-align: middle;\n",
       "    }\n",
       "\n",
       "    .dataframe tbody tr th {\n",
       "        vertical-align: top;\n",
       "    }\n",
       "\n",
       "    .dataframe thead th {\n",
       "        text-align: right;\n",
       "    }\n",
       "</style>\n",
       "<table border=\"1\" class=\"dataframe\">\n",
       "  <thead>\n",
       "    <tr style=\"text-align: right;\">\n",
       "      <th></th>\n",
       "      <th>tab</th>\n",
       "      <th>job</th>\n",
       "      <th>test</th>\n",
       "      <th>test_duration</th>\n",
       "    </tr>\n",
       "  </thead>\n",
       "  <tbody>\n",
       "    <tr>\n",
       "      <th>0</th>\n",
       "      <td>\"redhat-assisted-installer\"</td>\n",
       "      <td>periodic-ci-openshift-release-master-nightly-4...</td>\n",
       "      <td>Overall</td>\n",
       "      <td>98.153333</td>\n",
       "    </tr>\n",
       "    <tr>\n",
       "      <th>1</th>\n",
       "      <td>\"redhat-assisted-installer\"</td>\n",
       "      <td>periodic-ci-openshift-release-master-nightly-4...</td>\n",
       "      <td>Overall</td>\n",
       "      <td>85.126087</td>\n",
       "    </tr>\n",
       "    <tr>\n",
       "      <th>2</th>\n",
       "      <td>\"redhat-assisted-installer\"</td>\n",
       "      <td>periodic-ci-openshift-release-master-nightly-4...</td>\n",
       "      <td>Overall</td>\n",
       "      <td>67.072464</td>\n",
       "    </tr>\n",
       "    <tr>\n",
       "      <th>3</th>\n",
       "      <td>\"redhat-assisted-installer\"</td>\n",
       "      <td>periodic-ci-openshift-release-master-nightly-4...</td>\n",
       "      <td>Overall</td>\n",
       "      <td>84.342500</td>\n",
       "    </tr>\n",
       "    <tr>\n",
       "      <th>4</th>\n",
       "      <td>\"redhat-assisted-installer\"</td>\n",
       "      <td>periodic-ci-openshift-release-master-nightly-4...</td>\n",
       "      <td>Overall</td>\n",
       "      <td>86.331944</td>\n",
       "    </tr>\n",
       "  </tbody>\n",
       "</table>\n",
       "</div>"
      ],
      "text/plain": [
       "                           tab  \\\n",
       "0  \"redhat-assisted-installer\"   \n",
       "1  \"redhat-assisted-installer\"   \n",
       "2  \"redhat-assisted-installer\"   \n",
       "3  \"redhat-assisted-installer\"   \n",
       "4  \"redhat-assisted-installer\"   \n",
       "\n",
       "                                                 job     test  test_duration  \n",
       "0  periodic-ci-openshift-release-master-nightly-4...  Overall      98.153333  \n",
       "1  periodic-ci-openshift-release-master-nightly-4...  Overall      85.126087  \n",
       "2  periodic-ci-openshift-release-master-nightly-4...  Overall      67.072464  \n",
       "3  periodic-ci-openshift-release-master-nightly-4...  Overall      84.342500  \n",
       "4  periodic-ci-openshift-release-master-nightly-4...  Overall      86.331944  "
      ]
     },
     "execution_count": 13,
     "metadata": {},
     "output_type": "execute_result"
    }
   ],
   "source": [
    "average_time.head()"
   ]
  },
  {
   "cell_type": "markdown",
   "id": "antique-linux",
   "metadata": {},
   "source": [
    "## Visualization\n",
    "Plot of time elapsed for Builds over time."
   ]
  },
  {
   "cell_type": "code",
   "execution_count": 14,
   "id": "conditional-shepherd",
   "metadata": {
    "ExecuteTime": {
     "end_time": "2021-03-25T20:01:57.643822Z",
     "start_time": "2021-03-25T20:01:57.196237Z"
    }
   },
   "outputs": [],
   "source": [
    "df = (\n",
    "    testgrid_df.groupby([\"tab\", \"job\", \"test\"])\n",
    "    .apply(lambda x: [list(x[\"test_duration\"]), list(x[\"timestamp\"])])\n",
    "    .apply(pd.Series)\n",
    "    .reset_index()\n",
    ")\n",
    "df.columns = [\"tab\", \"job\", \"test\", \"test_duration\", \"timestamp\"]"
   ]
  },
  {
   "cell_type": "code",
   "execution_count": 15,
   "id": "smart-dictionary",
   "metadata": {
    "ExecuteTime": {
     "end_time": "2021-03-25T20:02:43.411154Z",
     "start_time": "2021-03-25T20:02:43.382193Z"
    }
   },
   "outputs": [
    {
     "data": {
      "text/html": [
       "<div>\n",
       "<style scoped>\n",
       "    .dataframe tbody tr th:only-of-type {\n",
       "        vertical-align: middle;\n",
       "    }\n",
       "\n",
       "    .dataframe tbody tr th {\n",
       "        vertical-align: top;\n",
       "    }\n",
       "\n",
       "    .dataframe thead th {\n",
       "        text-align: right;\n",
       "    }\n",
       "</style>\n",
       "<table border=\"1\" class=\"dataframe\">\n",
       "  <thead>\n",
       "    <tr style=\"text-align: right;\">\n",
       "      <th></th>\n",
       "      <th>tab</th>\n",
       "      <th>job</th>\n",
       "      <th>test</th>\n",
       "      <th>test_duration</th>\n",
       "      <th>timestamp</th>\n",
       "    </tr>\n",
       "  </thead>\n",
       "  <tbody>\n",
       "    <tr>\n",
       "      <th>0</th>\n",
       "      <td>\"redhat-assisted-installer\"</td>\n",
       "      <td>periodic-ci-openshift-release-master-nightly-4...</td>\n",
       "      <td>Overall</td>\n",
       "      <td>[105.58333333333333, 87.21666666666667, 99.1, ...</td>\n",
       "      <td>[2021-04-14 16:12:04, 2021-04-14 15:05:09, 202...</td>\n",
       "    </tr>\n",
       "    <tr>\n",
       "      <th>1</th>\n",
       "      <td>\"redhat-assisted-installer\"</td>\n",
       "      <td>periodic-ci-openshift-release-master-nightly-4...</td>\n",
       "      <td>Overall</td>\n",
       "      <td>[86.66666666666667, 119.03333333333333, 81.316...</td>\n",
       "      <td>[2021-04-13 14:48:03, 2021-04-12 00:00:39, 202...</td>\n",
       "    </tr>\n",
       "    <tr>\n",
       "      <th>2</th>\n",
       "      <td>\"redhat-assisted-installer\"</td>\n",
       "      <td>periodic-ci-openshift-release-master-nightly-4...</td>\n",
       "      <td>Overall</td>\n",
       "      <td>[67.91666666666667, 70.0, 64.68333333333334, 6...</td>\n",
       "      <td>[2021-04-13 14:48:07, 2021-04-12 00:00:39, 202...</td>\n",
       "    </tr>\n",
       "    <tr>\n",
       "      <th>3</th>\n",
       "      <td>\"redhat-assisted-installer\"</td>\n",
       "      <td>periodic-ci-openshift-release-master-nightly-4...</td>\n",
       "      <td>Overall</td>\n",
       "      <td>[83.21666666666667, 82.76666666666667, 94.5166...</td>\n",
       "      <td>[2021-04-13 17:26:21, 2021-04-13 11:18:33, 202...</td>\n",
       "    </tr>\n",
       "    <tr>\n",
       "      <th>4</th>\n",
       "      <td>\"redhat-assisted-installer\"</td>\n",
       "      <td>periodic-ci-openshift-release-master-nightly-4...</td>\n",
       "      <td>Overall</td>\n",
       "      <td>[99.33333333333333, 90.23333333333333, 93.2333...</td>\n",
       "      <td>[2021-04-13 17:26:23, 2021-04-13 11:18:36, 202...</td>\n",
       "    </tr>\n",
       "  </tbody>\n",
       "</table>\n",
       "</div>"
      ],
      "text/plain": [
       "                           tab  \\\n",
       "0  \"redhat-assisted-installer\"   \n",
       "1  \"redhat-assisted-installer\"   \n",
       "2  \"redhat-assisted-installer\"   \n",
       "3  \"redhat-assisted-installer\"   \n",
       "4  \"redhat-assisted-installer\"   \n",
       "\n",
       "                                                 job     test  \\\n",
       "0  periodic-ci-openshift-release-master-nightly-4...  Overall   \n",
       "1  periodic-ci-openshift-release-master-nightly-4...  Overall   \n",
       "2  periodic-ci-openshift-release-master-nightly-4...  Overall   \n",
       "3  periodic-ci-openshift-release-master-nightly-4...  Overall   \n",
       "4  periodic-ci-openshift-release-master-nightly-4...  Overall   \n",
       "\n",
       "                                       test_duration  \\\n",
       "0  [105.58333333333333, 87.21666666666667, 99.1, ...   \n",
       "1  [86.66666666666667, 119.03333333333333, 81.316...   \n",
       "2  [67.91666666666667, 70.0, 64.68333333333334, 6...   \n",
       "3  [83.21666666666667, 82.76666666666667, 94.5166...   \n",
       "4  [99.33333333333333, 90.23333333333333, 93.2333...   \n",
       "\n",
       "                                           timestamp  \n",
       "0  [2021-04-14 16:12:04, 2021-04-14 15:05:09, 202...  \n",
       "1  [2021-04-13 14:48:03, 2021-04-12 00:00:39, 202...  \n",
       "2  [2021-04-13 14:48:07, 2021-04-12 00:00:39, 202...  \n",
       "3  [2021-04-13 17:26:21, 2021-04-13 11:18:33, 202...  \n",
       "4  [2021-04-13 17:26:23, 2021-04-13 11:18:36, 202...  "
      ]
     },
     "execution_count": 15,
     "metadata": {},
     "output_type": "execute_result"
    }
   ],
   "source": [
    "df.head()"
   ]
  },
  {
   "cell_type": "code",
   "execution_count": 16,
   "id": "focused-clarity",
   "metadata": {
    "ExecuteTime": {
     "end_time": "2021-03-25T20:14:14.543059Z",
     "start_time": "2021-03-25T20:14:14.531970Z"
    }
   },
   "outputs": [],
   "source": [
    "def plot_build_graph(dashboard, job, dataframe):\n",
    "\n",
    "    test_duration = dataframe.loc[\n",
    "        (df[\"tab\"] == dashboard) & (dataframe[\"job\"] == job), \"test_duration\"\n",
    "    ].iloc[0]\n",
    "    timestamp = dataframe.loc[\n",
    "        (df[\"tab\"] == dashboard) & (dataframe[\"job\"] == job), \"timestamp\"\n",
    "    ].iloc[0]\n",
    "\n",
    "    time_taken_df = pd.DataFrame(\n",
    "        {\"timestamp\": timestamp, \"time_duration\": test_duration}\n",
    "    )\n",
    "\n",
    "    sns.set(rc={\"figure.figsize\": (17, 10)})\n",
    "    sns.lineplot(x=\"timestamp\", y=\"time_duration\", data=time_taken_df)\n",
    "    plt.xlabel(\"Timestamps\")\n",
    "    plt.ylabel(\"Time Taken to Run Job or Build (mins)\")\n",
    "    plt.title(\"Job/Build Duration over time \")\n",
    "    plt.show()"
   ]
  },
  {
   "cell_type": "code",
   "execution_count": 17,
   "id": "adolescent-boundary",
   "metadata": {
    "ExecuteTime": {
     "end_time": "2021-03-25T20:15:16.721388Z",
     "start_time": "2021-03-25T20:15:15.496121Z"
    }
   },
   "outputs": [
    {
     "data": {
      "image/png": "[encoded data removed]",
      "text/plain": [
       "<Figure size 1224x720 with 1 Axes>"
      ]
     },
     "metadata": {},
     "output_type": "display_data"
    }
   ],
   "source": [
    "plot_build_graph(\n",
    "    '\"redhat-assisted-installer\"',\n",
    "    \"periodic-ci-openshift-release-master-nightly-4.7-e2e-metal-assisted\",\n",
    "    df,\n",
    ")"
   ]
  },
  {
   "cell_type": "markdown",
   "id": "dental-bunch",
   "metadata": {},
   "source": [
    "In the above graph, we see how the time taken to run a build changes over time and we notice when there are spikes or when irregular builds occur."
   ]
  },
  {
   "cell_type": "markdown",
   "id": "standard-strip",
   "metadata": {},
   "source": [
    "## Save to Ceph or local"
   ]
  },
  {
   "cell_type": "code",
   "execution_count": 18,
   "id": "international-subject",
   "metadata": {},
   "outputs": [],
   "source": [
    "timestamp = datetime.datetime.now()\n",
    "\n",
    "if AUTOMATION:\n",
    "    cc = CephCommunication(s3_endpoint_url, s3_access_key, s3_secret_key, s3_bucket)\n",
    "    cc.upload_to_ceph(\n",
    "        average_time,\n",
    "        s3_path,\n",
    "        f\"{METRIC_NAME}/{METRIC_NAME}-{timestamp.year}-{timestamp.month}-{timestamp.day}.parquet\",\n",
    "    )\n",
    "else:\n",
    "    save_to_disk(\n",
    "        average_time,\n",
    "        OUTPUT_DATA_PATH,\n",
    "        f\"{METRIC_NAME}-{timestamp.year}-{timestamp.month}-{timestamp.day}.parquet\",\n",
    "    )"
   ]
  },
  {
   "cell_type": "code",
   "execution_count": 19,
   "id": "cognitive-union",
   "metadata": {},
   "outputs": [
    {
     "data": {
      "text/html": [
       "<div>\n",
       "<style scoped>\n",
       "    .dataframe tbody tr th:only-of-type {\n",
       "        vertical-align: middle;\n",
       "    }\n",
       "\n",
       "    .dataframe tbody tr th {\n",
       "        vertical-align: top;\n",
       "    }\n",
       "\n",
       "    .dataframe thead th {\n",
       "        text-align: right;\n",
       "    }\n",
       "</style>\n",
       "<table border=\"1\" class=\"dataframe\">\n",
       "  <thead>\n",
       "    <tr style=\"text-align: right;\">\n",
       "      <th></th>\n",
       "      <th>tab</th>\n",
       "      <th>job</th>\n",
       "      <th>test</th>\n",
       "      <th>test_duration</th>\n",
       "    </tr>\n",
       "  </thead>\n",
       "  <tbody>\n",
       "    <tr>\n",
       "      <th>0</th>\n",
       "      <td>\"redhat-assisted-installer\"</td>\n",
       "      <td>periodic-ci-openshift-release-master-nightly-4...</td>\n",
       "      <td>Overall</td>\n",
       "      <td>98.153333</td>\n",
       "    </tr>\n",
       "    <tr>\n",
       "      <th>1</th>\n",
       "      <td>\"redhat-assisted-installer\"</td>\n",
       "      <td>periodic-ci-openshift-release-master-nightly-4...</td>\n",
       "      <td>Overall</td>\n",
       "      <td>85.126087</td>\n",
       "    </tr>\n",
       "    <tr>\n",
       "      <th>2</th>\n",
       "      <td>\"redhat-assisted-installer\"</td>\n",
       "      <td>periodic-ci-openshift-release-master-nightly-4...</td>\n",
       "      <td>Overall</td>\n",
       "      <td>67.072464</td>\n",
       "    </tr>\n",
       "    <tr>\n",
       "      <th>3</th>\n",
       "      <td>\"redhat-assisted-installer\"</td>\n",
       "      <td>periodic-ci-openshift-release-master-nightly-4...</td>\n",
       "      <td>Overall</td>\n",
       "      <td>84.342500</td>\n",
       "    </tr>\n",
       "    <tr>\n",
       "      <th>4</th>\n",
       "      <td>\"redhat-assisted-installer\"</td>\n",
       "      <td>periodic-ci-openshift-release-master-nightly-4...</td>\n",
       "      <td>Overall</td>\n",
       "      <td>86.331944</td>\n",
       "    </tr>\n",
       "    <tr>\n",
       "      <th>...</th>\n",
       "      <td>...</td>\n",
       "      <td>...</td>\n",
       "      <td>...</td>\n",
       "      <td>...</td>\n",
       "    </tr>\n",
       "    <tr>\n",
       "      <th>560</th>\n",
       "      <td>\"redhat-osd\"</td>\n",
       "      <td>osde2e-stage-moa-e2e-default</td>\n",
       "      <td>Overall</td>\n",
       "      <td>106.916667</td>\n",
       "    </tr>\n",
       "    <tr>\n",
       "      <th>561</th>\n",
       "      <td>\"redhat-osd\"</td>\n",
       "      <td>osde2e-stage-moa-e2e-next-y</td>\n",
       "      <td>Overall</td>\n",
       "      <td>0.100000</td>\n",
       "    </tr>\n",
       "    <tr>\n",
       "      <th>562</th>\n",
       "      <td>\"redhat-osd\"</td>\n",
       "      <td>osde2e-stage-moa-e2e-next-z</td>\n",
       "      <td>Overall</td>\n",
       "      <td>0.100000</td>\n",
       "    </tr>\n",
       "    <tr>\n",
       "      <th>563</th>\n",
       "      <td>\"redhat-single-node\"</td>\n",
       "      <td>periodic-ci-openshift-release-master-nightly-4...</td>\n",
       "      <td>Overall</td>\n",
       "      <td>116.664444</td>\n",
       "    </tr>\n",
       "    <tr>\n",
       "      <th>564</th>\n",
       "      <td>\"redhat-single-node\"</td>\n",
       "      <td>periodic-ci-openshift-release-master-nightly-4...</td>\n",
       "      <td>Overall</td>\n",
       "      <td>69.571111</td>\n",
       "    </tr>\n",
       "  </tbody>\n",
       "</table>\n",
       "<p>565 rows × 4 columns</p>\n",
       "</div>"
      ],
      "text/plain": [
       "                             tab  \\\n",
       "0    \"redhat-assisted-installer\"   \n",
       "1    \"redhat-assisted-installer\"   \n",
       "2    \"redhat-assisted-installer\"   \n",
       "3    \"redhat-assisted-installer\"   \n",
       "4    \"redhat-assisted-installer\"   \n",
       "..                           ...   \n",
       "560                 \"redhat-osd\"   \n",
       "561                 \"redhat-osd\"   \n",
       "562                 \"redhat-osd\"   \n",
       "563         \"redhat-single-node\"   \n",
       "564         \"redhat-single-node\"   \n",
       "\n",
       "                                                   job     test  test_duration  \n",
       "0    periodic-ci-openshift-release-master-nightly-4...  Overall      98.153333  \n",
       "1    periodic-ci-openshift-release-master-nightly-4...  Overall      85.126087  \n",
       "2    periodic-ci-openshift-release-master-nightly-4...  Overall      67.072464  \n",
       "3    periodic-ci-openshift-release-master-nightly-4...  Overall      84.342500  \n",
       "4    periodic-ci-openshift-release-master-nightly-4...  Overall      86.331944  \n",
       "..                                                 ...      ...            ...  \n",
       "560                       osde2e-stage-moa-e2e-default  Overall     106.916667  \n",
       "561                        osde2e-stage-moa-e2e-next-y  Overall       0.100000  \n",
       "562                        osde2e-stage-moa-e2e-next-z  Overall       0.100000  \n",
       "563  periodic-ci-openshift-release-master-nightly-4...  Overall     116.664444  \n",
       "564  periodic-ci-openshift-release-master-nightly-4...  Overall      69.571111  \n",
       "\n",
       "[565 rows x 4 columns]"
      ]
     },
     "execution_count": 19,
     "metadata": {},
     "output_type": "execute_result"
    }
   ],
   "source": [
    "## Sanity check to see if the dataset is the same\n",
    "if AUTOMATION:\n",
    "    sanity_check = cc.read_from_ceph(\n",
    "        s3_path,\n",
    "        f\"{METRIC_NAME}/{METRIC_NAME}-{timestamp.year}-{timestamp.month}-{timestamp.day}.parquet\",\n",
    "    )\n",
    "else:\n",
    "    sanity_check = read_from_disk(\n",
    "        OUTPUT_DATA_PATH,\n",
    "        f\"{METRIC_NAME}-{timestamp.year}-{timestamp.month}-{timestamp.day}.parquet\",\n",
    "    )\n",
    "\n",
    "sanity_check"
   ]
  },
  {
   "cell_type": "markdown",
   "id": "durable-series",
   "metadata": {},
   "source": [
    "### Conclusion\n",
    "\n",
    "In this Notebook, we use the \"Overall\" as a proxy for a build. Testgrid refers an aggregate of multiple tests performed at a certain timestamp within a Job as a Build and each build has a unique Build ID. In this notebook, we went ahead and used the captured time duration for Test Overalls and averged them out for each Job. We also plotted the time taken for builds to complete over time for each Job."
   ]
  }
 ],
 "metadata": {
  "kernelspec": {
   "display_name": "Python 3",
   "language": "python",
   "name": "python3"
  },
  "language_info": {
   "codemirror_mode": {
    "name": "ipython",
    "version": 3
   },
   "file_extension": ".py",
   "mimetype": "text/x-python",
   "name": "python",
   "nbconvert_exporter": "python",
   "pygments_lexer": "ipython3",
   "version": "3.8.3"
  },
  "toc": {
   "base_numbering": 1,
   "nav_menu": {},
   "number_sections": true,
   "sideBar": true,
   "skip_h1_title": false,
   "title_cell": "Table of Contents",
   "title_sidebar": "Contents",
   "toc_cell": false,
   "toc_position": {},
   "toc_section_display": true,
   "toc_window_display": false
  }
 },
 "nbformat": 4,
 "nbformat_minor": 5
}
