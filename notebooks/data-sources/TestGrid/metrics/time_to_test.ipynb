{
 "cells": [
  {
   "cell_type": "markdown",
   "id": "2751d1dc",
   "metadata": {
    "ExecuteTime": {
     "end_time": "2021-03-12T15:35:37.863850Z",
     "start_time": "2021-03-12T15:35:37.498594Z"
    }
   },
   "source": [
    "# Quantify Time to Test\n",
    "\n",
    "In this notebook, the Key Performance Indicator that we capture is `the time to test` for the test Overall or `the total runtime` for builds as it would help filter and observe builds with longer than expected runtimes.\n",
    "\n",
    "By measuring this metric, we can observe the trend of build runtimes and check if the execution time of the builds exceed the specified values. If the execution of the test suite takes a long time, we may wish to optimize our test code or track down tests that are taking too long. This metric can also be used to draw a correlation to the tests turning out to be flaky.\n",
    "\n",
    "In this notebook, we capture:\n",
    "* Time taken to run builds over time"
   ]
  },
  {
   "cell_type": "markdown",
   "id": "117423d1",
   "metadata": {},
   "source": [
    "_Linked issues: [issue1](https://github.com/aicoe-aiops/ocp-ci-analysis/issues/117)_"
   ]
  },
  {
   "cell_type": "code",
   "execution_count": 1,
   "id": "19a3d905",
   "metadata": {
    "ExecuteTime": {
     "end_time": "2021-03-25T20:19:12.433862Z",
     "start_time": "2021-03-25T20:19:12.428062Z"
    }
   },
   "outputs": [
    {
     "data": {
      "text/plain": [
       "True"
      ]
     },
     "execution_count": 1,
     "metadata": {},
     "output_type": "execute_result"
    }
   ],
   "source": [
    "import os\n",
    "import json\n",
    "import datetime\n",
    "import gzip\n",
    "import pandas as pd\n",
    "import matplotlib.pyplot as plt\n",
    "import seaborn as sns\n",
    "\n",
    "from ipynb.fs.defs.metric_template import testgrid_labelwise_encoding\n",
    "from ipynb.fs.defs.metric_template import CephCommunication\n",
    "from ipynb.fs.defs.metric_template import save_to_disk, read_from_disk\n",
    "from dotenv import load_dotenv, find_dotenv\n",
    "\n",
    "load_dotenv(find_dotenv())"
   ]
  },
  {
   "cell_type": "markdown",
   "id": "d35526e1",
   "metadata": {},
   "source": [
    "For extracting this metric, we will dig into the time series data in the detailed test grids. In this notebook, we use the `Overall` tests as our proxy for builds."
   ]
  },
  {
   "cell_type": "markdown",
   "id": "6e10a0ef",
   "metadata": {},
   "source": [
    "There are inbuilt Graphs within TestGrid for each Test in the job, which capture the time taken for running each test."
   ]
  },
  {
   "cell_type": "markdown",
   "id": "81e37a74",
   "metadata": {},
   "source": [
    "As a part of our data download and extraction process we are capturing time taken not for all tests but the test `Overall` which can be used as a proxy for a Build since time durations are not consistently captured for all tests. Thus in this notebook, we capture time elapsed for each Build."
   ]
  },
  {
   "cell_type": "code",
   "execution_count": 2,
   "id": "c34ee14b",
   "metadata": {},
   "outputs": [],
   "source": [
    "## Specify variables\n",
    "\n",
    "METRIC_NAME = \"time_to_test\"\n",
    "\n",
    "# Specify the path for input grid data,\n",
    "INPUT_DATA_PATH = \"../../../../data/raw/testgrid_183.json.gz\"\n",
    "\n",
    "# Specify the path for output metric data\n",
    "OUTPUT_DATA_PATH = f\"../../../../data/processed/metrics/{METRIC_NAME}\"\n",
    "\n",
    "## CEPH Bucket variables\n",
    "## Create a .env file on your local with the correct configs,\n",
    "s3_endpoint_url = os.getenv(\"S3_ENDPOINT\")\n",
    "s3_access_key = os.getenv(\"S3_ACCESS_KEY\")\n",
    "s3_secret_key = os.getenv(\"S3_SECRET_KEY\")\n",
    "s3_bucket = os.getenv(\"S3_BUCKET\")\n",
    "s3_path = os.getenv(\"S3_PROJECT_KEY\", \"metrics\")\n",
    "s3_input_data_path = \"raw_data\"\n",
    "AUTOMATION = os.getenv(\"IN_AUTOMATION\")"
   ]
  },
  {
   "cell_type": "code",
   "execution_count": 3,
   "id": "345c5534",
   "metadata": {},
   "outputs": [],
   "source": [
    "## Import data\n",
    "timestamp = datetime.datetime.today()\n",
    "\n",
    "if AUTOMATION:\n",
    "    filename = f\"testgrid_{timestamp.day}{timestamp.month}.json\"\n",
    "    cc = CephCommunication(s3_endpoint_url, s3_access_key, s3_secret_key, s3_bucket)\n",
    "    s3_object = cc.s3_resource.Object(s3_bucket, f\"{s3_input_data_path}/{filename}\")\n",
    "    file_content = s3_object.get()[\"Body\"].read().decode(\"utf-8\")\n",
    "    testgrid_data = json.loads(file_content)\n",
    "\n",
    "else:\n",
    "    with gzip.open(INPUT_DATA_PATH, \"rb\") as read_file:\n",
    "        testgrid_data = json.load(read_file)"
   ]
  },
  {
   "cell_type": "markdown",
   "id": "779ca8c2",
   "metadata": {},
   "source": [
    "## Metric Calculation\n",
    "We find runtimes for each Test Overall or Build"
   ]
  },
  {
   "cell_type": "code",
   "execution_count": 4,
   "id": "bc168949",
   "metadata": {
    "ExecuteTime": {
     "end_time": "2021-03-25T20:00:08.197830Z",
     "start_time": "2021-03-25T19:59:39.206083Z"
    }
   },
   "outputs": [],
   "source": [
    "# We pass status code as None since we are not filtering by Status here\n",
    "testgrid_list = testgrid_labelwise_encoding(testgrid_data, None)"
   ]
  },
  {
   "cell_type": "code",
   "execution_count": 5,
   "id": "7669bfa1",
   "metadata": {},
   "outputs": [
    {
     "data": {
      "text/plain": [
       "27192485"
      ]
     },
     "execution_count": 5,
     "metadata": {},
     "output_type": "execute_result"
    }
   ],
   "source": [
    "len(testgrid_list)"
   ]
  },
  {
   "cell_type": "code",
   "execution_count": 6,
   "id": "c21c7f7d",
   "metadata": {},
   "outputs": [
    {
     "data": {
      "text/plain": [
       "(datetime.datetime(2021, 3, 15, 23, 40, 20),\n",
       " '\"redhat-assisted-installer\"',\n",
       " 'periodic-ci-openshift-release-master-nightly-4.6-e2e-metal-assisted',\n",
       " 'Overall',\n",
       " 80.28333333333333)"
      ]
     },
     "execution_count": 6,
     "metadata": {},
     "output_type": "execute_result"
    }
   ],
   "source": [
    "testgrid_list[0]"
   ]
  },
  {
   "cell_type": "code",
   "execution_count": 7,
   "id": "30d1a822",
   "metadata": {
    "ExecuteTime": {
     "end_time": "2021-03-25T20:00:20.628684Z",
     "start_time": "2021-03-25T20:00:08.200578Z"
    }
   },
   "outputs": [
    {
     "data": {
      "text/html": [
       "<div>\n",
       "<style scoped>\n",
       "    .dataframe tbody tr th:only-of-type {\n",
       "        vertical-align: middle;\n",
       "    }\n",
       "\n",
       "    .dataframe tbody tr th {\n",
       "        vertical-align: top;\n",
       "    }\n",
       "\n",
       "    .dataframe thead th {\n",
       "        text-align: right;\n",
       "    }\n",
       "</style>\n",
       "<table border=\"1\" class=\"dataframe\">\n",
       "  <thead>\n",
       "    <tr style=\"text-align: right;\">\n",
       "      <th></th>\n",
       "      <th>timestamp</th>\n",
       "      <th>tab</th>\n",
       "      <th>grid</th>\n",
       "      <th>test</th>\n",
       "      <th>test_duration</th>\n",
       "    </tr>\n",
       "  </thead>\n",
       "  <tbody>\n",
       "    <tr>\n",
       "      <th>0</th>\n",
       "      <td>2021-03-15 23:40:20</td>\n",
       "      <td>\"redhat-assisted-installer\"</td>\n",
       "      <td>periodic-ci-openshift-release-master-nightly-4...</td>\n",
       "      <td>Overall</td>\n",
       "      <td>80.283333</td>\n",
       "    </tr>\n",
       "    <tr>\n",
       "      <th>1</th>\n",
       "      <td>2021-03-15 00:01:06</td>\n",
       "      <td>\"redhat-assisted-installer\"</td>\n",
       "      <td>periodic-ci-openshift-release-master-nightly-4...</td>\n",
       "      <td>Overall</td>\n",
       "      <td>92.050000</td>\n",
       "    </tr>\n",
       "    <tr>\n",
       "      <th>2</th>\n",
       "      <td>2021-03-13 20:51:32</td>\n",
       "      <td>\"redhat-assisted-installer\"</td>\n",
       "      <td>periodic-ci-openshift-release-master-nightly-4...</td>\n",
       "      <td>Overall</td>\n",
       "      <td>80.983333</td>\n",
       "    </tr>\n",
       "    <tr>\n",
       "      <th>3</th>\n",
       "      <td>2021-03-13 07:51:20</td>\n",
       "      <td>\"redhat-assisted-installer\"</td>\n",
       "      <td>periodic-ci-openshift-release-master-nightly-4...</td>\n",
       "      <td>Overall</td>\n",
       "      <td>117.716667</td>\n",
       "    </tr>\n",
       "    <tr>\n",
       "      <th>4</th>\n",
       "      <td>2021-03-13 06:43:20</td>\n",
       "      <td>\"redhat-assisted-installer\"</td>\n",
       "      <td>periodic-ci-openshift-release-master-nightly-4...</td>\n",
       "      <td>Overall</td>\n",
       "      <td>108.633333</td>\n",
       "    </tr>\n",
       "  </tbody>\n",
       "</table>\n",
       "</div>"
      ],
      "text/plain": [
       "            timestamp                          tab  \\\n",
       "0 2021-03-15 23:40:20  \"redhat-assisted-installer\"   \n",
       "1 2021-03-15 00:01:06  \"redhat-assisted-installer\"   \n",
       "2 2021-03-13 20:51:32  \"redhat-assisted-installer\"   \n",
       "3 2021-03-13 07:51:20  \"redhat-assisted-installer\"   \n",
       "4 2021-03-13 06:43:20  \"redhat-assisted-installer\"   \n",
       "\n",
       "                                                grid     test  test_duration  \n",
       "0  periodic-ci-openshift-release-master-nightly-4...  Overall      80.283333  \n",
       "1  periodic-ci-openshift-release-master-nightly-4...  Overall      92.050000  \n",
       "2  periodic-ci-openshift-release-master-nightly-4...  Overall      80.983333  \n",
       "3  periodic-ci-openshift-release-master-nightly-4...  Overall     117.716667  \n",
       "4  periodic-ci-openshift-release-master-nightly-4...  Overall     108.633333  "
      ]
     },
     "execution_count": 7,
     "metadata": {},
     "output_type": "execute_result"
    }
   ],
   "source": [
    "# Convert to dataframe\n",
    "testgrid_df = pd.DataFrame(\n",
    "    testgrid_list, columns=[\"timestamp\", \"tab\", \"grid\", \"test\", \"test_duration\"]\n",
    ")\n",
    "testgrid_df.head()"
   ]
  },
  {
   "cell_type": "code",
   "execution_count": 8,
   "id": "1a8ae871",
   "metadata": {
    "ExecuteTime": {
     "end_time": "2021-03-25T20:00:22.082622Z",
     "start_time": "2021-03-25T20:00:20.630938Z"
    }
   },
   "outputs": [],
   "source": [
    "# time durations are captured currently for the Test Overalls, hence we filter\n",
    "testgrid_df = testgrid_df[testgrid_df[\"test\"] == \"Overall\"]"
   ]
  },
  {
   "cell_type": "code",
   "execution_count": 9,
   "id": "91f3ea1b",
   "metadata": {
    "ExecuteTime": {
     "end_time": "2021-03-25T20:00:25.775781Z",
     "start_time": "2021-03-25T20:00:25.766264Z"
    }
   },
   "outputs": [],
   "source": [
    "testgrid_df = testgrid_df.loc[testgrid_df.test_duration.notnull()]"
   ]
  },
  {
   "cell_type": "code",
   "execution_count": 10,
   "id": "ade96483",
   "metadata": {
    "ExecuteTime": {
     "end_time": "2021-03-25T20:00:28.420797Z",
     "start_time": "2021-03-25T20:00:28.408107Z"
    }
   },
   "outputs": [
    {
     "data": {
      "text/html": [
       "<div>\n",
       "<style scoped>\n",
       "    .dataframe tbody tr th:only-of-type {\n",
       "        vertical-align: middle;\n",
       "    }\n",
       "\n",
       "    .dataframe tbody tr th {\n",
       "        vertical-align: top;\n",
       "    }\n",
       "\n",
       "    .dataframe thead th {\n",
       "        text-align: right;\n",
       "    }\n",
       "</style>\n",
       "<table border=\"1\" class=\"dataframe\">\n",
       "  <thead>\n",
       "    <tr style=\"text-align: right;\">\n",
       "      <th></th>\n",
       "      <th>timestamp</th>\n",
       "      <th>tab</th>\n",
       "      <th>grid</th>\n",
       "      <th>test</th>\n",
       "      <th>test_duration</th>\n",
       "    </tr>\n",
       "  </thead>\n",
       "  <tbody>\n",
       "    <tr>\n",
       "      <th>0</th>\n",
       "      <td>2021-03-15 23:40:20</td>\n",
       "      <td>\"redhat-assisted-installer\"</td>\n",
       "      <td>periodic-ci-openshift-release-master-nightly-4...</td>\n",
       "      <td>Overall</td>\n",
       "      <td>80.283333</td>\n",
       "    </tr>\n",
       "    <tr>\n",
       "      <th>1</th>\n",
       "      <td>2021-03-15 00:01:06</td>\n",
       "      <td>\"redhat-assisted-installer\"</td>\n",
       "      <td>periodic-ci-openshift-release-master-nightly-4...</td>\n",
       "      <td>Overall</td>\n",
       "      <td>92.050000</td>\n",
       "    </tr>\n",
       "    <tr>\n",
       "      <th>2</th>\n",
       "      <td>2021-03-13 20:51:32</td>\n",
       "      <td>\"redhat-assisted-installer\"</td>\n",
       "      <td>periodic-ci-openshift-release-master-nightly-4...</td>\n",
       "      <td>Overall</td>\n",
       "      <td>80.983333</td>\n",
       "    </tr>\n",
       "    <tr>\n",
       "      <th>3</th>\n",
       "      <td>2021-03-13 07:51:20</td>\n",
       "      <td>\"redhat-assisted-installer\"</td>\n",
       "      <td>periodic-ci-openshift-release-master-nightly-4...</td>\n",
       "      <td>Overall</td>\n",
       "      <td>117.716667</td>\n",
       "    </tr>\n",
       "    <tr>\n",
       "      <th>4</th>\n",
       "      <td>2021-03-13 06:43:20</td>\n",
       "      <td>\"redhat-assisted-installer\"</td>\n",
       "      <td>periodic-ci-openshift-release-master-nightly-4...</td>\n",
       "      <td>Overall</td>\n",
       "      <td>108.633333</td>\n",
       "    </tr>\n",
       "  </tbody>\n",
       "</table>\n",
       "</div>"
      ],
      "text/plain": [
       "            timestamp                          tab  \\\n",
       "0 2021-03-15 23:40:20  \"redhat-assisted-installer\"   \n",
       "1 2021-03-15 00:01:06  \"redhat-assisted-installer\"   \n",
       "2 2021-03-13 20:51:32  \"redhat-assisted-installer\"   \n",
       "3 2021-03-13 07:51:20  \"redhat-assisted-installer\"   \n",
       "4 2021-03-13 06:43:20  \"redhat-assisted-installer\"   \n",
       "\n",
       "                                                grid     test  test_duration  \n",
       "0  periodic-ci-openshift-release-master-nightly-4...  Overall      80.283333  \n",
       "1  periodic-ci-openshift-release-master-nightly-4...  Overall      92.050000  \n",
       "2  periodic-ci-openshift-release-master-nightly-4...  Overall      80.983333  \n",
       "3  periodic-ci-openshift-release-master-nightly-4...  Overall     117.716667  \n",
       "4  periodic-ci-openshift-release-master-nightly-4...  Overall     108.633333  "
      ]
     },
     "execution_count": 10,
     "metadata": {},
     "output_type": "execute_result"
    }
   ],
   "source": [
    "testgrid_df.head()"
   ]
  },
  {
   "cell_type": "code",
   "execution_count": 11,
   "id": "3102b87a",
   "metadata": {},
   "outputs": [
    {
     "data": {
      "text/plain": [
       "37673"
      ]
     },
     "execution_count": 11,
     "metadata": {},
     "output_type": "execute_result"
    }
   ],
   "source": [
    "len(testgrid_df)"
   ]
  },
  {
   "cell_type": "markdown",
   "id": "95dc2f73",
   "metadata": {},
   "source": [
    "## Metric Calculation\n",
    "We want to calcluate the average time duration for the job/build"
   ]
  },
  {
   "cell_type": "code",
   "execution_count": 12,
   "id": "3d7ee6fe",
   "metadata": {
    "ExecuteTime": {
     "end_time": "2021-03-25T20:00:47.026572Z",
     "start_time": "2021-03-25T20:00:46.991913Z"
    }
   },
   "outputs": [],
   "source": [
    "average_time = (\n",
    "    testgrid_df.groupby([\"tab\", \"grid\", \"test\"])[\"test_duration\"].mean().reset_index()\n",
    ")"
   ]
  },
  {
   "cell_type": "code",
   "execution_count": 13,
   "id": "10993e25",
   "metadata": {},
   "outputs": [
    {
     "data": {
      "text/html": [
       "<div>\n",
       "<style scoped>\n",
       "    .dataframe tbody tr th:only-of-type {\n",
       "        vertical-align: middle;\n",
       "    }\n",
       "\n",
       "    .dataframe tbody tr th {\n",
       "        vertical-align: top;\n",
       "    }\n",
       "\n",
       "    .dataframe thead th {\n",
       "        text-align: right;\n",
       "    }\n",
       "</style>\n",
       "<table border=\"1\" class=\"dataframe\">\n",
       "  <thead>\n",
       "    <tr style=\"text-align: right;\">\n",
       "      <th></th>\n",
       "      <th>tab</th>\n",
       "      <th>grid</th>\n",
       "      <th>test</th>\n",
       "      <th>test_duration</th>\n",
       "    </tr>\n",
       "  </thead>\n",
       "  <tbody>\n",
       "    <tr>\n",
       "      <th>0</th>\n",
       "      <td>\"redhat-assisted-installer\"</td>\n",
       "      <td>periodic-ci-openshift-release-master-nightly-4...</td>\n",
       "      <td>Overall</td>\n",
       "      <td>115.230952</td>\n",
       "    </tr>\n",
       "    <tr>\n",
       "      <th>1</th>\n",
       "      <td>\"redhat-assisted-installer\"</td>\n",
       "      <td>periodic-ci-openshift-release-master-nightly-4...</td>\n",
       "      <td>Overall</td>\n",
       "      <td>83.511957</td>\n",
       "    </tr>\n",
       "    <tr>\n",
       "      <th>2</th>\n",
       "      <td>\"redhat-assisted-installer\"</td>\n",
       "      <td>periodic-ci-openshift-release-master-nightly-4...</td>\n",
       "      <td>Overall</td>\n",
       "      <td>61.796454</td>\n",
       "    </tr>\n",
       "    <tr>\n",
       "      <th>3</th>\n",
       "      <td>\"redhat-assisted-installer\"</td>\n",
       "      <td>periodic-ci-openshift-release-master-nightly-4...</td>\n",
       "      <td>Overall</td>\n",
       "      <td>81.486515</td>\n",
       "    </tr>\n",
       "    <tr>\n",
       "      <th>4</th>\n",
       "      <td>\"redhat-assisted-installer\"</td>\n",
       "      <td>periodic-ci-openshift-release-master-nightly-4...</td>\n",
       "      <td>Overall</td>\n",
       "      <td>89.554091</td>\n",
       "    </tr>\n",
       "  </tbody>\n",
       "</table>\n",
       "</div>"
      ],
      "text/plain": [
       "                           tab  \\\n",
       "0  \"redhat-assisted-installer\"   \n",
       "1  \"redhat-assisted-installer\"   \n",
       "2  \"redhat-assisted-installer\"   \n",
       "3  \"redhat-assisted-installer\"   \n",
       "4  \"redhat-assisted-installer\"   \n",
       "\n",
       "                                                grid     test  test_duration  \n",
       "0  periodic-ci-openshift-release-master-nightly-4...  Overall     115.230952  \n",
       "1  periodic-ci-openshift-release-master-nightly-4...  Overall      83.511957  \n",
       "2  periodic-ci-openshift-release-master-nightly-4...  Overall      61.796454  \n",
       "3  periodic-ci-openshift-release-master-nightly-4...  Overall      81.486515  \n",
       "4  periodic-ci-openshift-release-master-nightly-4...  Overall      89.554091  "
      ]
     },
     "execution_count": 13,
     "metadata": {},
     "output_type": "execute_result"
    }
   ],
   "source": [
    "average_time.head()"
   ]
  },
  {
   "cell_type": "markdown",
   "id": "3b520943",
   "metadata": {},
   "source": [
    "## Visualization\n",
    "Plot of time elapsed for Builds over time."
   ]
  },
  {
   "cell_type": "code",
   "execution_count": 14,
   "id": "385574f1",
   "metadata": {
    "ExecuteTime": {
     "end_time": "2021-03-25T20:01:57.643822Z",
     "start_time": "2021-03-25T20:01:57.196237Z"
    }
   },
   "outputs": [],
   "source": [
    "df = (\n",
    "    testgrid_df.groupby([\"tab\", \"grid\", \"test\"])\n",
    "    .apply(lambda x: [list(x[\"test_duration\"]), list(x[\"timestamp\"])])\n",
    "    .apply(pd.Series)\n",
    "    .reset_index()\n",
    ")\n",
    "df.columns = [\"tab\", \"grid\", \"test\", \"test_duration\", \"timestamp\"]"
   ]
  },
  {
   "cell_type": "code",
   "execution_count": 15,
   "id": "7c30dea2",
   "metadata": {
    "ExecuteTime": {
     "end_time": "2021-03-25T20:02:43.411154Z",
     "start_time": "2021-03-25T20:02:43.382193Z"
    }
   },
   "outputs": [
    {
     "data": {
      "text/html": [
       "<div>\n",
       "<style scoped>\n",
       "    .dataframe tbody tr th:only-of-type {\n",
       "        vertical-align: middle;\n",
       "    }\n",
       "\n",
       "    .dataframe tbody tr th {\n",
       "        vertical-align: top;\n",
       "    }\n",
       "\n",
       "    .dataframe thead th {\n",
       "        text-align: right;\n",
       "    }\n",
       "</style>\n",
       "<table border=\"1\" class=\"dataframe\">\n",
       "  <thead>\n",
       "    <tr style=\"text-align: right;\">\n",
       "      <th></th>\n",
       "      <th>tab</th>\n",
       "      <th>grid</th>\n",
       "      <th>test</th>\n",
       "      <th>test_duration</th>\n",
       "      <th>timestamp</th>\n",
       "    </tr>\n",
       "  </thead>\n",
       "  <tbody>\n",
       "    <tr>\n",
       "      <th>0</th>\n",
       "      <td>\"redhat-assisted-installer\"</td>\n",
       "      <td>periodic-ci-openshift-release-master-nightly-4...</td>\n",
       "      <td>Overall</td>\n",
       "      <td>[80.28333333333333, 92.05, 80.98333333333333, ...</td>\n",
       "      <td>[2021-03-15 23:40:20, 2021-03-15 00:01:06, 202...</td>\n",
       "    </tr>\n",
       "    <tr>\n",
       "      <th>1</th>\n",
       "      <td>\"redhat-assisted-installer\"</td>\n",
       "      <td>periodic-ci-openshift-release-master-nightly-4...</td>\n",
       "      <td>Overall</td>\n",
       "      <td>[91.56666666666666, 83.28333333333333, 27.9833...</td>\n",
       "      <td>[2021-03-18 21:40:33, 2021-03-18 19:40:37, 202...</td>\n",
       "    </tr>\n",
       "    <tr>\n",
       "      <th>2</th>\n",
       "      <td>\"redhat-assisted-installer\"</td>\n",
       "      <td>periodic-ci-openshift-release-master-nightly-4...</td>\n",
       "      <td>Overall</td>\n",
       "      <td>[82.26666666666667, 82.1, 27.583333333333332, ...</td>\n",
       "      <td>[2021-03-18 21:40:29, 2021-03-18 19:40:36, 202...</td>\n",
       "    </tr>\n",
       "    <tr>\n",
       "      <th>3</th>\n",
       "      <td>\"redhat-assisted-installer\"</td>\n",
       "      <td>periodic-ci-openshift-release-master-nightly-4...</td>\n",
       "      <td>Overall</td>\n",
       "      <td>[87.3, 70.11666666666666, 49.56666666666667, 7...</td>\n",
       "      <td>[2021-03-18 20:38:53, 2021-03-18 16:10:59, 202...</td>\n",
       "    </tr>\n",
       "    <tr>\n",
       "      <th>4</th>\n",
       "      <td>\"redhat-assisted-installer\"</td>\n",
       "      <td>periodic-ci-openshift-release-master-nightly-4...</td>\n",
       "      <td>Overall</td>\n",
       "      <td>[96.73333333333333, 30.2, 49.63333333333333, 5...</td>\n",
       "      <td>[2021-03-18 20:38:57, 2021-03-18 16:10:55, 202...</td>\n",
       "    </tr>\n",
       "  </tbody>\n",
       "</table>\n",
       "</div>"
      ],
      "text/plain": [
       "                           tab  \\\n",
       "0  \"redhat-assisted-installer\"   \n",
       "1  \"redhat-assisted-installer\"   \n",
       "2  \"redhat-assisted-installer\"   \n",
       "3  \"redhat-assisted-installer\"   \n",
       "4  \"redhat-assisted-installer\"   \n",
       "\n",
       "                                                grid     test  \\\n",
       "0  periodic-ci-openshift-release-master-nightly-4...  Overall   \n",
       "1  periodic-ci-openshift-release-master-nightly-4...  Overall   \n",
       "2  periodic-ci-openshift-release-master-nightly-4...  Overall   \n",
       "3  periodic-ci-openshift-release-master-nightly-4...  Overall   \n",
       "4  periodic-ci-openshift-release-master-nightly-4...  Overall   \n",
       "\n",
       "                                       test_duration  \\\n",
       "0  [80.28333333333333, 92.05, 80.98333333333333, ...   \n",
       "1  [91.56666666666666, 83.28333333333333, 27.9833...   \n",
       "2  [82.26666666666667, 82.1, 27.583333333333332, ...   \n",
       "3  [87.3, 70.11666666666666, 49.56666666666667, 7...   \n",
       "4  [96.73333333333333, 30.2, 49.63333333333333, 5...   \n",
       "\n",
       "                                           timestamp  \n",
       "0  [2021-03-15 23:40:20, 2021-03-15 00:01:06, 202...  \n",
       "1  [2021-03-18 21:40:33, 2021-03-18 19:40:37, 202...  \n",
       "2  [2021-03-18 21:40:29, 2021-03-18 19:40:36, 202...  \n",
       "3  [2021-03-18 20:38:53, 2021-03-18 16:10:59, 202...  \n",
       "4  [2021-03-18 20:38:57, 2021-03-18 16:10:55, 202...  "
      ]
     },
     "execution_count": 15,
     "metadata": {},
     "output_type": "execute_result"
    }
   ],
   "source": [
    "df.head()"
   ]
  },
  {
   "cell_type": "code",
   "execution_count": 16,
   "id": "060ba7be",
   "metadata": {
    "ExecuteTime": {
     "end_time": "2021-03-25T20:14:14.543059Z",
     "start_time": "2021-03-25T20:14:14.531970Z"
    }
   },
   "outputs": [],
   "source": [
    "def plot_build_graph(tab, grid, dataframe):\n",
    "\n",
    "    test_duration = dataframe.loc[\n",
    "        (df[\"tab\"] == tab) & (dataframe[\"grid\"] == grid), \"test_duration\"\n",
    "    ].iloc[0]\n",
    "    timestamp = dataframe.loc[\n",
    "        (df[\"tab\"] == tab) & (dataframe[\"grid\"] == grid), \"timestamp\"\n",
    "    ].iloc[0]\n",
    "\n",
    "    time_taken_df = pd.DataFrame(\n",
    "        {\"timestamp\": timestamp, \"time_duration\": test_duration}\n",
    "    )\n",
    "\n",
    "    sns.set(rc={\"figure.figsize\": (17, 10)})\n",
    "    sns.lineplot(x=\"timestamp\", y=\"time_duration\", data=time_taken_df)\n",
    "    plt.xlabel(\"Timestamps\")\n",
    "    plt.ylabel(\"Time Taken to Run Job or Build (mins)\")\n",
    "    plt.title(\"Job/Build Duration over time \")\n",
    "    plt.show()"
   ]
  },
  {
   "cell_type": "code",
   "execution_count": 17,
   "id": "f23539e6",
   "metadata": {
    "ExecuteTime": {
     "end_time": "2021-03-25T20:15:16.721388Z",
     "start_time": "2021-03-25T20:15:15.496121Z"
    }
   },
   "outputs": [
    {
     "data": {
      "image/png": "[encoded data removed]",
      "text/plain": [
       "<Figure size 1224x720 with 1 Axes>"
      ]
     },
     "metadata": {},
     "output_type": "display_data"
    }
   ],
   "source": [
    "plot_build_graph(\n",
    "    '\"redhat-assisted-installer\"',\n",
    "    \"periodic-ci-openshift-release-master-nightly-4.7-e2e-metal-assisted\",\n",
    "    df,\n",
    ")"
   ]
  },
  {
   "cell_type": "markdown",
   "id": "2df72e2d",
   "metadata": {},
   "source": [
    "In the above graph, we see how the time taken to run a build changes over time and we notice when there are spikes or when irregular builds occur."
   ]
  },
  {
   "cell_type": "markdown",
   "id": "a4969498",
   "metadata": {},
   "source": [
    "## Save to Ceph or local"
   ]
  },
  {
   "cell_type": "code",
   "execution_count": 18,
   "id": "bd55051c",
   "metadata": {},
   "outputs": [],
   "source": [
    "timestamp = datetime.datetime.now()\n",
    "\n",
    "if AUTOMATION:\n",
    "    cc = CephCommunication(s3_endpoint_url, s3_access_key, s3_secret_key, s3_bucket)\n",
    "    cc.upload_to_ceph(\n",
    "        average_time,\n",
    "        s3_path,\n",
    "        f\"{METRIC_NAME}/{METRIC_NAME}-{timestamp.year}-{timestamp.month}-{timestamp.day}.parquet\",\n",
    "    )\n",
    "else:\n",
    "    save_to_disk(\n",
    "        average_time,\n",
    "        OUTPUT_DATA_PATH,\n",
    "        f\"{METRIC_NAME}-{timestamp.year}-{timestamp.month}-{timestamp.day}.parquet\",\n",
    "    )"
   ]
  },
  {
   "cell_type": "code",
   "execution_count": 19,
   "id": "1b419a10",
   "metadata": {},
   "outputs": [
    {
     "data": {
      "text/html": [
       "<div>\n",
       "<style scoped>\n",
       "    .dataframe tbody tr th:only-of-type {\n",
       "        vertical-align: middle;\n",
       "    }\n",
       "\n",
       "    .dataframe tbody tr th {\n",
       "        vertical-align: top;\n",
       "    }\n",
       "\n",
       "    .dataframe thead th {\n",
       "        text-align: right;\n",
       "    }\n",
       "</style>\n",
       "<table border=\"1\" class=\"dataframe\">\n",
       "  <thead>\n",
       "    <tr style=\"text-align: right;\">\n",
       "      <th></th>\n",
       "      <th>tab</th>\n",
       "      <th>grid</th>\n",
       "      <th>test</th>\n",
       "      <th>test_duration</th>\n",
       "    </tr>\n",
       "  </thead>\n",
       "  <tbody>\n",
       "    <tr>\n",
       "      <th>0</th>\n",
       "      <td>\"redhat-assisted-installer\"</td>\n",
       "      <td>periodic-ci-openshift-release-master-nightly-4...</td>\n",
       "      <td>Overall</td>\n",
       "      <td>115.230952</td>\n",
       "    </tr>\n",
       "    <tr>\n",
       "      <th>1</th>\n",
       "      <td>\"redhat-assisted-installer\"</td>\n",
       "      <td>periodic-ci-openshift-release-master-nightly-4...</td>\n",
       "      <td>Overall</td>\n",
       "      <td>83.511957</td>\n",
       "    </tr>\n",
       "    <tr>\n",
       "      <th>2</th>\n",
       "      <td>\"redhat-assisted-installer\"</td>\n",
       "      <td>periodic-ci-openshift-release-master-nightly-4...</td>\n",
       "      <td>Overall</td>\n",
       "      <td>61.796454</td>\n",
       "    </tr>\n",
       "    <tr>\n",
       "      <th>3</th>\n",
       "      <td>\"redhat-assisted-installer\"</td>\n",
       "      <td>periodic-ci-openshift-release-master-nightly-4...</td>\n",
       "      <td>Overall</td>\n",
       "      <td>81.486515</td>\n",
       "    </tr>\n",
       "    <tr>\n",
       "      <th>4</th>\n",
       "      <td>\"redhat-assisted-installer\"</td>\n",
       "      <td>periodic-ci-openshift-release-master-nightly-4...</td>\n",
       "      <td>Overall</td>\n",
       "      <td>89.554091</td>\n",
       "    </tr>\n",
       "    <tr>\n",
       "      <th>...</th>\n",
       "      <td>...</td>\n",
       "      <td>...</td>\n",
       "      <td>...</td>\n",
       "      <td>...</td>\n",
       "    </tr>\n",
       "    <tr>\n",
       "      <th>543</th>\n",
       "      <td>\"redhat-osd\"</td>\n",
       "      <td>osde2e-stage-moa-e2e-default</td>\n",
       "      <td>Overall</td>\n",
       "      <td>106.916667</td>\n",
       "    </tr>\n",
       "    <tr>\n",
       "      <th>544</th>\n",
       "      <td>\"redhat-osd\"</td>\n",
       "      <td>osde2e-stage-moa-e2e-next-y</td>\n",
       "      <td>Overall</td>\n",
       "      <td>0.100000</td>\n",
       "    </tr>\n",
       "    <tr>\n",
       "      <th>545</th>\n",
       "      <td>\"redhat-osd\"</td>\n",
       "      <td>osde2e-stage-moa-e2e-next-z</td>\n",
       "      <td>Overall</td>\n",
       "      <td>0.100000</td>\n",
       "    </tr>\n",
       "    <tr>\n",
       "      <th>546</th>\n",
       "      <td>\"redhat-single-node\"</td>\n",
       "      <td>periodic-ci-openshift-release-master-nightly-4...</td>\n",
       "      <td>Overall</td>\n",
       "      <td>143.012963</td>\n",
       "    </tr>\n",
       "    <tr>\n",
       "      <th>547</th>\n",
       "      <td>\"redhat-single-node\"</td>\n",
       "      <td>periodic-ci-openshift-release-master-nightly-4...</td>\n",
       "      <td>Overall</td>\n",
       "      <td>62.925926</td>\n",
       "    </tr>\n",
       "  </tbody>\n",
       "</table>\n",
       "<p>548 rows × 4 columns</p>\n",
       "</div>"
      ],
      "text/plain": [
       "                             tab  \\\n",
       "0    \"redhat-assisted-installer\"   \n",
       "1    \"redhat-assisted-installer\"   \n",
       "2    \"redhat-assisted-installer\"   \n",
       "3    \"redhat-assisted-installer\"   \n",
       "4    \"redhat-assisted-installer\"   \n",
       "..                           ...   \n",
       "543                 \"redhat-osd\"   \n",
       "544                 \"redhat-osd\"   \n",
       "545                 \"redhat-osd\"   \n",
       "546         \"redhat-single-node\"   \n",
       "547         \"redhat-single-node\"   \n",
       "\n",
       "                                                  grid     test  test_duration  \n",
       "0    periodic-ci-openshift-release-master-nightly-4...  Overall     115.230952  \n",
       "1    periodic-ci-openshift-release-master-nightly-4...  Overall      83.511957  \n",
       "2    periodic-ci-openshift-release-master-nightly-4...  Overall      61.796454  \n",
       "3    periodic-ci-openshift-release-master-nightly-4...  Overall      81.486515  \n",
       "4    periodic-ci-openshift-release-master-nightly-4...  Overall      89.554091  \n",
       "..                                                 ...      ...            ...  \n",
       "543                       osde2e-stage-moa-e2e-default  Overall     106.916667  \n",
       "544                        osde2e-stage-moa-e2e-next-y  Overall       0.100000  \n",
       "545                        osde2e-stage-moa-e2e-next-z  Overall       0.100000  \n",
       "546  periodic-ci-openshift-release-master-nightly-4...  Overall     143.012963  \n",
       "547  periodic-ci-openshift-release-master-nightly-4...  Overall      62.925926  \n",
       "\n",
       "[548 rows x 4 columns]"
      ]
     },
     "execution_count": 19,
     "metadata": {},
     "output_type": "execute_result"
    }
   ],
   "source": [
    "## Sanity check to see if the dataset is the same\n",
    "if AUTOMATION:\n",
    "    sanity_check = cc.read_from_ceph(\n",
    "        s3_path,\n",
    "        f\"{METRIC_NAME}/{METRIC_NAME}-{timestamp.year}-{timestamp.month}-{timestamp.day}.parquet\",\n",
    "    )\n",
    "else:\n",
    "    sanity_check = read_from_disk(\n",
    "        OUTPUT_DATA_PATH,\n",
    "        f\"{METRIC_NAME}-{timestamp.year}-{timestamp.month}-{timestamp.day}.parquet\",\n",
    "    )\n",
    "\n",
    "sanity_check"
   ]
  },
  {
   "cell_type": "markdown",
   "id": "f7ae2e9e",
   "metadata": {},
   "source": [
    "### Conclusion\n",
    "\n",
    "In this Notebook, we use the \"Overall\" as a proxy for a build. Testgrid refers an aggregate of multiple tests performed at a certain timestamp within a Job as a Build and each build has a unique Build ID. In this notebook, we went ahead and used the captured time duration for Test Overalls and averged them out for each Job. We also plotted the time taken for builds to complete over time for each Job."
   ]
  }
 ],
 "metadata": {
  "kernelspec": {
   "display_name": "Python 3",
   "language": "python",
   "name": "python3"
  },
  "language_info": {
   "codemirror_mode": {
    "name": "ipython",
    "version": 3
   },
   "file_extension": ".py",
   "mimetype": "text/x-python",
   "name": "python",
   "nbconvert_exporter": "python",
   "pygments_lexer": "ipython3",
   "version": "3.8.3"
  },
  "toc": {
   "base_numbering": 1,
   "nav_menu": {},
   "number_sections": true,
   "sideBar": true,
   "skip_h1_title": false,
   "title_cell": "Table of Contents",
   "title_sidebar": "Contents",
   "toc_cell": false,
   "toc_position": {},
   "toc_section_display": true,
   "toc_window_display": false
  }
 },
 "nbformat": 4,
 "nbformat_minor": 5
}
