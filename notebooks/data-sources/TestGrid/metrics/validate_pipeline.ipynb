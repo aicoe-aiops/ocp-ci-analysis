{
 "cells": [
  {
   "cell_type": "markdown",
   "id": "2f17358e",
   "metadata": {},
   "source": [
    "# Validate the succesful running of the Automated Pipeline"
   ]
  },
  {
   "cell_type": "markdown",
   "id": "7758e08a",
   "metadata": {},
   "source": [
    "Successful running of a pipeline should collected raw data and metrics in the project S3 bucket.\n",
    "This notebook is a simple utlity notebook to check the contents of the S3 bucket and validate that the automated pipeline ran succesfully."
   ]
  },
  {
   "cell_type": "code",
   "execution_count": 10,
   "id": "ccc09e06",
   "metadata": {},
   "outputs": [],
   "source": [
    "import os\n",
    "import datetime\n",
    "from dotenv import load_dotenv, find_dotenv\n",
    "from ipynb.fs.defs.metric_template import CephCommunication"
   ]
  },
  {
   "cell_type": "code",
   "execution_count": 11,
   "id": "05f14f01",
   "metadata": {},
   "outputs": [
    {
     "data": {
      "text/plain": [
       "True"
      ]
     },
     "execution_count": 11,
     "metadata": {},
     "output_type": "execute_result"
    }
   ],
   "source": [
    "load_dotenv(find_dotenv())"
   ]
  },
  {
   "cell_type": "code",
   "execution_count": 12,
   "id": "46535500",
   "metadata": {},
   "outputs": [],
   "source": [
    "s3_endpoint_url = os.getenv(\"S3_ENDPOINT\")\n",
    "s3_access_key = os.getenv(\"S3_ACCESS_KEY\")\n",
    "s3_secret_key = os.getenv(\"S3_SECRET_KEY\")\n",
    "s3_bucket = os.getenv(\"S3_BUCKET\")"
   ]
  },
  {
   "cell_type": "code",
   "execution_count": 13,
   "id": "bd7b9d30",
   "metadata": {},
   "outputs": [
    {
     "data": {
      "text/plain": [
       "'opf-datacatalog'"
      ]
     },
     "execution_count": 13,
     "metadata": {},
     "output_type": "execute_result"
    }
   ],
   "source": [
    "s3_bucket"
   ]
  },
  {
   "cell_type": "code",
   "execution_count": 14,
   "id": "6b761911",
   "metadata": {},
   "outputs": [],
   "source": [
    "cc = CephCommunication(s3_endpoint_url, s3_access_key, s3_secret_key, s3_bucket)"
   ]
  },
  {
   "cell_type": "code",
   "execution_count": 15,
   "id": "3e019317",
   "metadata": {},
   "outputs": [],
   "source": [
    "bucket = cc.s3_resource.Bucket(s3_bucket)"
   ]
  },
  {
   "cell_type": "code",
   "execution_count": 16,
   "id": "0bc0408c",
   "metadata": {},
   "outputs": [
    {
     "data": {
      "text/plain": [
       "[s3.ObjectSummary(bucket_name='opf-datacatalog', key='None/consec_fail_stats_df.parquet'),\n",
       " s3.ObjectSummary(bucket_name='opf-datacatalog', key='None/pct_fixed_per_ts.parquet'),\n",
       " s3.ObjectSummary(bucket_name='opf-datacatalog', key='metrics/avg_correlation/avg_correlation-2021-4-14.parquet'),\n",
       " s3.ObjectSummary(bucket_name='opf-datacatalog', key='metrics/avg_correlation/avg_correlation-2021-4-16.parquet'),\n",
       " s3.ObjectSummary(bucket_name='opf-datacatalog', key='metrics/avg_correlation/avg_correlation-2021-4-19.parquet'),\n",
       " s3.ObjectSummary(bucket_name='opf-datacatalog', key='metrics/avg_correlation/avg_correlation-2021-4-29.parquet'),\n",
       " s3.ObjectSummary(bucket_name='opf-datacatalog', key='metrics/avg_correlation/avg_correlation-2021-5-3.parquet'),\n",
       " s3.ObjectSummary(bucket_name='opf-datacatalog', key='metrics/blocked_timed_out/blocked_timed_out-2021-4-14.parquet'),\n",
       " s3.ObjectSummary(bucket_name='opf-datacatalog', key='metrics/blocked_timed_out/blocked_timed_out-2021-4-16.parquet'),\n",
       " s3.ObjectSummary(bucket_name='opf-datacatalog', key='metrics/blocked_timed_out/blocked_timed_out-2021-4-19.parquet'),\n",
       " s3.ObjectSummary(bucket_name='opf-datacatalog', key='metrics/blocked_timed_out/blocked_timed_out-2021-4-27.parquet'),\n",
       " s3.ObjectSummary(bucket_name='opf-datacatalog', key='metrics/blocked_timed_out/blocked_timed_out-2021-5-3.parquet'),\n",
       " s3.ObjectSummary(bucket_name='opf-datacatalog', key='metrics/build_pass_failure/build_pass_failure-2021-4-14.parquet'),\n",
       " s3.ObjectSummary(bucket_name='opf-datacatalog', key='metrics/build_pass_failure/build_pass_failure-2021-4-16.parquet'),\n",
       " s3.ObjectSummary(bucket_name='opf-datacatalog', key='metrics/build_pass_failure/build_pass_failure-2021-4-19.parquet'),\n",
       " s3.ObjectSummary(bucket_name='opf-datacatalog', key='metrics/build_pass_failure/build_pass_failure-2021-5-3.parquet'),\n",
       " s3.ObjectSummary(bucket_name='opf-datacatalog', key='metrics/correlation/correlation-2021-4-14.parquet'),\n",
       " s3.ObjectSummary(bucket_name='opf-datacatalog', key='metrics/correlation/correlation-2021-4-16.parquet'),\n",
       " s3.ObjectSummary(bucket_name='opf-datacatalog', key='metrics/correlation/correlation-2021-4-19.parquet'),\n",
       " s3.ObjectSummary(bucket_name='opf-datacatalog', key='metrics/correlation/correlation-2021-4-29.parquet'),\n",
       " s3.ObjectSummary(bucket_name='opf-datacatalog', key='metrics/correlation/correlation-2021-5-3.parquet'),\n",
       " s3.ObjectSummary(bucket_name='opf-datacatalog', key='metrics/flake.parquet'),\n",
       " s3.ObjectSummary(bucket_name='opf-datacatalog', key='metrics/number_of_flakes/number_of_flakes-2021-4-14.parquet'),\n",
       " s3.ObjectSummary(bucket_name='opf-datacatalog', key='metrics/number_of_flakes/number_of_flakes-2021-4-16.parquet'),\n",
       " s3.ObjectSummary(bucket_name='opf-datacatalog', key='metrics/number_of_flakes/number_of_flakes-2021-4-19.parquet'),\n",
       " s3.ObjectSummary(bucket_name='opf-datacatalog', key='metrics/number_of_flakes/number_of_flakes-2021-4-27.parquet'),\n",
       " s3.ObjectSummary(bucket_name='opf-datacatalog', key='metrics/number_of_flakes/number_of_flakes-2021-4-29.parquet'),\n",
       " s3.ObjectSummary(bucket_name='opf-datacatalog', key='metrics/number_of_flakes/number_of_flakes-2021-5-3.parquet'),\n",
       " s3.ObjectSummary(bucket_name='opf-datacatalog', key='metrics/number_of_flakes/number_of_flakes-2021-5-4.parquet'),\n",
       " s3.ObjectSummary(bucket_name='opf-datacatalog', key='metrics/pct_fixed_each_ts/pct_fixed_each_ts-2021-4-14.parquet'),\n",
       " s3.ObjectSummary(bucket_name='opf-datacatalog', key='metrics/pct_fixed_each_ts/pct_fixed_each_ts-2021-4-16.parquet'),\n",
       " s3.ObjectSummary(bucket_name='opf-datacatalog', key='metrics/pct_fixed_each_ts/pct_fixed_each_ts-2021-4-19.parquet'),\n",
       " s3.ObjectSummary(bucket_name='opf-datacatalog', key='metrics/pct_fixed_each_ts/pct_fixed_each_ts-2021-4-27.parquet'),\n",
       " s3.ObjectSummary(bucket_name='opf-datacatalog', key='metrics/pct_fixed_each_ts/pct_fixed_each_ts-2021-5-3.parquet'),\n",
       " s3.ObjectSummary(bucket_name='opf-datacatalog', key='metrics/persistent_failures/persistent_failures-2021-4-14.parquet'),\n",
       " s3.ObjectSummary(bucket_name='opf-datacatalog', key='metrics/persistent_failures/persistent_failures-2021-4-16.parquet'),\n",
       " s3.ObjectSummary(bucket_name='opf-datacatalog', key='metrics/persistent_failures/persistent_failures-2021-4-19.parquet'),\n",
       " s3.ObjectSummary(bucket_name='opf-datacatalog', key='metrics/persistent_failures/persistent_failures-2021-4-27.parquet'),\n",
       " s3.ObjectSummary(bucket_name='opf-datacatalog', key='metrics/persistent_failures/persistent_failures-2021-4-28.parquet'),\n",
       " s3.ObjectSummary(bucket_name='opf-datacatalog', key='metrics/persistent_failures/persistent_failures-2021-4-29.parquet'),\n",
       " s3.ObjectSummary(bucket_name='opf-datacatalog', key='metrics/persistent_failures/persistent_failures-2021-5-3.parquet'),\n",
       " s3.ObjectSummary(bucket_name='opf-datacatalog', key='metrics/persistent_failures/persistent_failures-2021-5-4.parquet'),\n",
       " s3.ObjectSummary(bucket_name='opf-datacatalog', key='metrics/test_pass_failures/test_pass_failures-2021-4-14.parquet'),\n",
       " s3.ObjectSummary(bucket_name='opf-datacatalog', key='metrics/test_pass_failures/test_pass_failures-2021-4-16.parquet'),\n",
       " s3.ObjectSummary(bucket_name='opf-datacatalog', key='metrics/test_pass_failures/test_pass_failures-2021-4-19.parquet'),\n",
       " s3.ObjectSummary(bucket_name='opf-datacatalog', key='metrics/test_pass_failures/test_pass_failures-2021-4-27.parquet'),\n",
       " s3.ObjectSummary(bucket_name='opf-datacatalog', key='metrics/test_pass_failures/test_pass_failures-2021-4-29.parquet'),\n",
       " s3.ObjectSummary(bucket_name='opf-datacatalog', key='metrics/test_pass_failures/test_pass_failures-2021-5-3.parquet'),\n",
       " s3.ObjectSummary(bucket_name='opf-datacatalog', key='metrics/time_to_test/time_to_test-2021-4-14.parquet'),\n",
       " s3.ObjectSummary(bucket_name='opf-datacatalog', key='metrics/time_to_test/time_to_test-2021-4-16.parquet'),\n",
       " s3.ObjectSummary(bucket_name='opf-datacatalog', key='metrics/time_to_test/time_to_test-2021-4-19.parquet'),\n",
       " s3.ObjectSummary(bucket_name='opf-datacatalog', key='metrics/time_to_test/time_to_test-2021-4-27.parquet'),\n",
       " s3.ObjectSummary(bucket_name='opf-datacatalog', key='metrics/time_to_test/time_to_test-2021-4-29.parquet'),\n",
       " s3.ObjectSummary(bucket_name='opf-datacatalog', key='metrics/time_to_test/time_to_test-2021-5-3.parquet')]"
      ]
     },
     "execution_count": 16,
     "metadata": {},
     "output_type": "execute_result"
    }
   ],
   "source": [
    "# check all .parquet files in S3\n",
    "objects = [i for i in bucket.objects.all() if \"parquet\" in i.key]\n",
    "sorted(objects, key=lambda x: x.key)"
   ]
  },
  {
   "cell_type": "code",
   "execution_count": 17,
   "id": "dd9d80f8",
   "metadata": {},
   "outputs": [
    {
     "data": {
      "text/plain": [
       "[s3.ObjectSummary(bucket_name='opf-datacatalog', key='raw_data/testgrid_144.json'),\n",
       " s3.ObjectSummary(bucket_name='opf-datacatalog', key='raw_data/testgrid_164.json'),\n",
       " s3.ObjectSummary(bucket_name='opf-datacatalog', key='raw_data/testgrid_194.json'),\n",
       " s3.ObjectSummary(bucket_name='opf-datacatalog', key='raw_data/testgrid_274.json'),\n",
       " s3.ObjectSummary(bucket_name='opf-datacatalog', key='raw_data/testgrid_284.json'),\n",
       " s3.ObjectSummary(bucket_name='opf-datacatalog', key='raw_data/testgrid_294.json'),\n",
       " s3.ObjectSummary(bucket_name='opf-datacatalog', key='raw_data/testgrid_35.json'),\n",
       " s3.ObjectSummary(bucket_name='opf-datacatalog', key='raw_data/testgrid_45.json')]"
      ]
     },
     "execution_count": 17,
     "metadata": {},
     "output_type": "execute_result"
    }
   ],
   "source": [
    "# check all raw data files in s3\n",
    "objects = [i for i in bucket.objects.all() if \"raw_data/\" in i.key]\n",
    "sorted(objects, key=lambda x: x.key)"
   ]
  },
  {
   "cell_type": "markdown",
   "id": "91d35f3d",
   "metadata": {},
   "source": [
    "### Check for today's data on S3"
   ]
  },
  {
   "cell_type": "code",
   "execution_count": 18,
   "id": "bef7acec",
   "metadata": {},
   "outputs": [],
   "source": [
    "# modify variables for custom date\n",
    "timestamp = datetime.datetime.today()"
   ]
  },
  {
   "cell_type": "code",
   "execution_count": 19,
   "id": "4f2e1547",
   "metadata": {},
   "outputs": [],
   "source": [
    "metric_name = f\"{timestamp.year}-{timestamp.month}-{timestamp.day}.parquet\"\n",
    "raw_data = f\"testgrid_{timestamp.day}{timestamp.month}.json\""
   ]
  },
  {
   "cell_type": "code",
   "execution_count": 20,
   "id": "1a7c2512",
   "metadata": {},
   "outputs": [
    {
     "data": {
      "text/plain": [
       "[]"
      ]
     },
     "execution_count": 20,
     "metadata": {},
     "output_type": "execute_result"
    }
   ],
   "source": [
    "metric_objects = [i for i in bucket.objects.all() if metric_name in i.key]\n",
    "sorted(metric_objects, key=lambda x: x.key)"
   ]
  },
  {
   "cell_type": "code",
   "execution_count": 21,
   "id": "55434905",
   "metadata": {},
   "outputs": [
    {
     "data": {
      "text/plain": [
       "[]"
      ]
     },
     "execution_count": 21,
     "metadata": {},
     "output_type": "execute_result"
    }
   ],
   "source": [
    "raw_data_objects = [i for i in bucket.objects.all() if raw_data in i.key]\n",
    "sorted(raw_data_objects, key=lambda x: x.key)"
   ]
  }
 ],
 "metadata": {
  "kernelspec": {
   "display_name": "Python 3",
   "language": "python",
   "name": "python3"
  },
  "language_info": {
   "codemirror_mode": {
    "name": "ipython",
    "version": 3
   },
   "file_extension": ".py",
   "mimetype": "text/x-python",
   "name": "python",
   "nbconvert_exporter": "python",
   "pygments_lexer": "ipython3",
   "version": "3.8.3"
  }
 },
 "nbformat": 4,
 "nbformat_minor": 5
}
