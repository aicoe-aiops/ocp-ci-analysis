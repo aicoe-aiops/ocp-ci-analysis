{
 "cells": [
  {
   "cell_type": "markdown",
   "id": "brown-check",
   "metadata": {},
   "source": [
    "# Tests Blocked or Timed Out\n",
    "\n",
    "This notebook is an extension to the [number_of_flakes](number_of_flakes.ipynb) notebook. In this notebook, the key perfomance indicators that we would like to create greater visbility into and track over time is the percent of tests that got blocked or were timed out. By observing the above metrics and tracking them wrt time, we will be able to quantify the efficiency of our testing platforms.\n",
    "\n",
    "* number and percent of tests blocked\n",
    "* number and percent of tests timed out"
   ]
  },
  {
   "cell_type": "code",
   "execution_count": 3,
   "id": "brilliant-expense",
   "metadata": {
    "ExecuteTime": {
     "end_time": "2021-03-22T16:28:43.820876Z",
     "start_time": "2021-03-22T16:28:42.964249Z"
    }
   },
   "outputs": [],
   "source": [
    "import gzip\n",
    "import json\n",
    "import os\n",
    "import sys\n",
    "import pandas as pd\n",
    "\n",
    "sys.path.append(\"../../..\")\n",
    "\n",
    "module_path_1 = os.path.abspath(os.path.join(\"../../../data-sources/TestGrid\"))\n",
    "if module_path_1 not in sys.path:\n",
    "    sys.path.append(module_path_1)\n",
    "\n",
    "from ipynb.fs.defs.number_of_flakes import (  # noqa: E402\n",
    "    testgrid_labelwise_encoding,\n",
    ")  # noqa: E402"
   ]
  },
  {
   "cell_type": "code",
   "execution_count": 4,
   "id": "boxed-enough",
   "metadata": {
    "ExecuteTime": {
     "end_time": "2021-03-22T16:28:58.995026Z",
     "start_time": "2021-03-22T16:28:43.823812Z"
    }
   },
   "outputs": [],
   "source": [
    "# Load test file\n",
    "with gzip.open(\"../../../../data/raw/testgrid_183.json.gz\", \"rb\") as read_file:\n",
    "    testgrid_data = json.load(read_file)"
   ]
  },
  {
   "cell_type": "code",
   "execution_count": 5,
   "id": "standard-parade",
   "metadata": {
    "ExecuteTime": {
     "end_time": "2021-03-22T16:29:48.387613Z",
     "start_time": "2021-03-22T16:28:58.997972Z"
    }
   },
   "outputs": [],
   "source": [
    "blocked_tests_list = testgrid_labelwise_encoding(testgrid_data, 8)[0:1000000]"
   ]
  },
  {
   "cell_type": "code",
   "execution_count": 6,
   "id": "worst-egypt",
   "metadata": {
    "ExecuteTime": {
     "end_time": "2021-03-22T16:29:48.395095Z",
     "start_time": "2021-03-22T16:29:48.390373Z"
    }
   },
   "outputs": [
    {
     "data": {
      "text/plain": [
       "1000000"
      ]
     },
     "execution_count": 6,
     "metadata": {},
     "output_type": "execute_result"
    }
   ],
   "source": [
    "len(blocked_tests_list)"
   ]
  },
  {
   "cell_type": "code",
   "execution_count": 7,
   "id": "burning-ecology",
   "metadata": {
    "ExecuteTime": {
     "end_time": "2021-03-22T16:29:48.408110Z",
     "start_time": "2021-03-22T16:29:48.397195Z"
    }
   },
   "outputs": [
    {
     "data": {
      "text/plain": [
       "(datetime.datetime(2021, 3, 15, 23, 40, 20),\n",
       " '\"redhat-assisted-installer\"',\n",
       " 'periodic-ci-openshift-release-master-nightly-4.6-e2e-metal-assisted',\n",
       " 'Overall',\n",
       " [{'metric': ['test-duration-minutes'],\n",
       "   'values': [[80.28333333333333,\n",
       "     92.05,\n",
       "     80.98333333333333,\n",
       "     117.71666666666667,\n",
       "     108.63333333333334,\n",
       "     87.06666666666666,\n",
       "     111.03333333333333,\n",
       "     100.28333333333333,\n",
       "     143.2,\n",
       "     577.0333333333333,\n",
       "     18.833333333333332,\n",
       "     92.81666666666666,\n",
       "     81.36666666666666,\n",
       "     89.05,\n",
       "     84.08333333333333,\n",
       "     108.68333333333334,\n",
       "     82.61666666666666,\n",
       "     99.98333333333333,\n",
       "     99.63333333333334,\n",
       "     84.35,\n",
       "     80.15]]}],\n",
       " False)"
      ]
     },
     "execution_count": 7,
     "metadata": {},
     "output_type": "execute_result"
    }
   ],
   "source": [
    "blocked_tests_list[0]"
   ]
  },
  {
   "cell_type": "code",
   "execution_count": 8,
   "id": "handled-metabolism",
   "metadata": {
    "ExecuteTime": {
     "end_time": "2021-03-22T16:29:49.006134Z",
     "start_time": "2021-03-22T16:29:48.410018Z"
    }
   },
   "outputs": [
    {
     "data": {
      "text/html": [
       "<div>\n",
       "<style scoped>\n",
       "    .dataframe tbody tr th:only-of-type {\n",
       "        vertical-align: middle;\n",
       "    }\n",
       "\n",
       "    .dataframe tbody tr th {\n",
       "        vertical-align: top;\n",
       "    }\n",
       "\n",
       "    .dataframe thead th {\n",
       "        text-align: right;\n",
       "    }\n",
       "</style>\n",
       "<table border=\"1\" class=\"dataframe\">\n",
       "  <thead>\n",
       "    <tr style=\"text-align: right;\">\n",
       "      <th></th>\n",
       "      <th>timestamp</th>\n",
       "      <th>tab</th>\n",
       "      <th>grid</th>\n",
       "      <th>test</th>\n",
       "      <th>graph</th>\n",
       "      <th>test_blocked</th>\n",
       "    </tr>\n",
       "  </thead>\n",
       "  <tbody>\n",
       "    <tr>\n",
       "      <th>0</th>\n",
       "      <td>2021-03-15 23:40:20</td>\n",
       "      <td>\"redhat-assisted-installer\"</td>\n",
       "      <td>periodic-ci-openshift-release-master-nightly-4...</td>\n",
       "      <td>Overall</td>\n",
       "      <td>[{'metric': ['test-duration-minutes'], 'values...</td>\n",
       "      <td>False</td>\n",
       "    </tr>\n",
       "    <tr>\n",
       "      <th>1</th>\n",
       "      <td>2021-03-15 00:01:06</td>\n",
       "      <td>\"redhat-assisted-installer\"</td>\n",
       "      <td>periodic-ci-openshift-release-master-nightly-4...</td>\n",
       "      <td>Overall</td>\n",
       "      <td>[{'metric': ['test-duration-minutes'], 'values...</td>\n",
       "      <td>False</td>\n",
       "    </tr>\n",
       "    <tr>\n",
       "      <th>2</th>\n",
       "      <td>2021-03-13 20:51:32</td>\n",
       "      <td>\"redhat-assisted-installer\"</td>\n",
       "      <td>periodic-ci-openshift-release-master-nightly-4...</td>\n",
       "      <td>Overall</td>\n",
       "      <td>[{'metric': ['test-duration-minutes'], 'values...</td>\n",
       "      <td>False</td>\n",
       "    </tr>\n",
       "    <tr>\n",
       "      <th>3</th>\n",
       "      <td>2021-03-13 07:51:20</td>\n",
       "      <td>\"redhat-assisted-installer\"</td>\n",
       "      <td>periodic-ci-openshift-release-master-nightly-4...</td>\n",
       "      <td>Overall</td>\n",
       "      <td>[{'metric': ['test-duration-minutes'], 'values...</td>\n",
       "      <td>False</td>\n",
       "    </tr>\n",
       "    <tr>\n",
       "      <th>4</th>\n",
       "      <td>2021-03-13 06:43:20</td>\n",
       "      <td>\"redhat-assisted-installer\"</td>\n",
       "      <td>periodic-ci-openshift-release-master-nightly-4...</td>\n",
       "      <td>Overall</td>\n",
       "      <td>[{'metric': ['test-duration-minutes'], 'values...</td>\n",
       "      <td>False</td>\n",
       "    </tr>\n",
       "  </tbody>\n",
       "</table>\n",
       "</div>"
      ],
      "text/plain": [
       "            timestamp                          tab  \\\n",
       "0 2021-03-15 23:40:20  \"redhat-assisted-installer\"   \n",
       "1 2021-03-15 00:01:06  \"redhat-assisted-installer\"   \n",
       "2 2021-03-13 20:51:32  \"redhat-assisted-installer\"   \n",
       "3 2021-03-13 07:51:20  \"redhat-assisted-installer\"   \n",
       "4 2021-03-13 06:43:20  \"redhat-assisted-installer\"   \n",
       "\n",
       "                                                grid     test  \\\n",
       "0  periodic-ci-openshift-release-master-nightly-4...  Overall   \n",
       "1  periodic-ci-openshift-release-master-nightly-4...  Overall   \n",
       "2  periodic-ci-openshift-release-master-nightly-4...  Overall   \n",
       "3  periodic-ci-openshift-release-master-nightly-4...  Overall   \n",
       "4  periodic-ci-openshift-release-master-nightly-4...  Overall   \n",
       "\n",
       "                                               graph  test_blocked  \n",
       "0  [{'metric': ['test-duration-minutes'], 'values...         False  \n",
       "1  [{'metric': ['test-duration-minutes'], 'values...         False  \n",
       "2  [{'metric': ['test-duration-minutes'], 'values...         False  \n",
       "3  [{'metric': ['test-duration-minutes'], 'values...         False  \n",
       "4  [{'metric': ['test-duration-minutes'], 'values...         False  "
      ]
     },
     "execution_count": 8,
     "metadata": {},
     "output_type": "execute_result"
    }
   ],
   "source": [
    "# Convert to dataframe\n",
    "blocked_tests_df = pd.DataFrame(\n",
    "    blocked_tests_list,\n",
    "    columns=[\"timestamp\", \"tab\", \"grid\", \"test\", \"graph\", \"test_blocked\"],\n",
    ")\n",
    "blocked_tests_df.head()"
   ]
  },
  {
   "cell_type": "code",
   "execution_count": 9,
   "id": "excessive-listening",
   "metadata": {
    "ExecuteTime": {
     "end_time": "2021-03-22T16:29:49.057316Z",
     "start_time": "2021-03-22T16:29:49.008227Z"
    }
   },
   "outputs": [],
   "source": [
    "# saving only the first 1000000 out of 19 million rows due to pvc limits.\n",
    "# 250mb = 1 million --> 4750 mb = 19 million\n",
    "blocked_tests_df.head(1000).to_csv(\n",
    "    \"../../../../data/processed/blocked_tests.csv\",\n",
    "    header=False,\n",
    ")"
   ]
  },
  {
   "cell_type": "code",
   "execution_count": 10,
   "id": "confident-simon",
   "metadata": {
    "ExecuteTime": {
     "end_time": "2021-03-22T16:30:35.585696Z",
     "start_time": "2021-03-22T16:29:49.060638Z"
    }
   },
   "outputs": [],
   "source": [
    "timed_out_tests_list = testgrid_labelwise_encoding(testgrid_data, 9)[0:1000000]"
   ]
  },
  {
   "cell_type": "code",
   "execution_count": 11,
   "id": "professional-territory",
   "metadata": {
    "ExecuteTime": {
     "end_time": "2021-03-22T16:30:36.111950Z",
     "start_time": "2021-03-22T16:30:35.588368Z"
    }
   },
   "outputs": [
    {
     "data": {
      "text/html": [
       "<div>\n",
       "<style scoped>\n",
       "    .dataframe tbody tr th:only-of-type {\n",
       "        vertical-align: middle;\n",
       "    }\n",
       "\n",
       "    .dataframe tbody tr th {\n",
       "        vertical-align: top;\n",
       "    }\n",
       "\n",
       "    .dataframe thead th {\n",
       "        text-align: right;\n",
       "    }\n",
       "</style>\n",
       "<table border=\"1\" class=\"dataframe\">\n",
       "  <thead>\n",
       "    <tr style=\"text-align: right;\">\n",
       "      <th></th>\n",
       "      <th>timestamp</th>\n",
       "      <th>tab</th>\n",
       "      <th>grid</th>\n",
       "      <th>test</th>\n",
       "      <th>graph</th>\n",
       "      <th>test_timed_out</th>\n",
       "    </tr>\n",
       "  </thead>\n",
       "  <tbody>\n",
       "    <tr>\n",
       "      <th>0</th>\n",
       "      <td>2021-03-15 23:40:20</td>\n",
       "      <td>\"redhat-assisted-installer\"</td>\n",
       "      <td>periodic-ci-openshift-release-master-nightly-4...</td>\n",
       "      <td>Overall</td>\n",
       "      <td>[{'metric': ['test-duration-minutes'], 'values...</td>\n",
       "      <td>False</td>\n",
       "    </tr>\n",
       "    <tr>\n",
       "      <th>1</th>\n",
       "      <td>2021-03-15 00:01:06</td>\n",
       "      <td>\"redhat-assisted-installer\"</td>\n",
       "      <td>periodic-ci-openshift-release-master-nightly-4...</td>\n",
       "      <td>Overall</td>\n",
       "      <td>[{'metric': ['test-duration-minutes'], 'values...</td>\n",
       "      <td>False</td>\n",
       "    </tr>\n",
       "    <tr>\n",
       "      <th>2</th>\n",
       "      <td>2021-03-13 20:51:32</td>\n",
       "      <td>\"redhat-assisted-installer\"</td>\n",
       "      <td>periodic-ci-openshift-release-master-nightly-4...</td>\n",
       "      <td>Overall</td>\n",
       "      <td>[{'metric': ['test-duration-minutes'], 'values...</td>\n",
       "      <td>False</td>\n",
       "    </tr>\n",
       "    <tr>\n",
       "      <th>3</th>\n",
       "      <td>2021-03-13 07:51:20</td>\n",
       "      <td>\"redhat-assisted-installer\"</td>\n",
       "      <td>periodic-ci-openshift-release-master-nightly-4...</td>\n",
       "      <td>Overall</td>\n",
       "      <td>[{'metric': ['test-duration-minutes'], 'values...</td>\n",
       "      <td>False</td>\n",
       "    </tr>\n",
       "    <tr>\n",
       "      <th>4</th>\n",
       "      <td>2021-03-13 06:43:20</td>\n",
       "      <td>\"redhat-assisted-installer\"</td>\n",
       "      <td>periodic-ci-openshift-release-master-nightly-4...</td>\n",
       "      <td>Overall</td>\n",
       "      <td>[{'metric': ['test-duration-minutes'], 'values...</td>\n",
       "      <td>False</td>\n",
       "    </tr>\n",
       "  </tbody>\n",
       "</table>\n",
       "</div>"
      ],
      "text/plain": [
       "            timestamp                          tab  \\\n",
       "0 2021-03-15 23:40:20  \"redhat-assisted-installer\"   \n",
       "1 2021-03-15 00:01:06  \"redhat-assisted-installer\"   \n",
       "2 2021-03-13 20:51:32  \"redhat-assisted-installer\"   \n",
       "3 2021-03-13 07:51:20  \"redhat-assisted-installer\"   \n",
       "4 2021-03-13 06:43:20  \"redhat-assisted-installer\"   \n",
       "\n",
       "                                                grid     test  \\\n",
       "0  periodic-ci-openshift-release-master-nightly-4...  Overall   \n",
       "1  periodic-ci-openshift-release-master-nightly-4...  Overall   \n",
       "2  periodic-ci-openshift-release-master-nightly-4...  Overall   \n",
       "3  periodic-ci-openshift-release-master-nightly-4...  Overall   \n",
       "4  periodic-ci-openshift-release-master-nightly-4...  Overall   \n",
       "\n",
       "                                               graph  test_timed_out  \n",
       "0  [{'metric': ['test-duration-minutes'], 'values...           False  \n",
       "1  [{'metric': ['test-duration-minutes'], 'values...           False  \n",
       "2  [{'metric': ['test-duration-minutes'], 'values...           False  \n",
       "3  [{'metric': ['test-duration-minutes'], 'values...           False  \n",
       "4  [{'metric': ['test-duration-minutes'], 'values...           False  "
      ]
     },
     "execution_count": 11,
     "metadata": {},
     "output_type": "execute_result"
    }
   ],
   "source": [
    "# Convert to dataframe\n",
    "timed_out_tests_df = pd.DataFrame(\n",
    "    timed_out_tests_list,\n",
    "    columns=[\"timestamp\", \"tab\", \"grid\", \"test\", \"graph\", \"test_timed_out\"],\n",
    ")\n",
    "timed_out_tests_df.head()"
   ]
  },
  {
   "cell_type": "code",
   "execution_count": 12,
   "id": "perfect-packing",
   "metadata": {
    "ExecuteTime": {
     "end_time": "2021-03-22T16:30:36.160867Z",
     "start_time": "2021-03-22T16:30:36.114042Z"
    }
   },
   "outputs": [],
   "source": [
    "# saving only the first 1000000 out of 19 million rows due to pvc limits.\n",
    "# 250mb = 1 million --> 4750 mb = 19 million\n",
    "timed_out_tests_df.head(1000).to_csv(\n",
    "    \"../../../../data/processed/timed_out_tests.csv\",\n",
    "    header=False,\n",
    ")"
   ]
  },
  {
   "cell_type": "code",
   "execution_count": 13,
   "id": "sublime-timing",
   "metadata": {
    "ExecuteTime": {
     "end_time": "2021-03-22T16:30:36.331799Z",
     "start_time": "2021-03-22T16:30:36.163371Z"
    }
   },
   "outputs": [
    {
     "name": "stdout",
     "output_type": "stream",
     "text": [
      "Total number of tests: 1000000\n",
      "Total number of tests blocked: 0\n",
      "Tests blocked percentage: 0.000000\n",
      "Total number of timed out tests: 0\n",
      "Test timed out percentage: 0.000000\n"
     ]
    }
   ],
   "source": [
    "# Metrics\n",
    "no_tests = blocked_tests_df.head(1000000).test.count()\n",
    "print(\"Total number of tests: %i\" % (no_tests))\n",
    "no_blocked = blocked_tests_df.head(1000000).test_blocked.sum()\n",
    "print(\"Total number of tests blocked: %i\" % (no_blocked))\n",
    "test_blocked_percentage = (\n",
    "    (\n",
    "        blocked_tests_df.head(1000000).test_blocked.sum()\n",
    "        / blocked_tests_df.head(1000000).test.count()\n",
    "    )\n",
    ") * 100\n",
    "print(\"Tests blocked percentage: %f\" % (test_blocked_percentage))\n",
    "no_timed_out = timed_out_tests_df.head(1000000).test_timed_out.sum()\n",
    "print(\"Total number of timed out tests: %i\" % (no_timed_out))\n",
    "test_timed_out_percentage = (\n",
    "    (\n",
    "        timed_out_tests_df.head(1000000).test_timed_out.sum()\n",
    "        / timed_out_tests_df.head(1000000).test.count()\n",
    "    )\n",
    ") * 100\n",
    "print(\"Test timed out percentage: %f\" % (test_timed_out_percentage))"
   ]
  }
 ],
 "metadata": {
  "finalized": {
   "timestamp": 1612822647266,
   "trusted": true
  },
  "kernelspec": {
   "display_name": "Python 3",
   "language": "python",
   "name": "python3"
  },
  "language_info": {
   "codemirror_mode": {
    "name": "ipython",
    "version": 3
   },
   "file_extension": ".py",
   "mimetype": "text/x-python",
   "name": "python",
   "nbconvert_exporter": "python",
   "pygments_lexer": "ipython3",
   "version": "3.6.8"
  },
  "toc": {
   "base_numbering": 1,
   "nav_menu": {},
   "number_sections": true,
   "sideBar": true,
   "skip_h1_title": false,
   "title_cell": "Table of Contents",
   "title_sidebar": "Contents",
   "toc_cell": false,
   "toc_position": {},
   "toc_section_display": true,
   "toc_window_display": false
  }
 },
 "nbformat": 4,
 "nbformat_minor": 5
}
