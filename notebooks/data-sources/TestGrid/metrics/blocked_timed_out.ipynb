{
 "cells": [
  {
   "cell_type": "markdown",
   "id": "brown-check",
   "metadata": {},
   "source": [
    "# Tests Blocked or Timed Out\n",
    "\n",
    "This notebook is an extension to the [number_of_flakes](number_of_flakes.ipynb) notebook. In this notebook, the key perfomance indicators that we would like to create greater visbility into and track over time is the percent of tests that got blocked or were timed out. By observing the above metrics and tracking them wrt time, we will be able to quantify the efficiency of our testing platforms.\n",
    "\n",
    "* number and percent of tests blocked\n",
    "* number and percent of tests timed out"
   ]
  },
  {
   "cell_type": "code",
   "execution_count": 2,
   "id": "brilliant-expense",
   "metadata": {
    "ExecuteTime": {
     "end_time": "2021-03-04T21:17:45.512006Z",
     "start_time": "2021-03-04T21:17:44.690478Z"
    }
   },
   "outputs": [],
   "source": [
    "import gzip\n",
    "import json\n",
    "import os\n",
    "import sys\n",
    "import pandas as pd\n",
    "\n",
    "sys.path.append(\"../../..\")\n",
    "\n",
    "module_path_1 = os.path.abspath(os.path.join(\"../../../data-sources/TestGrid\"))\n",
    "if module_path_1 not in sys.path:\n",
    "    sys.path.append(module_path_1)\n",
    "\n",
    "from ipynb.fs.defs.number_of_flakes import (  # noqa: E402\n",
    "    testgrid_labelwise_encoding,\n",
    ")  # noqa: E402"
   ]
  },
  {
   "cell_type": "code",
   "execution_count": 3,
   "id": "boxed-enough",
   "metadata": {
    "ExecuteTime": {
     "end_time": "2021-03-04T21:17:52.593985Z",
     "start_time": "2021-03-04T21:17:46.403143Z"
    }
   },
   "outputs": [],
   "source": [
    "# Load test file\n",
    "with gzip.open(\"../../../../data/raw/testgrid_810.json.gz\", \"rb\") as read_file:\n",
    "    testgrid_data = json.load(read_file)"
   ]
  },
  {
   "cell_type": "code",
   "execution_count": 4,
   "id": "standard-parade",
   "metadata": {
    "ExecuteTime": {
     "end_time": "2021-03-04T21:18:13.571985Z",
     "start_time": "2021-03-04T21:17:53.328200Z"
    }
   },
   "outputs": [],
   "source": [
    "blocked_tests_list = testgrid_labelwise_encoding(testgrid_data, 8)[0:1000000]"
   ]
  },
  {
   "cell_type": "code",
   "execution_count": 5,
   "id": "worst-egypt",
   "metadata": {
    "ExecuteTime": {
     "end_time": "2021-03-04T21:18:13.579468Z",
     "start_time": "2021-03-04T21:18:13.574707Z"
    }
   },
   "outputs": [
    {
     "data": {
      "text/plain": [
       "1000000"
      ]
     },
     "execution_count": 5,
     "metadata": {},
     "output_type": "execute_result"
    }
   ],
   "source": [
    "len(blocked_tests_list)"
   ]
  },
  {
   "cell_type": "code",
   "execution_count": 6,
   "id": "burning-ecology",
   "metadata": {
    "ExecuteTime": {
     "end_time": "2021-03-04T21:18:13.593463Z",
     "start_time": "2021-03-04T21:18:13.582117Z"
    }
   },
   "outputs": [
    {
     "data": {
      "text/plain": [
       "(datetime.datetime(2020, 10, 8, 20, 48, 5),\n",
       " '\"redhat-openshift-informing\"',\n",
       " 'release-openshift-okd-installer-e2e-aws-upgrade',\n",
       " 'Application behind service load balancer with PDB is not disrupted',\n",
       " False)"
      ]
     },
     "execution_count": 6,
     "metadata": {},
     "output_type": "execute_result"
    }
   ],
   "source": [
    "blocked_tests_list[0]"
   ]
  },
  {
   "cell_type": "code",
   "execution_count": 7,
   "id": "handled-metabolism",
   "metadata": {
    "ExecuteTime": {
     "end_time": "2021-03-04T21:18:14.099459Z",
     "start_time": "2021-03-04T21:18:13.595956Z"
    }
   },
   "outputs": [
    {
     "data": {
      "text/html": [
       "<div>\n",
       "<style scoped>\n",
       "    .dataframe tbody tr th:only-of-type {\n",
       "        vertical-align: middle;\n",
       "    }\n",
       "\n",
       "    .dataframe tbody tr th {\n",
       "        vertical-align: top;\n",
       "    }\n",
       "\n",
       "    .dataframe thead th {\n",
       "        text-align: right;\n",
       "    }\n",
       "</style>\n",
       "<table border=\"1\" class=\"dataframe\">\n",
       "  <thead>\n",
       "    <tr style=\"text-align: right;\">\n",
       "      <th></th>\n",
       "      <th>timestamp</th>\n",
       "      <th>tab</th>\n",
       "      <th>job</th>\n",
       "      <th>test</th>\n",
       "      <th>test_blocked</th>\n",
       "    </tr>\n",
       "  </thead>\n",
       "  <tbody>\n",
       "    <tr>\n",
       "      <th>0</th>\n",
       "      <td>2020-10-08 20:48:05</td>\n",
       "      <td>\"redhat-openshift-informing\"</td>\n",
       "      <td>release-openshift-okd-installer-e2e-aws-upgrade</td>\n",
       "      <td>Application behind service load balancer with ...</td>\n",
       "      <td>False</td>\n",
       "    </tr>\n",
       "    <tr>\n",
       "      <th>1</th>\n",
       "      <td>2020-10-08 19:12:01</td>\n",
       "      <td>\"redhat-openshift-informing\"</td>\n",
       "      <td>release-openshift-okd-installer-e2e-aws-upgrade</td>\n",
       "      <td>Application behind service load balancer with ...</td>\n",
       "      <td>False</td>\n",
       "    </tr>\n",
       "    <tr>\n",
       "      <th>2</th>\n",
       "      <td>2020-10-08 14:18:13</td>\n",
       "      <td>\"redhat-openshift-informing\"</td>\n",
       "      <td>release-openshift-okd-installer-e2e-aws-upgrade</td>\n",
       "      <td>Application behind service load balancer with ...</td>\n",
       "      <td>False</td>\n",
       "    </tr>\n",
       "    <tr>\n",
       "      <th>3</th>\n",
       "      <td>2020-10-08 11:15:28</td>\n",
       "      <td>\"redhat-openshift-informing\"</td>\n",
       "      <td>release-openshift-okd-installer-e2e-aws-upgrade</td>\n",
       "      <td>Application behind service load balancer with ...</td>\n",
       "      <td>False</td>\n",
       "    </tr>\n",
       "    <tr>\n",
       "      <th>4</th>\n",
       "      <td>2020-10-08 08:27:53</td>\n",
       "      <td>\"redhat-openshift-informing\"</td>\n",
       "      <td>release-openshift-okd-installer-e2e-aws-upgrade</td>\n",
       "      <td>Application behind service load balancer with ...</td>\n",
       "      <td>False</td>\n",
       "    </tr>\n",
       "  </tbody>\n",
       "</table>\n",
       "</div>"
      ],
      "text/plain": [
       "            timestamp                           tab  \\\n",
       "0 2020-10-08 20:48:05  \"redhat-openshift-informing\"   \n",
       "1 2020-10-08 19:12:01  \"redhat-openshift-informing\"   \n",
       "2 2020-10-08 14:18:13  \"redhat-openshift-informing\"   \n",
       "3 2020-10-08 11:15:28  \"redhat-openshift-informing\"   \n",
       "4 2020-10-08 08:27:53  \"redhat-openshift-informing\"   \n",
       "\n",
       "                                               job  \\\n",
       "0  release-openshift-okd-installer-e2e-aws-upgrade   \n",
       "1  release-openshift-okd-installer-e2e-aws-upgrade   \n",
       "2  release-openshift-okd-installer-e2e-aws-upgrade   \n",
       "3  release-openshift-okd-installer-e2e-aws-upgrade   \n",
       "4  release-openshift-okd-installer-e2e-aws-upgrade   \n",
       "\n",
       "                                                test  test_blocked  \n",
       "0  Application behind service load balancer with ...         False  \n",
       "1  Application behind service load balancer with ...         False  \n",
       "2  Application behind service load balancer with ...         False  \n",
       "3  Application behind service load balancer with ...         False  \n",
       "4  Application behind service load balancer with ...         False  "
      ]
     },
     "execution_count": 7,
     "metadata": {},
     "output_type": "execute_result"
    }
   ],
   "source": [
    "# Convert to dataframe\n",
    "blocked_tests_df = pd.DataFrame(\n",
    "    blocked_tests_list, columns=[\"timestamp\", \"tab\", \"job\", \"test\", \"test_blocked\"]\n",
    ")\n",
    "blocked_tests_df.head()"
   ]
  },
  {
   "cell_type": "code",
   "execution_count": 8,
   "id": "excessive-listening",
   "metadata": {
    "ExecuteTime": {
     "end_time": "2021-03-04T21:18:14.171760Z",
     "start_time": "2021-03-04T21:18:14.101620Z"
    }
   },
   "outputs": [],
   "source": [
    "# saving only the first 1000000 out of 19 million rows due to pvc limits.\n",
    "# 250mb = 1 million --> 4750 mb = 19 million\n",
    "blocked_tests_df.head(1000).to_csv(\n",
    "    \"../../../../data/processed/blocked_tests.csv\",\n",
    "    header=False,\n",
    ")"
   ]
  },
  {
   "cell_type": "code",
   "execution_count": 9,
   "id": "confident-simon",
   "metadata": {
    "ExecuteTime": {
     "end_time": "2021-03-04T21:18:40.785714Z",
     "start_time": "2021-03-04T21:18:19.671742Z"
    }
   },
   "outputs": [],
   "source": [
    "timed_out_tests_list = testgrid_labelwise_encoding(testgrid_data, 9)[0:1000000]"
   ]
  },
  {
   "cell_type": "code",
   "execution_count": 10,
   "id": "professional-territory",
   "metadata": {
    "ExecuteTime": {
     "end_time": "2021-03-04T21:18:44.685279Z",
     "start_time": "2021-03-04T21:18:44.204603Z"
    }
   },
   "outputs": [
    {
     "data": {
      "text/html": [
       "<div>\n",
       "<style scoped>\n",
       "    .dataframe tbody tr th:only-of-type {\n",
       "        vertical-align: middle;\n",
       "    }\n",
       "\n",
       "    .dataframe tbody tr th {\n",
       "        vertical-align: top;\n",
       "    }\n",
       "\n",
       "    .dataframe thead th {\n",
       "        text-align: right;\n",
       "    }\n",
       "</style>\n",
       "<table border=\"1\" class=\"dataframe\">\n",
       "  <thead>\n",
       "    <tr style=\"text-align: right;\">\n",
       "      <th></th>\n",
       "      <th>timestamp</th>\n",
       "      <th>tab</th>\n",
       "      <th>job</th>\n",
       "      <th>test</th>\n",
       "      <th>test_timed_out</th>\n",
       "    </tr>\n",
       "  </thead>\n",
       "  <tbody>\n",
       "    <tr>\n",
       "      <th>0</th>\n",
       "      <td>2020-10-08 20:48:05</td>\n",
       "      <td>\"redhat-openshift-informing\"</td>\n",
       "      <td>release-openshift-okd-installer-e2e-aws-upgrade</td>\n",
       "      <td>Application behind service load balancer with ...</td>\n",
       "      <td>False</td>\n",
       "    </tr>\n",
       "    <tr>\n",
       "      <th>1</th>\n",
       "      <td>2020-10-08 19:12:01</td>\n",
       "      <td>\"redhat-openshift-informing\"</td>\n",
       "      <td>release-openshift-okd-installer-e2e-aws-upgrade</td>\n",
       "      <td>Application behind service load balancer with ...</td>\n",
       "      <td>False</td>\n",
       "    </tr>\n",
       "    <tr>\n",
       "      <th>2</th>\n",
       "      <td>2020-10-08 14:18:13</td>\n",
       "      <td>\"redhat-openshift-informing\"</td>\n",
       "      <td>release-openshift-okd-installer-e2e-aws-upgrade</td>\n",
       "      <td>Application behind service load balancer with ...</td>\n",
       "      <td>False</td>\n",
       "    </tr>\n",
       "    <tr>\n",
       "      <th>3</th>\n",
       "      <td>2020-10-08 11:15:28</td>\n",
       "      <td>\"redhat-openshift-informing\"</td>\n",
       "      <td>release-openshift-okd-installer-e2e-aws-upgrade</td>\n",
       "      <td>Application behind service load balancer with ...</td>\n",
       "      <td>False</td>\n",
       "    </tr>\n",
       "    <tr>\n",
       "      <th>4</th>\n",
       "      <td>2020-10-08 08:27:53</td>\n",
       "      <td>\"redhat-openshift-informing\"</td>\n",
       "      <td>release-openshift-okd-installer-e2e-aws-upgrade</td>\n",
       "      <td>Application behind service load balancer with ...</td>\n",
       "      <td>False</td>\n",
       "    </tr>\n",
       "  </tbody>\n",
       "</table>\n",
       "</div>"
      ],
      "text/plain": [
       "            timestamp                           tab  \\\n",
       "0 2020-10-08 20:48:05  \"redhat-openshift-informing\"   \n",
       "1 2020-10-08 19:12:01  \"redhat-openshift-informing\"   \n",
       "2 2020-10-08 14:18:13  \"redhat-openshift-informing\"   \n",
       "3 2020-10-08 11:15:28  \"redhat-openshift-informing\"   \n",
       "4 2020-10-08 08:27:53  \"redhat-openshift-informing\"   \n",
       "\n",
       "                                               job  \\\n",
       "0  release-openshift-okd-installer-e2e-aws-upgrade   \n",
       "1  release-openshift-okd-installer-e2e-aws-upgrade   \n",
       "2  release-openshift-okd-installer-e2e-aws-upgrade   \n",
       "3  release-openshift-okd-installer-e2e-aws-upgrade   \n",
       "4  release-openshift-okd-installer-e2e-aws-upgrade   \n",
       "\n",
       "                                                test  test_timed_out  \n",
       "0  Application behind service load balancer with ...           False  \n",
       "1  Application behind service load balancer with ...           False  \n",
       "2  Application behind service load balancer with ...           False  \n",
       "3  Application behind service load balancer with ...           False  \n",
       "4  Application behind service load balancer with ...           False  "
      ]
     },
     "execution_count": 10,
     "metadata": {},
     "output_type": "execute_result"
    }
   ],
   "source": [
    "# Convert to dataframe\n",
    "timed_out_tests_df = pd.DataFrame(\n",
    "    timed_out_tests_list, columns=[\"timestamp\", \"tab\", \"job\", \"test\", \"test_timed_out\"]\n",
    ")\n",
    "timed_out_tests_df.head()"
   ]
  },
  {
   "cell_type": "code",
   "execution_count": 11,
   "id": "perfect-packing",
   "metadata": {
    "ExecuteTime": {
     "end_time": "2021-03-04T21:18:56.583623Z",
     "start_time": "2021-03-04T21:18:56.564500Z"
    }
   },
   "outputs": [],
   "source": [
    "# saving only the first 1000000 out of 19 million rows due to pvc limits.\n",
    "# 250mb = 1 million --> 4750 mb = 19 million\n",
    "timed_out_tests_df.head(1000).to_csv(\n",
    "    \"../../../../data/processed/timed_out_tests.csv\",\n",
    "    header=False,\n",
    ")"
   ]
  },
  {
   "cell_type": "code",
   "execution_count": 12,
   "id": "sublime-timing",
   "metadata": {
    "ExecuteTime": {
     "end_time": "2021-03-04T21:25:43.028630Z",
     "start_time": "2021-03-04T21:25:42.863987Z"
    }
   },
   "outputs": [
    {
     "name": "stdout",
     "output_type": "stream",
     "text": [
      "Total number of tests: 1000000\n",
      "Total number of tests blocked: 0\n",
      "Tests blocked percentage: 0.000000\n",
      "Total number of timed out tests: 0\n",
      "Test timed out percentage: 0.000000\n"
     ]
    }
   ],
   "source": [
    "# Metrics\n",
    "no_tests = blocked_tests_df.head(1000000).test.count()\n",
    "print(\"Total number of tests: %i\" % (no_tests))\n",
    "no_blocked = blocked_tests_df.head(1000000).test_blocked.sum()\n",
    "print(\"Total number of tests blocked: %i\" % (no_blocked))\n",
    "test_blocked_percentage = (\n",
    "    (\n",
    "        blocked_tests_df.head(1000000).test_blocked.sum()\n",
    "        / blocked_tests_df.head(1000000).test.count()\n",
    "    )\n",
    ") * 100\n",
    "print(\"Tests blocked percentage: %f\" % (test_blocked_percentage))\n",
    "no_timed_out = timed_out_tests_df.head(1000000).test_timed_out.sum()\n",
    "print(\"Total number of timed out tests: %i\" % (no_timed_out))\n",
    "test_timed_out_percentage = (\n",
    "    (\n",
    "        timed_out_tests_df.head(1000000).test_timed_out.sum()\n",
    "        / timed_out_tests_df.head(1000000).test.count()\n",
    "    )\n",
    ") * 100\n",
    "print(\"Test timed out percentage: %f\" % (test_timed_out_percentage))"
   ]
  }
 ],
 "metadata": {
  "finalized": {
   "timestamp": 1612822647266,
   "trusted": true
  },
  "kernelspec": {
   "display_name": "Python 3",
   "language": "python",
   "name": "python3"
  },
  "language_info": {
   "codemirror_mode": {
    "name": "ipython",
    "version": 3
   },
   "file_extension": ".py",
   "mimetype": "text/x-python",
   "name": "python",
   "nbconvert_exporter": "python",
   "pygments_lexer": "ipython3",
   "version": "3.6.8"
  },
  "toc": {
   "base_numbering": 1,
   "nav_menu": {},
   "number_sections": true,
   "sideBar": true,
   "skip_h1_title": false,
   "title_cell": "Table of Contents",
   "title_sidebar": "Contents",
   "toc_cell": false,
   "toc_position": {},
   "toc_section_display": true,
   "toc_window_display": false
  }
 },
 "nbformat": 4,
 "nbformat_minor": 5
}
