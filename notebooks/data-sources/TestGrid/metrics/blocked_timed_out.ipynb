{
 "cells": [
  {
   "cell_type": "markdown",
   "id": "brown-check",
   "metadata": {},
   "source": [
    "# Tests Blocked or Timed Out\n",
    "\n",
    "This notebook is an extension to the [number_of_flakes](number_of_flakes.ipynb) notebook. In this notebook, the key perfomance indicators that we would like to create greater visbility into and track over time is the percent of tests that got blocked or were timed out. By observing the above metrics and tracking them wrt time, we will be able to quantify the efficiency of our testing platforms.\n",
    "\n",
    "* number and percent of tests blocked\n",
    "* number and percent of tests timed out"
   ]
  },
  {
   "cell_type": "code",
   "execution_count": 2,
   "id": "brilliant-expense",
   "metadata": {
    "ExecuteTime": {
     "end_time": "2021-03-24T16:44:12.972187Z",
     "start_time": "2021-03-24T16:44:12.389584Z"
    }
   },
   "outputs": [],
   "source": [
    "import gzip\n",
    "import json\n",
    "import os\n",
    "import sys\n",
    "import pandas as pd\n",
    "\n",
    "sys.path.append(\"../../..\")\n",
    "\n",
    "module_path_1 = os.path.abspath(os.path.join(\"../../../data-sources/TestGrid\"))\n",
    "if module_path_1 not in sys.path:\n",
    "    sys.path.append(module_path_1)\n",
    "\n",
    "from ipynb.fs.defs.number_of_flakes import (  # noqa: E402\n",
    "    testgrid_labelwise_encoding,\n",
    ")  # noqa: E402"
   ]
  },
  {
   "cell_type": "code",
   "execution_count": 3,
   "id": "boxed-enough",
   "metadata": {
    "ExecuteTime": {
     "end_time": "2021-03-24T16:44:27.621017Z",
     "start_time": "2021-03-24T16:44:12.974429Z"
    }
   },
   "outputs": [],
   "source": [
    "# Load test file\n",
    "with gzip.open(\"../../../../data/raw/testgrid_183.json.gz\", \"rb\") as read_file:\n",
    "    testgrid_data = json.load(read_file)"
   ]
  },
  {
   "cell_type": "code",
   "execution_count": 4,
   "id": "standard-parade",
   "metadata": {
    "ExecuteTime": {
     "end_time": "2021-03-24T16:44:55.758887Z",
     "start_time": "2021-03-24T16:44:27.623651Z"
    }
   },
   "outputs": [],
   "source": [
    "blocked_tests_list = testgrid_labelwise_encoding(testgrid_data, 8)[0:1000000]"
   ]
  },
  {
   "cell_type": "code",
   "execution_count": 5,
   "id": "worst-egypt",
   "metadata": {
    "ExecuteTime": {
     "end_time": "2021-03-24T16:44:55.765711Z",
     "start_time": "2021-03-24T16:44:55.761358Z"
    }
   },
   "outputs": [
    {
     "data": {
      "text/plain": [
       "1000000"
      ]
     },
     "execution_count": 5,
     "metadata": {},
     "output_type": "execute_result"
    }
   ],
   "source": [
    "len(blocked_tests_list)"
   ]
  },
  {
   "cell_type": "code",
   "execution_count": 6,
   "id": "burning-ecology",
   "metadata": {
    "ExecuteTime": {
     "end_time": "2021-03-24T16:44:55.775074Z",
     "start_time": "2021-03-24T16:44:55.767548Z"
    }
   },
   "outputs": [
    {
     "data": {
      "text/plain": [
       "(datetime.datetime(2021, 3, 15, 23, 40, 20),\n",
       " '\"redhat-assisted-installer\"',\n",
       " 'periodic-ci-openshift-release-master-nightly-4.6-e2e-metal-assisted',\n",
       " 'Overall',\n",
       " 80.28333333333333,\n",
       " False)"
      ]
     },
     "execution_count": 6,
     "metadata": {},
     "output_type": "execute_result"
    }
   ],
   "source": [
    "blocked_tests_list[0]"
   ]
  },
  {
   "cell_type": "code",
   "execution_count": 7,
   "id": "handled-metabolism",
   "metadata": {
    "ExecuteTime": {
     "end_time": "2021-03-24T16:44:56.327631Z",
     "start_time": "2021-03-24T16:44:55.777106Z"
    }
   },
   "outputs": [
    {
     "data": {
      "text/html": [
       "<div>\n",
       "<style scoped>\n",
       "    .dataframe tbody tr th:only-of-type {\n",
       "        vertical-align: middle;\n",
       "    }\n",
       "\n",
       "    .dataframe tbody tr th {\n",
       "        vertical-align: top;\n",
       "    }\n",
       "\n",
       "    .dataframe thead th {\n",
       "        text-align: right;\n",
       "    }\n",
       "</style>\n",
       "<table border=\"1\" class=\"dataframe\">\n",
       "  <thead>\n",
       "    <tr style=\"text-align: right;\">\n",
       "      <th></th>\n",
       "      <th>timestamp</th>\n",
       "      <th>tab</th>\n",
       "      <th>grid</th>\n",
       "      <th>test</th>\n",
       "      <th>test_duration</th>\n",
       "      <th>test_blocked</th>\n",
       "    </tr>\n",
       "  </thead>\n",
       "  <tbody>\n",
       "    <tr>\n",
       "      <th>0</th>\n",
       "      <td>2021-03-15 23:40:20</td>\n",
       "      <td>\"redhat-assisted-installer\"</td>\n",
       "      <td>periodic-ci-openshift-release-master-nightly-4...</td>\n",
       "      <td>Overall</td>\n",
       "      <td>80.283333</td>\n",
       "      <td>False</td>\n",
       "    </tr>\n",
       "    <tr>\n",
       "      <th>1</th>\n",
       "      <td>2021-03-15 00:01:06</td>\n",
       "      <td>\"redhat-assisted-installer\"</td>\n",
       "      <td>periodic-ci-openshift-release-master-nightly-4...</td>\n",
       "      <td>Overall</td>\n",
       "      <td>92.050000</td>\n",
       "      <td>False</td>\n",
       "    </tr>\n",
       "    <tr>\n",
       "      <th>2</th>\n",
       "      <td>2021-03-13 20:51:32</td>\n",
       "      <td>\"redhat-assisted-installer\"</td>\n",
       "      <td>periodic-ci-openshift-release-master-nightly-4...</td>\n",
       "      <td>Overall</td>\n",
       "      <td>80.983333</td>\n",
       "      <td>False</td>\n",
       "    </tr>\n",
       "    <tr>\n",
       "      <th>3</th>\n",
       "      <td>2021-03-13 07:51:20</td>\n",
       "      <td>\"redhat-assisted-installer\"</td>\n",
       "      <td>periodic-ci-openshift-release-master-nightly-4...</td>\n",
       "      <td>Overall</td>\n",
       "      <td>117.716667</td>\n",
       "      <td>False</td>\n",
       "    </tr>\n",
       "    <tr>\n",
       "      <th>4</th>\n",
       "      <td>2021-03-13 06:43:20</td>\n",
       "      <td>\"redhat-assisted-installer\"</td>\n",
       "      <td>periodic-ci-openshift-release-master-nightly-4...</td>\n",
       "      <td>Overall</td>\n",
       "      <td>108.633333</td>\n",
       "      <td>False</td>\n",
       "    </tr>\n",
       "  </tbody>\n",
       "</table>\n",
       "</div>"
      ],
      "text/plain": [
       "            timestamp                          tab  \\\n",
       "0 2021-03-15 23:40:20  \"redhat-assisted-installer\"   \n",
       "1 2021-03-15 00:01:06  \"redhat-assisted-installer\"   \n",
       "2 2021-03-13 20:51:32  \"redhat-assisted-installer\"   \n",
       "3 2021-03-13 07:51:20  \"redhat-assisted-installer\"   \n",
       "4 2021-03-13 06:43:20  \"redhat-assisted-installer\"   \n",
       "\n",
       "                                                grid     test  test_duration  \\\n",
       "0  periodic-ci-openshift-release-master-nightly-4...  Overall      80.283333   \n",
       "1  periodic-ci-openshift-release-master-nightly-4...  Overall      92.050000   \n",
       "2  periodic-ci-openshift-release-master-nightly-4...  Overall      80.983333   \n",
       "3  periodic-ci-openshift-release-master-nightly-4...  Overall     117.716667   \n",
       "4  periodic-ci-openshift-release-master-nightly-4...  Overall     108.633333   \n",
       "\n",
       "   test_blocked  \n",
       "0         False  \n",
       "1         False  \n",
       "2         False  \n",
       "3         False  \n",
       "4         False  "
      ]
     },
     "execution_count": 7,
     "metadata": {},
     "output_type": "execute_result"
    }
   ],
   "source": [
    "# Convert to dataframe\n",
    "blocked_tests_df = pd.DataFrame(\n",
    "    blocked_tests_list,\n",
    "    columns=[\"timestamp\", \"tab\", \"grid\", \"test\", \"test_duration\", \"test_blocked\"],\n",
    ")\n",
    "blocked_tests_df.head()"
   ]
  },
  {
   "cell_type": "code",
   "execution_count": 8,
   "id": "excessive-listening",
   "metadata": {
    "ExecuteTime": {
     "end_time": "2021-03-24T16:44:56.379022Z",
     "start_time": "2021-03-24T16:44:56.329724Z"
    }
   },
   "outputs": [],
   "source": [
    "# saving only the first 1000000 out of 19 million rows due to pvc limits.\n",
    "# 250mb = 1 million --> 4750 mb = 19 million\n",
    "blocked_tests_df.head(1000).to_csv(\n",
    "    \"../../../../data/processed/blocked_tests.csv\",\n",
    "    header=False,\n",
    ")"
   ]
  },
  {
   "cell_type": "code",
   "execution_count": 9,
   "id": "confident-simon",
   "metadata": {
    "ExecuteTime": {
     "end_time": "2021-03-24T16:45:26.742323Z",
     "start_time": "2021-03-24T16:44:56.382123Z"
    }
   },
   "outputs": [],
   "source": [
    "timed_out_tests_list = testgrid_labelwise_encoding(testgrid_data, 9)[0:1000000]"
   ]
  },
  {
   "cell_type": "code",
   "execution_count": 10,
   "id": "professional-territory",
   "metadata": {
    "ExecuteTime": {
     "end_time": "2021-03-24T16:45:27.269559Z",
     "start_time": "2021-03-24T16:45:26.744803Z"
    }
   },
   "outputs": [
    {
     "data": {
      "text/html": [
       "<div>\n",
       "<style scoped>\n",
       "    .dataframe tbody tr th:only-of-type {\n",
       "        vertical-align: middle;\n",
       "    }\n",
       "\n",
       "    .dataframe tbody tr th {\n",
       "        vertical-align: top;\n",
       "    }\n",
       "\n",
       "    .dataframe thead th {\n",
       "        text-align: right;\n",
       "    }\n",
       "</style>\n",
       "<table border=\"1\" class=\"dataframe\">\n",
       "  <thead>\n",
       "    <tr style=\"text-align: right;\">\n",
       "      <th></th>\n",
       "      <th>timestamp</th>\n",
       "      <th>tab</th>\n",
       "      <th>grid</th>\n",
       "      <th>test</th>\n",
       "      <th>test_duration</th>\n",
       "      <th>test_timed_out</th>\n",
       "    </tr>\n",
       "  </thead>\n",
       "  <tbody>\n",
       "    <tr>\n",
       "      <th>0</th>\n",
       "      <td>2021-03-15 23:40:20</td>\n",
       "      <td>\"redhat-assisted-installer\"</td>\n",
       "      <td>periodic-ci-openshift-release-master-nightly-4...</td>\n",
       "      <td>Overall</td>\n",
       "      <td>80.283333</td>\n",
       "      <td>False</td>\n",
       "    </tr>\n",
       "    <tr>\n",
       "      <th>1</th>\n",
       "      <td>2021-03-15 00:01:06</td>\n",
       "      <td>\"redhat-assisted-installer\"</td>\n",
       "      <td>periodic-ci-openshift-release-master-nightly-4...</td>\n",
       "      <td>Overall</td>\n",
       "      <td>92.050000</td>\n",
       "      <td>False</td>\n",
       "    </tr>\n",
       "    <tr>\n",
       "      <th>2</th>\n",
       "      <td>2021-03-13 20:51:32</td>\n",
       "      <td>\"redhat-assisted-installer\"</td>\n",
       "      <td>periodic-ci-openshift-release-master-nightly-4...</td>\n",
       "      <td>Overall</td>\n",
       "      <td>80.983333</td>\n",
       "      <td>False</td>\n",
       "    </tr>\n",
       "    <tr>\n",
       "      <th>3</th>\n",
       "      <td>2021-03-13 07:51:20</td>\n",
       "      <td>\"redhat-assisted-installer\"</td>\n",
       "      <td>periodic-ci-openshift-release-master-nightly-4...</td>\n",
       "      <td>Overall</td>\n",
       "      <td>117.716667</td>\n",
       "      <td>False</td>\n",
       "    </tr>\n",
       "    <tr>\n",
       "      <th>4</th>\n",
       "      <td>2021-03-13 06:43:20</td>\n",
       "      <td>\"redhat-assisted-installer\"</td>\n",
       "      <td>periodic-ci-openshift-release-master-nightly-4...</td>\n",
       "      <td>Overall</td>\n",
       "      <td>108.633333</td>\n",
       "      <td>False</td>\n",
       "    </tr>\n",
       "  </tbody>\n",
       "</table>\n",
       "</div>"
      ],
      "text/plain": [
       "            timestamp                          tab  \\\n",
       "0 2021-03-15 23:40:20  \"redhat-assisted-installer\"   \n",
       "1 2021-03-15 00:01:06  \"redhat-assisted-installer\"   \n",
       "2 2021-03-13 20:51:32  \"redhat-assisted-installer\"   \n",
       "3 2021-03-13 07:51:20  \"redhat-assisted-installer\"   \n",
       "4 2021-03-13 06:43:20  \"redhat-assisted-installer\"   \n",
       "\n",
       "                                                grid     test  test_duration  \\\n",
       "0  periodic-ci-openshift-release-master-nightly-4...  Overall      80.283333   \n",
       "1  periodic-ci-openshift-release-master-nightly-4...  Overall      92.050000   \n",
       "2  periodic-ci-openshift-release-master-nightly-4...  Overall      80.983333   \n",
       "3  periodic-ci-openshift-release-master-nightly-4...  Overall     117.716667   \n",
       "4  periodic-ci-openshift-release-master-nightly-4...  Overall     108.633333   \n",
       "\n",
       "   test_timed_out  \n",
       "0           False  \n",
       "1           False  \n",
       "2           False  \n",
       "3           False  \n",
       "4           False  "
      ]
     },
     "execution_count": 10,
     "metadata": {},
     "output_type": "execute_result"
    }
   ],
   "source": [
    "# Convert to dataframe\n",
    "timed_out_tests_df = pd.DataFrame(\n",
    "    timed_out_tests_list,\n",
    "    columns=[\"timestamp\", \"tab\", \"grid\", \"test\", \"test_duration\", \"test_timed_out\"],\n",
    ")\n",
    "timed_out_tests_df.head()"
   ]
  },
  {
   "cell_type": "code",
   "execution_count": 11,
   "id": "perfect-packing",
   "metadata": {
    "ExecuteTime": {
     "end_time": "2021-03-24T16:45:27.303854Z",
     "start_time": "2021-03-24T16:45:27.271449Z"
    }
   },
   "outputs": [],
   "source": [
    "# saving only the first 1000000 out of 19 million rows due to pvc limits.\n",
    "# 250mb = 1 million --> 4750 mb = 19 million\n",
    "timed_out_tests_df.head(1000).to_csv(\n",
    "    \"../../../../data/processed/timed_out_tests.csv\",\n",
    "    header=False,\n",
    ")"
   ]
  },
  {
   "cell_type": "code",
   "execution_count": 12,
   "id": "sublime-timing",
   "metadata": {
    "ExecuteTime": {
     "end_time": "2021-03-24T16:45:27.525281Z",
     "start_time": "2021-03-24T16:45:27.305868Z"
    }
   },
   "outputs": [
    {
     "name": "stdout",
     "output_type": "stream",
     "text": [
      "Total number of tests: 1000000\n",
      "Total number of tests blocked: 0\n",
      "Tests blocked percentage: 0.000000\n",
      "Total number of timed out tests: 0\n",
      "Test timed out percentage: 0.000000\n"
     ]
    }
   ],
   "source": [
    "# Metrics\n",
    "no_tests = blocked_tests_df.head(1000000).test.count()\n",
    "print(\"Total number of tests: %i\" % (no_tests))\n",
    "no_blocked = blocked_tests_df.head(1000000).test_blocked.sum()\n",
    "print(\"Total number of tests blocked: %i\" % (no_blocked))\n",
    "test_blocked_percentage = (\n",
    "    (\n",
    "        blocked_tests_df.head(1000000).test_blocked.sum()\n",
    "        / blocked_tests_df.head(1000000).test.count()\n",
    "    )\n",
    ") * 100\n",
    "print(\"Tests blocked percentage: %f\" % (test_blocked_percentage))\n",
    "no_timed_out = timed_out_tests_df.head(1000000).test_timed_out.sum()\n",
    "print(\"Total number of timed out tests: %i\" % (no_timed_out))\n",
    "test_timed_out_percentage = (\n",
    "    (\n",
    "        timed_out_tests_df.head(1000000).test_timed_out.sum()\n",
    "        / timed_out_tests_df.head(1000000).test.count()\n",
    "    )\n",
    ") * 100\n",
    "print(\"Test timed out percentage: %f\" % (test_timed_out_percentage))"
   ]
  }
 ],
 "metadata": {
  "finalized": {
   "timestamp": 1612822647266,
   "trusted": true
  },
  "kernelspec": {
   "display_name": "Python 3",
   "language": "python",
   "name": "python3"
  },
  "language_info": {
   "codemirror_mode": {
    "name": "ipython",
    "version": 3
   },
   "file_extension": ".py",
   "mimetype": "text/x-python",
   "name": "python",
   "nbconvert_exporter": "python",
   "pygments_lexer": "ipython3",
   "version": "3.6.8"
  },
  "toc": {
   "base_numbering": 1,
   "nav_menu": {},
   "number_sections": true,
   "sideBar": true,
   "skip_h1_title": false,
   "title_cell": "Table of Contents",
   "title_sidebar": "Contents",
   "toc_cell": false,
   "toc_position": {},
   "toc_section_display": true,
   "toc_window_display": false
  }
 },
 "nbformat": 4,
 "nbformat_minor": 5
}
