{
 "cells": [
  {
   "cell_type": "markdown",
   "id": "lined-blake",
   "metadata": {},
   "source": [
    "# Tests Blocked and Timed Out Tests\n",
    "\n",
    "This notebook is an extension to the [number_of_flakes](number_of_flakes.ipynb) notebook. In this notebook, the key perfomance indicators that we would like to create greater visbility into and track over time is the percent of tests that got blocked or were timed out. By observing the above metrics and tracking them wrt time, we will be able to quantify the efficiency of our testing platforms.\n",
    "\n",
    "* number and percent of tests blocked\n",
    "* number and percent of tests timed out\n",
    "\n",
    "Linked issue : [issue](https://github.com/aicoe-aiops/ocp-ci-analysis/issues/114)"
   ]
  },
  {
   "cell_type": "code",
   "execution_count": 1,
   "id": "several-judgment",
   "metadata": {
    "ExecuteTime": {
     "end_time": "2021-03-24T16:44:12.972187Z",
     "start_time": "2021-03-24T16:44:12.389584Z"
    }
   },
   "outputs": [
    {
     "data": {
      "text/plain": [
       "True"
      ]
     },
     "execution_count": 1,
     "metadata": {},
     "output_type": "execute_result"
    }
   ],
   "source": [
    "import gzip\n",
    "import json\n",
    "import os\n",
    "import pandas as pd\n",
    "import datetime\n",
    "\n",
    "from ipynb.fs.defs.metric_template import testgrid_labelwise_encoding\n",
    "from ipynb.fs.defs.metric_template import CephCommunication\n",
    "from ipynb.fs.defs.metric_template import save_to_disk, read_from_disk\n",
    "from dotenv import load_dotenv, find_dotenv\n",
    "\n",
    "load_dotenv(find_dotenv())"
   ]
  },
  {
   "cell_type": "code",
   "execution_count": 2,
   "id": "contemporary-intersection",
   "metadata": {},
   "outputs": [],
   "source": [
    "## Specify variables\n",
    "\n",
    "METRIC_NAME = \"blocked_timed_out\"\n",
    "\n",
    "# Specify the path for input grid data,\n",
    "INPUT_DATA_PATH = \"../../../../data/raw/testgrid_183.json.gz\"\n",
    "\n",
    "# Specify the path for output metric data\n",
    "OUTPUT_DATA_PATH = f\"../../../../data/processed/metrics/{METRIC_NAME}\"\n",
    "\n",
    "## CEPH Bucket variables\n",
    "## Create a .env file on your local with the correct configs,\n",
    "s3_endpoint_url = os.getenv(\"S3_ENDPOINT\")\n",
    "s3_access_key = os.getenv(\"S3_ACCESS_KEY\")\n",
    "s3_secret_key = os.getenv(\"S3_SECRET_KEY\")\n",
    "s3_bucket = os.getenv(\"S3_BUCKET\")\n",
    "s3_path = os.getenv(\"S3_PROJECT_KEY\", \"metrics\")\n",
    "s3_input_data_path = \"raw_data\"\n",
    "AUTOMATION = os.getenv(\"IN_AUTOMATION\")"
   ]
  },
  {
   "cell_type": "code",
   "execution_count": 3,
   "id": "prerequisite-familiar",
   "metadata": {},
   "outputs": [],
   "source": [
    "## Import data\n",
    "timestamp = datetime.datetime.today()\n",
    "\n",
    "if AUTOMATION:\n",
    "\n",
    "    filename = f\"testgrid_{timestamp.day}{timestamp.month}.json\"\n",
    "\n",
    "    cc = CephCommunication(s3_endpoint_url, s3_access_key, s3_secret_key, s3_bucket)\n",
    "    s3_object = cc.s3_resource.Object(s3_bucket, f\"{s3_input_data_path}/{filename}\")\n",
    "    file_content = s3_object.get()[\"Body\"].read().decode(\"utf-8\")\n",
    "    testgrid_data = json.loads(file_content)\n",
    "\n",
    "else:\n",
    "    with gzip.open(INPUT_DATA_PATH, \"rb\") as read_file:\n",
    "        testgrid_data = json.load(read_file)"
   ]
  },
  {
   "cell_type": "markdown",
   "id": "medieval-shield",
   "metadata": {
    "ExecuteTime": {
     "end_time": "2021-03-24T16:44:27.621017Z",
     "start_time": "2021-03-24T16:44:12.974429Z"
    }
   },
   "source": [
    "## Metric Calculation\n",
    "1. **Blocked Tests** : Finding all the tests that are blocked i.e. tests with the status code 8."
   ]
  },
  {
   "cell_type": "code",
   "execution_count": 4,
   "id": "constitutional-middle",
   "metadata": {
    "ExecuteTime": {
     "end_time": "2021-03-24T16:44:55.758887Z",
     "start_time": "2021-03-24T16:44:27.623651Z"
    }
   },
   "outputs": [],
   "source": [
    "blocked_tests_list = testgrid_labelwise_encoding(testgrid_data, 8)[0:1000000]"
   ]
  },
  {
   "cell_type": "code",
   "execution_count": 5,
   "id": "designing-fundamentals",
   "metadata": {
    "ExecuteTime": {
     "end_time": "2021-03-24T16:44:55.765711Z",
     "start_time": "2021-03-24T16:44:55.761358Z"
    }
   },
   "outputs": [
    {
     "data": {
      "text/plain": [
       "1000000"
      ]
     },
     "execution_count": 5,
     "metadata": {},
     "output_type": "execute_result"
    }
   ],
   "source": [
    "len(blocked_tests_list)"
   ]
  },
  {
   "cell_type": "code",
   "execution_count": 6,
   "id": "governmental-information",
   "metadata": {
    "ExecuteTime": {
     "end_time": "2021-03-24T16:44:55.775074Z",
     "start_time": "2021-03-24T16:44:55.767548Z"
    }
   },
   "outputs": [
    {
     "data": {
      "text/plain": [
       "(datetime.datetime(2021, 4, 14, 16, 12, 4),\n",
       " '\"redhat-assisted-installer\"',\n",
       " 'periodic-ci-openshift-release-master-nightly-4.6-e2e-metal-assisted',\n",
       " 'Overall',\n",
       " 105.58333333333333,\n",
       " False)"
      ]
     },
     "execution_count": 6,
     "metadata": {},
     "output_type": "execute_result"
    }
   ],
   "source": [
    "blocked_tests_list[0]"
   ]
  },
  {
   "cell_type": "code",
   "execution_count": 7,
   "id": "comparative-settle",
   "metadata": {
    "ExecuteTime": {
     "end_time": "2021-03-24T16:44:56.327631Z",
     "start_time": "2021-03-24T16:44:55.777106Z"
    }
   },
   "outputs": [
    {
     "data": {
      "text/html": [
       "<div>\n",
       "<style scoped>\n",
       "    .dataframe tbody tr th:only-of-type {\n",
       "        vertical-align: middle;\n",
       "    }\n",
       "\n",
       "    .dataframe tbody tr th {\n",
       "        vertical-align: top;\n",
       "    }\n",
       "\n",
       "    .dataframe thead th {\n",
       "        text-align: right;\n",
       "    }\n",
       "</style>\n",
       "<table border=\"1\" class=\"dataframe\">\n",
       "  <thead>\n",
       "    <tr style=\"text-align: right;\">\n",
       "      <th></th>\n",
       "      <th>timestamp</th>\n",
       "      <th>tab</th>\n",
       "      <th>grid</th>\n",
       "      <th>test</th>\n",
       "      <th>test_duration</th>\n",
       "      <th>test_blocked</th>\n",
       "    </tr>\n",
       "  </thead>\n",
       "  <tbody>\n",
       "    <tr>\n",
       "      <th>0</th>\n",
       "      <td>2021-04-14 16:12:04</td>\n",
       "      <td>\"redhat-assisted-installer\"</td>\n",
       "      <td>periodic-ci-openshift-release-master-nightly-4...</td>\n",
       "      <td>Overall</td>\n",
       "      <td>105.583333</td>\n",
       "      <td>False</td>\n",
       "    </tr>\n",
       "    <tr>\n",
       "      <th>1</th>\n",
       "      <td>2021-04-14 15:05:09</td>\n",
       "      <td>\"redhat-assisted-installer\"</td>\n",
       "      <td>periodic-ci-openshift-release-master-nightly-4...</td>\n",
       "      <td>Overall</td>\n",
       "      <td>87.216667</td>\n",
       "      <td>False</td>\n",
       "    </tr>\n",
       "    <tr>\n",
       "      <th>2</th>\n",
       "      <td>2021-04-14 13:13:36</td>\n",
       "      <td>\"redhat-assisted-installer\"</td>\n",
       "      <td>periodic-ci-openshift-release-master-nightly-4...</td>\n",
       "      <td>Overall</td>\n",
       "      <td>99.100000</td>\n",
       "      <td>False</td>\n",
       "    </tr>\n",
       "    <tr>\n",
       "      <th>3</th>\n",
       "      <td>2021-04-14 02:02:46</td>\n",
       "      <td>\"redhat-assisted-installer\"</td>\n",
       "      <td>periodic-ci-openshift-release-master-nightly-4...</td>\n",
       "      <td>Overall</td>\n",
       "      <td>107.316667</td>\n",
       "      <td>False</td>\n",
       "    </tr>\n",
       "    <tr>\n",
       "      <th>4</th>\n",
       "      <td>2021-04-13 19:12:42</td>\n",
       "      <td>\"redhat-assisted-installer\"</td>\n",
       "      <td>periodic-ci-openshift-release-master-nightly-4...</td>\n",
       "      <td>Overall</td>\n",
       "      <td>85.583333</td>\n",
       "      <td>False</td>\n",
       "    </tr>\n",
       "  </tbody>\n",
       "</table>\n",
       "</div>"
      ],
      "text/plain": [
       "            timestamp                          tab  \\\n",
       "0 2021-04-14 16:12:04  \"redhat-assisted-installer\"   \n",
       "1 2021-04-14 15:05:09  \"redhat-assisted-installer\"   \n",
       "2 2021-04-14 13:13:36  \"redhat-assisted-installer\"   \n",
       "3 2021-04-14 02:02:46  \"redhat-assisted-installer\"   \n",
       "4 2021-04-13 19:12:42  \"redhat-assisted-installer\"   \n",
       "\n",
       "                                                grid     test  test_duration  \\\n",
       "0  periodic-ci-openshift-release-master-nightly-4...  Overall     105.583333   \n",
       "1  periodic-ci-openshift-release-master-nightly-4...  Overall      87.216667   \n",
       "2  periodic-ci-openshift-release-master-nightly-4...  Overall      99.100000   \n",
       "3  periodic-ci-openshift-release-master-nightly-4...  Overall     107.316667   \n",
       "4  periodic-ci-openshift-release-master-nightly-4...  Overall      85.583333   \n",
       "\n",
       "   test_blocked  \n",
       "0         False  \n",
       "1         False  \n",
       "2         False  \n",
       "3         False  \n",
       "4         False  "
      ]
     },
     "execution_count": 7,
     "metadata": {},
     "output_type": "execute_result"
    }
   ],
   "source": [
    "# Convert to dataframe\n",
    "blocked_tests_df = pd.DataFrame(\n",
    "    blocked_tests_list,\n",
    "    columns=[\"timestamp\", \"tab\", \"grid\", \"test\", \"test_duration\", \"test_blocked\"],\n",
    ")\n",
    "blocked_tests_df.head()"
   ]
  },
  {
   "cell_type": "markdown",
   "id": "intermediate-gravity",
   "metadata": {},
   "source": [
    "* **Timed Out Tests** : Finding all the tests that are timed out i.e. tests with the status code 9."
   ]
  },
  {
   "cell_type": "code",
   "execution_count": 8,
   "id": "stock-pontiac",
   "metadata": {
    "ExecuteTime": {
     "end_time": "2021-03-24T16:45:26.742323Z",
     "start_time": "2021-03-24T16:44:56.382123Z"
    }
   },
   "outputs": [],
   "source": [
    "timed_out_tests_list = testgrid_labelwise_encoding(testgrid_data, 9)[0:1000000]"
   ]
  },
  {
   "cell_type": "code",
   "execution_count": 9,
   "id": "coordinate-corps",
   "metadata": {},
   "outputs": [
    {
     "data": {
      "text/plain": [
       "1000000"
      ]
     },
     "execution_count": 9,
     "metadata": {},
     "output_type": "execute_result"
    }
   ],
   "source": [
    "len(timed_out_tests_list)"
   ]
  },
  {
   "cell_type": "code",
   "execution_count": 10,
   "id": "occupied-proof",
   "metadata": {},
   "outputs": [
    {
     "data": {
      "text/plain": [
       "(datetime.datetime(2021, 4, 14, 16, 12, 4),\n",
       " '\"redhat-assisted-installer\"',\n",
       " 'periodic-ci-openshift-release-master-nightly-4.6-e2e-metal-assisted',\n",
       " 'Overall',\n",
       " 105.58333333333333,\n",
       " False)"
      ]
     },
     "execution_count": 10,
     "metadata": {},
     "output_type": "execute_result"
    }
   ],
   "source": [
    "timed_out_tests_list[0]"
   ]
  },
  {
   "cell_type": "code",
   "execution_count": 11,
   "id": "desirable-masters",
   "metadata": {
    "ExecuteTime": {
     "end_time": "2021-03-24T16:45:27.269559Z",
     "start_time": "2021-03-24T16:45:26.744803Z"
    }
   },
   "outputs": [
    {
     "data": {
      "text/html": [
       "<div>\n",
       "<style scoped>\n",
       "    .dataframe tbody tr th:only-of-type {\n",
       "        vertical-align: middle;\n",
       "    }\n",
       "\n",
       "    .dataframe tbody tr th {\n",
       "        vertical-align: top;\n",
       "    }\n",
       "\n",
       "    .dataframe thead th {\n",
       "        text-align: right;\n",
       "    }\n",
       "</style>\n",
       "<table border=\"1\" class=\"dataframe\">\n",
       "  <thead>\n",
       "    <tr style=\"text-align: right;\">\n",
       "      <th></th>\n",
       "      <th>timestamp</th>\n",
       "      <th>tab</th>\n",
       "      <th>grid</th>\n",
       "      <th>test</th>\n",
       "      <th>test_duration</th>\n",
       "      <th>test_timed_out</th>\n",
       "    </tr>\n",
       "  </thead>\n",
       "  <tbody>\n",
       "    <tr>\n",
       "      <th>0</th>\n",
       "      <td>2021-04-14 16:12:04</td>\n",
       "      <td>\"redhat-assisted-installer\"</td>\n",
       "      <td>periodic-ci-openshift-release-master-nightly-4...</td>\n",
       "      <td>Overall</td>\n",
       "      <td>105.583333</td>\n",
       "      <td>False</td>\n",
       "    </tr>\n",
       "    <tr>\n",
       "      <th>1</th>\n",
       "      <td>2021-04-14 15:05:09</td>\n",
       "      <td>\"redhat-assisted-installer\"</td>\n",
       "      <td>periodic-ci-openshift-release-master-nightly-4...</td>\n",
       "      <td>Overall</td>\n",
       "      <td>87.216667</td>\n",
       "      <td>False</td>\n",
       "    </tr>\n",
       "    <tr>\n",
       "      <th>2</th>\n",
       "      <td>2021-04-14 13:13:36</td>\n",
       "      <td>\"redhat-assisted-installer\"</td>\n",
       "      <td>periodic-ci-openshift-release-master-nightly-4...</td>\n",
       "      <td>Overall</td>\n",
       "      <td>99.100000</td>\n",
       "      <td>False</td>\n",
       "    </tr>\n",
       "    <tr>\n",
       "      <th>3</th>\n",
       "      <td>2021-04-14 02:02:46</td>\n",
       "      <td>\"redhat-assisted-installer\"</td>\n",
       "      <td>periodic-ci-openshift-release-master-nightly-4...</td>\n",
       "      <td>Overall</td>\n",
       "      <td>107.316667</td>\n",
       "      <td>False</td>\n",
       "    </tr>\n",
       "    <tr>\n",
       "      <th>4</th>\n",
       "      <td>2021-04-13 19:12:42</td>\n",
       "      <td>\"redhat-assisted-installer\"</td>\n",
       "      <td>periodic-ci-openshift-release-master-nightly-4...</td>\n",
       "      <td>Overall</td>\n",
       "      <td>85.583333</td>\n",
       "      <td>False</td>\n",
       "    </tr>\n",
       "  </tbody>\n",
       "</table>\n",
       "</div>"
      ],
      "text/plain": [
       "            timestamp                          tab  \\\n",
       "0 2021-04-14 16:12:04  \"redhat-assisted-installer\"   \n",
       "1 2021-04-14 15:05:09  \"redhat-assisted-installer\"   \n",
       "2 2021-04-14 13:13:36  \"redhat-assisted-installer\"   \n",
       "3 2021-04-14 02:02:46  \"redhat-assisted-installer\"   \n",
       "4 2021-04-13 19:12:42  \"redhat-assisted-installer\"   \n",
       "\n",
       "                                                grid     test  test_duration  \\\n",
       "0  periodic-ci-openshift-release-master-nightly-4...  Overall     105.583333   \n",
       "1  periodic-ci-openshift-release-master-nightly-4...  Overall      87.216667   \n",
       "2  periodic-ci-openshift-release-master-nightly-4...  Overall      99.100000   \n",
       "3  periodic-ci-openshift-release-master-nightly-4...  Overall     107.316667   \n",
       "4  periodic-ci-openshift-release-master-nightly-4...  Overall      85.583333   \n",
       "\n",
       "   test_timed_out  \n",
       "0           False  \n",
       "1           False  \n",
       "2           False  \n",
       "3           False  \n",
       "4           False  "
      ]
     },
     "execution_count": 11,
     "metadata": {},
     "output_type": "execute_result"
    }
   ],
   "source": [
    "# Convert to dataframe\n",
    "timed_out_tests_df = pd.DataFrame(\n",
    "    timed_out_tests_list,\n",
    "    columns=[\"timestamp\", \"tab\", \"grid\", \"test\", \"test_duration\", \"test_timed_out\"],\n",
    ")\n",
    "timed_out_tests_df.head()"
   ]
  },
  {
   "cell_type": "code",
   "execution_count": 12,
   "id": "funny-going",
   "metadata": {
    "ExecuteTime": {
     "end_time": "2021-03-24T16:45:27.525281Z",
     "start_time": "2021-03-24T16:45:27.305868Z"
    }
   },
   "outputs": [
    {
     "name": "stdout",
     "output_type": "stream",
     "text": [
      "Total number of tests: 1000000\n",
      "Total number of tests blocked: 0\n",
      "Tests blocked percentage: 0.000000\n",
      "Total number of timed out tests: 0\n",
      "Test timed out percentage: 0.000000\n"
     ]
    }
   ],
   "source": [
    "no_tests = blocked_tests_df.test.count()\n",
    "print(\"Total number of tests: %i\" % (no_tests))\n",
    "no_blocked = blocked_tests_df.test_blocked.sum()\n",
    "print(\"Total number of tests blocked: %i\" % (no_blocked))\n",
    "test_blocked_percentage = (\n",
    "    (blocked_tests_df.test_blocked.sum() / blocked_tests_df.test.count())\n",
    ") * 100\n",
    "print(\"Tests blocked percentage: %f\" % (test_blocked_percentage))\n",
    "no_timed_out = timed_out_tests_df.test_timed_out.sum()\n",
    "print(\"Total number of timed out tests: %i\" % (no_timed_out))\n",
    "test_timed_out_percentage = (\n",
    "    (timed_out_tests_df.test_timed_out.sum() / timed_out_tests_df.test.count())\n",
    ") * 100\n",
    "print(\"Test timed out percentage: %f\" % (test_timed_out_percentage))"
   ]
  },
  {
   "cell_type": "code",
   "execution_count": 13,
   "id": "rubber-bedroom",
   "metadata": {},
   "outputs": [],
   "source": [
    "combined = pd.merge(\n",
    "    blocked_tests_df,\n",
    "    timed_out_tests_df,\n",
    "    on=[\"timestamp\", \"tab\", \"grid\", \"test\", \"test_duration\"],\n",
    ")"
   ]
  },
  {
   "cell_type": "code",
   "execution_count": 14,
   "id": "ahead-spread",
   "metadata": {},
   "outputs": [
    {
     "data": {
      "text/html": [
       "<div>\n",
       "<style scoped>\n",
       "    .dataframe tbody tr th:only-of-type {\n",
       "        vertical-align: middle;\n",
       "    }\n",
       "\n",
       "    .dataframe tbody tr th {\n",
       "        vertical-align: top;\n",
       "    }\n",
       "\n",
       "    .dataframe thead th {\n",
       "        text-align: right;\n",
       "    }\n",
       "</style>\n",
       "<table border=\"1\" class=\"dataframe\">\n",
       "  <thead>\n",
       "    <tr style=\"text-align: right;\">\n",
       "      <th></th>\n",
       "      <th>timestamp</th>\n",
       "      <th>tab</th>\n",
       "      <th>grid</th>\n",
       "      <th>test</th>\n",
       "      <th>test_blocked</th>\n",
       "      <th>test_timed_out</th>\n",
       "    </tr>\n",
       "  </thead>\n",
       "  <tbody>\n",
       "    <tr>\n",
       "      <th>0</th>\n",
       "      <td>2021-04-14 16:12:04</td>\n",
       "      <td>\"redhat-assisted-installer\"</td>\n",
       "      <td>periodic-ci-openshift-release-master-nightly-4...</td>\n",
       "      <td>Overall</td>\n",
       "      <td>False</td>\n",
       "      <td>False</td>\n",
       "    </tr>\n",
       "    <tr>\n",
       "      <th>1</th>\n",
       "      <td>2021-04-14 15:05:09</td>\n",
       "      <td>\"redhat-assisted-installer\"</td>\n",
       "      <td>periodic-ci-openshift-release-master-nightly-4...</td>\n",
       "      <td>Overall</td>\n",
       "      <td>False</td>\n",
       "      <td>False</td>\n",
       "    </tr>\n",
       "    <tr>\n",
       "      <th>2</th>\n",
       "      <td>2021-04-14 13:13:36</td>\n",
       "      <td>\"redhat-assisted-installer\"</td>\n",
       "      <td>periodic-ci-openshift-release-master-nightly-4...</td>\n",
       "      <td>Overall</td>\n",
       "      <td>False</td>\n",
       "      <td>False</td>\n",
       "    </tr>\n",
       "    <tr>\n",
       "      <th>3</th>\n",
       "      <td>2021-04-14 02:02:46</td>\n",
       "      <td>\"redhat-assisted-installer\"</td>\n",
       "      <td>periodic-ci-openshift-release-master-nightly-4...</td>\n",
       "      <td>Overall</td>\n",
       "      <td>False</td>\n",
       "      <td>False</td>\n",
       "    </tr>\n",
       "    <tr>\n",
       "      <th>4</th>\n",
       "      <td>2021-04-13 19:12:42</td>\n",
       "      <td>\"redhat-assisted-installer\"</td>\n",
       "      <td>periodic-ci-openshift-release-master-nightly-4...</td>\n",
       "      <td>Overall</td>\n",
       "      <td>False</td>\n",
       "      <td>False</td>\n",
       "    </tr>\n",
       "  </tbody>\n",
       "</table>\n",
       "</div>"
      ],
      "text/plain": [
       "            timestamp                          tab  \\\n",
       "0 2021-04-14 16:12:04  \"redhat-assisted-installer\"   \n",
       "1 2021-04-14 15:05:09  \"redhat-assisted-installer\"   \n",
       "2 2021-04-14 13:13:36  \"redhat-assisted-installer\"   \n",
       "3 2021-04-14 02:02:46  \"redhat-assisted-installer\"   \n",
       "4 2021-04-13 19:12:42  \"redhat-assisted-installer\"   \n",
       "\n",
       "                                                grid     test  test_blocked  \\\n",
       "0  periodic-ci-openshift-release-master-nightly-4...  Overall         False   \n",
       "1  periodic-ci-openshift-release-master-nightly-4...  Overall         False   \n",
       "2  periodic-ci-openshift-release-master-nightly-4...  Overall         False   \n",
       "3  periodic-ci-openshift-release-master-nightly-4...  Overall         False   \n",
       "4  periodic-ci-openshift-release-master-nightly-4...  Overall         False   \n",
       "\n",
       "   test_timed_out  \n",
       "0           False  \n",
       "1           False  \n",
       "2           False  \n",
       "3           False  \n",
       "4           False  "
      ]
     },
     "execution_count": 14,
     "metadata": {},
     "output_type": "execute_result"
    }
   ],
   "source": [
    "combined.drop(columns=\"test_duration\", inplace=True)\n",
    "combined.head()"
   ]
  },
  {
   "cell_type": "markdown",
   "id": "simplified-migration",
   "metadata": {},
   "source": [
    "## Save to Ceph or Local"
   ]
  },
  {
   "cell_type": "code",
   "execution_count": 15,
   "id": "major-string",
   "metadata": {},
   "outputs": [],
   "source": [
    "if AUTOMATION:\n",
    "    cc = CephCommunication(s3_endpoint_url, s3_access_key, s3_secret_key, s3_bucket)\n",
    "    cc.upload_to_ceph(\n",
    "        combined,\n",
    "        s3_path,\n",
    "        f\"{METRIC_NAME}/{METRIC_NAME}-{timestamp.year}-{timestamp.month}-{timestamp.day}.parquet\",\n",
    "    )\n",
    "else:\n",
    "    save_to_disk(\n",
    "        combined,\n",
    "        OUTPUT_DATA_PATH,\n",
    "        f\"{METRIC_NAME}-{timestamp.year}-{timestamp.month}-{timestamp.day}.parquet\",\n",
    "    )"
   ]
  },
  {
   "cell_type": "code",
   "execution_count": 16,
   "id": "found-carol",
   "metadata": {},
   "outputs": [
    {
     "data": {
      "text/html": [
       "<div>\n",
       "<style scoped>\n",
       "    .dataframe tbody tr th:only-of-type {\n",
       "        vertical-align: middle;\n",
       "    }\n",
       "\n",
       "    .dataframe tbody tr th {\n",
       "        vertical-align: top;\n",
       "    }\n",
       "\n",
       "    .dataframe thead th {\n",
       "        text-align: right;\n",
       "    }\n",
       "</style>\n",
       "<table border=\"1\" class=\"dataframe\">\n",
       "  <thead>\n",
       "    <tr style=\"text-align: right;\">\n",
       "      <th></th>\n",
       "      <th>timestamp</th>\n",
       "      <th>tab</th>\n",
       "      <th>grid</th>\n",
       "      <th>test</th>\n",
       "      <th>test_blocked</th>\n",
       "      <th>test_timed_out</th>\n",
       "    </tr>\n",
       "  </thead>\n",
       "  <tbody>\n",
       "    <tr>\n",
       "      <th>0</th>\n",
       "      <td>2021-04-14 16:12:04</td>\n",
       "      <td>\"redhat-assisted-installer\"</td>\n",
       "      <td>periodic-ci-openshift-release-master-nightly-4...</td>\n",
       "      <td>Overall</td>\n",
       "      <td>False</td>\n",
       "      <td>False</td>\n",
       "    </tr>\n",
       "    <tr>\n",
       "      <th>1</th>\n",
       "      <td>2021-04-14 15:05:09</td>\n",
       "      <td>\"redhat-assisted-installer\"</td>\n",
       "      <td>periodic-ci-openshift-release-master-nightly-4...</td>\n",
       "      <td>Overall</td>\n",
       "      <td>False</td>\n",
       "      <td>False</td>\n",
       "    </tr>\n",
       "    <tr>\n",
       "      <th>2</th>\n",
       "      <td>2021-04-14 13:13:36</td>\n",
       "      <td>\"redhat-assisted-installer\"</td>\n",
       "      <td>periodic-ci-openshift-release-master-nightly-4...</td>\n",
       "      <td>Overall</td>\n",
       "      <td>False</td>\n",
       "      <td>False</td>\n",
       "    </tr>\n",
       "    <tr>\n",
       "      <th>3</th>\n",
       "      <td>2021-04-14 02:02:46</td>\n",
       "      <td>\"redhat-assisted-installer\"</td>\n",
       "      <td>periodic-ci-openshift-release-master-nightly-4...</td>\n",
       "      <td>Overall</td>\n",
       "      <td>False</td>\n",
       "      <td>False</td>\n",
       "    </tr>\n",
       "    <tr>\n",
       "      <th>4</th>\n",
       "      <td>2021-04-13 19:12:42</td>\n",
       "      <td>\"redhat-assisted-installer\"</td>\n",
       "      <td>periodic-ci-openshift-release-master-nightly-4...</td>\n",
       "      <td>Overall</td>\n",
       "      <td>False</td>\n",
       "      <td>False</td>\n",
       "    </tr>\n",
       "    <tr>\n",
       "      <th>...</th>\n",
       "      <td>...</td>\n",
       "      <td>...</td>\n",
       "      <td>...</td>\n",
       "      <td>...</td>\n",
       "      <td>...</td>\n",
       "      <td>...</td>\n",
       "    </tr>\n",
       "    <tr>\n",
       "      <th>1006309</th>\n",
       "      <td>2021-04-06 16:12:14</td>\n",
       "      <td>\"redhat-openshift-informing\"</td>\n",
       "      <td>release-openshift-origin-installer-launch-gcp</td>\n",
       "      <td>openshift-tests.[sig-storage] In-tree Volumes ...</td>\n",
       "      <td>False</td>\n",
       "      <td>False</td>\n",
       "    </tr>\n",
       "    <tr>\n",
       "      <th>1006310</th>\n",
       "      <td>2021-04-06 16:10:03</td>\n",
       "      <td>\"redhat-openshift-informing\"</td>\n",
       "      <td>release-openshift-origin-installer-launch-gcp</td>\n",
       "      <td>openshift-tests.[sig-storage] In-tree Volumes ...</td>\n",
       "      <td>False</td>\n",
       "      <td>False</td>\n",
       "    </tr>\n",
       "    <tr>\n",
       "      <th>1006311</th>\n",
       "      <td>2021-04-06 15:59:57</td>\n",
       "      <td>\"redhat-openshift-informing\"</td>\n",
       "      <td>release-openshift-origin-installer-launch-gcp</td>\n",
       "      <td>openshift-tests.[sig-storage] In-tree Volumes ...</td>\n",
       "      <td>False</td>\n",
       "      <td>False</td>\n",
       "    </tr>\n",
       "    <tr>\n",
       "      <th>1006312</th>\n",
       "      <td>2021-04-06 15:52:16</td>\n",
       "      <td>\"redhat-openshift-informing\"</td>\n",
       "      <td>release-openshift-origin-installer-launch-gcp</td>\n",
       "      <td>openshift-tests.[sig-storage] In-tree Volumes ...</td>\n",
       "      <td>False</td>\n",
       "      <td>False</td>\n",
       "    </tr>\n",
       "    <tr>\n",
       "      <th>1006313</th>\n",
       "      <td>2021-04-06 15:50:41</td>\n",
       "      <td>\"redhat-openshift-informing\"</td>\n",
       "      <td>release-openshift-origin-installer-launch-gcp</td>\n",
       "      <td>openshift-tests.[sig-storage] In-tree Volumes ...</td>\n",
       "      <td>False</td>\n",
       "      <td>False</td>\n",
       "    </tr>\n",
       "  </tbody>\n",
       "</table>\n",
       "<p>1006314 rows × 6 columns</p>\n",
       "</div>"
      ],
      "text/plain": [
       "                  timestamp                           tab  \\\n",
       "0       2021-04-14 16:12:04   \"redhat-assisted-installer\"   \n",
       "1       2021-04-14 15:05:09   \"redhat-assisted-installer\"   \n",
       "2       2021-04-14 13:13:36   \"redhat-assisted-installer\"   \n",
       "3       2021-04-14 02:02:46   \"redhat-assisted-installer\"   \n",
       "4       2021-04-13 19:12:42   \"redhat-assisted-installer\"   \n",
       "...                     ...                           ...   \n",
       "1006309 2021-04-06 16:12:14  \"redhat-openshift-informing\"   \n",
       "1006310 2021-04-06 16:10:03  \"redhat-openshift-informing\"   \n",
       "1006311 2021-04-06 15:59:57  \"redhat-openshift-informing\"   \n",
       "1006312 2021-04-06 15:52:16  \"redhat-openshift-informing\"   \n",
       "1006313 2021-04-06 15:50:41  \"redhat-openshift-informing\"   \n",
       "\n",
       "                                                      grid  \\\n",
       "0        periodic-ci-openshift-release-master-nightly-4...   \n",
       "1        periodic-ci-openshift-release-master-nightly-4...   \n",
       "2        periodic-ci-openshift-release-master-nightly-4...   \n",
       "3        periodic-ci-openshift-release-master-nightly-4...   \n",
       "4        periodic-ci-openshift-release-master-nightly-4...   \n",
       "...                                                    ...   \n",
       "1006309      release-openshift-origin-installer-launch-gcp   \n",
       "1006310      release-openshift-origin-installer-launch-gcp   \n",
       "1006311      release-openshift-origin-installer-launch-gcp   \n",
       "1006312      release-openshift-origin-installer-launch-gcp   \n",
       "1006313      release-openshift-origin-installer-launch-gcp   \n",
       "\n",
       "                                                      test  test_blocked  \\\n",
       "0                                                  Overall         False   \n",
       "1                                                  Overall         False   \n",
       "2                                                  Overall         False   \n",
       "3                                                  Overall         False   \n",
       "4                                                  Overall         False   \n",
       "...                                                    ...           ...   \n",
       "1006309  openshift-tests.[sig-storage] In-tree Volumes ...         False   \n",
       "1006310  openshift-tests.[sig-storage] In-tree Volumes ...         False   \n",
       "1006311  openshift-tests.[sig-storage] In-tree Volumes ...         False   \n",
       "1006312  openshift-tests.[sig-storage] In-tree Volumes ...         False   \n",
       "1006313  openshift-tests.[sig-storage] In-tree Volumes ...         False   \n",
       "\n",
       "         test_timed_out  \n",
       "0                 False  \n",
       "1                 False  \n",
       "2                 False  \n",
       "3                 False  \n",
       "4                 False  \n",
       "...                 ...  \n",
       "1006309           False  \n",
       "1006310           False  \n",
       "1006311           False  \n",
       "1006312           False  \n",
       "1006313           False  \n",
       "\n",
       "[1006314 rows x 6 columns]"
      ]
     },
     "execution_count": 16,
     "metadata": {},
     "output_type": "execute_result"
    }
   ],
   "source": [
    "## Sanity check to see if the dataset is the same\n",
    "if AUTOMATION:\n",
    "    sanity_check = cc.read_from_ceph(\n",
    "        s3_path,\n",
    "        f\"{METRIC_NAME}/{METRIC_NAME}-{timestamp.year}-{timestamp.month}-{timestamp.day}.parquet\",\n",
    "    )\n",
    "else:\n",
    "    sanity_check = read_from_disk(\n",
    "        OUTPUT_DATA_PATH,\n",
    "        f\"{METRIC_NAME}-{timestamp.year}-{timestamp.month}-{timestamp.day}.parquet\",\n",
    "    )\n",
    "\n",
    "sanity_check"
   ]
  },
  {
   "cell_type": "markdown",
   "id": "matched-testament",
   "metadata": {},
   "source": [
    "## Conclusion :\n",
    "\n",
    "This notebook computed number of timed out tests and blocked tests. The combined dataframe is then saved on ceph and can be used to generate views and visualizations."
   ]
  }
 ],
 "metadata": {
  "finalized": {
   "timestamp": 1612822647266,
   "trusted": true
  },
  "kernelspec": {
   "display_name": "Python 3",
   "language": "python",
   "name": "python3"
  },
  "language_info": {
   "codemirror_mode": {
    "name": "ipython",
    "version": 3
   },
   "file_extension": ".py",
   "mimetype": "text/x-python",
   "name": "python",
   "nbconvert_exporter": "python",
   "pygments_lexer": "ipython3",
   "version": "3.8.3"
  },
  "toc": {
   "base_numbering": 1,
   "nav_menu": {},
   "number_sections": true,
   "sideBar": true,
   "skip_h1_title": false,
   "title_cell": "Table of Contents",
   "title_sidebar": "Contents",
   "toc_cell": false,
   "toc_position": {},
   "toc_section_display": true,
   "toc_window_display": false
  }
 },
 "nbformat": 4,
 "nbformat_minor": 5
}
