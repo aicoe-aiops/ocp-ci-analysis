{
 "cells": [
  {
   "cell_type": "markdown",
   "id": "transsexual-smile",
   "metadata": {},
   "source": [
    "# Quantify Builds\n",
    "\n",
    "In this notebook, the key perfomance indicators that we would like to create greater visbility into and track over time is the percent of builds that passed/failed. This can be used to capture the build success rate ie. number of successful builds / deployments relative to the total number of builds / deployments.\n",
    "\n",
    "* number and percent of builds passed and failed\n",
    "* plot of build pass and failure over time"
   ]
  },
  {
   "cell_type": "code",
   "execution_count": 20,
   "id": "global-afghanistan",
   "metadata": {
    "ExecuteTime": {
     "end_time": "2021-03-18T16:30:23.180307Z",
     "start_time": "2021-03-18T16:30:23.173817Z"
    }
   },
   "outputs": [],
   "source": [
    "import gzip\n",
    "import json\n",
    "import os\n",
    "import sys\n",
    "import pandas as pd\n",
    "import matplotlib.pyplot as plt\n",
    "import seaborn as sns\n",
    "\n",
    "sys.path.append(\"../../..\")\n",
    "\n",
    "module_path_1 = os.path.abspath(os.path.join(\"../../../data-sources/TestGrid\"))\n",
    "if module_path_1 not in sys.path:\n",
    "    sys.path.append(module_path_1)\n",
    "\n",
    "from ipynb.fs.defs.number_of_flakes import (  # noqa: E402\n",
    "    testgrid_labelwise_encoding,\n",
    ")  # noqa: E402"
   ]
  },
  {
   "cell_type": "code",
   "execution_count": 21,
   "id": "moved-france",
   "metadata": {
    "ExecuteTime": {
     "end_time": "2021-03-18T16:30:31.200927Z",
     "start_time": "2021-03-18T16:30:24.128277Z"
    }
   },
   "outputs": [],
   "source": [
    "# Load test file\n",
    "with gzip.open(\"../../../../data/raw/testgrid_810.json.gz\", \"rb\") as read_file:\n",
    "    testgrid_data = json.load(read_file)"
   ]
  },
  {
   "cell_type": "code",
   "execution_count": 22,
   "id": "injured-appliance",
   "metadata": {
    "ExecuteTime": {
     "end_time": "2021-03-18T16:30:51.478504Z",
     "start_time": "2021-03-18T16:30:32.082552Z"
    }
   },
   "outputs": [],
   "source": [
    "build_failures_list = testgrid_labelwise_encoding(testgrid_data, 12)"
   ]
  },
  {
   "cell_type": "code",
   "execution_count": 23,
   "id": "monetary-adolescent",
   "metadata": {
    "ExecuteTime": {
     "end_time": "2021-03-18T16:30:51.486077Z",
     "start_time": "2021-03-18T16:30:51.481411Z"
    }
   },
   "outputs": [
    {
     "data": {
      "text/plain": [
       "19483548"
      ]
     },
     "execution_count": 23,
     "metadata": {},
     "output_type": "execute_result"
    }
   ],
   "source": [
    "len(build_failures_list)"
   ]
  },
  {
   "cell_type": "code",
   "execution_count": 24,
   "id": "intended-visibility",
   "metadata": {
    "ExecuteTime": {
     "end_time": "2021-03-18T16:30:51.501715Z",
     "start_time": "2021-03-18T16:30:51.488800Z"
    }
   },
   "outputs": [
    {
     "data": {
      "text/plain": [
       "(datetime.datetime(2020, 10, 8, 20, 48, 5),\n",
       " '\"redhat-openshift-informing\"',\n",
       " 'release-openshift-okd-installer-e2e-aws-upgrade',\n",
       " 'Application behind service load balancer with PDB is not disrupted',\n",
       " False)"
      ]
     },
     "execution_count": 24,
     "metadata": {},
     "output_type": "execute_result"
    }
   ],
   "source": [
    "build_failures_list[0]"
   ]
  },
  {
   "cell_type": "code",
   "execution_count": 25,
   "id": "colonial-directory",
   "metadata": {
    "ExecuteTime": {
     "end_time": "2021-03-18T16:31:00.127169Z",
     "start_time": "2021-03-18T16:30:51.503799Z"
    }
   },
   "outputs": [
    {
     "data": {
      "text/html": [
       "<div>\n",
       "<style scoped>\n",
       "    .dataframe tbody tr th:only-of-type {\n",
       "        vertical-align: middle;\n",
       "    }\n",
       "\n",
       "    .dataframe tbody tr th {\n",
       "        vertical-align: top;\n",
       "    }\n",
       "\n",
       "    .dataframe thead th {\n",
       "        text-align: right;\n",
       "    }\n",
       "</style>\n",
       "<table border=\"1\" class=\"dataframe\">\n",
       "  <thead>\n",
       "    <tr style=\"text-align: right;\">\n",
       "      <th></th>\n",
       "      <th>timestamp</th>\n",
       "      <th>tab</th>\n",
       "      <th>job</th>\n",
       "      <th>test</th>\n",
       "      <th>build_failure</th>\n",
       "    </tr>\n",
       "  </thead>\n",
       "  <tbody>\n",
       "    <tr>\n",
       "      <th>0</th>\n",
       "      <td>2020-10-08 20:48:05</td>\n",
       "      <td>\"redhat-openshift-informing\"</td>\n",
       "      <td>release-openshift-okd-installer-e2e-aws-upgrade</td>\n",
       "      <td>Application behind service load balancer with ...</td>\n",
       "      <td>False</td>\n",
       "    </tr>\n",
       "    <tr>\n",
       "      <th>1</th>\n",
       "      <td>2020-10-08 19:12:01</td>\n",
       "      <td>\"redhat-openshift-informing\"</td>\n",
       "      <td>release-openshift-okd-installer-e2e-aws-upgrade</td>\n",
       "      <td>Application behind service load balancer with ...</td>\n",
       "      <td>True</td>\n",
       "    </tr>\n",
       "    <tr>\n",
       "      <th>2</th>\n",
       "      <td>2020-10-08 14:18:13</td>\n",
       "      <td>\"redhat-openshift-informing\"</td>\n",
       "      <td>release-openshift-okd-installer-e2e-aws-upgrade</td>\n",
       "      <td>Application behind service load balancer with ...</td>\n",
       "      <td>False</td>\n",
       "    </tr>\n",
       "    <tr>\n",
       "      <th>3</th>\n",
       "      <td>2020-10-08 11:15:28</td>\n",
       "      <td>\"redhat-openshift-informing\"</td>\n",
       "      <td>release-openshift-okd-installer-e2e-aws-upgrade</td>\n",
       "      <td>Application behind service load balancer with ...</td>\n",
       "      <td>False</td>\n",
       "    </tr>\n",
       "    <tr>\n",
       "      <th>4</th>\n",
       "      <td>2020-10-08 08:27:53</td>\n",
       "      <td>\"redhat-openshift-informing\"</td>\n",
       "      <td>release-openshift-okd-installer-e2e-aws-upgrade</td>\n",
       "      <td>Application behind service load balancer with ...</td>\n",
       "      <td>False</td>\n",
       "    </tr>\n",
       "  </tbody>\n",
       "</table>\n",
       "</div>"
      ],
      "text/plain": [
       "            timestamp                           tab  \\\n",
       "0 2020-10-08 20:48:05  \"redhat-openshift-informing\"   \n",
       "1 2020-10-08 19:12:01  \"redhat-openshift-informing\"   \n",
       "2 2020-10-08 14:18:13  \"redhat-openshift-informing\"   \n",
       "3 2020-10-08 11:15:28  \"redhat-openshift-informing\"   \n",
       "4 2020-10-08 08:27:53  \"redhat-openshift-informing\"   \n",
       "\n",
       "                                               job  \\\n",
       "0  release-openshift-okd-installer-e2e-aws-upgrade   \n",
       "1  release-openshift-okd-installer-e2e-aws-upgrade   \n",
       "2  release-openshift-okd-installer-e2e-aws-upgrade   \n",
       "3  release-openshift-okd-installer-e2e-aws-upgrade   \n",
       "4  release-openshift-okd-installer-e2e-aws-upgrade   \n",
       "\n",
       "                                                test  build_failure  \n",
       "0  Application behind service load balancer with ...          False  \n",
       "1  Application behind service load balancer with ...           True  \n",
       "2  Application behind service load balancer with ...          False  \n",
       "3  Application behind service load balancer with ...          False  \n",
       "4  Application behind service load balancer with ...          False  "
      ]
     },
     "execution_count": 25,
     "metadata": {},
     "output_type": "execute_result"
    }
   ],
   "source": [
    "# Convert to dataframe\n",
    "build_failures_df = pd.DataFrame(\n",
    "    build_failures_list, columns=[\"timestamp\", \"tab\", \"job\", \"test\", \"build_failure\"]\n",
    ")\n",
    "build_failures_df.head()"
   ]
  },
  {
   "cell_type": "code",
   "execution_count": 26,
   "id": "egyptian-understanding",
   "metadata": {
    "ExecuteTime": {
     "end_time": "2021-03-18T16:31:01.387304Z",
     "start_time": "2021-03-18T16:31:00.129150Z"
    }
   },
   "outputs": [],
   "source": [
    "build_failures_df = build_failures_df.loc[build_failures_df['test'] == \"Overall\"]"
   ]
  },
  {
   "cell_type": "code",
   "execution_count": 27,
   "id": "intensive-chorus",
   "metadata": {
    "ExecuteTime": {
     "end_time": "2021-03-18T16:31:01.402932Z",
     "start_time": "2021-03-18T16:31:01.389662Z"
    }
   },
   "outputs": [
    {
     "data": {
      "text/html": [
       "<div>\n",
       "<style scoped>\n",
       "    .dataframe tbody tr th:only-of-type {\n",
       "        vertical-align: middle;\n",
       "    }\n",
       "\n",
       "    .dataframe tbody tr th {\n",
       "        vertical-align: top;\n",
       "    }\n",
       "\n",
       "    .dataframe thead th {\n",
       "        text-align: right;\n",
       "    }\n",
       "</style>\n",
       "<table border=\"1\" class=\"dataframe\">\n",
       "  <thead>\n",
       "    <tr style=\"text-align: right;\">\n",
       "      <th></th>\n",
       "      <th>timestamp</th>\n",
       "      <th>tab</th>\n",
       "      <th>job</th>\n",
       "      <th>test</th>\n",
       "      <th>build_failure</th>\n",
       "    </tr>\n",
       "  </thead>\n",
       "  <tbody>\n",
       "    <tr>\n",
       "      <th>590</th>\n",
       "      <td>2020-10-08 20:48:05</td>\n",
       "      <td>\"redhat-openshift-informing\"</td>\n",
       "      <td>release-openshift-okd-installer-e2e-aws-upgrade</td>\n",
       "      <td>Overall</td>\n",
       "      <td>False</td>\n",
       "    </tr>\n",
       "    <tr>\n",
       "      <th>591</th>\n",
       "      <td>2020-10-08 19:12:01</td>\n",
       "      <td>\"redhat-openshift-informing\"</td>\n",
       "      <td>release-openshift-okd-installer-e2e-aws-upgrade</td>\n",
       "      <td>Overall</td>\n",
       "      <td>False</td>\n",
       "    </tr>\n",
       "    <tr>\n",
       "      <th>592</th>\n",
       "      <td>2020-10-08 14:18:13</td>\n",
       "      <td>\"redhat-openshift-informing\"</td>\n",
       "      <td>release-openshift-okd-installer-e2e-aws-upgrade</td>\n",
       "      <td>Overall</td>\n",
       "      <td>False</td>\n",
       "    </tr>\n",
       "    <tr>\n",
       "      <th>593</th>\n",
       "      <td>2020-10-08 11:15:28</td>\n",
       "      <td>\"redhat-openshift-informing\"</td>\n",
       "      <td>release-openshift-okd-installer-e2e-aws-upgrade</td>\n",
       "      <td>Overall</td>\n",
       "      <td>False</td>\n",
       "    </tr>\n",
       "    <tr>\n",
       "      <th>594</th>\n",
       "      <td>2020-10-08 08:27:53</td>\n",
       "      <td>\"redhat-openshift-informing\"</td>\n",
       "      <td>release-openshift-okd-installer-e2e-aws-upgrade</td>\n",
       "      <td>Overall</td>\n",
       "      <td>False</td>\n",
       "    </tr>\n",
       "  </tbody>\n",
       "</table>\n",
       "</div>"
      ],
      "text/plain": [
       "              timestamp                           tab  \\\n",
       "590 2020-10-08 20:48:05  \"redhat-openshift-informing\"   \n",
       "591 2020-10-08 19:12:01  \"redhat-openshift-informing\"   \n",
       "592 2020-10-08 14:18:13  \"redhat-openshift-informing\"   \n",
       "593 2020-10-08 11:15:28  \"redhat-openshift-informing\"   \n",
       "594 2020-10-08 08:27:53  \"redhat-openshift-informing\"   \n",
       "\n",
       "                                                 job     test  build_failure  \n",
       "590  release-openshift-okd-installer-e2e-aws-upgrade  Overall          False  \n",
       "591  release-openshift-okd-installer-e2e-aws-upgrade  Overall          False  \n",
       "592  release-openshift-okd-installer-e2e-aws-upgrade  Overall          False  \n",
       "593  release-openshift-okd-installer-e2e-aws-upgrade  Overall          False  \n",
       "594  release-openshift-okd-installer-e2e-aws-upgrade  Overall          False  "
      ]
     },
     "execution_count": 27,
     "metadata": {},
     "output_type": "execute_result"
    }
   ],
   "source": [
    "build_failures_df.head()"
   ]
  },
  {
   "cell_type": "code",
   "execution_count": 28,
   "id": "respiratory-humor",
   "metadata": {
    "ExecuteTime": {
     "end_time": "2021-03-18T16:31:01.647668Z",
     "start_time": "2021-03-18T16:31:01.405890Z"
    }
   },
   "outputs": [],
   "source": [
    "# saving only the first 1000000 out of 19 million rows due to pvc limits.\n",
    "# 250mb = 1 million --> 4750 mb = 19 million\n",
    "build_failures_df.to_csv(\n",
    "    \"../../../../data/processed/build_failures.csv\",\n",
    "    header=False,\n",
    ")"
   ]
  },
  {
   "cell_type": "code",
   "execution_count": 29,
   "id": "verified-likelihood",
   "metadata": {
    "ExecuteTime": {
     "end_time": "2021-03-18T16:31:22.363880Z",
     "start_time": "2021-03-18T16:31:01.650260Z"
    }
   },
   "outputs": [],
   "source": [
    "build_passing_list = testgrid_labelwise_encoding(testgrid_data, 1)"
   ]
  },
  {
   "cell_type": "code",
   "execution_count": 30,
   "id": "herbal-subject",
   "metadata": {
    "ExecuteTime": {
     "end_time": "2021-03-18T16:31:30.948513Z",
     "start_time": "2021-03-18T16:31:22.366958Z"
    }
   },
   "outputs": [
    {
     "data": {
      "text/html": [
       "<div>\n",
       "<style scoped>\n",
       "    .dataframe tbody tr th:only-of-type {\n",
       "        vertical-align: middle;\n",
       "    }\n",
       "\n",
       "    .dataframe tbody tr th {\n",
       "        vertical-align: top;\n",
       "    }\n",
       "\n",
       "    .dataframe thead th {\n",
       "        text-align: right;\n",
       "    }\n",
       "</style>\n",
       "<table border=\"1\" class=\"dataframe\">\n",
       "  <thead>\n",
       "    <tr style=\"text-align: right;\">\n",
       "      <th></th>\n",
       "      <th>timestamp</th>\n",
       "      <th>tab</th>\n",
       "      <th>job</th>\n",
       "      <th>test</th>\n",
       "      <th>build_passing</th>\n",
       "    </tr>\n",
       "  </thead>\n",
       "  <tbody>\n",
       "    <tr>\n",
       "      <th>0</th>\n",
       "      <td>2020-10-08 20:48:05</td>\n",
       "      <td>\"redhat-openshift-informing\"</td>\n",
       "      <td>release-openshift-okd-installer-e2e-aws-upgrade</td>\n",
       "      <td>Application behind service load balancer with ...</td>\n",
       "      <td>False</td>\n",
       "    </tr>\n",
       "    <tr>\n",
       "      <th>1</th>\n",
       "      <td>2020-10-08 19:12:01</td>\n",
       "      <td>\"redhat-openshift-informing\"</td>\n",
       "      <td>release-openshift-okd-installer-e2e-aws-upgrade</td>\n",
       "      <td>Application behind service load balancer with ...</td>\n",
       "      <td>False</td>\n",
       "    </tr>\n",
       "    <tr>\n",
       "      <th>2</th>\n",
       "      <td>2020-10-08 14:18:13</td>\n",
       "      <td>\"redhat-openshift-informing\"</td>\n",
       "      <td>release-openshift-okd-installer-e2e-aws-upgrade</td>\n",
       "      <td>Application behind service load balancer with ...</td>\n",
       "      <td>False</td>\n",
       "    </tr>\n",
       "    <tr>\n",
       "      <th>3</th>\n",
       "      <td>2020-10-08 11:15:28</td>\n",
       "      <td>\"redhat-openshift-informing\"</td>\n",
       "      <td>release-openshift-okd-installer-e2e-aws-upgrade</td>\n",
       "      <td>Application behind service load balancer with ...</td>\n",
       "      <td>False</td>\n",
       "    </tr>\n",
       "    <tr>\n",
       "      <th>4</th>\n",
       "      <td>2020-10-08 08:27:53</td>\n",
       "      <td>\"redhat-openshift-informing\"</td>\n",
       "      <td>release-openshift-okd-installer-e2e-aws-upgrade</td>\n",
       "      <td>Application behind service load balancer with ...</td>\n",
       "      <td>False</td>\n",
       "    </tr>\n",
       "  </tbody>\n",
       "</table>\n",
       "</div>"
      ],
      "text/plain": [
       "            timestamp                           tab  \\\n",
       "0 2020-10-08 20:48:05  \"redhat-openshift-informing\"   \n",
       "1 2020-10-08 19:12:01  \"redhat-openshift-informing\"   \n",
       "2 2020-10-08 14:18:13  \"redhat-openshift-informing\"   \n",
       "3 2020-10-08 11:15:28  \"redhat-openshift-informing\"   \n",
       "4 2020-10-08 08:27:53  \"redhat-openshift-informing\"   \n",
       "\n",
       "                                               job  \\\n",
       "0  release-openshift-okd-installer-e2e-aws-upgrade   \n",
       "1  release-openshift-okd-installer-e2e-aws-upgrade   \n",
       "2  release-openshift-okd-installer-e2e-aws-upgrade   \n",
       "3  release-openshift-okd-installer-e2e-aws-upgrade   \n",
       "4  release-openshift-okd-installer-e2e-aws-upgrade   \n",
       "\n",
       "                                                test  build_passing  \n",
       "0  Application behind service load balancer with ...          False  \n",
       "1  Application behind service load balancer with ...          False  \n",
       "2  Application behind service load balancer with ...          False  \n",
       "3  Application behind service load balancer with ...          False  \n",
       "4  Application behind service load balancer with ...          False  "
      ]
     },
     "execution_count": 30,
     "metadata": {},
     "output_type": "execute_result"
    }
   ],
   "source": [
    "# Convert to dataframe\n",
    "build_passing_df = pd.DataFrame(\n",
    "    build_passing_list, columns=[\"timestamp\", \"tab\", \"job\", \"test\", \"build_passing\"]\n",
    ")\n",
    "build_passing_df.head()"
   ]
  },
  {
   "cell_type": "code",
   "execution_count": 31,
   "id": "variable-citizenship",
   "metadata": {
    "ExecuteTime": {
     "end_time": "2021-03-18T16:31:32.165018Z",
     "start_time": "2021-03-18T16:31:30.950983Z"
    }
   },
   "outputs": [],
   "source": [
    "build_passing_df = build_passing_df.loc[build_passing_df['test'] == \"Overall\"]"
   ]
  },
  {
   "cell_type": "code",
   "execution_count": 32,
   "id": "fossil-receipt",
   "metadata": {
    "ExecuteTime": {
     "end_time": "2021-03-18T16:31:32.183635Z",
     "start_time": "2021-03-18T16:31:32.167240Z"
    }
   },
   "outputs": [
    {
     "data": {
      "text/html": [
       "<div>\n",
       "<style scoped>\n",
       "    .dataframe tbody tr th:only-of-type {\n",
       "        vertical-align: middle;\n",
       "    }\n",
       "\n",
       "    .dataframe tbody tr th {\n",
       "        vertical-align: top;\n",
       "    }\n",
       "\n",
       "    .dataframe thead th {\n",
       "        text-align: right;\n",
       "    }\n",
       "</style>\n",
       "<table border=\"1\" class=\"dataframe\">\n",
       "  <thead>\n",
       "    <tr style=\"text-align: right;\">\n",
       "      <th></th>\n",
       "      <th>timestamp</th>\n",
       "      <th>tab</th>\n",
       "      <th>job</th>\n",
       "      <th>test</th>\n",
       "      <th>build_passing</th>\n",
       "    </tr>\n",
       "  </thead>\n",
       "  <tbody>\n",
       "    <tr>\n",
       "      <th>590</th>\n",
       "      <td>2020-10-08 20:48:05</td>\n",
       "      <td>\"redhat-openshift-informing\"</td>\n",
       "      <td>release-openshift-okd-installer-e2e-aws-upgrade</td>\n",
       "      <td>Overall</td>\n",
       "      <td>False</td>\n",
       "    </tr>\n",
       "    <tr>\n",
       "      <th>591</th>\n",
       "      <td>2020-10-08 19:12:01</td>\n",
       "      <td>\"redhat-openshift-informing\"</td>\n",
       "      <td>release-openshift-okd-installer-e2e-aws-upgrade</td>\n",
       "      <td>Overall</td>\n",
       "      <td>True</td>\n",
       "    </tr>\n",
       "    <tr>\n",
       "      <th>592</th>\n",
       "      <td>2020-10-08 14:18:13</td>\n",
       "      <td>\"redhat-openshift-informing\"</td>\n",
       "      <td>release-openshift-okd-installer-e2e-aws-upgrade</td>\n",
       "      <td>Overall</td>\n",
       "      <td>False</td>\n",
       "    </tr>\n",
       "    <tr>\n",
       "      <th>593</th>\n",
       "      <td>2020-10-08 11:15:28</td>\n",
       "      <td>\"redhat-openshift-informing\"</td>\n",
       "      <td>release-openshift-okd-installer-e2e-aws-upgrade</td>\n",
       "      <td>Overall</td>\n",
       "      <td>False</td>\n",
       "    </tr>\n",
       "    <tr>\n",
       "      <th>594</th>\n",
       "      <td>2020-10-08 08:27:53</td>\n",
       "      <td>\"redhat-openshift-informing\"</td>\n",
       "      <td>release-openshift-okd-installer-e2e-aws-upgrade</td>\n",
       "      <td>Overall</td>\n",
       "      <td>False</td>\n",
       "    </tr>\n",
       "  </tbody>\n",
       "</table>\n",
       "</div>"
      ],
      "text/plain": [
       "              timestamp                           tab  \\\n",
       "590 2020-10-08 20:48:05  \"redhat-openshift-informing\"   \n",
       "591 2020-10-08 19:12:01  \"redhat-openshift-informing\"   \n",
       "592 2020-10-08 14:18:13  \"redhat-openshift-informing\"   \n",
       "593 2020-10-08 11:15:28  \"redhat-openshift-informing\"   \n",
       "594 2020-10-08 08:27:53  \"redhat-openshift-informing\"   \n",
       "\n",
       "                                                 job     test  build_passing  \n",
       "590  release-openshift-okd-installer-e2e-aws-upgrade  Overall          False  \n",
       "591  release-openshift-okd-installer-e2e-aws-upgrade  Overall           True  \n",
       "592  release-openshift-okd-installer-e2e-aws-upgrade  Overall          False  \n",
       "593  release-openshift-okd-installer-e2e-aws-upgrade  Overall          False  \n",
       "594  release-openshift-okd-installer-e2e-aws-upgrade  Overall          False  "
      ]
     },
     "execution_count": 32,
     "metadata": {},
     "output_type": "execute_result"
    }
   ],
   "source": [
    "build_passing_df.head()"
   ]
  },
  {
   "cell_type": "code",
   "execution_count": 33,
   "id": "helpful-modern",
   "metadata": {
    "ExecuteTime": {
     "end_time": "2021-03-18T16:31:32.463925Z",
     "start_time": "2021-03-18T16:31:32.186140Z"
    }
   },
   "outputs": [],
   "source": [
    "# saving only the first 1000000 out of 19 million rows due to pvc limits.\n",
    "# 250mb = 1 million --> 4750 mb = 19 million\n",
    "build_passing_df.to_csv(\n",
    "    \"../../../../data/processed/build_pass.csv\",\n",
    "    header=False,\n",
    ")"
   ]
  },
  {
   "cell_type": "markdown",
   "id": "pretty-athletics",
   "metadata": {},
   "source": [
    "## Number and percent of builds passed and failed"
   ]
  },
  {
   "cell_type": "code",
   "execution_count": 34,
   "id": "proud-latvia",
   "metadata": {
    "ExecuteTime": {
     "end_time": "2021-03-18T16:31:35.950915Z",
     "start_time": "2021-03-18T16:31:35.929594Z"
    }
   },
   "outputs": [
    {
     "name": "stdout",
     "output_type": "stream",
     "text": [
      "Total number of Builds: 32734\n",
      "Total number of failing builds: 13928\n",
      "Build failure percentage: 42.549032\n",
      "Total number of passing builds: 13449\n",
      "Build pass percentage: 41.085721\n"
     ]
    }
   ],
   "source": [
    "# Metrics\n",
    "no_tests = build_passing_df.test.count()\n",
    "print(\"Total number of Builds: %i\" % (no_tests))\n",
    "no_failures = build_failures_df.build_failure.sum()\n",
    "print(\"Total number of failing builds: %i\" % (no_failures))\n",
    "build_failures_percentage = (\n",
    "    (\n",
    "        build_failures_df.build_failure.sum()\n",
    "        / build_failures_df.test.count()\n",
    "    )\n",
    ") * 100\n",
    "print(\"Build failure percentage: %f\" % (build_failures_percentage))\n",
    "no_pass = build_passing_df.build_passing.sum()\n",
    "print(\"Total number of passing builds: %i\" % (no_pass))\n",
    "build_pass_percentage = (\n",
    "    (\n",
    "        build_passing_df.build_passing.sum()\n",
    "        / build_passing_df.test.count()\n",
    "    )\n",
    ") * 100\n",
    "print(\"Build pass percentage: %f\" % (build_pass_percentage))"
   ]
  },
  {
   "cell_type": "markdown",
   "id": "lasting-terrorism",
   "metadata": {},
   "source": [
    "## Plot of build pass and failure over time"
   ]
  },
  {
   "cell_type": "code",
   "execution_count": 35,
   "id": "seventh-norman",
   "metadata": {
    "ExecuteTime": {
     "end_time": "2021-03-18T16:31:39.162850Z",
     "start_time": "2021-03-18T16:31:39.156204Z"
    }
   },
   "outputs": [],
   "source": [
    "def plot_builds_tab_grid(tab, job, df):\n",
    "    \n",
    "    \"\"\"\n",
    "    Takes in input as tab and grid and plots change in \n",
    "    build pass/fail over time\n",
    "    \"\"\"\n",
    "    \n",
    "    df = df[(df[\"tab\"] == tab) | (df[\"job\"] == job)]\n",
    "    \n",
    "    sns.set(rc={\"figure.figsize\": (15, 5)})\n",
    "    sns.lineplot(x=\"timestamp\", y=\"build_status\", data=df)\n",
    "    plt.xlabel(\"Timestamps\")\n",
    "    plt.ylabel(\"Build Pass or Fail\")\n",
    "    plt.title(\"Change in Build Pass or Failure over time\")\n",
    "    plt.show()"
   ]
  },
  {
   "cell_type": "code",
   "execution_count": 36,
   "id": "requested-north",
   "metadata": {
    "ExecuteTime": {
     "end_time": "2021-03-18T16:31:40.607250Z",
     "start_time": "2021-03-18T16:31:40.575479Z"
    }
   },
   "outputs": [],
   "source": [
    "combined = pd.merge(build_failures_df,build_passing_df,on=['timestamp', 'tab', 'job', 'test'])"
   ]
  },
  {
   "cell_type": "code",
   "execution_count": 37,
   "id": "guided-change",
   "metadata": {
    "ExecuteTime": {
     "end_time": "2021-03-18T16:31:41.883166Z",
     "start_time": "2021-03-18T16:31:41.449823Z"
    }
   },
   "outputs": [
    {
     "data": {
      "text/html": [
       "<div>\n",
       "<style scoped>\n",
       "    .dataframe tbody tr th:only-of-type {\n",
       "        vertical-align: middle;\n",
       "    }\n",
       "\n",
       "    .dataframe tbody tr th {\n",
       "        vertical-align: top;\n",
       "    }\n",
       "\n",
       "    .dataframe thead th {\n",
       "        text-align: right;\n",
       "    }\n",
       "</style>\n",
       "<table border=\"1\" class=\"dataframe\">\n",
       "  <thead>\n",
       "    <tr style=\"text-align: right;\">\n",
       "      <th></th>\n",
       "      <th>timestamp</th>\n",
       "      <th>tab</th>\n",
       "      <th>job</th>\n",
       "      <th>test</th>\n",
       "      <th>build_failure</th>\n",
       "      <th>build_passing</th>\n",
       "    </tr>\n",
       "  </thead>\n",
       "  <tbody>\n",
       "    <tr>\n",
       "      <th>0</th>\n",
       "      <td>2020-10-08 20:48:05</td>\n",
       "      <td>\"redhat-openshift-informing\"</td>\n",
       "      <td>release-openshift-okd-installer-e2e-aws-upgrade</td>\n",
       "      <td>Overall</td>\n",
       "      <td>False</td>\n",
       "      <td>False</td>\n",
       "    </tr>\n",
       "    <tr>\n",
       "      <th>1</th>\n",
       "      <td>2020-10-08 19:12:01</td>\n",
       "      <td>\"redhat-openshift-informing\"</td>\n",
       "      <td>release-openshift-okd-installer-e2e-aws-upgrade</td>\n",
       "      <td>Overall</td>\n",
       "      <td>False</td>\n",
       "      <td>True</td>\n",
       "    </tr>\n",
       "    <tr>\n",
       "      <th>2</th>\n",
       "      <td>2020-10-08 14:18:13</td>\n",
       "      <td>\"redhat-openshift-informing\"</td>\n",
       "      <td>release-openshift-okd-installer-e2e-aws-upgrade</td>\n",
       "      <td>Overall</td>\n",
       "      <td>False</td>\n",
       "      <td>False</td>\n",
       "    </tr>\n",
       "    <tr>\n",
       "      <th>3</th>\n",
       "      <td>2020-10-08 11:15:28</td>\n",
       "      <td>\"redhat-openshift-informing\"</td>\n",
       "      <td>release-openshift-okd-installer-e2e-aws-upgrade</td>\n",
       "      <td>Overall</td>\n",
       "      <td>False</td>\n",
       "      <td>False</td>\n",
       "    </tr>\n",
       "    <tr>\n",
       "      <th>4</th>\n",
       "      <td>2020-10-08 08:27:53</td>\n",
       "      <td>\"redhat-openshift-informing\"</td>\n",
       "      <td>release-openshift-okd-installer-e2e-aws-upgrade</td>\n",
       "      <td>Overall</td>\n",
       "      <td>False</td>\n",
       "      <td>False</td>\n",
       "    </tr>\n",
       "    <tr>\n",
       "      <th>...</th>\n",
       "      <td>...</td>\n",
       "      <td>...</td>\n",
       "      <td>...</td>\n",
       "      <td>...</td>\n",
       "      <td>...</td>\n",
       "      <td>...</td>\n",
       "    </tr>\n",
       "    <tr>\n",
       "      <th>32871</th>\n",
       "      <td>2020-09-25 08:01:10</td>\n",
       "      <td>\"redhat-osde2e-stage-moa\"</td>\n",
       "      <td>osde2e-stage-moa-e2e-upgrade-default-next</td>\n",
       "      <td>Overall</td>\n",
       "      <td>False</td>\n",
       "      <td>True</td>\n",
       "    </tr>\n",
       "    <tr>\n",
       "      <th>32872</th>\n",
       "      <td>2020-09-25 00:01:27</td>\n",
       "      <td>\"redhat-osde2e-stage-moa\"</td>\n",
       "      <td>osde2e-stage-moa-e2e-upgrade-default-next</td>\n",
       "      <td>Overall</td>\n",
       "      <td>False</td>\n",
       "      <td>True</td>\n",
       "    </tr>\n",
       "    <tr>\n",
       "      <th>32873</th>\n",
       "      <td>2020-09-24 16:00:30</td>\n",
       "      <td>\"redhat-osde2e-stage-moa\"</td>\n",
       "      <td>osde2e-stage-moa-e2e-upgrade-default-next</td>\n",
       "      <td>Overall</td>\n",
       "      <td>False</td>\n",
       "      <td>True</td>\n",
       "    </tr>\n",
       "    <tr>\n",
       "      <th>32874</th>\n",
       "      <td>2020-09-24 08:00:46</td>\n",
       "      <td>\"redhat-osde2e-stage-moa\"</td>\n",
       "      <td>osde2e-stage-moa-e2e-upgrade-default-next</td>\n",
       "      <td>Overall</td>\n",
       "      <td>False</td>\n",
       "      <td>True</td>\n",
       "    </tr>\n",
       "    <tr>\n",
       "      <th>32875</th>\n",
       "      <td>2020-09-24 00:02:12</td>\n",
       "      <td>\"redhat-osde2e-stage-moa\"</td>\n",
       "      <td>osde2e-stage-moa-e2e-upgrade-default-next</td>\n",
       "      <td>Overall</td>\n",
       "      <td>False</td>\n",
       "      <td>True</td>\n",
       "    </tr>\n",
       "  </tbody>\n",
       "</table>\n",
       "<p>32876 rows × 6 columns</p>\n",
       "</div>"
      ],
      "text/plain": [
       "                timestamp                           tab  \\\n",
       "0     2020-10-08 20:48:05  \"redhat-openshift-informing\"   \n",
       "1     2020-10-08 19:12:01  \"redhat-openshift-informing\"   \n",
       "2     2020-10-08 14:18:13  \"redhat-openshift-informing\"   \n",
       "3     2020-10-08 11:15:28  \"redhat-openshift-informing\"   \n",
       "4     2020-10-08 08:27:53  \"redhat-openshift-informing\"   \n",
       "...                   ...                           ...   \n",
       "32871 2020-09-25 08:01:10     \"redhat-osde2e-stage-moa\"   \n",
       "32872 2020-09-25 00:01:27     \"redhat-osde2e-stage-moa\"   \n",
       "32873 2020-09-24 16:00:30     \"redhat-osde2e-stage-moa\"   \n",
       "32874 2020-09-24 08:00:46     \"redhat-osde2e-stage-moa\"   \n",
       "32875 2020-09-24 00:02:12     \"redhat-osde2e-stage-moa\"   \n",
       "\n",
       "                                                   job     test  \\\n",
       "0      release-openshift-okd-installer-e2e-aws-upgrade  Overall   \n",
       "1      release-openshift-okd-installer-e2e-aws-upgrade  Overall   \n",
       "2      release-openshift-okd-installer-e2e-aws-upgrade  Overall   \n",
       "3      release-openshift-okd-installer-e2e-aws-upgrade  Overall   \n",
       "4      release-openshift-okd-installer-e2e-aws-upgrade  Overall   \n",
       "...                                                ...      ...   \n",
       "32871        osde2e-stage-moa-e2e-upgrade-default-next  Overall   \n",
       "32872        osde2e-stage-moa-e2e-upgrade-default-next  Overall   \n",
       "32873        osde2e-stage-moa-e2e-upgrade-default-next  Overall   \n",
       "32874        osde2e-stage-moa-e2e-upgrade-default-next  Overall   \n",
       "32875        osde2e-stage-moa-e2e-upgrade-default-next  Overall   \n",
       "\n",
       "       build_failure  build_passing  \n",
       "0              False          False  \n",
       "1              False           True  \n",
       "2              False          False  \n",
       "3              False          False  \n",
       "4              False          False  \n",
       "...              ...            ...  \n",
       "32871          False           True  \n",
       "32872          False           True  \n",
       "32873          False           True  \n",
       "32874          False           True  \n",
       "32875          False           True  \n",
       "\n",
       "[32876 rows x 6 columns]"
      ]
     },
     "execution_count": 37,
     "metadata": {},
     "output_type": "execute_result"
    }
   ],
   "source": [
    "combined"
   ]
  },
  {
   "cell_type": "code",
   "execution_count": 38,
   "id": "trying-belly",
   "metadata": {
    "ExecuteTime": {
     "end_time": "2021-03-18T16:31:43.430028Z",
     "start_time": "2021-03-18T16:31:43.425742Z"
    }
   },
   "outputs": [],
   "source": [
    "def label_race (row):\n",
    "   if row['build_failure']:\n",
    "      return 'Fail'\n",
    "\n",
    "   if row['build_passing']:\n",
    "      return 'Pass'"
   ]
  },
  {
   "cell_type": "code",
   "execution_count": 39,
   "id": "vietnamese-timer",
   "metadata": {
    "ExecuteTime": {
     "end_time": "2021-03-18T16:31:45.471745Z",
     "start_time": "2021-03-18T16:31:44.183035Z"
    }
   },
   "outputs": [],
   "source": [
    "combined['build_status']=combined.apply (lambda row: label_race(row), axis=1)"
   ]
  },
  {
   "cell_type": "code",
   "execution_count": 40,
   "id": "willing-basin",
   "metadata": {
    "ExecuteTime": {
     "end_time": "2021-03-18T16:31:45.489310Z",
     "start_time": "2021-03-18T16:31:45.474411Z"
    }
   },
   "outputs": [
    {
     "data": {
      "text/html": [
       "<div>\n",
       "<style scoped>\n",
       "    .dataframe tbody tr th:only-of-type {\n",
       "        vertical-align: middle;\n",
       "    }\n",
       "\n",
       "    .dataframe tbody tr th {\n",
       "        vertical-align: top;\n",
       "    }\n",
       "\n",
       "    .dataframe thead th {\n",
       "        text-align: right;\n",
       "    }\n",
       "</style>\n",
       "<table border=\"1\" class=\"dataframe\">\n",
       "  <thead>\n",
       "    <tr style=\"text-align: right;\">\n",
       "      <th></th>\n",
       "      <th>timestamp</th>\n",
       "      <th>tab</th>\n",
       "      <th>job</th>\n",
       "      <th>test</th>\n",
       "      <th>build_failure</th>\n",
       "      <th>build_passing</th>\n",
       "      <th>build_status</th>\n",
       "    </tr>\n",
       "  </thead>\n",
       "  <tbody>\n",
       "    <tr>\n",
       "      <th>0</th>\n",
       "      <td>2020-10-08 20:48:05</td>\n",
       "      <td>\"redhat-openshift-informing\"</td>\n",
       "      <td>release-openshift-okd-installer-e2e-aws-upgrade</td>\n",
       "      <td>Overall</td>\n",
       "      <td>False</td>\n",
       "      <td>False</td>\n",
       "      <td>None</td>\n",
       "    </tr>\n",
       "    <tr>\n",
       "      <th>1</th>\n",
       "      <td>2020-10-08 19:12:01</td>\n",
       "      <td>\"redhat-openshift-informing\"</td>\n",
       "      <td>release-openshift-okd-installer-e2e-aws-upgrade</td>\n",
       "      <td>Overall</td>\n",
       "      <td>False</td>\n",
       "      <td>True</td>\n",
       "      <td>Pass</td>\n",
       "    </tr>\n",
       "    <tr>\n",
       "      <th>2</th>\n",
       "      <td>2020-10-08 14:18:13</td>\n",
       "      <td>\"redhat-openshift-informing\"</td>\n",
       "      <td>release-openshift-okd-installer-e2e-aws-upgrade</td>\n",
       "      <td>Overall</td>\n",
       "      <td>False</td>\n",
       "      <td>False</td>\n",
       "      <td>None</td>\n",
       "    </tr>\n",
       "    <tr>\n",
       "      <th>3</th>\n",
       "      <td>2020-10-08 11:15:28</td>\n",
       "      <td>\"redhat-openshift-informing\"</td>\n",
       "      <td>release-openshift-okd-installer-e2e-aws-upgrade</td>\n",
       "      <td>Overall</td>\n",
       "      <td>False</td>\n",
       "      <td>False</td>\n",
       "      <td>None</td>\n",
       "    </tr>\n",
       "    <tr>\n",
       "      <th>4</th>\n",
       "      <td>2020-10-08 08:27:53</td>\n",
       "      <td>\"redhat-openshift-informing\"</td>\n",
       "      <td>release-openshift-okd-installer-e2e-aws-upgrade</td>\n",
       "      <td>Overall</td>\n",
       "      <td>False</td>\n",
       "      <td>False</td>\n",
       "      <td>None</td>\n",
       "    </tr>\n",
       "  </tbody>\n",
       "</table>\n",
       "</div>"
      ],
      "text/plain": [
       "            timestamp                           tab  \\\n",
       "0 2020-10-08 20:48:05  \"redhat-openshift-informing\"   \n",
       "1 2020-10-08 19:12:01  \"redhat-openshift-informing\"   \n",
       "2 2020-10-08 14:18:13  \"redhat-openshift-informing\"   \n",
       "3 2020-10-08 11:15:28  \"redhat-openshift-informing\"   \n",
       "4 2020-10-08 08:27:53  \"redhat-openshift-informing\"   \n",
       "\n",
       "                                               job     test  build_failure  \\\n",
       "0  release-openshift-okd-installer-e2e-aws-upgrade  Overall          False   \n",
       "1  release-openshift-okd-installer-e2e-aws-upgrade  Overall          False   \n",
       "2  release-openshift-okd-installer-e2e-aws-upgrade  Overall          False   \n",
       "3  release-openshift-okd-installer-e2e-aws-upgrade  Overall          False   \n",
       "4  release-openshift-okd-installer-e2e-aws-upgrade  Overall          False   \n",
       "\n",
       "   build_passing build_status  \n",
       "0          False         None  \n",
       "1           True         Pass  \n",
       "2          False         None  \n",
       "3          False         None  \n",
       "4          False         None  "
      ]
     },
     "execution_count": 40,
     "metadata": {},
     "output_type": "execute_result"
    }
   ],
   "source": [
    "combined.head()"
   ]
  },
  {
   "cell_type": "code",
   "execution_count": 41,
   "id": "bearing-beast",
   "metadata": {
    "ExecuteTime": {
     "end_time": "2021-03-18T16:31:45.500197Z",
     "start_time": "2021-03-18T16:31:45.491531Z"
    }
   },
   "outputs": [
    {
     "data": {
      "text/plain": [
       "32876"
      ]
     },
     "execution_count": 41,
     "metadata": {},
     "output_type": "execute_result"
    }
   ],
   "source": [
    "len(combined)"
   ]
  },
  {
   "cell_type": "code",
   "execution_count": 42,
   "id": "rough-fitness",
   "metadata": {
    "ExecuteTime": {
     "end_time": "2021-03-18T16:31:46.997893Z",
     "start_time": "2021-03-18T16:31:46.972248Z"
    }
   },
   "outputs": [],
   "source": [
    "# since we are only interested in success and failure statuses\n",
    "combined = combined.dropna()"
   ]
  },
  {
   "cell_type": "code",
   "execution_count": 43,
   "id": "accepted-radar",
   "metadata": {
    "ExecuteTime": {
     "end_time": "2021-03-18T16:31:47.632680Z",
     "start_time": "2021-03-18T16:31:47.627805Z"
    }
   },
   "outputs": [
    {
     "data": {
      "text/plain": [
       "27489"
      ]
     },
     "execution_count": 43,
     "metadata": {},
     "output_type": "execute_result"
    }
   ],
   "source": [
    "len(combined)"
   ]
  },
  {
   "cell_type": "code",
   "execution_count": 44,
   "id": "collective-bookmark",
   "metadata": {
    "ExecuteTime": {
     "end_time": "2021-03-18T16:31:49.382725Z",
     "start_time": "2021-03-18T16:31:48.952586Z"
    }
   },
   "outputs": [
    {
     "data": {
      "image/png": "[encoded data removed]",
      "text/plain": [
       "<Figure size 1080x360 with 1 Axes>"
      ]
     },
     "metadata": {},
     "output_type": "display_data"
    }
   ],
   "source": [
    "plot_builds_tab_grid(\"redhat-openshift-informing\", \"release-openshift-okd-installer-e2e-aws-upgrade\", combined)"
   ]
  },
  {
   "cell_type": "code",
   "execution_count": 45,
   "id": "alive-success",
   "metadata": {
    "ExecuteTime": {
     "end_time": "2021-03-18T16:31:50.670316Z",
     "start_time": "2021-03-18T16:31:50.274952Z"
    }
   },
   "outputs": [
    {
     "data": {
      "image/png": "[encoded data removed]",
      "text/plain": [
       "<Figure size 1080x360 with 1 Axes>"
      ]
     },
     "metadata": {},
     "output_type": "display_data"
    }
   ],
   "source": [
    "plot_builds_tab_grid(\"redhat-openshift-ocp-release-4.2-informing\", \"release-openshift-origin-installer-e2e-aws-upgrade-rollback-4.1-to-4.2\", combined)"
   ]
  },
  {
   "cell_type": "code",
   "execution_count": 46,
   "id": "cloudy-syracuse",
   "metadata": {
    "ExecuteTime": {
     "end_time": "2021-03-18T16:31:51.095981Z",
     "start_time": "2021-03-18T16:31:50.672730Z"
    }
   },
   "outputs": [
    {
     "data": {
      "image/png": "[encoded data removed]",
      "text/plain": [
       "<Figure size 1080x360 with 1 Axes>"
      ]
     },
     "metadata": {},
     "output_type": "display_data"
    }
   ],
   "source": [
    "plot_builds_tab_grid(\"redhat-osde2e-stage-moa\", \"osde2e-stage-moa-e2e-upgrade-default-next\", combined)"
   ]
  },
  {
   "cell_type": "code",
   "execution_count": 47,
   "id": "cleared-wrapping",
   "metadata": {
    "ExecuteTime": {
     "end_time": "2021-03-18T16:31:51.492505Z",
     "start_time": "2021-03-18T16:31:51.098351Z"
    }
   },
   "outputs": [
    {
     "data": {
      "image/png": "[encoded data removed]",
      "text/plain": [
       "<Figure size 1080x360 with 1 Axes>"
      ]
     },
     "metadata": {},
     "output_type": "display_data"
    }
   ],
   "source": [
    "plot_builds_tab_grid(\"redhat-openshift-ocp-release-4.5-blocking\",\"release-openshift-origin-installer-e2e-gcp-serial-4.5\",combined)"
   ]
  },
  {
   "cell_type": "markdown",
   "id": "expressed-manitoba",
   "metadata": {},
   "source": [
    "### Conclusion\n",
    "\n",
    "In this Notebook, we use the \"Overall\" as a proxy for a build. Testgrid refers an aggregate of multiple tests performed at a certain timestamp within a Job as a Build and each build has a unique Build ID. In this notebook, we went ahead and used the labels provided by testgrid which classify a test overall as Pass or Fail to indicate build success and failures and thus calculate the percent of success and failures."
   ]
  }
 ],
 "metadata": {
  "finalized": {
   "timestamp": 1616085009075,
   "trusted": false
  },
  "kernelspec": {
   "display_name": "Python 3",
   "language": "python",
   "name": "python3"
  },
  "language_info": {
   "codemirror_mode": {
    "name": "ipython",
    "version": 3
   },
   "file_extension": ".py",
   "mimetype": "text/x-python",
   "name": "python",
   "nbconvert_exporter": "python",
   "pygments_lexer": "ipython3",
   "version": "3.6.8"
  },
  "toc": {
   "base_numbering": 1,
   "nav_menu": {},
   "number_sections": true,
   "sideBar": true,
   "skip_h1_title": false,
   "title_cell": "Table of Contents",
   "title_sidebar": "Contents",
   "toc_cell": false,
   "toc_position": {},
   "toc_section_display": true,
   "toc_window_display": false
  }
 },
 "nbformat": 4,
 "nbformat_minor": 5
}
