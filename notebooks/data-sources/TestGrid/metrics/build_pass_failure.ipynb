{
 "cells": [
  {
   "cell_type": "markdown",
   "id": "brown-check",
   "metadata": {},
   "source": [
    "# Quantify Builds\n",
    "\n",
    "In this notebook, the key perfomance indicators that we would like to create greater visbility into and track over time is the percent of builds that passed/failed. This can be used to capture the build success rate ie. number of successful builds / deployments relative to the total number of builds / deployments.\n",
    "\n",
    "* number and percent of builds passed and failed\n",
    "* plot of build pass and failure over time"
   ]
  },
  {
   "cell_type": "code",
   "execution_count": 13,
   "id": "brilliant-expense",
   "metadata": {
    "ExecuteTime": {
     "end_time": "2021-03-16T17:57:08.598078Z",
     "start_time": "2021-03-16T17:57:08.591052Z"
    }
   },
   "outputs": [],
   "source": [
    "import gzip\n",
    "import json\n",
    "import os\n",
    "import sys\n",
    "import pandas as pd\n",
    "import matplotlib.pyplot as plt\n",
    "import seaborn as sns\n",
    "\n",
    "sys.path.append(\"../../..\")\n",
    "\n",
    "module_path_1 = os.path.abspath(os.path.join(\"../../../data-sources/TestGrid\"))\n",
    "if module_path_1 not in sys.path:\n",
    "    sys.path.append(module_path_1)\n",
    "\n",
    "from ipynb.fs.defs.number_of_flakes import (  # noqa: E402\n",
    "    testgrid_labelwise_encoding,\n",
    ")  # noqa: E402"
   ]
  },
  {
   "cell_type": "code",
   "execution_count": 14,
   "id": "boxed-enough",
   "metadata": {
    "ExecuteTime": {
     "end_time": "2021-03-16T17:57:20.790465Z",
     "start_time": "2021-03-16T17:57:08.954880Z"
    }
   },
   "outputs": [],
   "source": [
    "# Load test file\n",
    "with gzip.open(\"../../../../data/raw/testgrid_163.json.gz\", \"rb\") as read_file:\n",
    "    testgrid_data = json.load(read_file)"
   ]
  },
  {
   "cell_type": "code",
   "execution_count": 15,
   "id": "standard-parade",
   "metadata": {
    "ExecuteTime": {
     "end_time": "2021-03-16T17:57:50.353678Z",
     "start_time": "2021-03-16T17:57:20.796292Z"
    }
   },
   "outputs": [],
   "source": [
    "build_failures_list = testgrid_labelwise_encoding(testgrid_data, 12)"
   ]
  },
  {
   "cell_type": "code",
   "execution_count": 16,
   "id": "worst-egypt",
   "metadata": {
    "ExecuteTime": {
     "end_time": "2021-03-16T17:57:50.361430Z",
     "start_time": "2021-03-16T17:57:50.356627Z"
    }
   },
   "outputs": [
    {
     "data": {
      "text/plain": [
       "25997262"
      ]
     },
     "execution_count": 16,
     "metadata": {},
     "output_type": "execute_result"
    }
   ],
   "source": [
    "len(build_failures_list)"
   ]
  },
  {
   "cell_type": "code",
   "execution_count": 17,
   "id": "burning-ecology",
   "metadata": {
    "ExecuteTime": {
     "end_time": "2021-03-16T17:57:50.382711Z",
     "start_time": "2021-03-16T17:57:50.363850Z"
    }
   },
   "outputs": [
    {
     "data": {
      "text/plain": [
       "(datetime.datetime(2021, 3, 16, 11, 57, 3),\n",
       " '\"redhat-openshift-informing\"',\n",
       " 'release-openshift-okd-installer-e2e-aws-upgrade',\n",
       " 'Overall',\n",
       " False)"
      ]
     },
     "execution_count": 17,
     "metadata": {},
     "output_type": "execute_result"
    }
   ],
   "source": [
    "build_failures_list[0]"
   ]
  },
  {
   "cell_type": "code",
   "execution_count": 18,
   "id": "handled-metabolism",
   "metadata": {
    "ExecuteTime": {
     "end_time": "2021-03-16T17:58:01.951623Z",
     "start_time": "2021-03-16T17:57:50.385011Z"
    }
   },
   "outputs": [
    {
     "data": {
      "text/html": [
       "<div>\n",
       "<style scoped>\n",
       "    .dataframe tbody tr th:only-of-type {\n",
       "        vertical-align: middle;\n",
       "    }\n",
       "\n",
       "    .dataframe tbody tr th {\n",
       "        vertical-align: top;\n",
       "    }\n",
       "\n",
       "    .dataframe thead th {\n",
       "        text-align: right;\n",
       "    }\n",
       "</style>\n",
       "<table border=\"1\" class=\"dataframe\">\n",
       "  <thead>\n",
       "    <tr style=\"text-align: right;\">\n",
       "      <th></th>\n",
       "      <th>timestamp</th>\n",
       "      <th>tab</th>\n",
       "      <th>job</th>\n",
       "      <th>test</th>\n",
       "      <th>build_failure</th>\n",
       "    </tr>\n",
       "  </thead>\n",
       "  <tbody>\n",
       "    <tr>\n",
       "      <th>0</th>\n",
       "      <td>2021-03-16 11:57:03</td>\n",
       "      <td>\"redhat-openshift-informing\"</td>\n",
       "      <td>release-openshift-okd-installer-e2e-aws-upgrade</td>\n",
       "      <td>Overall</td>\n",
       "      <td>False</td>\n",
       "    </tr>\n",
       "    <tr>\n",
       "      <th>1</th>\n",
       "      <td>2021-03-16 08:29:07</td>\n",
       "      <td>\"redhat-openshift-informing\"</td>\n",
       "      <td>release-openshift-okd-installer-e2e-aws-upgrade</td>\n",
       "      <td>Overall</td>\n",
       "      <td>True</td>\n",
       "    </tr>\n",
       "    <tr>\n",
       "      <th>2</th>\n",
       "      <td>2021-03-16 06:26:45</td>\n",
       "      <td>\"redhat-openshift-informing\"</td>\n",
       "      <td>release-openshift-okd-installer-e2e-aws-upgrade</td>\n",
       "      <td>Overall</td>\n",
       "      <td>True</td>\n",
       "    </tr>\n",
       "    <tr>\n",
       "      <th>3</th>\n",
       "      <td>2021-03-16 02:20:29</td>\n",
       "      <td>\"redhat-openshift-informing\"</td>\n",
       "      <td>release-openshift-okd-installer-e2e-aws-upgrade</td>\n",
       "      <td>Overall</td>\n",
       "      <td>True</td>\n",
       "    </tr>\n",
       "    <tr>\n",
       "      <th>4</th>\n",
       "      <td>2021-03-15 22:49:37</td>\n",
       "      <td>\"redhat-openshift-informing\"</td>\n",
       "      <td>release-openshift-okd-installer-e2e-aws-upgrade</td>\n",
       "      <td>Overall</td>\n",
       "      <td>True</td>\n",
       "    </tr>\n",
       "  </tbody>\n",
       "</table>\n",
       "</div>"
      ],
      "text/plain": [
       "            timestamp                           tab  \\\n",
       "0 2021-03-16 11:57:03  \"redhat-openshift-informing\"   \n",
       "1 2021-03-16 08:29:07  \"redhat-openshift-informing\"   \n",
       "2 2021-03-16 06:26:45  \"redhat-openshift-informing\"   \n",
       "3 2021-03-16 02:20:29  \"redhat-openshift-informing\"   \n",
       "4 2021-03-15 22:49:37  \"redhat-openshift-informing\"   \n",
       "\n",
       "                                               job     test  build_failure  \n",
       "0  release-openshift-okd-installer-e2e-aws-upgrade  Overall          False  \n",
       "1  release-openshift-okd-installer-e2e-aws-upgrade  Overall           True  \n",
       "2  release-openshift-okd-installer-e2e-aws-upgrade  Overall           True  \n",
       "3  release-openshift-okd-installer-e2e-aws-upgrade  Overall           True  \n",
       "4  release-openshift-okd-installer-e2e-aws-upgrade  Overall           True  "
      ]
     },
     "execution_count": 18,
     "metadata": {},
     "output_type": "execute_result"
    }
   ],
   "source": [
    "# Convert to dataframe\n",
    "build_failures_df = pd.DataFrame(\n",
    "    build_failures_list, columns=[\"timestamp\", \"tab\", \"job\", \"test\", \"build_failure\"]\n",
    ")\n",
    "build_failures_df.head()"
   ]
  },
  {
   "cell_type": "code",
   "execution_count": 19,
   "id": "atmospheric-million",
   "metadata": {
    "ExecuteTime": {
     "end_time": "2021-03-16T17:58:03.593801Z",
     "start_time": "2021-03-16T17:58:01.953871Z"
    }
   },
   "outputs": [],
   "source": [
    "build_failures_df = build_failures_df.loc[build_failures_df['test'] == \"Overall\"]"
   ]
  },
  {
   "cell_type": "code",
   "execution_count": 20,
   "id": "amazing-advertising",
   "metadata": {
    "ExecuteTime": {
     "end_time": "2021-03-16T17:58:03.609893Z",
     "start_time": "2021-03-16T17:58:03.596204Z"
    }
   },
   "outputs": [
    {
     "data": {
      "text/html": [
       "<div>\n",
       "<style scoped>\n",
       "    .dataframe tbody tr th:only-of-type {\n",
       "        vertical-align: middle;\n",
       "    }\n",
       "\n",
       "    .dataframe tbody tr th {\n",
       "        vertical-align: top;\n",
       "    }\n",
       "\n",
       "    .dataframe thead th {\n",
       "        text-align: right;\n",
       "    }\n",
       "</style>\n",
       "<table border=\"1\" class=\"dataframe\">\n",
       "  <thead>\n",
       "    <tr style=\"text-align: right;\">\n",
       "      <th></th>\n",
       "      <th>timestamp</th>\n",
       "      <th>tab</th>\n",
       "      <th>job</th>\n",
       "      <th>test</th>\n",
       "      <th>build_failure</th>\n",
       "    </tr>\n",
       "  </thead>\n",
       "  <tbody>\n",
       "    <tr>\n",
       "      <th>0</th>\n",
       "      <td>2021-03-16 11:57:03</td>\n",
       "      <td>\"redhat-openshift-informing\"</td>\n",
       "      <td>release-openshift-okd-installer-e2e-aws-upgrade</td>\n",
       "      <td>Overall</td>\n",
       "      <td>False</td>\n",
       "    </tr>\n",
       "    <tr>\n",
       "      <th>1</th>\n",
       "      <td>2021-03-16 08:29:07</td>\n",
       "      <td>\"redhat-openshift-informing\"</td>\n",
       "      <td>release-openshift-okd-installer-e2e-aws-upgrade</td>\n",
       "      <td>Overall</td>\n",
       "      <td>True</td>\n",
       "    </tr>\n",
       "    <tr>\n",
       "      <th>2</th>\n",
       "      <td>2021-03-16 06:26:45</td>\n",
       "      <td>\"redhat-openshift-informing\"</td>\n",
       "      <td>release-openshift-okd-installer-e2e-aws-upgrade</td>\n",
       "      <td>Overall</td>\n",
       "      <td>True</td>\n",
       "    </tr>\n",
       "    <tr>\n",
       "      <th>3</th>\n",
       "      <td>2021-03-16 02:20:29</td>\n",
       "      <td>\"redhat-openshift-informing\"</td>\n",
       "      <td>release-openshift-okd-installer-e2e-aws-upgrade</td>\n",
       "      <td>Overall</td>\n",
       "      <td>True</td>\n",
       "    </tr>\n",
       "    <tr>\n",
       "      <th>4</th>\n",
       "      <td>2021-03-15 22:49:37</td>\n",
       "      <td>\"redhat-openshift-informing\"</td>\n",
       "      <td>release-openshift-okd-installer-e2e-aws-upgrade</td>\n",
       "      <td>Overall</td>\n",
       "      <td>True</td>\n",
       "    </tr>\n",
       "  </tbody>\n",
       "</table>\n",
       "</div>"
      ],
      "text/plain": [
       "            timestamp                           tab  \\\n",
       "0 2021-03-16 11:57:03  \"redhat-openshift-informing\"   \n",
       "1 2021-03-16 08:29:07  \"redhat-openshift-informing\"   \n",
       "2 2021-03-16 06:26:45  \"redhat-openshift-informing\"   \n",
       "3 2021-03-16 02:20:29  \"redhat-openshift-informing\"   \n",
       "4 2021-03-15 22:49:37  \"redhat-openshift-informing\"   \n",
       "\n",
       "                                               job     test  build_failure  \n",
       "0  release-openshift-okd-installer-e2e-aws-upgrade  Overall          False  \n",
       "1  release-openshift-okd-installer-e2e-aws-upgrade  Overall           True  \n",
       "2  release-openshift-okd-installer-e2e-aws-upgrade  Overall           True  \n",
       "3  release-openshift-okd-installer-e2e-aws-upgrade  Overall           True  \n",
       "4  release-openshift-okd-installer-e2e-aws-upgrade  Overall           True  "
      ]
     },
     "execution_count": 20,
     "metadata": {},
     "output_type": "execute_result"
    }
   ],
   "source": [
    "build_failures_df.head()"
   ]
  },
  {
   "cell_type": "code",
   "execution_count": 21,
   "id": "excessive-listening",
   "metadata": {
    "ExecuteTime": {
     "end_time": "2021-03-16T17:58:03.892680Z",
     "start_time": "2021-03-16T17:58:03.612953Z"
    }
   },
   "outputs": [],
   "source": [
    "# saving only the first 1000000 out of 19 million rows due to pvc limits.\n",
    "# 250mb = 1 million --> 4750 mb = 19 million\n",
    "build_failures_df.head(1000000).to_csv(\n",
    "    \"../../../../data/processed/build_failures.csv\",\n",
    "    header=False,\n",
    ")"
   ]
  },
  {
   "cell_type": "code",
   "execution_count": 22,
   "id": "confident-simon",
   "metadata": {
    "ExecuteTime": {
     "end_time": "2021-03-16T17:58:37.146626Z",
     "start_time": "2021-03-16T17:58:03.895122Z"
    }
   },
   "outputs": [],
   "source": [
    "build_passing_list = testgrid_labelwise_encoding(testgrid_data, 1)"
   ]
  },
  {
   "cell_type": "code",
   "execution_count": 23,
   "id": "professional-territory",
   "metadata": {
    "ExecuteTime": {
     "end_time": "2021-03-16T17:58:48.933426Z",
     "start_time": "2021-03-16T17:58:37.149424Z"
    }
   },
   "outputs": [
    {
     "data": {
      "text/html": [
       "<div>\n",
       "<style scoped>\n",
       "    .dataframe tbody tr th:only-of-type {\n",
       "        vertical-align: middle;\n",
       "    }\n",
       "\n",
       "    .dataframe tbody tr th {\n",
       "        vertical-align: top;\n",
       "    }\n",
       "\n",
       "    .dataframe thead th {\n",
       "        text-align: right;\n",
       "    }\n",
       "</style>\n",
       "<table border=\"1\" class=\"dataframe\">\n",
       "  <thead>\n",
       "    <tr style=\"text-align: right;\">\n",
       "      <th></th>\n",
       "      <th>timestamp</th>\n",
       "      <th>tab</th>\n",
       "      <th>job</th>\n",
       "      <th>test</th>\n",
       "      <th>build_passing</th>\n",
       "    </tr>\n",
       "  </thead>\n",
       "  <tbody>\n",
       "    <tr>\n",
       "      <th>0</th>\n",
       "      <td>2021-03-16 11:57:03</td>\n",
       "      <td>\"redhat-openshift-informing\"</td>\n",
       "      <td>release-openshift-okd-installer-e2e-aws-upgrade</td>\n",
       "      <td>Overall</td>\n",
       "      <td>False</td>\n",
       "    </tr>\n",
       "    <tr>\n",
       "      <th>1</th>\n",
       "      <td>2021-03-16 08:29:07</td>\n",
       "      <td>\"redhat-openshift-informing\"</td>\n",
       "      <td>release-openshift-okd-installer-e2e-aws-upgrade</td>\n",
       "      <td>Overall</td>\n",
       "      <td>False</td>\n",
       "    </tr>\n",
       "    <tr>\n",
       "      <th>2</th>\n",
       "      <td>2021-03-16 06:26:45</td>\n",
       "      <td>\"redhat-openshift-informing\"</td>\n",
       "      <td>release-openshift-okd-installer-e2e-aws-upgrade</td>\n",
       "      <td>Overall</td>\n",
       "      <td>False</td>\n",
       "    </tr>\n",
       "    <tr>\n",
       "      <th>3</th>\n",
       "      <td>2021-03-16 02:20:29</td>\n",
       "      <td>\"redhat-openshift-informing\"</td>\n",
       "      <td>release-openshift-okd-installer-e2e-aws-upgrade</td>\n",
       "      <td>Overall</td>\n",
       "      <td>False</td>\n",
       "    </tr>\n",
       "    <tr>\n",
       "      <th>4</th>\n",
       "      <td>2021-03-15 22:49:37</td>\n",
       "      <td>\"redhat-openshift-informing\"</td>\n",
       "      <td>release-openshift-okd-installer-e2e-aws-upgrade</td>\n",
       "      <td>Overall</td>\n",
       "      <td>False</td>\n",
       "    </tr>\n",
       "  </tbody>\n",
       "</table>\n",
       "</div>"
      ],
      "text/plain": [
       "            timestamp                           tab  \\\n",
       "0 2021-03-16 11:57:03  \"redhat-openshift-informing\"   \n",
       "1 2021-03-16 08:29:07  \"redhat-openshift-informing\"   \n",
       "2 2021-03-16 06:26:45  \"redhat-openshift-informing\"   \n",
       "3 2021-03-16 02:20:29  \"redhat-openshift-informing\"   \n",
       "4 2021-03-15 22:49:37  \"redhat-openshift-informing\"   \n",
       "\n",
       "                                               job     test  build_passing  \n",
       "0  release-openshift-okd-installer-e2e-aws-upgrade  Overall          False  \n",
       "1  release-openshift-okd-installer-e2e-aws-upgrade  Overall          False  \n",
       "2  release-openshift-okd-installer-e2e-aws-upgrade  Overall          False  \n",
       "3  release-openshift-okd-installer-e2e-aws-upgrade  Overall          False  \n",
       "4  release-openshift-okd-installer-e2e-aws-upgrade  Overall          False  "
      ]
     },
     "execution_count": 23,
     "metadata": {},
     "output_type": "execute_result"
    }
   ],
   "source": [
    "# Convert to dataframe\n",
    "build_passing_df = pd.DataFrame(\n",
    "    build_passing_list, columns=[\"timestamp\", \"tab\", \"job\", \"test\", \"build_passing\"]\n",
    ")\n",
    "build_passing_df.head()"
   ]
  },
  {
   "cell_type": "code",
   "execution_count": 24,
   "id": "sustained-signature",
   "metadata": {
    "ExecuteTime": {
     "end_time": "2021-03-16T17:58:50.610090Z",
     "start_time": "2021-03-16T17:58:48.935913Z"
    }
   },
   "outputs": [],
   "source": [
    "build_passing_df = build_passing_df.loc[build_passing_df['test'] == \"Overall\"]"
   ]
  },
  {
   "cell_type": "code",
   "execution_count": 25,
   "id": "mineral-quest",
   "metadata": {
    "ExecuteTime": {
     "end_time": "2021-03-16T17:58:50.627995Z",
     "start_time": "2021-03-16T17:58:50.612771Z"
    }
   },
   "outputs": [
    {
     "data": {
      "text/html": [
       "<div>\n",
       "<style scoped>\n",
       "    .dataframe tbody tr th:only-of-type {\n",
       "        vertical-align: middle;\n",
       "    }\n",
       "\n",
       "    .dataframe tbody tr th {\n",
       "        vertical-align: top;\n",
       "    }\n",
       "\n",
       "    .dataframe thead th {\n",
       "        text-align: right;\n",
       "    }\n",
       "</style>\n",
       "<table border=\"1\" class=\"dataframe\">\n",
       "  <thead>\n",
       "    <tr style=\"text-align: right;\">\n",
       "      <th></th>\n",
       "      <th>timestamp</th>\n",
       "      <th>tab</th>\n",
       "      <th>job</th>\n",
       "      <th>test</th>\n",
       "      <th>build_passing</th>\n",
       "    </tr>\n",
       "  </thead>\n",
       "  <tbody>\n",
       "    <tr>\n",
       "      <th>0</th>\n",
       "      <td>2021-03-16 11:57:03</td>\n",
       "      <td>\"redhat-openshift-informing\"</td>\n",
       "      <td>release-openshift-okd-installer-e2e-aws-upgrade</td>\n",
       "      <td>Overall</td>\n",
       "      <td>False</td>\n",
       "    </tr>\n",
       "    <tr>\n",
       "      <th>1</th>\n",
       "      <td>2021-03-16 08:29:07</td>\n",
       "      <td>\"redhat-openshift-informing\"</td>\n",
       "      <td>release-openshift-okd-installer-e2e-aws-upgrade</td>\n",
       "      <td>Overall</td>\n",
       "      <td>False</td>\n",
       "    </tr>\n",
       "    <tr>\n",
       "      <th>2</th>\n",
       "      <td>2021-03-16 06:26:45</td>\n",
       "      <td>\"redhat-openshift-informing\"</td>\n",
       "      <td>release-openshift-okd-installer-e2e-aws-upgrade</td>\n",
       "      <td>Overall</td>\n",
       "      <td>False</td>\n",
       "    </tr>\n",
       "    <tr>\n",
       "      <th>3</th>\n",
       "      <td>2021-03-16 02:20:29</td>\n",
       "      <td>\"redhat-openshift-informing\"</td>\n",
       "      <td>release-openshift-okd-installer-e2e-aws-upgrade</td>\n",
       "      <td>Overall</td>\n",
       "      <td>False</td>\n",
       "    </tr>\n",
       "    <tr>\n",
       "      <th>4</th>\n",
       "      <td>2021-03-15 22:49:37</td>\n",
       "      <td>\"redhat-openshift-informing\"</td>\n",
       "      <td>release-openshift-okd-installer-e2e-aws-upgrade</td>\n",
       "      <td>Overall</td>\n",
       "      <td>False</td>\n",
       "    </tr>\n",
       "  </tbody>\n",
       "</table>\n",
       "</div>"
      ],
      "text/plain": [
       "            timestamp                           tab  \\\n",
       "0 2021-03-16 11:57:03  \"redhat-openshift-informing\"   \n",
       "1 2021-03-16 08:29:07  \"redhat-openshift-informing\"   \n",
       "2 2021-03-16 06:26:45  \"redhat-openshift-informing\"   \n",
       "3 2021-03-16 02:20:29  \"redhat-openshift-informing\"   \n",
       "4 2021-03-15 22:49:37  \"redhat-openshift-informing\"   \n",
       "\n",
       "                                               job     test  build_passing  \n",
       "0  release-openshift-okd-installer-e2e-aws-upgrade  Overall          False  \n",
       "1  release-openshift-okd-installer-e2e-aws-upgrade  Overall          False  \n",
       "2  release-openshift-okd-installer-e2e-aws-upgrade  Overall          False  \n",
       "3  release-openshift-okd-installer-e2e-aws-upgrade  Overall          False  \n",
       "4  release-openshift-okd-installer-e2e-aws-upgrade  Overall          False  "
      ]
     },
     "execution_count": 25,
     "metadata": {},
     "output_type": "execute_result"
    }
   ],
   "source": [
    "build_passing_df.head()"
   ]
  },
  {
   "cell_type": "code",
   "execution_count": 26,
   "id": "perfect-packing",
   "metadata": {
    "ExecuteTime": {
     "end_time": "2021-03-16T17:58:50.916579Z",
     "start_time": "2021-03-16T17:58:50.630232Z"
    }
   },
   "outputs": [],
   "source": [
    "# saving only the first 1000000 out of 19 million rows due to pvc limits.\n",
    "# 250mb = 1 million --> 4750 mb = 19 million\n",
    "build_passing_df.head(1000000).to_csv(\n",
    "    \"../../../../data/processed/build_pass.csv\",\n",
    "    header=False,\n",
    ")"
   ]
  },
  {
   "cell_type": "markdown",
   "id": "pleasant-contributor",
   "metadata": {},
   "source": [
    "## Number and percent of builds passed and failed"
   ]
  },
  {
   "cell_type": "code",
   "execution_count": 28,
   "id": "sublime-timing",
   "metadata": {
    "ExecuteTime": {
     "end_time": "2021-03-16T17:59:00.161810Z",
     "start_time": "2021-03-16T17:59:00.141935Z"
    }
   },
   "outputs": [
    {
     "name": "stdout",
     "output_type": "stream",
     "text": [
      "Total number of tests: 37148\n",
      "Total number of failing builds: 16142\n",
      "Build failure percentage: 43.453214\n",
      "Total number of passing builds: 20900\n",
      "Build pass percentage: 56.261441\n"
     ]
    }
   ],
   "source": [
    "# Metrics\n",
    "no_tests = build_passing_df.head(1000000).test.count()\n",
    "print(\"Total number of tests: %i\" % (no_tests))\n",
    "no_failures = build_failures_df.head(1000000).build_failure.sum()\n",
    "print(\"Total number of failing builds: %i\" % (no_failures))\n",
    "build_failures_percentage = (\n",
    "    (\n",
    "        build_failures_df.head(1000000).build_failure.sum()\n",
    "        / build_failures_df.head(1000000).test.count()\n",
    "    )\n",
    ") * 100\n",
    "print(\"Build failure percentage: %f\" % (build_failures_percentage))\n",
    "no_pass = build_passing_df.head(1000000).build_passing.sum()\n",
    "print(\"Total number of passing builds: %i\" % (no_pass))\n",
    "build_pass_percentage = (\n",
    "    (\n",
    "        build_passing_df.head(1000000).build_passing.sum()\n",
    "        / build_passing_df.head(1000000).test.count()\n",
    "    )\n",
    ") * 100\n",
    "print(\"Build pass percentage: %f\" % (build_pass_percentage))"
   ]
  },
  {
   "cell_type": "markdown",
   "id": "considerable-coordination",
   "metadata": {},
   "source": [
    "## Plot of build pass and failure over time"
   ]
  },
  {
   "cell_type": "code",
   "execution_count": 29,
   "id": "gothic-means",
   "metadata": {
    "ExecuteTime": {
     "end_time": "2021-03-16T17:59:03.151577Z",
     "start_time": "2021-03-16T17:59:03.144018Z"
    }
   },
   "outputs": [],
   "source": [
    "def plot_builds_tab_grid(tab, job, df):\n",
    "    \n",
    "    \"\"\"\n",
    "    Takes in input as tab and grid and plots change in \n",
    "    build pass/fail over time\n",
    "    \"\"\"\n",
    "    \n",
    "    df = df[(df[\"tab\"] == tab) | (df[\"job\"] == job)]\n",
    "    \n",
    "    sns.set(rc={\"figure.figsize\": (17, 10)})\n",
    "    sns.lineplot(x=\"timestamp\", y=\"build_status\", data=df)\n",
    "    plt.xlabel(\"Timestamps\")\n",
    "    plt.ylabel(\"Build Pass or Fail\")\n",
    "    plt.title(\"Change in Build Pass or Failure over time\")\n",
    "    plt.show()"
   ]
  },
  {
   "cell_type": "code",
   "execution_count": 30,
   "id": "hydraulic-willow",
   "metadata": {
    "ExecuteTime": {
     "end_time": "2021-03-16T17:59:04.281625Z",
     "start_time": "2021-03-16T17:59:04.244949Z"
    }
   },
   "outputs": [],
   "source": [
    "combined = pd.merge(build_failures_df,build_passing_df,on=['timestamp', 'tab', 'job', 'test'])"
   ]
  },
  {
   "cell_type": "code",
   "execution_count": 31,
   "id": "lonely-beast",
   "metadata": {
    "ExecuteTime": {
     "end_time": "2021-03-16T17:59:05.125519Z",
     "start_time": "2021-03-16T17:59:05.099790Z"
    }
   },
   "outputs": [
    {
     "data": {
      "text/html": [
       "<div>\n",
       "<style scoped>\n",
       "    .dataframe tbody tr th:only-of-type {\n",
       "        vertical-align: middle;\n",
       "    }\n",
       "\n",
       "    .dataframe tbody tr th {\n",
       "        vertical-align: top;\n",
       "    }\n",
       "\n",
       "    .dataframe thead th {\n",
       "        text-align: right;\n",
       "    }\n",
       "</style>\n",
       "<table border=\"1\" class=\"dataframe\">\n",
       "  <thead>\n",
       "    <tr style=\"text-align: right;\">\n",
       "      <th></th>\n",
       "      <th>timestamp</th>\n",
       "      <th>tab</th>\n",
       "      <th>job</th>\n",
       "      <th>test</th>\n",
       "      <th>build_failure</th>\n",
       "      <th>build_passing</th>\n",
       "    </tr>\n",
       "  </thead>\n",
       "  <tbody>\n",
       "    <tr>\n",
       "      <th>0</th>\n",
       "      <td>2021-03-16 11:57:03</td>\n",
       "      <td>\"redhat-openshift-informing\"</td>\n",
       "      <td>release-openshift-okd-installer-e2e-aws-upgrade</td>\n",
       "      <td>Overall</td>\n",
       "      <td>False</td>\n",
       "      <td>False</td>\n",
       "    </tr>\n",
       "    <tr>\n",
       "      <th>1</th>\n",
       "      <td>2021-03-16 08:29:07</td>\n",
       "      <td>\"redhat-openshift-informing\"</td>\n",
       "      <td>release-openshift-okd-installer-e2e-aws-upgrade</td>\n",
       "      <td>Overall</td>\n",
       "      <td>True</td>\n",
       "      <td>False</td>\n",
       "    </tr>\n",
       "    <tr>\n",
       "      <th>2</th>\n",
       "      <td>2021-03-16 06:26:45</td>\n",
       "      <td>\"redhat-openshift-informing\"</td>\n",
       "      <td>release-openshift-okd-installer-e2e-aws-upgrade</td>\n",
       "      <td>Overall</td>\n",
       "      <td>True</td>\n",
       "      <td>False</td>\n",
       "    </tr>\n",
       "    <tr>\n",
       "      <th>3</th>\n",
       "      <td>2021-03-16 02:20:29</td>\n",
       "      <td>\"redhat-openshift-informing\"</td>\n",
       "      <td>release-openshift-okd-installer-e2e-aws-upgrade</td>\n",
       "      <td>Overall</td>\n",
       "      <td>True</td>\n",
       "      <td>False</td>\n",
       "    </tr>\n",
       "    <tr>\n",
       "      <th>4</th>\n",
       "      <td>2021-03-15 22:49:37</td>\n",
       "      <td>\"redhat-openshift-informing\"</td>\n",
       "      <td>release-openshift-okd-installer-e2e-aws-upgrade</td>\n",
       "      <td>Overall</td>\n",
       "      <td>True</td>\n",
       "      <td>False</td>\n",
       "    </tr>\n",
       "    <tr>\n",
       "      <th>...</th>\n",
       "      <td>...</td>\n",
       "      <td>...</td>\n",
       "      <td>...</td>\n",
       "      <td>...</td>\n",
       "      <td>...</td>\n",
       "      <td>...</td>\n",
       "    </tr>\n",
       "    <tr>\n",
       "      <th>37229</th>\n",
       "      <td>2021-03-14 00:01:00</td>\n",
       "      <td>\"redhat-assisted-installer\"</td>\n",
       "      <td>periodic-ci-openshift-release-master-nightly-4...</td>\n",
       "      <td>Overall</td>\n",
       "      <td>False</td>\n",
       "      <td>True</td>\n",
       "    </tr>\n",
       "    <tr>\n",
       "      <th>37230</th>\n",
       "      <td>2021-03-13 00:01:07</td>\n",
       "      <td>\"redhat-assisted-installer\"</td>\n",
       "      <td>periodic-ci-openshift-release-master-nightly-4...</td>\n",
       "      <td>Overall</td>\n",
       "      <td>False</td>\n",
       "      <td>True</td>\n",
       "    </tr>\n",
       "    <tr>\n",
       "      <th>37231</th>\n",
       "      <td>2021-03-12 04:22:20</td>\n",
       "      <td>\"redhat-assisted-installer\"</td>\n",
       "      <td>periodic-ci-openshift-release-master-nightly-4...</td>\n",
       "      <td>Overall</td>\n",
       "      <td>False</td>\n",
       "      <td>True</td>\n",
       "    </tr>\n",
       "    <tr>\n",
       "      <th>37232</th>\n",
       "      <td>2021-03-11 00:01:18</td>\n",
       "      <td>\"redhat-assisted-installer\"</td>\n",
       "      <td>periodic-ci-openshift-release-master-nightly-4...</td>\n",
       "      <td>Overall</td>\n",
       "      <td>True</td>\n",
       "      <td>False</td>\n",
       "    </tr>\n",
       "    <tr>\n",
       "      <th>37233</th>\n",
       "      <td>2021-03-10 00:01:03</td>\n",
       "      <td>\"redhat-assisted-installer\"</td>\n",
       "      <td>periodic-ci-openshift-release-master-nightly-4...</td>\n",
       "      <td>Overall</td>\n",
       "      <td>False</td>\n",
       "      <td>True</td>\n",
       "    </tr>\n",
       "  </tbody>\n",
       "</table>\n",
       "<p>37234 rows × 6 columns</p>\n",
       "</div>"
      ],
      "text/plain": [
       "                timestamp                           tab  \\\n",
       "0     2021-03-16 11:57:03  \"redhat-openshift-informing\"   \n",
       "1     2021-03-16 08:29:07  \"redhat-openshift-informing\"   \n",
       "2     2021-03-16 06:26:45  \"redhat-openshift-informing\"   \n",
       "3     2021-03-16 02:20:29  \"redhat-openshift-informing\"   \n",
       "4     2021-03-15 22:49:37  \"redhat-openshift-informing\"   \n",
       "...                   ...                           ...   \n",
       "37229 2021-03-14 00:01:00   \"redhat-assisted-installer\"   \n",
       "37230 2021-03-13 00:01:07   \"redhat-assisted-installer\"   \n",
       "37231 2021-03-12 04:22:20   \"redhat-assisted-installer\"   \n",
       "37232 2021-03-11 00:01:18   \"redhat-assisted-installer\"   \n",
       "37233 2021-03-10 00:01:03   \"redhat-assisted-installer\"   \n",
       "\n",
       "                                                     job     test  \\\n",
       "0        release-openshift-okd-installer-e2e-aws-upgrade  Overall   \n",
       "1        release-openshift-okd-installer-e2e-aws-upgrade  Overall   \n",
       "2        release-openshift-okd-installer-e2e-aws-upgrade  Overall   \n",
       "3        release-openshift-okd-installer-e2e-aws-upgrade  Overall   \n",
       "4        release-openshift-okd-installer-e2e-aws-upgrade  Overall   \n",
       "...                                                  ...      ...   \n",
       "37229  periodic-ci-openshift-release-master-nightly-4...  Overall   \n",
       "37230  periodic-ci-openshift-release-master-nightly-4...  Overall   \n",
       "37231  periodic-ci-openshift-release-master-nightly-4...  Overall   \n",
       "37232  periodic-ci-openshift-release-master-nightly-4...  Overall   \n",
       "37233  periodic-ci-openshift-release-master-nightly-4...  Overall   \n",
       "\n",
       "       build_failure  build_passing  \n",
       "0              False          False  \n",
       "1               True          False  \n",
       "2               True          False  \n",
       "3               True          False  \n",
       "4               True          False  \n",
       "...              ...            ...  \n",
       "37229          False           True  \n",
       "37230          False           True  \n",
       "37231          False           True  \n",
       "37232           True          False  \n",
       "37233          False           True  \n",
       "\n",
       "[37234 rows x 6 columns]"
      ]
     },
     "execution_count": 31,
     "metadata": {},
     "output_type": "execute_result"
    }
   ],
   "source": [
    "combined"
   ]
  },
  {
   "cell_type": "code",
   "execution_count": 32,
   "id": "rational-poverty",
   "metadata": {
    "ExecuteTime": {
     "end_time": "2021-03-16T17:59:06.045108Z",
     "start_time": "2021-03-16T17:59:06.040897Z"
    }
   },
   "outputs": [],
   "source": [
    "def label_race (row):\n",
    "   if row['build_failure']:\n",
    "      return 'Fail'\n",
    "\n",
    "   if row['build_passing']:\n",
    "      return 'Pass'"
   ]
  },
  {
   "cell_type": "code",
   "execution_count": 33,
   "id": "banner-wyoming",
   "metadata": {
    "ExecuteTime": {
     "end_time": "2021-03-16T17:59:08.716223Z",
     "start_time": "2021-03-16T17:59:06.996938Z"
    }
   },
   "outputs": [],
   "source": [
    "combined['build_status']=combined.apply (lambda row: label_race(row), axis=1)"
   ]
  },
  {
   "cell_type": "code",
   "execution_count": 34,
   "id": "ambient-luxembourg",
   "metadata": {
    "ExecuteTime": {
     "end_time": "2021-03-16T17:59:09.750081Z",
     "start_time": "2021-03-16T17:59:09.732471Z"
    }
   },
   "outputs": [
    {
     "data": {
      "text/html": [
       "<div>\n",
       "<style scoped>\n",
       "    .dataframe tbody tr th:only-of-type {\n",
       "        vertical-align: middle;\n",
       "    }\n",
       "\n",
       "    .dataframe tbody tr th {\n",
       "        vertical-align: top;\n",
       "    }\n",
       "\n",
       "    .dataframe thead th {\n",
       "        text-align: right;\n",
       "    }\n",
       "</style>\n",
       "<table border=\"1\" class=\"dataframe\">\n",
       "  <thead>\n",
       "    <tr style=\"text-align: right;\">\n",
       "      <th></th>\n",
       "      <th>timestamp</th>\n",
       "      <th>tab</th>\n",
       "      <th>job</th>\n",
       "      <th>test</th>\n",
       "      <th>build_failure</th>\n",
       "      <th>build_passing</th>\n",
       "      <th>build_status</th>\n",
       "    </tr>\n",
       "  </thead>\n",
       "  <tbody>\n",
       "    <tr>\n",
       "      <th>0</th>\n",
       "      <td>2021-03-16 11:57:03</td>\n",
       "      <td>\"redhat-openshift-informing\"</td>\n",
       "      <td>release-openshift-okd-installer-e2e-aws-upgrade</td>\n",
       "      <td>Overall</td>\n",
       "      <td>False</td>\n",
       "      <td>False</td>\n",
       "      <td>None</td>\n",
       "    </tr>\n",
       "    <tr>\n",
       "      <th>1</th>\n",
       "      <td>2021-03-16 08:29:07</td>\n",
       "      <td>\"redhat-openshift-informing\"</td>\n",
       "      <td>release-openshift-okd-installer-e2e-aws-upgrade</td>\n",
       "      <td>Overall</td>\n",
       "      <td>True</td>\n",
       "      <td>False</td>\n",
       "      <td>Fail</td>\n",
       "    </tr>\n",
       "    <tr>\n",
       "      <th>2</th>\n",
       "      <td>2021-03-16 06:26:45</td>\n",
       "      <td>\"redhat-openshift-informing\"</td>\n",
       "      <td>release-openshift-okd-installer-e2e-aws-upgrade</td>\n",
       "      <td>Overall</td>\n",
       "      <td>True</td>\n",
       "      <td>False</td>\n",
       "      <td>Fail</td>\n",
       "    </tr>\n",
       "    <tr>\n",
       "      <th>3</th>\n",
       "      <td>2021-03-16 02:20:29</td>\n",
       "      <td>\"redhat-openshift-informing\"</td>\n",
       "      <td>release-openshift-okd-installer-e2e-aws-upgrade</td>\n",
       "      <td>Overall</td>\n",
       "      <td>True</td>\n",
       "      <td>False</td>\n",
       "      <td>Fail</td>\n",
       "    </tr>\n",
       "    <tr>\n",
       "      <th>4</th>\n",
       "      <td>2021-03-15 22:49:37</td>\n",
       "      <td>\"redhat-openshift-informing\"</td>\n",
       "      <td>release-openshift-okd-installer-e2e-aws-upgrade</td>\n",
       "      <td>Overall</td>\n",
       "      <td>True</td>\n",
       "      <td>False</td>\n",
       "      <td>Fail</td>\n",
       "    </tr>\n",
       "  </tbody>\n",
       "</table>\n",
       "</div>"
      ],
      "text/plain": [
       "            timestamp                           tab  \\\n",
       "0 2021-03-16 11:57:03  \"redhat-openshift-informing\"   \n",
       "1 2021-03-16 08:29:07  \"redhat-openshift-informing\"   \n",
       "2 2021-03-16 06:26:45  \"redhat-openshift-informing\"   \n",
       "3 2021-03-16 02:20:29  \"redhat-openshift-informing\"   \n",
       "4 2021-03-15 22:49:37  \"redhat-openshift-informing\"   \n",
       "\n",
       "                                               job     test  build_failure  \\\n",
       "0  release-openshift-okd-installer-e2e-aws-upgrade  Overall          False   \n",
       "1  release-openshift-okd-installer-e2e-aws-upgrade  Overall           True   \n",
       "2  release-openshift-okd-installer-e2e-aws-upgrade  Overall           True   \n",
       "3  release-openshift-okd-installer-e2e-aws-upgrade  Overall           True   \n",
       "4  release-openshift-okd-installer-e2e-aws-upgrade  Overall           True   \n",
       "\n",
       "   build_passing build_status  \n",
       "0          False         None  \n",
       "1          False         Fail  \n",
       "2          False         Fail  \n",
       "3          False         Fail  \n",
       "4          False         Fail  "
      ]
     },
     "execution_count": 34,
     "metadata": {},
     "output_type": "execute_result"
    }
   ],
   "source": [
    "combined.head()"
   ]
  },
  {
   "cell_type": "code",
   "execution_count": 35,
   "id": "strong-president",
   "metadata": {
    "ExecuteTime": {
     "end_time": "2021-03-16T17:59:12.059287Z",
     "start_time": "2021-03-16T17:59:12.053901Z"
    }
   },
   "outputs": [
    {
     "data": {
      "text/plain": [
       "37234"
      ]
     },
     "execution_count": 35,
     "metadata": {},
     "output_type": "execute_result"
    }
   ],
   "source": [
    "len(combined)"
   ]
  },
  {
   "cell_type": "code",
   "execution_count": 36,
   "id": "extended-defensive",
   "metadata": {
    "ExecuteTime": {
     "end_time": "2021-03-16T17:59:12.769278Z",
     "start_time": "2021-03-16T17:59:12.749780Z"
    }
   },
   "outputs": [],
   "source": [
    "# since we are only interested in success and failure statuses\n",
    "combined = combined.dropna()"
   ]
  },
  {
   "cell_type": "code",
   "execution_count": 37,
   "id": "mathematical-mainland",
   "metadata": {
    "ExecuteTime": {
     "end_time": "2021-03-16T17:59:13.986136Z",
     "start_time": "2021-03-16T17:59:13.980772Z"
    }
   },
   "outputs": [
    {
     "data": {
      "text/plain": [
       "37112"
      ]
     },
     "execution_count": 37,
     "metadata": {},
     "output_type": "execute_result"
    }
   ],
   "source": [
    "len(combined)"
   ]
  },
  {
   "cell_type": "code",
   "execution_count": 38,
   "id": "general-salmon",
   "metadata": {
    "ExecuteTime": {
     "end_time": "2021-03-16T17:59:17.201847Z",
     "start_time": "2021-03-16T17:59:16.614851Z"
    }
   },
   "outputs": [
    {
     "data": {
      "image/png": "[encoded data removed]",
      "text/plain": [
       "<Figure size 1224x720 with 1 Axes>"
      ]
     },
     "metadata": {},
     "output_type": "display_data"
    }
   ],
   "source": [
    "plot_builds_tab_grid(\"redhat-openshift-informing\", \"release-openshift-okd-installer-e2e-aws-upgrade\", combined)"
   ]
  },
  {
   "cell_type": "code",
   "execution_count": 39,
   "id": "yellow-artwork",
   "metadata": {
    "ExecuteTime": {
     "end_time": "2021-03-16T17:59:22.125824Z",
     "start_time": "2021-03-16T17:59:21.707931Z"
    }
   },
   "outputs": [
    {
     "data": {
      "image/png": "[encoded data removed]",
      "text/plain": [
       "<Figure size 1224x720 with 1 Axes>"
      ]
     },
     "metadata": {},
     "output_type": "display_data"
    }
   ],
   "source": [
    "plot_builds_tab_grid(\"redhat-openshift-ocp-release-4.2-informing\", \"release-openshift-origin-installer-e2e-aws-upgrade-rollback-4.1-to-4.2\", combined)"
   ]
  },
  {
   "cell_type": "markdown",
   "id": "authentic-husband",
   "metadata": {},
   "source": [
    "### Conclusion\n",
    "\n",
    "In this Notebook, we use the \"Overall\" as a proxy for a build. Testgrid refers an aggregate of multiple tests performed at a certain timestamp within a Job as a Build and each build has a unique Build ID. In this notebook, we went ahead and used the labels provided by testgrid which classify a test overall as Pass or Fail to indicate build success and failures and thus calculate the percent of success and failures."
   ]
  }
 ],
 "metadata": {
  "finalized": {
   "timestamp": 1615829641943,
   "trusted": false
  },
  "kernelspec": {
   "display_name": "Python 3",
   "language": "python",
   "name": "python3"
  },
  "language_info": {
   "codemirror_mode": {
    "name": "ipython",
    "version": 3
   },
   "file_extension": ".py",
   "mimetype": "text/x-python",
   "name": "python",
   "nbconvert_exporter": "python",
   "pygments_lexer": "ipython3",
   "version": "3.6.8"
  },
  "toc": {
   "base_numbering": 1,
   "nav_menu": {},
   "number_sections": true,
   "sideBar": true,
   "skip_h1_title": false,
   "title_cell": "Table of Contents",
   "title_sidebar": "Contents",
   "toc_cell": false,
   "toc_position": {},
   "toc_section_display": true,
   "toc_window_display": false
  }
 },
 "nbformat": 4,
 "nbformat_minor": 5
}
