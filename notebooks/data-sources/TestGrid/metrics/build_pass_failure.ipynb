{
 "cells": [
  {
   "cell_type": "markdown",
   "id": "resident-oxford",
   "metadata": {},
   "source": [
    "# Quantify Build Pass/Failure\n",
    "\n",
    "In this notebook, the key perfomance indicators that we would like to create greater visbility into and track over time is the percent of builds that passed/failed. This can be used to capture the build success rate ie. number of successful builds / deployments relative to the total number of builds / deployments. Through this notebook, we will be able to compute:\n",
    "\n",
    "* Total number of builds\n",
    "* Total number of passing builds\n",
    "* Total number of failing builds\n",
    "* Build pass percentage\n",
    "* Build failure percentage\n",
    "\n",
    "_Linked issues: [issue 1](https://github.com/aicoe-aiops/ocp-ci-analysis/issues/114), [issue 2](https://github.com/aicoe-aiops/ocp-ci-analysis/issues/136)_"
   ]
  },
  {
   "cell_type": "code",
   "execution_count": 1,
   "id": "textile-programming",
   "metadata": {
    "ExecuteTime": {
     "end_time": "2021-03-24T19:16:52.176485Z",
     "start_time": "2021-03-24T19:16:51.134245Z"
    }
   },
   "outputs": [
    {
     "data": {
      "text/plain": [
       "True"
      ]
     },
     "execution_count": 1,
     "metadata": {},
     "output_type": "execute_result"
    }
   ],
   "source": [
    "import gzip\n",
    "import json\n",
    "import os\n",
    "import pandas as pd\n",
    "import matplotlib.pyplot as plt\n",
    "import seaborn as sns\n",
    "import datetime\n",
    "\n",
    "from ipynb.fs.defs.metric_template import testgrid_labelwise_encoding\n",
    "from ipynb.fs.defs.metric_template import CephCommunication\n",
    "from ipynb.fs.defs.metric_template import save_to_disk, read_from_disk\n",
    "from dotenv import load_dotenv, find_dotenv\n",
    "\n",
    "load_dotenv(find_dotenv())"
   ]
  },
  {
   "cell_type": "code",
   "execution_count": 2,
   "id": "tamil-guinea",
   "metadata": {
    "ExecuteTime": {
     "end_time": "2021-03-24T19:17:05.930968Z",
     "start_time": "2021-03-24T19:16:53.339764Z"
    }
   },
   "outputs": [],
   "source": [
    "## Specify variables\n",
    "\n",
    "METRIC_NAME = \"build_pass_failure\"\n",
    "\n",
    "# Specify the path for input grid data,\n",
    "INPUT_DATA_PATH = \"../../../../data/raw/testgrid_183.json.gz\"\n",
    "\n",
    "# Specify the path for output metric data\n",
    "OUTPUT_DATA_PATH = f\"../../../../data/processed/metrics/{METRIC_NAME}\"\n",
    "\n",
    "## CEPH Bucket variables\n",
    "## Create a .env file on your local with the correct configs,\n",
    "s3_endpoint_url = os.getenv(\"S3_ENDPOINT\")\n",
    "s3_access_key = os.getenv(\"S3_ACCESS_KEY\")\n",
    "s3_secret_key = os.getenv(\"S3_SECRET_KEY\")\n",
    "s3_bucket = os.getenv(\"S3_BUCKET\")\n",
    "s3_path = os.getenv(\"S3_PROJECT_KEY\", \"metrics\")\n",
    "s3_input_data_path = \"raw_data\"\n",
    "AUTOMATION = os.getenv(\"IN_AUTOMATION\")"
   ]
  },
  {
   "cell_type": "code",
   "execution_count": 3,
   "id": "sorted-springfield",
   "metadata": {},
   "outputs": [],
   "source": [
    "# Load test file\n",
    "timestamp = datetime.datetime.now()\n",
    "\n",
    "if AUTOMATION:\n",
    "    cc = CephCommunication(s3_endpoint_url, s3_access_key, s3_secret_key, s3_bucket)\n",
    "    filename = f\"testgrid_{timestamp.day}{timestamp.month}.json\"\n",
    "    testgrid_data = cc.read_from_ceph(\n",
    "        s3_path, f\"{s3_input_data_path}/{filename}.parquet\"\n",
    "    )\n",
    "\n",
    "else:\n",
    "    with gzip.open(INPUT_DATA_PATH, \"rb\") as read_file:\n",
    "        testgrid_data = json.load(read_file)"
   ]
  },
  {
   "cell_type": "markdown",
   "id": "ordered-spencer",
   "metadata": {},
   "source": [
    "## Metric Calculation\n",
    "We find all the tests which are failing i.e have a status code of 12"
   ]
  },
  {
   "cell_type": "code",
   "execution_count": 4,
   "id": "functioning-diagram",
   "metadata": {
    "ExecuteTime": {
     "end_time": "2021-03-24T19:17:32.122674Z",
     "start_time": "2021-03-24T19:17:05.934222Z"
    }
   },
   "outputs": [],
   "source": [
    "build_failures_list = testgrid_labelwise_encoding(testgrid_data, 12)"
   ]
  },
  {
   "cell_type": "code",
   "execution_count": 5,
   "id": "particular-bailey",
   "metadata": {
    "ExecuteTime": {
     "end_time": "2021-03-24T19:17:32.129481Z",
     "start_time": "2021-03-24T19:17:32.125493Z"
    }
   },
   "outputs": [
    {
     "data": {
      "text/plain": [
       "27192485"
      ]
     },
     "execution_count": 5,
     "metadata": {},
     "output_type": "execute_result"
    }
   ],
   "source": [
    "len(build_failures_list)"
   ]
  },
  {
   "cell_type": "code",
   "execution_count": 6,
   "id": "stylish-pointer",
   "metadata": {
    "ExecuteTime": {
     "end_time": "2021-03-24T19:17:33.357274Z",
     "start_time": "2021-03-24T19:17:32.131613Z"
    }
   },
   "outputs": [
    {
     "data": {
      "text/plain": [
       "(datetime.datetime(2021, 3, 15, 23, 40, 20),\n",
       " '\"redhat-assisted-installer\"',\n",
       " 'periodic-ci-openshift-release-master-nightly-4.6-e2e-metal-assisted',\n",
       " 'Overall',\n",
       " 80.28333333333333,\n",
       " False)"
      ]
     },
     "execution_count": 6,
     "metadata": {},
     "output_type": "execute_result"
    }
   ],
   "source": [
    "build_failures_list[0]"
   ]
  },
  {
   "cell_type": "code",
   "execution_count": 7,
   "id": "minimal-script",
   "metadata": {
    "ExecuteTime": {
     "end_time": "2021-03-24T19:17:48.514257Z",
     "start_time": "2021-03-24T19:17:33.359634Z"
    }
   },
   "outputs": [
    {
     "data": {
      "text/html": [
       "<div>\n",
       "<style scoped>\n",
       "    .dataframe tbody tr th:only-of-type {\n",
       "        vertical-align: middle;\n",
       "    }\n",
       "\n",
       "    .dataframe tbody tr th {\n",
       "        vertical-align: top;\n",
       "    }\n",
       "\n",
       "    .dataframe thead th {\n",
       "        text-align: right;\n",
       "    }\n",
       "</style>\n",
       "<table border=\"1\" class=\"dataframe\">\n",
       "  <thead>\n",
       "    <tr style=\"text-align: right;\">\n",
       "      <th></th>\n",
       "      <th>timestamp</th>\n",
       "      <th>tab</th>\n",
       "      <th>job</th>\n",
       "      <th>test</th>\n",
       "      <th>test_duration</th>\n",
       "      <th>build_failure</th>\n",
       "    </tr>\n",
       "  </thead>\n",
       "  <tbody>\n",
       "    <tr>\n",
       "      <th>0</th>\n",
       "      <td>2021-03-15 23:40:20</td>\n",
       "      <td>\"redhat-assisted-installer\"</td>\n",
       "      <td>periodic-ci-openshift-release-master-nightly-4...</td>\n",
       "      <td>Overall</td>\n",
       "      <td>80.283333</td>\n",
       "      <td>False</td>\n",
       "    </tr>\n",
       "    <tr>\n",
       "      <th>1</th>\n",
       "      <td>2021-03-15 00:01:06</td>\n",
       "      <td>\"redhat-assisted-installer\"</td>\n",
       "      <td>periodic-ci-openshift-release-master-nightly-4...</td>\n",
       "      <td>Overall</td>\n",
       "      <td>92.050000</td>\n",
       "      <td>False</td>\n",
       "    </tr>\n",
       "    <tr>\n",
       "      <th>2</th>\n",
       "      <td>2021-03-13 20:51:32</td>\n",
       "      <td>\"redhat-assisted-installer\"</td>\n",
       "      <td>periodic-ci-openshift-release-master-nightly-4...</td>\n",
       "      <td>Overall</td>\n",
       "      <td>80.983333</td>\n",
       "      <td>False</td>\n",
       "    </tr>\n",
       "    <tr>\n",
       "      <th>3</th>\n",
       "      <td>2021-03-13 07:51:20</td>\n",
       "      <td>\"redhat-assisted-installer\"</td>\n",
       "      <td>periodic-ci-openshift-release-master-nightly-4...</td>\n",
       "      <td>Overall</td>\n",
       "      <td>117.716667</td>\n",
       "      <td>False</td>\n",
       "    </tr>\n",
       "    <tr>\n",
       "      <th>4</th>\n",
       "      <td>2021-03-13 06:43:20</td>\n",
       "      <td>\"redhat-assisted-installer\"</td>\n",
       "      <td>periodic-ci-openshift-release-master-nightly-4...</td>\n",
       "      <td>Overall</td>\n",
       "      <td>108.633333</td>\n",
       "      <td>False</td>\n",
       "    </tr>\n",
       "  </tbody>\n",
       "</table>\n",
       "</div>"
      ],
      "text/plain": [
       "            timestamp                          tab  \\\n",
       "0 2021-03-15 23:40:20  \"redhat-assisted-installer\"   \n",
       "1 2021-03-15 00:01:06  \"redhat-assisted-installer\"   \n",
       "2 2021-03-13 20:51:32  \"redhat-assisted-installer\"   \n",
       "3 2021-03-13 07:51:20  \"redhat-assisted-installer\"   \n",
       "4 2021-03-13 06:43:20  \"redhat-assisted-installer\"   \n",
       "\n",
       "                                                 job     test  test_duration  \\\n",
       "0  periodic-ci-openshift-release-master-nightly-4...  Overall      80.283333   \n",
       "1  periodic-ci-openshift-release-master-nightly-4...  Overall      92.050000   \n",
       "2  periodic-ci-openshift-release-master-nightly-4...  Overall      80.983333   \n",
       "3  periodic-ci-openshift-release-master-nightly-4...  Overall     117.716667   \n",
       "4  periodic-ci-openshift-release-master-nightly-4...  Overall     108.633333   \n",
       "\n",
       "   build_failure  \n",
       "0          False  \n",
       "1          False  \n",
       "2          False  \n",
       "3          False  \n",
       "4          False  "
      ]
     },
     "execution_count": 7,
     "metadata": {},
     "output_type": "execute_result"
    }
   ],
   "source": [
    "# Convert to dataframe\n",
    "build_failures_df = pd.DataFrame(\n",
    "    build_failures_list,\n",
    "    columns=[\"timestamp\", \"tab\", \"job\", \"test\", \"test_duration\", \"build_failure\"],\n",
    ")\n",
    "build_failures_df.head()"
   ]
  },
  {
   "cell_type": "markdown",
   "id": "weekly-blogger",
   "metadata": {},
   "source": [
    "We use the `Overall` tests as our proxy for builds. We used the labels provided by TestGrid which classify a test overall as Pass or Fail to indicate build success and failures."
   ]
  },
  {
   "cell_type": "code",
   "execution_count": 8,
   "id": "considered-advertising",
   "metadata": {
    "ExecuteTime": {
     "end_time": "2021-03-24T19:17:49.995766Z",
     "start_time": "2021-03-24T19:17:48.516499Z"
    }
   },
   "outputs": [],
   "source": [
    "build_failures_df = build_failures_df.loc[build_failures_df[\"test\"] == \"Overall\"]"
   ]
  },
  {
   "cell_type": "code",
   "execution_count": 9,
   "id": "protective-hawaii",
   "metadata": {
    "ExecuteTime": {
     "end_time": "2021-03-24T19:17:50.011468Z",
     "start_time": "2021-03-24T19:17:49.998007Z"
    }
   },
   "outputs": [
    {
     "data": {
      "text/html": [
       "<div>\n",
       "<style scoped>\n",
       "    .dataframe tbody tr th:only-of-type {\n",
       "        vertical-align: middle;\n",
       "    }\n",
       "\n",
       "    .dataframe tbody tr th {\n",
       "        vertical-align: top;\n",
       "    }\n",
       "\n",
       "    .dataframe thead th {\n",
       "        text-align: right;\n",
       "    }\n",
       "</style>\n",
       "<table border=\"1\" class=\"dataframe\">\n",
       "  <thead>\n",
       "    <tr style=\"text-align: right;\">\n",
       "      <th></th>\n",
       "      <th>timestamp</th>\n",
       "      <th>tab</th>\n",
       "      <th>job</th>\n",
       "      <th>test</th>\n",
       "      <th>test_duration</th>\n",
       "      <th>build_failure</th>\n",
       "    </tr>\n",
       "  </thead>\n",
       "  <tbody>\n",
       "    <tr>\n",
       "      <th>0</th>\n",
       "      <td>2021-03-15 23:40:20</td>\n",
       "      <td>\"redhat-assisted-installer\"</td>\n",
       "      <td>periodic-ci-openshift-release-master-nightly-4...</td>\n",
       "      <td>Overall</td>\n",
       "      <td>80.283333</td>\n",
       "      <td>False</td>\n",
       "    </tr>\n",
       "    <tr>\n",
       "      <th>1</th>\n",
       "      <td>2021-03-15 00:01:06</td>\n",
       "      <td>\"redhat-assisted-installer\"</td>\n",
       "      <td>periodic-ci-openshift-release-master-nightly-4...</td>\n",
       "      <td>Overall</td>\n",
       "      <td>92.050000</td>\n",
       "      <td>False</td>\n",
       "    </tr>\n",
       "    <tr>\n",
       "      <th>2</th>\n",
       "      <td>2021-03-13 20:51:32</td>\n",
       "      <td>\"redhat-assisted-installer\"</td>\n",
       "      <td>periodic-ci-openshift-release-master-nightly-4...</td>\n",
       "      <td>Overall</td>\n",
       "      <td>80.983333</td>\n",
       "      <td>False</td>\n",
       "    </tr>\n",
       "    <tr>\n",
       "      <th>3</th>\n",
       "      <td>2021-03-13 07:51:20</td>\n",
       "      <td>\"redhat-assisted-installer\"</td>\n",
       "      <td>periodic-ci-openshift-release-master-nightly-4...</td>\n",
       "      <td>Overall</td>\n",
       "      <td>117.716667</td>\n",
       "      <td>False</td>\n",
       "    </tr>\n",
       "    <tr>\n",
       "      <th>4</th>\n",
       "      <td>2021-03-13 06:43:20</td>\n",
       "      <td>\"redhat-assisted-installer\"</td>\n",
       "      <td>periodic-ci-openshift-release-master-nightly-4...</td>\n",
       "      <td>Overall</td>\n",
       "      <td>108.633333</td>\n",
       "      <td>False</td>\n",
       "    </tr>\n",
       "  </tbody>\n",
       "</table>\n",
       "</div>"
      ],
      "text/plain": [
       "            timestamp                          tab  \\\n",
       "0 2021-03-15 23:40:20  \"redhat-assisted-installer\"   \n",
       "1 2021-03-15 00:01:06  \"redhat-assisted-installer\"   \n",
       "2 2021-03-13 20:51:32  \"redhat-assisted-installer\"   \n",
       "3 2021-03-13 07:51:20  \"redhat-assisted-installer\"   \n",
       "4 2021-03-13 06:43:20  \"redhat-assisted-installer\"   \n",
       "\n",
       "                                                 job     test  test_duration  \\\n",
       "0  periodic-ci-openshift-release-master-nightly-4...  Overall      80.283333   \n",
       "1  periodic-ci-openshift-release-master-nightly-4...  Overall      92.050000   \n",
       "2  periodic-ci-openshift-release-master-nightly-4...  Overall      80.983333   \n",
       "3  periodic-ci-openshift-release-master-nightly-4...  Overall     117.716667   \n",
       "4  periodic-ci-openshift-release-master-nightly-4...  Overall     108.633333   \n",
       "\n",
       "   build_failure  \n",
       "0          False  \n",
       "1          False  \n",
       "2          False  \n",
       "3          False  \n",
       "4          False  "
      ]
     },
     "execution_count": 9,
     "metadata": {},
     "output_type": "execute_result"
    }
   ],
   "source": [
    "build_failures_df.head()"
   ]
  },
  {
   "cell_type": "markdown",
   "id": "found-watch",
   "metadata": {},
   "source": [
    "We now find all the tests which are passing i.e. have a status code of 1."
   ]
  },
  {
   "cell_type": "code",
   "execution_count": 10,
   "id": "clean-portugal",
   "metadata": {
    "ExecuteTime": {
     "end_time": "2021-03-24T19:18:28.411187Z",
     "start_time": "2021-03-24T19:17:50.318498Z"
    }
   },
   "outputs": [],
   "source": [
    "build_passing_list = testgrid_labelwise_encoding(testgrid_data, 1)"
   ]
  },
  {
   "cell_type": "code",
   "execution_count": 11,
   "id": "joint-phone",
   "metadata": {
    "ExecuteTime": {
     "end_time": "2021-03-24T19:18:41.892913Z",
     "start_time": "2021-03-24T19:18:28.414121Z"
    }
   },
   "outputs": [
    {
     "data": {
      "text/html": [
       "<div>\n",
       "<style scoped>\n",
       "    .dataframe tbody tr th:only-of-type {\n",
       "        vertical-align: middle;\n",
       "    }\n",
       "\n",
       "    .dataframe tbody tr th {\n",
       "        vertical-align: top;\n",
       "    }\n",
       "\n",
       "    .dataframe thead th {\n",
       "        text-align: right;\n",
       "    }\n",
       "</style>\n",
       "<table border=\"1\" class=\"dataframe\">\n",
       "  <thead>\n",
       "    <tr style=\"text-align: right;\">\n",
       "      <th></th>\n",
       "      <th>timestamp</th>\n",
       "      <th>tab</th>\n",
       "      <th>job</th>\n",
       "      <th>test</th>\n",
       "      <th>test_duration</th>\n",
       "      <th>build_passing</th>\n",
       "    </tr>\n",
       "  </thead>\n",
       "  <tbody>\n",
       "    <tr>\n",
       "      <th>0</th>\n",
       "      <td>2021-03-15 23:40:20</td>\n",
       "      <td>\"redhat-assisted-installer\"</td>\n",
       "      <td>periodic-ci-openshift-release-master-nightly-4...</td>\n",
       "      <td>Overall</td>\n",
       "      <td>80.283333</td>\n",
       "      <td>True</td>\n",
       "    </tr>\n",
       "    <tr>\n",
       "      <th>1</th>\n",
       "      <td>2021-03-15 00:01:06</td>\n",
       "      <td>\"redhat-assisted-installer\"</td>\n",
       "      <td>periodic-ci-openshift-release-master-nightly-4...</td>\n",
       "      <td>Overall</td>\n",
       "      <td>92.050000</td>\n",
       "      <td>True</td>\n",
       "    </tr>\n",
       "    <tr>\n",
       "      <th>2</th>\n",
       "      <td>2021-03-13 20:51:32</td>\n",
       "      <td>\"redhat-assisted-installer\"</td>\n",
       "      <td>periodic-ci-openshift-release-master-nightly-4...</td>\n",
       "      <td>Overall</td>\n",
       "      <td>80.983333</td>\n",
       "      <td>True</td>\n",
       "    </tr>\n",
       "    <tr>\n",
       "      <th>3</th>\n",
       "      <td>2021-03-13 07:51:20</td>\n",
       "      <td>\"redhat-assisted-installer\"</td>\n",
       "      <td>periodic-ci-openshift-release-master-nightly-4...</td>\n",
       "      <td>Overall</td>\n",
       "      <td>117.716667</td>\n",
       "      <td>True</td>\n",
       "    </tr>\n",
       "    <tr>\n",
       "      <th>4</th>\n",
       "      <td>2021-03-13 06:43:20</td>\n",
       "      <td>\"redhat-assisted-installer\"</td>\n",
       "      <td>periodic-ci-openshift-release-master-nightly-4...</td>\n",
       "      <td>Overall</td>\n",
       "      <td>108.633333</td>\n",
       "      <td>True</td>\n",
       "    </tr>\n",
       "  </tbody>\n",
       "</table>\n",
       "</div>"
      ],
      "text/plain": [
       "            timestamp                          tab  \\\n",
       "0 2021-03-15 23:40:20  \"redhat-assisted-installer\"   \n",
       "1 2021-03-15 00:01:06  \"redhat-assisted-installer\"   \n",
       "2 2021-03-13 20:51:32  \"redhat-assisted-installer\"   \n",
       "3 2021-03-13 07:51:20  \"redhat-assisted-installer\"   \n",
       "4 2021-03-13 06:43:20  \"redhat-assisted-installer\"   \n",
       "\n",
       "                                                 job     test  test_duration  \\\n",
       "0  periodic-ci-openshift-release-master-nightly-4...  Overall      80.283333   \n",
       "1  periodic-ci-openshift-release-master-nightly-4...  Overall      92.050000   \n",
       "2  periodic-ci-openshift-release-master-nightly-4...  Overall      80.983333   \n",
       "3  periodic-ci-openshift-release-master-nightly-4...  Overall     117.716667   \n",
       "4  periodic-ci-openshift-release-master-nightly-4...  Overall     108.633333   \n",
       "\n",
       "   build_passing  \n",
       "0           True  \n",
       "1           True  \n",
       "2           True  \n",
       "3           True  \n",
       "4           True  "
      ]
     },
     "execution_count": 11,
     "metadata": {},
     "output_type": "execute_result"
    }
   ],
   "source": [
    "# Convert to dataframe\n",
    "build_passing_df = pd.DataFrame(\n",
    "    build_passing_list,\n",
    "    columns=[\"timestamp\", \"tab\", \"job\", \"test\", \"test_duration\", \"build_passing\"],\n",
    ")\n",
    "build_passing_df.head()"
   ]
  },
  {
   "cell_type": "code",
   "execution_count": 12,
   "id": "interesting-wellington",
   "metadata": {
    "ExecuteTime": {
     "end_time": "2021-03-24T19:18:43.335390Z",
     "start_time": "2021-03-24T19:18:41.895412Z"
    }
   },
   "outputs": [],
   "source": [
    "build_passing_df = build_passing_df.loc[build_passing_df[\"test\"] == \"Overall\"]"
   ]
  },
  {
   "cell_type": "code",
   "execution_count": 13,
   "id": "invalid-praise",
   "metadata": {
    "ExecuteTime": {
     "end_time": "2021-03-24T19:18:43.350415Z",
     "start_time": "2021-03-24T19:18:43.337566Z"
    }
   },
   "outputs": [
    {
     "data": {
      "text/html": [
       "<div>\n",
       "<style scoped>\n",
       "    .dataframe tbody tr th:only-of-type {\n",
       "        vertical-align: middle;\n",
       "    }\n",
       "\n",
       "    .dataframe tbody tr th {\n",
       "        vertical-align: top;\n",
       "    }\n",
       "\n",
       "    .dataframe thead th {\n",
       "        text-align: right;\n",
       "    }\n",
       "</style>\n",
       "<table border=\"1\" class=\"dataframe\">\n",
       "  <thead>\n",
       "    <tr style=\"text-align: right;\">\n",
       "      <th></th>\n",
       "      <th>timestamp</th>\n",
       "      <th>tab</th>\n",
       "      <th>job</th>\n",
       "      <th>test</th>\n",
       "      <th>test_duration</th>\n",
       "      <th>build_passing</th>\n",
       "    </tr>\n",
       "  </thead>\n",
       "  <tbody>\n",
       "    <tr>\n",
       "      <th>0</th>\n",
       "      <td>2021-03-15 23:40:20</td>\n",
       "      <td>\"redhat-assisted-installer\"</td>\n",
       "      <td>periodic-ci-openshift-release-master-nightly-4...</td>\n",
       "      <td>Overall</td>\n",
       "      <td>80.283333</td>\n",
       "      <td>True</td>\n",
       "    </tr>\n",
       "    <tr>\n",
       "      <th>1</th>\n",
       "      <td>2021-03-15 00:01:06</td>\n",
       "      <td>\"redhat-assisted-installer\"</td>\n",
       "      <td>periodic-ci-openshift-release-master-nightly-4...</td>\n",
       "      <td>Overall</td>\n",
       "      <td>92.050000</td>\n",
       "      <td>True</td>\n",
       "    </tr>\n",
       "    <tr>\n",
       "      <th>2</th>\n",
       "      <td>2021-03-13 20:51:32</td>\n",
       "      <td>\"redhat-assisted-installer\"</td>\n",
       "      <td>periodic-ci-openshift-release-master-nightly-4...</td>\n",
       "      <td>Overall</td>\n",
       "      <td>80.983333</td>\n",
       "      <td>True</td>\n",
       "    </tr>\n",
       "    <tr>\n",
       "      <th>3</th>\n",
       "      <td>2021-03-13 07:51:20</td>\n",
       "      <td>\"redhat-assisted-installer\"</td>\n",
       "      <td>periodic-ci-openshift-release-master-nightly-4...</td>\n",
       "      <td>Overall</td>\n",
       "      <td>117.716667</td>\n",
       "      <td>True</td>\n",
       "    </tr>\n",
       "    <tr>\n",
       "      <th>4</th>\n",
       "      <td>2021-03-13 06:43:20</td>\n",
       "      <td>\"redhat-assisted-installer\"</td>\n",
       "      <td>periodic-ci-openshift-release-master-nightly-4...</td>\n",
       "      <td>Overall</td>\n",
       "      <td>108.633333</td>\n",
       "      <td>True</td>\n",
       "    </tr>\n",
       "  </tbody>\n",
       "</table>\n",
       "</div>"
      ],
      "text/plain": [
       "            timestamp                          tab  \\\n",
       "0 2021-03-15 23:40:20  \"redhat-assisted-installer\"   \n",
       "1 2021-03-15 00:01:06  \"redhat-assisted-installer\"   \n",
       "2 2021-03-13 20:51:32  \"redhat-assisted-installer\"   \n",
       "3 2021-03-13 07:51:20  \"redhat-assisted-installer\"   \n",
       "4 2021-03-13 06:43:20  \"redhat-assisted-installer\"   \n",
       "\n",
       "                                                 job     test  test_duration  \\\n",
       "0  periodic-ci-openshift-release-master-nightly-4...  Overall      80.283333   \n",
       "1  periodic-ci-openshift-release-master-nightly-4...  Overall      92.050000   \n",
       "2  periodic-ci-openshift-release-master-nightly-4...  Overall      80.983333   \n",
       "3  periodic-ci-openshift-release-master-nightly-4...  Overall     117.716667   \n",
       "4  periodic-ci-openshift-release-master-nightly-4...  Overall     108.633333   \n",
       "\n",
       "   build_passing  \n",
       "0           True  \n",
       "1           True  \n",
       "2           True  \n",
       "3           True  \n",
       "4           True  "
      ]
     },
     "execution_count": 13,
     "metadata": {},
     "output_type": "execute_result"
    }
   ],
   "source": [
    "build_passing_df.head()"
   ]
  },
  {
   "cell_type": "markdown",
   "id": "boxed-demonstration",
   "metadata": {},
   "source": [
    "## Metric Calculation\n",
    "We want to capture the build pass and build fail percentage."
   ]
  },
  {
   "cell_type": "code",
   "execution_count": 14,
   "id": "considerable-friendship",
   "metadata": {
    "ExecuteTime": {
     "end_time": "2021-03-24T19:18:43.681329Z",
     "start_time": "2021-03-24T19:18:43.665190Z"
    }
   },
   "outputs": [
    {
     "name": "stdout",
     "output_type": "stream",
     "text": [
      "Total number of Builds: 37799\n",
      "Total number of failing builds: 16615\n",
      "Build failure percentage: 43.956189\n",
      "Total number of passing builds: 21061\n",
      "Build pass percentage: 55.718405\n"
     ]
    }
   ],
   "source": [
    "# Metrics\n",
    "no_tests = build_passing_df.test.count()\n",
    "print(\"Total number of Builds: %i\" % (no_tests))\n",
    "no_failures = build_failures_df.build_failure.sum()\n",
    "print(\"Total number of failing builds: %i\" % (no_failures))\n",
    "build_failures_percentage = (\n",
    "    (build_failures_df.build_failure.sum() / build_failures_df.test.count())\n",
    ") * 100\n",
    "print(\"Build failure percentage: %f\" % (build_failures_percentage))\n",
    "no_pass = build_passing_df.build_passing.sum()\n",
    "print(\"Total number of passing builds: %i\" % (no_pass))\n",
    "build_pass_percentage = (\n",
    "    (build_passing_df.build_passing.sum() / build_passing_df.test.count())\n",
    ") * 100\n",
    "print(\"Build pass percentage: %f\" % (build_pass_percentage))"
   ]
  },
  {
   "cell_type": "markdown",
   "id": "coordinated-disorder",
   "metadata": {},
   "source": [
    "## Visualization\n",
    "Plot of build success and failure over time"
   ]
  },
  {
   "cell_type": "code",
   "execution_count": 15,
   "id": "bright-speaking",
   "metadata": {
    "ExecuteTime": {
     "end_time": "2021-03-24T19:18:43.691673Z",
     "start_time": "2021-03-24T19:18:43.683391Z"
    }
   },
   "outputs": [],
   "source": [
    "def plot_builds_tab_grid(tab, job, df):\n",
    "\n",
    "    \"\"\"\n",
    "    Takes in input as tab and grid and plots change in\n",
    "    build pass/fail over time\n",
    "    \"\"\"\n",
    "\n",
    "    df = df[(df[\"tab\"] == tab) | (df[\"job\"] == job)]\n",
    "\n",
    "    sns.set(rc={\"figure.figsize\": (15, 5)})\n",
    "    sns.lineplot(x=\"timestamp\", y=\"build_status\", data=df)\n",
    "    plt.xlabel(\"Timestamps\")\n",
    "    plt.ylabel(\"Build Pass or Fail\")\n",
    "    plt.title(\"Change in Build Pass or Failure over time\")\n",
    "    plt.show()"
   ]
  },
  {
   "cell_type": "code",
   "execution_count": 16,
   "id": "actual-arrest",
   "metadata": {
    "ExecuteTime": {
     "end_time": "2021-03-24T19:18:47.084942Z",
     "start_time": "2021-03-24T19:18:47.016968Z"
    }
   },
   "outputs": [],
   "source": [
    "combined = pd.merge(\n",
    "    build_failures_df,\n",
    "    build_passing_df,\n",
    "    on=[\"timestamp\", \"tab\", \"job\", \"test\", \"test_duration\"],\n",
    ")"
   ]
  },
  {
   "cell_type": "code",
   "execution_count": 17,
   "id": "dress-dover",
   "metadata": {
    "ExecuteTime": {
     "end_time": "2021-03-24T19:18:49.393295Z",
     "start_time": "2021-03-24T19:18:47.868604Z"
    }
   },
   "outputs": [
    {
     "data": {
      "text/html": [
       "<div>\n",
       "<style scoped>\n",
       "    .dataframe tbody tr th:only-of-type {\n",
       "        vertical-align: middle;\n",
       "    }\n",
       "\n",
       "    .dataframe tbody tr th {\n",
       "        vertical-align: top;\n",
       "    }\n",
       "\n",
       "    .dataframe thead th {\n",
       "        text-align: right;\n",
       "    }\n",
       "</style>\n",
       "<table border=\"1\" class=\"dataframe\">\n",
       "  <thead>\n",
       "    <tr style=\"text-align: right;\">\n",
       "      <th></th>\n",
       "      <th>timestamp</th>\n",
       "      <th>tab</th>\n",
       "      <th>job</th>\n",
       "      <th>test</th>\n",
       "      <th>test_duration</th>\n",
       "      <th>build_failure</th>\n",
       "      <th>build_passing</th>\n",
       "    </tr>\n",
       "  </thead>\n",
       "  <tbody>\n",
       "    <tr>\n",
       "      <th>0</th>\n",
       "      <td>2021-03-15 23:40:20</td>\n",
       "      <td>\"redhat-assisted-installer\"</td>\n",
       "      <td>periodic-ci-openshift-release-master-nightly-4...</td>\n",
       "      <td>Overall</td>\n",
       "      <td>80.283333</td>\n",
       "      <td>False</td>\n",
       "      <td>True</td>\n",
       "    </tr>\n",
       "    <tr>\n",
       "      <th>1</th>\n",
       "      <td>2021-03-15 00:01:06</td>\n",
       "      <td>\"redhat-assisted-installer\"</td>\n",
       "      <td>periodic-ci-openshift-release-master-nightly-4...</td>\n",
       "      <td>Overall</td>\n",
       "      <td>92.050000</td>\n",
       "      <td>False</td>\n",
       "      <td>True</td>\n",
       "    </tr>\n",
       "    <tr>\n",
       "      <th>2</th>\n",
       "      <td>2021-03-13 20:51:32</td>\n",
       "      <td>\"redhat-assisted-installer\"</td>\n",
       "      <td>periodic-ci-openshift-release-master-nightly-4...</td>\n",
       "      <td>Overall</td>\n",
       "      <td>80.983333</td>\n",
       "      <td>False</td>\n",
       "      <td>True</td>\n",
       "    </tr>\n",
       "    <tr>\n",
       "      <th>3</th>\n",
       "      <td>2021-03-13 07:51:20</td>\n",
       "      <td>\"redhat-assisted-installer\"</td>\n",
       "      <td>periodic-ci-openshift-release-master-nightly-4...</td>\n",
       "      <td>Overall</td>\n",
       "      <td>117.716667</td>\n",
       "      <td>False</td>\n",
       "      <td>True</td>\n",
       "    </tr>\n",
       "    <tr>\n",
       "      <th>4</th>\n",
       "      <td>2021-03-13 06:43:20</td>\n",
       "      <td>\"redhat-assisted-installer\"</td>\n",
       "      <td>periodic-ci-openshift-release-master-nightly-4...</td>\n",
       "      <td>Overall</td>\n",
       "      <td>108.633333</td>\n",
       "      <td>False</td>\n",
       "      <td>True</td>\n",
       "    </tr>\n",
       "    <tr>\n",
       "      <th>...</th>\n",
       "      <td>...</td>\n",
       "      <td>...</td>\n",
       "      <td>...</td>\n",
       "      <td>...</td>\n",
       "      <td>...</td>\n",
       "      <td>...</td>\n",
       "      <td>...</td>\n",
       "    </tr>\n",
       "    <tr>\n",
       "      <th>37798</th>\n",
       "      <td>2021-03-14 00:01:00</td>\n",
       "      <td>\"redhat-single-node\"</td>\n",
       "      <td>periodic-ci-openshift-release-master-nightly-4...</td>\n",
       "      <td>Overall</td>\n",
       "      <td>63.150000</td>\n",
       "      <td>False</td>\n",
       "      <td>True</td>\n",
       "    </tr>\n",
       "    <tr>\n",
       "      <th>37799</th>\n",
       "      <td>2021-03-13 00:01:07</td>\n",
       "      <td>\"redhat-single-node\"</td>\n",
       "      <td>periodic-ci-openshift-release-master-nightly-4...</td>\n",
       "      <td>Overall</td>\n",
       "      <td>64.650000</td>\n",
       "      <td>False</td>\n",
       "      <td>True</td>\n",
       "    </tr>\n",
       "    <tr>\n",
       "      <th>37800</th>\n",
       "      <td>2021-03-12 04:22:20</td>\n",
       "      <td>\"redhat-single-node\"</td>\n",
       "      <td>periodic-ci-openshift-release-master-nightly-4...</td>\n",
       "      <td>Overall</td>\n",
       "      <td>66.233333</td>\n",
       "      <td>False</td>\n",
       "      <td>True</td>\n",
       "    </tr>\n",
       "    <tr>\n",
       "      <th>37801</th>\n",
       "      <td>2021-03-11 00:01:18</td>\n",
       "      <td>\"redhat-single-node\"</td>\n",
       "      <td>periodic-ci-openshift-release-master-nightly-4...</td>\n",
       "      <td>Overall</td>\n",
       "      <td>15.566667</td>\n",
       "      <td>True</td>\n",
       "      <td>False</td>\n",
       "    </tr>\n",
       "    <tr>\n",
       "      <th>37802</th>\n",
       "      <td>2021-03-10 00:01:03</td>\n",
       "      <td>\"redhat-single-node\"</td>\n",
       "      <td>periodic-ci-openshift-release-master-nightly-4...</td>\n",
       "      <td>Overall</td>\n",
       "      <td>64.800000</td>\n",
       "      <td>False</td>\n",
       "      <td>True</td>\n",
       "    </tr>\n",
       "  </tbody>\n",
       "</table>\n",
       "<p>37803 rows × 7 columns</p>\n",
       "</div>"
      ],
      "text/plain": [
       "                timestamp                          tab  \\\n",
       "0     2021-03-15 23:40:20  \"redhat-assisted-installer\"   \n",
       "1     2021-03-15 00:01:06  \"redhat-assisted-installer\"   \n",
       "2     2021-03-13 20:51:32  \"redhat-assisted-installer\"   \n",
       "3     2021-03-13 07:51:20  \"redhat-assisted-installer\"   \n",
       "4     2021-03-13 06:43:20  \"redhat-assisted-installer\"   \n",
       "...                   ...                          ...   \n",
       "37798 2021-03-14 00:01:00         \"redhat-single-node\"   \n",
       "37799 2021-03-13 00:01:07         \"redhat-single-node\"   \n",
       "37800 2021-03-12 04:22:20         \"redhat-single-node\"   \n",
       "37801 2021-03-11 00:01:18         \"redhat-single-node\"   \n",
       "37802 2021-03-10 00:01:03         \"redhat-single-node\"   \n",
       "\n",
       "                                                     job     test  \\\n",
       "0      periodic-ci-openshift-release-master-nightly-4...  Overall   \n",
       "1      periodic-ci-openshift-release-master-nightly-4...  Overall   \n",
       "2      periodic-ci-openshift-release-master-nightly-4...  Overall   \n",
       "3      periodic-ci-openshift-release-master-nightly-4...  Overall   \n",
       "4      periodic-ci-openshift-release-master-nightly-4...  Overall   \n",
       "...                                                  ...      ...   \n",
       "37798  periodic-ci-openshift-release-master-nightly-4...  Overall   \n",
       "37799  periodic-ci-openshift-release-master-nightly-4...  Overall   \n",
       "37800  periodic-ci-openshift-release-master-nightly-4...  Overall   \n",
       "37801  periodic-ci-openshift-release-master-nightly-4...  Overall   \n",
       "37802  periodic-ci-openshift-release-master-nightly-4...  Overall   \n",
       "\n",
       "       test_duration  build_failure  build_passing  \n",
       "0          80.283333          False           True  \n",
       "1          92.050000          False           True  \n",
       "2          80.983333          False           True  \n",
       "3         117.716667          False           True  \n",
       "4         108.633333          False           True  \n",
       "...              ...            ...            ...  \n",
       "37798      63.150000          False           True  \n",
       "37799      64.650000          False           True  \n",
       "37800      66.233333          False           True  \n",
       "37801      15.566667           True          False  \n",
       "37802      64.800000          False           True  \n",
       "\n",
       "[37803 rows x 7 columns]"
      ]
     },
     "execution_count": 17,
     "metadata": {},
     "output_type": "execute_result"
    }
   ],
   "source": [
    "combined"
   ]
  },
  {
   "cell_type": "code",
   "execution_count": 18,
   "id": "descending-geneva",
   "metadata": {
    "ExecuteTime": {
     "end_time": "2021-03-24T19:18:49.690384Z",
     "start_time": "2021-03-24T19:18:49.396238Z"
    }
   },
   "outputs": [],
   "source": [
    "def label_race(row):\n",
    "    if row[\"build_failure\"]:\n",
    "        return \"Fail\"\n",
    "\n",
    "    if row[\"build_passing\"]:\n",
    "        return \"Pass\""
   ]
  },
  {
   "cell_type": "code",
   "execution_count": 19,
   "id": "through-strengthening",
   "metadata": {
    "ExecuteTime": {
     "end_time": "2021-03-24T19:18:52.697496Z",
     "start_time": "2021-03-24T19:18:51.248065Z"
    }
   },
   "outputs": [],
   "source": [
    "combined[\"build_status\"] = combined.apply(lambda row: label_race(row), axis=1)"
   ]
  },
  {
   "cell_type": "code",
   "execution_count": 20,
   "id": "worth-double",
   "metadata": {
    "ExecuteTime": {
     "end_time": "2021-03-24T19:18:53.513997Z",
     "start_time": "2021-03-24T19:18:53.498594Z"
    }
   },
   "outputs": [
    {
     "data": {
      "text/html": [
       "<div>\n",
       "<style scoped>\n",
       "    .dataframe tbody tr th:only-of-type {\n",
       "        vertical-align: middle;\n",
       "    }\n",
       "\n",
       "    .dataframe tbody tr th {\n",
       "        vertical-align: top;\n",
       "    }\n",
       "\n",
       "    .dataframe thead th {\n",
       "        text-align: right;\n",
       "    }\n",
       "</style>\n",
       "<table border=\"1\" class=\"dataframe\">\n",
       "  <thead>\n",
       "    <tr style=\"text-align: right;\">\n",
       "      <th></th>\n",
       "      <th>timestamp</th>\n",
       "      <th>tab</th>\n",
       "      <th>job</th>\n",
       "      <th>test</th>\n",
       "      <th>test_duration</th>\n",
       "      <th>build_failure</th>\n",
       "      <th>build_passing</th>\n",
       "      <th>build_status</th>\n",
       "    </tr>\n",
       "  </thead>\n",
       "  <tbody>\n",
       "    <tr>\n",
       "      <th>0</th>\n",
       "      <td>2021-03-15 23:40:20</td>\n",
       "      <td>\"redhat-assisted-installer\"</td>\n",
       "      <td>periodic-ci-openshift-release-master-nightly-4...</td>\n",
       "      <td>Overall</td>\n",
       "      <td>80.283333</td>\n",
       "      <td>False</td>\n",
       "      <td>True</td>\n",
       "      <td>Pass</td>\n",
       "    </tr>\n",
       "    <tr>\n",
       "      <th>1</th>\n",
       "      <td>2021-03-15 00:01:06</td>\n",
       "      <td>\"redhat-assisted-installer\"</td>\n",
       "      <td>periodic-ci-openshift-release-master-nightly-4...</td>\n",
       "      <td>Overall</td>\n",
       "      <td>92.050000</td>\n",
       "      <td>False</td>\n",
       "      <td>True</td>\n",
       "      <td>Pass</td>\n",
       "    </tr>\n",
       "    <tr>\n",
       "      <th>2</th>\n",
       "      <td>2021-03-13 20:51:32</td>\n",
       "      <td>\"redhat-assisted-installer\"</td>\n",
       "      <td>periodic-ci-openshift-release-master-nightly-4...</td>\n",
       "      <td>Overall</td>\n",
       "      <td>80.983333</td>\n",
       "      <td>False</td>\n",
       "      <td>True</td>\n",
       "      <td>Pass</td>\n",
       "    </tr>\n",
       "    <tr>\n",
       "      <th>3</th>\n",
       "      <td>2021-03-13 07:51:20</td>\n",
       "      <td>\"redhat-assisted-installer\"</td>\n",
       "      <td>periodic-ci-openshift-release-master-nightly-4...</td>\n",
       "      <td>Overall</td>\n",
       "      <td>117.716667</td>\n",
       "      <td>False</td>\n",
       "      <td>True</td>\n",
       "      <td>Pass</td>\n",
       "    </tr>\n",
       "    <tr>\n",
       "      <th>4</th>\n",
       "      <td>2021-03-13 06:43:20</td>\n",
       "      <td>\"redhat-assisted-installer\"</td>\n",
       "      <td>periodic-ci-openshift-release-master-nightly-4...</td>\n",
       "      <td>Overall</td>\n",
       "      <td>108.633333</td>\n",
       "      <td>False</td>\n",
       "      <td>True</td>\n",
       "      <td>Pass</td>\n",
       "    </tr>\n",
       "  </tbody>\n",
       "</table>\n",
       "</div>"
      ],
      "text/plain": [
       "            timestamp                          tab  \\\n",
       "0 2021-03-15 23:40:20  \"redhat-assisted-installer\"   \n",
       "1 2021-03-15 00:01:06  \"redhat-assisted-installer\"   \n",
       "2 2021-03-13 20:51:32  \"redhat-assisted-installer\"   \n",
       "3 2021-03-13 07:51:20  \"redhat-assisted-installer\"   \n",
       "4 2021-03-13 06:43:20  \"redhat-assisted-installer\"   \n",
       "\n",
       "                                                 job     test  test_duration  \\\n",
       "0  periodic-ci-openshift-release-master-nightly-4...  Overall      80.283333   \n",
       "1  periodic-ci-openshift-release-master-nightly-4...  Overall      92.050000   \n",
       "2  periodic-ci-openshift-release-master-nightly-4...  Overall      80.983333   \n",
       "3  periodic-ci-openshift-release-master-nightly-4...  Overall     117.716667   \n",
       "4  periodic-ci-openshift-release-master-nightly-4...  Overall     108.633333   \n",
       "\n",
       "   build_failure  build_passing build_status  \n",
       "0          False           True         Pass  \n",
       "1          False           True         Pass  \n",
       "2          False           True         Pass  \n",
       "3          False           True         Pass  \n",
       "4          False           True         Pass  "
      ]
     },
     "execution_count": 20,
     "metadata": {},
     "output_type": "execute_result"
    }
   ],
   "source": [
    "combined.head()"
   ]
  },
  {
   "cell_type": "code",
   "execution_count": 21,
   "id": "dense-coordinate",
   "metadata": {
    "ExecuteTime": {
     "end_time": "2021-03-24T19:18:55.604953Z",
     "start_time": "2021-03-24T19:18:55.600494Z"
    }
   },
   "outputs": [
    {
     "data": {
      "text/plain": [
       "37803"
      ]
     },
     "execution_count": 21,
     "metadata": {},
     "output_type": "execute_result"
    }
   ],
   "source": [
    "len(combined)"
   ]
  },
  {
   "cell_type": "code",
   "execution_count": 22,
   "id": "major-springer",
   "metadata": {
    "ExecuteTime": {
     "end_time": "2021-03-24T19:18:56.127417Z",
     "start_time": "2021-03-24T19:18:56.109352Z"
    }
   },
   "outputs": [],
   "source": [
    "# since we are only interested in success and failure statuses\n",
    "combined = combined.dropna()"
   ]
  },
  {
   "cell_type": "code",
   "execution_count": 23,
   "id": "monthly-glory",
   "metadata": {
    "ExecuteTime": {
     "end_time": "2021-03-24T19:18:56.660232Z",
     "start_time": "2021-03-24T19:18:56.655736Z"
    }
   },
   "outputs": [
    {
     "data": {
      "text/plain": [
       "37677"
      ]
     },
     "execution_count": 23,
     "metadata": {},
     "output_type": "execute_result"
    }
   ],
   "source": [
    "len(combined)"
   ]
  },
  {
   "cell_type": "code",
   "execution_count": 24,
   "id": "limited-cotton",
   "metadata": {
    "ExecuteTime": {
     "end_time": "2021-03-24T19:18:57.605148Z",
     "start_time": "2021-03-24T19:18:57.165292Z"
    }
   },
   "outputs": [
    {
     "data": {
      "image/png": "[encoded data removed]",
      "text/plain": [
       "<Figure size 1080x360 with 1 Axes>"
      ]
     },
     "metadata": {},
     "output_type": "display_data"
    }
   ],
   "source": [
    "plot_builds_tab_grid(\n",
    "    \"redhat-openshift-informing\",\n",
    "    \"release-openshift-okd-installer-e2e-aws-upgrade\",\n",
    "    combined,\n",
    ")"
   ]
  },
  {
   "cell_type": "code",
   "execution_count": 25,
   "id": "lovely-address",
   "metadata": {
    "ExecuteTime": {
     "end_time": "2021-03-24T19:18:58.055919Z",
     "start_time": "2021-03-24T19:18:57.664904Z"
    }
   },
   "outputs": [
    {
     "data": {
      "image/png": "[encoded data removed]",
      "text/plain": [
       "<Figure size 1080x360 with 1 Axes>"
      ]
     },
     "metadata": {},
     "output_type": "display_data"
    }
   ],
   "source": [
    "plot_builds_tab_grid(\n",
    "    \"redhat-openshift-ocp-release-4.2-informing\",\n",
    "    \"release-openshift-origin-installer-e2e-aws-upgrade-rollback-4.1-to-4.2\",\n",
    "    combined,\n",
    ")"
   ]
  },
  {
   "cell_type": "code",
   "execution_count": 26,
   "id": "hindu-alpha",
   "metadata": {
    "ExecuteTime": {
     "end_time": "2021-03-24T19:18:59.505261Z",
     "start_time": "2021-03-24T19:18:59.144065Z"
    }
   },
   "outputs": [
    {
     "data": {
      "image/png": "[encoded data removed]",
      "text/plain": [
       "<Figure size 1080x360 with 1 Axes>"
      ]
     },
     "metadata": {},
     "output_type": "display_data"
    }
   ],
   "source": [
    "plot_builds_tab_grid(\"redhat-osde2e-stage-moa\", \"osde2e-stage-aws-e2e-next-z\", combined)"
   ]
  },
  {
   "cell_type": "code",
   "execution_count": 27,
   "id": "african-tractor",
   "metadata": {
    "ExecuteTime": {
     "end_time": "2021-03-24T19:19:00.943626Z",
     "start_time": "2021-03-24T19:19:00.619323Z"
    }
   },
   "outputs": [
    {
     "data": {
      "image/png": "[encoded data removed]",
      "text/plain": [
       "<Figure size 1080x360 with 1 Axes>"
      ]
     },
     "metadata": {},
     "output_type": "display_data"
    }
   ],
   "source": [
    "plot_builds_tab_grid(\n",
    "    \"redhat-openshift-ocp-release-4.5-blocking\",\n",
    "    \"release-openshift-origin-installer-e2e-gcp-serial-4.5\",\n",
    "    combined,\n",
    ")"
   ]
  },
  {
   "cell_type": "markdown",
   "id": "peripheral-blake",
   "metadata": {},
   "source": [
    "## Save to Ceph or local"
   ]
  },
  {
   "cell_type": "code",
   "execution_count": 28,
   "id": "professional-looking",
   "metadata": {},
   "outputs": [],
   "source": [
    "timestamp = datetime.datetime.now()\n",
    "\n",
    "if AUTOMATION:\n",
    "    cc = CephCommunication(s3_endpoint_url, s3_access_key, s3_secret_key, s3_bucket)\n",
    "    cc.upload_to_ceph(\n",
    "        combined,\n",
    "        s3_path,\n",
    "        f\"{METRIC_NAME}/{METRIC_NAME}-{timestamp.year}-{timestamp.month}-{timestamp.day}.parquet\",\n",
    "    )\n",
    "else:\n",
    "    save_to_disk(\n",
    "        combined,\n",
    "        OUTPUT_DATA_PATH,\n",
    "        f\"{METRIC_NAME}-{timestamp.year}-{timestamp.month}-{timestamp.day}.parquet\",\n",
    "    )"
   ]
  },
  {
   "cell_type": "code",
   "execution_count": 29,
   "id": "shared-gnome",
   "metadata": {},
   "outputs": [
    {
     "data": {
      "text/html": [
       "<div>\n",
       "<style scoped>\n",
       "    .dataframe tbody tr th:only-of-type {\n",
       "        vertical-align: middle;\n",
       "    }\n",
       "\n",
       "    .dataframe tbody tr th {\n",
       "        vertical-align: top;\n",
       "    }\n",
       "\n",
       "    .dataframe thead th {\n",
       "        text-align: right;\n",
       "    }\n",
       "</style>\n",
       "<table border=\"1\" class=\"dataframe\">\n",
       "  <thead>\n",
       "    <tr style=\"text-align: right;\">\n",
       "      <th></th>\n",
       "      <th>timestamp</th>\n",
       "      <th>tab</th>\n",
       "      <th>job</th>\n",
       "      <th>test</th>\n",
       "      <th>test_duration</th>\n",
       "      <th>build_failure</th>\n",
       "      <th>build_passing</th>\n",
       "      <th>build_status</th>\n",
       "    </tr>\n",
       "  </thead>\n",
       "  <tbody>\n",
       "    <tr>\n",
       "      <th>0</th>\n",
       "      <td>2021-03-15 23:40:20</td>\n",
       "      <td>\"redhat-assisted-installer\"</td>\n",
       "      <td>periodic-ci-openshift-release-master-nightly-4...</td>\n",
       "      <td>Overall</td>\n",
       "      <td>80.283333</td>\n",
       "      <td>False</td>\n",
       "      <td>True</td>\n",
       "      <td>Pass</td>\n",
       "    </tr>\n",
       "    <tr>\n",
       "      <th>1</th>\n",
       "      <td>2021-03-15 00:01:06</td>\n",
       "      <td>\"redhat-assisted-installer\"</td>\n",
       "      <td>periodic-ci-openshift-release-master-nightly-4...</td>\n",
       "      <td>Overall</td>\n",
       "      <td>92.050000</td>\n",
       "      <td>False</td>\n",
       "      <td>True</td>\n",
       "      <td>Pass</td>\n",
       "    </tr>\n",
       "    <tr>\n",
       "      <th>2</th>\n",
       "      <td>2021-03-13 20:51:32</td>\n",
       "      <td>\"redhat-assisted-installer\"</td>\n",
       "      <td>periodic-ci-openshift-release-master-nightly-4...</td>\n",
       "      <td>Overall</td>\n",
       "      <td>80.983333</td>\n",
       "      <td>False</td>\n",
       "      <td>True</td>\n",
       "      <td>Pass</td>\n",
       "    </tr>\n",
       "    <tr>\n",
       "      <th>3</th>\n",
       "      <td>2021-03-13 07:51:20</td>\n",
       "      <td>\"redhat-assisted-installer\"</td>\n",
       "      <td>periodic-ci-openshift-release-master-nightly-4...</td>\n",
       "      <td>Overall</td>\n",
       "      <td>117.716667</td>\n",
       "      <td>False</td>\n",
       "      <td>True</td>\n",
       "      <td>Pass</td>\n",
       "    </tr>\n",
       "    <tr>\n",
       "      <th>4</th>\n",
       "      <td>2021-03-13 06:43:20</td>\n",
       "      <td>\"redhat-assisted-installer\"</td>\n",
       "      <td>periodic-ci-openshift-release-master-nightly-4...</td>\n",
       "      <td>Overall</td>\n",
       "      <td>108.633333</td>\n",
       "      <td>False</td>\n",
       "      <td>True</td>\n",
       "      <td>Pass</td>\n",
       "    </tr>\n",
       "    <tr>\n",
       "      <th>...</th>\n",
       "      <td>...</td>\n",
       "      <td>...</td>\n",
       "      <td>...</td>\n",
       "      <td>...</td>\n",
       "      <td>...</td>\n",
       "      <td>...</td>\n",
       "      <td>...</td>\n",
       "      <td>...</td>\n",
       "    </tr>\n",
       "    <tr>\n",
       "      <th>37798</th>\n",
       "      <td>2021-03-14 00:01:00</td>\n",
       "      <td>\"redhat-single-node\"</td>\n",
       "      <td>periodic-ci-openshift-release-master-nightly-4...</td>\n",
       "      <td>Overall</td>\n",
       "      <td>63.150000</td>\n",
       "      <td>False</td>\n",
       "      <td>True</td>\n",
       "      <td>Pass</td>\n",
       "    </tr>\n",
       "    <tr>\n",
       "      <th>37799</th>\n",
       "      <td>2021-03-13 00:01:07</td>\n",
       "      <td>\"redhat-single-node\"</td>\n",
       "      <td>periodic-ci-openshift-release-master-nightly-4...</td>\n",
       "      <td>Overall</td>\n",
       "      <td>64.650000</td>\n",
       "      <td>False</td>\n",
       "      <td>True</td>\n",
       "      <td>Pass</td>\n",
       "    </tr>\n",
       "    <tr>\n",
       "      <th>37800</th>\n",
       "      <td>2021-03-12 04:22:20</td>\n",
       "      <td>\"redhat-single-node\"</td>\n",
       "      <td>periodic-ci-openshift-release-master-nightly-4...</td>\n",
       "      <td>Overall</td>\n",
       "      <td>66.233333</td>\n",
       "      <td>False</td>\n",
       "      <td>True</td>\n",
       "      <td>Pass</td>\n",
       "    </tr>\n",
       "    <tr>\n",
       "      <th>37801</th>\n",
       "      <td>2021-03-11 00:01:18</td>\n",
       "      <td>\"redhat-single-node\"</td>\n",
       "      <td>periodic-ci-openshift-release-master-nightly-4...</td>\n",
       "      <td>Overall</td>\n",
       "      <td>15.566667</td>\n",
       "      <td>True</td>\n",
       "      <td>False</td>\n",
       "      <td>Fail</td>\n",
       "    </tr>\n",
       "    <tr>\n",
       "      <th>37802</th>\n",
       "      <td>2021-03-10 00:01:03</td>\n",
       "      <td>\"redhat-single-node\"</td>\n",
       "      <td>periodic-ci-openshift-release-master-nightly-4...</td>\n",
       "      <td>Overall</td>\n",
       "      <td>64.800000</td>\n",
       "      <td>False</td>\n",
       "      <td>True</td>\n",
       "      <td>Pass</td>\n",
       "    </tr>\n",
       "  </tbody>\n",
       "</table>\n",
       "<p>37677 rows × 8 columns</p>\n",
       "</div>"
      ],
      "text/plain": [
       "                timestamp                          tab  \\\n",
       "0     2021-03-15 23:40:20  \"redhat-assisted-installer\"   \n",
       "1     2021-03-15 00:01:06  \"redhat-assisted-installer\"   \n",
       "2     2021-03-13 20:51:32  \"redhat-assisted-installer\"   \n",
       "3     2021-03-13 07:51:20  \"redhat-assisted-installer\"   \n",
       "4     2021-03-13 06:43:20  \"redhat-assisted-installer\"   \n",
       "...                   ...                          ...   \n",
       "37798 2021-03-14 00:01:00         \"redhat-single-node\"   \n",
       "37799 2021-03-13 00:01:07         \"redhat-single-node\"   \n",
       "37800 2021-03-12 04:22:20         \"redhat-single-node\"   \n",
       "37801 2021-03-11 00:01:18         \"redhat-single-node\"   \n",
       "37802 2021-03-10 00:01:03         \"redhat-single-node\"   \n",
       "\n",
       "                                                     job     test  \\\n",
       "0      periodic-ci-openshift-release-master-nightly-4...  Overall   \n",
       "1      periodic-ci-openshift-release-master-nightly-4...  Overall   \n",
       "2      periodic-ci-openshift-release-master-nightly-4...  Overall   \n",
       "3      periodic-ci-openshift-release-master-nightly-4...  Overall   \n",
       "4      periodic-ci-openshift-release-master-nightly-4...  Overall   \n",
       "...                                                  ...      ...   \n",
       "37798  periodic-ci-openshift-release-master-nightly-4...  Overall   \n",
       "37799  periodic-ci-openshift-release-master-nightly-4...  Overall   \n",
       "37800  periodic-ci-openshift-release-master-nightly-4...  Overall   \n",
       "37801  periodic-ci-openshift-release-master-nightly-4...  Overall   \n",
       "37802  periodic-ci-openshift-release-master-nightly-4...  Overall   \n",
       "\n",
       "       test_duration  build_failure  build_passing build_status  \n",
       "0          80.283333          False           True         Pass  \n",
       "1          92.050000          False           True         Pass  \n",
       "2          80.983333          False           True         Pass  \n",
       "3         117.716667          False           True         Pass  \n",
       "4         108.633333          False           True         Pass  \n",
       "...              ...            ...            ...          ...  \n",
       "37798      63.150000          False           True         Pass  \n",
       "37799      64.650000          False           True         Pass  \n",
       "37800      66.233333          False           True         Pass  \n",
       "37801      15.566667           True          False         Fail  \n",
       "37802      64.800000          False           True         Pass  \n",
       "\n",
       "[37677 rows x 8 columns]"
      ]
     },
     "execution_count": 29,
     "metadata": {},
     "output_type": "execute_result"
    }
   ],
   "source": [
    "## Sanity check to see if the dataset is the same\n",
    "if AUTOMATION:\n",
    "    sanity_check = cc.read_from_ceph(\n",
    "        s3_path,\n",
    "        f\"{METRIC_NAME}/{METRIC_NAME}-{timestamp.year}-{timestamp.month}-{timestamp.day}.parquet\",\n",
    "    )\n",
    "else:\n",
    "    sanity_check = read_from_disk(\n",
    "        OUTPUT_DATA_PATH,\n",
    "        f\"{METRIC_NAME}-{timestamp.year}-{timestamp.month}-{timestamp.day}.parquet\",\n",
    "    )\n",
    "\n",
    "sanity_check"
   ]
  },
  {
   "cell_type": "markdown",
   "id": "alive-football",
   "metadata": {},
   "source": [
    "### Conclusion\n",
    "\n",
    "In this Notebook, we use the \"Overall\" as a proxy for a build. Testgrid refers an aggregate of multiple tests performed at a certain timestamp within a Job as a Build and each build has a unique Build ID. In this notebook, we went ahead and used the labels provided by testgrid which classify a test overall as Pass or Fail to indicate build success and failures and thus calculate the percent of success and failures."
   ]
  }
 ],
 "metadata": {
  "finalized": {
   "timestamp": 1616085009075,
   "trusted": false
  },
  "kernelspec": {
   "display_name": "Python 3",
   "language": "python",
   "name": "python3"
  },
  "language_info": {
   "codemirror_mode": {
    "name": "ipython",
    "version": 3
   },
   "file_extension": ".py",
   "mimetype": "text/x-python",
   "name": "python",
   "nbconvert_exporter": "python",
   "pygments_lexer": "ipython3",
   "version": "3.8.3"
  },
  "toc": {
   "base_numbering": 1,
   "nav_menu": {},
   "number_sections": true,
   "sideBar": true,
   "skip_h1_title": false,
   "title_cell": "Table of Contents",
   "title_sidebar": "Contents",
   "toc_cell": false,
   "toc_position": {},
   "toc_section_display": true,
   "toc_window_display": false
  }
 },
 "nbformat": 4,
 "nbformat_minor": 5
}
