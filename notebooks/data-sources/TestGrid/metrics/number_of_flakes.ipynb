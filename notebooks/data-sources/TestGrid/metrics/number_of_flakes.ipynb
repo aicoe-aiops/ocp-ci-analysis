{
 "cells": [
  {
   "cell_type": "markdown",
   "metadata": {},
   "source": [
    "# Quantify Flakes\n",
    "\n",
    "One of the key perfomance indicators that we would like to create greater visbility into and track over time is overall number and percent of flakes that occur. Individual test runs are flagged a \"flake\" if they are run mulitple times with a mix of passes and failes without any changes to the code being tested. Although they occur for individual test runs, there are a number of aggregate views that developers may want to look at to assess the overall health of thier project or testing platform. For Example:\n",
    "\n",
    "* percent flakes on platform each day\n",
    "* percent flakes by tab each week\n",
    "* percent flakes by grid each month\n",
    "* percent flakes by test overall (this can also be seen as a severity level = overall flake rate of test)\n",
    "\n",
    "In order to provide maxium flexibility for the end-user of this work, instead of creating a number of dataframes to answer each of these specifc questions, we will define a long and narrow data structure (a list of tuples saved as a csv for now) that contains only 5 columns (\"timestamp\", \"tab\",\"grid\",\"test\",\"flake\"). This allows superset (or pandas) to perform the last filter and/or aggreagtion of interest to an end user. Which is to say, there may appear to be a lot of repetion within the final dataset, but each row should be unique, and it should provide the simpelest useability for an end-user.    \n"
   ]
  },
  {
   "cell_type": "code",
   "execution_count": 2,
   "metadata": {
    "ExecuteTime": {
     "end_time": "2021-03-24T16:40:49.971080Z",
     "start_time": "2021-03-24T16:40:49.156552Z"
    }
   },
   "outputs": [],
   "source": [
    "import gzip\n",
    "import json\n",
    "import os\n",
    "import sys\n",
    "import numpy as np\n",
    "import pandas as pd\n",
    "import datetime\n",
    "import matplotlib.pyplot as plt\n",
    "\n",
    "sys.path.append(\"../../..\")\n",
    "\n",
    "module_path_1 = os.path.abspath(os.path.join(\"../../../data-sources/TestGrid\"))\n",
    "if module_path_1 not in sys.path:\n",
    "    sys.path.append(module_path_1)\n",
    "\n",
    "from ipynb.fs.defs.testgrid_EDA import decode_run_length  # noqa: E402"
   ]
  },
  {
   "cell_type": "code",
   "execution_count": 3,
   "metadata": {
    "ExecuteTime": {
     "end_time": "2021-03-24T16:41:05.128768Z",
     "start_time": "2021-03-24T16:40:49.973686Z"
    }
   },
   "outputs": [],
   "source": [
    "# Load test file\n",
    "with gzip.open(\"../../../../data/raw/testgrid_183.json.gz\", \"rb\") as read_file:\n",
    "    testgrid_data = json.load(read_file)"
   ]
  },
  {
   "cell_type": "code",
   "execution_count": 4,
   "metadata": {
    "ExecuteTime": {
     "end_time": "2021-03-24T16:41:05.151375Z",
     "start_time": "2021-03-24T16:41:05.131892Z"
    }
   },
   "outputs": [],
   "source": [
    "def testgrid_labelwise_encoding(data, label):\n",
    "\n",
    "    \"\"\"\n",
    "    Run length encode the dataset and unroll the dataset into a list.\n",
    "    Return flattened list after encoding specified value as\n",
    "    True and rest as False\n",
    "    \"\"\"\n",
    "\n",
    "    percent_label_by_grid_csv = []\n",
    "\n",
    "    for tab in data.keys():\n",
    "\n",
    "        for grid in data[tab].keys():\n",
    "            current_grid = data[tab][grid]\n",
    "\n",
    "            if len(current_grid[\"grid\"]) == 0:\n",
    "                pass\n",
    "            else:\n",
    "                # get all timestamps for this grid (x-axis of grid)\n",
    "                timestamps = [\n",
    "                    datetime.datetime.fromtimestamp(x // 1000)\n",
    "                    for x in current_grid[\"timestamps\"]\n",
    "                ]\n",
    "                # get all test names for this grid (y-axis of grid)\n",
    "                tests = [\n",
    "                    current_grid[\"grid\"][i][\"name\"]\n",
    "                    for i in range(len(current_grid[\"grid\"]))\n",
    "                ]\n",
    "\n",
    "                graphs = [\n",
    "                    current_grid[\"grid\"][i][\"graphs\"]\n",
    "                    for i in range(len(current_grid[\"grid\"]))\n",
    "                ]\n",
    "\n",
    "                # unroll the run-length encoding and set bool for flake or not (x==13)\n",
    "                decoded = [\n",
    "                    (\n",
    "                        np.array(decode_run_length(current_grid[\"grid\"][i][\"statuses\"]))\n",
    "                        == label\n",
    "                    ).tolist()\n",
    "                    for i in range(len(current_grid[\"grid\"]))\n",
    "                ]\n",
    "                # add the timestamp to bool value\n",
    "                decoded = [list(zip(timestamps, g)) for g in decoded]\n",
    "                # add the test, tab and grid name to each entry\n",
    "                # TODO: any ideas for avoiding this quad-loop\n",
    "                # if the label is passed as an arg, add the timestamp, tab,\n",
    "                # grid, tests, graphs metric and the bool values\n",
    "                if label:\n",
    "                    for i, d in enumerate(decoded):\n",
    "                        for j, k in enumerate(d):\n",
    "                            # here we are fetching the test duration values for the tests\n",
    "                            # however,since not all tests contain time duration values,\n",
    "                            # we are only considering the 'Overall' test and fetching the\n",
    "                            # time duration values for this test and setting it to 'None'\n",
    "                            # for all the other tests in each grid\n",
    "                            if tests[i] == \"Overall\":\n",
    "                                test_duration = graphs[i][0][\"values\"][0][j]\n",
    "                            else:\n",
    "                                test_duration = None\n",
    "                            decoded[i][j] = (\n",
    "                                k[0],\n",
    "                                tab,\n",
    "                                grid,\n",
    "                                tests[i],\n",
    "                                test_duration,\n",
    "                                k[1],\n",
    "                            )\n",
    "                    # accumulate the results\n",
    "                    percent_label_by_grid_csv.append(decoded)\n",
    "\n",
    "                # if label is 'None', add only the timestamp, tab, grid, tests and test\n",
    "                # duration values\n",
    "                else:\n",
    "                    for i, d in enumerate(decoded):\n",
    "                        for j, k in enumerate(d):\n",
    "                            # here we are fetching the time duration values for the tests\n",
    "                            # however,since not all tests contain time duration values,\n",
    "                            # we are only considering the 'Overall' test and fetching the time duration\n",
    "                            # values for this test in each grid\n",
    "                            if tests[i] == \"Overall\":\n",
    "                                test_duration = graphs[i][0][\"values\"][0][j]\n",
    "                            else:\n",
    "                                test_duration = None\n",
    "                            decoded[i][j] = (k[0], tab, grid, tests[i], test_duration)\n",
    "                    percent_label_by_grid_csv.append(decoded)\n",
    "\n",
    "    # output above leaves us with a doubly nested list. Flatten\n",
    "    flat_list = [item for sublist in percent_label_by_grid_csv for item in sublist]\n",
    "    flatter_list = [item for sublist in flat_list for item in sublist]\n",
    "\n",
    "    return flatter_list"
   ]
  },
  {
   "cell_type": "code",
   "execution_count": 5,
   "metadata": {
    "ExecuteTime": {
     "end_time": "2021-03-24T16:41:32.522585Z",
     "start_time": "2021-03-24T16:41:05.153836Z"
    }
   },
   "outputs": [],
   "source": [
    "unrolled_list = testgrid_labelwise_encoding(testgrid_data, 13)"
   ]
  },
  {
   "cell_type": "code",
   "execution_count": 6,
   "metadata": {
    "ExecuteTime": {
     "end_time": "2021-03-24T16:41:47.182937Z",
     "start_time": "2021-03-24T16:41:32.524941Z"
    }
   },
   "outputs": [
    {
     "data": {
      "text/html": [
       "<div>\n",
       "<style scoped>\n",
       "    .dataframe tbody tr th:only-of-type {\n",
       "        vertical-align: middle;\n",
       "    }\n",
       "\n",
       "    .dataframe tbody tr th {\n",
       "        vertical-align: top;\n",
       "    }\n",
       "\n",
       "    .dataframe thead th {\n",
       "        text-align: right;\n",
       "    }\n",
       "</style>\n",
       "<table border=\"1\" class=\"dataframe\">\n",
       "  <thead>\n",
       "    <tr style=\"text-align: right;\">\n",
       "      <th></th>\n",
       "      <th>timestamp</th>\n",
       "      <th>tab</th>\n",
       "      <th>grid</th>\n",
       "      <th>test</th>\n",
       "      <th>test_duration</th>\n",
       "      <th>flake</th>\n",
       "    </tr>\n",
       "  </thead>\n",
       "  <tbody>\n",
       "    <tr>\n",
       "      <th>0</th>\n",
       "      <td>2021-03-15 23:40:20</td>\n",
       "      <td>\"redhat-assisted-installer\"</td>\n",
       "      <td>periodic-ci-openshift-release-master-nightly-4...</td>\n",
       "      <td>Overall</td>\n",
       "      <td>80.283333</td>\n",
       "      <td>False</td>\n",
       "    </tr>\n",
       "    <tr>\n",
       "      <th>1</th>\n",
       "      <td>2021-03-15 00:01:06</td>\n",
       "      <td>\"redhat-assisted-installer\"</td>\n",
       "      <td>periodic-ci-openshift-release-master-nightly-4...</td>\n",
       "      <td>Overall</td>\n",
       "      <td>92.050000</td>\n",
       "      <td>False</td>\n",
       "    </tr>\n",
       "    <tr>\n",
       "      <th>2</th>\n",
       "      <td>2021-03-13 20:51:32</td>\n",
       "      <td>\"redhat-assisted-installer\"</td>\n",
       "      <td>periodic-ci-openshift-release-master-nightly-4...</td>\n",
       "      <td>Overall</td>\n",
       "      <td>80.983333</td>\n",
       "      <td>False</td>\n",
       "    </tr>\n",
       "    <tr>\n",
       "      <th>3</th>\n",
       "      <td>2021-03-13 07:51:20</td>\n",
       "      <td>\"redhat-assisted-installer\"</td>\n",
       "      <td>periodic-ci-openshift-release-master-nightly-4...</td>\n",
       "      <td>Overall</td>\n",
       "      <td>117.716667</td>\n",
       "      <td>False</td>\n",
       "    </tr>\n",
       "    <tr>\n",
       "      <th>4</th>\n",
       "      <td>2021-03-13 06:43:20</td>\n",
       "      <td>\"redhat-assisted-installer\"</td>\n",
       "      <td>periodic-ci-openshift-release-master-nightly-4...</td>\n",
       "      <td>Overall</td>\n",
       "      <td>108.633333</td>\n",
       "      <td>False</td>\n",
       "    </tr>\n",
       "  </tbody>\n",
       "</table>\n",
       "</div>"
      ],
      "text/plain": [
       "            timestamp                          tab  \\\n",
       "0 2021-03-15 23:40:20  \"redhat-assisted-installer\"   \n",
       "1 2021-03-15 00:01:06  \"redhat-assisted-installer\"   \n",
       "2 2021-03-13 20:51:32  \"redhat-assisted-installer\"   \n",
       "3 2021-03-13 07:51:20  \"redhat-assisted-installer\"   \n",
       "4 2021-03-13 06:43:20  \"redhat-assisted-installer\"   \n",
       "\n",
       "                                                grid     test  test_duration  \\\n",
       "0  periodic-ci-openshift-release-master-nightly-4...  Overall      80.283333   \n",
       "1  periodic-ci-openshift-release-master-nightly-4...  Overall      92.050000   \n",
       "2  periodic-ci-openshift-release-master-nightly-4...  Overall      80.983333   \n",
       "3  periodic-ci-openshift-release-master-nightly-4...  Overall     117.716667   \n",
       "4  periodic-ci-openshift-release-master-nightly-4...  Overall     108.633333   \n",
       "\n",
       "   flake  \n",
       "0  False  \n",
       "1  False  \n",
       "2  False  \n",
       "3  False  \n",
       "4  False  "
      ]
     },
     "execution_count": 6,
     "metadata": {},
     "output_type": "execute_result"
    }
   ],
   "source": [
    "# Convert to dataframe\n",
    "df_csv = pd.DataFrame(\n",
    "    unrolled_list,\n",
    "    columns=[\"timestamp\", \"tab\", \"grid\", \"test\", \"test_duration\", \"flake\"],\n",
    ")\n",
    "df_csv.head()"
   ]
  },
  {
   "cell_type": "markdown",
   "metadata": {},
   "source": [
    "### Flake Severity Metric \n",
    "Some tests would be flaky for a lot of builds and thus have a high flake rate or severity. This metric can be leveraged to help prioritize the work needed to resolve the flake issues."
   ]
  },
  {
   "cell_type": "code",
   "execution_count": 7,
   "metadata": {
    "ExecuteTime": {
     "end_time": "2021-03-24T16:41:52.845524Z",
     "start_time": "2021-03-24T16:41:47.185173Z"
    }
   },
   "outputs": [
    {
     "data": {
      "text/html": [
       "<div>\n",
       "<style scoped>\n",
       "    .dataframe tbody tr th:only-of-type {\n",
       "        vertical-align: middle;\n",
       "    }\n",
       "\n",
       "    .dataframe tbody tr th {\n",
       "        vertical-align: top;\n",
       "    }\n",
       "\n",
       "    .dataframe thead th {\n",
       "        text-align: right;\n",
       "    }\n",
       "</style>\n",
       "<table border=\"1\" class=\"dataframe\">\n",
       "  <thead>\n",
       "    <tr style=\"text-align: right;\">\n",
       "      <th></th>\n",
       "      <th>test</th>\n",
       "      <th>flake</th>\n",
       "    </tr>\n",
       "  </thead>\n",
       "  <tbody>\n",
       "    <tr>\n",
       "      <th>count</th>\n",
       "      <td>27192485</td>\n",
       "      <td>27192485</td>\n",
       "    </tr>\n",
       "    <tr>\n",
       "      <th>unique</th>\n",
       "      <td>15157</td>\n",
       "      <td>2</td>\n",
       "    </tr>\n",
       "    <tr>\n",
       "      <th>top</th>\n",
       "      <td>Overall</td>\n",
       "      <td>False</td>\n",
       "    </tr>\n",
       "    <tr>\n",
       "      <th>freq</th>\n",
       "      <td>37799</td>\n",
       "      <td>27142857</td>\n",
       "    </tr>\n",
       "  </tbody>\n",
       "</table>\n",
       "</div>"
      ],
      "text/plain": [
       "            test     flake\n",
       "count   27192485  27192485\n",
       "unique     15157         2\n",
       "top      Overall     False\n",
       "freq       37799  27142857"
      ]
     },
     "execution_count": 7,
     "metadata": {},
     "output_type": "execute_result"
    }
   ],
   "source": [
    "df_flake_severity = df_csv[[\"test\", \"flake\"]]\n",
    "df_flake_severity.describe()"
   ]
  },
  {
   "cell_type": "code",
   "execution_count": 8,
   "metadata": {
    "ExecuteTime": {
     "end_time": "2021-03-24T16:42:03.156603Z",
     "start_time": "2021-03-24T16:41:52.847442Z"
    }
   },
   "outputs": [
    {
     "data": {
      "text/html": [
       "<div>\n",
       "<style scoped>\n",
       "    .dataframe tbody tr th:only-of-type {\n",
       "        vertical-align: middle;\n",
       "    }\n",
       "\n",
       "    .dataframe tbody tr th {\n",
       "        vertical-align: top;\n",
       "    }\n",
       "\n",
       "    .dataframe thead th {\n",
       "        text-align: right;\n",
       "    }\n",
       "</style>\n",
       "<table border=\"1\" class=\"dataframe\">\n",
       "  <thead>\n",
       "    <tr style=\"text-align: right;\">\n",
       "      <th></th>\n",
       "      <th>test</th>\n",
       "      <th>flake_severity</th>\n",
       "    </tr>\n",
       "  </thead>\n",
       "  <tbody>\n",
       "    <tr>\n",
       "      <th>0</th>\n",
       "      <td>Add Secret to Workloads.Add Secret to Workload...</td>\n",
       "      <td>0.0</td>\n",
       "    </tr>\n",
       "    <tr>\n",
       "      <th>1</th>\n",
       "      <td>Add Secret to Workloads.Add Secret to Workload...</td>\n",
       "      <td>0.0</td>\n",
       "    </tr>\n",
       "    <tr>\n",
       "      <th>2</th>\n",
       "      <td>Alertmanager: Configuration.creates a receiver...</td>\n",
       "      <td>0.0</td>\n",
       "    </tr>\n",
       "    <tr>\n",
       "      <th>3</th>\n",
       "      <td>Alertmanager: Configuration.deletes a receiver...</td>\n",
       "      <td>0.0</td>\n",
       "    </tr>\n",
       "    <tr>\n",
       "      <th>4</th>\n",
       "      <td>Alertmanager: Configuration.displays the Alert...</td>\n",
       "      <td>0.0</td>\n",
       "    </tr>\n",
       "    <tr>\n",
       "      <th>...</th>\n",
       "      <td>...</td>\n",
       "      <td>...</td>\n",
       "    </tr>\n",
       "    <tr>\n",
       "      <th>15152</th>\n",
       "      <td>user.openshift.io~v1~Group.Kubernetes resource...</td>\n",
       "      <td>0.0</td>\n",
       "    </tr>\n",
       "    <tr>\n",
       "      <th>15153</th>\n",
       "      <td>user.openshift.io~v1~Group.Kubernetes resource...</td>\n",
       "      <td>0.0</td>\n",
       "    </tr>\n",
       "    <tr>\n",
       "      <th>15154</th>\n",
       "      <td>user.openshift.io~v1~Group.Kubernetes resource...</td>\n",
       "      <td>0.0</td>\n",
       "    </tr>\n",
       "    <tr>\n",
       "      <th>15155</th>\n",
       "      <td>user.openshift.io~v1~Group.Kubernetes resource...</td>\n",
       "      <td>0.0</td>\n",
       "    </tr>\n",
       "    <tr>\n",
       "      <th>15156</th>\n",
       "      <td>user.openshift.io~v1~Group.Kubernetes resource...</td>\n",
       "      <td>0.0</td>\n",
       "    </tr>\n",
       "  </tbody>\n",
       "</table>\n",
       "<p>15157 rows × 2 columns</p>\n",
       "</div>"
      ],
      "text/plain": [
       "                                                    test  flake_severity\n",
       "0      Add Secret to Workloads.Add Secret to Workload...             0.0\n",
       "1      Add Secret to Workloads.Add Secret to Workload...             0.0\n",
       "2      Alertmanager: Configuration.creates a receiver...             0.0\n",
       "3      Alertmanager: Configuration.deletes a receiver...             0.0\n",
       "4      Alertmanager: Configuration.displays the Alert...             0.0\n",
       "...                                                  ...             ...\n",
       "15152  user.openshift.io~v1~Group.Kubernetes resource...             0.0\n",
       "15153  user.openshift.io~v1~Group.Kubernetes resource...             0.0\n",
       "15154  user.openshift.io~v1~Group.Kubernetes resource...             0.0\n",
       "15155  user.openshift.io~v1~Group.Kubernetes resource...             0.0\n",
       "15156  user.openshift.io~v1~Group.Kubernetes resource...             0.0\n",
       "\n",
       "[15157 rows x 2 columns]"
      ]
     },
     "execution_count": 8,
     "metadata": {},
     "output_type": "execute_result"
    }
   ],
   "source": [
    "## The following metric implements flake severity\n",
    "## or flake rate by tests\n",
    "## Moving forward, this will be aggregated in Superset\n",
    "## For the sake of completeness, it is implmented here\n",
    "flake_severity = df_csv.groupby(\"test\").flake.mean().reset_index()\n",
    "flake_severity.rename(columns={\"flake\": \"flake_severity\"}, inplace=True)\n",
    "flake_severity"
   ]
  },
  {
   "cell_type": "code",
   "execution_count": 9,
   "metadata": {
    "ExecuteTime": {
     "end_time": "2021-03-24T16:42:04.112236Z",
     "start_time": "2021-03-24T16:42:03.159485Z"
    }
   },
   "outputs": [
    {
     "data": {
      "text/plain": [
       "<Figure size 1080x720 with 0 Axes>"
      ]
     },
     "metadata": {},
     "output_type": "display_data"
    },
    {
     "data": {
      "image/png": "[encoded data removed]",
      "text/plain": [
       "<Figure size 432x288 with 1 Axes>"
      ]
     },
     "metadata": {
      "needs_background": "light"
     },
     "output_type": "display_data"
    }
   ],
   "source": [
    "plt.figure(figsize=((15, 10)))\n",
    "flake_severity.hist()\n",
    "plt.ylabel(\"Tests\")\n",
    "plt.xlabel(\"Flake Severity\")\n",
    "plt.show()"
   ]
  },
  {
   "cell_type": "markdown",
   "metadata": {},
   "source": [
    "From the above graph we can conclude that most of the tests have very low(~0) flake severity. One might look at this graph and assume that almost all of the tests have flake severity as 0. So, to get more clarity we have plotted another graph and here we've gone from about 8,000 tests to investigate for probable flakiness to less than 100. "
   ]
  },
  {
   "cell_type": "code",
   "execution_count": 10,
   "metadata": {
    "ExecuteTime": {
     "end_time": "2021-03-24T16:42:04.471269Z",
     "start_time": "2021-03-24T16:42:04.114874Z"
    }
   },
   "outputs": [
    {
     "data": {
      "text/plain": [
       "<Figure size 1080x720 with 0 Axes>"
      ]
     },
     "metadata": {},
     "output_type": "display_data"
    },
    {
     "data": {
      "image/png": "[encoded data removed]",
      "text/plain": [
       "<Figure size 432x288 with 1 Axes>"
      ]
     },
     "metadata": {
      "needs_background": "light"
     },
     "output_type": "display_data"
    }
   ],
   "source": [
    "plt.figure(figsize=((15, 10)))\n",
    "flake_severity.hist(bins=50)\n",
    "plt.ylabel(\"Tests\")\n",
    "plt.xlabel(\"Flake Severity\")\n",
    "plt.ylim((0, 25))\n",
    "plt.show()"
   ]
  },
  {
   "cell_type": "markdown",
   "metadata": {},
   "source": [
    "From the above graph we can see that there are other values of flake severity for some tests. However it is a small bunch of tests that show a different set of flake severity. Let's see some tests that have a high flake severity score."
   ]
  },
  {
   "cell_type": "markdown",
   "metadata": {},
   "source": [
    "The top 5 tests with the highest flake score :"
   ]
  },
  {
   "cell_type": "code",
   "execution_count": 11,
   "metadata": {
    "ExecuteTime": {
     "end_time": "2021-03-24T16:42:04.486646Z",
     "start_time": "2021-03-24T16:42:04.473750Z"
    }
   },
   "outputs": [
    {
     "data": {
      "text/html": [
       "<div>\n",
       "<style scoped>\n",
       "    .dataframe tbody tr th:only-of-type {\n",
       "        vertical-align: middle;\n",
       "    }\n",
       "\n",
       "    .dataframe tbody tr th {\n",
       "        vertical-align: top;\n",
       "    }\n",
       "\n",
       "    .dataframe thead th {\n",
       "        text-align: right;\n",
       "    }\n",
       "</style>\n",
       "<table border=\"1\" class=\"dataframe\">\n",
       "  <thead>\n",
       "    <tr style=\"text-align: right;\">\n",
       "      <th></th>\n",
       "      <th>test</th>\n",
       "      <th>flake_severity</th>\n",
       "    </tr>\n",
       "  </thead>\n",
       "  <tbody>\n",
       "    <tr>\n",
       "      <th>5793</th>\n",
       "      <td>openshift-tests.[sig-arch] Monitor cluster whi...</td>\n",
       "      <td>0.536148</td>\n",
       "    </tr>\n",
       "    <tr>\n",
       "      <th>230</th>\n",
       "      <td>Cluster upgrade.[sig-imageregistry] Image regi...</td>\n",
       "      <td>0.410038</td>\n",
       "    </tr>\n",
       "    <tr>\n",
       "      <th>234</th>\n",
       "      <td>Cluster upgrade.[sig-network-edge] Application...</td>\n",
       "      <td>0.404112</td>\n",
       "    </tr>\n",
       "    <tr>\n",
       "      <th>236</th>\n",
       "      <td>Cluster upgrade.[sig-network-edge] Cluster fro...</td>\n",
       "      <td>0.386168</td>\n",
       "    </tr>\n",
       "    <tr>\n",
       "      <th>203</th>\n",
       "      <td>Cluster upgrade.[sig-api-machinery] Kubernetes...</td>\n",
       "      <td>0.279356</td>\n",
       "    </tr>\n",
       "  </tbody>\n",
       "</table>\n",
       "</div>"
      ],
      "text/plain": [
       "                                                   test  flake_severity\n",
       "5793  openshift-tests.[sig-arch] Monitor cluster whi...        0.536148\n",
       "230   Cluster upgrade.[sig-imageregistry] Image regi...        0.410038\n",
       "234   Cluster upgrade.[sig-network-edge] Application...        0.404112\n",
       "236   Cluster upgrade.[sig-network-edge] Cluster fro...        0.386168\n",
       "203   Cluster upgrade.[sig-api-machinery] Kubernetes...        0.279356"
      ]
     },
     "execution_count": 11,
     "metadata": {},
     "output_type": "execute_result"
    }
   ],
   "source": [
    "flake_severity.nlargest(5, \"flake_severity\")"
   ]
  },
  {
   "cell_type": "code",
   "execution_count": 12,
   "metadata": {
    "ExecuteTime": {
     "end_time": "2021-03-24T16:42:15.715005Z",
     "start_time": "2021-03-24T16:42:04.488616Z"
    }
   },
   "outputs": [],
   "source": [
    "# saving only the first 1 million out of 30 million rows due to pvc limits. Expected data size is 7.5 GB\n",
    "# 250mb = 1 million --> 7500 mb = 30 million\n",
    "file = \"flakes.csv\"\n",
    "folder = \"../../../../data/processed/metrics/percent_flake_by_test\"\n",
    "if not os.path.exists(folder):\n",
    "    os.makedirs(folder)\n",
    "\n",
    "fullpath = os.path.join(folder, file)\n",
    "df_csv.head(1000000).to_csv(fullpath, header=False)"
   ]
  },
  {
   "cell_type": "code",
   "execution_count": 13,
   "metadata": {
    "ExecuteTime": {
     "end_time": "2021-03-24T16:42:15.719676Z",
     "start_time": "2021-03-24T16:42:15.717332Z"
    }
   },
   "outputs": [],
   "source": [
    "# Send to Ceph - TODO!\n",
    "# currently waiting on ceph bucket but it will look something like this"
   ]
  },
  {
   "cell_type": "code",
   "execution_count": 14,
   "metadata": {
    "ExecuteTime": {
     "end_time": "2021-03-24T16:42:15.855179Z",
     "start_time": "2021-03-24T16:42:15.721886Z"
    }
   },
   "outputs": [
    {
     "data": {
      "text/plain": [
       "0.002645"
      ]
     },
     "execution_count": 14,
     "metadata": {},
     "output_type": "execute_result"
    }
   ],
   "source": [
    "# Overall flake percentage\n",
    "df_csv.head(1000000).flake.sum() / df_csv.head(1000000).flake.count()"
   ]
  }
 ],
 "metadata": {
  "finalized": {
   "timestamp": 1616083168568,
   "trusted": true
  },
  "kernelspec": {
   "display_name": "Python 3",
   "language": "python",
   "name": "python3"
  },
  "language_info": {
   "codemirror_mode": {
    "name": "ipython",
    "version": 3
   },
   "file_extension": ".py",
   "mimetype": "text/x-python",
   "name": "python",
   "nbconvert_exporter": "python",
   "pygments_lexer": "ipython3",
   "version": "3.6.8"
  },
  "toc": {
   "base_numbering": 1,
   "nav_menu": {},
   "number_sections": true,
   "sideBar": true,
   "skip_h1_title": false,
   "title_cell": "Table of Contents",
   "title_sidebar": "Contents",
   "toc_cell": false,
   "toc_position": {},
   "toc_section_display": true,
   "toc_window_display": false
  }
 },
 "nbformat": 4,
 "nbformat_minor": 4
}
