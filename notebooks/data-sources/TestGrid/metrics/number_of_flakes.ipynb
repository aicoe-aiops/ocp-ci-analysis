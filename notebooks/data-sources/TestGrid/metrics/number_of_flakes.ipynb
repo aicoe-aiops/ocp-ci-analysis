{
 "cells": [
  {
   "cell_type": "markdown",
   "metadata": {},
   "source": [
    "# Quantify Flakes\n",
    "\n",
    "One of the key perfomance indicators that we would like to create greater visbility into and track over time is overall number and percent of flakes that occur. Individual test runs are flagged a \"flake\" if they are run mulitple times with a mix of passes and failes without any changes to the code being tested. Although they occur for individual test runs, there are a number of aggregate views that developers may want to look at to assess the overall health of thier project or testing platform. For Example:\n",
    "\n",
    "* percent flakes on platform each day\n",
    "* percent flakes by tab each week\n",
    "* percent flakes by grid each month\n",
    "* percent flakes by test overall (this can also be seen as a severity level = overall flake rate of test)\n",
    "\n",
    "In order to provide maxium flexibility for the end-user of this work, instead of creating a number of dataframes to answer each of these specifc questions, we will define a long and narrow data structure (a list of tuples saved as a csv for now) that contains only 5 columns (\"timestamp\", \"tab\",\"grid\",\"test\",\"flake\"). This allows superset (or pandas) to perform the last filter and/or aggreagtion of interest to an end user. Which is to say, there may appear to be a lot of repetion within the final dataset, but each row should be unique, and it should provide the simpelest useability for an end-user.    \n"
   ]
  },
  {
   "cell_type": "code",
   "execution_count": 1,
   "metadata": {
    "ExecuteTime": {
     "end_time": "2021-03-24T16:40:49.971080Z",
     "start_time": "2021-03-24T16:40:49.156552Z"
    }
   },
   "outputs": [
    {
     "data": {
      "text/plain": [
       "True"
      ]
     },
     "execution_count": 1,
     "metadata": {},
     "output_type": "execute_result"
    }
   ],
   "source": [
    "import json\n",
    "import gzip\n",
    "import os\n",
    "import pandas as pd\n",
    "import matplotlib.pyplot as plt\n",
    "import seaborn as sns\n",
    "import datetime\n",
    "\n",
    "\n",
    "from ipynb.fs.defs.metric_template import testgrid_labelwise_encoding\n",
    "from ipynb.fs.defs.metric_template import CephCommunication\n",
    "from ipynb.fs.defs.metric_template import save_to_disk, read_from_disk\n",
    "from dotenv import load_dotenv, find_dotenv\n",
    "\n",
    "load_dotenv(find_dotenv())"
   ]
  },
  {
   "cell_type": "code",
   "execution_count": 2,
   "metadata": {},
   "outputs": [],
   "source": [
    "## Specify variables\n",
    "METRIC_NAME = \"number_of_flakes\"\n",
    "# Specify the path for input grid data,\n",
    "INPUT_DATA_PATH = \"../../../../data/raw/testgrid_810.json.gz\"\n",
    "\n",
    "# Specify the path for output metric data\n",
    "OUTPUT_DATA_PATH = f\"../../../../data/processed/metrics/{METRIC_NAME}\"\n",
    "\n",
    "# Specify whether or not we are running this as a notebook or part of an automation pipeline.\n",
    "AUTOMATION = os.getenv(\"IN_AUTOMATION\")\n",
    "\n",
    "## CEPH Bucket variables\n",
    "## Create a .env file on your local with the correct configs,\n",
    "s3_endpoint_url = os.getenv(\"S3_ENDPOINT\")\n",
    "s3_access_key = os.getenv(\"S3_ACCESS_KEY\")\n",
    "s3_secret_key = os.getenv(\"S3_SECRET_KEY\")\n",
    "s3_bucket = os.getenv(\"S3_BUCKET\")\n",
    "s3_input_data_path = \"raw_data\"\n",
    "metric_path = f\"metrics/{METRIC_NAME}\""
   ]
  },
  {
   "cell_type": "code",
   "execution_count": 3,
   "metadata": {},
   "outputs": [],
   "source": [
    "## Import data\n",
    "timestamp = datetime.datetime.today()\n",
    "\n",
    "if AUTOMATION:\n",
    "    filename = f\"testgrid_{timestamp.day}{timestamp.month}.json\"\n",
    "    cc = CephCommunication(s3_endpoint_url, s3_access_key, s3_secret_key, s3_bucket)\n",
    "    s3_object = cc.s3_resource.Object(s3_bucket, f\"{s3_input_data_path}/{filename}\")\n",
    "    file_content = s3_object.get()[\"Body\"].read().decode(\"utf-8\")\n",
    "    testgrid_data = json.loads(file_content)\n",
    "\n",
    "else:\n",
    "    with gzip.open(INPUT_DATA_PATH, \"rb\") as read_file:\n",
    "        testgrid_data = json.load(read_file)"
   ]
  },
  {
   "cell_type": "markdown",
   "metadata": {},
   "source": [
    "## Calculation\n",
    "- In this section, we calculate the metric values from the data."
   ]
  },
  {
   "cell_type": "code",
   "execution_count": 4,
   "metadata": {
    "ExecuteTime": {
     "end_time": "2021-03-24T16:41:32.522585Z",
     "start_time": "2021-03-24T16:41:05.153836Z"
    }
   },
   "outputs": [],
   "source": [
    "unrolled_list = testgrid_labelwise_encoding(testgrid_data, 13)"
   ]
  },
  {
   "cell_type": "code",
   "execution_count": 5,
   "metadata": {
    "ExecuteTime": {
     "end_time": "2021-03-24T16:41:47.182937Z",
     "start_time": "2021-03-24T16:41:32.524941Z"
    }
   },
   "outputs": [
    {
     "data": {
      "text/html": [
       "<div>\n",
       "<style scoped>\n",
       "    .dataframe tbody tr th:only-of-type {\n",
       "        vertical-align: middle;\n",
       "    }\n",
       "\n",
       "    .dataframe tbody tr th {\n",
       "        vertical-align: top;\n",
       "    }\n",
       "\n",
       "    .dataframe thead th {\n",
       "        text-align: right;\n",
       "    }\n",
       "</style>\n",
       "<table border=\"1\" class=\"dataframe\">\n",
       "  <thead>\n",
       "    <tr style=\"text-align: right;\">\n",
       "      <th></th>\n",
       "      <th>timestamp</th>\n",
       "      <th>tab</th>\n",
       "      <th>grid</th>\n",
       "      <th>test</th>\n",
       "      <th>test_duration</th>\n",
       "      <th>flake</th>\n",
       "    </tr>\n",
       "  </thead>\n",
       "  <tbody>\n",
       "    <tr>\n",
       "      <th>0</th>\n",
       "      <td>2021-04-14 16:12:04</td>\n",
       "      <td>\"redhat-assisted-installer\"</td>\n",
       "      <td>periodic-ci-openshift-release-master-nightly-4...</td>\n",
       "      <td>Overall</td>\n",
       "      <td>105.583333</td>\n",
       "      <td>False</td>\n",
       "    </tr>\n",
       "    <tr>\n",
       "      <th>1</th>\n",
       "      <td>2021-04-14 15:05:09</td>\n",
       "      <td>\"redhat-assisted-installer\"</td>\n",
       "      <td>periodic-ci-openshift-release-master-nightly-4...</td>\n",
       "      <td>Overall</td>\n",
       "      <td>87.216667</td>\n",
       "      <td>False</td>\n",
       "    </tr>\n",
       "    <tr>\n",
       "      <th>2</th>\n",
       "      <td>2021-04-14 13:13:36</td>\n",
       "      <td>\"redhat-assisted-installer\"</td>\n",
       "      <td>periodic-ci-openshift-release-master-nightly-4...</td>\n",
       "      <td>Overall</td>\n",
       "      <td>99.100000</td>\n",
       "      <td>False</td>\n",
       "    </tr>\n",
       "    <tr>\n",
       "      <th>3</th>\n",
       "      <td>2021-04-14 02:02:46</td>\n",
       "      <td>\"redhat-assisted-installer\"</td>\n",
       "      <td>periodic-ci-openshift-release-master-nightly-4...</td>\n",
       "      <td>Overall</td>\n",
       "      <td>107.316667</td>\n",
       "      <td>False</td>\n",
       "    </tr>\n",
       "    <tr>\n",
       "      <th>4</th>\n",
       "      <td>2021-04-13 19:12:42</td>\n",
       "      <td>\"redhat-assisted-installer\"</td>\n",
       "      <td>periodic-ci-openshift-release-master-nightly-4...</td>\n",
       "      <td>Overall</td>\n",
       "      <td>85.583333</td>\n",
       "      <td>False</td>\n",
       "    </tr>\n",
       "  </tbody>\n",
       "</table>\n",
       "</div>"
      ],
      "text/plain": [
       "            timestamp                          tab  \\\n",
       "0 2021-04-14 16:12:04  \"redhat-assisted-installer\"   \n",
       "1 2021-04-14 15:05:09  \"redhat-assisted-installer\"   \n",
       "2 2021-04-14 13:13:36  \"redhat-assisted-installer\"   \n",
       "3 2021-04-14 02:02:46  \"redhat-assisted-installer\"   \n",
       "4 2021-04-13 19:12:42  \"redhat-assisted-installer\"   \n",
       "\n",
       "                                                grid     test  test_duration  \\\n",
       "0  periodic-ci-openshift-release-master-nightly-4...  Overall     105.583333   \n",
       "1  periodic-ci-openshift-release-master-nightly-4...  Overall      87.216667   \n",
       "2  periodic-ci-openshift-release-master-nightly-4...  Overall      99.100000   \n",
       "3  periodic-ci-openshift-release-master-nightly-4...  Overall     107.316667   \n",
       "4  periodic-ci-openshift-release-master-nightly-4...  Overall      85.583333   \n",
       "\n",
       "   flake  \n",
       "0  False  \n",
       "1  False  \n",
       "2  False  \n",
       "3  False  \n",
       "4  False  "
      ]
     },
     "execution_count": 5,
     "metadata": {},
     "output_type": "execute_result"
    }
   ],
   "source": [
    "# Convert to dataframe\n",
    "df = pd.DataFrame(\n",
    "    unrolled_list,\n",
    "    columns=[\"timestamp\", \"tab\", \"grid\", \"test\", \"test_duration\", \"flake\"],\n",
    ")\n",
    "df.head()"
   ]
  },
  {
   "cell_type": "markdown",
   "metadata": {},
   "source": [
    "### Flake Severity Metric \n",
    "Some tests would be flaky for a lot of builds and thus have a high flake rate or severity. This metric can be leveraged to help prioritize the work needed to resolve the flake issues."
   ]
  },
  {
   "cell_type": "code",
   "execution_count": 6,
   "metadata": {
    "ExecuteTime": {
     "end_time": "2021-03-24T16:41:52.845524Z",
     "start_time": "2021-03-24T16:41:47.185173Z"
    }
   },
   "outputs": [
    {
     "data": {
      "text/html": [
       "<div>\n",
       "<style scoped>\n",
       "    .dataframe tbody tr th:only-of-type {\n",
       "        vertical-align: middle;\n",
       "    }\n",
       "\n",
       "    .dataframe tbody tr th {\n",
       "        vertical-align: top;\n",
       "    }\n",
       "\n",
       "    .dataframe thead th {\n",
       "        text-align: right;\n",
       "    }\n",
       "</style>\n",
       "<table border=\"1\" class=\"dataframe\">\n",
       "  <thead>\n",
       "    <tr style=\"text-align: right;\">\n",
       "      <th></th>\n",
       "      <th>test</th>\n",
       "      <th>flake</th>\n",
       "    </tr>\n",
       "  </thead>\n",
       "  <tbody>\n",
       "    <tr>\n",
       "      <th>count</th>\n",
       "      <td>29292485</td>\n",
       "      <td>29292485</td>\n",
       "    </tr>\n",
       "    <tr>\n",
       "      <th>unique</th>\n",
       "      <td>14621</td>\n",
       "      <td>2</td>\n",
       "    </tr>\n",
       "    <tr>\n",
       "      <th>top</th>\n",
       "      <td>Overall</td>\n",
       "      <td>False</td>\n",
       "    </tr>\n",
       "    <tr>\n",
       "      <th>freq</th>\n",
       "      <td>40223</td>\n",
       "      <td>29175244</td>\n",
       "    </tr>\n",
       "  </tbody>\n",
       "</table>\n",
       "</div>"
      ],
      "text/plain": [
       "            test     flake\n",
       "count   29292485  29292485\n",
       "unique     14621         2\n",
       "top      Overall     False\n",
       "freq       40223  29175244"
      ]
     },
     "execution_count": 6,
     "metadata": {},
     "output_type": "execute_result"
    }
   ],
   "source": [
    "df_flake_severity = df[[\"test\", \"flake\"]]\n",
    "df_flake_severity.describe()"
   ]
  },
  {
   "cell_type": "code",
   "execution_count": 7,
   "metadata": {
    "ExecuteTime": {
     "end_time": "2021-03-24T16:42:03.156603Z",
     "start_time": "2021-03-24T16:41:52.847442Z"
    }
   },
   "outputs": [
    {
     "data": {
      "text/html": [
       "<div>\n",
       "<style scoped>\n",
       "    .dataframe tbody tr th:only-of-type {\n",
       "        vertical-align: middle;\n",
       "    }\n",
       "\n",
       "    .dataframe tbody tr th {\n",
       "        vertical-align: top;\n",
       "    }\n",
       "\n",
       "    .dataframe thead th {\n",
       "        text-align: right;\n",
       "    }\n",
       "</style>\n",
       "<table border=\"1\" class=\"dataframe\">\n",
       "  <thead>\n",
       "    <tr style=\"text-align: right;\">\n",
       "      <th></th>\n",
       "      <th>test</th>\n",
       "      <th>flake_severity</th>\n",
       "    </tr>\n",
       "  </thead>\n",
       "  <tbody>\n",
       "    <tr>\n",
       "      <th>0</th>\n",
       "      <td>Add Secret to Workloads.Add Secret to Workload...</td>\n",
       "      <td>0.0</td>\n",
       "    </tr>\n",
       "    <tr>\n",
       "      <th>1</th>\n",
       "      <td>Add Secret to Workloads.Add Secret to Workload...</td>\n",
       "      <td>0.0</td>\n",
       "    </tr>\n",
       "    <tr>\n",
       "      <th>2</th>\n",
       "      <td>Alertmanager: Configuration.creates a receiver...</td>\n",
       "      <td>0.0</td>\n",
       "    </tr>\n",
       "    <tr>\n",
       "      <th>3</th>\n",
       "      <td>Alertmanager: Configuration.deletes a receiver...</td>\n",
       "      <td>0.0</td>\n",
       "    </tr>\n",
       "    <tr>\n",
       "      <th>4</th>\n",
       "      <td>Alertmanager: Configuration.displays the Alert...</td>\n",
       "      <td>0.0</td>\n",
       "    </tr>\n",
       "    <tr>\n",
       "      <th>...</th>\n",
       "      <td>...</td>\n",
       "      <td>...</td>\n",
       "    </tr>\n",
       "    <tr>\n",
       "      <th>14616</th>\n",
       "      <td>user.openshift.io~v1~Group.Kubernetes resource...</td>\n",
       "      <td>0.0</td>\n",
       "    </tr>\n",
       "    <tr>\n",
       "      <th>14617</th>\n",
       "      <td>user.openshift.io~v1~Group.Kubernetes resource...</td>\n",
       "      <td>0.0</td>\n",
       "    </tr>\n",
       "    <tr>\n",
       "      <th>14618</th>\n",
       "      <td>user.openshift.io~v1~Group.Kubernetes resource...</td>\n",
       "      <td>0.0</td>\n",
       "    </tr>\n",
       "    <tr>\n",
       "      <th>14619</th>\n",
       "      <td>user.openshift.io~v1~Group.Kubernetes resource...</td>\n",
       "      <td>0.0</td>\n",
       "    </tr>\n",
       "    <tr>\n",
       "      <th>14620</th>\n",
       "      <td>user.openshift.io~v1~Group.Kubernetes resource...</td>\n",
       "      <td>0.0</td>\n",
       "    </tr>\n",
       "  </tbody>\n",
       "</table>\n",
       "<p>14621 rows × 2 columns</p>\n",
       "</div>"
      ],
      "text/plain": [
       "                                                    test  flake_severity\n",
       "0      Add Secret to Workloads.Add Secret to Workload...             0.0\n",
       "1      Add Secret to Workloads.Add Secret to Workload...             0.0\n",
       "2      Alertmanager: Configuration.creates a receiver...             0.0\n",
       "3      Alertmanager: Configuration.deletes a receiver...             0.0\n",
       "4      Alertmanager: Configuration.displays the Alert...             0.0\n",
       "...                                                  ...             ...\n",
       "14616  user.openshift.io~v1~Group.Kubernetes resource...             0.0\n",
       "14617  user.openshift.io~v1~Group.Kubernetes resource...             0.0\n",
       "14618  user.openshift.io~v1~Group.Kubernetes resource...             0.0\n",
       "14619  user.openshift.io~v1~Group.Kubernetes resource...             0.0\n",
       "14620  user.openshift.io~v1~Group.Kubernetes resource...             0.0\n",
       "\n",
       "[14621 rows x 2 columns]"
      ]
     },
     "execution_count": 7,
     "metadata": {},
     "output_type": "execute_result"
    }
   ],
   "source": [
    "## The following metric implements flake severity\n",
    "## or flake rate by tests\n",
    "## Moving forward, this will be aggregated in Superset\n",
    "## For the sake of completeness, it is implmented here\n",
    "flake_severity = df.groupby(\"test\").flake.mean().reset_index()\n",
    "flake_severity.rename(columns={\"flake\": \"flake_severity\"}, inplace=True)\n",
    "flake_severity"
   ]
  },
  {
   "cell_type": "markdown",
   "metadata": {},
   "source": [
    "## Visualization \n",
    "- Here, we provide a quick visualization of the computed metric."
   ]
  },
  {
   "cell_type": "code",
   "execution_count": 8,
   "metadata": {
    "ExecuteTime": {
     "end_time": "2021-03-24T16:42:04.112236Z",
     "start_time": "2021-03-24T16:42:03.159485Z"
    }
   },
   "outputs": [
    {
     "data": {
      "image/png": "[encoded data removed]",
      "text/plain": [
       "<Figure size 1080x720 with 1 Axes>"
      ]
     },
     "metadata": {},
     "output_type": "display_data"
    }
   ],
   "source": [
    "sns.set(rc={\"figure.figsize\": (15, 10)})\n",
    "flake_severity.hist()\n",
    "plt.ylabel(\"Tests\")\n",
    "plt.xlabel(\"Flake Severity\")\n",
    "plt.show()"
   ]
  },
  {
   "cell_type": "markdown",
   "metadata": {},
   "source": [
    "From the above graph we can conclude that most of the tests have very low(~0) flake severity. One might look at this graph and assume that almost all of the tests have flake severity as 0. So, to get more clarity we have plotted another graph and here we've gone from about 8,000 tests to investigate for probable flakiness to less than 100. "
   ]
  },
  {
   "cell_type": "code",
   "execution_count": 9,
   "metadata": {
    "ExecuteTime": {
     "end_time": "2021-03-24T16:42:04.471269Z",
     "start_time": "2021-03-24T16:42:04.114874Z"
    }
   },
   "outputs": [
    {
     "data": {
      "image/png": "[encoded data removed]",
      "text/plain": [
       "<Figure size 1080x720 with 1 Axes>"
      ]
     },
     "metadata": {},
     "output_type": "display_data"
    }
   ],
   "source": [
    "sns.set(rc={\"figure.figsize\": (15, 10)})\n",
    "flake_severity.hist(bins=50)\n",
    "plt.ylabel(\"Tests\")\n",
    "plt.xlabel(\"Flake Severity\")\n",
    "plt.ylim((0, 25))\n",
    "plt.show()"
   ]
  },
  {
   "cell_type": "markdown",
   "metadata": {},
   "source": [
    "From the above graph we can see that there are other values of flake severity for some tests. However it is a small bunch of tests that show a different set of flake severity. Let's see some tests that have a high flake severity score."
   ]
  },
  {
   "cell_type": "markdown",
   "metadata": {},
   "source": [
    "The top 5 tests with the highest flake score :"
   ]
  },
  {
   "cell_type": "code",
   "execution_count": 10,
   "metadata": {
    "ExecuteTime": {
     "end_time": "2021-03-24T16:42:04.486646Z",
     "start_time": "2021-03-24T16:42:04.473750Z"
    }
   },
   "outputs": [
    {
     "data": {
      "text/html": [
       "<div>\n",
       "<style scoped>\n",
       "    .dataframe tbody tr th:only-of-type {\n",
       "        vertical-align: middle;\n",
       "    }\n",
       "\n",
       "    .dataframe tbody tr th {\n",
       "        vertical-align: top;\n",
       "    }\n",
       "\n",
       "    .dataframe thead th {\n",
       "        text-align: right;\n",
       "    }\n",
       "</style>\n",
       "<table border=\"1\" class=\"dataframe\">\n",
       "  <thead>\n",
       "    <tr style=\"text-align: right;\">\n",
       "      <th></th>\n",
       "      <th>test</th>\n",
       "      <th>flake_severity</th>\n",
       "    </tr>\n",
       "  </thead>\n",
       "  <tbody>\n",
       "    <tr>\n",
       "      <th>5359</th>\n",
       "      <td>openshift-tests.[sig-arch] Monitor cluster whi...</td>\n",
       "      <td>0.702483</td>\n",
       "    </tr>\n",
       "    <tr>\n",
       "      <th>211</th>\n",
       "      <td>Cluster upgrade.[sig-imageregistry] Image regi...</td>\n",
       "      <td>0.573415</td>\n",
       "    </tr>\n",
       "    <tr>\n",
       "      <th>217</th>\n",
       "      <td>Cluster upgrade.[sig-network-edge] Cluster fro...</td>\n",
       "      <td>0.483348</td>\n",
       "    </tr>\n",
       "    <tr>\n",
       "      <th>215</th>\n",
       "      <td>Cluster upgrade.[sig-network-edge] Application...</td>\n",
       "      <td>0.476019</td>\n",
       "    </tr>\n",
       "    <tr>\n",
       "      <th>184</th>\n",
       "      <td>Cluster upgrade.[sig-api-machinery] Kubernetes...</td>\n",
       "      <td>0.430634</td>\n",
       "    </tr>\n",
       "  </tbody>\n",
       "</table>\n",
       "</div>"
      ],
      "text/plain": [
       "                                                   test  flake_severity\n",
       "5359  openshift-tests.[sig-arch] Monitor cluster whi...        0.702483\n",
       "211   Cluster upgrade.[sig-imageregistry] Image regi...        0.573415\n",
       "217   Cluster upgrade.[sig-network-edge] Cluster fro...        0.483348\n",
       "215   Cluster upgrade.[sig-network-edge] Application...        0.476019\n",
       "184   Cluster upgrade.[sig-api-machinery] Kubernetes...        0.430634"
      ]
     },
     "execution_count": 10,
     "metadata": {},
     "output_type": "execute_result"
    }
   ],
   "source": [
    "flake_severity.nlargest(5, \"flake_severity\")"
   ]
  },
  {
   "cell_type": "code",
   "execution_count": 11,
   "metadata": {
    "ExecuteTime": {
     "end_time": "2021-03-24T16:42:15.855179Z",
     "start_time": "2021-03-24T16:42:15.721886Z"
    }
   },
   "outputs": [
    {
     "data": {
      "text/plain": [
       "0.00400242587817319"
      ]
     },
     "execution_count": 11,
     "metadata": {},
     "output_type": "execute_result"
    }
   ],
   "source": [
    "# Overall flake percentage\n",
    "df.flake.sum() / df.flake.count()"
   ]
  },
  {
   "cell_type": "markdown",
   "metadata": {},
   "source": [
    "### Save results to Ceph or locally\n",
    "* Use the following helper function to save the data frame in a parquet format on the Ceph bucket if we are running in automation, and locally if not."
   ]
  },
  {
   "cell_type": "code",
   "execution_count": 12,
   "metadata": {},
   "outputs": [],
   "source": [
    "filename = f\"{METRIC_NAME}-{timestamp.year}-{timestamp.month}-{timestamp.day}.parquet\"\n",
    "\n",
    "if AUTOMATION == \"True\":\n",
    "    cc = CephCommunication(s3_endpoint_url, s3_access_key, s3_secret_key, s3_bucket)\n",
    "    cc.upload_to_ceph(df, metric_path, filename)\n",
    "else:\n",
    "    save_to_disk(df, OUTPUT_DATA_PATH, filename)"
   ]
  },
  {
   "cell_type": "code",
   "execution_count": 13,
   "metadata": {},
   "outputs": [
    {
     "data": {
      "text/html": [
       "<div>\n",
       "<style scoped>\n",
       "    .dataframe tbody tr th:only-of-type {\n",
       "        vertical-align: middle;\n",
       "    }\n",
       "\n",
       "    .dataframe tbody tr th {\n",
       "        vertical-align: top;\n",
       "    }\n",
       "\n",
       "    .dataframe thead th {\n",
       "        text-align: right;\n",
       "    }\n",
       "</style>\n",
       "<table border=\"1\" class=\"dataframe\">\n",
       "  <thead>\n",
       "    <tr style=\"text-align: right;\">\n",
       "      <th></th>\n",
       "      <th>timestamp</th>\n",
       "      <th>tab</th>\n",
       "      <th>grid</th>\n",
       "      <th>test</th>\n",
       "      <th>test_duration</th>\n",
       "      <th>flake</th>\n",
       "    </tr>\n",
       "  </thead>\n",
       "  <tbody>\n",
       "    <tr>\n",
       "      <th>0</th>\n",
       "      <td>2021-04-14 16:12:04</td>\n",
       "      <td>\"redhat-assisted-installer\"</td>\n",
       "      <td>periodic-ci-openshift-release-master-nightly-4...</td>\n",
       "      <td>Overall</td>\n",
       "      <td>105.583333</td>\n",
       "      <td>False</td>\n",
       "    </tr>\n",
       "    <tr>\n",
       "      <th>1</th>\n",
       "      <td>2021-04-14 15:05:09</td>\n",
       "      <td>\"redhat-assisted-installer\"</td>\n",
       "      <td>periodic-ci-openshift-release-master-nightly-4...</td>\n",
       "      <td>Overall</td>\n",
       "      <td>87.216667</td>\n",
       "      <td>False</td>\n",
       "    </tr>\n",
       "    <tr>\n",
       "      <th>2</th>\n",
       "      <td>2021-04-14 13:13:36</td>\n",
       "      <td>\"redhat-assisted-installer\"</td>\n",
       "      <td>periodic-ci-openshift-release-master-nightly-4...</td>\n",
       "      <td>Overall</td>\n",
       "      <td>99.100000</td>\n",
       "      <td>False</td>\n",
       "    </tr>\n",
       "    <tr>\n",
       "      <th>3</th>\n",
       "      <td>2021-04-14 02:02:46</td>\n",
       "      <td>\"redhat-assisted-installer\"</td>\n",
       "      <td>periodic-ci-openshift-release-master-nightly-4...</td>\n",
       "      <td>Overall</td>\n",
       "      <td>107.316667</td>\n",
       "      <td>False</td>\n",
       "    </tr>\n",
       "    <tr>\n",
       "      <th>4</th>\n",
       "      <td>2021-04-13 19:12:42</td>\n",
       "      <td>\"redhat-assisted-installer\"</td>\n",
       "      <td>periodic-ci-openshift-release-master-nightly-4...</td>\n",
       "      <td>Overall</td>\n",
       "      <td>85.583333</td>\n",
       "      <td>False</td>\n",
       "    </tr>\n",
       "    <tr>\n",
       "      <th>...</th>\n",
       "      <td>...</td>\n",
       "      <td>...</td>\n",
       "      <td>...</td>\n",
       "      <td>...</td>\n",
       "      <td>...</td>\n",
       "      <td>...</td>\n",
       "    </tr>\n",
       "    <tr>\n",
       "      <th>29292480</th>\n",
       "      <td>2021-04-04 00:00:53</td>\n",
       "      <td>\"redhat-single-node\"</td>\n",
       "      <td>periodic-ci-openshift-release-master-nightly-4...</td>\n",
       "      <td>openshift-tests.[sig-arch] Monitor cluster whi...</td>\n",
       "      <td>NaN</td>\n",
       "      <td>False</td>\n",
       "    </tr>\n",
       "    <tr>\n",
       "      <th>29292481</th>\n",
       "      <td>2021-04-03 00:01:26</td>\n",
       "      <td>\"redhat-single-node\"</td>\n",
       "      <td>periodic-ci-openshift-release-master-nightly-4...</td>\n",
       "      <td>openshift-tests.[sig-arch] Monitor cluster whi...</td>\n",
       "      <td>NaN</td>\n",
       "      <td>False</td>\n",
       "    </tr>\n",
       "    <tr>\n",
       "      <th>29292482</th>\n",
       "      <td>2021-04-02 00:00:37</td>\n",
       "      <td>\"redhat-single-node\"</td>\n",
       "      <td>periodic-ci-openshift-release-master-nightly-4...</td>\n",
       "      <td>openshift-tests.[sig-arch] Monitor cluster whi...</td>\n",
       "      <td>NaN</td>\n",
       "      <td>True</td>\n",
       "    </tr>\n",
       "    <tr>\n",
       "      <th>29292483</th>\n",
       "      <td>2021-04-01 00:01:05</td>\n",
       "      <td>\"redhat-single-node\"</td>\n",
       "      <td>periodic-ci-openshift-release-master-nightly-4...</td>\n",
       "      <td>openshift-tests.[sig-arch] Monitor cluster whi...</td>\n",
       "      <td>NaN</td>\n",
       "      <td>False</td>\n",
       "    </tr>\n",
       "    <tr>\n",
       "      <th>29292484</th>\n",
       "      <td>2021-03-31 00:01:15</td>\n",
       "      <td>\"redhat-single-node\"</td>\n",
       "      <td>periodic-ci-openshift-release-master-nightly-4...</td>\n",
       "      <td>openshift-tests.[sig-arch] Monitor cluster whi...</td>\n",
       "      <td>NaN</td>\n",
       "      <td>True</td>\n",
       "    </tr>\n",
       "  </tbody>\n",
       "</table>\n",
       "<p>29292485 rows × 6 columns</p>\n",
       "</div>"
      ],
      "text/plain": [
       "                   timestamp                          tab  \\\n",
       "0        2021-04-14 16:12:04  \"redhat-assisted-installer\"   \n",
       "1        2021-04-14 15:05:09  \"redhat-assisted-installer\"   \n",
       "2        2021-04-14 13:13:36  \"redhat-assisted-installer\"   \n",
       "3        2021-04-14 02:02:46  \"redhat-assisted-installer\"   \n",
       "4        2021-04-13 19:12:42  \"redhat-assisted-installer\"   \n",
       "...                      ...                          ...   \n",
       "29292480 2021-04-04 00:00:53         \"redhat-single-node\"   \n",
       "29292481 2021-04-03 00:01:26         \"redhat-single-node\"   \n",
       "29292482 2021-04-02 00:00:37         \"redhat-single-node\"   \n",
       "29292483 2021-04-01 00:01:05         \"redhat-single-node\"   \n",
       "29292484 2021-03-31 00:01:15         \"redhat-single-node\"   \n",
       "\n",
       "                                                       grid  \\\n",
       "0         periodic-ci-openshift-release-master-nightly-4...   \n",
       "1         periodic-ci-openshift-release-master-nightly-4...   \n",
       "2         periodic-ci-openshift-release-master-nightly-4...   \n",
       "3         periodic-ci-openshift-release-master-nightly-4...   \n",
       "4         periodic-ci-openshift-release-master-nightly-4...   \n",
       "...                                                     ...   \n",
       "29292480  periodic-ci-openshift-release-master-nightly-4...   \n",
       "29292481  periodic-ci-openshift-release-master-nightly-4...   \n",
       "29292482  periodic-ci-openshift-release-master-nightly-4...   \n",
       "29292483  periodic-ci-openshift-release-master-nightly-4...   \n",
       "29292484  periodic-ci-openshift-release-master-nightly-4...   \n",
       "\n",
       "                                                       test  test_duration  \\\n",
       "0                                                   Overall     105.583333   \n",
       "1                                                   Overall      87.216667   \n",
       "2                                                   Overall      99.100000   \n",
       "3                                                   Overall     107.316667   \n",
       "4                                                   Overall      85.583333   \n",
       "...                                                     ...            ...   \n",
       "29292480  openshift-tests.[sig-arch] Monitor cluster whi...            NaN   \n",
       "29292481  openshift-tests.[sig-arch] Monitor cluster whi...            NaN   \n",
       "29292482  openshift-tests.[sig-arch] Monitor cluster whi...            NaN   \n",
       "29292483  openshift-tests.[sig-arch] Monitor cluster whi...            NaN   \n",
       "29292484  openshift-tests.[sig-arch] Monitor cluster whi...            NaN   \n",
       "\n",
       "          flake  \n",
       "0         False  \n",
       "1         False  \n",
       "2         False  \n",
       "3         False  \n",
       "4         False  \n",
       "...         ...  \n",
       "29292480  False  \n",
       "29292481  False  \n",
       "29292482   True  \n",
       "29292483  False  \n",
       "29292484   True  \n",
       "\n",
       "[29292485 rows x 6 columns]"
      ]
     },
     "execution_count": 13,
     "metadata": {},
     "output_type": "execute_result"
    }
   ],
   "source": [
    "## Sanity check to see if the dataset is the same\n",
    "if AUTOMATION == \"True\":\n",
    "    sanity_check = cc.read_from_ceph(metric_path, filename)\n",
    "else:\n",
    "    sanity_check = read_from_disk(OUTPUT_DATA_PATH, filename)\n",
    "\n",
    "sanity_check"
   ]
  },
  {
   "cell_type": "markdown",
   "metadata": {},
   "source": [
    "### Conclusion\n",
    "This notebook computed number of flakes and the flake severity metric. The dataframe saved on ceph can be used to generate aggregated views and visualizations."
   ]
  }
 ],
 "metadata": {
  "finalized": {
   "timestamp": 1616083168568,
   "trusted": true
  },
  "kernelspec": {
   "display_name": "Python 3",
   "language": "python",
   "name": "python3"
  },
  "language_info": {
   "codemirror_mode": {
    "name": "ipython",
    "version": 3
   },
   "file_extension": ".py",
   "mimetype": "text/x-python",
   "name": "python",
   "nbconvert_exporter": "python",
   "pygments_lexer": "ipython3",
   "version": "3.8.3"
  },
  "toc": {
   "base_numbering": 1,
   "nav_menu": {},
   "number_sections": true,
   "sideBar": true,
   "skip_h1_title": false,
   "title_cell": "Table of Contents",
   "title_sidebar": "Contents",
   "toc_cell": false,
   "toc_position": {},
   "toc_section_display": true,
   "toc_window_display": false
  }
 },
 "nbformat": 4,
 "nbformat_minor": 4
}
