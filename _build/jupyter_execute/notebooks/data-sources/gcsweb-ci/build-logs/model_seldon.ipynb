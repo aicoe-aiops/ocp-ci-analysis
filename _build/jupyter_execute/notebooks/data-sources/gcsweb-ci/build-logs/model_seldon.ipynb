{
 "cells": [
  {
   "cell_type": "markdown",
   "id": "4392ea3b-9c11-4b33-854a-4d9232279e1a",
   "metadata": {},
   "source": [
    "# Seldon deployment for build log clustering\n",
    "In this notebook, we deploy a seldon service for clustering build logs. First, we take the experiments in [build log clustering notebook](build_log_term_freq.ipynb) and train a Sklearn pipeline with all the components. Then, we save the model on s3 storage and deploy a seldon service that uses the saved model. Finally, we test the service for inference on an example request. "
   ]
  },
  {
   "cell_type": "code",
   "execution_count": 1,
   "id": "a7231359-8ec1-484a-a36a-a60c5be94932",
   "metadata": {},
   "outputs": [
    {
     "data": {
      "text/plain": [
       "True"
      ]
     },
     "execution_count": 1,
     "metadata": {},
     "output_type": "execute_result"
    }
   ],
   "source": [
    "import os\n",
    "import pandas as pd\n",
    "import requests\n",
    "from sklearn.cluster import KMeans\n",
    "from sklearn.feature_extraction.text import TfidfVectorizer\n",
    "from sklearn.pipeline import Pipeline\n",
    "import joblib\n",
    "import boto3\n",
    "import json\n",
    "from dotenv import load_dotenv, find_dotenv\n",
    "\n",
    "load_dotenv(find_dotenv())"
   ]
  },
  {
   "cell_type": "markdown",
   "id": "13a8940d-288b-4f79-9d9d-9d08bf73d97b",
   "metadata": {},
   "source": [
    "# Load Dataset"
   ]
  },
  {
   "cell_type": "code",
   "execution_count": 2,
   "id": "9c09ef83-d7f5-4092-8cae-324d8476f7d4",
   "metadata": {},
   "outputs": [
    {
     "name": "stdout",
     "output_type": "stream",
     "text": [
      "Reading metadata from ../../../../data/raw/gcs/build-metadata/periodic-ci-openshift-release-master-ci-4.8-e2e-gcp_build-logs.csv\n"
     ]
    },
    {
     "data": {
      "text/html": [
       "<div>\n",
       "<style scoped>\n",
       "    .dataframe tbody tr th:only-of-type {\n",
       "        vertical-align: middle;\n",
       "    }\n",
       "\n",
       "    .dataframe tbody tr th {\n",
       "        vertical-align: top;\n",
       "    }\n",
       "\n",
       "    .dataframe thead th {\n",
       "        text-align: right;\n",
       "    }\n",
       "</style>\n",
       "<table border=\"1\" class=\"dataframe\">\n",
       "  <thead>\n",
       "    <tr style=\"text-align: right;\">\n",
       "      <th></th>\n",
       "      <th>result</th>\n",
       "      <th>size</th>\n",
       "      <th>start</th>\n",
       "      <th>end</th>\n",
       "      <th>duration</th>\n",
       "      <th>success</th>\n",
       "    </tr>\n",
       "  </thead>\n",
       "  <tbody>\n",
       "    <tr>\n",
       "      <th>1429152444788510720</th>\n",
       "      <td>SUCCESS</td>\n",
       "      <td>4135</td>\n",
       "      <td>1629571472</td>\n",
       "      <td>1629576480</td>\n",
       "      <td>5008</td>\n",
       "      <td>True</td>\n",
       "    </tr>\n",
       "    <tr>\n",
       "      <th>1455624937803878400</th>\n",
       "      <td>SUCCESS</td>\n",
       "      <td>4579</td>\n",
       "      <td>1635883006</td>\n",
       "      <td>1635887416</td>\n",
       "      <td>4410</td>\n",
       "      <td>True</td>\n",
       "    </tr>\n",
       "    <tr>\n",
       "      <th>1445593776872493056</th>\n",
       "      <td>SUCCESS</td>\n",
       "      <td>4397</td>\n",
       "      <td>1633491392</td>\n",
       "      <td>1633496097</td>\n",
       "      <td>4705</td>\n",
       "      <td>True</td>\n",
       "    </tr>\n",
       "    <tr>\n",
       "      <th>1417019048973045760</th>\n",
       "      <td>SUCCESS</td>\n",
       "      <td>4134</td>\n",
       "      <td>1626678644</td>\n",
       "      <td>1626683464</td>\n",
       "      <td>4820</td>\n",
       "      <td>True</td>\n",
       "    </tr>\n",
       "    <tr>\n",
       "      <th>1427589558375026688</th>\n",
       "      <td>SUCCESS</td>\n",
       "      <td>4133</td>\n",
       "      <td>1629198851</td>\n",
       "      <td>1629203489</td>\n",
       "      <td>4638</td>\n",
       "      <td>True</td>\n",
       "    </tr>\n",
       "    <tr>\n",
       "      <th>...</th>\n",
       "      <td>...</td>\n",
       "      <td>...</td>\n",
       "      <td>...</td>\n",
       "      <td>...</td>\n",
       "      <td>...</td>\n",
       "      <td>...</td>\n",
       "    </tr>\n",
       "    <tr>\n",
       "      <th>1464437854917627904</th>\n",
       "      <td>SUCCESS</td>\n",
       "      <td>4579</td>\n",
       "      <td>1637984169</td>\n",
       "      <td>1637988828</td>\n",
       "      <td>4659</td>\n",
       "      <td>True</td>\n",
       "    </tr>\n",
       "    <tr>\n",
       "      <th>1420899046205165568</th>\n",
       "      <td>SUCCESS</td>\n",
       "      <td>4131</td>\n",
       "      <td>1627603731</td>\n",
       "      <td>1627608772</td>\n",
       "      <td>5041</td>\n",
       "      <td>True</td>\n",
       "    </tr>\n",
       "    <tr>\n",
       "      <th>1410375749352820736</th>\n",
       "      <td>FAILURE</td>\n",
       "      <td>8880668</td>\n",
       "      <td>1625094759</td>\n",
       "      <td>1625100569</td>\n",
       "      <td>5810</td>\n",
       "      <td>False</td>\n",
       "    </tr>\n",
       "    <tr>\n",
       "      <th>1422945097544110080</th>\n",
       "      <td>SUCCESS</td>\n",
       "      <td>4133</td>\n",
       "      <td>1628091552</td>\n",
       "      <td>1628096732</td>\n",
       "      <td>5180</td>\n",
       "      <td>True</td>\n",
       "    </tr>\n",
       "    <tr>\n",
       "      <th>1462490101803126784</th>\n",
       "      <td>SUCCESS</td>\n",
       "      <td>4581</td>\n",
       "      <td>1637519789</td>\n",
       "      <td>1637524977</td>\n",
       "      <td>5188</td>\n",
       "      <td>True</td>\n",
       "    </tr>\n",
       "  </tbody>\n",
       "</table>\n",
       "<p>1080 rows × 6 columns</p>\n",
       "</div>"
      ],
      "text/plain": [
       "                      result     size       start         end  duration  \\\n",
       "1429152444788510720  SUCCESS     4135  1629571472  1629576480      5008   \n",
       "1455624937803878400  SUCCESS     4579  1635883006  1635887416      4410   \n",
       "1445593776872493056  SUCCESS     4397  1633491392  1633496097      4705   \n",
       "1417019048973045760  SUCCESS     4134  1626678644  1626683464      4820   \n",
       "1427589558375026688  SUCCESS     4133  1629198851  1629203489      4638   \n",
       "...                      ...      ...         ...         ...       ...   \n",
       "1464437854917627904  SUCCESS     4579  1637984169  1637988828      4659   \n",
       "1420899046205165568  SUCCESS     4131  1627603731  1627608772      5041   \n",
       "1410375749352820736  FAILURE  8880668  1625094759  1625100569      5810   \n",
       "1422945097544110080  SUCCESS     4133  1628091552  1628096732      5180   \n",
       "1462490101803126784  SUCCESS     4581  1637519789  1637524977      5188   \n",
       "\n",
       "                     success  \n",
       "1429152444788510720     True  \n",
       "1455624937803878400     True  \n",
       "1445593776872493056     True  \n",
       "1417019048973045760     True  \n",
       "1427589558375026688     True  \n",
       "...                      ...  \n",
       "1464437854917627904     True  \n",
       "1420899046205165568     True  \n",
       "1410375749352820736    False  \n",
       "1422945097544110080     True  \n",
       "1462490101803126784     True  \n",
       "\n",
       "[1080 rows x 6 columns]"
      ]
     },
     "execution_count": 2,
     "metadata": {},
     "output_type": "execute_result"
    }
   ],
   "source": [
    "# Note: periodic jobs only (see FIXME in class Builds)\n",
    "job_name = \"periodic-ci-openshift-release-master-ci-4.8-e2e-gcp\"\n",
    "\n",
    "logs_path = \"../../../../data/raw/gcs/build-logs/\"  # local cache of build log files\n",
    "metadata_path = \"../../../../data/raw/gcs/build-metadata/\"  # path to saved metadata\n",
    "metadata_file_name = os.path.join(metadata_path, f\"{job_name}_build-logs.csv\")\n",
    "\n",
    "\n",
    "def log_path_for(build_id):\n",
    "    return os.path.join(logs_path, f\"{build_id}.txt\")\n",
    "\n",
    "\n",
    "def prow_url_for(build_id):\n",
    "    project = \"origin-ci-test\"\n",
    "    # FIXME: this prefix is only for periodic jobs\n",
    "    job_prefix = f\"logs/{job_name}/\"\n",
    "    return f\"https://prow.ci.openshift.org/view/gcs/{project}/{job_prefix}{build_id}\"\n",
    "\n",
    "\n",
    "def clean_df(df):\n",
    "    \"\"\"Polishes the metadata DataFrame\"\"\"\n",
    "    build_errors = df[df[\"result\"] == \"error\"].index\n",
    "    df.drop(build_errors, inplace=True)  # Remove builds that erroed (prow error)\n",
    "    df[\"duration\"] = df[\"end\"] - df[\"start\"]  # From timestamps to job duration\n",
    "    df[\"success\"] = df[\"result\"] == \"SUCCESS\"  # A boolean version of the result\n",
    "    return df\n",
    "\n",
    "\n",
    "print(\"Reading metadata from\", metadata_file_name)\n",
    "df = pd.read_csv(metadata_file_name, index_col=0)\n",
    "df = clean_df(df)\n",
    "df"
   ]
  },
  {
   "cell_type": "code",
   "execution_count": 3,
   "id": "efe88627-4d1b-43e3-8fe8-609f1b35cb55",
   "metadata": {},
   "outputs": [],
   "source": [
    "# Get a list of paths to the local copy of each build log\n",
    "build_logs = []\n",
    "for build_id in df.index:\n",
    "    with open(log_path_for(build_id), \"r\") as f:\n",
    "        build_logs.append(f.read())"
   ]
  },
  {
   "cell_type": "markdown",
   "id": "1c97500a-8ee8-449c-ad58-3a14840a52f2",
   "metadata": {},
   "source": [
    "# Train SKlearn Pipeline"
   ]
  },
  {
   "cell_type": "code",
   "execution_count": 4,
   "id": "a7f5161c-74cd-4bf2-b45b-827f1366fc17",
   "metadata": {},
   "outputs": [],
   "source": [
    "token_pattern = r\"\\b[a-z][a-z0-9_/\\.-]+\\b\"\n",
    "vectorizer = TfidfVectorizer(\n",
    "    min_df=0.03,\n",
    "    token_pattern=token_pattern,\n",
    ")\n",
    "\n",
    "k = 3\n",
    "kmeans = KMeans(n_clusters=k, random_state=123)\n",
    "\n",
    "pipeline = Pipeline([(\"tfidf\", vectorizer), (\"kmeans\", kmeans)])"
   ]
  },
  {
   "cell_type": "code",
   "execution_count": 5,
   "id": "b86c7c3d-7dc0-4c8d-a8f0-51c6a977686b",
   "metadata": {},
   "outputs": [
    {
     "data": {
      "text/plain": [
       "Pipeline(steps=[('tfidf',\n",
       "                 TfidfVectorizer(min_df=0.03,\n",
       "                                 token_pattern='\\\\b[a-z][a-z0-9_/\\\\.-]+\\\\b')),\n",
       "                ('kmeans', KMeans(n_clusters=3, random_state=123))])"
      ]
     },
     "execution_count": 5,
     "metadata": {},
     "output_type": "execute_result"
    }
   ],
   "source": [
    "pipeline.fit(build_logs)"
   ]
  },
  {
   "cell_type": "markdown",
   "id": "1c572671-1566-491c-8bd3-0c17bbf999ab",
   "metadata": {},
   "source": [
    "# Save Pipeline"
   ]
  },
  {
   "cell_type": "code",
   "execution_count": 6,
   "id": "d8d9e238-81bd-458e-bcd4-f53d0b818e51",
   "metadata": {},
   "outputs": [
    {
     "data": {
      "text/plain": [
       "['model.joblib']"
      ]
     },
     "execution_count": 6,
     "metadata": {},
     "output_type": "execute_result"
    }
   ],
   "source": [
    "joblib.dump(pipeline, \"model.joblib\")"
   ]
  },
  {
   "cell_type": "code",
   "execution_count": 7,
   "id": "b483e10c-dca9-4a7b-9f02-0a1636e5b277",
   "metadata": {},
   "outputs": [],
   "source": [
    "# Test set\n",
    "test_set = [i for i in build_logs if len(i) < 5000][:25]"
   ]
  },
  {
   "cell_type": "code",
   "execution_count": 8,
   "id": "36ce3674-584d-4abc-acec-1be00fdcbbe7",
   "metadata": {},
   "outputs": [
    {
     "data": {
      "text/plain": [
       "array([0, 0, 0, 0, 0, 0, 0, 0, 0, 0, 0, 0, 0, 0, 0, 0, 2, 0, 0, 0, 0, 0,\n",
       "       0, 0, 0], dtype=int32)"
      ]
     },
     "execution_count": 8,
     "metadata": {},
     "output_type": "execute_result"
    }
   ],
   "source": [
    "# Sanity check to see if the saved model works locally\n",
    "pipeline_loaded = joblib.load(\"model2.joblib\")\n",
    "pipeline_loaded\n",
    "pipeline_loaded.predict(test_set)"
   ]
  },
  {
   "cell_type": "code",
   "execution_count": 10,
   "id": "5319ba0e-ae92-47d5-b83a-42a3f6dacd33",
   "metadata": {},
   "outputs": [],
   "source": [
    "# Set credentials for your s3 storage\n",
    "s3_endpoint_url = os.getenv(\"S3_ENDPOINT\")\n",
    "aws_access_key_id = os.getenv(\"S3_ACCESS_KEY\")\n",
    "aws_secret_access_key = os.getenv(\"S3_SECRET_KEY\")\n",
    "s3_bucket = os.getenv(\"S3_BUCKET\")"
   ]
  },
  {
   "cell_type": "code",
   "execution_count": 13,
   "id": "b6f71492-7d73-4454-b2a3-0a8a5ccde749",
   "metadata": {},
   "outputs": [],
   "source": [
    "s3_resource = boto3.resource(\n",
    "    \"s3\",\n",
    "    endpoint_url=s3_endpoint_url,\n",
    "    aws_access_key_id=aws_access_key_id,\n",
    "    aws_secret_access_key=aws_secret_access_key,\n",
    ")\n",
    "bucket = s3_resource.Bucket(name=s3_bucket)"
   ]
  },
  {
   "cell_type": "code",
   "execution_count": 14,
   "id": "beaaeb47-fa3e-4625-9f39-bc883bcf3666",
   "metadata": {},
   "outputs": [
    {
     "data": {
      "text/plain": [
       "['ai4ci/build-log-clustering/tfidf-kmeans/model.joblib',\n",
       " 'ai4ci/failure-classifier/model.joblib',\n",
       " 'ai4ci/github-pr-ttm/model/model.joblib',\n",
       " 'github/ttm-model-raw-data/pipeline/model.joblib',\n",
       " 'github/ttm-model/model.joblib',\n",
       " 'github/ttm-model/pipeline/model.joblib']"
      ]
     },
     "execution_count": 14,
     "metadata": {},
     "output_type": "execute_result"
    }
   ],
   "source": [
    "# Upload your model\n",
    "bucket.upload_file(\n",
    "    \"model.joblib\", \"ai4ci/build-log-clustering/tfidf-kmeans/model.joblib\"\n",
    ")\n",
    "\n",
    "# Check if your model exists on s3\n",
    "objects = [\n",
    "    obj.key for obj in bucket.objects.filter(Prefix=\"\") if \"model.joblib\" in obj.key\n",
    "]\n",
    "objects"
   ]
  },
  {
   "cell_type": "markdown",
   "id": "458a173c-ccb4-47b5-ab5f-4f3d666ae644",
   "metadata": {},
   "source": [
    "# Test seldon deployment service \n",
    "We use the deployment [config](seldon_deployment_config.yaml) to deploy a seldon service."
   ]
  },
  {
   "cell_type": "code",
   "execution_count": 15,
   "id": "93047e57-db7b-4115-8518-f18e22bfe16e",
   "metadata": {},
   "outputs": [],
   "source": [
    "# Service url\n",
    "base_url = \"http://build-log-clustering-ds-ml-workflows-ws.apps.smaug.na.operate-first.cloud/predict\""
   ]
  },
  {
   "cell_type": "code",
   "execution_count": 16,
   "id": "0a9615b8-6e3a-48c8-b967-50971062c4d1",
   "metadata": {},
   "outputs": [
    {
     "data": {
      "text/plain": [
       "<Response [200]>"
      ]
     },
     "execution_count": 16,
     "metadata": {},
     "output_type": "execute_result"
    }
   ],
   "source": [
    "# convert the dataframe into a numpy array and then to a list (required by seldon)\n",
    "data = {\"data\": {\"ndarray\": test_set}}\n",
    "\n",
    "# create the query payload\n",
    "json_data = json.dumps(data)\n",
    "headers = {\"content-Type\": \"application/json\"}\n",
    "\n",
    "# query our inference service\n",
    "response = requests.post(base_url, data=json_data, headers=headers)\n",
    "response"
   ]
  },
  {
   "cell_type": "code",
   "execution_count": 17,
   "id": "62be7b23-63a0-48cb-8e30-53ff7124e93e",
   "metadata": {},
   "outputs": [
    {
     "data": {
      "text/plain": [
       "{'data': {'names': [],\n",
       "  'ndarray': [0,\n",
       "   0,\n",
       "   0,\n",
       "   0,\n",
       "   0,\n",
       "   0,\n",
       "   0,\n",
       "   0,\n",
       "   0,\n",
       "   0,\n",
       "   0,\n",
       "   0,\n",
       "   0,\n",
       "   0,\n",
       "   0,\n",
       "   0,\n",
       "   2,\n",
       "   0,\n",
       "   0,\n",
       "   0,\n",
       "   0,\n",
       "   0,\n",
       "   0,\n",
       "   0,\n",
       "   0]},\n",
       " 'meta': {'requestPath': {'classifier': 'registry.connect.redhat.com/seldonio/sklearnserver@sha256:88d126455b150291cbb3772f67b4f35a88bb54b15ff7c879022f77fb051615ad'}}}"
      ]
     },
     "execution_count": 17,
     "metadata": {},
     "output_type": "execute_result"
    }
   ],
   "source": [
    "response.json()"
   ]
  },
  {
   "cell_type": "markdown",
   "id": "f205fc5c-cfd7-4acf-a7c5-67662e03156f",
   "metadata": {},
   "source": [
    "# Conclusion\n",
    "In this notebook, we saw how to create and save an unsupervised model for clustering build logs. We successfully deployed and tested the model using s3 for storage and a seldon service on Openshift. "
   ]
  }
 ],
 "metadata": {
  "kernelspec": {
   "display_name": "Python 3 (ipykernel)",
   "language": "python",
   "name": "python3"
  },
  "language_info": {
   "codemirror_mode": {
    "name": "ipython",
    "version": 3
   },
   "file_extension": ".py",
   "mimetype": "text/x-python",
   "name": "python",
   "nbconvert_exporter": "python",
   "pygments_lexer": "ipython3",
   "version": "3.8.3"
  }
 },
 "nbformat": 4,
 "nbformat_minor": 5
}