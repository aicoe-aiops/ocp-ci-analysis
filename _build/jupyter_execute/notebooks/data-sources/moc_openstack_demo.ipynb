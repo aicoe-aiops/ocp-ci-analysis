{
 "cells": [
  {
   "cell_type": "markdown",
   "id": "e1c09d56-436f-4d30-a029-fac556124eb0",
   "metadata": {},
   "source": [
    "# MOC OpenStack S3 Demo"
   ]
  },
  {
   "cell_type": "markdown",
   "id": "dc70469e-2690-42a7-946c-e3943ac3cd5a",
   "metadata": {},
   "source": [
    "In this notebook we will give a quick demo on how reading, writing and storing data works in MOC OpenStack.\n",
    "\n",
    "Namely, we will show that you do not need credentials to read data, but you do need credentials to write and upload data."
   ]
  },
  {
   "cell_type": "code",
   "execution_count": 1,
   "id": "5ee2f02c-39d9-4d9f-9ec1-573839798f80",
   "metadata": {},
   "outputs": [],
   "source": [
    "import boto3\n",
    "from dotenv import find_dotenv, load_dotenv\n",
    "import os\n",
    "from botocore import UNSIGNED\n",
    "from botocore.client import Config"
   ]
  },
  {
   "cell_type": "code",
   "execution_count": 2,
   "id": "6fcb2e4c-e235-4965-992c-e87028d6a83a",
   "metadata": {},
   "outputs": [
    {
     "data": {
      "text/plain": [
       "True"
      ]
     },
     "execution_count": 2,
     "metadata": {},
     "output_type": "execute_result"
    }
   ],
   "source": [
    "load_dotenv(find_dotenv())"
   ]
  },
  {
   "cell_type": "code",
   "execution_count": 3,
   "id": "03bb1e0d-16a9-4752-bb0b-e501fa58f8c9",
   "metadata": {},
   "outputs": [],
   "source": [
    "# this url and bucket are public knowledge\n",
    "\n",
    "s3_endpoint_url = os.getenv(\"S3_ENDPOINT\", \"https://kzn-swift.massopen.cloud:443\")\n",
    "s3_bucket = os.getenv(\"S3_BUCKET\", \"ai4ci\")"
   ]
  },
  {
   "cell_type": "code",
   "execution_count": 4,
   "id": "6f06e9fe-db3a-4837-bef7-5a70a59d4683",
   "metadata": {},
   "outputs": [],
   "source": [
    "s3_access_key = os.getenv(\"S3_ACCESS_KEY\")\n",
    "s3_secret_key = os.getenv(\"S3_SECRET_KEY\")"
   ]
  },
  {
   "cell_type": "markdown",
   "id": "cce1ddf6-d12f-45da-b3a4-cb6a8218666c",
   "metadata": {},
   "source": [
    "First we make a little test file."
   ]
  },
  {
   "cell_type": "code",
   "execution_count": 5,
   "id": "4637fbb2-5792-48c1-b7d9-7042ebcef1ea",
   "metadata": {},
   "outputs": [],
   "source": [
    "with open(\"test.txt\", \"w\") as f:\n",
    "    f.write(\"test text (:\")"
   ]
  },
  {
   "cell_type": "code",
   "execution_count": 6,
   "id": "a9f8b2b8-f0ae-4494-9762-c0ff3df83513",
   "metadata": {},
   "outputs": [
    {
     "name": "stdout",
     "output_type": "stream",
     "text": [
      "test text (:"
     ]
    }
   ],
   "source": [
    "! cat test.txt"
   ]
  },
  {
   "cell_type": "markdown",
   "id": "3a90530c-c419-434d-8f36-dfcd0618bcf0",
   "metadata": {},
   "source": [
    "We set up two connections, one with and one without credentials."
   ]
  },
  {
   "cell_type": "code",
   "execution_count": 7,
   "id": "d6261885-3eeb-4a93-8de5-2d2bed519602",
   "metadata": {},
   "outputs": [],
   "source": [
    "# note if using boto3 anonymously you must add this config argument\n",
    "\n",
    "unauth_connection = boto3.client(\n",
    "    \"s3\", endpoint_url=s3_endpoint_url, config=Config(signature_version=UNSIGNED)\n",
    ")"
   ]
  },
  {
   "cell_type": "code",
   "execution_count": 8,
   "id": "83215641-4c55-4881-a5ff-1ae0fa8722b1",
   "metadata": {},
   "outputs": [],
   "source": [
    "auth_connection = boto3.client(\n",
    "    \"s3\",\n",
    "    aws_access_key_id=s3_access_key,\n",
    "    aws_secret_access_key=s3_secret_key,\n",
    "    endpoint_url=s3_endpoint_url,\n",
    ")"
   ]
  },
  {
   "cell_type": "markdown",
   "id": "1c905383-76ea-48ff-90f2-ad3f444e97d2",
   "metadata": {},
   "source": [
    "We try to upload our test file using the unauthenticated connection."
   ]
  },
  {
   "cell_type": "code",
   "execution_count": 9,
   "id": "8220f31c-ec0f-40a5-b75b-be822d353f38",
   "metadata": {},
   "outputs": [
    {
     "name": "stdout",
     "output_type": "stream",
     "text": [
      "Failed to upload test.txt to ai4ci/test.txt: An error occurred (AccessDenied) when calling the PutObject operation: Unknown\n"
     ]
    }
   ],
   "source": [
    "try:\n",
    "    unauth_connection.upload_file(Bucket=s3_bucket, Key=\"test.txt\", Filename=\"test.txt\")\n",
    "    print(\"upload successful\")\n",
    "except Exception as e:\n",
    "    print(e)"
   ]
  },
  {
   "cell_type": "markdown",
   "id": "430be004-13b7-4f7e-9126-e3f3da506fc3",
   "metadata": {},
   "source": [
    "Now we do the same for the authenticated connection"
   ]
  },
  {
   "cell_type": "code",
   "execution_count": 10,
   "id": "218fd609-dd5e-4953-9c66-a2c3fb37f0ff",
   "metadata": {},
   "outputs": [
    {
     "name": "stdout",
     "output_type": "stream",
     "text": [
      "upload successful\n"
     ]
    }
   ],
   "source": [
    "try:\n",
    "    auth_connection.upload_file(Bucket=s3_bucket, Key=\"test.txt\", Filename=\"test.txt\")\n",
    "    print(\"upload successful\")\n",
    "except Exception as e:\n",
    "    print(e)"
   ]
  },
  {
   "cell_type": "markdown",
   "id": "7e39cbf8-566c-4149-8d84-78f6f15999eb",
   "metadata": {},
   "source": [
    "Now that we know the file is uploaded, we try to read it using the unauthenticated connection."
   ]
  },
  {
   "cell_type": "code",
   "execution_count": 11,
   "id": "9d467146-ea29-4220-b951-c166f59de570",
   "metadata": {},
   "outputs": [
    {
     "name": "stdout",
     "output_type": "stream",
     "text": [
      "test text (:\n"
     ]
    }
   ],
   "source": [
    "response = unauth_connection.get_object(Bucket=s3_bucket, Key=\"test.txt\")\n",
    "\n",
    "for i in response[\"Body\"]:\n",
    "    print(i.decode())"
   ]
  },
  {
   "cell_type": "markdown",
   "id": "e6944e27-aefe-4442-9747-4647bfac77fa",
   "metadata": {},
   "source": [
    "Now we read it with the authenticated connection."
   ]
  },
  {
   "cell_type": "code",
   "execution_count": 12,
   "id": "95924548-46c7-4857-969b-9c67260bb127",
   "metadata": {},
   "outputs": [
    {
     "name": "stdout",
     "output_type": "stream",
     "text": [
      "test text (:\n"
     ]
    }
   ],
   "source": [
    "response = auth_connection.get_object(Bucket=s3_bucket, Key=\"test.txt\")\n",
    "\n",
    "for i in response[\"Body\"]:\n",
    "    print(i.decode())"
   ]
  },
  {
   "cell_type": "markdown",
   "id": "e5e5e9b1-629d-4c38-a663-82702beb5f0c",
   "metadata": {},
   "source": [
    "Now we try to delete the file, with the unauthenticated connection and then with the authenticated connection."
   ]
  },
  {
   "cell_type": "code",
   "execution_count": 13,
   "id": "47037cad-07cd-4ca2-be22-032f1a3c68cc",
   "metadata": {},
   "outputs": [
    {
     "name": "stdout",
     "output_type": "stream",
     "text": [
      "An error occurred (AccessDenied) when calling the DeleteObject operation: Unknown\n",
      "unauth delete unsuccessful\n",
      "\n",
      "auth delete successful\n"
     ]
    }
   ],
   "source": [
    "try:\n",
    "    unauth_connection.delete_object(Bucket=s3_bucket, Key=\"test.txt\")\n",
    "    print(\"unauth delete successful\")\n",
    "except Exception as e:\n",
    "    print(e)\n",
    "    print(\"unauth delete unsuccessful\")\n",
    "\n",
    "print(\"\")\n",
    "\n",
    "try:\n",
    "    auth_connection.delete_object(Bucket=s3_bucket, Key=\"test.txt\")\n",
    "    print(\"auth delete successful\")\n",
    "except Exception as e:\n",
    "    print(e)\n",
    "    print(\"auth delete unsuccessful\")"
   ]
  },
  {
   "cell_type": "code",
   "execution_count": 14,
   "id": "b960579a-0df3-43a3-8c5f-17310a408fc8",
   "metadata": {},
   "outputs": [
    {
     "name": "stdout",
     "output_type": "stream",
     "text": [
      "An error occurred (NoSuchKey) when calling the GetObject operation: Unknown\n"
     ]
    }
   ],
   "source": [
    "# check that it is indeed deleted\n",
    "try:\n",
    "    response = auth_connection.get_object(Bucket=s3_bucket, Key=\"test.txt\")\n",
    "except Exception as e:\n",
    "    print(e)"
   ]
  },
  {
   "cell_type": "code",
   "execution_count": 15,
   "id": "1c3d0c15-cbf4-48e7-b749-585b19a7437a",
   "metadata": {},
   "outputs": [],
   "source": [
    "os.remove(\"test.txt\")"
   ]
  }
 ],
 "metadata": {
  "kernelspec": {
   "display_name": "Python 3",
   "language": "python",
   "name": "python3"
  },
  "language_info": {
   "codemirror_mode": {
    "name": "ipython",
    "version": 3
   },
   "file_extension": ".py",
   "mimetype": "text/x-python",
   "name": "python",
   "nbconvert_exporter": "python",
   "pygments_lexer": "ipython3",
   "version": "3.8.3"
  }
 },
 "nbformat": 4,
 "nbformat_minor": 5
}