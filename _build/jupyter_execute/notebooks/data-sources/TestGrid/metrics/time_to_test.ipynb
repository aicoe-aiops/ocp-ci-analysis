{
 "cells": [
  {
   "cell_type": "markdown",
   "id": "de328e4b",
   "metadata": {
    "ExecuteTime": {
     "end_time": "2021-03-12T15:35:37.863850Z",
     "start_time": "2021-03-12T15:35:37.498594Z"
    }
   },
   "source": [
    "# Quantify Time to Test\n",
    "\n",
    "In this notebook, the Key Performance Indicator that we capture is `the time to test` for the test Overall or `the total runtime` for builds as it would help filter and observe builds with longer than expected runtimes.\n",
    "\n",
    "By measuring this metric, we can observe the trend of build runtimes and check if the execution time of the builds exceed the specified values. If the execution of the test suite takes a long time, we may wish to optimize our test code or track down tests that are taking too long. This metric can also be used to draw a correlation to the tests turning out to be flaky.\n",
    "\n",
    "In this notebook, we capture:\n",
    "* Time taken to run builds over time"
   ]
  },
  {
   "cell_type": "markdown",
   "id": "22ca1e05",
   "metadata": {},
   "source": [
    "_Linked issues: [issue1](https://github.com/aicoe-aiops/ocp-ci-analysis/issues/117)_"
   ]
  },
  {
   "cell_type": "code",
   "execution_count": 1,
   "id": "a526f830",
   "metadata": {
    "ExecuteTime": {
     "end_time": "2021-03-25T20:19:12.433862Z",
     "start_time": "2021-03-25T20:19:12.428062Z"
    }
   },
   "outputs": [
    {
     "data": {
      "text/plain": [
       "True"
      ]
     },
     "execution_count": 1,
     "metadata": {},
     "output_type": "execute_result"
    }
   ],
   "source": [
    "import os\n",
    "import json\n",
    "import datetime\n",
    "import gzip\n",
    "import pandas as pd\n",
    "import matplotlib.pyplot as plt\n",
    "import seaborn as sns\n",
    "\n",
    "from ipynb.fs.defs.metric_template import testgrid_labelwise_encoding\n",
    "from ipynb.fs.defs.metric_template import CephCommunication\n",
    "from ipynb.fs.defs.metric_template import save_to_disk, read_from_disk\n",
    "from dotenv import load_dotenv, find_dotenv\n",
    "\n",
    "load_dotenv(find_dotenv())"
   ]
  },
  {
   "cell_type": "markdown",
   "id": "e2a22570",
   "metadata": {},
   "source": [
    "For extracting this metric, we will dig into the time series data in the detailed test grids. In this notebook, we use the `Overall` tests as our proxy for builds."
   ]
  },
  {
   "cell_type": "markdown",
   "id": "d1a2ee83",
   "metadata": {},
   "source": [
    "There are inbuilt Graphs within TestGrid for each Test in the job, which capture the time taken for running each test."
   ]
  },
  {
   "cell_type": "markdown",
   "id": "511b6d7f",
   "metadata": {},
   "source": [
    "As a part of our data download and extraction process we are capturing time taken not for all tests but the test `Overall` which can be used as a proxy for a Build since time durations are not consistently captured for all tests. Thus in this notebook, we capture time elapsed for each Build."
   ]
  },
  {
   "cell_type": "code",
   "execution_count": 2,
   "id": "8bf05736",
   "metadata": {},
   "outputs": [],
   "source": [
    "## Specify variables\n",
    "\n",
    "METRIC_NAME = \"time_to_test\"\n",
    "\n",
    "# Specify the path for input grid data,\n",
    "INPUT_DATA_PATH = \"../../../../data/raw/testgrid_183.json.gz\"\n",
    "\n",
    "# Specify the path for output metric data\n",
    "OUTPUT_DATA_PATH = f\"../../../../data/processed/metrics/{METRIC_NAME}\"\n",
    "\n",
    "## CEPH Bucket variables\n",
    "## Create a .env file on your local with the correct configs,\n",
    "s3_endpoint_url = os.getenv(\"S3_ENDPOINT\")\n",
    "s3_access_key = os.getenv(\"S3_ACCESS_KEY\")\n",
    "s3_secret_key = os.getenv(\"S3_SECRET_KEY\")\n",
    "s3_bucket = os.getenv(\"S3_BUCKET\")\n",
    "s3_path = os.getenv(\"S3_PROJECT_KEY\", \"ai4ci/testgrid/metrics\")\n",
    "s3_input_data_path = \"raw_data\"\n",
    "AUTOMATION = os.getenv(\"IN_AUTOMATION\")"
   ]
  },
  {
   "cell_type": "code",
   "execution_count": 3,
   "id": "277eb9ac",
   "metadata": {},
   "outputs": [],
   "source": [
    "## Import data\n",
    "timestamp = datetime.datetime.today()\n",
    "\n",
    "if AUTOMATION:\n",
    "    filename = f\"testgrid_{timestamp.day}{timestamp.month}.json\"\n",
    "    cc = CephCommunication(s3_endpoint_url, s3_access_key, s3_secret_key, s3_bucket)\n",
    "    s3_object = cc.s3_resource.Object(s3_bucket, f\"{s3_input_data_path}/{filename}\")\n",
    "    file_content = s3_object.get()[\"Body\"].read().decode(\"utf-8\")\n",
    "    testgrid_data = json.loads(file_content)\n",
    "\n",
    "else:\n",
    "    with gzip.open(INPUT_DATA_PATH, \"rb\") as read_file:\n",
    "        testgrid_data = json.load(read_file)"
   ]
  },
  {
   "cell_type": "markdown",
   "id": "64d6a952",
   "metadata": {},
   "source": [
    "## Metric Calculation\n",
    "We find runtimes for each Test or Build"
   ]
  },
  {
   "cell_type": "code",
   "execution_count": 4,
   "id": "b501e24c",
   "metadata": {
    "ExecuteTime": {
     "end_time": "2021-03-25T20:00:08.197830Z",
     "start_time": "2021-03-25T19:59:39.206083Z"
    }
   },
   "outputs": [],
   "source": [
    "# We pass status code as None since we are not filtering by Status here\n",
    "testgrid_list = testgrid_labelwise_encoding(testgrid_data, None, False)"
   ]
  },
  {
   "cell_type": "code",
   "execution_count": 5,
   "id": "31e7ab8a",
   "metadata": {},
   "outputs": [
    {
     "data": {
      "text/plain": [
       "34000772"
      ]
     },
     "execution_count": 5,
     "metadata": {},
     "output_type": "execute_result"
    }
   ],
   "source": [
    "len(testgrid_list)"
   ]
  },
  {
   "cell_type": "code",
   "execution_count": 6,
   "id": "ddf081e0",
   "metadata": {},
   "outputs": [
    {
     "data": {
      "text/plain": [
       "(datetime.datetime(2021, 8, 16, 23, 3, 14),\n",
       " '\"redhat-assisted-installer\"',\n",
       " 'periodic-ci-openshift-release-master-nightly-4.6-e2e-metal-assisted',\n",
       " 'Overall',\n",
       " 20.016666666666666)"
      ]
     },
     "execution_count": 6,
     "metadata": {},
     "output_type": "execute_result"
    }
   ],
   "source": [
    "testgrid_list[0]"
   ]
  },
  {
   "cell_type": "code",
   "execution_count": 7,
   "id": "792bc0b9",
   "metadata": {
    "ExecuteTime": {
     "end_time": "2021-03-25T20:00:20.628684Z",
     "start_time": "2021-03-25T20:00:08.200578Z"
    }
   },
   "outputs": [
    {
     "data": {
      "text/html": [
       "<div>\n",
       "<style scoped>\n",
       "    .dataframe tbody tr th:only-of-type {\n",
       "        vertical-align: middle;\n",
       "    }\n",
       "\n",
       "    .dataframe tbody tr th {\n",
       "        vertical-align: top;\n",
       "    }\n",
       "\n",
       "    .dataframe thead th {\n",
       "        text-align: right;\n",
       "    }\n",
       "</style>\n",
       "<table border=\"1\" class=\"dataframe\">\n",
       "  <thead>\n",
       "    <tr style=\"text-align: right;\">\n",
       "      <th></th>\n",
       "      <th>timestamp</th>\n",
       "      <th>tab</th>\n",
       "      <th>grid</th>\n",
       "      <th>test</th>\n",
       "      <th>test_duration</th>\n",
       "    </tr>\n",
       "  </thead>\n",
       "  <tbody>\n",
       "    <tr>\n",
       "      <th>0</th>\n",
       "      <td>2021-08-16 23:03:14</td>\n",
       "      <td>\"redhat-assisted-installer\"</td>\n",
       "      <td>periodic-ci-openshift-release-master-nightly-4...</td>\n",
       "      <td>Overall</td>\n",
       "      <td>20.016667</td>\n",
       "    </tr>\n",
       "    <tr>\n",
       "      <th>1</th>\n",
       "      <td>2021-08-16 01:00:30</td>\n",
       "      <td>\"redhat-assisted-installer\"</td>\n",
       "      <td>periodic-ci-openshift-release-master-nightly-4...</td>\n",
       "      <td>Overall</td>\n",
       "      <td>77.500000</td>\n",
       "    </tr>\n",
       "    <tr>\n",
       "      <th>2</th>\n",
       "      <td>2021-08-16 00:01:05</td>\n",
       "      <td>\"redhat-assisted-installer\"</td>\n",
       "      <td>periodic-ci-openshift-release-master-nightly-4...</td>\n",
       "      <td>Overall</td>\n",
       "      <td>108.233333</td>\n",
       "    </tr>\n",
       "    <tr>\n",
       "      <th>3</th>\n",
       "      <td>2021-08-14 01:11:53</td>\n",
       "      <td>\"redhat-assisted-installer\"</td>\n",
       "      <td>periodic-ci-openshift-release-master-nightly-4...</td>\n",
       "      <td>Overall</td>\n",
       "      <td>118.166667</td>\n",
       "    </tr>\n",
       "    <tr>\n",
       "      <th>4</th>\n",
       "      <td>2021-08-11 23:19:08</td>\n",
       "      <td>\"redhat-assisted-installer\"</td>\n",
       "      <td>periodic-ci-openshift-release-master-nightly-4...</td>\n",
       "      <td>Overall</td>\n",
       "      <td>96.750000</td>\n",
       "    </tr>\n",
       "  </tbody>\n",
       "</table>\n",
       "</div>"
      ],
      "text/plain": [
       "            timestamp                          tab  \\\n",
       "0 2021-08-16 23:03:14  \"redhat-assisted-installer\"   \n",
       "1 2021-08-16 01:00:30  \"redhat-assisted-installer\"   \n",
       "2 2021-08-16 00:01:05  \"redhat-assisted-installer\"   \n",
       "3 2021-08-14 01:11:53  \"redhat-assisted-installer\"   \n",
       "4 2021-08-11 23:19:08  \"redhat-assisted-installer\"   \n",
       "\n",
       "                                                grid     test  test_duration  \n",
       "0  periodic-ci-openshift-release-master-nightly-4...  Overall      20.016667  \n",
       "1  periodic-ci-openshift-release-master-nightly-4...  Overall      77.500000  \n",
       "2  periodic-ci-openshift-release-master-nightly-4...  Overall     108.233333  \n",
       "3  periodic-ci-openshift-release-master-nightly-4...  Overall     118.166667  \n",
       "4  periodic-ci-openshift-release-master-nightly-4...  Overall      96.750000  "
      ]
     },
     "execution_count": 7,
     "metadata": {},
     "output_type": "execute_result"
    }
   ],
   "source": [
    "# Convert to dataframe\n",
    "testgrid_df = pd.DataFrame(\n",
    "    testgrid_list, columns=[\"timestamp\", \"tab\", \"grid\", \"test\", \"test_duration\"]\n",
    ")\n",
    "testgrid_df.head()"
   ]
  },
  {
   "cell_type": "code",
   "execution_count": 8,
   "id": "25be3d3f",
   "metadata": {
    "ExecuteTime": {
     "end_time": "2021-03-25T20:00:25.775781Z",
     "start_time": "2021-03-25T20:00:25.766264Z"
    }
   },
   "outputs": [],
   "source": [
    "testgrid_df = testgrid_df.loc[testgrid_df.test_duration.notnull()]"
   ]
  },
  {
   "cell_type": "code",
   "execution_count": 9,
   "id": "4cb92ae4",
   "metadata": {
    "ExecuteTime": {
     "end_time": "2021-03-25T20:00:28.420797Z",
     "start_time": "2021-03-25T20:00:28.408107Z"
    }
   },
   "outputs": [
    {
     "data": {
      "text/html": [
       "<div>\n",
       "<style scoped>\n",
       "    .dataframe tbody tr th:only-of-type {\n",
       "        vertical-align: middle;\n",
       "    }\n",
       "\n",
       "    .dataframe tbody tr th {\n",
       "        vertical-align: top;\n",
       "    }\n",
       "\n",
       "    .dataframe thead th {\n",
       "        text-align: right;\n",
       "    }\n",
       "</style>\n",
       "<table border=\"1\" class=\"dataframe\">\n",
       "  <thead>\n",
       "    <tr style=\"text-align: right;\">\n",
       "      <th></th>\n",
       "      <th>timestamp</th>\n",
       "      <th>tab</th>\n",
       "      <th>grid</th>\n",
       "      <th>test</th>\n",
       "      <th>test_duration</th>\n",
       "    </tr>\n",
       "  </thead>\n",
       "  <tbody>\n",
       "    <tr>\n",
       "      <th>0</th>\n",
       "      <td>2021-08-16 23:03:14</td>\n",
       "      <td>\"redhat-assisted-installer\"</td>\n",
       "      <td>periodic-ci-openshift-release-master-nightly-4...</td>\n",
       "      <td>Overall</td>\n",
       "      <td>20.016667</td>\n",
       "    </tr>\n",
       "    <tr>\n",
       "      <th>1</th>\n",
       "      <td>2021-08-16 01:00:30</td>\n",
       "      <td>\"redhat-assisted-installer\"</td>\n",
       "      <td>periodic-ci-openshift-release-master-nightly-4...</td>\n",
       "      <td>Overall</td>\n",
       "      <td>77.500000</td>\n",
       "    </tr>\n",
       "    <tr>\n",
       "      <th>2</th>\n",
       "      <td>2021-08-16 00:01:05</td>\n",
       "      <td>\"redhat-assisted-installer\"</td>\n",
       "      <td>periodic-ci-openshift-release-master-nightly-4...</td>\n",
       "      <td>Overall</td>\n",
       "      <td>108.233333</td>\n",
       "    </tr>\n",
       "    <tr>\n",
       "      <th>3</th>\n",
       "      <td>2021-08-14 01:11:53</td>\n",
       "      <td>\"redhat-assisted-installer\"</td>\n",
       "      <td>periodic-ci-openshift-release-master-nightly-4...</td>\n",
       "      <td>Overall</td>\n",
       "      <td>118.166667</td>\n",
       "    </tr>\n",
       "    <tr>\n",
       "      <th>4</th>\n",
       "      <td>2021-08-11 23:19:08</td>\n",
       "      <td>\"redhat-assisted-installer\"</td>\n",
       "      <td>periodic-ci-openshift-release-master-nightly-4...</td>\n",
       "      <td>Overall</td>\n",
       "      <td>96.750000</td>\n",
       "    </tr>\n",
       "  </tbody>\n",
       "</table>\n",
       "</div>"
      ],
      "text/plain": [
       "            timestamp                          tab  \\\n",
       "0 2021-08-16 23:03:14  \"redhat-assisted-installer\"   \n",
       "1 2021-08-16 01:00:30  \"redhat-assisted-installer\"   \n",
       "2 2021-08-16 00:01:05  \"redhat-assisted-installer\"   \n",
       "3 2021-08-14 01:11:53  \"redhat-assisted-installer\"   \n",
       "4 2021-08-11 23:19:08  \"redhat-assisted-installer\"   \n",
       "\n",
       "                                                grid     test  test_duration  \n",
       "0  periodic-ci-openshift-release-master-nightly-4...  Overall      20.016667  \n",
       "1  periodic-ci-openshift-release-master-nightly-4...  Overall      77.500000  \n",
       "2  periodic-ci-openshift-release-master-nightly-4...  Overall     108.233333  \n",
       "3  periodic-ci-openshift-release-master-nightly-4...  Overall     118.166667  \n",
       "4  periodic-ci-openshift-release-master-nightly-4...  Overall      96.750000  "
      ]
     },
     "execution_count": 9,
     "metadata": {},
     "output_type": "execute_result"
    }
   ],
   "source": [
    "testgrid_df.head()"
   ]
  },
  {
   "cell_type": "code",
   "execution_count": 10,
   "id": "e835eb13",
   "metadata": {},
   "outputs": [
    {
     "data": {
      "text/plain": [
       "19054666"
      ]
     },
     "execution_count": 10,
     "metadata": {},
     "output_type": "execute_result"
    }
   ],
   "source": [
    "len(testgrid_df)"
   ]
  },
  {
   "cell_type": "markdown",
   "id": "a825b8ee",
   "metadata": {},
   "source": [
    "## Metric Calculation\n",
    "We want to calcluate the average time duration for the job/build"
   ]
  },
  {
   "cell_type": "code",
   "execution_count": 11,
   "id": "d9e78cb6",
   "metadata": {
    "ExecuteTime": {
     "end_time": "2021-03-25T20:00:47.026572Z",
     "start_time": "2021-03-25T20:00:46.991913Z"
    }
   },
   "outputs": [],
   "source": [
    "average_time = (\n",
    "    testgrid_df.groupby([\"tab\", \"grid\", \"test\"])[\"test_duration\"].mean().reset_index()\n",
    ")"
   ]
  },
  {
   "cell_type": "code",
   "execution_count": 12,
   "id": "801a05da",
   "metadata": {},
   "outputs": [
    {
     "data": {
      "text/html": [
       "<div>\n",
       "<style scoped>\n",
       "    .dataframe tbody tr th:only-of-type {\n",
       "        vertical-align: middle;\n",
       "    }\n",
       "\n",
       "    .dataframe tbody tr th {\n",
       "        vertical-align: top;\n",
       "    }\n",
       "\n",
       "    .dataframe thead th {\n",
       "        text-align: right;\n",
       "    }\n",
       "</style>\n",
       "<table border=\"1\" class=\"dataframe\">\n",
       "  <thead>\n",
       "    <tr style=\"text-align: right;\">\n",
       "      <th></th>\n",
       "      <th>tab</th>\n",
       "      <th>grid</th>\n",
       "      <th>test</th>\n",
       "      <th>test_duration</th>\n",
       "    </tr>\n",
       "  </thead>\n",
       "  <tbody>\n",
       "    <tr>\n",
       "      <th>0</th>\n",
       "      <td>\"redhat-assisted-installer\"</td>\n",
       "      <td>periodic-ci-openshift-release-master-nightly-4...</td>\n",
       "      <td>Overall</td>\n",
       "      <td>98.698889</td>\n",
       "    </tr>\n",
       "    <tr>\n",
       "      <th>1</th>\n",
       "      <td>\"redhat-assisted-installer\"</td>\n",
       "      <td>periodic-ci-openshift-release-master-nightly-4...</td>\n",
       "      <td>TestInstall_test_install.cluster</td>\n",
       "      <td>0.000340</td>\n",
       "    </tr>\n",
       "    <tr>\n",
       "      <th>2</th>\n",
       "      <td>\"redhat-assisted-installer\"</td>\n",
       "      <td>periodic-ci-openshift-release-master-nightly-4...</td>\n",
       "      <td>TestInstall_test_install.cluster[openshift_ver...</td>\n",
       "      <td>0.000774</td>\n",
       "    </tr>\n",
       "    <tr>\n",
       "      <th>3</th>\n",
       "      <td>\"redhat-assisted-installer\"</td>\n",
       "      <td>periodic-ci-openshift-release-master-nightly-4...</td>\n",
       "      <td>TestInstall_test_install.generate_and_download...</td>\n",
       "      <td>0.333156</td>\n",
       "    </tr>\n",
       "    <tr>\n",
       "      <th>4</th>\n",
       "      <td>\"redhat-assisted-installer\"</td>\n",
       "      <td>periodic-ci-openshift-release-master-nightly-4...</td>\n",
       "      <td>TestInstall_test_install.generate_and_download...</td>\n",
       "      <td>0.332048</td>\n",
       "    </tr>\n",
       "  </tbody>\n",
       "</table>\n",
       "</div>"
      ],
      "text/plain": [
       "                           tab  \\\n",
       "0  \"redhat-assisted-installer\"   \n",
       "1  \"redhat-assisted-installer\"   \n",
       "2  \"redhat-assisted-installer\"   \n",
       "3  \"redhat-assisted-installer\"   \n",
       "4  \"redhat-assisted-installer\"   \n",
       "\n",
       "                                                grid  \\\n",
       "0  periodic-ci-openshift-release-master-nightly-4...   \n",
       "1  periodic-ci-openshift-release-master-nightly-4...   \n",
       "2  periodic-ci-openshift-release-master-nightly-4...   \n",
       "3  periodic-ci-openshift-release-master-nightly-4...   \n",
       "4  periodic-ci-openshift-release-master-nightly-4...   \n",
       "\n",
       "                                                test  test_duration  \n",
       "0                                            Overall      98.698889  \n",
       "1                   TestInstall_test_install.cluster       0.000340  \n",
       "2  TestInstall_test_install.cluster[openshift_ver...       0.000774  \n",
       "3  TestInstall_test_install.generate_and_download...       0.333156  \n",
       "4  TestInstall_test_install.generate_and_download...       0.332048  "
      ]
     },
     "execution_count": 12,
     "metadata": {},
     "output_type": "execute_result"
    }
   ],
   "source": [
    "average_time.head()"
   ]
  },
  {
   "cell_type": "markdown",
   "id": "cb5f6f21",
   "metadata": {},
   "source": [
    "## Visualization\n",
    "Plot of time elapsed for Builds over time."
   ]
  },
  {
   "cell_type": "code",
   "execution_count": 13,
   "id": "d36ab787",
   "metadata": {
    "ExecuteTime": {
     "end_time": "2021-03-25T20:01:57.643822Z",
     "start_time": "2021-03-25T20:01:57.196237Z"
    }
   },
   "outputs": [],
   "source": [
    "df = (\n",
    "    testgrid_df.groupby([\"tab\", \"grid\", \"test\"])\n",
    "    .apply(lambda x: [list(x[\"test_duration\"]), list(x[\"timestamp\"])])\n",
    "    .apply(pd.Series)\n",
    "    .reset_index()\n",
    ")\n",
    "df.columns = [\"tab\", \"grid\", \"test\", \"test_duration\", \"timestamp\"]"
   ]
  },
  {
   "cell_type": "code",
   "execution_count": 14,
   "id": "04cd6180",
   "metadata": {
    "ExecuteTime": {
     "end_time": "2021-03-25T20:02:43.411154Z",
     "start_time": "2021-03-25T20:02:43.382193Z"
    }
   },
   "outputs": [
    {
     "data": {
      "text/html": [
       "<div>\n",
       "<style scoped>\n",
       "    .dataframe tbody tr th:only-of-type {\n",
       "        vertical-align: middle;\n",
       "    }\n",
       "\n",
       "    .dataframe tbody tr th {\n",
       "        vertical-align: top;\n",
       "    }\n",
       "\n",
       "    .dataframe thead th {\n",
       "        text-align: right;\n",
       "    }\n",
       "</style>\n",
       "<table border=\"1\" class=\"dataframe\">\n",
       "  <thead>\n",
       "    <tr style=\"text-align: right;\">\n",
       "      <th></th>\n",
       "      <th>tab</th>\n",
       "      <th>grid</th>\n",
       "      <th>test</th>\n",
       "      <th>test_duration</th>\n",
       "      <th>timestamp</th>\n",
       "    </tr>\n",
       "  </thead>\n",
       "  <tbody>\n",
       "    <tr>\n",
       "      <th>0</th>\n",
       "      <td>\"redhat-assisted-installer\"</td>\n",
       "      <td>periodic-ci-openshift-release-master-nightly-4...</td>\n",
       "      <td>Overall</td>\n",
       "      <td>[20.016666666666666, 77.5, 108.23333333333333,...</td>\n",
       "      <td>[2021-08-16 23:03:14, 2021-08-16 01:00:30, 202...</td>\n",
       "    </tr>\n",
       "    <tr>\n",
       "      <th>1</th>\n",
       "      <td>\"redhat-assisted-installer\"</td>\n",
       "      <td>periodic-ci-openshift-release-master-nightly-4...</td>\n",
       "      <td>TestInstall_test_install.cluster</td>\n",
       "      <td>[0.00035538333333333334, 0.0003228833333333333...</td>\n",
       "      <td>[2021-08-09 09:37:34, 2021-08-09 08:51:10, 202...</td>\n",
       "    </tr>\n",
       "    <tr>\n",
       "      <th>2</th>\n",
       "      <td>\"redhat-assisted-installer\"</td>\n",
       "      <td>periodic-ci-openshift-release-master-nightly-4...</td>\n",
       "      <td>TestInstall_test_install.cluster[openshift_ver...</td>\n",
       "      <td>[0.0006529666666666666, 0.00065455, 0.0006794,...</td>\n",
       "      <td>[2021-08-16 01:00:30, 2021-08-16 00:01:05, 202...</td>\n",
       "    </tr>\n",
       "    <tr>\n",
       "      <th>3</th>\n",
       "      <td>\"redhat-assisted-installer\"</td>\n",
       "      <td>periodic-ci-openshift-release-master-nightly-4...</td>\n",
       "      <td>TestInstall_test_install.generate_and_download...</td>\n",
       "      <td>[0.29335791666666666, 0.30938418333333334, 0.2...</td>\n",
       "      <td>[2021-08-09 09:37:34, 2021-08-09 08:51:10, 202...</td>\n",
       "    </tr>\n",
       "    <tr>\n",
       "      <th>4</th>\n",
       "      <td>\"redhat-assisted-installer\"</td>\n",
       "      <td>periodic-ci-openshift-release-master-nightly-4...</td>\n",
       "      <td>TestInstall_test_install.generate_and_download...</td>\n",
       "      <td>[0.28357965, 0.2936913, 0.34528433333333336, 0...</td>\n",
       "      <td>[2021-08-16 01:00:30, 2021-08-16 00:01:05, 202...</td>\n",
       "    </tr>\n",
       "  </tbody>\n",
       "</table>\n",
       "</div>"
      ],
      "text/plain": [
       "                           tab  \\\n",
       "0  \"redhat-assisted-installer\"   \n",
       "1  \"redhat-assisted-installer\"   \n",
       "2  \"redhat-assisted-installer\"   \n",
       "3  \"redhat-assisted-installer\"   \n",
       "4  \"redhat-assisted-installer\"   \n",
       "\n",
       "                                                grid  \\\n",
       "0  periodic-ci-openshift-release-master-nightly-4...   \n",
       "1  periodic-ci-openshift-release-master-nightly-4...   \n",
       "2  periodic-ci-openshift-release-master-nightly-4...   \n",
       "3  periodic-ci-openshift-release-master-nightly-4...   \n",
       "4  periodic-ci-openshift-release-master-nightly-4...   \n",
       "\n",
       "                                                test  \\\n",
       "0                                            Overall   \n",
       "1                   TestInstall_test_install.cluster   \n",
       "2  TestInstall_test_install.cluster[openshift_ver...   \n",
       "3  TestInstall_test_install.generate_and_download...   \n",
       "4  TestInstall_test_install.generate_and_download...   \n",
       "\n",
       "                                       test_duration  \\\n",
       "0  [20.016666666666666, 77.5, 108.23333333333333,...   \n",
       "1  [0.00035538333333333334, 0.0003228833333333333...   \n",
       "2  [0.0006529666666666666, 0.00065455, 0.0006794,...   \n",
       "3  [0.29335791666666666, 0.30938418333333334, 0.2...   \n",
       "4  [0.28357965, 0.2936913, 0.34528433333333336, 0...   \n",
       "\n",
       "                                           timestamp  \n",
       "0  [2021-08-16 23:03:14, 2021-08-16 01:00:30, 202...  \n",
       "1  [2021-08-09 09:37:34, 2021-08-09 08:51:10, 202...  \n",
       "2  [2021-08-16 01:00:30, 2021-08-16 00:01:05, 202...  \n",
       "3  [2021-08-09 09:37:34, 2021-08-09 08:51:10, 202...  \n",
       "4  [2021-08-16 01:00:30, 2021-08-16 00:01:05, 202...  "
      ]
     },
     "execution_count": 14,
     "metadata": {},
     "output_type": "execute_result"
    }
   ],
   "source": [
    "df.head()"
   ]
  },
  {
   "cell_type": "code",
   "execution_count": 15,
   "id": "58893779",
   "metadata": {
    "ExecuteTime": {
     "end_time": "2021-03-25T20:14:14.543059Z",
     "start_time": "2021-03-25T20:14:14.531970Z"
    }
   },
   "outputs": [],
   "source": [
    "def plot_build_graph(tab, grid, dataframe):\n",
    "\n",
    "    test_duration = dataframe.loc[\n",
    "        (df[\"tab\"] == tab) & (dataframe[\"grid\"] == grid), \"test_duration\"\n",
    "    ].iloc[0]\n",
    "    timestamp = dataframe.loc[\n",
    "        (df[\"tab\"] == tab) & (dataframe[\"grid\"] == grid), \"timestamp\"\n",
    "    ].iloc[0]\n",
    "\n",
    "    time_taken_df = pd.DataFrame(\n",
    "        {\"timestamp\": timestamp, \"time_duration\": test_duration}\n",
    "    )\n",
    "\n",
    "    sns.set(rc={\"figure.figsize\": (17, 10)})\n",
    "    sns.lineplot(x=\"timestamp\", y=\"time_duration\", data=time_taken_df)\n",
    "    plt.xlabel(\"Timestamps\")\n",
    "    plt.ylabel(\"Time Taken to Run Job or Build (mins)\")\n",
    "    plt.title(\"Job/Build Duration over time \")\n",
    "    plt.show()"
   ]
  },
  {
   "cell_type": "code",
   "execution_count": 16,
   "id": "e8a363c7",
   "metadata": {
    "ExecuteTime": {
     "end_time": "2021-03-25T20:15:16.721388Z",
     "start_time": "2021-03-25T20:15:15.496121Z"
    }
   },
   "outputs": [
    {
     "data": {
      "image/png": "[encoded data removed]",
      "text/plain": [
       "<Figure size 1224x720 with 1 Axes>"
      ]
     },
     "metadata": {
      "filenames": {
       "image/png": "/opt/app-root/src/jb/ocp-ci-analysis/_build/jupyter_execute/notebooks/data-sources/TestGrid/metrics/time_to_test_23_0.png"
      }
     },
     "output_type": "display_data"
    }
   ],
   "source": [
    "plot_build_graph(\n",
    "    '\"redhat-assisted-installer\"',\n",
    "    \"periodic-ci-openshift-release-master-nightly-4.7-e2e-metal-assisted\",\n",
    "    df,\n",
    ")"
   ]
  },
  {
   "cell_type": "markdown",
   "id": "1d514c38",
   "metadata": {},
   "source": [
    "In the above graph, we see how the time taken to run a build changes over time and we notice when there are spikes or when irregular builds occur."
   ]
  },
  {
   "cell_type": "markdown",
   "id": "0f9d8366",
   "metadata": {},
   "source": [
    "## Save to Ceph or local"
   ]
  },
  {
   "cell_type": "code",
   "execution_count": 17,
   "id": "cfa6124a",
   "metadata": {},
   "outputs": [],
   "source": [
    "timestamp = datetime.datetime.now()\n",
    "\n",
    "if AUTOMATION:\n",
    "    cc = CephCommunication(s3_endpoint_url, s3_access_key, s3_secret_key, s3_bucket)\n",
    "    cc.upload_to_ceph(\n",
    "        average_time,\n",
    "        s3_path,\n",
    "        f\"{METRIC_NAME}/{METRIC_NAME}-{timestamp.year}-{timestamp.month}-{timestamp.day}.parquet\",\n",
    "    )\n",
    "else:\n",
    "    save_to_disk(\n",
    "        average_time,\n",
    "        OUTPUT_DATA_PATH,\n",
    "        f\"{METRIC_NAME}-{timestamp.year}-{timestamp.month}-{timestamp.day}.parquet\",\n",
    "    )"
   ]
  },
  {
   "cell_type": "code",
   "execution_count": 18,
   "id": "314b8d1a",
   "metadata": {},
   "outputs": [
    {
     "data": {
      "text/html": [
       "<div>\n",
       "<style scoped>\n",
       "    .dataframe tbody tr th:only-of-type {\n",
       "        vertical-align: middle;\n",
       "    }\n",
       "\n",
       "    .dataframe tbody tr th {\n",
       "        vertical-align: top;\n",
       "    }\n",
       "\n",
       "    .dataframe thead th {\n",
       "        text-align: right;\n",
       "    }\n",
       "</style>\n",
       "<table border=\"1\" class=\"dataframe\">\n",
       "  <thead>\n",
       "    <tr style=\"text-align: right;\">\n",
       "      <th></th>\n",
       "      <th>tab</th>\n",
       "      <th>grid</th>\n",
       "      <th>test</th>\n",
       "      <th>test_duration</th>\n",
       "    </tr>\n",
       "  </thead>\n",
       "  <tbody>\n",
       "    <tr>\n",
       "      <th>0</th>\n",
       "      <td>\"redhat-assisted-installer\"</td>\n",
       "      <td>periodic-ci-openshift-release-master-nightly-4...</td>\n",
       "      <td>Overall</td>\n",
       "      <td>98.698889</td>\n",
       "    </tr>\n",
       "    <tr>\n",
       "      <th>1</th>\n",
       "      <td>\"redhat-assisted-installer\"</td>\n",
       "      <td>periodic-ci-openshift-release-master-nightly-4...</td>\n",
       "      <td>TestInstall_test_install.cluster</td>\n",
       "      <td>0.000340</td>\n",
       "    </tr>\n",
       "    <tr>\n",
       "      <th>2</th>\n",
       "      <td>\"redhat-assisted-installer\"</td>\n",
       "      <td>periodic-ci-openshift-release-master-nightly-4...</td>\n",
       "      <td>TestInstall_test_install.cluster[openshift_ver...</td>\n",
       "      <td>0.000774</td>\n",
       "    </tr>\n",
       "    <tr>\n",
       "      <th>3</th>\n",
       "      <td>\"redhat-assisted-installer\"</td>\n",
       "      <td>periodic-ci-openshift-release-master-nightly-4...</td>\n",
       "      <td>TestInstall_test_install.generate_and_download...</td>\n",
       "      <td>0.333156</td>\n",
       "    </tr>\n",
       "    <tr>\n",
       "      <th>4</th>\n",
       "      <td>\"redhat-assisted-installer\"</td>\n",
       "      <td>periodic-ci-openshift-release-master-nightly-4...</td>\n",
       "      <td>TestInstall_test_install.generate_and_download...</td>\n",
       "      <td>0.332048</td>\n",
       "    </tr>\n",
       "    <tr>\n",
       "      <th>...</th>\n",
       "      <td>...</td>\n",
       "      <td>...</td>\n",
       "      <td>...</td>\n",
       "      <td>...</td>\n",
       "    </tr>\n",
       "    <tr>\n",
       "      <th>371522</th>\n",
       "      <td>\"redhat-single-node\"</td>\n",
       "      <td>periodic-ci-openshift-release-master-nightly-4...</td>\n",
       "      <td>operator.Run multi-stage test e2e-metal-single...</td>\n",
       "      <td>0.016667</td>\n",
       "    </tr>\n",
       "    <tr>\n",
       "      <th>371523</th>\n",
       "      <td>\"redhat-single-node\"</td>\n",
       "      <td>periodic-ci-openshift-release-master-nightly-4...</td>\n",
       "      <td>operator.Run multi-stage test e2e-metal-single...</td>\n",
       "      <td>28.399033</td>\n",
       "    </tr>\n",
       "    <tr>\n",
       "      <th>371524</th>\n",
       "      <td>\"redhat-single-node\"</td>\n",
       "      <td>periodic-ci-openshift-release-master-nightly-4...</td>\n",
       "      <td>operator.Run multi-stage test e2e-metal-single...</td>\n",
       "      <td>40.368485</td>\n",
       "    </tr>\n",
       "    <tr>\n",
       "      <th>371525</th>\n",
       "      <td>\"redhat-single-node\"</td>\n",
       "      <td>periodic-ci-openshift-release-master-nightly-4...</td>\n",
       "      <td>operator.Run multi-stage test e2e-metal-single...</td>\n",
       "      <td>4.320330</td>\n",
       "    </tr>\n",
       "    <tr>\n",
       "      <th>371526</th>\n",
       "      <td>\"redhat-single-node\"</td>\n",
       "      <td>periodic-ci-openshift-release-master-nightly-4...</td>\n",
       "      <td>operator.Run multi-stage test e2e-metal-single...</td>\n",
       "      <td>0.017125</td>\n",
       "    </tr>\n",
       "  </tbody>\n",
       "</table>\n",
       "<p>371527 rows × 4 columns</p>\n",
       "</div>"
      ],
      "text/plain": [
       "                                tab  \\\n",
       "0       \"redhat-assisted-installer\"   \n",
       "1       \"redhat-assisted-installer\"   \n",
       "2       \"redhat-assisted-installer\"   \n",
       "3       \"redhat-assisted-installer\"   \n",
       "4       \"redhat-assisted-installer\"   \n",
       "...                             ...   \n",
       "371522         \"redhat-single-node\"   \n",
       "371523         \"redhat-single-node\"   \n",
       "371524         \"redhat-single-node\"   \n",
       "371525         \"redhat-single-node\"   \n",
       "371526         \"redhat-single-node\"   \n",
       "\n",
       "                                                     grid  \\\n",
       "0       periodic-ci-openshift-release-master-nightly-4...   \n",
       "1       periodic-ci-openshift-release-master-nightly-4...   \n",
       "2       periodic-ci-openshift-release-master-nightly-4...   \n",
       "3       periodic-ci-openshift-release-master-nightly-4...   \n",
       "4       periodic-ci-openshift-release-master-nightly-4...   \n",
       "...                                                   ...   \n",
       "371522  periodic-ci-openshift-release-master-nightly-4...   \n",
       "371523  periodic-ci-openshift-release-master-nightly-4...   \n",
       "371524  periodic-ci-openshift-release-master-nightly-4...   \n",
       "371525  periodic-ci-openshift-release-master-nightly-4...   \n",
       "371526  periodic-ci-openshift-release-master-nightly-4...   \n",
       "\n",
       "                                                     test  test_duration  \n",
       "0                                                 Overall      98.698889  \n",
       "1                        TestInstall_test_install.cluster       0.000340  \n",
       "2       TestInstall_test_install.cluster[openshift_ver...       0.000774  \n",
       "3       TestInstall_test_install.generate_and_download...       0.333156  \n",
       "4       TestInstall_test_install.generate_and_download...       0.332048  \n",
       "...                                                   ...            ...  \n",
       "371522  operator.Run multi-stage test e2e-metal-single...       0.016667  \n",
       "371523  operator.Run multi-stage test e2e-metal-single...      28.399033  \n",
       "371524  operator.Run multi-stage test e2e-metal-single...      40.368485  \n",
       "371525  operator.Run multi-stage test e2e-metal-single...       4.320330  \n",
       "371526  operator.Run multi-stage test e2e-metal-single...       0.017125  \n",
       "\n",
       "[371527 rows x 4 columns]"
      ]
     },
     "execution_count": 18,
     "metadata": {},
     "output_type": "execute_result"
    }
   ],
   "source": [
    "## Sanity check to see if the dataset is the same\n",
    "if AUTOMATION:\n",
    "    sanity_check = cc.read_from_ceph(\n",
    "        s3_path,\n",
    "        f\"{METRIC_NAME}/{METRIC_NAME}-{timestamp.year}-{timestamp.month}-{timestamp.day}.parquet\",\n",
    "    )\n",
    "else:\n",
    "    sanity_check = read_from_disk(\n",
    "        OUTPUT_DATA_PATH,\n",
    "        f\"{METRIC_NAME}-{timestamp.year}-{timestamp.month}-{timestamp.day}.parquet\",\n",
    "    )\n",
    "\n",
    "sanity_check"
   ]
  },
  {
   "cell_type": "markdown",
   "id": "94e6db1e",
   "metadata": {},
   "source": [
    "### Conclusion\n",
    "\n",
    "In this Notebook, we use the \"Overall\" as a proxy for a build. Testgrid refers an aggregate of multiple tests performed at a certain timestamp within a Job as a Build and each build has a unique Build ID. In this notebook, we went ahead and used the captured time duration for Test Overalls and averged them out for each Job. We also plotted the time taken for builds to complete over time for each Job."
   ]
  }
 ],
 "metadata": {
  "kernelspec": {
   "display_name": "Python 3",
   "language": "python",
   "name": "python3"
  },
  "language_info": {
   "codemirror_mode": {
    "name": "ipython",
    "version": 3
   },
   "file_extension": ".py",
   "mimetype": "text/x-python",
   "name": "python",
   "nbconvert_exporter": "python",
   "pygments_lexer": "ipython3",
   "version": "3.8.3"
  },
  "toc": {
   "base_numbering": 1,
   "nav_menu": {},
   "number_sections": true,
   "sideBar": true,
   "skip_h1_title": false,
   "title_cell": "Table of Contents",
   "title_sidebar": "Contents",
   "toc_cell": false,
   "toc_position": {},
   "toc_section_display": true,
   "toc_window_display": false
  }
 },
 "nbformat": 4,
 "nbformat_minor": 5
}