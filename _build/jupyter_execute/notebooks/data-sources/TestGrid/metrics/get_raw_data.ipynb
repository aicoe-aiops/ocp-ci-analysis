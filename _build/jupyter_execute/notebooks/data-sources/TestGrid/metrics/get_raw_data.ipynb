{
 "cells": [
  {
   "cell_type": "markdown",
   "id": "corresponding-feedback",
   "metadata": {},
   "source": [
    "# Fetch test grid data\n",
    "* In this notebook, we fetch relevant data from https://testgrid.k8s.io and save on Ceph for further analysis.\n",
    "* This is supposed to be run in automation as a part of kubeflow pipeline."
   ]
  },
  {
   "cell_type": "code",
   "execution_count": 1,
   "id": "residential-relation",
   "metadata": {
    "ExecuteTime": {
     "end_time": "2021-03-22T16:06:21.631299Z",
     "start_time": "2021-03-22T16:06:20.580431Z"
    },
    "papermill": {
     "duration": 0.830008,
     "end_time": "2021-03-25T15:10:06.479708",
     "exception": false,
     "start_time": "2021-03-25T15:10:05.649700",
     "status": "completed"
    },
    "tags": []
   },
   "outputs": [
    {
     "data": {
      "text/plain": [
       "True"
      ]
     },
     "execution_count": 1,
     "metadata": {},
     "output_type": "execute_result"
    }
   ],
   "source": [
    "## Import libraries\n",
    "import datetime\n",
    "import os\n",
    "import json\n",
    "from dotenv import load_dotenv, find_dotenv\n",
    "import requests\n",
    "from bs4 import BeautifulSoup\n",
    "from ipynb.fs.defs.metric_template import CephCommunication\n",
    "\n",
    "load_dotenv(find_dotenv())"
   ]
  },
  {
   "cell_type": "code",
   "execution_count": 2,
   "id": "forty-occasions",
   "metadata": {
    "ExecuteTime": {
     "end_time": "2021-03-22T16:06:21.639507Z",
     "start_time": "2021-03-22T16:06:21.634107Z"
    },
    "papermill": {
     "duration": 0.027219,
     "end_time": "2021-03-25T15:10:06.569376",
     "exception": false,
     "start_time": "2021-03-25T15:10:06.542157",
     "status": "completed"
    },
    "tags": []
   },
   "outputs": [],
   "source": [
    "## Specify variables\n",
    "\n",
    "# Specify the path for input grid data\n",
    "INPUT_DATA_PATH = (\n",
    "    \"https://testgrid.k8s.io/redhat-openshift-informing?id=dashboard-group-bar\"\n",
    ")\n",
    "\n",
    "# Specify the path for output raw data\n",
    "OUTPUT_DATA_PATH = \"../../../../data/raw\"\n",
    "\n",
    "## CEPH Bucket variables\n",
    "## Create a .env file on your local with the correct configs\n",
    "s3_endpoint_url = os.getenv(\"S3_ENDPOINT\")\n",
    "s3_access_key = os.getenv(\"S3_ACCESS_KEY\")\n",
    "s3_secret_key = os.getenv(\"S3_SECRET_KEY\")\n",
    "s3_bucket = os.getenv(\"S3_BUCKET\")\n",
    "s3_input_data_path = \"raw_data\"\n",
    "\n",
    "# Specify whether or not we are running this as a notebook or part of an automation pipeline.\n",
    "AUTOMATION = os.getenv(\"IN_AUTOMATION\")"
   ]
  },
  {
   "cell_type": "code",
   "execution_count": 3,
   "id": "velvet-prospect",
   "metadata": {
    "ExecuteTime": {
     "end_time": "2021-01-18T14:14:26.141038Z",
     "start_time": "2021-01-18T14:14:24.231381Z"
    },
    "papermill": {
     "duration": 3.291539,
     "end_time": "2021-03-25T15:10:09.884473",
     "exception": false,
     "start_time": "2021-03-25T15:10:06.592934",
     "status": "completed"
    },
    "tags": []
   },
   "outputs": [
    {
     "data": {
      "text/plain": [
       "['\"redhat-assisted-installer\"',\n",
       " '\"redhat-openshift-informing\"',\n",
       " '\"redhat-openshift-ocp-release-4.1-blocking\"',\n",
       " '\"redhat-openshift-ocp-release-4.1-informing\"',\n",
       " '\"redhat-openshift-ocp-release-4.2-blocking\"',\n",
       " '\"redhat-openshift-ocp-release-4.2-informing\"',\n",
       " '\"redhat-openshift-ocp-release-4.3-blocking\"',\n",
       " '\"redhat-openshift-ocp-release-4.3-broken\"',\n",
       " '\"redhat-openshift-ocp-release-4.3-informing\"',\n",
       " '\"redhat-openshift-ocp-release-4.4-blocking\"',\n",
       " '\"redhat-openshift-ocp-release-4.4-broken\"',\n",
       " '\"redhat-openshift-ocp-release-4.4-informing\"',\n",
       " '\"redhat-openshift-ocp-release-4.5-blocking\"',\n",
       " '\"redhat-openshift-ocp-release-4.5-broken\"',\n",
       " '\"redhat-openshift-ocp-release-4.5-informing\"',\n",
       " '\"redhat-openshift-ocp-release-4.6-blocking\"',\n",
       " '\"redhat-openshift-ocp-release-4.6-broken\"',\n",
       " '\"redhat-openshift-ocp-release-4.6-informing\"',\n",
       " '\"redhat-openshift-ocp-release-4.7-blocking\"',\n",
       " '\"redhat-openshift-ocp-release-4.7-broken\"',\n",
       " '\"redhat-openshift-ocp-release-4.7-informing\"',\n",
       " '\"redhat-openshift-ocp-release-4.8-blocking\"',\n",
       " '\"redhat-openshift-ocp-release-4.8-informing\"',\n",
       " '\"redhat-openshift-ocp-release-4.9-blocking\"',\n",
       " '\"redhat-openshift-ocp-release-4.9-informing\"',\n",
       " '\"redhat-openshift-okd-release-4.3-informing\"',\n",
       " '\"redhat-openshift-okd-release-4.4-informing\"',\n",
       " '\"redhat-openshift-okd-release-4.5-blocking\"',\n",
       " '\"redhat-openshift-okd-release-4.5-informing\"',\n",
       " '\"redhat-openshift-okd-release-4.6-blocking\"',\n",
       " '\"redhat-openshift-okd-release-4.6-informing\"',\n",
       " '\"redhat-openshift-okd-release-4.7-blocking\"',\n",
       " '\"redhat-openshift-okd-release-4.7-informing\"',\n",
       " '\"redhat-openshift-okd-release-4.8-blocking\"',\n",
       " '\"redhat-openshift-okd-release-4.8-informing\"',\n",
       " '\"redhat-openshift-okd-release-4.9-informing\"',\n",
       " '\"redhat-openshift-presubmit-master-gcp\"',\n",
       " '\"redhat-osd\"',\n",
       " '\"redhat-single-node\"']"
      ]
     },
     "execution_count": 3,
     "metadata": {},
     "output_type": "execute_result"
    }
   ],
   "source": [
    "## Connect to the url and fetch dashboard names\n",
    "response = requests.get(INPUT_DATA_PATH)\n",
    "html = BeautifulSoup(response.content)\n",
    "testgrid_script = html.findAll(\"script\")[3]\n",
    "testgrid_script = testgrid_script.text.split()[5].split(\",\")\n",
    "dashboard_names = [x.split(\":\")[1] for x in testgrid_script if \"name\" in x]\n",
    "dashboard_names"
   ]
  },
  {
   "cell_type": "code",
   "execution_count": 4,
   "id": "structured-nylon",
   "metadata": {
    "papermill": {
     "duration": 398.004295,
     "end_time": "2021-03-25T15:16:47.966537",
     "exception": false,
     "start_time": "2021-03-25T15:10:09.962242",
     "status": "completed"
    },
    "tags": []
   },
   "outputs": [
    {
     "name": "stdout",
     "output_type": "stream",
     "text": [
      "\"redhat-assisted-installer\" downloaded \n",
      "\"redhat-openshift-informing\" downloaded \n",
      "\"redhat-openshift-ocp-release-4.1-blocking\" downloaded \n",
      "\"redhat-openshift-ocp-release-4.1-informing\" downloaded \n",
      "\"redhat-openshift-ocp-release-4.2-blocking\" downloaded \n",
      "\"redhat-openshift-ocp-release-4.2-informing\" downloaded \n",
      "\"redhat-openshift-ocp-release-4.3-blocking\" downloaded \n",
      "\"redhat-openshift-ocp-release-4.3-broken\" downloaded \n",
      "\"redhat-openshift-ocp-release-4.3-informing\" downloaded \n",
      "\"redhat-openshift-ocp-release-4.4-blocking\" downloaded \n",
      "\"redhat-openshift-ocp-release-4.4-broken\" downloaded \n",
      "\"redhat-openshift-ocp-release-4.4-informing\" downloaded \n",
      "\"redhat-openshift-ocp-release-4.5-blocking\" downloaded \n",
      "\"redhat-openshift-ocp-release-4.5-broken\" downloaded \n",
      "\"redhat-openshift-ocp-release-4.5-informing\" downloaded \n",
      "\"redhat-openshift-ocp-release-4.6-blocking\" downloaded \n",
      "\"redhat-openshift-ocp-release-4.6-broken\" downloaded \n",
      "\"redhat-openshift-ocp-release-4.6-informing\" downloaded \n",
      "\"redhat-openshift-ocp-release-4.7-blocking\" downloaded \n",
      "\"redhat-openshift-ocp-release-4.7-broken\" downloaded \n",
      "\"redhat-openshift-ocp-release-4.7-informing\" downloaded \n",
      "\"redhat-openshift-ocp-release-4.8-blocking\" downloaded \n",
      "\"redhat-openshift-ocp-release-4.8-informing\" downloaded \n",
      "\"redhat-openshift-ocp-release-4.9-blocking\" downloaded \n",
      "\"redhat-openshift-ocp-release-4.9-informing\" downloaded \n",
      "\"redhat-openshift-okd-release-4.3-informing\" downloaded \n",
      "\"redhat-openshift-okd-release-4.4-informing\" downloaded \n",
      "\"redhat-openshift-okd-release-4.5-blocking\" downloaded \n",
      "\"redhat-openshift-okd-release-4.5-informing\" downloaded \n",
      "\"redhat-openshift-okd-release-4.6-blocking\" downloaded \n",
      "\"redhat-openshift-okd-release-4.6-informing\" downloaded \n",
      "\"redhat-openshift-okd-release-4.7-blocking\" downloaded \n",
      "\"redhat-openshift-okd-release-4.7-informing\" downloaded \n",
      "\"redhat-openshift-okd-release-4.8-blocking\" downloaded \n",
      "\"redhat-openshift-okd-release-4.8-informing\" downloaded \n",
      "\"redhat-openshift-okd-release-4.9-informing\" downloaded \n",
      "\"redhat-openshift-presubmit-master-gcp\" downloaded \n",
      "\"redhat-osd\" downloaded \n",
      "\"redhat-single-node\" downloaded \n"
     ]
    }
   ],
   "source": [
    "## Download the dashboard data\n",
    "download = True\n",
    "if download:\n",
    "    data_set = {}\n",
    "\n",
    "    for dashboard in dashboard_names:\n",
    "        response_1 = requests.get(f\"https://testgrid.k8s.io/{dashboard}/summary\")\n",
    "        jobs = response_1.json().keys()\n",
    "        dashboard_jobs = {}\n",
    "\n",
    "        for job in jobs:\n",
    "            response_2 = requests.get(\n",
    "                f\"https://testgrid.k8s.io/{dashboard}/table?&show-stale-tests=&tab={job}&graph-metrics=test-duration-minutes\"  # noqa\n",
    "            )\n",
    "            if response_2.status_code != 200:\n",
    "                continue\n",
    "\n",
    "            if \"tests\" in response_2.json():\n",
    "                grid = []\n",
    "                for x in response_2.json()[\"tests\"]:\n",
    "                    test = {\"name\": x[\"name\"], \"statuses\": x[\"statuses\"]}\n",
    "                    if \"graphs\" in x.keys():\n",
    "                        test[\"graphs\"] = x[\"graphs\"]\n",
    "                    else:\n",
    "                        test[\"graphs\"] = None\n",
    "                    grid.append(test)\n",
    "\n",
    "                time_stamps = response_2.json()[\"timestamps\"]\n",
    "\n",
    "                dashboard_jobs[job] = {\"grid\": grid, \"timestamps\": time_stamps}\n",
    "\n",
    "        data_set[dashboard] = dashboard_jobs\n",
    "        print(f\"{dashboard} downloaded \")\n",
    "else:\n",
    "    print(\"Not Downloading\")"
   ]
  },
  {
   "cell_type": "code",
   "execution_count": 5,
   "id": "recorded-tension",
   "metadata": {
    "papermill": {
     "duration": 0.04715,
     "end_time": "2021-03-25T15:16:48.048482",
     "exception": false,
     "start_time": "2021-03-25T15:16:48.001332",
     "status": "completed"
    },
    "tags": []
   },
   "outputs": [],
   "source": [
    "## Set filename\n",
    "date = datetime.datetime.today()\n",
    "filename = f\"testgrid_{date.day}{date.month}.json\""
   ]
  },
  {
   "cell_type": "code",
   "execution_count": 6,
   "id": "selected-future",
   "metadata": {},
   "outputs": [
    {
     "name": "stdout",
     "output_type": "stream",
     "text": [
      "{'ResponseMetadata': {'RequestId': 'knht0bi2-f6z6ty-115m', 'HostId': 'knht0bi2-f6z6ty-115m', 'HTTPStatusCode': 200, 'HTTPHeaders': {'x-amz-request-id': 'knht0bi2-f6z6ty-115m', 'x-amz-id-2': 'knht0bi2-f6z6ty-115m', 'access-control-allow-origin': '*', 'access-control-allow-credentials': 'true', 'access-control-allow-methods': 'GET,POST,PUT,DELETE,OPTIONS', 'access-control-allow-headers': 'Content-Type,Content-MD5,Authorization,X-Amz-User-Agent,X-Amz-Date,ETag,X-Amz-Content-Sha256', 'access-control-expose-headers': 'ETag,X-Amz-Version-Id', 'etag': '\"7b7ff1bfdfe25e30abe9f490e53180c0\"', 'date': 'Wed, 14 Apr 2021 18:45:34 GMT', 'connection': 'keep-alive', 'content-length': '0'}, 'RetryAttempts': 0}, 'ETag': '\"7b7ff1bfdfe25e30abe9f490e53180c0\"'}\n"
     ]
    }
   ],
   "source": [
    "timestamp = datetime.datetime.now()\n",
    "\n",
    "if AUTOMATION:\n",
    "    ## Connect to Ceph\n",
    "    cc = CephCommunication(s3_endpoint_url, s3_access_key, s3_secret_key, s3_bucket)\n",
    "\n",
    "    ## Put data on ceph\n",
    "    s3_obj = cc.s3_resource.Object(s3_bucket, f\"{s3_input_data_path}/{filename}\")\n",
    "    status = s3_obj.put(Body=bytes(json.dumps(data_set).encode(\"UTF-8\")))\n",
    "\n",
    "    ## Print Status\n",
    "    print(status)\n",
    "\n",
    "else:\n",
    "    file_path = f\"{OUTPUT_DATA_PATH}/{filename}\"\n",
    "    with open(file_path, \"w\") as outfile:\n",
    "        json.dump(data_set, outfile)"
   ]
  }
 ],
 "metadata": {
  "kernelspec": {
   "display_name": "Python 3",
   "language": "python",
   "name": "python3"
  },
  "language_info": {
   "codemirror_mode": {
    "name": "ipython",
    "version": 3
   },
   "file_extension": ".py",
   "mimetype": "text/x-python",
   "name": "python",
   "nbconvert_exporter": "python",
   "pygments_lexer": "ipython3",
   "version": "3.8.3"
  },
  "papermill": {
   "default_parameters": {},
   "duration": 414.361001,
   "end_time": "2021-03-25T15:16:54.667794",
   "environment_variables": {},
   "exception": null,
   "input_path": "/opt/app-root/src/ocp-ci-analysis/notebooks/data-sources/TestGrid/Elyra_test/get_raw_data.ipynb",
   "output_path": "/opt/app-root/src/ocp-ci-analysis/notebooks/data-sources/TestGrid/Elyra_test/get_raw_data.ipynb",
   "parameters": {},
   "start_time": "2021-03-25T15:10:00.306793",
   "version": "2.3.2"
  },
  "toc": {
   "base_numbering": 1,
   "nav_menu": {},
   "number_sections": true,
   "sideBar": true,
   "skip_h1_title": false,
   "title_cell": "Table of Contents",
   "title_sidebar": "Contents",
   "toc_cell": false,
   "toc_position": {},
   "toc_section_display": true,
   "toc_window_display": false
  }
 },
 "nbformat": 4,
 "nbformat_minor": 5
}