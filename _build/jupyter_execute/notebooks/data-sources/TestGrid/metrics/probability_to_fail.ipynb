{
 "cells": [
  {
   "cell_type": "markdown",
   "id": "f3c2cb4b",
   "metadata": {},
   "source": [
    "# Probability To Fail\n",
    "\n",
    "One of the key performance indicators that we would like to create greater visibility into and for a given moment in time, is to calculate what is the probability that a given test will fail. Using this information, we plan to build a model that uses the probability to fail to predict the time to failure. \n",
    "\n",
    "In order to provide maxium flexibility for the end-user of this work, instead of creating a number of dataframes to answer each of these specifc questions, we will define a long and narrow data structure (a list of tuples saved as a csv for now) that contains only 7 columns (\"timestamp\", \"tab\",\"grid\",\"test\",\"test_duration\", \"pass_or_fail\", \"prob\"). This allows visualization tools like Superset (or pandas) to perform the last filter and/or aggregate interested columns to an end user. Which is to say, there may be a lot of repetition within the final data set, but each row should be unique, and it should provide the simplest usability for an end-user. \n",
    "\n",
    "Linked issue(s) : [Issue](https://github.com/aicoe-aiops/ocp-ci-analysis/issues/282)"
   ]
  },
  {
   "cell_type": "code",
   "execution_count": 1,
   "id": "9ad0ae80",
   "metadata": {},
   "outputs": [
    {
     "data": {
      "text/plain": [
       "True"
      ]
     },
     "execution_count": 1,
     "metadata": {},
     "output_type": "execute_result"
    }
   ],
   "source": [
    "import json\n",
    "import gzip\n",
    "import os\n",
    "import pandas as pd\n",
    "import datetime\n",
    "from sklearn.svm import SVC\n",
    "from sklearn.calibration import CalibratedClassifierCV\n",
    "from sklearn.model_selection import train_test_split\n",
    "from sklearn.calibration import calibration_curve\n",
    "from sklearn.metrics import brier_score_loss, roc_auc_score\n",
    "from matplotlib import pyplot\n",
    "import numpy as np\n",
    "\n",
    "from ipynb.fs.defs.metric_template import testgrid_labelwise_encoding\n",
    "from ipynb.fs.defs.metric_template import CephCommunication\n",
    "from ipynb.fs.defs.metric_template import save_to_disk, read_from_disk\n",
    "from dotenv import load_dotenv, find_dotenv\n",
    "import warnings\n",
    "\n",
    "warnings.filterwarnings(\"ignore\")\n",
    "\n",
    "load_dotenv(find_dotenv())"
   ]
  },
  {
   "cell_type": "code",
   "execution_count": 2,
   "id": "2dce36ca",
   "metadata": {},
   "outputs": [],
   "source": [
    "## Specify variables\n",
    "METRIC_NAME = \"probability_to_fail\"\n",
    "# Specify the path for input grid data,\n",
    "INPUT_DATA_PATH = \"../../../../data/raw/testgrid_183.json.gz\"\n",
    "\n",
    "# Specify the path for output metric data\n",
    "OUTPUT_DATA_PATH = f\"../../../../data/processed/metrics/{METRIC_NAME}\"\n",
    "\n",
    "# Specify whether or not we are running this as a notebook or part of an automation pipeline.\n",
    "AUTOMATION = os.getenv(\"IN_AUTOMATION\")\n",
    "\n",
    "## CEPH Bucket variables\n",
    "## Create a .env file on your local with the correct configs,\n",
    "s3_endpoint_url = os.getenv(\"S3_ENDPOINT\")\n",
    "s3_access_key = os.getenv(\"S3_ACCESS_KEY\")\n",
    "s3_secret_key = os.getenv(\"S3_SECRET_KEY\")\n",
    "s3_bucket = os.getenv(\"S3_BUCKET\")\n",
    "s3_path = os.getenv(\"S3_PROJECT_KEY\", \"ai4ci/testgrid/metrics\")\n",
    "s3_input_data_path = \"raw_data\"\n",
    "metric_path = f\"metrics/{METRIC_NAME}\""
   ]
  },
  {
   "cell_type": "code",
   "execution_count": 3,
   "id": "a5ec8f57",
   "metadata": {},
   "outputs": [],
   "source": [
    "## Import data\n",
    "timestamp = datetime.datetime.today()\n",
    "\n",
    "if AUTOMATION:\n",
    "    filename = f\"testgrid_{timestamp.day}{timestamp.month}.json\"\n",
    "    cc = CephCommunication(s3_endpoint_url, s3_access_key, s3_secret_key, s3_bucket)\n",
    "    s3_object = cc.s3_resource.Object(s3_bucket, f\"{s3_input_data_path}/{filename}\")\n",
    "    file_content = s3_object.get()[\"Body\"].read().decode(\"utf-8\")\n",
    "    testgrid_data = json.loads(file_content)\n",
    "\n",
    "else:\n",
    "    with gzip.open(INPUT_DATA_PATH, \"rb\") as read_file:\n",
    "        testgrid_data = json.load(read_file)"
   ]
  },
  {
   "cell_type": "markdown",
   "id": "0c3d718b",
   "metadata": {},
   "source": [
    "## Calculation"
   ]
  },
  {
   "cell_type": "code",
   "execution_count": 4,
   "id": "c51ef525",
   "metadata": {},
   "outputs": [],
   "source": [
    "# We will now fetch all the tests which are failing i.e. have a status code of 12.\n",
    "failures_list = testgrid_labelwise_encoding(testgrid_data, 12, overall_only=False)"
   ]
  },
  {
   "cell_type": "code",
   "execution_count": 5,
   "id": "9ab44c0e",
   "metadata": {},
   "outputs": [
    {
     "data": {
      "text/html": [
       "<div>\n",
       "<style scoped>\n",
       "    .dataframe tbody tr th:only-of-type {\n",
       "        vertical-align: middle;\n",
       "    }\n",
       "\n",
       "    .dataframe tbody tr th {\n",
       "        vertical-align: top;\n",
       "    }\n",
       "\n",
       "    .dataframe thead th {\n",
       "        text-align: right;\n",
       "    }\n",
       "</style>\n",
       "<table border=\"1\" class=\"dataframe\">\n",
       "  <thead>\n",
       "    <tr style=\"text-align: right;\">\n",
       "      <th></th>\n",
       "      <th>timestamp</th>\n",
       "      <th>tab</th>\n",
       "      <th>grid</th>\n",
       "      <th>test</th>\n",
       "      <th>test_duration</th>\n",
       "      <th>failure</th>\n",
       "    </tr>\n",
       "  </thead>\n",
       "  <tbody>\n",
       "    <tr>\n",
       "      <th>0</th>\n",
       "      <td>2021-08-25 19:11:17</td>\n",
       "      <td>\"redhat-assisted-installer\"</td>\n",
       "      <td>periodic-ci-openshift-release-master-nightly-4...</td>\n",
       "      <td>Overall</td>\n",
       "      <td>91.800000</td>\n",
       "      <td>False</td>\n",
       "    </tr>\n",
       "    <tr>\n",
       "      <th>1</th>\n",
       "      <td>2021-08-25 18:31:23</td>\n",
       "      <td>\"redhat-assisted-installer\"</td>\n",
       "      <td>periodic-ci-openshift-release-master-nightly-4...</td>\n",
       "      <td>Overall</td>\n",
       "      <td>17.350000</td>\n",
       "      <td>True</td>\n",
       "    </tr>\n",
       "    <tr>\n",
       "      <th>2</th>\n",
       "      <td>2021-08-25 14:51:42</td>\n",
       "      <td>\"redhat-assisted-installer\"</td>\n",
       "      <td>periodic-ci-openshift-release-master-nightly-4...</td>\n",
       "      <td>Overall</td>\n",
       "      <td>91.933333</td>\n",
       "      <td>False</td>\n",
       "    </tr>\n",
       "    <tr>\n",
       "      <th>3</th>\n",
       "      <td>2021-08-23 00:01:04</td>\n",
       "      <td>\"redhat-assisted-installer\"</td>\n",
       "      <td>periodic-ci-openshift-release-master-nightly-4...</td>\n",
       "      <td>Overall</td>\n",
       "      <td>95.300000</td>\n",
       "      <td>False</td>\n",
       "    </tr>\n",
       "    <tr>\n",
       "      <th>4</th>\n",
       "      <td>2021-08-22 08:53:17</td>\n",
       "      <td>\"redhat-assisted-installer\"</td>\n",
       "      <td>periodic-ci-openshift-release-master-nightly-4...</td>\n",
       "      <td>Overall</td>\n",
       "      <td>101.800000</td>\n",
       "      <td>False</td>\n",
       "    </tr>\n",
       "  </tbody>\n",
       "</table>\n",
       "</div>"
      ],
      "text/plain": [
       "            timestamp                          tab  \\\n",
       "0 2021-08-25 19:11:17  \"redhat-assisted-installer\"   \n",
       "1 2021-08-25 18:31:23  \"redhat-assisted-installer\"   \n",
       "2 2021-08-25 14:51:42  \"redhat-assisted-installer\"   \n",
       "3 2021-08-23 00:01:04  \"redhat-assisted-installer\"   \n",
       "4 2021-08-22 08:53:17  \"redhat-assisted-installer\"   \n",
       "\n",
       "                                                grid     test  test_duration  \\\n",
       "0  periodic-ci-openshift-release-master-nightly-4...  Overall      91.800000   \n",
       "1  periodic-ci-openshift-release-master-nightly-4...  Overall      17.350000   \n",
       "2  periodic-ci-openshift-release-master-nightly-4...  Overall      91.933333   \n",
       "3  periodic-ci-openshift-release-master-nightly-4...  Overall      95.300000   \n",
       "4  periodic-ci-openshift-release-master-nightly-4...  Overall     101.800000   \n",
       "\n",
       "   failure  \n",
       "0    False  \n",
       "1     True  \n",
       "2    False  \n",
       "3    False  \n",
       "4    False  "
      ]
     },
     "execution_count": 5,
     "metadata": {},
     "output_type": "execute_result"
    }
   ],
   "source": [
    "# Convert to dataframe\n",
    "failures_df = pd.DataFrame(\n",
    "    failures_list,\n",
    "    columns=[\"timestamp\", \"tab\", \"grid\", \"test\", \"test_duration\", \"failure\"],\n",
    ")\n",
    "failures_df.head()"
   ]
  },
  {
   "cell_type": "code",
   "execution_count": 6,
   "id": "4a3981f9",
   "metadata": {},
   "outputs": [],
   "source": [
    "# We will fetch all the tests which are passing i.e. have status code of 1.\n",
    "passing_list = testgrid_labelwise_encoding(testgrid_data, 1, overall_only=False)"
   ]
  },
  {
   "cell_type": "code",
   "execution_count": 7,
   "id": "809d6653",
   "metadata": {},
   "outputs": [
    {
     "data": {
      "text/html": [
       "<div>\n",
       "<style scoped>\n",
       "    .dataframe tbody tr th:only-of-type {\n",
       "        vertical-align: middle;\n",
       "    }\n",
       "\n",
       "    .dataframe tbody tr th {\n",
       "        vertical-align: top;\n",
       "    }\n",
       "\n",
       "    .dataframe thead th {\n",
       "        text-align: right;\n",
       "    }\n",
       "</style>\n",
       "<table border=\"1\" class=\"dataframe\">\n",
       "  <thead>\n",
       "    <tr style=\"text-align: right;\">\n",
       "      <th></th>\n",
       "      <th>timestamp</th>\n",
       "      <th>tab</th>\n",
       "      <th>grid</th>\n",
       "      <th>test</th>\n",
       "      <th>test_duration</th>\n",
       "      <th>passing</th>\n",
       "    </tr>\n",
       "  </thead>\n",
       "  <tbody>\n",
       "    <tr>\n",
       "      <th>0</th>\n",
       "      <td>2021-08-25 19:11:17</td>\n",
       "      <td>\"redhat-assisted-installer\"</td>\n",
       "      <td>periodic-ci-openshift-release-master-nightly-4...</td>\n",
       "      <td>Overall</td>\n",
       "      <td>91.800000</td>\n",
       "      <td>True</td>\n",
       "    </tr>\n",
       "    <tr>\n",
       "      <th>1</th>\n",
       "      <td>2021-08-25 18:31:23</td>\n",
       "      <td>\"redhat-assisted-installer\"</td>\n",
       "      <td>periodic-ci-openshift-release-master-nightly-4...</td>\n",
       "      <td>Overall</td>\n",
       "      <td>17.350000</td>\n",
       "      <td>False</td>\n",
       "    </tr>\n",
       "    <tr>\n",
       "      <th>2</th>\n",
       "      <td>2021-08-25 14:51:42</td>\n",
       "      <td>\"redhat-assisted-installer\"</td>\n",
       "      <td>periodic-ci-openshift-release-master-nightly-4...</td>\n",
       "      <td>Overall</td>\n",
       "      <td>91.933333</td>\n",
       "      <td>True</td>\n",
       "    </tr>\n",
       "    <tr>\n",
       "      <th>3</th>\n",
       "      <td>2021-08-23 00:01:04</td>\n",
       "      <td>\"redhat-assisted-installer\"</td>\n",
       "      <td>periodic-ci-openshift-release-master-nightly-4...</td>\n",
       "      <td>Overall</td>\n",
       "      <td>95.300000</td>\n",
       "      <td>True</td>\n",
       "    </tr>\n",
       "    <tr>\n",
       "      <th>4</th>\n",
       "      <td>2021-08-22 08:53:17</td>\n",
       "      <td>\"redhat-assisted-installer\"</td>\n",
       "      <td>periodic-ci-openshift-release-master-nightly-4...</td>\n",
       "      <td>Overall</td>\n",
       "      <td>101.800000</td>\n",
       "      <td>True</td>\n",
       "    </tr>\n",
       "  </tbody>\n",
       "</table>\n",
       "</div>"
      ],
      "text/plain": [
       "            timestamp                          tab  \\\n",
       "0 2021-08-25 19:11:17  \"redhat-assisted-installer\"   \n",
       "1 2021-08-25 18:31:23  \"redhat-assisted-installer\"   \n",
       "2 2021-08-25 14:51:42  \"redhat-assisted-installer\"   \n",
       "3 2021-08-23 00:01:04  \"redhat-assisted-installer\"   \n",
       "4 2021-08-22 08:53:17  \"redhat-assisted-installer\"   \n",
       "\n",
       "                                                grid     test  test_duration  \\\n",
       "0  periodic-ci-openshift-release-master-nightly-4...  Overall      91.800000   \n",
       "1  periodic-ci-openshift-release-master-nightly-4...  Overall      17.350000   \n",
       "2  periodic-ci-openshift-release-master-nightly-4...  Overall      91.933333   \n",
       "3  periodic-ci-openshift-release-master-nightly-4...  Overall      95.300000   \n",
       "4  periodic-ci-openshift-release-master-nightly-4...  Overall     101.800000   \n",
       "\n",
       "   passing  \n",
       "0     True  \n",
       "1    False  \n",
       "2     True  \n",
       "3     True  \n",
       "4     True  "
      ]
     },
     "execution_count": 7,
     "metadata": {},
     "output_type": "execute_result"
    }
   ],
   "source": [
    "# Convert to dataframe\n",
    "passing_df = pd.DataFrame(\n",
    "    passing_list,\n",
    "    columns=[\"timestamp\", \"tab\", \"grid\", \"test\", \"test_duration\", \"passing\"],\n",
    ")\n",
    "passing_df.head()"
   ]
  },
  {
   "cell_type": "code",
   "execution_count": 8,
   "id": "b68325ec",
   "metadata": {},
   "outputs": [
    {
     "data": {
      "text/html": [
       "<div>\n",
       "<style scoped>\n",
       "    .dataframe tbody tr th:only-of-type {\n",
       "        vertical-align: middle;\n",
       "    }\n",
       "\n",
       "    .dataframe tbody tr th {\n",
       "        vertical-align: top;\n",
       "    }\n",
       "\n",
       "    .dataframe thead th {\n",
       "        text-align: right;\n",
       "    }\n",
       "</style>\n",
       "<table border=\"1\" class=\"dataframe\">\n",
       "  <thead>\n",
       "    <tr style=\"text-align: right;\">\n",
       "      <th></th>\n",
       "      <th>timestamp</th>\n",
       "      <th>tab</th>\n",
       "      <th>grid</th>\n",
       "      <th>test</th>\n",
       "      <th>test_duration</th>\n",
       "      <th>failure</th>\n",
       "      <th>passing</th>\n",
       "    </tr>\n",
       "  </thead>\n",
       "  <tbody>\n",
       "    <tr>\n",
       "      <th>0</th>\n",
       "      <td>2021-08-25 19:11:17</td>\n",
       "      <td>\"redhat-assisted-installer\"</td>\n",
       "      <td>periodic-ci-openshift-release-master-nightly-4...</td>\n",
       "      <td>Overall</td>\n",
       "      <td>91.800000</td>\n",
       "      <td>False</td>\n",
       "      <td>True</td>\n",
       "    </tr>\n",
       "    <tr>\n",
       "      <th>1</th>\n",
       "      <td>2021-08-25 18:31:23</td>\n",
       "      <td>\"redhat-assisted-installer\"</td>\n",
       "      <td>periodic-ci-openshift-release-master-nightly-4...</td>\n",
       "      <td>Overall</td>\n",
       "      <td>17.350000</td>\n",
       "      <td>True</td>\n",
       "      <td>False</td>\n",
       "    </tr>\n",
       "    <tr>\n",
       "      <th>2</th>\n",
       "      <td>2021-08-25 14:51:42</td>\n",
       "      <td>\"redhat-assisted-installer\"</td>\n",
       "      <td>periodic-ci-openshift-release-master-nightly-4...</td>\n",
       "      <td>Overall</td>\n",
       "      <td>91.933333</td>\n",
       "      <td>False</td>\n",
       "      <td>True</td>\n",
       "    </tr>\n",
       "    <tr>\n",
       "      <th>3</th>\n",
       "      <td>2021-08-23 00:01:04</td>\n",
       "      <td>\"redhat-assisted-installer\"</td>\n",
       "      <td>periodic-ci-openshift-release-master-nightly-4...</td>\n",
       "      <td>Overall</td>\n",
       "      <td>95.300000</td>\n",
       "      <td>False</td>\n",
       "      <td>True</td>\n",
       "    </tr>\n",
       "    <tr>\n",
       "      <th>4</th>\n",
       "      <td>2021-08-22 08:53:17</td>\n",
       "      <td>\"redhat-assisted-installer\"</td>\n",
       "      <td>periodic-ci-openshift-release-master-nightly-4...</td>\n",
       "      <td>Overall</td>\n",
       "      <td>101.800000</td>\n",
       "      <td>False</td>\n",
       "      <td>True</td>\n",
       "    </tr>\n",
       "  </tbody>\n",
       "</table>\n",
       "</div>"
      ],
      "text/plain": [
       "            timestamp                          tab  \\\n",
       "0 2021-08-25 19:11:17  \"redhat-assisted-installer\"   \n",
       "1 2021-08-25 18:31:23  \"redhat-assisted-installer\"   \n",
       "2 2021-08-25 14:51:42  \"redhat-assisted-installer\"   \n",
       "3 2021-08-23 00:01:04  \"redhat-assisted-installer\"   \n",
       "4 2021-08-22 08:53:17  \"redhat-assisted-installer\"   \n",
       "\n",
       "                                                grid     test  test_duration  \\\n",
       "0  periodic-ci-openshift-release-master-nightly-4...  Overall      91.800000   \n",
       "1  periodic-ci-openshift-release-master-nightly-4...  Overall      17.350000   \n",
       "2  periodic-ci-openshift-release-master-nightly-4...  Overall      91.933333   \n",
       "3  periodic-ci-openshift-release-master-nightly-4...  Overall      95.300000   \n",
       "4  periodic-ci-openshift-release-master-nightly-4...  Overall     101.800000   \n",
       "\n",
       "   failure  passing  \n",
       "0    False     True  \n",
       "1     True    False  \n",
       "2    False     True  \n",
       "3    False     True  \n",
       "4    False     True  "
      ]
     },
     "execution_count": 8,
     "metadata": {},
     "output_type": "execute_result"
    }
   ],
   "source": [
    "df = pd.merge(\n",
    "    failures_df,\n",
    "    passing_df,\n",
    "    on=[\"timestamp\", \"tab\", \"grid\", \"test\", \"test_duration\"],\n",
    ")\n",
    "df = df.dropna()\n",
    "df.head()"
   ]
  },
  {
   "cell_type": "code",
   "execution_count": 9,
   "id": "063f2bff",
   "metadata": {},
   "outputs": [
    {
     "data": {
      "text/plain": [
       "(19938777, 7)"
      ]
     },
     "execution_count": 9,
     "metadata": {},
     "output_type": "execute_result"
    }
   ],
   "source": [
    "df.shape"
   ]
  },
  {
   "cell_type": "markdown",
   "id": "be514a81",
   "metadata": {},
   "source": [
    "### Calculate Probability to Fail using SVM and Calibrated Classification Model\n",
    "\n",
    "In order to calculate the probability to fail, some of the approaches we could consider are SVM (support vector machines) and a Calibrated Classification Model. In this section of the notebook, we will compare the SVM and Calibrated Classification model, and choose the model giving better results.\n",
    "\n",
    "The objective of the support vector machine algorithm is to find a hyperplane in an N-dimensional space(N — the number of features) that distinctly classifies the data points. SVM is a good candidate model to calibrate because it does not natively predict probabilities, meaning the probabilities are often uncalibrated. The probabilities are not normalized, but can be normalized when calling the `calibration_curve()` function by setting the `normalize` argument to `True`.\n",
    "\n",
    "An SVM model can be created using the [scikit learn module](https://scikit-learn.org/stable/modules/svm.html).\n",
    "\n",
    "A classification predictive modeling problem requires predicting or forecasting a label for a given observation. An alternative to predicting the label directly, a model may predict the probability of an observation belonging to each possible class label. Although a model may be able to predict probabilities, the distribution and behavior of the probabilities may not match the expected distribution of observed probabilities in the training data. The distribution of the probabilities can be adjusted to better match the expected distribution observed in the data. This adjustment is referred to as calibration, as in the calibration of the model or the calibration of the distribution of class probabilities.\n",
    "\n",
    "A classifier can be calibrated using the [CalibratedClassifierCV](http://scikit-learn.org/stable/modules/generated/sklearn.calibration.CalibratedClassifierCV.html) sci-kit library. We will generate the labels/classes required for classification and train the model on a subset of the data set."
   ]
  },
  {
   "cell_type": "code",
   "execution_count": 10,
   "id": "e37ae2ba",
   "metadata": {},
   "outputs": [],
   "source": [
    "## This helper function will add pass/fail labels to enable classification model\n",
    "## i.e 1-\"Pass\", 0-\"Failure\".\n",
    "def p_f_label(row):\n",
    "    if row[\"passing\"]:\n",
    "        return 1\n",
    "    elif row[\"failure\"]:\n",
    "        return 0"
   ]
  },
  {
   "cell_type": "code",
   "execution_count": 11,
   "id": "b594a72c",
   "metadata": {},
   "outputs": [],
   "source": [
    "## Create a sample df with a batch of 10000 to start with.\n",
    "sample_df = df[0:10000]\n",
    "## Add the pass_or_fail label using the helper function `p_f_label`\n",
    "sample_df[\"pass_or_fail\"] = sample_df.apply(lambda row: p_f_label(row), axis=1)"
   ]
  },
  {
   "cell_type": "code",
   "execution_count": 12,
   "id": "eecbe5bd",
   "metadata": {},
   "outputs": [
    {
     "data": {
      "text/plain": [
       "1.0    9837\n",
       "0.0     135\n",
       "Name: pass_or_fail, dtype: int64"
      ]
     },
     "execution_count": 12,
     "metadata": {},
     "output_type": "execute_result"
    }
   ],
   "source": [
    "## For all the missing test_duration values, drop the row.\n",
    "sample_df = sample_df.dropna()\n",
    "## Labels for multiclass classification\n",
    "sample_df.pass_or_fail.unique()\n",
    "sample_df.pass_or_fail.value_counts()"
   ]
  },
  {
   "cell_type": "markdown",
   "id": "dbb03c02",
   "metadata": {},
   "source": [
    "#### Resampling the data\n",
    "From above, we see that we have an imbalanced dataset i.e the classes are not represented equally, and this can lead to misleading classification accuracy results. To handle this issue of imbalanced datasets, we will resample the data. Resampling is a widely-adopted technique for dealing with imbalanced datasets by changing the dataset into a more balanced one by:\n",
    "* Undersampling - This simply deletes instances from the over-represented class (majority class) in different ways. The most obvious way is to do delete instances randomly.\n",
    "* Oversampling - This method adds copies of instances from the under-represented class (minority class) to obtain a balanced dataset. There are multiple ways you can oversample a dataset, like random oversampling."
   ]
  },
  {
   "cell_type": "markdown",
   "id": "169f7d99",
   "metadata": {},
   "source": [
    "Let's implement the basic method of undersampling and oversampling, which uses the `DataFrame.sample` method to get random samples of each class:"
   ]
  },
  {
   "cell_type": "code",
   "execution_count": 13,
   "id": "ac703b42",
   "metadata": {},
   "outputs": [],
   "source": [
    "# Class count\n",
    "count_class_1, count_class_0 = sample_df.pass_or_fail.value_counts()\n",
    "df_class_1 = sample_df[sample_df[\"pass_or_fail\"] == 1]\n",
    "df_class_0 = sample_df[sample_df[\"pass_or_fail\"] == 0]"
   ]
  },
  {
   "cell_type": "markdown",
   "id": "82d02f9c",
   "metadata": {},
   "source": [
    "##### Undersampling\n",
    "Here, we delete instances randomly from the over-represented class i.e. for our dataset the 'Pass (1)' class."
   ]
  },
  {
   "cell_type": "code",
   "execution_count": 14,
   "id": "63fddc1a",
   "metadata": {},
   "outputs": [
    {
     "name": "stdout",
     "output_type": "stream",
     "text": [
      "Random under-sampling:\n",
      "0.0    135\n",
      "1.0    135\n",
      "Name: pass_or_fail, dtype: int64\n"
     ]
    },
    {
     "data": {
      "text/plain": [
       "<AxesSubplot:title={'center':'Count (Pass(1)/Fail(0))'}>"
      ]
     },
     "execution_count": 14,
     "metadata": {},
     "output_type": "execute_result"
    },
    {
     "data": {
      "image/png": "[encoded data removed]",
      "text/plain": [
       "<Figure size 432x288 with 1 Axes>"
      ]
     },
     "metadata": {
      "filenames": {
       "image/png": "/opt/app-root/src/jb/ocp-ci-analysis/_build/jupyter_execute/notebooks/data-sources/TestGrid/metrics/probability_to_fail_19_2.png"
      },
      "needs_background": "light"
     },
     "output_type": "display_data"
    }
   ],
   "source": [
    "# Divide by class\n",
    "df_class_1_under = df_class_1.sample(count_class_0)\n",
    "df_us = pd.concat([df_class_1_under, df_class_0], axis=0)\n",
    "\n",
    "print(\"Random under-sampling:\")\n",
    "print(df_us.pass_or_fail.value_counts())\n",
    "\n",
    "df_us.pass_or_fail.value_counts().plot(kind=\"bar\", title=\"Count (Pass(1)/Fail(0))\")"
   ]
  },
  {
   "cell_type": "markdown",
   "id": "480baa8f",
   "metadata": {},
   "source": [
    "##### Oversampling\n",
    "Here, we add instances randomly to the under-represented class i.e. for our dataset the 'Fail (0)' class."
   ]
  },
  {
   "cell_type": "code",
   "execution_count": 15,
   "id": "0cc5eea1",
   "metadata": {},
   "outputs": [
    {
     "name": "stdout",
     "output_type": "stream",
     "text": [
      "Random over-sampling:\n",
      "0.0    9837\n",
      "1.0    9837\n",
      "Name: pass_or_fail, dtype: int64\n"
     ]
    },
    {
     "data": {
      "text/plain": [
       "<AxesSubplot:title={'center':'Count (target)'}>"
      ]
     },
     "execution_count": 15,
     "metadata": {},
     "output_type": "execute_result"
    },
    {
     "data": {
      "image/png": "[encoded data removed]",
      "text/plain": [
       "<Figure size 432x288 with 1 Axes>"
      ]
     },
     "metadata": {
      "filenames": {
       "image/png": "/opt/app-root/src/jb/ocp-ci-analysis/_build/jupyter_execute/notebooks/data-sources/TestGrid/metrics/probability_to_fail_21_2.png"
      },
      "needs_background": "light"
     },
     "output_type": "display_data"
    }
   ],
   "source": [
    "# Divide by class\n",
    "df_class_0_over = df_class_0.sample(count_class_1, replace=True)\n",
    "df_os = pd.concat([df_class_1, df_class_0_over], axis=0)\n",
    "\n",
    "print(\"Random over-sampling:\")\n",
    "print(df_os.pass_or_fail.value_counts())\n",
    "\n",
    "df_os.pass_or_fail.value_counts().plot(kind=\"bar\", title=\"Count (target)\")"
   ]
  },
  {
   "cell_type": "markdown",
   "id": "80b09e52",
   "metadata": {},
   "source": [
    "#### SVM\n",
    "Now, we will fit the SVM model to calculate the probabilities. Let's run it for both the under and over sampled data and compare."
   ]
  },
  {
   "cell_type": "code",
   "execution_count": 16,
   "id": "af94fe80",
   "metadata": {},
   "outputs": [],
   "source": [
    "## Create X = test_duration and y = pass_or_fail and calculate probabilty for under sampled data\n",
    "X, y = np.array([df_us[\"test_duration\"].values]), np.array(\n",
    "    [df_us[\"pass_or_fail\"].values]\n",
    ")\n",
    "X = X.reshape(-1, 1)\n",
    "y = y.reshape(-1, 1)\n",
    "\n",
    "# split into train/test sets.\n",
    "trainx, testx, trainy, testy = train_test_split(\n",
    "    X, y, train_size=0.8, test_size=0.2, random_state=42\n",
    ")\n",
    "\n",
    "# fit a SVM Model.\n",
    "model = SVC(probability=True).fit(trainx, trainy)\n",
    "\n",
    "# Evaluate the model\n",
    "y_pred = model.predict(testx)\n",
    "\n",
    "# predict probabilities.\n",
    "probs_train = model.predict_proba(trainx)[:, 0]\n",
    "probs_test = model.predict_proba(testx)[:, 0]\n",
    "probs = np.append(probs_train, probs_test, axis=None)\n",
    "df_us[\"prob\"] = probs"
   ]
  },
  {
   "cell_type": "markdown",
   "id": "0164484e",
   "metadata": {},
   "source": [
    "*NOTE* : The probabilities are not normalized, but can be normalized when calling the `calibration_curve()` function by setting the `normalize` argument to `True`."
   ]
  },
  {
   "cell_type": "code",
   "execution_count": 17,
   "id": "30f16507",
   "metadata": {},
   "outputs": [
    {
     "name": "stdout",
     "output_type": "stream",
     "text": [
      "SVM Model accuracy : 0.8888888888888888\n",
      "SVM Brier Score 0.1111111111111111\n",
      "SVM Roc Score 0.8859890109890111\n"
     ]
    }
   ],
   "source": [
    "# Mean accuracy on the given test data and labels.\n",
    "svm_accuracy = model.score(testx, testy)\n",
    "print(\"SVM Model accuracy :\", svm_accuracy)\n",
    "svm_brier = brier_score_loss(testy, y_pred, pos_label=1)\n",
    "print(\"SVM Brier Score\", svm_brier)\n",
    "svm_roc = roc_auc_score(testy, y_pred)\n",
    "print(\"SVM Roc Score\", svm_roc)"
   ]
  },
  {
   "cell_type": "markdown",
   "id": "ce82ef9b",
   "metadata": {},
   "source": [
    "Brier Score is a distance in the probability domain. Which means: the lower the value of this score, the better the prediction."
   ]
  },
  {
   "cell_type": "markdown",
   "id": "65c86e13",
   "metadata": {},
   "source": [
    "The above calculated score is a harsh metric since we require for each sample that each label set be correctly predicted. This does not give us a clear indication of a better model so we will use the reliability diagram to find out the better suited model."
   ]
  },
  {
   "cell_type": "markdown",
   "id": "dec9b510",
   "metadata": {},
   "source": [
    "##### Reliability Diagram\n",
    "\n",
    "A reliability diagram is a line plot of the relative frequency of what was observed (y-axis) versus the predicted probability frequency  (x-axis). These plots are commonly referred to as ‘reliability‘ diagrams in forecast literature, although may also be called ‘calibration‘ plots or curves as they summarize how well the forecast probabilities are calibrated.\n",
    "\n",
    "The better calibrated or more reliable a forecast, the closer the points will appear along the main diagonal from the bottom left to the top right of the plot."
   ]
  },
  {
   "cell_type": "code",
   "execution_count": 18,
   "id": "0b05c577",
   "metadata": {},
   "outputs": [
    {
     "data": {
      "image/png": "[encoded data removed]",
      "text/plain": [
       "<Figure size 432x288 with 1 Axes>"
      ]
     },
     "metadata": {
      "filenames": {
       "image/png": "/opt/app-root/src/jb/ocp-ci-analysis/_build/jupyter_execute/notebooks/data-sources/TestGrid/metrics/probability_to_fail_29_0.png"
      },
      "needs_background": "light"
     },
     "output_type": "display_data"
    }
   ],
   "source": [
    "# reliability diagram\n",
    "fop, mpv = calibration_curve(testy, probs_test, n_bins=10, normalize=True)\n",
    "# plot perfectly calibrated\n",
    "pyplot.plot([0, 1], [0, 1], linestyle=\"--\")\n",
    "# plot model reliability\n",
    "pyplot.plot(mpv, fop, marker=\".\")\n",
    "pyplot.xlabel(\"Mean predicted Value\")\n",
    "pyplot.ylabel(\"Relative Frequency\")\n",
    "pyplot.title(\"SVM Reliability Diagram\")\n",
    "pyplot.show()"
   ]
  },
  {
   "cell_type": "markdown",
   "id": "54d6bec5",
   "metadata": {},
   "source": [
    "In the above graph, the solid line represents the calibration of the SVMs predicted probabilities and the dotted line represents a comparison to a perfectly calibrated model. The better calibrated or more reliable a forecast, the closer the points will appear along the main diagonal from the bottom left to the top right of the plot. Here, we see that calibration probabilities are much further away from the ideal prediction.\n",
    "\n",
    "The position of the points or the curve relative to the diagonal can help to interpret the probabilities; for example:\n",
    "\n",
    "* *Below the diagonal*: The model has over-forecast; the probabilities are too large.\n",
    "* *Above the diagonal*: The model has under-forecast; the probabilities are too small."
   ]
  },
  {
   "cell_type": "markdown",
   "id": "f911f375",
   "metadata": {},
   "source": [
    "#### SVM for over sampled data"
   ]
  },
  {
   "cell_type": "code",
   "execution_count": 19,
   "id": "c61d72bc",
   "metadata": {},
   "outputs": [],
   "source": [
    "## Create X = test_duration and y = pass_or_fail and calculate probabilty for over sampled data\n",
    "X, y = np.array([df_os[\"test_duration\"].values]), np.array(\n",
    "    [df_os[\"pass_or_fail\"].values]\n",
    ")\n",
    "X = X.reshape(-1, 1)\n",
    "y = y.reshape(-1, 1)\n",
    "\n",
    "# split into train/test sets.\n",
    "trainx, testx, trainy, testy = train_test_split(\n",
    "    X, y, train_size=0.8, test_size=0.2, random_state=42\n",
    ")\n",
    "\n",
    "# fit a SVM Model.\n",
    "model = SVC(probability=True).fit(trainx, trainy)\n",
    "\n",
    "# Evaluate the model\n",
    "y_pred = model.predict(testx)\n",
    "\n",
    "# predict probabilities.\n",
    "probs_train = model.predict_proba(trainx)[:, 0]\n",
    "probs_test = model.predict_proba(testx)[:, 0]\n",
    "probs = np.append(probs_train, probs_test, axis=None)\n",
    "df_os[\"prob\"] = probs"
   ]
  },
  {
   "cell_type": "code",
   "execution_count": 20,
   "id": "97239480",
   "metadata": {},
   "outputs": [
    {
     "name": "stdout",
     "output_type": "stream",
     "text": [
      "SVM Model accuracy : 0.9110546378653113\n",
      "SVM Brier Score 0.08894536213468869\n",
      "SVM Roc Score 0.9108594984441994\n"
     ]
    }
   ],
   "source": [
    "# Mean accuracy on the given test data and labels.\n",
    "svm_accuracy = model.score(testx, testy)\n",
    "print(\"SVM Model accuracy :\", svm_accuracy)\n",
    "svm_brier = brier_score_loss(testy, y_pred, pos_label=1)\n",
    "print(\"SVM Brier Score\", svm_brier)\n",
    "svm_roc = roc_auc_score(testy, y_pred)\n",
    "print(\"SVM Roc Score\", svm_roc)"
   ]
  },
  {
   "cell_type": "markdown",
   "id": "4170c0bf",
   "metadata": {},
   "source": [
    "Brier Score is a distance in the probability domain. Which means: the lower the value of this score, the better the prediction."
   ]
  },
  {
   "cell_type": "markdown",
   "id": "f910ca22",
   "metadata": {},
   "source": [
    "The above calculated score is a harsh metric since we require for each sample that each label set be correctly predicted. This does not give us a clear indication of a better model so we will use the reliability diagram to find out the better suited model.\n",
    "\n",
    "We also see that we achieved a higher accuracy of ~81% with over sampling of the data compared to the ~78% accuracy with the under sampled data."
   ]
  },
  {
   "cell_type": "markdown",
   "id": "719aab48",
   "metadata": {},
   "source": [
    "##### Reliability Diagram\n",
    "\n",
    "A reliability diagram is a line plot of the relative frequency of what was observed (y-axis) versus the predicted probability frequency  (x-axis). These plots are commonly referred to as ‘reliability‘ diagrams in forecast literature, although may also be called ‘calibration‘ plots or curves as they summarize how well the forecast probabilities are calibrated.\n",
    "\n",
    "The better calibrated or more reliable a forecast, the closer the points will appear along the main diagonal from the bottom left to the top right of the plot."
   ]
  },
  {
   "cell_type": "code",
   "execution_count": 21,
   "id": "a94959e7",
   "metadata": {},
   "outputs": [
    {
     "data": {
      "image/png": "[encoded data removed]",
      "text/plain": [
       "<Figure size 432x288 with 1 Axes>"
      ]
     },
     "metadata": {
      "filenames": {
       "image/png": "/opt/app-root/src/jb/ocp-ci-analysis/_build/jupyter_execute/notebooks/data-sources/TestGrid/metrics/probability_to_fail_37_0.png"
      },
      "needs_background": "light"
     },
     "output_type": "display_data"
    }
   ],
   "source": [
    "# reliability diagram\n",
    "fop, mpv = calibration_curve(testy, probs_test, n_bins=10, normalize=True)\n",
    "# plot perfectly calibrated\n",
    "pyplot.plot([0, 1], [0, 1], linestyle=\"--\")\n",
    "# plot model reliability\n",
    "pyplot.plot(mpv, fop, marker=\".\")\n",
    "pyplot.xlabel(\"Mean predicted Value\")\n",
    "pyplot.ylabel(\"Relative Frequency\")\n",
    "pyplot.title(\"SVM Reliability Diagram\")\n",
    "pyplot.show()"
   ]
  },
  {
   "cell_type": "markdown",
   "id": "74a9dd24",
   "metadata": {},
   "source": [
    "In the above graph, the solid line represents the calibration of the SVMs predicted probabilities and the dotted line represents a comparison to a perfectly calibrated model. The better calibrated or more reliable a forecast, the closer the points will appear along the main diagonal from the bottom left to the top right of the plot. Here, we see that calibration probabilities are much further away from the ideal prediction.\n",
    "\n",
    "The position of the points or the curve relative to the diagonal can help to interpret the probabilities; for example:\n",
    "\n",
    "* *Below the diagonal*: The model has over-forecast; the probabilities are too large.\n",
    "* *Above the diagonal*: The model has under-forecast; the probabilities are too small.\n",
    "\n",
    "Since this graph indicates that the probabilities calculated by SVM are too small, we shall move forward and look in the Calibrated Classification Model."
   ]
  },
  {
   "cell_type": "markdown",
   "id": "46e1744e",
   "metadata": {},
   "source": [
    "#### Calibrated Classification Model\n",
    "\n",
    " - CalibratedClassifierCV class using 5-fold cross-validation, to calibrate the predicted probabilities.\n",
    " - Since the over sampled data resulted in a better accuracy, we will consider this dataset for training the Calibrated Classification Model"
   ]
  },
  {
   "cell_type": "code",
   "execution_count": 22,
   "id": "9ba588fc",
   "metadata": {},
   "outputs": [],
   "source": [
    "## Create X = test_duration and y = pass_or_fail and calculate probabilty for over sampled data.\n",
    "X, y = np.array([df_os[\"test_duration\"].values]), np.array(\n",
    "    [df_os[\"pass_or_fail\"].values]\n",
    ")\n",
    "X = X.reshape(-1, 1)\n",
    "y = y.reshape(-1, 1)\n",
    "\n",
    "# split into train/test sets.\n",
    "trainx, testx, trainy, testy = train_test_split(\n",
    "    X, y, train_size=0.8, test_size=0.2, random_state=42\n",
    ")\n",
    "\n",
    "# fit a Calibrated Classification Model.\n",
    "model = SVC(probability=False)\n",
    "calibrated = CalibratedClassifierCV(model, method=\"isotonic\", cv=5)\n",
    "calibrated.fit(trainx, trainy)\n",
    "\n",
    "# Evaluate model\n",
    "y_pred = calibrated.predict(testx)\n",
    "\n",
    "# predict probabilities.\n",
    "probs_train = calibrated.predict_proba(trainx)[:, 0]\n",
    "probs_test = calibrated.predict_proba(testx)[:, 0]\n",
    "probs = np.append(probs_train, probs_test, axis=None)\n",
    "df_os[\"prob\"] = probs"
   ]
  },
  {
   "cell_type": "markdown",
   "id": "0ef3269a",
   "metadata": {},
   "source": [
    "*NOTE* : The probabilities are not normalized, but can be normalized when calling the `calibration_curve()` function by setting the `normalize` argument to `True`."
   ]
  },
  {
   "cell_type": "code",
   "execution_count": 23,
   "id": "0b9a663f",
   "metadata": {},
   "outputs": [
    {
     "name": "stdout",
     "output_type": "stream",
     "text": [
      "CCM Model accuracy : 0.9146124523506989\n",
      "CCM Brier Score 0.08538754764930115\n",
      "CCM Roc Score 0.9143269806101052\n"
     ]
    }
   ],
   "source": [
    "# Mean accuracy on the given test data and labels.\n",
    "cc_accuracy = calibrated.score(testx, testy)\n",
    "print(\"CCM Model accuracy :\", cc_accuracy)\n",
    "cc_brier = brier_score_loss(testy, y_pred, pos_label=1)\n",
    "print(\"CCM Brier Score\", cc_brier)\n",
    "cc_roc = roc_auc_score(testy, y_pred)\n",
    "print(\"CCM Roc Score\", cc_roc)"
   ]
  },
  {
   "cell_type": "markdown",
   "id": "cd89927e",
   "metadata": {},
   "source": [
    "Brier Score is a distance in the probability domain. Which means: the lower the value of this score, the better the prediction. "
   ]
  },
  {
   "cell_type": "markdown",
   "id": "47a4de4a",
   "metadata": {},
   "source": [
    "The above calculated score is a harsh metric since we require for each sample that each label set be correctly predicted. This does not give us a clear indication of a better model so we will use the reliability diagram to find out the better suited model."
   ]
  },
  {
   "cell_type": "markdown",
   "id": "51138c75",
   "metadata": {},
   "source": [
    "##### Reliability Diagram\n",
    "A reliability diagram is a line plot of the relative frequency of what was observed (y-axis) versus the predicted probability frequency  (x-axis). These plots are commonly referred to as ‘reliability‘ diagrams in forecast literature, although may also be called ‘calibration‘ plots or curves as they summarize how well the forecast probabilities are calibrated.\n",
    "\n",
    "The better calibrated or more reliable a forecast, the closer the points will appear along the main diagonal from the bottom left to the top right of the plot."
   ]
  },
  {
   "cell_type": "code",
   "execution_count": 24,
   "id": "45f042b0",
   "metadata": {},
   "outputs": [
    {
     "data": {
      "image/png": "[encoded data removed]",
      "text/plain": [
       "<Figure size 432x288 with 1 Axes>"
      ]
     },
     "metadata": {
      "filenames": {
       "image/png": "/opt/app-root/src/jb/ocp-ci-analysis/_build/jupyter_execute/notebooks/data-sources/TestGrid/metrics/probability_to_fail_46_0.png"
      },
      "needs_background": "light"
     },
     "output_type": "display_data"
    }
   ],
   "source": [
    "# reliability diagram\n",
    "fop, mpv = calibration_curve(testy, probs_test, n_bins=10, normalize=True)\n",
    "# plot perfectly calibrated\n",
    "pyplot.plot([0, 1], [0, 1], linestyle=\"--\")\n",
    "# plot model reliability\n",
    "pyplot.plot(mpv, fop, marker=\".\")\n",
    "pyplot.xlabel(\"Mean predicted Value\")\n",
    "pyplot.ylabel(\"Relative Frequency\")\n",
    "pyplot.title(\"Calibrated Classification Reliability Diagram\")\n",
    "pyplot.show()"
   ]
  },
  {
   "cell_type": "markdown",
   "id": "d341c4bf",
   "metadata": {},
   "source": [
    "Here, we see that the shape of the calibrated probabilities is different, hugging the diagonal line much better, although still under-forecasting and over-forecasting i.e. the solid line is both above and below the ideal model.\n",
    "\n",
    "Visually, the plot suggests a better calibrated model."
   ]
  },
  {
   "cell_type": "code",
   "execution_count": 25,
   "id": "b646e340",
   "metadata": {},
   "outputs": [],
   "source": [
    "## Store only the valuable columns.\n",
    "combined_df = df_os[[\"timestamp\", \"tab\", \"grid\", \"test\", \"prob\"]]"
   ]
  },
  {
   "cell_type": "markdown",
   "id": "7406bb19",
   "metadata": {},
   "source": [
    "We now have the probabilities for each test likely to fail stored in the column `prob`."
   ]
  },
  {
   "cell_type": "markdown",
   "id": "aae618f3",
   "metadata": {},
   "source": [
    "## Save results to Ceph or locally\n",
    "* Use the following helper function to save the data frame in a parquet format on the Ceph bucket if we are running in automation, and locally if not."
   ]
  },
  {
   "cell_type": "code",
   "execution_count": 26,
   "id": "fe192358",
   "metadata": {
    "ExecuteTime": {
     "end_time": "2021-04-01T15:43:53.427951Z",
     "start_time": "2021-04-01T15:43:51.595971Z"
    }
   },
   "outputs": [],
   "source": [
    "timestamp = datetime.datetime.now()\n",
    "\n",
    "if AUTOMATION:\n",
    "    cc = CephCommunication(s3_endpoint_url, s3_access_key, s3_secret_key, s3_bucket)\n",
    "    cc.upload_to_ceph(\n",
    "        combined_df.head(1000000),\n",
    "        \"s3_path\",\n",
    "        f\"{METRIC_NAME}/{METRIC_NAME}-{timestamp.year}-{timestamp.month}-{timestamp.day}.parquet\",\n",
    "    )\n",
    "else:\n",
    "    save_to_disk(\n",
    "        combined_df.head(1000000),\n",
    "        OUTPUT_DATA_PATH,\n",
    "        f\"{METRIC_NAME}-{timestamp.year}-{timestamp.month}-{timestamp.day}.parquet\",\n",
    "    )"
   ]
  },
  {
   "cell_type": "code",
   "execution_count": 27,
   "id": "2957126c",
   "metadata": {
    "ExecuteTime": {
     "end_time": "2021-04-01T15:43:53.914079Z",
     "start_time": "2021-04-01T15:43:53.429787Z"
    },
    "tags": []
   },
   "outputs": [
    {
     "data": {
      "text/html": [
       "<div>\n",
       "<style scoped>\n",
       "    .dataframe tbody tr th:only-of-type {\n",
       "        vertical-align: middle;\n",
       "    }\n",
       "\n",
       "    .dataframe tbody tr th {\n",
       "        vertical-align: top;\n",
       "    }\n",
       "\n",
       "    .dataframe thead th {\n",
       "        text-align: right;\n",
       "    }\n",
       "</style>\n",
       "<table border=\"1\" class=\"dataframe\">\n",
       "  <thead>\n",
       "    <tr style=\"text-align: right;\">\n",
       "      <th></th>\n",
       "      <th>timestamp</th>\n",
       "      <th>tab</th>\n",
       "      <th>grid</th>\n",
       "      <th>test</th>\n",
       "      <th>prob</th>\n",
       "    </tr>\n",
       "  </thead>\n",
       "  <tbody>\n",
       "    <tr>\n",
       "      <th>0</th>\n",
       "      <td>2021-08-25 19:11:17</td>\n",
       "      <td>\"redhat-assisted-installer\"</td>\n",
       "      <td>periodic-ci-openshift-release-master-nightly-4...</td>\n",
       "      <td>Overall</td>\n",
       "      <td>0.955633</td>\n",
       "    </tr>\n",
       "    <tr>\n",
       "      <th>2</th>\n",
       "      <td>2021-08-25 14:51:42</td>\n",
       "      <td>\"redhat-assisted-installer\"</td>\n",
       "      <td>periodic-ci-openshift-release-master-nightly-4...</td>\n",
       "      <td>Overall</td>\n",
       "      <td>0.000000</td>\n",
       "    </tr>\n",
       "    <tr>\n",
       "      <th>3</th>\n",
       "      <td>2021-08-23 00:01:04</td>\n",
       "      <td>\"redhat-assisted-installer\"</td>\n",
       "      <td>periodic-ci-openshift-release-master-nightly-4...</td>\n",
       "      <td>Overall</td>\n",
       "      <td>0.037275</td>\n",
       "    </tr>\n",
       "    <tr>\n",
       "      <th>4</th>\n",
       "      <td>2021-08-22 08:53:17</td>\n",
       "      <td>\"redhat-assisted-installer\"</td>\n",
       "      <td>periodic-ci-openshift-release-master-nightly-4...</td>\n",
       "      <td>Overall</td>\n",
       "      <td>0.911741</td>\n",
       "    </tr>\n",
       "    <tr>\n",
       "      <th>5</th>\n",
       "      <td>2021-08-20 23:21:32</td>\n",
       "      <td>\"redhat-assisted-installer\"</td>\n",
       "      <td>periodic-ci-openshift-release-master-nightly-4...</td>\n",
       "      <td>Overall</td>\n",
       "      <td>0.132383</td>\n",
       "    </tr>\n",
       "    <tr>\n",
       "      <th>...</th>\n",
       "      <td>...</td>\n",
       "      <td>...</td>\n",
       "      <td>...</td>\n",
       "      <td>...</td>\n",
       "      <td>...</td>\n",
       "    </tr>\n",
       "    <tr>\n",
       "      <th>12</th>\n",
       "      <td>2021-08-16 00:01:05</td>\n",
       "      <td>\"redhat-assisted-installer\"</td>\n",
       "      <td>periodic-ci-openshift-release-master-nightly-4...</td>\n",
       "      <td>Overall</td>\n",
       "      <td>0.132383</td>\n",
       "    </tr>\n",
       "    <tr>\n",
       "      <th>1545</th>\n",
       "      <td>2021-08-16 03:07:16</td>\n",
       "      <td>\"redhat-assisted-installer\"</td>\n",
       "      <td>periodic-ci-openshift-release-master-nightly-4...</td>\n",
       "      <td>TestInstall_test_install.start_install_and_wai...</td>\n",
       "      <td>0.955633</td>\n",
       "    </tr>\n",
       "    <tr>\n",
       "      <th>1547</th>\n",
       "      <td>2021-08-13 04:53:07</td>\n",
       "      <td>\"redhat-assisted-installer\"</td>\n",
       "      <td>periodic-ci-openshift-release-master-nightly-4...</td>\n",
       "      <td>TestInstall_test_install.start_install_and_wai...</td>\n",
       "      <td>0.037275</td>\n",
       "    </tr>\n",
       "    <tr>\n",
       "      <th>1509</th>\n",
       "      <td>2021-08-11 20:45:05</td>\n",
       "      <td>\"redhat-assisted-installer\"</td>\n",
       "      <td>periodic-ci-openshift-release-master-nightly-4...</td>\n",
       "      <td>Overall</td>\n",
       "      <td>0.000000</td>\n",
       "    </tr>\n",
       "    <tr>\n",
       "      <th>8141</th>\n",
       "      <td>2021-08-19 15:58:19</td>\n",
       "      <td>\"redhat-assisted-installer\"</td>\n",
       "      <td>periodic-ci-openshift-release-master-nightly-4...</td>\n",
       "      <td>Overall</td>\n",
       "      <td>0.955633</td>\n",
       "    </tr>\n",
       "  </tbody>\n",
       "</table>\n",
       "<p>19674 rows × 5 columns</p>\n",
       "</div>"
      ],
      "text/plain": [
       "               timestamp                          tab  \\\n",
       "0    2021-08-25 19:11:17  \"redhat-assisted-installer\"   \n",
       "2    2021-08-25 14:51:42  \"redhat-assisted-installer\"   \n",
       "3    2021-08-23 00:01:04  \"redhat-assisted-installer\"   \n",
       "4    2021-08-22 08:53:17  \"redhat-assisted-installer\"   \n",
       "5    2021-08-20 23:21:32  \"redhat-assisted-installer\"   \n",
       "...                  ...                          ...   \n",
       "12   2021-08-16 00:01:05  \"redhat-assisted-installer\"   \n",
       "1545 2021-08-16 03:07:16  \"redhat-assisted-installer\"   \n",
       "1547 2021-08-13 04:53:07  \"redhat-assisted-installer\"   \n",
       "1509 2021-08-11 20:45:05  \"redhat-assisted-installer\"   \n",
       "8141 2021-08-19 15:58:19  \"redhat-assisted-installer\"   \n",
       "\n",
       "                                                   grid  \\\n",
       "0     periodic-ci-openshift-release-master-nightly-4...   \n",
       "2     periodic-ci-openshift-release-master-nightly-4...   \n",
       "3     periodic-ci-openshift-release-master-nightly-4...   \n",
       "4     periodic-ci-openshift-release-master-nightly-4...   \n",
       "5     periodic-ci-openshift-release-master-nightly-4...   \n",
       "...                                                 ...   \n",
       "12    periodic-ci-openshift-release-master-nightly-4...   \n",
       "1545  periodic-ci-openshift-release-master-nightly-4...   \n",
       "1547  periodic-ci-openshift-release-master-nightly-4...   \n",
       "1509  periodic-ci-openshift-release-master-nightly-4...   \n",
       "8141  periodic-ci-openshift-release-master-nightly-4...   \n",
       "\n",
       "                                                   test      prob  \n",
       "0                                               Overall  0.955633  \n",
       "2                                               Overall  0.000000  \n",
       "3                                               Overall  0.037275  \n",
       "4                                               Overall  0.911741  \n",
       "5                                               Overall  0.132383  \n",
       "...                                                 ...       ...  \n",
       "12                                              Overall  0.132383  \n",
       "1545  TestInstall_test_install.start_install_and_wai...  0.955633  \n",
       "1547  TestInstall_test_install.start_install_and_wai...  0.037275  \n",
       "1509                                            Overall  0.000000  \n",
       "8141                                            Overall  0.955633  \n",
       "\n",
       "[19674 rows x 5 columns]"
      ]
     },
     "execution_count": 27,
     "metadata": {},
     "output_type": "execute_result"
    }
   ],
   "source": [
    "## Sanity check to see if the dataset is the same\n",
    "if AUTOMATION:\n",
    "    sanity_check = cc.read_from_ceph(\n",
    "        \"s3_path\",\n",
    "        f\"{METRIC_NAME}/{METRIC_NAME}-{timestamp.year}-{timestamp.month}-{timestamp.day}.parquet\",\n",
    "    )\n",
    "else:\n",
    "    sanity_check = read_from_disk(\n",
    "        OUTPUT_DATA_PATH,\n",
    "        f\"{METRIC_NAME}-{timestamp.year}-{timestamp.month}-{timestamp.day}.parquet\",\n",
    "    )\n",
    "\n",
    "sanity_check"
   ]
  },
  {
   "cell_type": "markdown",
   "id": "24483935",
   "metadata": {},
   "source": [
    "## Conclusion : \n",
    "\n",
    "In this notebook, we calculated for a given moment in time, what is the probability that a test will fail. Using this information, we plan to build a model that uses the probability to fail value to predict the time to failure, that is how many days, weeks, months, hours, minutes or seconds do you have until the test in question stops working. As next steps, we plan to work on this [issue](https://github.com/aicoe-aiops/ocp-ci-analysis/issues/226)."
   ]
  }
 ],
 "metadata": {
  "kernelspec": {
   "display_name": "Python 3",
   "language": "python",
   "name": "python3"
  },
  "language_info": {
   "codemirror_mode": {
    "name": "ipython",
    "version": 3
   },
   "file_extension": ".py",
   "mimetype": "text/x-python",
   "name": "python",
   "nbconvert_exporter": "python",
   "pygments_lexer": "ipython3",
   "version": "3.8.3"
  }
 },
 "nbformat": 4,
 "nbformat_minor": 5
}