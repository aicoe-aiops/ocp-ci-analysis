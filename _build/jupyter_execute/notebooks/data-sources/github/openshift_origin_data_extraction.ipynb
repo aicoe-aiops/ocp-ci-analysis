{
 "cells": [
  {
   "cell_type": "markdown",
   "id": "57bd5960-f9aa-478e-a53b-340def09056f",
   "metadata": {},
   "source": [
    "# OpenShift Origin PR Data Extraction\n",
    "\n",
    "In this notebook, we will collect the raw Pull Request data from the [OpenShift Origin](https://github.com/openshift/origin) github repo, and save it as a json file on an s3 bucket. To do this, we will use the `srcopsmetrics` tool developed by the Thoth team."
   ]
  },
  {
   "cell_type": "code",
   "execution_count": 1,
   "id": "60e22449-72ec-41dc-85a8-70a90a1f577e",
   "metadata": {},
   "outputs": [
    {
     "data": {
      "text/plain": [
       "True"
      ]
     },
     "execution_count": 1,
     "metadata": {},
     "output_type": "execute_result"
    }
   ],
   "source": [
    "import os\n",
    "from dotenv import find_dotenv, load_dotenv\n",
    "\n",
    "load_dotenv(find_dotenv())"
   ]
  },
  {
   "cell_type": "code",
   "execution_count": 2,
   "id": "5f9cfe48-5a28-4338-bd5e-9a1e2844cd6f",
   "metadata": {},
   "outputs": [
    {
     "name": "stdout",
     "output_type": "stream",
     "text": [
      "openshift/origin\n"
     ]
    }
   ],
   "source": [
    "# get the org/repo from env vars\n",
    "ORG = os.environ[\"GITHUB_ORG\"]\n",
    "REPO = os.environ[\"GITHUB_REPO\"]\n",
    "\n",
    "print(f\"{ORG}/{REPO}\")"
   ]
  },
  {
   "cell_type": "code",
   "execution_count": null,
   "id": "c8794a79-61a1-48b3-9a26-af31086fe622",
   "metadata": {},
   "outputs": [],
   "source": [
    "# run collection on the org/repo specified\n",
    "!python -m srcopsmetrics.cli --create-knowledge --repository $ORG/$REPO --entities PullRequest"
   ]
  },
  {
   "cell_type": "markdown",
   "id": "3d8e43a6-ea8c-4b15-9f21-85561c043514",
   "metadata": {},
   "source": [
    "# Conclusion\n",
    "\n",
    "By running this notebook we have collected and stored the github PR data to our s3 bucket. It is now ready for the cleaning and feature engineering steps of the ML workflow."
   ]
  }
 ],
 "metadata": {
  "kernelspec": {
   "display_name": "Python 3 (ipykernel)",
   "language": "python",
   "name": "python3"
  },
  "language_info": {
   "codemirror_mode": {
    "name": "ipython",
    "version": 3
   },
   "file_extension": ".py",
   "mimetype": "text/x-python",
   "name": "python",
   "nbconvert_exporter": "python",
   "pygments_lexer": "ipython3",
   "version": "3.8.8"
  }
 },
 "nbformat": 4,
 "nbformat_minor": 5
}