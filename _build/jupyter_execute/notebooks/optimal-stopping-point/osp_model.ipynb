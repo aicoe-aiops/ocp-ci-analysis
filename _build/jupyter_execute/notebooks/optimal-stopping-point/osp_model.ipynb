{
 "cells": [
  {
   "cell_type": "markdown",
   "id": "383e026e-98e8-4ba4-b20b-49f6d1edfb0e",
   "metadata": {},
   "source": [
    "# Optimal Stopping Point for CI Tests\n",
    "\n",
    "One of the machine learning explorations within the OpenShift CI Analysis project is predicting optimal stopping point for CI tests based on their test duration (runtimes) (see this [issue](https://github.com/aicoe-aiops/ocp-ci-analysis/issues/226) for more details). In a previous [notebook](../data-sources/TestGrid/metrics/time_to_fail.ipynb) we showed how to access the TestGrid data, and then performed initial data analysis as well as feature engineering on it. Furthermore, we also calculated the optimal stopping point by identifying the distribution of the `test_duration` values for different CI tests and comparing the distributions of passing/failing tests.\n",
    "\n",
    "In this notebook, we will detect the optimal stopping point for different CI tests taken as inputs."
   ]
  },
  {
   "cell_type": "code",
   "execution_count": 1,
   "id": "b71f1da5-ae19-48be-a6f4-7ba4418b88ee",
   "metadata": {},
   "outputs": [],
   "source": [
    "## Import libraries\n",
    "import os\n",
    "import gzip\n",
    "import json\n",
    "import datetime\n",
    "import itertools\n",
    "import scipy  # noqa F401\n",
    "from scipy.stats import (  # noqa F401\n",
    "    invgauss,\n",
    "    lognorm,\n",
    "    pearson3,\n",
    "    weibull_min,\n",
    "    triang,\n",
    "    beta,\n",
    "    norm,\n",
    "    weibull_max,\n",
    "    uniform,\n",
    "    gamma,\n",
    "    expon,\n",
    ")\n",
    "\n",
    "from ipynb.fs.defs.osp_helper_functions import (\n",
    "    CephCommunication,\n",
    "    fit_distribution,\n",
    "    standardize,\n",
    "    filter_test_type,\n",
    "    fetch_all_tests,\n",
    "    best_distribution,\n",
    "    optimal_stopping_point,\n",
    ")\n",
    "import warnings\n",
    "\n",
    "warnings.filterwarnings(\"ignore\")"
   ]
  },
  {
   "cell_type": "markdown",
   "id": "5f071faf-1a4d-499b-adfb-a0f7dddc5f2d",
   "metadata": {},
   "source": [
    "## Ceph \n",
    "Connection to Ceph for importing the TestGrid data"
   ]
  },
  {
   "cell_type": "code",
   "execution_count": 2,
   "id": "618fe73c-9d74-461a-af41-dddf3eca1f98",
   "metadata": {},
   "outputs": [],
   "source": [
    "## Specify variables\n",
    "METRIC_NAME = \"time_to_fail\"\n",
    "\n",
    "# Specify the path for input grid data\n",
    "INPUT_DATA_PATH = \"../../data/raw/testgrid_258.json.gz\"\n",
    "\n",
    "# Specify the path for output metric data\n",
    "OUTPUT_DATA_PATH = f\"../../../../data/processed/metrics/{METRIC_NAME}\"\n",
    "\n",
    "## CEPH Bucket variables\n",
    "## Create a .env file on your local with the correct configs\n",
    "s3_endpoint_url = os.getenv(\"S3_ENDPOINT\")\n",
    "s3_access_key = os.getenv(\"S3_ACCESS_KEY\")\n",
    "s3_secret_key = os.getenv(\"S3_SECRET_KEY\")\n",
    "s3_bucket = os.getenv(\"S3_BUCKET\")\n",
    "s3_path = os.getenv(\"S3_PROJECT_KEY\", \"metrics\")\n",
    "s3_input_data_path = \"raw_data\"\n",
    "\n",
    "# Specify whether or not we are running this as a notebook or part of an automation pipeline.\n",
    "AUTOMATION = os.getenv(\"IN_AUTOMATION\")"
   ]
  },
  {
   "cell_type": "code",
   "execution_count": 3,
   "id": "45b4b0cf-517a-44b9-b93f-1fc307dec23d",
   "metadata": {},
   "outputs": [],
   "source": [
    "## Import data\n",
    "timestamp = datetime.datetime.today()\n",
    "\n",
    "if AUTOMATION:\n",
    "    filename = f\"testgrid_{timestamp.day}{timestamp.month}.json\"\n",
    "    cc = CephCommunication(s3_endpoint_url, s3_access_key, s3_secret_key, s3_bucket)\n",
    "    s3_object = cc.s3_resource.Object(s3_bucket, f\"{s3_input_data_path}/{filename}\")\n",
    "    file_content = s3_object.get()[\"Body\"].read().decode(\"utf-8\")\n",
    "    testgrid_data = json.loads(file_content)\n",
    "\n",
    "else:\n",
    "    with gzip.open(INPUT_DATA_PATH, \"rb\") as read_file:\n",
    "        testgrid_data = json.load(read_file)"
   ]
  },
  {
   "cell_type": "markdown",
   "id": "d91fe693-9bdf-486c-add5-de0fc0e8cb16",
   "metadata": {},
   "source": [
    "## Fetch all tests \n",
    "\n",
    "Using the function `fetch_all_tests`, we will fetch all passing and failing tests into two dataframes."
   ]
  },
  {
   "cell_type": "code",
   "execution_count": 4,
   "id": "cd25198c-3b5f-462d-a3e8-79a5305c3b7f",
   "metadata": {},
   "outputs": [],
   "source": [
    "# Fetch all failing tests i.e which have a status code of 12\n",
    "failures_df = fetch_all_tests(testgrid_data, 12)"
   ]
  },
  {
   "cell_type": "code",
   "execution_count": 5,
   "id": "0db4789c-b597-4ad0-8368-6c41415f3a11",
   "metadata": {},
   "outputs": [
    {
     "data": {
      "text/html": [
       "<div>\n",
       "<style scoped>\n",
       "    .dataframe tbody tr th:only-of-type {\n",
       "        vertical-align: middle;\n",
       "    }\n",
       "\n",
       "    .dataframe tbody tr th {\n",
       "        vertical-align: top;\n",
       "    }\n",
       "\n",
       "    .dataframe thead th {\n",
       "        text-align: right;\n",
       "    }\n",
       "</style>\n",
       "<table border=\"1\" class=\"dataframe\">\n",
       "  <thead>\n",
       "    <tr style=\"text-align: right;\">\n",
       "      <th></th>\n",
       "      <th>timestamp</th>\n",
       "      <th>tab</th>\n",
       "      <th>grid</th>\n",
       "      <th>test</th>\n",
       "      <th>test_duration</th>\n",
       "      <th>failure/passing</th>\n",
       "    </tr>\n",
       "  </thead>\n",
       "  <tbody>\n",
       "    <tr>\n",
       "      <th>8</th>\n",
       "      <td>2021-08-16 23:03:14</td>\n",
       "      <td>\"redhat-assisted-installer\"</td>\n",
       "      <td>periodic-ci-openshift-release-master-nightly-4...</td>\n",
       "      <td>Overall</td>\n",
       "      <td>20.016667</td>\n",
       "      <td>True</td>\n",
       "    </tr>\n",
       "    <tr>\n",
       "      <th>10</th>\n",
       "      <td>2021-08-16 00:01:05</td>\n",
       "      <td>\"redhat-assisted-installer\"</td>\n",
       "      <td>periodic-ci-openshift-release-master-nightly-4...</td>\n",
       "      <td>Overall</td>\n",
       "      <td>108.233333</td>\n",
       "      <td>True</td>\n",
       "    </tr>\n",
       "    <tr>\n",
       "      <th>22</th>\n",
       "      <td>2021-08-16 23:03:14</td>\n",
       "      <td>\"redhat-assisted-installer\"</td>\n",
       "      <td>periodic-ci-openshift-release-master-nightly-4...</td>\n",
       "      <td>operator.Run multi-stage test e2e-metal-assist...</td>\n",
       "      <td>13.166667</td>\n",
       "      <td>True</td>\n",
       "    </tr>\n",
       "    <tr>\n",
       "      <th>24</th>\n",
       "      <td>2021-08-16 00:01:05</td>\n",
       "      <td>\"redhat-assisted-installer\"</td>\n",
       "      <td>periodic-ci-openshift-release-master-nightly-4...</td>\n",
       "      <td>operator.Run multi-stage test e2e-metal-assist...</td>\n",
       "      <td>89.983333</td>\n",
       "      <td>True</td>\n",
       "    </tr>\n",
       "    <tr>\n",
       "      <th>38</th>\n",
       "      <td>2021-08-16 00:01:05</td>\n",
       "      <td>\"redhat-assisted-installer\"</td>\n",
       "      <td>periodic-ci-openshift-release-master-nightly-4...</td>\n",
       "      <td>TestInstall_test_install.start_install_and_wai...</td>\n",
       "      <td>60.004001</td>\n",
       "      <td>True</td>\n",
       "    </tr>\n",
       "  </tbody>\n",
       "</table>\n",
       "</div>"
      ],
      "text/plain": [
       "             timestamp                          tab  \\\n",
       "8  2021-08-16 23:03:14  \"redhat-assisted-installer\"   \n",
       "10 2021-08-16 00:01:05  \"redhat-assisted-installer\"   \n",
       "22 2021-08-16 23:03:14  \"redhat-assisted-installer\"   \n",
       "24 2021-08-16 00:01:05  \"redhat-assisted-installer\"   \n",
       "38 2021-08-16 00:01:05  \"redhat-assisted-installer\"   \n",
       "\n",
       "                                                 grid  \\\n",
       "8   periodic-ci-openshift-release-master-nightly-4...   \n",
       "10  periodic-ci-openshift-release-master-nightly-4...   \n",
       "22  periodic-ci-openshift-release-master-nightly-4...   \n",
       "24  periodic-ci-openshift-release-master-nightly-4...   \n",
       "38  periodic-ci-openshift-release-master-nightly-4...   \n",
       "\n",
       "                                                 test  test_duration  \\\n",
       "8                                             Overall      20.016667   \n",
       "10                                            Overall     108.233333   \n",
       "22  operator.Run multi-stage test e2e-metal-assist...      13.166667   \n",
       "24  operator.Run multi-stage test e2e-metal-assist...      89.983333   \n",
       "38  TestInstall_test_install.start_install_and_wai...      60.004001   \n",
       "\n",
       "    failure/passing  \n",
       "8              True  \n",
       "10             True  \n",
       "22             True  \n",
       "24             True  \n",
       "38             True  "
      ]
     },
     "execution_count": 5,
     "metadata": {},
     "output_type": "execute_result"
    }
   ],
   "source": [
    "failures_df.head()"
   ]
  },
  {
   "cell_type": "code",
   "execution_count": 6,
   "id": "4561aac9-b7ef-4f90-bba7-0b2e74a90590",
   "metadata": {},
   "outputs": [],
   "source": [
    "# Fetch all passing tests i.e which have a status code of 1\n",
    "passing_df = fetch_all_tests(testgrid_data, 1)"
   ]
  },
  {
   "cell_type": "code",
   "execution_count": 7,
   "id": "7e6a4391-959d-400e-ba97-4f96e2e7f2e6",
   "metadata": {},
   "outputs": [
    {
     "data": {
      "text/html": [
       "<div>\n",
       "<style scoped>\n",
       "    .dataframe tbody tr th:only-of-type {\n",
       "        vertical-align: middle;\n",
       "    }\n",
       "\n",
       "    .dataframe tbody tr th {\n",
       "        vertical-align: top;\n",
       "    }\n",
       "\n",
       "    .dataframe thead th {\n",
       "        text-align: right;\n",
       "    }\n",
       "</style>\n",
       "<table border=\"1\" class=\"dataframe\">\n",
       "  <thead>\n",
       "    <tr style=\"text-align: right;\">\n",
       "      <th></th>\n",
       "      <th>timestamp</th>\n",
       "      <th>tab</th>\n",
       "      <th>grid</th>\n",
       "      <th>test</th>\n",
       "      <th>test_duration</th>\n",
       "      <th>failure/passing</th>\n",
       "    </tr>\n",
       "  </thead>\n",
       "  <tbody>\n",
       "    <tr>\n",
       "      <th>1</th>\n",
       "      <td>2021-08-23 00:01:04</td>\n",
       "      <td>\"redhat-assisted-installer\"</td>\n",
       "      <td>periodic-ci-openshift-release-master-nightly-4...</td>\n",
       "      <td>Overall</td>\n",
       "      <td>95.300000</td>\n",
       "      <td>True</td>\n",
       "    </tr>\n",
       "    <tr>\n",
       "      <th>2</th>\n",
       "      <td>2021-08-22 08:53:17</td>\n",
       "      <td>\"redhat-assisted-installer\"</td>\n",
       "      <td>periodic-ci-openshift-release-master-nightly-4...</td>\n",
       "      <td>Overall</td>\n",
       "      <td>101.800000</td>\n",
       "      <td>True</td>\n",
       "    </tr>\n",
       "    <tr>\n",
       "      <th>3</th>\n",
       "      <td>2021-08-20 23:21:32</td>\n",
       "      <td>\"redhat-assisted-installer\"</td>\n",
       "      <td>periodic-ci-openshift-release-master-nightly-4...</td>\n",
       "      <td>Overall</td>\n",
       "      <td>134.833333</td>\n",
       "      <td>True</td>\n",
       "    </tr>\n",
       "    <tr>\n",
       "      <th>4</th>\n",
       "      <td>2021-08-20 15:57:36</td>\n",
       "      <td>\"redhat-assisted-installer\"</td>\n",
       "      <td>periodic-ci-openshift-release-master-nightly-4...</td>\n",
       "      <td>Overall</td>\n",
       "      <td>109.833333</td>\n",
       "      <td>True</td>\n",
       "    </tr>\n",
       "    <tr>\n",
       "      <th>5</th>\n",
       "      <td>2021-08-20 06:47:40</td>\n",
       "      <td>\"redhat-assisted-installer\"</td>\n",
       "      <td>periodic-ci-openshift-release-master-nightly-4...</td>\n",
       "      <td>Overall</td>\n",
       "      <td>94.800000</td>\n",
       "      <td>True</td>\n",
       "    </tr>\n",
       "  </tbody>\n",
       "</table>\n",
       "</div>"
      ],
      "text/plain": [
       "            timestamp                          tab  \\\n",
       "1 2021-08-23 00:01:04  \"redhat-assisted-installer\"   \n",
       "2 2021-08-22 08:53:17  \"redhat-assisted-installer\"   \n",
       "3 2021-08-20 23:21:32  \"redhat-assisted-installer\"   \n",
       "4 2021-08-20 15:57:36  \"redhat-assisted-installer\"   \n",
       "5 2021-08-20 06:47:40  \"redhat-assisted-installer\"   \n",
       "\n",
       "                                                grid     test  test_duration  \\\n",
       "1  periodic-ci-openshift-release-master-nightly-4...  Overall      95.300000   \n",
       "2  periodic-ci-openshift-release-master-nightly-4...  Overall     101.800000   \n",
       "3  periodic-ci-openshift-release-master-nightly-4...  Overall     134.833333   \n",
       "4  periodic-ci-openshift-release-master-nightly-4...  Overall     109.833333   \n",
       "5  periodic-ci-openshift-release-master-nightly-4...  Overall      94.800000   \n",
       "\n",
       "   failure/passing  \n",
       "1             True  \n",
       "2             True  \n",
       "3             True  \n",
       "4             True  \n",
       "5             True  "
      ]
     },
     "execution_count": 7,
     "metadata": {},
     "output_type": "execute_result"
    }
   ],
   "source": [
    "passing_df.head()"
   ]
  },
  {
   "cell_type": "markdown",
   "id": "770b1211-4990-47ad-9d30-02baaad5d5da",
   "metadata": {},
   "source": [
    "## Filter tests\n",
    "\n",
    "After collecting the data for all passing and failing tests, we will move towards narrowing down to one test for which we would want to calculate the optimal stopping point. We will be using the test - `operator.Run multi-stage test e2e-aws-upgrade - e2e-aws-upgrade-openshift-e2e-test container test` and extract the data for this test."
   ]
  },
  {
   "cell_type": "code",
   "execution_count": 8,
   "id": "e2a8c74f-66db-4639-a6f6-019f91758e04",
   "metadata": {},
   "outputs": [
    {
     "data": {
      "text/html": [
       "<div>\n",
       "<style scoped>\n",
       "    .dataframe tbody tr th:only-of-type {\n",
       "        vertical-align: middle;\n",
       "    }\n",
       "\n",
       "    .dataframe tbody tr th {\n",
       "        vertical-align: top;\n",
       "    }\n",
       "\n",
       "    .dataframe thead th {\n",
       "        text-align: right;\n",
       "    }\n",
       "</style>\n",
       "<table border=\"1\" class=\"dataframe\">\n",
       "  <thead>\n",
       "    <tr style=\"text-align: right;\">\n",
       "      <th></th>\n",
       "      <th>timestamp</th>\n",
       "      <th>tab</th>\n",
       "      <th>grid</th>\n",
       "      <th>test</th>\n",
       "      <th>test_duration</th>\n",
       "      <th>failure/passing</th>\n",
       "    </tr>\n",
       "  </thead>\n",
       "  <tbody>\n",
       "    <tr>\n",
       "      <th>0</th>\n",
       "      <td>2021-08-25 12:17:53</td>\n",
       "      <td>\"redhat-openshift-informing\"</td>\n",
       "      <td>release-openshift-okd-installer-e2e-aws-upgrade</td>\n",
       "      <td>operator.Run multi-stage test e2e-aws-upgrade ...</td>\n",
       "      <td>85.866667</td>\n",
       "      <td>True</td>\n",
       "    </tr>\n",
       "    <tr>\n",
       "      <th>1</th>\n",
       "      <td>2021-08-25 10:30:05</td>\n",
       "      <td>\"redhat-openshift-informing\"</td>\n",
       "      <td>release-openshift-okd-installer-e2e-aws-upgrade</td>\n",
       "      <td>operator.Run multi-stage test e2e-aws-upgrade ...</td>\n",
       "      <td>91.916667</td>\n",
       "      <td>True</td>\n",
       "    </tr>\n",
       "    <tr>\n",
       "      <th>2</th>\n",
       "      <td>2021-08-25 04:41:24</td>\n",
       "      <td>\"redhat-openshift-informing\"</td>\n",
       "      <td>release-openshift-okd-installer-e2e-aws-upgrade</td>\n",
       "      <td>operator.Run multi-stage test e2e-aws-upgrade ...</td>\n",
       "      <td>101.133333</td>\n",
       "      <td>True</td>\n",
       "    </tr>\n",
       "    <tr>\n",
       "      <th>3</th>\n",
       "      <td>2021-08-24 20:03:02</td>\n",
       "      <td>\"redhat-openshift-informing\"</td>\n",
       "      <td>release-openshift-okd-installer-e2e-aws-upgrade</td>\n",
       "      <td>operator.Run multi-stage test e2e-aws-upgrade ...</td>\n",
       "      <td>98.450000</td>\n",
       "      <td>True</td>\n",
       "    </tr>\n",
       "    <tr>\n",
       "      <th>4</th>\n",
       "      <td>2021-08-24 04:35:23</td>\n",
       "      <td>\"redhat-openshift-informing\"</td>\n",
       "      <td>release-openshift-okd-installer-e2e-aws-upgrade</td>\n",
       "      <td>operator.Run multi-stage test e2e-aws-upgrade ...</td>\n",
       "      <td>93.216667</td>\n",
       "      <td>True</td>\n",
       "    </tr>\n",
       "  </tbody>\n",
       "</table>\n",
       "</div>"
      ],
      "text/plain": [
       "            timestamp                           tab  \\\n",
       "0 2021-08-25 12:17:53  \"redhat-openshift-informing\"   \n",
       "1 2021-08-25 10:30:05  \"redhat-openshift-informing\"   \n",
       "2 2021-08-25 04:41:24  \"redhat-openshift-informing\"   \n",
       "3 2021-08-24 20:03:02  \"redhat-openshift-informing\"   \n",
       "4 2021-08-24 04:35:23  \"redhat-openshift-informing\"   \n",
       "\n",
       "                                              grid  \\\n",
       "0  release-openshift-okd-installer-e2e-aws-upgrade   \n",
       "1  release-openshift-okd-installer-e2e-aws-upgrade   \n",
       "2  release-openshift-okd-installer-e2e-aws-upgrade   \n",
       "3  release-openshift-okd-installer-e2e-aws-upgrade   \n",
       "4  release-openshift-okd-installer-e2e-aws-upgrade   \n",
       "\n",
       "                                                test  test_duration  \\\n",
       "0  operator.Run multi-stage test e2e-aws-upgrade ...      85.866667   \n",
       "1  operator.Run multi-stage test e2e-aws-upgrade ...      91.916667   \n",
       "2  operator.Run multi-stage test e2e-aws-upgrade ...     101.133333   \n",
       "3  operator.Run multi-stage test e2e-aws-upgrade ...      98.450000   \n",
       "4  operator.Run multi-stage test e2e-aws-upgrade ...      93.216667   \n",
       "\n",
       "   failure/passing  \n",
       "0             True  \n",
       "1             True  \n",
       "2             True  \n",
       "3             True  \n",
       "4             True  "
      ]
     },
     "execution_count": 8,
     "metadata": {},
     "output_type": "execute_result"
    }
   ],
   "source": [
    "failures_test = filter_test_type(\n",
    "    failures_df,\n",
    "    \"operator.Run multi-stage test e2e-aws-upgrade - e2e-aws-upgrade-openshift-e2e-test container test\",\n",
    ")\n",
    "failures_test.head()"
   ]
  },
  {
   "cell_type": "code",
   "execution_count": 9,
   "id": "3ae38dca-7bdd-4842-ad1f-8a3f176fc956",
   "metadata": {},
   "outputs": [
    {
     "data": {
      "text/html": [
       "<div>\n",
       "<style scoped>\n",
       "    .dataframe tbody tr th:only-of-type {\n",
       "        vertical-align: middle;\n",
       "    }\n",
       "\n",
       "    .dataframe tbody tr th {\n",
       "        vertical-align: top;\n",
       "    }\n",
       "\n",
       "    .dataframe thead th {\n",
       "        text-align: right;\n",
       "    }\n",
       "</style>\n",
       "<table border=\"1\" class=\"dataframe\">\n",
       "  <thead>\n",
       "    <tr style=\"text-align: right;\">\n",
       "      <th></th>\n",
       "      <th>timestamp</th>\n",
       "      <th>tab</th>\n",
       "      <th>grid</th>\n",
       "      <th>test</th>\n",
       "      <th>test_duration</th>\n",
       "      <th>failure/passing</th>\n",
       "    </tr>\n",
       "  </thead>\n",
       "  <tbody>\n",
       "    <tr>\n",
       "      <th>0</th>\n",
       "      <td>2021-08-25 13:06:02</td>\n",
       "      <td>\"redhat-openshift-informing\"</td>\n",
       "      <td>release-openshift-okd-installer-e2e-aws-upgrade</td>\n",
       "      <td>operator.Run multi-stage test e2e-aws-upgrade ...</td>\n",
       "      <td>101.250000</td>\n",
       "      <td>True</td>\n",
       "    </tr>\n",
       "    <tr>\n",
       "      <th>1</th>\n",
       "      <td>2021-08-25 07:15:39</td>\n",
       "      <td>\"redhat-openshift-informing\"</td>\n",
       "      <td>release-openshift-okd-installer-e2e-aws-upgrade</td>\n",
       "      <td>operator.Run multi-stage test e2e-aws-upgrade ...</td>\n",
       "      <td>94.283333</td>\n",
       "      <td>True</td>\n",
       "    </tr>\n",
       "    <tr>\n",
       "      <th>2</th>\n",
       "      <td>2021-08-25 06:08:52</td>\n",
       "      <td>\"redhat-openshift-informing\"</td>\n",
       "      <td>release-openshift-okd-installer-e2e-aws-upgrade</td>\n",
       "      <td>operator.Run multi-stage test e2e-aws-upgrade ...</td>\n",
       "      <td>90.316667</td>\n",
       "      <td>True</td>\n",
       "    </tr>\n",
       "    <tr>\n",
       "      <th>3</th>\n",
       "      <td>2021-08-25 02:54:53</td>\n",
       "      <td>\"redhat-openshift-informing\"</td>\n",
       "      <td>release-openshift-okd-installer-e2e-aws-upgrade</td>\n",
       "      <td>operator.Run multi-stage test e2e-aws-upgrade ...</td>\n",
       "      <td>93.866667</td>\n",
       "      <td>True</td>\n",
       "    </tr>\n",
       "    <tr>\n",
       "      <th>4</th>\n",
       "      <td>2021-08-24 22:40:00</td>\n",
       "      <td>\"redhat-openshift-informing\"</td>\n",
       "      <td>release-openshift-okd-installer-e2e-aws-upgrade</td>\n",
       "      <td>operator.Run multi-stage test e2e-aws-upgrade ...</td>\n",
       "      <td>92.900000</td>\n",
       "      <td>True</td>\n",
       "    </tr>\n",
       "  </tbody>\n",
       "</table>\n",
       "</div>"
      ],
      "text/plain": [
       "            timestamp                           tab  \\\n",
       "0 2021-08-25 13:06:02  \"redhat-openshift-informing\"   \n",
       "1 2021-08-25 07:15:39  \"redhat-openshift-informing\"   \n",
       "2 2021-08-25 06:08:52  \"redhat-openshift-informing\"   \n",
       "3 2021-08-25 02:54:53  \"redhat-openshift-informing\"   \n",
       "4 2021-08-24 22:40:00  \"redhat-openshift-informing\"   \n",
       "\n",
       "                                              grid  \\\n",
       "0  release-openshift-okd-installer-e2e-aws-upgrade   \n",
       "1  release-openshift-okd-installer-e2e-aws-upgrade   \n",
       "2  release-openshift-okd-installer-e2e-aws-upgrade   \n",
       "3  release-openshift-okd-installer-e2e-aws-upgrade   \n",
       "4  release-openshift-okd-installer-e2e-aws-upgrade   \n",
       "\n",
       "                                                test  test_duration  \\\n",
       "0  operator.Run multi-stage test e2e-aws-upgrade ...     101.250000   \n",
       "1  operator.Run multi-stage test e2e-aws-upgrade ...      94.283333   \n",
       "2  operator.Run multi-stage test e2e-aws-upgrade ...      90.316667   \n",
       "3  operator.Run multi-stage test e2e-aws-upgrade ...      93.866667   \n",
       "4  operator.Run multi-stage test e2e-aws-upgrade ...      92.900000   \n",
       "\n",
       "   failure/passing  \n",
       "0             True  \n",
       "1             True  \n",
       "2             True  \n",
       "3             True  \n",
       "4             True  "
      ]
     },
     "execution_count": 9,
     "metadata": {},
     "output_type": "execute_result"
    }
   ],
   "source": [
    "passing_test = filter_test_type(\n",
    "    passing_df,\n",
    "    \"operator.Run multi-stage test e2e-aws-upgrade - e2e-aws-upgrade-openshift-e2e-test container test\",\n",
    ")\n",
    "passing_test.head()"
   ]
  },
  {
   "cell_type": "markdown",
   "id": "3921f07b-1a82-41b2-af5f-8fe6e64cd3b9",
   "metadata": {},
   "source": [
    "## Fit Distribution\n",
    "\n",
    "After extracting the data for one test, we would want to find the best distribution to perform optimal stopping point calculation. We find chi square and p-values to find the best distribution."
   ]
  },
  {
   "cell_type": "code",
   "execution_count": 10,
   "id": "d083d806-6c7b-4b50-ae7f-4f9393eb5343",
   "metadata": {},
   "outputs": [
    {
     "name": "stdout",
     "output_type": "stream",
     "text": [
      "\n",
      "Distributions listed by Betterment of fit:\n",
      "............................................\n",
      "   Distribution     chi_square and p-value\n",
      "3          beta  (2148.0315961744586, 0.0)\n",
      "9      pearson3   (2150.964892187448, 0.0)\n",
      "1          norm   (2178.439189095538, 0.0)\n",
      "8       lognorm   (2190.171386750302, 0.0)\n",
      "6         gamma  (2251.5768352345144, 0.0)\n",
      "0   weibull_min  (2335.2881528000057, 0.0)\n",
      "2   weibull_max  (2436.7340969950874, 0.0)\n",
      "4      invgauss  (2581.7529201615253, 0.0)\n",
      "10       triang   (3168.817214371956, 0.0)\n",
      "5       uniform  (5205.7686822999685, 0.0)\n",
      "7         expon   (7308.400793415922, 0.0)\n"
     ]
    }
   ],
   "source": [
    "failure_dist, failures_r = fit_distribution(failures_test, \"test_duration\", 0.99, 0.01)"
   ]
  },
  {
   "cell_type": "code",
   "execution_count": 11,
   "id": "d2a7be45-9d34-454e-b3cb-e496131705bb",
   "metadata": {},
   "outputs": [],
   "source": [
    "# Identify the best fit distribution from the failing test along with its corresponding distribution parameters\n",
    "best_dist, parameters_failing = best_distribution(failure_dist, failures_r)"
   ]
  },
  {
   "cell_type": "code",
   "execution_count": 12,
   "id": "7f12c325-415d-46f0-a4f9-4f31129bf999",
   "metadata": {},
   "outputs": [
    {
     "name": "stdout",
     "output_type": "stream",
     "text": [
      "\n",
      "Distributions listed by Betterment of fit:\n",
      "............................................\n",
      "   Distribution                         chi_square and p-value\n",
      "10       triang     (461.9624452114939, 4.799796517458444e-69)\n",
      "3          beta    (619.2886679176573, 2.716009412709153e-100)\n",
      "2   weibull_max   (782.1495727872282, 2.4780499811803997e-133)\n",
      "5       uniform   (800.7205543332755, 3.9377128547833523e-137)\n",
      "9      pearson3     (902.4903827437414, 4.87937692523532e-158)\n",
      "0   weibull_min   (961.9366558978377, 2.6033191498811774e-170)\n",
      "6         gamma   (1025.0253918219983, 2.234474698949537e-183)\n",
      "8       lognorm  (1063.4355506988115, 2.3726995807065007e-191)\n",
      "1          norm    (1066.204889931689, 6.306900543032179e-192)\n",
      "4      invgauss     (1076.96978515332, 3.650894820526847e-194)\n",
      "7         expon                      (2457.1474484587093, 0.0)\n"
     ]
    }
   ],
   "source": [
    "# Identify the distributions for the passing test along with its corresponding distribution parameters\n",
    "passing_dist, passing_r = fit_distribution(passing_test, \"test_duration\", 0.99, 0.01)"
   ]
  },
  {
   "cell_type": "code",
   "execution_count": 13,
   "id": "96ff41e0-651d-44cc-9e9b-c1040a123f1b",
   "metadata": {},
   "outputs": [
    {
     "data": {
      "text/html": [
       "<div>\n",
       "<style scoped>\n",
       "    .dataframe tbody tr th:only-of-type {\n",
       "        vertical-align: middle;\n",
       "    }\n",
       "\n",
       "    .dataframe tbody tr th {\n",
       "        vertical-align: top;\n",
       "    }\n",
       "\n",
       "    .dataframe thead th {\n",
       "        text-align: right;\n",
       "    }\n",
       "</style>\n",
       "<table border=\"1\" class=\"dataframe\">\n",
       "  <thead>\n",
       "    <tr style=\"text-align: right;\">\n",
       "      <th></th>\n",
       "      <th>Distribution</th>\n",
       "      <th>chi_square and p-value</th>\n",
       "    </tr>\n",
       "  </thead>\n",
       "  <tbody>\n",
       "    <tr>\n",
       "      <th>10</th>\n",
       "      <td>triang</td>\n",
       "      <td>(461.9624452114939, 4.799796517458444e-69)</td>\n",
       "    </tr>\n",
       "    <tr>\n",
       "      <th>3</th>\n",
       "      <td>beta</td>\n",
       "      <td>(619.2886679176573, 2.716009412709153e-100)</td>\n",
       "    </tr>\n",
       "    <tr>\n",
       "      <th>2</th>\n",
       "      <td>weibull_max</td>\n",
       "      <td>(782.1495727872282, 2.4780499811803997e-133)</td>\n",
       "    </tr>\n",
       "    <tr>\n",
       "      <th>5</th>\n",
       "      <td>uniform</td>\n",
       "      <td>(800.7205543332755, 3.9377128547833523e-137)</td>\n",
       "    </tr>\n",
       "    <tr>\n",
       "      <th>9</th>\n",
       "      <td>pearson3</td>\n",
       "      <td>(902.4903827437414, 4.87937692523532e-158)</td>\n",
       "    </tr>\n",
       "  </tbody>\n",
       "</table>\n",
       "</div>"
      ],
      "text/plain": [
       "   Distribution                        chi_square and p-value\n",
       "10       triang    (461.9624452114939, 4.799796517458444e-69)\n",
       "3          beta   (619.2886679176573, 2.716009412709153e-100)\n",
       "2   weibull_max  (782.1495727872282, 2.4780499811803997e-133)\n",
       "5       uniform  (800.7205543332755, 3.9377128547833523e-137)\n",
       "9      pearson3    (902.4903827437414, 4.87937692523532e-158)"
      ]
     },
     "execution_count": 13,
     "metadata": {},
     "output_type": "execute_result"
    }
   ],
   "source": [
    "passing_r.head()"
   ]
  },
  {
   "cell_type": "code",
   "execution_count": 14,
   "id": "0de4f7e6-e408-498e-9c92-568dc5a81f3d",
   "metadata": {},
   "outputs": [
    {
     "data": {
      "text/plain": [
       "('weibull_min', [12.20521715428722, -9.947987307617899, 10.381897325624372])"
      ]
     },
     "execution_count": 14,
     "metadata": {},
     "output_type": "execute_result"
    }
   ],
   "source": [
    "# Identify the best fit distribution from the passing test\n",
    "best_distribution(passing_dist, passing_r)"
   ]
  },
  {
   "cell_type": "markdown",
   "id": "b6bdcc74-2919-4518-9578-9fb2083641f5",
   "metadata": {},
   "source": [
    "After finding the best distribution for failing distribution, we find the corresponding parameters for the same distribution in the passing distribution. "
   ]
  },
  {
   "cell_type": "code",
   "execution_count": 15,
   "id": "44bd70eb-6b83-4d6f-9176-024560353978",
   "metadata": {},
   "outputs": [],
   "source": [
    "# Find the corresponding passing test distribution parameters for the\n",
    "# best fit distribution identified from the failing test above\n",
    "parameters_passing = passing_dist[passing_dist[\"Distribution Names\"] == best_dist][\n",
    "    \"Parameters\"\n",
    "].values\n",
    "parameters_passing = list(itertools.chain(*parameters_passing))"
   ]
  },
  {
   "cell_type": "code",
   "execution_count": 16,
   "id": "ce69f9c9-8a3e-4a9d-9885-9609a7fbd5c1",
   "metadata": {},
   "outputs": [],
   "source": [
    "# Standardize the features by removing the mean and scaling to unit variance\n",
    "y_std_failing, len_y_failing, y_failing = standardize(\n",
    "    failures_test, \"test_duration\", 0.99, 0.01\n",
    ")"
   ]
  },
  {
   "cell_type": "code",
   "execution_count": 17,
   "id": "047dcfeb-0fc9-4959-828f-0f64dab9a513",
   "metadata": {},
   "outputs": [],
   "source": [
    "# Standardize the features by removing the mean and scaling to unit variance\n",
    "y_std_passing, len_y_passing, y_passing = standardize(\n",
    "    passing_test, \"test_duration\", 0.99, 0.01\n",
    ")"
   ]
  },
  {
   "cell_type": "markdown",
   "id": "ee75e8fd-26c7-4d78-8328-95aa8cbdf5ae",
   "metadata": {},
   "source": [
    "## Optimal Stopping Point Calculation\n",
    "\n",
    "Let's move forward to find the optimal stopping point for the test by passing the best distribution name, failing and passing distributions and the corresponding distribution parameters."
   ]
  },
  {
   "cell_type": "code",
   "execution_count": 18,
   "id": "018603db-9237-4f26-96e7-7ff3d2f6003d",
   "metadata": {},
   "outputs": [],
   "source": [
    "osp = optimal_stopping_point(\n",
    "    best_dist,\n",
    "    y_std_failing,\n",
    "    y_failing,\n",
    "    parameters_failing,\n",
    "    y_std_passing,\n",
    "    y_passing,\n",
    "    parameters_passing,\n",
    ")"
   ]
  },
  {
   "cell_type": "code",
   "execution_count": 19,
   "id": "85bc4fe3-7b71-469b-9fc9-b04d58f20914",
   "metadata": {},
   "outputs": [
    {
     "data": {
      "text/plain": [
       "104.3979969544608"
      ]
     },
     "execution_count": 19,
     "metadata": {},
     "output_type": "execute_result"
    }
   ],
   "source": [
    "# Optimat Stopping Point for `operator.Run multi-stage test e2e-aws-upgrade\n",
    "# - e2e-aws-upgrade-openshift-e2e-test container test`\n",
    "osp"
   ]
  },
  {
   "cell_type": "markdown",
   "id": "4faacbc4-c007-4fa0-a6f4-a4697622efc0",
   "metadata": {},
   "source": [
    "This tells us that the optimal stopping point should be at test duration run length of 104.39 seconds."
   ]
  },
  {
   "cell_type": "markdown",
   "id": "5c3c73d5-4bb7-4309-9ef0-6099cbfc3266",
   "metadata": {},
   "source": [
    "## Conclusion\n",
    "In this notebook we were able to:\n",
    "\n",
    "* Fetch the data for all passing and failing tests\n",
    "* Filter the data for the test - `operator.Run multi-stage test e2e-aws-upgrade - e2e-aws-upgrade-openshift-e2e-test container test`\n",
    "* Find the best distribution for the test\n",
    "* Find the optimal stopping point for the test"
   ]
  }
 ],
 "metadata": {
  "kernelspec": {
   "display_name": "Python 3 (ipykernel)",
   "language": "python",
   "name": "python3"
  },
  "language_info": {
   "codemirror_mode": {
    "name": "ipython",
    "version": 3
   },
   "file_extension": ".py",
   "mimetype": "text/x-python",
   "name": "python",
   "nbconvert_exporter": "python",
   "pygments_lexer": "ipython3",
   "version": "3.8.3"
  }
 },
 "nbformat": 4,
 "nbformat_minor": 5
}