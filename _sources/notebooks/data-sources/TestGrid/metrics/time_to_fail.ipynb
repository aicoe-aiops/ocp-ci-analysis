{
 "cells": [
  {
   "cell_type": "markdown",
   "metadata": {},
   "source": [
    "# Time to Fail\n",
    "\n",
    "One of the machine learning requests that we would like to create greater visibility into and for a given test, to build a model that can predict an optimal stopping point, beyond which a test is more likely to result in a failure.\n",
    "\n",
<<<<<<< HEAD
    "In order to achieve the above, we would be looking into the data for all the failed tests and find the distribution type for the test_duration metric. This will allow us to visualize the distribution across various testgrid dashboards and jobs. After finding out the distribution, we can find a point after which the test has a higher probability of failing.\n",
    "\n",
    "\n",
=======
    "In order to achieve the above, we would be looking into the data for all the passing and failed tests and find the distribution type for the `test_duration` metric. The `test_duration` metric tracks the time it took for a test to complete its execution. We can visualize the distribution of the test_duration metric across various testgrid dashboards and jobs. Based on the distribution type identified, we can find a point after which the test has a higher probability of failing.\n",
>>>>>>> 7e7fb73... Update documentation
    "\n",
    "Linked issue(s) : [Issue1](https://github.com/aicoe-aiops/ocp-ci-analysis/issues/333), [Issue2](https://github.com/aicoe-aiops/ocp-ci-analysis/issues/226)"
   ]
  },
  {
   "cell_type": "code",
   "execution_count": 1,
   "metadata": {},
   "outputs": [
    {
     "data": {
      "text/plain": [
       "True"
      ]
     },
     "execution_count": 1,
     "metadata": {},
     "output_type": "execute_result"
    }
   ],
   "source": [
    "import json\n",
    "import gzip\n",
    "import os\n",
    "import pandas as pd\n",
    "import matplotlib.pyplot as plt\n",
    "import numpy as np\n",
    "import datetime\n",
    "import scipy.stats\n",
<<<<<<< HEAD
    "from sklearn.preprocessing import StandardScaler\n",
    "from scipy.stats import invgauss, lognorm\n",
=======
    "import itertools\n",
    "from intersect import intersection\n",
    "from sklearn.preprocessing import StandardScaler\n",
    "from scipy.stats import invgauss, lognorm, pearson3, weibull_min, triang, beta\n",
>>>>>>> 7e7fb73... Update documentation
    "\n",
    "from ipynb.fs.defs.metric_template import testgrid_labelwise_encoding\n",
    "from ipynb.fs.defs.metric_template import CephCommunication\n",
    "from dotenv import load_dotenv, find_dotenv\n",
    "import warnings\n",
    "\n",
    "warnings.filterwarnings(\"ignore\")\n",
    "\n",
    "load_dotenv(find_dotenv())"
   ]
  },
  {
<<<<<<< HEAD
=======
   "cell_type": "markdown",
   "metadata": {},
   "source": [
    "## Ceph\n",
    "Connection to Ceph for importing the TestGrid data"
   ]
  },
  {
>>>>>>> 7e7fb73... Update documentation
   "cell_type": "code",
   "execution_count": 2,
   "metadata": {},
   "outputs": [],
   "source": [
    "## Specify variables\n",
    "\n",
    "METRIC_NAME = \"time_to_fail\"\n",
    "\n",
    "# Specify the path for input grid data\n",
<<<<<<< HEAD
    "INPUT_DATA_PATH = \"../../../../data/raw/testgrid_183.json.gz\"\n",
=======
    "INPUT_DATA_PATH = \"../../../../data/raw/testgrid_258.json.gz\"\n",
>>>>>>> 7e7fb73... Update documentation
    "\n",
    "# Specify the path for output metric data\n",
    "OUTPUT_DATA_PATH = f\"../../../../data/processed/metrics/{METRIC_NAME}\"\n",
    "\n",
    "## CEPH Bucket variables\n",
    "## Create a .env file on your local with the correct configs\n",
    "s3_endpoint_url = os.getenv(\"S3_ENDPOINT\")\n",
    "s3_access_key = os.getenv(\"S3_ACCESS_KEY\")\n",
    "s3_secret_key = os.getenv(\"S3_SECRET_KEY\")\n",
    "s3_bucket = os.getenv(\"S3_BUCKET\")\n",
<<<<<<< HEAD
    "s3_path = os.getenv(\"S3_PROJECT_KEY\", \"ai4ci/testgrid/metrics\")\n",
=======
    "s3_path = os.getenv(\"S3_PROJECT_KEY\", \"metrics\")\n",
>>>>>>> 7e7fb73... Update documentation
    "s3_input_data_path = \"raw_data\"\n",
    "\n",
    "# Specify whether or not we are running this as a notebook or part of an automation pipeline.\n",
    "AUTOMATION = os.getenv(\"IN_AUTOMATION\")"
   ]
  },
  {
   "cell_type": "code",
   "execution_count": 3,
   "metadata": {},
   "outputs": [],
   "source": [
    "## Import data\n",
    "timestamp = datetime.datetime.today()\n",
    "\n",
    "if AUTOMATION:\n",
    "    filename = f\"testgrid_{timestamp.day}{timestamp.month}.json\"\n",
    "    cc = CephCommunication(s3_endpoint_url, s3_access_key, s3_secret_key, s3_bucket)\n",
    "    s3_object = cc.s3_resource.Object(s3_bucket, f\"{s3_input_data_path}/{filename}\")\n",
    "    file_content = s3_object.get()[\"Body\"].read().decode(\"utf-8\")\n",
    "    testgrid_data = json.loads(file_content)\n",
    "\n",
    "else:\n",
    "    with gzip.open(INPUT_DATA_PATH, \"rb\") as read_file:\n",
    "        testgrid_data = json.load(read_file)"
   ]
  },
  {
   "cell_type": "markdown",
   "metadata": {},
   "source": [
    "## Helper Functions"
   ]
  },
  {
   "cell_type": "code",
   "execution_count": 4,
   "metadata": {},
   "outputs": [],
   "source": [
    "# Function to filter the df for a specified test\n",
    "def filter_test_type(df, test):\n",
    "    failures_test = df[df[\"test\"] == test]\n",
    "    failures_test = failures_test.reset_index(drop=True)\n",
    "    return failures_test"
   ]
  },
  {
   "cell_type": "code",
   "execution_count": 5,
   "metadata": {},
   "outputs": [],
   "source": [
    "def standardize(df, column, pct, pct_lower):\n",
    "    \"\"\"\n",
    "    Function to standardize the features by removing the mean\n",
    "    and scaling to unit variance using StandardScaler library.\n",
    "\n",
    "    Returns standandardized feature, length of the feature\n",
    "    and the original feature.\n",
    "    \"\"\"\n",
    "    sc = StandardScaler()\n",
    "    y = df[column][df[column].notnull()].to_list()\n",
    "    y.sort()\n",
    "    len_y = len(y)\n",
    "    y = y[int(pct_lower * len_y) : int(len_y * pct)]\n",
    "    len_y = len(y)\n",
    "    yy = [[x] for x in y]\n",
    "    sc.fit(yy)\n",
    "    y_std = sc.transform(yy)\n",
    "    y_std = y_std.flatten()\n",
    "    return y_std, len_y, y"
   ]
  },
  {
   "cell_type": "code",
   "execution_count": 6,
   "metadata": {},
   "outputs": [],
   "source": [
    "def fit_distribution(df, column, pct, pct_lower):\n",
    "    \"\"\"\n",
    "    This function helps to list out the chi-square statistics for each\n",
    "    distribution and further sorts them to find the best distribution.\n",
    "\n",
<<<<<<< HEAD
    "    Returns a table that contains sorted chi-square values.\n",
=======
    "    Returns a table that contains sorted chi-square values as well as\n",
    "    the parameters such as mu (shape), loc (location) and scale for each\n",
    "    distribution.\n",
>>>>>>> 7e7fb73... Update documentation
    "    \"\"\"\n",
    "    # Set up list of candidate distributions to use\n",
    "    y_std, size, y_org = standardize(df, column, pct, pct_lower)\n",
    "    dist_names = [\n",
    "        \"weibull_min\",\n",
    "        \"norm\",\n",
    "        \"weibull_max\",\n",
    "        \"beta\",\n",
    "        \"invgauss\",\n",
    "        \"uniform\",\n",
    "        \"gamma\",\n",
    "        \"expon\",\n",
    "        \"lognorm\",\n",
    "        \"pearson3\",\n",
    "        \"triang\",\n",
    "    ]\n",
    "\n",
    "    chi_square_statistics = []\n",
    "\n",
    "    # 50 bins\n",
    "    percentile_bins = np.linspace(0, 100, 50)\n",
    "    percentile_cutoffs = np.percentile(y_std, percentile_bins)\n",
    "    observed_frequency, bins = np.histogram(y_std, bins=percentile_cutoffs)\n",
    "    cum_observed_frequency = np.cumsum(observed_frequency)\n",
<<<<<<< HEAD
=======
    "    # Data frame to store results\n",
    "    dist_param = pd.DataFrame()\n",
    "    dist_param[\"Distribution Names\"] = dist_names\n",
    "    param_list = []\n",
>>>>>>> 7e7fb73... Update documentation
    "\n",
    "    # Loop through candidate distributions\n",
    "    for distribution in dist_names:\n",
    "        # Set up distribution and get fitted distribution parameters\n",
    "        dist = getattr(scipy.stats, distribution)\n",
    "        param = dist.fit(y_std)\n",
<<<<<<< HEAD
    "        print(\"{}\\n{}\\n\".format(dist, param))\n",
=======
    "        param_list.append(param)\n",
>>>>>>> 7e7fb73... Update documentation
    "\n",
    "        # Get expected counts in percentile bins\n",
    "        # cdf of fitted distribution across bins\n",
    "        cdf_fitted = dist.cdf(percentile_cutoffs, *param)\n",
    "        expected_frequency = []\n",
    "        for bin in range(len(percentile_bins) - 1):\n",
    "            expected_cdf_area = cdf_fitted[bin + 1] - cdf_fitted[bin]\n",
    "            expected_frequency.append(expected_cdf_area)\n",
    "\n",
    "        # Chi-square Statistics\n",
    "        expected_frequency = np.array(expected_frequency) * size\n",
    "        cum_expected_frequency = np.cumsum(expected_frequency)\n",
    "        ss = scipy.stats.chisquare(\n",
    "            f_obs=cum_observed_frequency, f_exp=cum_expected_frequency\n",
    "        )\n",
    "        chi_square_statistics.append(ss)\n",
    "\n",
<<<<<<< HEAD
=======
    "    # Append results to data frame\n",
    "    dist_param[\"Parameters\"] = param_list\n",
    "    dist_param.set_index(\"Distribution Names\")\n",
>>>>>>> 7e7fb73... Update documentation
    "    # Sort by minimum ch-square statistics\n",
    "    results = pd.DataFrame()\n",
    "    results[\"Distribution\"] = dist_names\n",
    "    results[\"chi_square and p-value\"] = chi_square_statistics\n",
    "    results.sort_values([\"chi_square and p-value\"], inplace=True)\n",
    "\n",
    "    print(\"\\nDistributions listed by Betterment of fit:\")\n",
    "    print(\"............................................\")\n",
<<<<<<< HEAD
    "    print(results)"
=======
    "    print(results)\n",
    "    return dist_param, results"
>>>>>>> 7e7fb73... Update documentation
   ]
  },
  {
   "cell_type": "markdown",
   "metadata": {},
   "source": [
<<<<<<< HEAD
    "## Calculation"
=======
    "## Calculation\n",
    "Let's fetch all the tests which are \"Passing\" and \"Failing\"."
   ]
  },
  {
   "cell_type": "markdown",
   "metadata": {},
   "source": [
    "### Failing Tests"
>>>>>>> 7e7fb73... Update documentation
   ]
  },
  {
   "cell_type": "code",
   "execution_count": 7,
   "metadata": {},
   "outputs": [],
   "source": [
    "# We will now fetch all the tests which are failing i.e. have a status code of 12.\n",
    "failures_list = testgrid_labelwise_encoding(testgrid_data, 12, overall_only=False)"
   ]
  },
  {
   "cell_type": "code",
   "execution_count": 8,
   "metadata": {},
   "outputs": [
    {
     "data": {
      "text/html": [
       "<div>\n",
       "<style scoped>\n",
       "    .dataframe tbody tr th:only-of-type {\n",
       "        vertical-align: middle;\n",
       "    }\n",
       "\n",
       "    .dataframe tbody tr th {\n",
       "        vertical-align: top;\n",
       "    }\n",
       "\n",
       "    .dataframe thead th {\n",
       "        text-align: right;\n",
       "    }\n",
       "</style>\n",
       "<table border=\"1\" class=\"dataframe\">\n",
       "  <thead>\n",
       "    <tr style=\"text-align: right;\">\n",
       "      <th></th>\n",
       "      <th>timestamp</th>\n",
       "      <th>tab</th>\n",
       "      <th>grid</th>\n",
       "      <th>test</th>\n",
       "      <th>test_duration</th>\n",
       "      <th>failure</th>\n",
       "    </tr>\n",
       "  </thead>\n",
       "  <tbody>\n",
       "    <tr>\n",
       "      <th>0</th>\n",
       "      <td>2021-08-25 14:51:42</td>\n",
       "      <td>\"redhat-assisted-installer\"</td>\n",
       "      <td>periodic-ci-openshift-release-master-nightly-4...</td>\n",
       "      <td>Overall</td>\n",
       "      <td>NaN</td>\n",
       "      <td>False</td>\n",
       "    </tr>\n",
       "    <tr>\n",
       "      <th>1</th>\n",
       "      <td>2021-08-23 00:01:04</td>\n",
       "      <td>\"redhat-assisted-installer\"</td>\n",
       "      <td>periodic-ci-openshift-release-master-nightly-4...</td>\n",
       "      <td>Overall</td>\n",
       "      <td>95.300000</td>\n",
       "      <td>False</td>\n",
       "    </tr>\n",
       "    <tr>\n",
       "      <th>2</th>\n",
       "      <td>2021-08-22 08:53:17</td>\n",
       "      <td>\"redhat-assisted-installer\"</td>\n",
       "      <td>periodic-ci-openshift-release-master-nightly-4...</td>\n",
       "      <td>Overall</td>\n",
       "      <td>101.800000</td>\n",
       "      <td>False</td>\n",
       "    </tr>\n",
       "    <tr>\n",
       "      <th>3</th>\n",
       "      <td>2021-08-20 23:21:32</td>\n",
       "      <td>\"redhat-assisted-installer\"</td>\n",
       "      <td>periodic-ci-openshift-release-master-nightly-4...</td>\n",
       "      <td>Overall</td>\n",
       "      <td>134.833333</td>\n",
       "      <td>False</td>\n",
       "    </tr>\n",
       "    <tr>\n",
       "      <th>4</th>\n",
       "      <td>2021-08-20 15:57:36</td>\n",
       "      <td>\"redhat-assisted-installer\"</td>\n",
       "      <td>periodic-ci-openshift-release-master-nightly-4...</td>\n",
       "      <td>Overall</td>\n",
       "      <td>109.833333</td>\n",
       "      <td>False</td>\n",
       "    </tr>\n",
       "  </tbody>\n",
       "</table>\n",
       "</div>"
      ],
      "text/plain": [
       "            timestamp                          tab  \\\n",
       "0 2021-08-25 14:51:42  \"redhat-assisted-installer\"   \n",
       "1 2021-08-23 00:01:04  \"redhat-assisted-installer\"   \n",
       "2 2021-08-22 08:53:17  \"redhat-assisted-installer\"   \n",
       "3 2021-08-20 23:21:32  \"redhat-assisted-installer\"   \n",
       "4 2021-08-20 15:57:36  \"redhat-assisted-installer\"   \n",
       "\n",
       "                                                grid     test  test_duration  \\\n",
       "0  periodic-ci-openshift-release-master-nightly-4...  Overall            NaN   \n",
       "1  periodic-ci-openshift-release-master-nightly-4...  Overall      95.300000   \n",
       "2  periodic-ci-openshift-release-master-nightly-4...  Overall     101.800000   \n",
       "3  periodic-ci-openshift-release-master-nightly-4...  Overall     134.833333   \n",
       "4  periodic-ci-openshift-release-master-nightly-4...  Overall     109.833333   \n",
       "\n",
       "   failure  \n",
       "0    False  \n",
       "1    False  \n",
       "2    False  \n",
       "3    False  \n",
       "4    False  "
      ]
     },
     "execution_count": 8,
     "metadata": {},
     "output_type": "execute_result"
    }
   ],
   "source": [
    "# Convert to dataframe\n",
    "failures_df = pd.DataFrame(\n",
    "    failures_list,\n",
    "    columns=[\"timestamp\", \"tab\", \"grid\", \"test\", \"test_duration\", \"failure\"],\n",
    ")\n",
    "failures_df.head()"
   ]
  },
  {
   "cell_type": "code",
   "execution_count": 9,
   "metadata": {},
   "outputs": [
    {
     "data": {
      "text/plain": [
       "36046950"
      ]
     },
     "execution_count": 9,
     "metadata": {},
     "output_type": "execute_result"
    }
   ],
   "source": [
    "len(failures_df)"
   ]
  },
  {
   "cell_type": "code",
   "execution_count": 10,
   "metadata": {},
   "outputs": [
    {
     "data": {
      "text/plain": [
       "19749103"
      ]
     },
     "execution_count": 10,
     "metadata": {},
     "output_type": "execute_result"
    }
   ],
   "source": [
    "# We will drop all the rows having NaN values\n",
    "failures_df = failures_df.dropna()\n",
    "len(failures_df)"
   ]
  },
  {
   "cell_type": "code",
   "execution_count": 11,
   "metadata": {},
   "outputs": [
    {
     "data": {
      "text/plain": [
       "156752"
      ]
     },
     "execution_count": 11,
     "metadata": {},
     "output_type": "execute_result"
    }
   ],
   "source": [
    "# We will now filter the df for extracting only the tests that are failing\n",
    "failures_df = failures_df[failures_df[\"failure\"]]\n",
    "len(failures_df)"
   ]
  },
  {
   "cell_type": "code",
   "execution_count": 12,
   "metadata": {},
   "outputs": [
    {
     "data": {
      "text/html": [
       "<div>\n",
       "<style scoped>\n",
       "    .dataframe tbody tr th:only-of-type {\n",
       "        vertical-align: middle;\n",
       "    }\n",
       "\n",
       "    .dataframe tbody tr th {\n",
       "        vertical-align: top;\n",
       "    }\n",
       "\n",
       "    .dataframe thead th {\n",
       "        text-align: right;\n",
       "    }\n",
       "</style>\n",
       "<table border=\"1\" class=\"dataframe\">\n",
       "  <thead>\n",
       "    <tr style=\"text-align: right;\">\n",
       "      <th></th>\n",
       "      <th>timestamp</th>\n",
       "      <th>tab</th>\n",
       "      <th>grid</th>\n",
       "      <th>test</th>\n",
       "      <th>test_duration</th>\n",
       "      <th>failure</th>\n",
       "    </tr>\n",
       "  </thead>\n",
       "  <tbody>\n",
       "    <tr>\n",
       "      <th>8</th>\n",
       "      <td>2021-08-16 23:03:14</td>\n",
       "      <td>\"redhat-assisted-installer\"</td>\n",
       "      <td>periodic-ci-openshift-release-master-nightly-4...</td>\n",
       "      <td>Overall</td>\n",
       "      <td>20.016667</td>\n",
       "      <td>True</td>\n",
       "    </tr>\n",
       "    <tr>\n",
       "      <th>10</th>\n",
       "      <td>2021-08-16 00:01:05</td>\n",
       "      <td>\"redhat-assisted-installer\"</td>\n",
       "      <td>periodic-ci-openshift-release-master-nightly-4...</td>\n",
       "      <td>Overall</td>\n",
       "      <td>108.233333</td>\n",
       "      <td>True</td>\n",
       "    </tr>\n",
       "    <tr>\n",
       "      <th>22</th>\n",
       "      <td>2021-08-16 23:03:14</td>\n",
       "      <td>\"redhat-assisted-installer\"</td>\n",
       "      <td>periodic-ci-openshift-release-master-nightly-4...</td>\n",
       "      <td>operator.Run multi-stage test e2e-metal-assist...</td>\n",
       "      <td>13.166667</td>\n",
       "      <td>True</td>\n",
       "    </tr>\n",
       "    <tr>\n",
       "      <th>24</th>\n",
       "      <td>2021-08-16 00:01:05</td>\n",
       "      <td>\"redhat-assisted-installer\"</td>\n",
       "      <td>periodic-ci-openshift-release-master-nightly-4...</td>\n",
       "      <td>operator.Run multi-stage test e2e-metal-assist...</td>\n",
       "      <td>89.983333</td>\n",
       "      <td>True</td>\n",
       "    </tr>\n",
       "    <tr>\n",
       "      <th>38</th>\n",
       "      <td>2021-08-16 00:01:05</td>\n",
       "      <td>\"redhat-assisted-installer\"</td>\n",
       "      <td>periodic-ci-openshift-release-master-nightly-4...</td>\n",
       "      <td>TestInstall_test_install.start_install_and_wai...</td>\n",
       "      <td>60.004001</td>\n",
       "      <td>True</td>\n",
       "    </tr>\n",
       "  </tbody>\n",
       "</table>\n",
       "</div>"
      ],
      "text/plain": [
       "             timestamp                          tab  \\\n",
       "8  2021-08-16 23:03:14  \"redhat-assisted-installer\"   \n",
       "10 2021-08-16 00:01:05  \"redhat-assisted-installer\"   \n",
       "22 2021-08-16 23:03:14  \"redhat-assisted-installer\"   \n",
       "24 2021-08-16 00:01:05  \"redhat-assisted-installer\"   \n",
       "38 2021-08-16 00:01:05  \"redhat-assisted-installer\"   \n",
       "\n",
       "                                                 grid  \\\n",
       "8   periodic-ci-openshift-release-master-nightly-4...   \n",
       "10  periodic-ci-openshift-release-master-nightly-4...   \n",
       "22  periodic-ci-openshift-release-master-nightly-4...   \n",
       "24  periodic-ci-openshift-release-master-nightly-4...   \n",
       "38  periodic-ci-openshift-release-master-nightly-4...   \n",
       "\n",
       "                                                 test  test_duration  failure  \n",
       "8                                             Overall      20.016667     True  \n",
       "10                                            Overall     108.233333     True  \n",
       "22  operator.Run multi-stage test e2e-metal-assist...      13.166667     True  \n",
       "24  operator.Run multi-stage test e2e-metal-assist...      89.983333     True  \n",
       "38  TestInstall_test_install.start_install_and_wai...      60.004001     True  "
      ]
     },
     "execution_count": 12,
     "metadata": {},
     "output_type": "execute_result"
    }
   ],
   "source": [
    "failures_df.head()"
   ]
  },
  {
   "cell_type": "markdown",
   "metadata": {},
   "source": [
<<<<<<< HEAD
    "### Probability Distribution of Data\n",
    "Data Distribution is a function that lists out all possible values the data can take. It can be a continuous or discrete data distribution. Several known standard Probability Distribution functions provide probabilities of occurrence of different possible outcomes in an experiment. Some well-known probability distributions are Normal, Log-Normal, Beta, Gamma, etc. which have a standard form.\n",
    "\n",
    "We will try to approximate the distributions of the `test_duration` variable and also check its Goodness of fit for different TestGrid tests across all TestGrid dashboards and grids. Based on the type of distribution identified, we can calculate the probability of the test failing."
   ]
  },
  {
   "cell_type": "markdown",
   "metadata": {},
   "source": [
    "Let's see what are the common failing test types and identify the distribution for the top 3 test types."
=======
    "### Passing Tests"
>>>>>>> 7e7fb73... Update documentation
   ]
  },
  {
   "cell_type": "code",
   "execution_count": 13,
   "metadata": {},
<<<<<<< HEAD
   "outputs": [
    {
     "data": {
      "text/plain": [
       "Overall                                                                                                                                                                                                                                                                                                                                                                                         26525\n",
       "openshift-tests.Monitor cluster while tests execute                                                                                                                                                                                                                                                                                                                                              4706\n",
       "openshift-tests.[sig-arch][Feature:ClusterUpgrade] Cluster should remain functional during upgrade [Disruptive] [Serial]                                                                                                                                                                                                                                                                         3172\n",
       "Cluster upgrade.[sig-arch] Check if alerts are firing during or after upgrade success                                                                                                                                                                                                                                                                                                            1973\n",
       "operator.Run multi-stage test e2e-aws-upgrade - e2e-aws-upgrade-openshift-e2e-test container test                                                                                                                                                                                                                                                                                                1485\n",
       "                                                                                                                                                                                                                                                                                                                                                                                                ...  \n",
       "openshift-tests.[k8s.io] Container Runtime blackbox test when running a container with a new image should be able to pull image from docker hub [LinuxOnly] [NodeConformance] [Suite:openshift/conformance/parallel] [Suite:k8s]                                                                                                                                                                    1\n",
       "[Elasticsearch] Verify Metrics Access.hack/testing-olm/test-200-verify-es-metrics-access.sh:70: executing 'oc -n e2e-test-2347 get deployment -l component=elasticsearch -o jsonpath='{.items[0].metadata.name}'' expecting success; re-trying every 0.2s until completion or 120.000s                                                                                                              1\n",
       "openshift-tests.[sig-storage] Projected downwardAPI [Top Level] [sig-storage] Projected downwardAPI should provide podname as non-root with fsgroup and defaultMode [LinuxOnly] [NodeFeature:FSGroup] [Suite:openshift/conformance/parallel] [Suite:k8s]                                                                                                                                            1\n",
       "openshift-tests.[sig-storage] In-tree Volumes [Driver: local][LocalVolumeType: blockfs] [Testpattern: Pre-provisioned PV (default fs)] subPath [Top Level] [sig-storage] In-tree Volumes [Driver: local][LocalVolumeType: blockfs] [Testpattern: Pre-provisioned PV (default fs)] subPath should support existing single file [LinuxOnly] [Suite:openshift/conformance/parallel] [Suite:k8s]        1\n",
       "openshift-tests.[sig-storage] In-tree Volumes [Driver: gcepd] [Testpattern: Pre-provisioned PV (filesystem volmode)] volumeMode [Top Level] [sig-storage] In-tree Volumes [Driver: gcepd] [Testpattern: Pre-provisioned PV (filesystem volmode)] volumeMode should not mount / map unused volumes in a pod [Suite:openshift/conformance/parallel] [Suite:k8s]                                       1\n",
       "Name: test, Length: 6828, dtype: int64"
      ]
     },
     "execution_count": 13,
     "metadata": {},
     "output_type": "execute_result"
    }
   ],
   "source": [
    "failures_df[\"test\"].value_counts()"
=======
   "outputs": [],
   "source": [
    "# We will now fetch all the tests which are passing i.e. have a status code of 1.\n",
    "passing_list = testgrid_labelwise_encoding(testgrid_data, 1, overall_only=False)"
>>>>>>> 7e7fb73... Update documentation
   ]
  },
  {
   "cell_type": "code",
   "execution_count": 14,
   "metadata": {},
   "outputs": [
    {
     "data": {
      "text/html": [
       "<div>\n",
       "<style scoped>\n",
       "    .dataframe tbody tr th:only-of-type {\n",
       "        vertical-align: middle;\n",
       "    }\n",
       "\n",
       "    .dataframe tbody tr th {\n",
       "        vertical-align: top;\n",
       "    }\n",
       "\n",
       "    .dataframe thead th {\n",
       "        text-align: right;\n",
       "    }\n",
       "</style>\n",
       "<table border=\"1\" class=\"dataframe\">\n",
       "  <thead>\n",
       "    <tr style=\"text-align: right;\">\n",
       "      <th></th>\n",
       "      <th>timestamp</th>\n",
       "      <th>tab</th>\n",
       "      <th>grid</th>\n",
       "      <th>test</th>\n",
       "      <th>test_duration</th>\n",
<<<<<<< HEAD
       "      <th>failure</th>\n",
=======
       "      <th>passing</th>\n",
>>>>>>> 7e7fb73... Update documentation
       "    </tr>\n",
       "  </thead>\n",
       "  <tbody>\n",
       "    <tr>\n",
       "      <th>0</th>\n",
<<<<<<< HEAD
       "      <td>2021-08-18 15:43:11</td>\n",
       "      <td>\"redhat-openshift-informing\"</td>\n",
       "      <td>release-openshift-origin-installer-e2e-aws-upg...</td>\n",
       "      <td>openshift-tests.Monitor cluster while tests ex...</td>\n",
       "      <td>35.766667</td>\n",
       "      <td>True</td>\n",
       "    </tr>\n",
       "    <tr>\n",
       "      <th>1</th>\n",
       "      <td>2021-08-18 15:43:11</td>\n",
       "      <td>\"redhat-openshift-informing\"</td>\n",
       "      <td>release-openshift-origin-installer-e2e-aws-upg...</td>\n",
       "      <td>openshift-tests.Monitor cluster while tests ex...</td>\n",
       "      <td>53.200000</td>\n",
=======
       "      <td>2021-08-25 14:51:42</td>\n",
       "      <td>\"redhat-assisted-installer\"</td>\n",
       "      <td>periodic-ci-openshift-release-master-nightly-4...</td>\n",
       "      <td>Overall</td>\n",
       "      <td>NaN</td>\n",
       "      <td>False</td>\n",
       "    </tr>\n",
       "    <tr>\n",
       "      <th>1</th>\n",
       "      <td>2021-08-23 00:01:04</td>\n",
       "      <td>\"redhat-assisted-installer\"</td>\n",
       "      <td>periodic-ci-openshift-release-master-nightly-4...</td>\n",
       "      <td>Overall</td>\n",
       "      <td>95.300000</td>\n",
>>>>>>> 7e7fb73... Update documentation
       "      <td>True</td>\n",
       "    </tr>\n",
       "    <tr>\n",
       "      <th>2</th>\n",
<<<<<<< HEAD
       "      <td>2021-08-18 14:56:49</td>\n",
       "      <td>\"redhat-openshift-informing\"</td>\n",
       "      <td>release-openshift-origin-installer-e2e-aws-upg...</td>\n",
       "      <td>openshift-tests.Monitor cluster while tests ex...</td>\n",
       "      <td>37.316667</td>\n",
=======
       "      <td>2021-08-22 08:53:17</td>\n",
       "      <td>\"redhat-assisted-installer\"</td>\n",
       "      <td>periodic-ci-openshift-release-master-nightly-4...</td>\n",
       "      <td>Overall</td>\n",
       "      <td>101.800000</td>\n",
>>>>>>> 7e7fb73... Update documentation
       "      <td>True</td>\n",
       "    </tr>\n",
       "    <tr>\n",
       "      <th>3</th>\n",
<<<<<<< HEAD
       "      <td>2021-08-18 14:56:48</td>\n",
       "      <td>\"redhat-openshift-informing\"</td>\n",
       "      <td>release-openshift-origin-installer-e2e-aws-upg...</td>\n",
       "      <td>openshift-tests.Monitor cluster while tests ex...</td>\n",
       "      <td>54.200000</td>\n",
=======
       "      <td>2021-08-20 23:21:32</td>\n",
       "      <td>\"redhat-assisted-installer\"</td>\n",
       "      <td>periodic-ci-openshift-release-master-nightly-4...</td>\n",
       "      <td>Overall</td>\n",
       "      <td>134.833333</td>\n",
>>>>>>> 7e7fb73... Update documentation
       "      <td>True</td>\n",
       "    </tr>\n",
       "    <tr>\n",
       "      <th>4</th>\n",
<<<<<<< HEAD
       "      <td>2021-08-11 22:52:13</td>\n",
       "      <td>\"redhat-openshift-informing\"</td>\n",
       "      <td>release-openshift-origin-installer-e2e-aws-upg...</td>\n",
       "      <td>openshift-tests.Monitor cluster while tests ex...</td>\n",
       "      <td>66.266667</td>\n",
=======
       "      <td>2021-08-20 15:57:36</td>\n",
       "      <td>\"redhat-assisted-installer\"</td>\n",
       "      <td>periodic-ci-openshift-release-master-nightly-4...</td>\n",
       "      <td>Overall</td>\n",
       "      <td>109.833333</td>\n",
>>>>>>> 7e7fb73... Update documentation
       "      <td>True</td>\n",
       "    </tr>\n",
       "  </tbody>\n",
       "</table>\n",
       "</div>"
      ],
      "text/plain": [
<<<<<<< HEAD
       "            timestamp                           tab  \\\n",
       "0 2021-08-18 15:43:11  \"redhat-openshift-informing\"   \n",
       "1 2021-08-18 15:43:11  \"redhat-openshift-informing\"   \n",
       "2 2021-08-18 14:56:49  \"redhat-openshift-informing\"   \n",
       "3 2021-08-18 14:56:48  \"redhat-openshift-informing\"   \n",
       "4 2021-08-11 22:52:13  \"redhat-openshift-informing\"   \n",
       "\n",
       "                                                grid  \\\n",
       "0  release-openshift-origin-installer-e2e-aws-upg...   \n",
       "1  release-openshift-origin-installer-e2e-aws-upg...   \n",
       "2  release-openshift-origin-installer-e2e-aws-upg...   \n",
       "3  release-openshift-origin-installer-e2e-aws-upg...   \n",
       "4  release-openshift-origin-installer-e2e-aws-upg...   \n",
       "\n",
       "                                                test  test_duration  failure  \n",
       "0  openshift-tests.Monitor cluster while tests ex...      35.766667     True  \n",
       "1  openshift-tests.Monitor cluster while tests ex...      53.200000     True  \n",
       "2  openshift-tests.Monitor cluster while tests ex...      37.316667     True  \n",
       "3  openshift-tests.Monitor cluster while tests ex...      54.200000     True  \n",
       "4  openshift-tests.Monitor cluster while tests ex...      66.266667     True  "
=======
       "            timestamp                          tab  \\\n",
       "0 2021-08-25 14:51:42  \"redhat-assisted-installer\"   \n",
       "1 2021-08-23 00:01:04  \"redhat-assisted-installer\"   \n",
       "2 2021-08-22 08:53:17  \"redhat-assisted-installer\"   \n",
       "3 2021-08-20 23:21:32  \"redhat-assisted-installer\"   \n",
       "4 2021-08-20 15:57:36  \"redhat-assisted-installer\"   \n",
       "\n",
       "                                                grid     test  test_duration  \\\n",
       "0  periodic-ci-openshift-release-master-nightly-4...  Overall            NaN   \n",
       "1  periodic-ci-openshift-release-master-nightly-4...  Overall      95.300000   \n",
       "2  periodic-ci-openshift-release-master-nightly-4...  Overall     101.800000   \n",
       "3  periodic-ci-openshift-release-master-nightly-4...  Overall     134.833333   \n",
       "4  periodic-ci-openshift-release-master-nightly-4...  Overall     109.833333   \n",
       "\n",
       "   passing  \n",
       "0    False  \n",
       "1     True  \n",
       "2     True  \n",
       "3     True  \n",
       "4     True  "
>>>>>>> 7e7fb73... Update documentation
      ]
     },
     "execution_count": 14,
     "metadata": {},
     "output_type": "execute_result"
    }
   ],
   "source": [
<<<<<<< HEAD
    "# Filter df for the \"openshift-tests.Monitor cluster while tests execute\" test\n",
    "failures_test1 = filter_test_type(\n",
    "    failures_df, \"openshift-tests.Monitor cluster while tests execute\"\n",
    ")\n",
    "failures_test1.head()"
=======
    "# Convert to dataframe\n",
    "passing_df = pd.DataFrame(\n",
    "    passing_list,\n",
    "    columns=[\"timestamp\", \"tab\", \"grid\", \"test\", \"test_duration\", \"passing\"],\n",
    ")\n",
    "passing_df.head()"
>>>>>>> 7e7fb73... Update documentation
   ]
  },
  {
   "cell_type": "code",
   "execution_count": 15,
   "metadata": {},
   "outputs": [
    {
     "data": {
      "text/plain": [
<<<<<<< HEAD
       "<AxesSubplot:>"
=======
       "36046950"
>>>>>>> 7e7fb73... Update documentation
      ]
     },
     "execution_count": 15,
     "metadata": {},
     "output_type": "execute_result"
<<<<<<< HEAD
    },
    {
     "data": {
      "image/png": "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\n",
      "text/plain": [
       "<Figure size 432x288 with 1 Axes>"
      ]
     },
     "metadata": {
      "needs_background": "light"
     },
     "output_type": "display_data"
    }
   ],
   "source": [
    "# Let's plot a histogram to visualize the distribution of the observed `test_duration` data points\n",
    "failures_test1[\"test_duration\"].hist()"
=======
    }
   ],
   "source": [
    "len(passing_df)"
>>>>>>> 7e7fb73... Update documentation
   ]
  },
  {
   "cell_type": "code",
   "execution_count": 16,
   "metadata": {},
   "outputs": [
    {
<<<<<<< HEAD
     "name": "stdout",
     "output_type": "stream",
     "text": [
      "<scipy.stats._continuous_distns.weibull_min_gen object at 0x7fdf1eb30310>\n",
      "(1.1042279647377544, -1.5875971128993993, 1.1831443395383223)\n",
      "\n",
      "<scipy.stats._continuous_distns.norm_gen object at 0x7fdf1eb8e040>\n",
      "(-9.862228386173587e-17, 1.0)\n",
      "\n",
      "<scipy.stats._continuous_distns.weibull_max_gen object at 0x7fdf1eb3f250>\n",
      "(0.599019386828437, 4.417151653057387, 1.2790196029347325)\n",
      "\n",
      "<scipy.stats._continuous_distns.beta_gen object at 0x7fdf1eb8ebe0>\n",
      "(3.0719695238210534, 34147.571958456116, -1.5930958533087356, 17510.059923911518)\n",
      "\n",
      "<scipy.stats._continuous_distns.invgauss_gen object at 0x7fdf1eb5e1f0>\n",
      "(0.35251156270290107, -1.7005070715900503, 4.823978614380098)\n",
      "\n",
      "<scipy.stats._continuous_distns.uniform_gen object at 0x7fdf1eab0b20>\n",
      "(-1.5875750310386525, 6.004726684096039)\n",
      "\n",
      "<scipy.stats._continuous_distns.gamma_gen object at 0x7fdf1eb3fd90>\n",
      "(2.8845349031268146, -1.5913846768363529, 0.5516999880889919)\n",
      "\n",
      "<scipy.stats._continuous_distns.expon_gen object at 0x7fdf1eba1ca0>\n",
      "(-1.5875750310386525, 1.5875750310386525)\n",
      "\n",
      "<scipy.stats._continuous_distns.lognorm_gen object at 0x7fdf1eaee7c0>\n",
      "(0.5825213092113792, -1.6345728759145968, 1.3767969357933814)\n",
      "\n",
      "<scipy.stats._continuous_distns.pearson3_gen object at 0x7fdf1eb12d90>\n",
      "(1.1775691825602044, -8.1590444380147e-17, 0.9369921331096474)\n",
      "\n",
      "<scipy.stats._continuous_distns.triang_gen object at 0x7fdf1eb246a0>\n",
      "(0.1248778780900142, -1.5897056693426617, 6.0241633835378146)\n",
      "\n",
      "\n",
      "Distributions listed by Betterment of fit:\n",
      "............................................\n",
      "   Distribution     chi_square and p-value\n",
      "4      invgauss   (4646.766989051567, 0.0)\n",
      "8       lognorm   (4697.511908744522, 0.0)\n",
      "9      pearson3   (5880.174500310818, 0.0)\n",
      "6         gamma   (5880.334295867299, 0.0)\n",
      "3          beta   (6170.944934253663, 0.0)\n",
      "7         expon   (9945.420120734118, 0.0)\n",
      "1          norm  (16156.909789575071, 0.0)\n",
      "0   weibull_min  (16830.232589423722, 0.0)\n",
      "10       triang  (25204.279697772778, 0.0)\n",
      "5       uniform  (62556.705157673874, 0.0)\n",
      "2   weibull_max  (1113298.5640934566, 0.0)\n"
     ]
    }
   ],
   "source": [
    "# Identify the distribution\n",
    "fit_distribution(failures_test1, \"test_duration\", 0.99, 0.01)"
   ]
  },
  {
   "cell_type": "markdown",
   "metadata": {},
   "source": [
    "We see that the top 2 distributions based on betterment of fit are Inverse Gaussian distribution and Log normal distribution. Let's plot the graphs for these two distributions."
=======
     "data": {
      "text/plain": [
       "19749103"
      ]
     },
     "execution_count": 16,
     "metadata": {},
     "output_type": "execute_result"
    }
   ],
   "source": [
    "# We will drop all the rows having NaN values\n",
    "passing_df = passing_df.dropna()\n",
    "len(passing_df)"
>>>>>>> 7e7fb73... Update documentation
   ]
  },
  {
   "cell_type": "code",
   "execution_count": 17,
   "metadata": {},
<<<<<<< HEAD
   "outputs": [],
   "source": [
    "y_std, len_y, y = standardize(failures_test1, \"test_duration\", 0.99, 0.01)"
   ]
  },
  {
   "cell_type": "code",
   "execution_count": 18,
   "metadata": {},
   "outputs": [
    {
     "data": {
      "image/png": "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\n",
      "text/plain": [
       "<Figure size 648x360 with 3 Axes>"
      ]
     },
     "metadata": {
      "needs_background": "light"
     },
     "output_type": "display_data"
    }
   ],
   "source": [
    "# Plot the distributions\n",
    "fig, axes = plt.subplots(nrows=1, ncols=3, figsize=(9, 5))\n",
    "axes[0].hist(y)\n",
    "axes[0].set_xlabel(\"Test Duration\\n\\nHistogram plot of Oberseved Data\")\n",
    "axes[0].set_ylabel(\"Frequency\")\n",
    "# Plot the density plot for Inverse Gaussian distribution by passing the mu (shape parameter), loc (location)\n",
    "# and scale parameters obtained from above\n",
    "axes[1].plot(y, invgauss.pdf(y_std, 0.35, -1.70, 4.82))\n",
    "axes[1].set_xlabel(\"Test Duration\\n\\nInverse Gaussian Distribution\")\n",
    "axes[1].set_ylabel(\"pdf\")\n",
    "# Plot the density plot for Log Normal distribution by passing the mu (shape), loc (location) and\n",
    "# scale parameters obtained from above\n",
    "axes[2].plot(y, lognorm.pdf(y_std, 0.58, -1.63, 1.37))\n",
    "axes[2].set_xlabel(\"Test Duration\\n\\nLog Normal Distribution\")\n",
    "axes[2].set_ylabel(\"pdf\")\n",
    "fig.tight_layout()"
   ]
  },
  {
   "cell_type": "markdown",
   "metadata": {},
   "source": [
    "The Histogram plot shows the distribution of test duration values over all the data points. The Inverse Gaussian and Log Normal graphs are density plots which are a smoothed, continuous version of a histogram estimated from the data. It plots the probability density function (along Y-axis) vs the test duration values (along X-axis). Probability density plots are used to understand data distribution for a continuous variable and we want to know the likelihood (or probability) of obtaining a range of values that the continuous variable can assume. The area under the curve contains the probabilities for the test duration values."
   ]
  },
  {
   "cell_type": "markdown",
   "metadata": {},
   "source": [
    "Now, let's identify the distribution for the `openshift-tests.[sig-arch][Feature:ClusterUpgrade] Cluster should remain functional during upgrade [Disruptive] [Serial]` test"
=======
   "outputs": [
    {
     "data": {
      "text/plain": [
       "19454749"
      ]
     },
     "execution_count": 17,
     "metadata": {},
     "output_type": "execute_result"
    }
   ],
   "source": [
    "# We will now filter the df for extracting only the tests that are passing\n",
    "passing_df = passing_df[passing_df[\"passing\"]]\n",
    "len(passing_df)"
>>>>>>> 7e7fb73... Update documentation
   ]
  },
  {
   "cell_type": "code",
<<<<<<< HEAD
   "execution_count": 19,
=======
   "execution_count": 18,
>>>>>>> 7e7fb73... Update documentation
   "metadata": {},
   "outputs": [
    {
     "data": {
      "text/html": [
       "<div>\n",
       "<style scoped>\n",
       "    .dataframe tbody tr th:only-of-type {\n",
       "        vertical-align: middle;\n",
       "    }\n",
       "\n",
       "    .dataframe tbody tr th {\n",
       "        vertical-align: top;\n",
       "    }\n",
       "\n",
       "    .dataframe thead th {\n",
       "        text-align: right;\n",
       "    }\n",
       "</style>\n",
       "<table border=\"1\" class=\"dataframe\">\n",
       "  <thead>\n",
       "    <tr style=\"text-align: right;\">\n",
       "      <th></th>\n",
       "      <th>timestamp</th>\n",
       "      <th>tab</th>\n",
       "      <th>grid</th>\n",
       "      <th>test</th>\n",
       "      <th>test_duration</th>\n",
<<<<<<< HEAD
       "      <th>failure</th>\n",
=======
       "      <th>passing</th>\n",
>>>>>>> 7e7fb73... Update documentation
       "    </tr>\n",
       "  </thead>\n",
       "  <tbody>\n",
       "    <tr>\n",
<<<<<<< HEAD
       "      <th>0</th>\n",
       "      <td>2021-08-25 12:17:53</td>\n",
       "      <td>\"redhat-openshift-informing\"</td>\n",
       "      <td>release-openshift-okd-installer-e2e-aws-upgrade</td>\n",
       "      <td>openshift-tests.[sig-arch][Feature:ClusterUpgr...</td>\n",
       "      <td>85.600000</td>\n",
       "      <td>True</td>\n",
       "    </tr>\n",
       "    <tr>\n",
       "      <th>1</th>\n",
       "      <td>2021-08-25 04:41:24</td>\n",
       "      <td>\"redhat-openshift-informing\"</td>\n",
       "      <td>release-openshift-okd-installer-e2e-aws-upgrade</td>\n",
       "      <td>openshift-tests.[sig-arch][Feature:ClusterUpgr...</td>\n",
       "      <td>100.766667</td>\n",
=======
       "      <th>1</th>\n",
       "      <td>2021-08-23 00:01:04</td>\n",
       "      <td>\"redhat-assisted-installer\"</td>\n",
       "      <td>periodic-ci-openshift-release-master-nightly-4...</td>\n",
       "      <td>Overall</td>\n",
       "      <td>95.300000</td>\n",
>>>>>>> 7e7fb73... Update documentation
       "      <td>True</td>\n",
       "    </tr>\n",
       "    <tr>\n",
       "      <th>2</th>\n",
<<<<<<< HEAD
       "      <td>2021-08-24 20:03:02</td>\n",
       "      <td>\"redhat-openshift-informing\"</td>\n",
       "      <td>release-openshift-okd-installer-e2e-aws-upgrade</td>\n",
       "      <td>openshift-tests.[sig-arch][Feature:ClusterUpgr...</td>\n",
       "      <td>98.050000</td>\n",
=======
       "      <td>2021-08-22 08:53:17</td>\n",
       "      <td>\"redhat-assisted-installer\"</td>\n",
       "      <td>periodic-ci-openshift-release-master-nightly-4...</td>\n",
       "      <td>Overall</td>\n",
       "      <td>101.800000</td>\n",
>>>>>>> 7e7fb73... Update documentation
       "      <td>True</td>\n",
       "    </tr>\n",
       "    <tr>\n",
       "      <th>3</th>\n",
<<<<<<< HEAD
       "      <td>2021-08-24 04:35:23</td>\n",
       "      <td>\"redhat-openshift-informing\"</td>\n",
       "      <td>release-openshift-okd-installer-e2e-aws-upgrade</td>\n",
       "      <td>openshift-tests.[sig-arch][Feature:ClusterUpgr...</td>\n",
       "      <td>92.950000</td>\n",
=======
       "      <td>2021-08-20 23:21:32</td>\n",
       "      <td>\"redhat-assisted-installer\"</td>\n",
       "      <td>periodic-ci-openshift-release-master-nightly-4...</td>\n",
       "      <td>Overall</td>\n",
       "      <td>134.833333</td>\n",
>>>>>>> 7e7fb73... Update documentation
       "      <td>True</td>\n",
       "    </tr>\n",
       "    <tr>\n",
       "      <th>4</th>\n",
<<<<<<< HEAD
       "      <td>2021-08-24 01:36:33</td>\n",
       "      <td>\"redhat-openshift-informing\"</td>\n",
       "      <td>release-openshift-okd-installer-e2e-aws-upgrade</td>\n",
       "      <td>openshift-tests.[sig-arch][Feature:ClusterUpgr...</td>\n",
       "      <td>92.166667</td>\n",
=======
       "      <td>2021-08-20 15:57:36</td>\n",
       "      <td>\"redhat-assisted-installer\"</td>\n",
       "      <td>periodic-ci-openshift-release-master-nightly-4...</td>\n",
       "      <td>Overall</td>\n",
       "      <td>109.833333</td>\n",
       "      <td>True</td>\n",
       "    </tr>\n",
       "    <tr>\n",
       "      <th>5</th>\n",
       "      <td>2021-08-20 06:47:40</td>\n",
       "      <td>\"redhat-assisted-installer\"</td>\n",
       "      <td>periodic-ci-openshift-release-master-nightly-4...</td>\n",
       "      <td>Overall</td>\n",
       "      <td>94.800000</td>\n",
>>>>>>> 7e7fb73... Update documentation
       "      <td>True</td>\n",
       "    </tr>\n",
       "  </tbody>\n",
       "</table>\n",
       "</div>"
      ],
      "text/plain": [
<<<<<<< HEAD
       "            timestamp                           tab  \\\n",
       "0 2021-08-25 12:17:53  \"redhat-openshift-informing\"   \n",
       "1 2021-08-25 04:41:24  \"redhat-openshift-informing\"   \n",
       "2 2021-08-24 20:03:02  \"redhat-openshift-informing\"   \n",
       "3 2021-08-24 04:35:23  \"redhat-openshift-informing\"   \n",
       "4 2021-08-24 01:36:33  \"redhat-openshift-informing\"   \n",
       "\n",
       "                                              grid  \\\n",
       "0  release-openshift-okd-installer-e2e-aws-upgrade   \n",
       "1  release-openshift-okd-installer-e2e-aws-upgrade   \n",
       "2  release-openshift-okd-installer-e2e-aws-upgrade   \n",
       "3  release-openshift-okd-installer-e2e-aws-upgrade   \n",
       "4  release-openshift-okd-installer-e2e-aws-upgrade   \n",
       "\n",
       "                                                test  test_duration  failure  \n",
       "0  openshift-tests.[sig-arch][Feature:ClusterUpgr...      85.600000     True  \n",
       "1  openshift-tests.[sig-arch][Feature:ClusterUpgr...     100.766667     True  \n",
=======
       "            timestamp                          tab  \\\n",
       "1 2021-08-23 00:01:04  \"redhat-assisted-installer\"   \n",
       "2 2021-08-22 08:53:17  \"redhat-assisted-installer\"   \n",
       "3 2021-08-20 23:21:32  \"redhat-assisted-installer\"   \n",
       "4 2021-08-20 15:57:36  \"redhat-assisted-installer\"   \n",
       "5 2021-08-20 06:47:40  \"redhat-assisted-installer\"   \n",
       "\n",
       "                                                grid     test  test_duration  \\\n",
       "1  periodic-ci-openshift-release-master-nightly-4...  Overall      95.300000   \n",
       "2  periodic-ci-openshift-release-master-nightly-4...  Overall     101.800000   \n",
       "3  periodic-ci-openshift-release-master-nightly-4...  Overall     134.833333   \n",
       "4  periodic-ci-openshift-release-master-nightly-4...  Overall     109.833333   \n",
       "5  periodic-ci-openshift-release-master-nightly-4...  Overall      94.800000   \n",
       "\n",
       "   passing  \n",
       "1     True  \n",
       "2     True  \n",
       "3     True  \n",
       "4     True  \n",
       "5     True  "
      ]
     },
     "execution_count": 18,
     "metadata": {},
     "output_type": "execute_result"
    }
   ],
   "source": [
    "passing_df.head()"
   ]
  },
  {
   "cell_type": "markdown",
   "metadata": {},
   "source": [
    "## Probability Distribution of Data\n",
    "Data Distribution is a function that lists out all possible values the data can take. It can be a continuous or discrete data distribution. Several known standard Probability Distribution functions provide probabilities of occurrence of different possible outcomes in an experiment. Some well-known probability distributions are Normal, Log-Normal, Beta, Gamma, etc. which have a standard form.\n",
    "\n",
    "We will try to approximate the distributions of the `test_duration` variable and also check its Goodness of fit for different TestGrid tests across all TestGrid dashboards and grids. Based on the type of distribution identified, we can calculate the probability of the test failing."
   ]
  },
  {
   "cell_type": "markdown",
   "metadata": {},
   "source": [
    "Let's see what are the common failing and passing test types and identify both the passing and failing distribution for the top 2 test types."
   ]
  },
  {
   "cell_type": "code",
   "execution_count": 19,
   "metadata": {},
   "outputs": [
    {
     "data": {
      "text/plain": [
       "Overall                                                                                                                                                                                                                                                                                                                              26525\n",
       "openshift-tests.Monitor cluster while tests execute                                                                                                                                                                                                                                                                                   4706\n",
       "openshift-tests.[sig-arch][Feature:ClusterUpgrade] Cluster should remain functional during upgrade [Disruptive] [Serial]                                                                                                                                                                                                              3172\n",
       "Cluster upgrade.[sig-arch] Check if alerts are firing during or after upgrade success                                                                                                                                                                                                                                                 1973\n",
       "operator.Run multi-stage test e2e-aws-upgrade - e2e-aws-upgrade-openshift-e2e-test container test                                                                                                                                                                                                                                     1485\n",
       "                                                                                                                                                                                                                                                                                                                                     ...  \n",
       "[Elasticsearch] Verify Metrics Access.hack/testing-olm/test-200-verify-es-metrics-access.sh:70: executing 'oc -n e2e-test-20047 get deployment -l component=elasticsearch -o jsonpath='{.items[0].metadata.name}'' expecting success; re-trying every 0.2s until completion or 120.000s                                                  1\n",
       "[Elasticsearch] Verify Metrics Access.hack/testing-olm/test-200-verify-es-metrics-access.sh:70: executing 'oc -n e2e-test-18549 get deployment -l component=elasticsearch -o jsonpath='{.items[0].metadata.name}'' expecting success; re-trying every 0.2s until completion or 120.000s                                                  1\n",
       "[Elasticsearch] Verify Metrics Access.hack/testing-olm/test-200-verify-es-metrics-access.sh:70: executing 'oc -n e2e-test-18337 get deployment -l component=elasticsearch -o jsonpath='{.items[0].metadata.name}'' expecting success; re-trying every 0.2s until completion or 120.000s                                                  1\n",
       "[Elasticsearch] Verify Metrics Access.hack/testing-olm/test-200-verify-es-metrics-access.sh:70: executing 'oc -n e2e-test-17837 get deployment -l component=elasticsearch -o jsonpath='{.items[0].metadata.name}'' expecting success; re-trying every 0.2s until completion or 120.000s                                                  1\n",
       "[Elasticsearch] Index Management Block Auto-Create For Write Suffix.hack/testing-olm/test-657-im-block-autocreate-for-write-suffix.sh:64: executing 'oc -n e2e-test-31552 get deployment -l component=elasticsearch -o jsonpath='{.items[0].metadata.name}'' expecting success; re-trying every 0.2s until completion or 120.000s        1\n",
       "Name: test, Length: 6828, dtype: int64"
      ]
     },
     "execution_count": 19,
     "metadata": {},
     "output_type": "execute_result"
    }
   ],
   "source": [
    "failures_df[\"test\"].value_counts()"
   ]
  },
  {
   "cell_type": "code",
   "execution_count": 20,
   "metadata": {},
   "outputs": [
    {
     "data": {
      "text/plain": [
       "operator.All images are built and tagged into stable                                                                                                                                                                                                                                                                                                                46521\n",
       "operator.Import the release payload \"latest\" from an external source                                                                                                                                                                                                                                                                                                44332\n",
       "Overall                                                                                                                                                                                                                                                                                                                                                             32424\n",
       "operator.Find the input image origin-centos-8 and tag it into the pipeline                                                                                                                                                                                                                                                                                          30183\n",
       "operator.Find the input image ocp-4.5-upi-installer and tag it into the pipeline                                                                                                                                                                                                                                                                                    21493\n",
       "                                                                                                                                                                                                                                                                                                                                                                    ...  \n",
       "[Elasticsearch] Index Management Block Auto-Create For Write Suffix.hack/testing-olm/test-657-im-block-autocreate-for-write-suffix.sh:82: executing 'oc -n e2e-test-21423 exec elasticsearch-cdm-2ly54ypm-1-bfbb6768f-dlt26 -c elasticsearch -- es_util --query=foo-write/_doc/1 -d '{\"key\":\"value\"}' -XPUT -w %{http_code}' expecting success and text '.*404'         1\n",
       "[Elasticsearch] Index Management Block Auto-Create For Write Suffix.hack/testing-olm/test-657-im-block-autocreate-for-write-suffix.sh:92: executing 'oc -n e2e-test-21423 exec elasticsearch-cdm-2ly54ypm-1-bfbb6768f-dlt26 -c elasticsearch -- es_util --query=foo-write/_doc/1 -d '{\"key\":\"value\"}' -XPUT  -w %{http_code}' expecting success and text '.*201'        1\n",
       "[Elasticsearch] Index Management Block Auto-Create For Write Suffix.hack/testing-olm/test-657-im-block-autocreate-for-write-suffix.sh:58: executing 'hack/testing-olm/../../hack/deploy-example-secrets.sh  e2e-test-6974' expecting success                                                                                                                            1\n",
       "[Elasticsearch] Index Management Block Auto-Create For Write Suffix.hack/testing-olm/test-657-im-block-autocreate-for-write-suffix.sh:58: executing 'hack/testing-olm/../../hack/deploy-example-secrets.sh  e2e-test-4451' expecting success                                                                                                                            1\n",
       "OSD e2e suite.[install] [Suite: e2e] Storage should be able to be expanded                                                                                                                                                                                                                                                                                              1\n",
       "Name: test, Length: 10501, dtype: int64"
      ]
     },
     "execution_count": 20,
     "metadata": {},
     "output_type": "execute_result"
    }
   ],
   "source": [
    "passing_df[\"test\"].value_counts()"
   ]
  },
  {
   "cell_type": "markdown",
   "metadata": {},
   "source": [
    "Now let's find the common test types which are both failing and passing"
   ]
  },
  {
   "cell_type": "code",
   "execution_count": 21,
   "metadata": {},
   "outputs": [],
   "source": [
    "combined = pd.merge(\n",
    "    failures_df,\n",
    "    passing_df,\n",
    "    on=[\"tab\", \"grid\", \"test\"],\n",
    ")"
   ]
  },
  {
   "cell_type": "code",
   "execution_count": 22,
   "metadata": {},
   "outputs": [
    {
     "data": {
      "text/plain": [
       "Overall                                                                                                                                       1822282\n",
       "openshift-tests.[sig-arch][Feature:ClusterUpgrade] Cluster should remain functional during upgrade [Disruptive] [Serial]                       328050\n",
       "openshift-tests.[sig-auth][Feature:SCC][Early] should not have pod creation failures during install [Suite:openshift/conformance/parallel]     305356\n",
       "operator.Run multi-stage test e2e-aws-upgrade - e2e-aws-upgrade-openshift-e2e-test container test                                              161428\n",
       "operator.Run multi-stage test e2e-gcp - e2e-gcp-openshift-e2e-test container test                                                              161068\n",
       "                                                                                                                                               ...   \n",
       "operator.Run multi-stage test ocp-e2e-serial-remote-libvirt-s390x - ocp-e2e-serial-remote-libvirt-s390x-gather-libvirt container test               1\n",
       "operator.Run multi-stage test e2e-metal-ipi-compact - e2e-metal-ipi-compact-baremetalds-devscripts-setup container test                             1\n",
       "operator.Run multi-stage test e2e-metal-ipi-compact - e2e-metal-ipi-compact-gather-audit-logs container test                                        1\n",
       "operator.Run multi-stage test e2e-******* - e2e-*******-gather-audit-logs container test                                                            1\n",
       "operator.Run multi-stage test e2e-******* - e2e-*******-gather-must-gather container test                                                           1\n",
       "Name: test, Length: 4273, dtype: int64"
      ]
     },
     "execution_count": 22,
     "metadata": {},
     "output_type": "execute_result"
    }
   ],
   "source": [
    "combined[\"test\"].value_counts()"
   ]
  },
  {
   "cell_type": "markdown",
   "metadata": {},
   "source": [
    "### Failure Distribution\n",
    "\n",
    "Let's identify the distribution type for the following 2 tests:\n",
    "* openshift-tests.[sig-arch][Feature:ClusterUpgrade] Cluster should remain functional during upgrade [Disruptive] [Serial]\n",
    "* operator.Run multi-stage test e2e-aws-upgrade - e2e-aws-upgrade-openshift-e2e-test container test\n",
    "\n",
    "#### Test: \"openshift-tests.[sig-arch][Feature:ClusterUpgrade] Cluster should remain functional during upgrade [Disruptive] [Serial]\""
   ]
  },
  {
   "cell_type": "code",
   "execution_count": 23,
   "metadata": {},
   "outputs": [
    {
     "data": {
      "text/html": [
       "<div>\n",
       "<style scoped>\n",
       "    .dataframe tbody tr th:only-of-type {\n",
       "        vertical-align: middle;\n",
       "    }\n",
       "\n",
       "    .dataframe tbody tr th {\n",
       "        vertical-align: top;\n",
       "    }\n",
       "\n",
       "    .dataframe thead th {\n",
       "        text-align: right;\n",
       "    }\n",
       "</style>\n",
       "<table border=\"1\" class=\"dataframe\">\n",
       "  <thead>\n",
       "    <tr style=\"text-align: right;\">\n",
       "      <th></th>\n",
       "      <th>timestamp</th>\n",
       "      <th>tab</th>\n",
       "      <th>grid</th>\n",
       "      <th>test</th>\n",
       "      <th>test_duration</th>\n",
       "      <th>failure</th>\n",
       "    </tr>\n",
       "  </thead>\n",
       "  <tbody>\n",
       "    <tr>\n",
       "      <th>0</th>\n",
       "      <td>2021-08-25 12:17:53</td>\n",
       "      <td>\"redhat-openshift-informing\"</td>\n",
       "      <td>release-openshift-okd-installer-e2e-aws-upgrade</td>\n",
       "      <td>openshift-tests.[sig-arch][Feature:ClusterUpgr...</td>\n",
       "      <td>85.600000</td>\n",
       "      <td>True</td>\n",
       "    </tr>\n",
       "    <tr>\n",
       "      <th>1</th>\n",
       "      <td>2021-08-25 04:41:24</td>\n",
       "      <td>\"redhat-openshift-informing\"</td>\n",
       "      <td>release-openshift-okd-installer-e2e-aws-upgrade</td>\n",
       "      <td>openshift-tests.[sig-arch][Feature:ClusterUpgr...</td>\n",
       "      <td>100.766667</td>\n",
       "      <td>True</td>\n",
       "    </tr>\n",
       "    <tr>\n",
       "      <th>2</th>\n",
       "      <td>2021-08-24 20:03:02</td>\n",
       "      <td>\"redhat-openshift-informing\"</td>\n",
       "      <td>release-openshift-okd-installer-e2e-aws-upgrade</td>\n",
       "      <td>openshift-tests.[sig-arch][Feature:ClusterUpgr...</td>\n",
       "      <td>98.050000</td>\n",
       "      <td>True</td>\n",
       "    </tr>\n",
       "    <tr>\n",
       "      <th>3</th>\n",
       "      <td>2021-08-24 04:35:23</td>\n",
       "      <td>\"redhat-openshift-informing\"</td>\n",
       "      <td>release-openshift-okd-installer-e2e-aws-upgrade</td>\n",
       "      <td>openshift-tests.[sig-arch][Feature:ClusterUpgr...</td>\n",
       "      <td>92.950000</td>\n",
       "      <td>True</td>\n",
       "    </tr>\n",
       "    <tr>\n",
       "      <th>4</th>\n",
       "      <td>2021-08-24 01:36:33</td>\n",
       "      <td>\"redhat-openshift-informing\"</td>\n",
       "      <td>release-openshift-okd-installer-e2e-aws-upgrade</td>\n",
       "      <td>openshift-tests.[sig-arch][Feature:ClusterUpgr...</td>\n",
       "      <td>92.166667</td>\n",
       "      <td>True</td>\n",
       "    </tr>\n",
       "  </tbody>\n",
       "</table>\n",
       "</div>"
      ],
      "text/plain": [
       "            timestamp                           tab  \\\n",
       "0 2021-08-25 12:17:53  \"redhat-openshift-informing\"   \n",
       "1 2021-08-25 04:41:24  \"redhat-openshift-informing\"   \n",
       "2 2021-08-24 20:03:02  \"redhat-openshift-informing\"   \n",
       "3 2021-08-24 04:35:23  \"redhat-openshift-informing\"   \n",
       "4 2021-08-24 01:36:33  \"redhat-openshift-informing\"   \n",
       "\n",
       "                                              grid  \\\n",
       "0  release-openshift-okd-installer-e2e-aws-upgrade   \n",
       "1  release-openshift-okd-installer-e2e-aws-upgrade   \n",
       "2  release-openshift-okd-installer-e2e-aws-upgrade   \n",
       "3  release-openshift-okd-installer-e2e-aws-upgrade   \n",
       "4  release-openshift-okd-installer-e2e-aws-upgrade   \n",
       "\n",
       "                                                test  test_duration  failure  \n",
       "0  openshift-tests.[sig-arch][Feature:ClusterUpgr...      85.600000     True  \n",
       "1  openshift-tests.[sig-arch][Feature:ClusterUpgr...     100.766667     True  \n",
>>>>>>> 7e7fb73... Update documentation
       "2  openshift-tests.[sig-arch][Feature:ClusterUpgr...      98.050000     True  \n",
       "3  openshift-tests.[sig-arch][Feature:ClusterUpgr...      92.950000     True  \n",
       "4  openshift-tests.[sig-arch][Feature:ClusterUpgr...      92.166667     True  "
      ]
     },
<<<<<<< HEAD
     "execution_count": 19,
=======
     "execution_count": 23,
>>>>>>> 7e7fb73... Update documentation
     "metadata": {},
     "output_type": "execute_result"
    }
   ],
   "source": [
<<<<<<< HEAD
    "# Filter df for the \"openshift-tests.[sig-arch][Feature:ClusterUpgrade] Cluster should remain functional during upgrade\n",
    "# [Disruptive] [Serial]\" test\n",
    "failures_test2 = filter_test_type(\n",
    "    failures_df,\n",
    "    \"openshift-tests.[sig-arch][Feature:ClusterUpgrade] Cluster should remain functional during upgrade [Disruptive] \\\n",
    "    [Serial]\",\n",
    ")\n",
    "failures_test2.head()"
=======
    "# Filter df for the \"openshift-tests.[sig-arch][Feature:ClusterUpgrade] Cluster should remain functional\n",
    "# during upgrade [Disruptive] [Serial]\" test\n",
    "failures_test1 = filter_test_type(\n",
    "    failures_df,\n",
    "    \"openshift-tests.[sig-arch][Feature:ClusterUpgrade] Cluster should remain functional \"\n",
    "    \"during upgrade [Disruptive] [Serial]\",\n",
    ")\n",
    "failures_test1.head()"
>>>>>>> 7e7fb73... Update documentation
   ]
  },
  {
   "cell_type": "code",
<<<<<<< HEAD
   "execution_count": 20,
=======
   "execution_count": 24,
>>>>>>> 7e7fb73... Update documentation
   "metadata": {},
   "outputs": [
    {
     "data": {
      "text/plain": [
       "<AxesSubplot:>"
      ]
     },
<<<<<<< HEAD
     "execution_count": 20,
=======
     "execution_count": 24,
>>>>>>> 7e7fb73... Update documentation
     "metadata": {},
     "output_type": "execute_result"
    },
    {
     "data": {
<<<<<<< HEAD
      "image/png": "iVBORw0KGgoAAAANSUhEUgAAAYQAAAD4CAYAAADsKpHdAAAAOXRFWHRTb2Z0d2FyZQBNYXRwbG90bGliIHZlcnNpb24zLjQuMSwgaHR0cHM6Ly9tYXRwbG90bGliLm9yZy/Z1A+gAAAACXBIWXMAAAsTAAALEwEAmpwYAAAUSUlEQVR4nO3df4xd5X3n8fdnodAEZzE/uiNkW2u3tVKxeH+QEbBKFY3LLjFQ1ayURmRRMVlW1mpJl25cNU7zB1GraMmuUhS0WSS3eGNWEU6WpsIKpInXyQhVWlMgJZgfpUyIEzwyuCnU6SRpU3e/+8d9vNw141/33rl3Zu77JY3m3Oc85zzP12dmPj7n3DmTqkKSpL836glIkhYHA0GSBBgIkqTGQJAkAQaCJKk5d9QTOJVLL7201q5d2/P2P/jBD7jgggsGN6ElxNrHs3YY7/rHuXZ4s/6nnnrqe1X1U2e7/aIOhLVr1/Lkk0/2vP309DRTU1ODm9ASYu1To57GyIxz/eNcO7xZf5Lv9LK9l4wkSYCBIElqDARJEmAgSJIaA0GSBBgIkqTGQJAkAQaCJKkxECRJwCL/TWUtHWu3PzKScQ/efeNIxpWWI88QJEmAgSBJagwESRJgIEiSGgNBkgQYCJKkxkCQJAEGgiSpOW0gJNmZ5EiSZ+dZty1JJbm0vU6Se5PMJHkmyZVdfbckeal9bBlsGZKkfp3JGcJngU0nNiZZA1wHfLer+XpgffvYCtzX+l4M3AVcDVwF3JXkon4mLkkarNMGQlU9Brw+z6p7gN8AqqttM/BAdewHVia5DHgvsLeqXq+qN4C9zBMykqTR6ekeQpLNwGxVffOEVauAV7peH2ptJ2uXJC0SZ/1wuyRvB36TzuWigUuylc7lJiYmJpienu55X3Nzc31tv5QNu/ZtG44Nbaxu89U4zscdxrv+ca4d+q+/l6ed/gywDvhmEoDVwDeSXAXMAmu6+q5ubbPA1Ant0/PtvKp2ADsAJicna2pqar5uZ2R6epp+tl/Khl37baN62uktU29pG+fjDuNd/zjXDv3Xf9aXjKrqQFX9g6paW1Vr6Vz+ubKqXgX2ALe2dxtdAxytqsPAV4DrklzUbiZf19okSYvEmbzt9EHgfwPvTHIoye2n6P4o8DIwA/wu8O8Bqup14LeBJ9rHb7U2SdIicdpLRlX1gdOsX9u1XMAdJ+m3E9h5lvOTJA2Jv6ksSQIMBElSYyBIkgADQZLUGAiSJMBAkCQ1BoIkCTAQJEmNgSBJAgwESVJjIEiSAANBktQYCJIkwECQJDUGgiQJMBAkSY2BIEkCDARJUmMgSJKAMwiEJDuTHEnybFfbf0nyp0meSfIHSVZ2rftokpkkLyZ5b1f7ptY2k2T7wCuRJPXlTM4QPgtsOqFtL3BFVf1j4M+AjwIkuRy4GfhHbZv/luScJOcAnwGuBy4HPtD6SpIWidMGQlU9Brx+QttXq+pYe7kfWN2WNwO7q+pvqurbwAxwVfuYqaqXq+rHwO7WV5K0SJw7gH38G+DzbXkVnYA47lBrA3jlhPar59tZkq3AVoCJiQmmp6d7ntjc3Fxf2y9lw65924Zjp++0AOarcZyPO4x3/eNcO/Rff1+BkORjwDHgc/3sp1tV7QB2AExOTtbU1FTP+5qenqaf7ZeyYdd+2/ZHhjZWt4O3TL2lbZyPO4x3/eNcO/Rff8+BkOQ24BeBa6uqWvMssKar2+rWxinaJUmLQE9vO02yCfgN4Jeq6oddq/YANyc5P8k6YD3wx8ATwPok65KcR+fG857+pi5JGqTTniEkeRCYAi5Ncgi4i867is4H9iYB2F9V/66qnkvyBeB5OpeS7qiqv2v7+RDwFeAcYGdVPbcA9UiSenTaQKiqD8zTfP8p+n8C+MQ87Y8Cj57V7CRJQ+NvKkuSAANBktQYCJIkwECQJDUGgiQJMBAkSY2BIEkCDARJUmMgSJIAA0GS1BgIkiTAQJAkNQaCJAkwECRJjYEgSQIMBElSYyBIkgADQZLUGAiSJOAMAiHJziRHkjzb1XZxkr1JXmqfL2rtSXJvkpkkzyS5smubLa3/S0m2LEw5kqRenckZwmeBTSe0bQf2VdV6YF97DXA9sL59bAXug06AAHcBVwNXAXcdDxFJ0uJw2kCoqseA109o3gzsasu7gJu62h+ojv3AyiSXAe8F9lbV61X1BrCXt4aMJGmEzu1xu4mqOtyWXwUm2vIq4JWufoda28na3yLJVjpnF0xMTDA9Pd3jFGFubq6v7ZeyYde+bcOxoY3Vbb4ax/m4w3jXP861Q//19xoI/09VVZLqdz9d+9sB7ACYnJysqampnvc1PT1NP9svZcOu/bbtjwxtrG4Hb5l6S9s4H3cY7/rHuXbov/5e32X0WrsURPt8pLXPAmu6+q1ubSdrlyQtEr0Gwh7g+DuFtgAPd7Xf2t5tdA1wtF1a+gpwXZKL2s3k61qbJGmROO0loyQPAlPApUkO0Xm30N3AF5LcDnwHeH/r/ihwAzAD/BD4IEBVvZ7kt4EnWr/fqqoTb1RLkkbotIFQVR84yapr5+lbwB0n2c9OYOdZzU6SNDT+prIkCTAQJEmNgSBJAgwESVJjIEiSAANBktQYCJIkwECQJDUGgiQJMBAkSY2BIEkCDARJUmMgSJIAA0GS1BgIkiTAQJAkNQaCJAkwECRJjYEgSQL6DIQk/zHJc0meTfJgkp9Msi7J40lmknw+yXmt7/nt9Uxbv3YgFUiSBqLnQEiyCvgPwGRVXQGcA9wMfBK4p6p+FngDuL1tcjvwRmu/p/WTJC0S/V4yOhd4W5JzgbcDh4FfAB5q63cBN7Xlze01bf21SdLn+JKkAUlV9b5xcifwCeBHwFeBO4H97SyAJGuAL1fVFUmeBTZV1aG27lvA1VX1vRP2uRXYCjAxMfGu3bt39zy/ubk5VqxY0fP2S9mwaz8we3RoY3XbsOrCt7SN83GH8a5/nGuHN+vfuHHjU1U1ebbbn9vrwEkuovO//nXAXwL/E9jU6/6Oq6odwA6AycnJmpqa6nlf09PT9LP9Ujbs2m/b/sjQxup28Japt7SN83GH8a5/nGuH/uvv55LRvwC+XVV/XlV/C3wReDewsl1CAlgNzLblWWANQFt/IfAXfYwvSRqgfgLhu8A1Sd7e7gVcCzwPfB14X+uzBXi4Le9pr2nrv1b9XK+SJA1Uz4FQVY/TuTn8DeBA29cO4CPAh5PMAJcA97dN7gcuae0fBrb3MW9J0oD1fA8BoKruAu46ofll4Kp5+v418Mv9jCdJWjj+prIkCTAQJEmNgSBJAgwESVJjIEiSAANBktQYCJIkwECQJDUGgiQJMBAkSU1fj66QRm3tPI/d3rbh2FAex33w7hsXfAxpmDxDkCQBBoIkqTEQJEmAgSBJagwESRJgIEiSGgNBkgT0GQhJViZ5KMmfJnkhyT9PcnGSvUleap8van2T5N4kM0meSXLlYEqQJA1Cv2cInwb+sKp+DvgnwAvAdmBfVa0H9rXXANcD69vHVuC+PseWJA1Qz4GQ5ELgPcD9AFX146r6S2AzsKt12wXc1JY3Aw9Ux35gZZLLeh1fkjRY/ZwhrAP+HPjvSf4kye8luQCYqKrDrc+rwERbXgW80rX9odYmSVoEUlW9bZhMAvuBd1fV40k+DXwf+NWqWtnV742quijJl4C7q+qPWvs+4CNV9eQJ+91K55ISExMT79q9e3dP8wOYm5tjxYoVPW+/lA279gOzR4c21ulMvA1e+9HCj7Nh1YULP0gP/Lofz9rhzfo3btz4VFVNnu32/Tzc7hBwqKoeb68fonO/4LUkl1XV4XZJ6EhbPwus6dp+dWv7/1TVDmAHwOTkZE1NTfU8wenpafrZfikbdu3DeJjcmdq24RifOrDwz208eMvUgo/RC7/up0Y9jZHpt/6eLxlV1avAK0ne2ZquBZ4H9gBbWtsW4OG2vAe4tb3b6BrgaNelJUnSiPX736hfBT6X5DzgZeCDdELmC0luB74DvL/1fRS4AZgBftj6SpIWib4CoaqeBua7TnXtPH0LuKOf8SRJC8ffVJYkAQaCJKkxECRJgIEgSWoMBEkSYCBIkhoDQZIEGAiSpMZAkCQBBoIkqTEQJEmAgSBJagwESRJgIEiSGgNBkgQYCJKkxkCQJAEGgiSpMRAkScAAAiHJOUn+JMmX2ut1SR5PMpPk80nOa+3nt9czbf3afseWJA3OIM4Q7gRe6Hr9SeCeqvpZ4A3g9tZ+O/BGa7+n9ZMkLRLn9rNxktXAjcAngA8nCfALwL9uXXYBHwfuAza3ZYCHgP+aJFVV/cxBGjdrtz9yyvXbNhzjttP06dXBu29ckP1qcUg/P4+TPAT8J+AdwK8DtwH721kASdYAX66qK5I8C2yqqkNt3beAq6vqeyfscyuwFWBiYuJdu3fv7nl+c3NzrFixouftl7Jh135g9ujQxjqdibfBaz9a+HE2rLpw4QeZx+n+rRey/lHVfKbG+Xse3qx/48aNT1XV5Nlu3/MZQpJfBI5U1VNJpnrdz4mqagewA2BycrKmpnrf9fT0NP1sv5QNu/aF+h9pL7ZtOManDvR18ntGDt4yteBjzOd0/9YLWf+oaj5T4/w9D/3X389XzbuBX0pyA/CTwN8HPg2sTHJuVR0DVgOzrf8ssAY4lORc4ELgL/oYX5I0QD3fVK6qj1bV6qpaC9wMfK2qbgG+DryvddsCPNyW97TXtPVf8/6BJC0eC/F7CB+hc4N5BrgEuL+13w9c0to/DGxfgLElST0ayIXGqpoGptvyy8BV8/T5a+CXBzGeJGnw/E1lSRJgIEiSGgNBkgQYCJKkxkCQJAEGgiSpMRAkSYCBIElqDARJEmAgSJIaA0GSBBgIkqRm4f+KiIbq+J9XXMg/oyhpefIMQZIEGAiSpMZAkCQBBoIkqTEQJEmAgSBJanoOhCRrknw9yfNJnktyZ2u/OMneJC+1zxe19iS5N8lMkmeSXDmoIiRJ/evnDOEYsK2qLgeuAe5IcjmwHdhXVeuBfe01wPXA+vaxFbivj7ElSQPWcyBU1eGq+kZb/ivgBWAVsBnY1brtAm5qy5uBB6pjP7AyyWW9ji9JGqxUVf87SdYCjwFXAN+tqpWtPcAbVbUyyZeAu6vqj9q6fcBHqurJE/a1lc4ZBBMTE+/avXt3z/Oam5tjxYoVPW+/FB2YPQrAxNvgtR+NeDIjMqzaN6y6cOEHmcfxY3wyC1n/qGo+U+P4Pd/teP0bN258qqomz3b7vh9dkWQF8PvAr1XV9zsZ0FFVleSsEqeqdgA7ACYnJ2tqaqrnuU1PT9PP9kvRbV2PrvjUgfF8Msmwaj94y9SCjzGf0z2SZCHrH1XNZ2ocv+e79Vt/X+8ySvITdMLgc1X1xdb82vFLQe3zkdY+C6zp2nx1a5MkLQL9vMsowP3AC1X1O12r9gBb2vIW4OGu9lvbu42uAY5W1eFex5ckDVY/55XvBn4FOJDk6db2m8DdwBeS3A58B3h/W/cocAMwA/wQ+GAfY0uSBqznQGg3h3OS1dfO07+AO3odT5K0sPxNZUkS4B/IkaRTWjuiPzR18O4bhz6mZwiSJMBAkCQ1BoIkCTAQJEmNgSBJAgwESVJjIEiSAANBktQYCJIkwECQJDUGgiQJWObPMjowe/S0f11qIYziGSSS1C/PECRJgIEgSWoMBEkSsMzvIYzKqJ6fLkn9MBAknbFx+mMx42jogZBkE/Bp4Bzg96rq7mHPQRoEzwS13Aw1EJKcA3wG+JfAIeCJJHuq6vlhzkPS0nKm4bttw7GRvNV8uRj2TeWrgJmqermqfgzsBjYPeQ6SpHmkqoY3WPI+YFNV/dv2+leAq6vqQ119tgJb28t3Ai/2MeSlwPf62H4ps/bxNc71j3Pt8Gb9/7CqfupsN150N5WragewYxD7SvJkVU0OYl9LjbWPZ+0w3vWPc+3Qf/3DvmQ0C6zper26tUmSRmzYgfAEsD7JuiTnATcDe4Y8B0nSPIZ6yaiqjiX5EPAVOm873VlVzy3gkAO59LREWfv4Guf6x7l26LP+od5UliQtXj7LSJIEGAiSpGZZBkKSTUleTDKTZPuo5zMMSQ4mOZDk6SRPtraLk+xN8lL7fNGo5zkISXYmOZLk2a62eWtNx73ta+GZJFeObuaDcZL6P55kth3/p5Pc0LXuo63+F5O8dzSzHowka5J8PcnzSZ5LcmdrX/bH/xS1D+7YV9Wy+qBzs/pbwE8D5wHfBC4f9byGUPdB4NIT2v4zsL0tbwc+Oep5DqjW9wBXAs+erlbgBuDLQIBrgMdHPf8Fqv/jwK/P0/fy9j1wPrCufW+cM+oa+qj9MuDKtvwO4M9ajcv++J+i9oEd++V4huDjMd60GdjVlncBN41uKoNTVY8Br5/QfLJaNwMPVMd+YGWSy4Yy0QVykvpPZjOwu6r+pqq+DczQ+R5ZkqrqcFV9oy3/FfACsIoxOP6nqP1kzvrYL8dAWAW80vX6EKf+R1suCvhqkqfa4z8AJqrqcFt+FZgYzdSG4mS1jtPXw4faZZGdXZcHl239SdYC/wx4nDE7/ifUDgM69ssxEMbVz1fVlcD1wB1J3tO9sjrnkGPxHuNxqrXLfcDPAP8UOAx8aqSzWWBJVgC/D/xaVX2/e91yP/7z1D6wY78cA2EsH49RVbPt8xHgD+icGr52/PS4fT4yuhkuuJPVOhZfD1X1WlX9XVX9H+B3efPSwLKrP8lP0PmB+Lmq+mJrHovjP1/tgzz2yzEQxu7xGEkuSPKO48vAdcCzdOre0rptAR4ezQyH4mS17gFube82uQY42nVpYdk44br4v6Jz/KFT/81Jzk+yDlgP/PGw5zcoSQLcD7xQVb/TtWrZH/+T1T7QYz/qO+cLdDf+Bjp34L8FfGzU8xlCvT9N590E3wSeO14zcAmwD3gJ+F/AxaOe64DqfZDOqfHf0rkuevvJaqXz7pLPtK+FA8DkqOe/QPX/j1bfM+0HwWVd/T/W6n8RuH7U8++z9p+ncznoGeDp9nHDOBz/U9Q+sGPvoyskScDyvGQkSeqBgSBJAgwESVJjIEiSAANBktQYCJIkwECQJDX/F54lVkPyxAJqAAAAAElFTkSuQmCC\n",
=======
      "image/png": "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\n",
>>>>>>> 7e7fb73... Update documentation
      "text/plain": [
       "<Figure size 432x288 with 1 Axes>"
      ]
     },
     "metadata": {
      "needs_background": "light"
     },
     "output_type": "display_data"
    }
   ],
   "source": [
    "# Let's plot a histogram to visualize the distribution of the observed `test_duration` data points\n",
<<<<<<< HEAD
    "failures_test2[\"test_duration\"].hist()"
=======
    "failures_test1[\"test_duration\"].hist()"
>>>>>>> 7e7fb73... Update documentation
   ]
  },
  {
   "cell_type": "code",
<<<<<<< HEAD
   "execution_count": 21,
=======
   "execution_count": 25,
>>>>>>> 7e7fb73... Update documentation
   "metadata": {},
   "outputs": [
    {
     "name": "stdout",
     "output_type": "stream",
     "text": [
<<<<<<< HEAD
      "<scipy.stats._continuous_distns.weibull_min_gen object at 0x7fdf1eb30310>\n",
      "(2.4666409250029213, -2.429851499670257, 2.730324003150882)\n",
      "\n",
      "<scipy.stats._continuous_distns.norm_gen object at 0x7fdf1eb8e040>\n",
      "(2.1940206700858674e-16, 1.0)\n",
      "\n",
      "<scipy.stats._continuous_distns.weibull_max_gen object at 0x7fdf1eb3f250>\n",
      "(0.5355423727332492, 3.4269735536094625, 1.5869343569701275)\n",
      "\n",
      "<scipy.stats._continuous_distns.beta_gen object at 0x7fdf1eb8ebe0>\n",
      "(10.126767023068037, 323844.2286736137, -2.9681707939841058, 94950.1014663442)\n",
      "\n",
      "<scipy.stats._continuous_distns.invgauss_gen object at 0x7fdf1eb5e1f0>\n",
      "(0.06184493537752664, -3.7331784362505163, 60.36352672018438)\n",
      "\n",
      "<scipy.stats._continuous_distns.uniform_gen object at 0x7fdf1eab0b20>\n",
      "(-2.3600801098082758, 5.787053663417738)\n",
      "\n",
      "<scipy.stats._continuous_distns.gamma_gen object at 0x7fdf1eb3fd90>\n",
      "(10.131064867707352, -2.9565063612679223, 0.2918259243225382)\n",
      "\n",
      "<scipy.stats._continuous_distns.expon_gen object at 0x7fdf1eba1ca0>\n",
      "(-2.3600801098082758, 2.3600801098082758)\n",
      "\n",
      "<scipy.stats._continuous_distns.lognorm_gen object at 0x7fdf1eaee7c0>\n",
      "(0.2596785561409856, -3.5107801112747077, 3.3899163007423416)\n",
      "\n",
      "<scipy.stats._continuous_distns.pearson3_gen object at 0x7fdf1eb12d90>\n",
      "(0.6282905320076116, 2.598344433497942e-16, 0.9288213773869954)\n",
      "\n",
      "<scipy.stats._continuous_distns.triang_gen object at 0x7fdf1eb246a0>\n",
      "(0.32166229560869486, -2.400868582013486, 6.101777076749301)\n",
      "\n",
=======
>>>>>>> 7e7fb73... Update documentation
      "\n",
      "Distributions listed by Betterment of fit:\n",
      "............................................\n",
      "   Distribution     chi_square and p-value\n",
      "8       lognorm   (3414.440248564422, 0.0)\n",
      "4      invgauss  (3564.6536127421323, 0.0)\n",
      "9      pearson3   (3836.020406427195, 0.0)\n",
      "6         gamma  (3836.1215533111454, 0.0)\n",
      "3          beta   (3864.133649180025, 0.0)\n",
      "0   weibull_min   (5253.086199836209, 0.0)\n",
      "1          norm   (6015.403056755193, 0.0)\n",
      "10       triang   (8079.894052575527, 0.0)\n",
      "7         expon  (13245.469287380836, 0.0)\n",
      "5       uniform  (14363.637258136947, 0.0)\n",
      "2   weibull_max  (319418.87570963765, 0.0)\n"
     ]
    }
   ],
   "source": [
    "# Identify the distribution\n",
<<<<<<< HEAD
    "fit_distribution(failures_test2, \"test_duration\", 0.99, 0.01)"
=======
    "d1_failing, r1_failing = fit_distribution(failures_test1, \"test_duration\", 0.99, 0.01)"
   ]
  },
  {
   "cell_type": "code",
   "execution_count": 26,
   "metadata": {},
   "outputs": [
    {
     "name": "stdout",
     "output_type": "stream",
     "text": [
      "   Distribution Names                                         Parameters\n",
      "0         weibull_min  (2.4666409250029213, -2.429851499670257, 2.730...\n",
      "1                norm                      (2.1940206700858674e-16, 1.0)\n",
      "2         weibull_max  (0.5355423727332492, 3.4269735536094625, 1.586...\n",
      "3                beta  (10.126767023068037, 323844.2286736137, -2.968...\n",
      "4            invgauss  (0.06184493537752664, -3.7331784362505163, 60....\n",
      "5             uniform           (-2.3600801098082758, 5.787053663417738)\n",
      "6               gamma  (10.131064867707352, -2.9565063612679223, 0.29...\n",
      "7               expon          (-2.3600801098082758, 2.3600801098082758)\n",
      "8             lognorm  (0.2596785561409856, -3.5107801112747077, 3.38...\n",
      "9            pearson3  (0.6282905320076116, 2.598344433497942e-16, 0....\n",
      "10             triang  (0.32166229560869486, -2.400868582013486, 6.10...\n"
     ]
    }
   ],
   "source": [
    "# Print the parameters for the distributions which are the mu (shape), loc (location)\n",
    "# and scale parameters\n",
    "print(d1_failing)"
>>>>>>> 7e7fb73... Update documentation
   ]
  },
  {
   "cell_type": "markdown",
<<<<<<< HEAD
   "metadata": {},
   "source": [
    "We see that the top 2 distributions based on betterment of fit are Log Normal and Inverse Gaussian distribution. Let's plot the graphs for these two distributions."
=======
   "metadata": {
    "tags": []
   },
   "source": [
    "We see that the top 2 distributions based on betterment of fit are **Inverse Gaussian** distribution and **Log Normal** distribution. Let's plot the graphs for these two distributions."
   ]
  },
  {
   "cell_type": "code",
   "execution_count": 27,
   "metadata": {},
   "outputs": [],
   "source": [
    "# Fetch the parameters required for respective distribution types to visualize the density plots\n",
    "invgauss_param_failing1 = list(\n",
    "    d1_failing[d1_failing[\"Distribution Names\"] == \"invgauss\"][\"Parameters\"].values\n",
    ")\n",
    "# Flatten list\n",
    "invgauss_param_failing1 = list(itertools.chain(*invgauss_param_failing1))\n",
    "lognorm_param_failing1 = list(\n",
    "    d1_failing[d1_failing[\"Distribution Names\"] == \"lognorm\"][\"Parameters\"].values\n",
    ")\n",
    "# Flatten list\n",
    "lognorm_param_failing1 = list(itertools.chain(*lognorm_param_failing1))"
>>>>>>> 7e7fb73... Update documentation
   ]
  },
  {
   "cell_type": "code",
<<<<<<< HEAD
   "execution_count": 22,
   "metadata": {},
   "outputs": [],
   "source": [
    "y_std, len_y, y = standardize(failures_test2, \"test_duration\", 0.99, 0.01)"
=======
   "execution_count": 28,
   "metadata": {},
   "outputs": [],
   "source": [
    "y_std_failing1, len_y_failing1, y_failing1 = standardize(\n",
    "    failures_test1, \"test_duration\", 0.99, 0.01\n",
    ")"
>>>>>>> 7e7fb73... Update documentation
   ]
  },
  {
   "cell_type": "code",
<<<<<<< HEAD
   "execution_count": 23,
=======
   "execution_count": 29,
>>>>>>> 7e7fb73... Update documentation
   "metadata": {},
   "outputs": [
    {
     "data": {
<<<<<<< HEAD
      "image/png": "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\n",
=======
      "image/png": "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\n",
>>>>>>> 7e7fb73... Update documentation
      "text/plain": [
       "<Figure size 648x360 with 3 Axes>"
      ]
     },
     "metadata": {
      "needs_background": "light"
     },
     "output_type": "display_data"
    }
   ],
   "source": [
    "# Plot the distributions\n",
    "fig, axes = plt.subplots(nrows=1, ncols=3, figsize=(9, 5))\n",
<<<<<<< HEAD
    "axes[0].hist(y)\n",
    "axes[0].set_xlabel(\"Test Duration\\n\\nHistogram plot of Oberseved Data\")\n",
    "axes[0].set_ylabel(\"Frequency\")\n",
    "# Plot the density plot for Log Normal distribution by passing the mu (shape), loc (location) and\n",
    "# scale parameters obtained from above\n",
    "axes[1].plot(y, lognorm.pdf(y_std, 0.25, -3.51, 3.38))\n",
    "axes[1].set_xlabel(\"Test Duration\\n\\nLog Normal Distribution\")\n",
    "axes[1].set_ylabel(\"pdf\")\n",
    "# Plot the density plot for Inverse Gaussian distribution by passing the mu (shape), loc (location) and\n",
    "# scale parameters obtained from above\n",
    "axes[2].plot(y, invgauss.pdf(y_std, 0.06, -3.73, 60.36))\n",
    "axes[2].set_xlabel(\"Test Duration\\n\\nInverse Gaussian Distribution\")\n",
=======
    "axes[0].hist(y_failing1)\n",
    "axes[0].set_xlabel(\"Test Duration\\n\\nHistogram plot of Oberseved Data\")\n",
    "axes[0].set_ylabel(\"Frequency\")\n",
    "# Plot the density plot for Inverse Gaussian distribution by passing the mu (shape parameter), loc (location)\n",
    "# and scale parameters obtained from above\n",
    "axes[1].plot(\n",
    "    y_failing1,\n",
    "    invgauss.pdf(\n",
    "        y_std_failing1,\n",
    "        invgauss_param_failing1[0],\n",
    "        invgauss_param_failing1[1],\n",
    "        invgauss_param_failing1[2],\n",
    "    ),\n",
    ")\n",
    "axes[1].set_xlabel(\"Test Duration\\n\\nInverse Gaussian Distribution\")\n",
    "axes[1].set_ylabel(\"pdf\")\n",
    "# Plot the density plot for Log Normal distribution by passing the mu (shape), loc (location) and\n",
    "# scale parameters obtained from above\n",
    "axes[2].plot(\n",
    "    y_failing1,\n",
    "    lognorm.pdf(\n",
    "        y_std_failing1,\n",
    "        lognorm_param_failing1[0],\n",
    "        lognorm_param_failing1[1],\n",
    "        lognorm_param_failing1[2],\n",
    "    ),\n",
    ")\n",
    "axes[2].set_xlabel(\"Test Duration\\n\\nLog Normal Distribution\")\n",
    "axes[2].set_ylabel(\"pdf\")\n",
    "fig.tight_layout()"
   ]
  },
  {
   "cell_type": "markdown",
   "metadata": {},
   "source": [
    "The Histogram plot shows the distribution of test duration values over all the data points. The Inverse Gaussian and Log Normal graphs are density plots which are a smoothed, continuous version of a histogram estimated from the data. It plots the probability density function (along Y-axis) vs the test duration values (along X-axis). Probability density plots are used to understand data distribution for a continuous variable and we want to know the likelihood (or probability) of obtaining a range of values that the continuous variable can assume. The area under the curve contains the probabilities for the test duration values."
   ]
  },
  {
   "cell_type": "markdown",
   "metadata": {},
   "source": [
    "#### Test: \"operator.Run multi-stage test e2e-aws-upgrade - e2e-aws-upgrade-openshift-e2e-test container test\""
   ]
  },
  {
   "cell_type": "code",
   "execution_count": 30,
   "metadata": {},
   "outputs": [
    {
     "data": {
      "text/html": [
       "<div>\n",
       "<style scoped>\n",
       "    .dataframe tbody tr th:only-of-type {\n",
       "        vertical-align: middle;\n",
       "    }\n",
       "\n",
       "    .dataframe tbody tr th {\n",
       "        vertical-align: top;\n",
       "    }\n",
       "\n",
       "    .dataframe thead th {\n",
       "        text-align: right;\n",
       "    }\n",
       "</style>\n",
       "<table border=\"1\" class=\"dataframe\">\n",
       "  <thead>\n",
       "    <tr style=\"text-align: right;\">\n",
       "      <th></th>\n",
       "      <th>timestamp</th>\n",
       "      <th>tab</th>\n",
       "      <th>grid</th>\n",
       "      <th>test</th>\n",
       "      <th>test_duration</th>\n",
       "      <th>failure</th>\n",
       "    </tr>\n",
       "  </thead>\n",
       "  <tbody>\n",
       "    <tr>\n",
       "      <th>0</th>\n",
       "      <td>2021-08-25 12:17:53</td>\n",
       "      <td>\"redhat-openshift-informing\"</td>\n",
       "      <td>release-openshift-okd-installer-e2e-aws-upgrade</td>\n",
       "      <td>operator.Run multi-stage test e2e-aws-upgrade ...</td>\n",
       "      <td>85.866667</td>\n",
       "      <td>True</td>\n",
       "    </tr>\n",
       "    <tr>\n",
       "      <th>1</th>\n",
       "      <td>2021-08-25 10:30:05</td>\n",
       "      <td>\"redhat-openshift-informing\"</td>\n",
       "      <td>release-openshift-okd-installer-e2e-aws-upgrade</td>\n",
       "      <td>operator.Run multi-stage test e2e-aws-upgrade ...</td>\n",
       "      <td>91.916667</td>\n",
       "      <td>True</td>\n",
       "    </tr>\n",
       "    <tr>\n",
       "      <th>2</th>\n",
       "      <td>2021-08-25 04:41:24</td>\n",
       "      <td>\"redhat-openshift-informing\"</td>\n",
       "      <td>release-openshift-okd-installer-e2e-aws-upgrade</td>\n",
       "      <td>operator.Run multi-stage test e2e-aws-upgrade ...</td>\n",
       "      <td>101.133333</td>\n",
       "      <td>True</td>\n",
       "    </tr>\n",
       "    <tr>\n",
       "      <th>3</th>\n",
       "      <td>2021-08-24 20:03:02</td>\n",
       "      <td>\"redhat-openshift-informing\"</td>\n",
       "      <td>release-openshift-okd-installer-e2e-aws-upgrade</td>\n",
       "      <td>operator.Run multi-stage test e2e-aws-upgrade ...</td>\n",
       "      <td>98.450000</td>\n",
       "      <td>True</td>\n",
       "    </tr>\n",
       "    <tr>\n",
       "      <th>4</th>\n",
       "      <td>2021-08-24 04:35:23</td>\n",
       "      <td>\"redhat-openshift-informing\"</td>\n",
       "      <td>release-openshift-okd-installer-e2e-aws-upgrade</td>\n",
       "      <td>operator.Run multi-stage test e2e-aws-upgrade ...</td>\n",
       "      <td>93.216667</td>\n",
       "      <td>True</td>\n",
       "    </tr>\n",
       "  </tbody>\n",
       "</table>\n",
       "</div>"
      ],
      "text/plain": [
       "            timestamp                           tab  \\\n",
       "0 2021-08-25 12:17:53  \"redhat-openshift-informing\"   \n",
       "1 2021-08-25 10:30:05  \"redhat-openshift-informing\"   \n",
       "2 2021-08-25 04:41:24  \"redhat-openshift-informing\"   \n",
       "3 2021-08-24 20:03:02  \"redhat-openshift-informing\"   \n",
       "4 2021-08-24 04:35:23  \"redhat-openshift-informing\"   \n",
       "\n",
       "                                              grid  \\\n",
       "0  release-openshift-okd-installer-e2e-aws-upgrade   \n",
       "1  release-openshift-okd-installer-e2e-aws-upgrade   \n",
       "2  release-openshift-okd-installer-e2e-aws-upgrade   \n",
       "3  release-openshift-okd-installer-e2e-aws-upgrade   \n",
       "4  release-openshift-okd-installer-e2e-aws-upgrade   \n",
       "\n",
       "                                                test  test_duration  failure  \n",
       "0  operator.Run multi-stage test e2e-aws-upgrade ...      85.866667     True  \n",
       "1  operator.Run multi-stage test e2e-aws-upgrade ...      91.916667     True  \n",
       "2  operator.Run multi-stage test e2e-aws-upgrade ...     101.133333     True  \n",
       "3  operator.Run multi-stage test e2e-aws-upgrade ...      98.450000     True  \n",
       "4  operator.Run multi-stage test e2e-aws-upgrade ...      93.216667     True  "
      ]
     },
     "execution_count": 30,
     "metadata": {},
     "output_type": "execute_result"
    }
   ],
   "source": [
    "# Filter df for the \"operator.Run multi-stage test e2e-aws-upgrade - e2e-aws-upgrade-openshift-e2e-test\n",
    "# container test\" test\n",
    "failures_test2 = filter_test_type(\n",
    "    failures_df,\n",
    "    \"operator.Run multi-stage test e2e-aws-upgrade - \"\n",
    "    \"e2e-aws-upgrade-openshift-e2e-test container test\",\n",
    ")\n",
    "failures_test2.head()"
   ]
  },
  {
   "cell_type": "code",
   "execution_count": 31,
   "metadata": {},
   "outputs": [
    {
     "data": {
      "text/plain": [
       "<AxesSubplot:>"
      ]
     },
     "execution_count": 31,
     "metadata": {},
     "output_type": "execute_result"
    },
    {
     "data": {
      "image/png": "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\n",
      "text/plain": [
       "<Figure size 432x288 with 1 Axes>"
      ]
     },
     "metadata": {
      "needs_background": "light"
     },
     "output_type": "display_data"
    }
   ],
   "source": [
    "# Let's plot a histogram to visualize the distribution of the observed `test_duration` data points\n",
    "failures_test2[\"test_duration\"].hist()"
   ]
  },
  {
   "cell_type": "code",
   "execution_count": 32,
   "metadata": {},
   "outputs": [
    {
     "name": "stdout",
     "output_type": "stream",
     "text": [
      "\n",
      "Distributions listed by Betterment of fit:\n",
      "............................................\n",
      "   Distribution     chi_square and p-value\n",
      "3          beta  (2148.0315961744586, 0.0)\n",
      "9      pearson3   (2150.964892187448, 0.0)\n",
      "1          norm   (2178.439189095538, 0.0)\n",
      "8       lognorm   (2190.171386750302, 0.0)\n",
      "6         gamma  (2251.5768352345144, 0.0)\n",
      "0   weibull_min  (2335.2881528000057, 0.0)\n",
      "2   weibull_max  (2436.7340969950874, 0.0)\n",
      "4      invgauss  (2581.7529201615253, 0.0)\n",
      "10       triang   (3168.817214371956, 0.0)\n",
      "5       uniform  (5205.7686822999685, 0.0)\n",
      "7         expon   (7308.400793415922, 0.0)\n"
     ]
    }
   ],
   "source": [
    "# Identify the distribution\n",
    "d2_failing, r2_failing = fit_distribution(failures_test2, \"test_duration\", 0.99, 0.01)"
   ]
  },
  {
   "cell_type": "code",
   "execution_count": 33,
   "metadata": {},
   "outputs": [
    {
     "name": "stdout",
     "output_type": "stream",
     "text": [
      "   Distribution Names                                         Parameters\n",
      "0         weibull_min  (4.6427392075956835, -4.43451289012974, 4.8146...\n",
      "1                norm                      (-1.171224289714451e-16, 1.0)\n",
      "2         weibull_max  (3.709430371603564, 3.5732998827356877, 3.9280...\n",
      "3                beta  (21455.16309160612, 1395.726210285496, -592.66...\n",
      "4            invgauss  (0.012418119424580355, -9.594365078725424, 773...\n",
      "5             uniform            (-3.373399521327697, 6.006810353880617)\n",
      "6               gamma  (634.0538650591961, -25.325828917067867, 0.039...\n",
      "7               expon            (-3.373399521327697, 3.373399521327697)\n",
      "8             lognorm  (0.005771872826408885, -173.0123438298847, 173...\n",
      "9            pearson3  (-0.04208220131814111, -1.7996272495738179e-16...\n",
      "10             triang  (0.5587835400423031, -3.491790660656199, 6.387...\n"
     ]
    }
   ],
   "source": [
    "# Print the parameters for the distributions which are the mu (shape), loc (location)\n",
    "# and scale parameters\n",
    "print(d2_failing)"
   ]
  },
  {
   "cell_type": "markdown",
   "metadata": {},
   "source": [
    "We see that the top 2 distributions based on betterment of fit are **Pearson** distribution and **Beta** distribution. Let's plot the graphs for these two distributions."
   ]
  },
  {
   "cell_type": "code",
   "execution_count": 34,
   "metadata": {},
   "outputs": [],
   "source": [
    "# Fetch the parameters required for respective distribution types to visualize the density plots\n",
    "pearson_param_failing2 = d2_failing[d2_failing[\"Distribution Names\"] == \"pearson3\"][\n",
    "    \"Parameters\"\n",
    "].values\n",
    "# Flatten list\n",
    "pearson_param_failing2 = list(itertools.chain(*pearson_param_failing2))\n",
    "beta_param_failing2 = d2_failing[d2_failing[\"Distribution Names\"] == \"beta\"][\n",
    "    \"Parameters\"\n",
    "].values\n",
    "# Flatten list\n",
    "beta_param_failing2 = list(itertools.chain(*beta_param_failing2))"
   ]
  },
  {
   "cell_type": "code",
   "execution_count": 35,
   "metadata": {},
   "outputs": [],
   "source": [
    "y_std_failing2, len_y_failing2, y_failing2 = standardize(\n",
    "    failures_test2, \"test_duration\", 0.99, 0.01\n",
    ")"
   ]
  },
  {
   "cell_type": "code",
   "execution_count": 36,
   "metadata": {},
   "outputs": [
    {
     "data": {
      "image/png": "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\n",
      "text/plain": [
       "<Figure size 648x360 with 3 Axes>"
      ]
     },
     "metadata": {
      "needs_background": "light"
     },
     "output_type": "display_data"
    }
   ],
   "source": [
    "# Plot the distributions\n",
    "fig, axes = plt.subplots(nrows=1, ncols=3, figsize=(9, 5))\n",
    "axes[0].hist(y_failing2)\n",
    "axes[0].set_xlabel(\"Test Duration\\n\\nHistogram plot of Oberseved Data\")\n",
    "axes[0].set_ylabel(\"Frequency\")\n",
    "# Plot the density plot for Pearson distribution by passing the mu (shape parameter), loc (location)\n",
    "# and scale parameters obtained from above\n",
    "axes[1].plot(\n",
    "    y_failing2,\n",
    "    pearson3.pdf(\n",
    "        y_std_failing2,\n",
    "        pearson_param_failing2[0],\n",
    "        pearson_param_failing2[1],\n",
    "        pearson_param_failing2[2],\n",
    "    ),\n",
    ")\n",
    "axes[1].set_xlabel(\"Test Duration\\n\\nPearson Distribution\")\n",
    "axes[1].set_ylabel(\"pdf\")\n",
    "# Plot the density plot for Beta distribution by passing the mu (shape), loc (location) and\n",
    "# scale parameters obtained from above\n",
    "axes[2].plot(\n",
    "    y_failing2,\n",
    "    beta.pdf(\n",
    "        y_std_failing2,\n",
    "        beta_param_failing2[0],\n",
    "        beta_param_failing2[1],\n",
    "        beta_param_failing2[2],\n",
    "    ),\n",
    ")\n",
    "axes[2].set_xlabel(\"Test Duration\\n\\nBeta Distribution\")\n",
>>>>>>> 7e7fb73... Update documentation
    "axes[2].set_ylabel(\"pdf\")\n",
    "fig.tight_layout()"
   ]
  },
  {
   "cell_type": "markdown",
   "metadata": {},
   "source": [
<<<<<<< HEAD
    "The Histogram plot shows the distribution of test duration values over all the data points. The Log Normal and Inverse Gaussian graphs are density plots which are a smoothed, continuous version of a histogram estimated from the data. It plots the probability density function (along Y-axis) vs the test duration values (along X-axis). Probability density plots are used to understand data distribution for a continuous variable and we want to know the likelihood (or probability) of obtaining a range of values that the continuous variable can assume. The area under the curve contains the probabilities for the test duration values."
=======
    "The Histogram plot shows the distribution of test duration values over all the data points. The Pearson and Beta graphs are density plots which are a smoothed, continuous version of a histogram estimated from the data. It plots the probability density function (along Y-axis) vs the test duration values (along X-axis). Probability density plots are used to understand data distribution for a continuous variable and we want to know the likelihood (or probability) of obtaining a range of values that the continuous variable can assume. The area under the curve contains the probabilities for the test duration values."
   ]
  },
  {
   "cell_type": "markdown",
   "metadata": {},
   "source": [
    "### Passing Distribution\n",
    "\n",
    "Let's identify the passing distribution type for the following 2 tests:\n",
    "* openshift-tests.[sig-arch][Feature:ClusterUpgrade] Cluster should remain functional during upgrade [Disruptive] [Serial]\n",
    "* operator.Run multi-stage test e2e-aws-upgrade - e2e-aws-upgrade-openshift-e2e-test container test\n",
    "\n",
    "#### Test: \"openshift-tests.[sig-arch][Feature:ClusterUpgrade] Cluster should remain functional during upgrade [Disruptive] [Serial]\""
   ]
  },
  {
   "cell_type": "code",
   "execution_count": 37,
   "metadata": {},
   "outputs": [
    {
     "data": {
      "text/html": [
       "<div>\n",
       "<style scoped>\n",
       "    .dataframe tbody tr th:only-of-type {\n",
       "        vertical-align: middle;\n",
       "    }\n",
       "\n",
       "    .dataframe tbody tr th {\n",
       "        vertical-align: top;\n",
       "    }\n",
       "\n",
       "    .dataframe thead th {\n",
       "        text-align: right;\n",
       "    }\n",
       "</style>\n",
       "<table border=\"1\" class=\"dataframe\">\n",
       "  <thead>\n",
       "    <tr style=\"text-align: right;\">\n",
       "      <th></th>\n",
       "      <th>timestamp</th>\n",
       "      <th>tab</th>\n",
       "      <th>grid</th>\n",
       "      <th>test</th>\n",
       "      <th>test_duration</th>\n",
       "      <th>passing</th>\n",
       "    </tr>\n",
       "  </thead>\n",
       "  <tbody>\n",
       "    <tr>\n",
       "      <th>0</th>\n",
       "      <td>2021-08-25 13:06:02</td>\n",
       "      <td>\"redhat-openshift-informing\"</td>\n",
       "      <td>release-openshift-okd-installer-e2e-aws-upgrade</td>\n",
       "      <td>openshift-tests.[sig-arch][Feature:ClusterUpgr...</td>\n",
       "      <td>100.833333</td>\n",
       "      <td>True</td>\n",
       "    </tr>\n",
       "    <tr>\n",
       "      <th>1</th>\n",
       "      <td>2021-08-25 10:30:05</td>\n",
       "      <td>\"redhat-openshift-informing\"</td>\n",
       "      <td>release-openshift-okd-installer-e2e-aws-upgrade</td>\n",
       "      <td>openshift-tests.[sig-arch][Feature:ClusterUpgr...</td>\n",
       "      <td>91.416667</td>\n",
       "      <td>True</td>\n",
       "    </tr>\n",
       "    <tr>\n",
       "      <th>2</th>\n",
       "      <td>2021-08-25 07:15:39</td>\n",
       "      <td>\"redhat-openshift-informing\"</td>\n",
       "      <td>release-openshift-okd-installer-e2e-aws-upgrade</td>\n",
       "      <td>openshift-tests.[sig-arch][Feature:ClusterUpgr...</td>\n",
       "      <td>94.033333</td>\n",
       "      <td>True</td>\n",
       "    </tr>\n",
       "    <tr>\n",
       "      <th>3</th>\n",
       "      <td>2021-08-25 06:08:52</td>\n",
       "      <td>\"redhat-openshift-informing\"</td>\n",
       "      <td>release-openshift-okd-installer-e2e-aws-upgrade</td>\n",
       "      <td>openshift-tests.[sig-arch][Feature:ClusterUpgr...</td>\n",
       "      <td>90.050000</td>\n",
       "      <td>True</td>\n",
       "    </tr>\n",
       "    <tr>\n",
       "      <th>4</th>\n",
       "      <td>2021-08-25 02:54:53</td>\n",
       "      <td>\"redhat-openshift-informing\"</td>\n",
       "      <td>release-openshift-okd-installer-e2e-aws-upgrade</td>\n",
       "      <td>openshift-tests.[sig-arch][Feature:ClusterUpgr...</td>\n",
       "      <td>93.450000</td>\n",
       "      <td>True</td>\n",
       "    </tr>\n",
       "  </tbody>\n",
       "</table>\n",
       "</div>"
      ],
      "text/plain": [
       "            timestamp                           tab  \\\n",
       "0 2021-08-25 13:06:02  \"redhat-openshift-informing\"   \n",
       "1 2021-08-25 10:30:05  \"redhat-openshift-informing\"   \n",
       "2 2021-08-25 07:15:39  \"redhat-openshift-informing\"   \n",
       "3 2021-08-25 06:08:52  \"redhat-openshift-informing\"   \n",
       "4 2021-08-25 02:54:53  \"redhat-openshift-informing\"   \n",
       "\n",
       "                                              grid  \\\n",
       "0  release-openshift-okd-installer-e2e-aws-upgrade   \n",
       "1  release-openshift-okd-installer-e2e-aws-upgrade   \n",
       "2  release-openshift-okd-installer-e2e-aws-upgrade   \n",
       "3  release-openshift-okd-installer-e2e-aws-upgrade   \n",
       "4  release-openshift-okd-installer-e2e-aws-upgrade   \n",
       "\n",
       "                                                test  test_duration  passing  \n",
       "0  openshift-tests.[sig-arch][Feature:ClusterUpgr...     100.833333     True  \n",
       "1  openshift-tests.[sig-arch][Feature:ClusterUpgr...      91.416667     True  \n",
       "2  openshift-tests.[sig-arch][Feature:ClusterUpgr...      94.033333     True  \n",
       "3  openshift-tests.[sig-arch][Feature:ClusterUpgr...      90.050000     True  \n",
       "4  openshift-tests.[sig-arch][Feature:ClusterUpgr...      93.450000     True  "
      ]
     },
     "execution_count": 37,
     "metadata": {},
     "output_type": "execute_result"
    }
   ],
   "source": [
    "# Filter df for the \"openshift-tests.[sig-arch][Feature:ClusterUpgrade] Cluster should remain\n",
    "# functional during upgrade [Disruptive] [Serial]\" test\n",
    "passing_test1 = filter_test_type(\n",
    "    passing_df,\n",
    "    \"openshift-tests.[sig-arch][Feature:ClusterUpgrade] Cluster should remain \"\n",
    "    \"functional during upgrade [Disruptive] [Serial]\",\n",
    ")\n",
    "passing_test1.head()"
   ]
  },
  {
   "cell_type": "code",
   "execution_count": 38,
   "metadata": {},
   "outputs": [
    {
     "data": {
      "text/plain": [
       "<AxesSubplot:>"
      ]
     },
     "execution_count": 38,
     "metadata": {},
     "output_type": "execute_result"
    },
    {
     "data": {
      "image/png": "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\n",
      "text/plain": [
       "<Figure size 432x288 with 1 Axes>"
      ]
     },
     "metadata": {
      "needs_background": "light"
     },
     "output_type": "display_data"
    }
   ],
   "source": [
    "# Let's plot a histogram to visualize the distribution of the observed `test_duration` data points\n",
    "passing_test1[\"test_duration\"].hist()"
   ]
  },
  {
   "cell_type": "code",
   "execution_count": 39,
   "metadata": {},
   "outputs": [
    {
     "name": "stdout",
     "output_type": "stream",
     "text": [
      "\n",
      "Distributions listed by Betterment of fit:\n",
      "............................................\n",
      "   Distribution     chi_square and p-value\n",
      "0   weibull_min   (3099.992757342761, 0.0)\n",
      "9      pearson3  (3544.0050668290633, 0.0)\n",
      "3          beta  (3545.4138733281484, 0.0)\n",
      "2   weibull_max   (4116.375773044669, 0.0)\n",
      "10       triang   (5930.653942691529, 0.0)\n",
      "1          norm   (6927.207014523444, 0.0)\n",
      "8       lognorm   (6935.331882469858, 0.0)\n",
      "6         gamma   (7086.238475977115, 0.0)\n",
      "4      invgauss   (8398.626283249283, 0.0)\n",
      "5       uniform   (11398.67511007455, 0.0)\n",
      "7         expon  (16826.245420038034, 0.0)\n"
     ]
    }
   ],
   "source": [
    "# Identify the distribution\n",
    "d1_passing, r1_passing = fit_distribution(passing_test1, \"test_duration\", 0.99, 0.01)"
   ]
  },
  {
   "cell_type": "code",
   "execution_count": 40,
   "metadata": {
    "tags": []
   },
   "outputs": [
    {
     "name": "stdout",
     "output_type": "stream",
     "text": [
      "   Distribution Names                                         Parameters\n",
      "0         weibull_min  (23.65606207323377, -18.709459991681634, 19.13...\n",
      "1                norm        (5.721531843060696e-17, 0.9999999999999999)\n",
      "2         weibull_max  (2.222323970370051, 2.1309774933239938, 2.4039...\n",
      "3                beta  (2306.503139113286, 7.609193001177182, -813.46...\n",
      "4            invgauss  (0.010600285727260642, -10.69823396769825, 100...\n",
      "5             uniform           (-3.069628193197908, 5.1849198003140575)\n",
      "6               gamma  (273.05849309091036, -17.350871362303216, 0.06...\n",
      "7               expon            (-3.069628193197908, 3.069628193197908)\n",
      "8             lognorm  (0.002206952969157352, -454.25765717799663, 45...\n",
      "9            pearson3  (-0.7203794023622432, 1.1214076509902137e-16, ...\n",
      "10             triang  (0.6647839138973428, -3.2331077030700532, 5.37...\n"
     ]
    }
   ],
   "source": [
    "# Print the parameters for the distributions which are the mu (shape), loc (location)\n",
    "# and scale parameters\n",
    "print(d1_passing)"
   ]
  },
  {
   "cell_type": "markdown",
   "metadata": {},
   "source": [
    "We see that the top 2 distributions based on betterment of fit are **Pearson** distribution and **Weibull Min** distribution. Let's plot the graphs for these two distributions."
   ]
  },
  {
   "cell_type": "code",
   "execution_count": 41,
   "metadata": {},
   "outputs": [],
   "source": [
    "# Fetch the parameters required for respective distribution types to visualize the density plots\n",
    "pearson_param_passing1 = d1_passing[d1_passing[\"Distribution Names\"] == \"pearson3\"][\n",
    "    \"Parameters\"\n",
    "].values\n",
    "# Flatten list\n",
    "pearson_param_passing1 = list(itertools.chain(*pearson_param_passing1))\n",
    "weibull_param_passing1 = d1_passing[d1_passing[\"Distribution Names\"] == \"weibull_min\"][\n",
    "    \"Parameters\"\n",
    "].values\n",
    "# Flatten list\n",
    "weibull_param_passing1 = list(itertools.chain(*weibull_param_passing1))"
   ]
  },
  {
   "cell_type": "code",
   "execution_count": 42,
   "metadata": {},
   "outputs": [],
   "source": [
    "y_std_passing1, len_y_passing1, y_passing1 = standardize(\n",
    "    passing_test1, \"test_duration\", 0.99, 0.01\n",
    ")"
   ]
  },
  {
   "cell_type": "code",
   "execution_count": 43,
   "metadata": {},
   "outputs": [
    {
     "data": {
      "image/png": "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\n",
      "text/plain": [
       "<Figure size 648x360 with 3 Axes>"
      ]
     },
     "metadata": {
      "needs_background": "light"
     },
     "output_type": "display_data"
    }
   ],
   "source": [
    "# Plot the distributions\n",
    "fig, axes = plt.subplots(nrows=1, ncols=3, figsize=(9, 5))\n",
    "axes[0].hist(y_passing1)\n",
    "axes[0].set_xlabel(\"Test Duration\\n\\nHistogram plot of Oberseved Data\")\n",
    "axes[0].set_ylabel(\"Frequency\")\n",
    "# Plot the density plot for Pearson distribution by passing the mu (shape parameter), loc (location)\n",
    "# and scale parameters obtained from above\n",
    "axes[1].plot(\n",
    "    y_passing1,\n",
    "    pearson3.pdf(\n",
    "        y_std_passing1,\n",
    "        pearson_param_passing1[0],\n",
    "        pearson_param_passing1[1],\n",
    "        pearson_param_passing1[2],\n",
    "    ),\n",
    ")\n",
    "axes[1].set_xlabel(\"Test Duration\\n\\nPearson Distribution\")\n",
    "axes[1].set_ylabel(\"pdf\")\n",
    "# Plot the density plot for Weibull Min distribution by passing the mu (shape), loc (location) and\n",
    "# scale parameters obtained from above\n",
    "axes[2].plot(\n",
    "    y_passing1,\n",
    "    weibull_min.pdf(\n",
    "        y_std_passing1,\n",
    "        weibull_param_passing1[0],\n",
    "        weibull_param_passing1[1],\n",
    "        weibull_param_passing1[2],\n",
    "    ),\n",
    ")\n",
    "axes[2].set_xlabel(\"Test Duration\\n\\nWeibull Min Distribution\")\n",
    "axes[2].set_ylabel(\"pdf\")\n",
    "fig.tight_layout()"
   ]
  },
  {
   "cell_type": "markdown",
   "metadata": {},
   "source": [
    "The Histogram plot shows the distribution of test duration values over all the data points. The Pearson and Weibull Min graphs are density plots which are a smoothed, continuous version of a histogram estimated from the data. It plots the probability density function (along Y-axis) vs the test duration values (along X-axis). Probability density plots are used to understand data distribution for a continuous variable and we want to know the likelihood (or probability) of obtaining a range of values that the continuous variable can assume. The area under the curve contains the probabilities for the test duration values."
   ]
  },
  {
   "cell_type": "markdown",
   "metadata": {},
   "source": [
    "#### Test: \"operator.Run multi-stage test e2e-aws-upgrade - e2e-aws-upgrade-openshift-e2e-test container test\""
   ]
  },
  {
   "cell_type": "code",
   "execution_count": 44,
   "metadata": {},
   "outputs": [
    {
     "data": {
      "text/html": [
       "<div>\n",
       "<style scoped>\n",
       "    .dataframe tbody tr th:only-of-type {\n",
       "        vertical-align: middle;\n",
       "    }\n",
       "\n",
       "    .dataframe tbody tr th {\n",
       "        vertical-align: top;\n",
       "    }\n",
       "\n",
       "    .dataframe thead th {\n",
       "        text-align: right;\n",
       "    }\n",
       "</style>\n",
       "<table border=\"1\" class=\"dataframe\">\n",
       "  <thead>\n",
       "    <tr style=\"text-align: right;\">\n",
       "      <th></th>\n",
       "      <th>timestamp</th>\n",
       "      <th>tab</th>\n",
       "      <th>grid</th>\n",
       "      <th>test</th>\n",
       "      <th>test_duration</th>\n",
       "      <th>passing</th>\n",
       "    </tr>\n",
       "  </thead>\n",
       "  <tbody>\n",
       "    <tr>\n",
       "      <th>0</th>\n",
       "      <td>2021-08-25 13:06:02</td>\n",
       "      <td>\"redhat-openshift-informing\"</td>\n",
       "      <td>release-openshift-okd-installer-e2e-aws-upgrade</td>\n",
       "      <td>operator.Run multi-stage test e2e-aws-upgrade ...</td>\n",
       "      <td>101.250000</td>\n",
       "      <td>True</td>\n",
       "    </tr>\n",
       "    <tr>\n",
       "      <th>1</th>\n",
       "      <td>2021-08-25 07:15:39</td>\n",
       "      <td>\"redhat-openshift-informing\"</td>\n",
       "      <td>release-openshift-okd-installer-e2e-aws-upgrade</td>\n",
       "      <td>operator.Run multi-stage test e2e-aws-upgrade ...</td>\n",
       "      <td>94.283333</td>\n",
       "      <td>True</td>\n",
       "    </tr>\n",
       "    <tr>\n",
       "      <th>2</th>\n",
       "      <td>2021-08-25 06:08:52</td>\n",
       "      <td>\"redhat-openshift-informing\"</td>\n",
       "      <td>release-openshift-okd-installer-e2e-aws-upgrade</td>\n",
       "      <td>operator.Run multi-stage test e2e-aws-upgrade ...</td>\n",
       "      <td>90.316667</td>\n",
       "      <td>True</td>\n",
       "    </tr>\n",
       "    <tr>\n",
       "      <th>3</th>\n",
       "      <td>2021-08-25 02:54:53</td>\n",
       "      <td>\"redhat-openshift-informing\"</td>\n",
       "      <td>release-openshift-okd-installer-e2e-aws-upgrade</td>\n",
       "      <td>operator.Run multi-stage test e2e-aws-upgrade ...</td>\n",
       "      <td>93.866667</td>\n",
       "      <td>True</td>\n",
       "    </tr>\n",
       "    <tr>\n",
       "      <th>4</th>\n",
       "      <td>2021-08-24 22:40:00</td>\n",
       "      <td>\"redhat-openshift-informing\"</td>\n",
       "      <td>release-openshift-okd-installer-e2e-aws-upgrade</td>\n",
       "      <td>operator.Run multi-stage test e2e-aws-upgrade ...</td>\n",
       "      <td>92.900000</td>\n",
       "      <td>True</td>\n",
       "    </tr>\n",
       "  </tbody>\n",
       "</table>\n",
       "</div>"
      ],
      "text/plain": [
       "            timestamp                           tab  \\\n",
       "0 2021-08-25 13:06:02  \"redhat-openshift-informing\"   \n",
       "1 2021-08-25 07:15:39  \"redhat-openshift-informing\"   \n",
       "2 2021-08-25 06:08:52  \"redhat-openshift-informing\"   \n",
       "3 2021-08-25 02:54:53  \"redhat-openshift-informing\"   \n",
       "4 2021-08-24 22:40:00  \"redhat-openshift-informing\"   \n",
       "\n",
       "                                              grid  \\\n",
       "0  release-openshift-okd-installer-e2e-aws-upgrade   \n",
       "1  release-openshift-okd-installer-e2e-aws-upgrade   \n",
       "2  release-openshift-okd-installer-e2e-aws-upgrade   \n",
       "3  release-openshift-okd-installer-e2e-aws-upgrade   \n",
       "4  release-openshift-okd-installer-e2e-aws-upgrade   \n",
       "\n",
       "                                                test  test_duration  passing  \n",
       "0  operator.Run multi-stage test e2e-aws-upgrade ...     101.250000     True  \n",
       "1  operator.Run multi-stage test e2e-aws-upgrade ...      94.283333     True  \n",
       "2  operator.Run multi-stage test e2e-aws-upgrade ...      90.316667     True  \n",
       "3  operator.Run multi-stage test e2e-aws-upgrade ...      93.866667     True  \n",
       "4  operator.Run multi-stage test e2e-aws-upgrade ...      92.900000     True  "
      ]
     },
     "execution_count": 44,
     "metadata": {},
     "output_type": "execute_result"
    }
   ],
   "source": [
    "# Filter df for the \"operator.Run multi-stage test e2e-aws-upgrade - e2e-aws-upgrade-openshift-e2e-test\n",
    "# container test\" test\n",
    "passing_test2 = filter_test_type(\n",
    "    passing_df,\n",
    "    \"operator.Run multi-stage test e2e-aws-upgrade - \"\n",
    "    \"e2e-aws-upgrade-openshift-e2e-test container test\",\n",
    ")\n",
    "passing_test2.head()"
   ]
  },
  {
   "cell_type": "code",
   "execution_count": 45,
   "metadata": {},
   "outputs": [
    {
     "data": {
      "text/plain": [
       "<AxesSubplot:>"
      ]
     },
     "execution_count": 45,
     "metadata": {},
     "output_type": "execute_result"
    },
    {
     "data": {
      "image/png": "iVBORw0KGgoAAAANSUhEUgAAAXcAAAD4CAYAAAAXUaZHAAAAOXRFWHRTb2Z0d2FyZQBNYXRwbG90bGliIHZlcnNpb24zLjQuMywgaHR0cHM6Ly9tYXRwbG90bGliLm9yZy/MnkTPAAAACXBIWXMAAAsTAAALEwEAmpwYAAATe0lEQVR4nO3dbYxc133f8e+voqM42kCUImfLUERXbdgUsljL0kKW4bxYWk2shyC0AdeQIDhSrIJ5IaNOQaChHLRxkApQ0NhqjCRumEqVkqheq7JcEZQdQ2G0NfzCckRHFvVg1bRF2yQUMY4l2mu7Ruj8+2Ium9VqyV1ydufh8PsBBjv3nDtn/nMw+5u7Z+7spKqQJLXlHw27AEnS6jPcJalBhrskNchwl6QGGe6S1KB1wy4A4IILLqipqam+xvjud7/LOeecszoFDcg41gzWPWjWPVjjVPe+ffu+WVWvW6pvJMJ9amqKxx9/vK8x5ubmmJmZWZ2CBmQcawbrHjTrHqxxqjvJ107U57KMJDXIcJekBhnuktQgw12SGmS4S1KDDHdJapDhLkkNMtwlqUGGuyQ1aCQ+oSqNsqmdDw/lfg/ecd1Q7ldt8MhdkhpkuEtSgwx3SWqQ4S5JDTLcJalBhrskNchwl6QGGe6S1CDDXZIaZLhLUoMMd0lq0LLhnuRHk3w+yReTPJ3kN7v2i5I8luRAko8l+ZGu/exu+0DXP7XGj0GStMhKjtx/ALy1qt4AXApcneRK4LeBO6vqp4GXgFu6/W8BXura7+z2kyQN0LLhXj3z3eZruksBbwUe6NrvBd7eXd/WbdP1X5Ukq1WwJGl5K1pzT3JWkieAI8AjwFeAl6vqWLfLIWBjd30j8A2Arv8o8BOrWLMkaRmpqpXvnKwHPgH8B+CebumFJJuAT1XVJUmeAq6uqkNd31eAN1XVNxeNtR3YDjA5OXn57OxsXw9kfn6eiYmJvsYYtHGsGc68uvcfProG1Sxvy8ZzgTNvvodtnOreunXrvqqaXqrvlL6so6peTvIo8GZgfZJ13dH5hcDhbrfDwCbgUJJ1wLnA3y4x1i5gF8D09HTNzMycSimvMjc3R79jDNo41gxnXt03D+vLOm6cAc68+R62ca17sZWcLfO67oidJK8Ffg54FngUeGe3203AQ9313d02Xf9f1Kn8eSBJ6ttKjtw3APcmOYvei8H9VbUnyTPAbJL/BPwVcFe3/13AnyQ5AHwLuH4N6pYkncSy4V5VTwJvXKL9q8AVS7T/X+Bfr0p1kqTT4idUJalBhrskNchwl6QGGe6S1CDDXZIaZLhLUoMMd0lqkOEuSQ0y3CWpQYa7JDXIcJekBhnuktQgw12SGmS4S1KDDHdJapDhLkkNMtwlqUGGuyQ1yHCXpAYZ7pLUIMNdkhpkuEtSgwx3SWrQsuGeZFOSR5M8k+TpJO/r2j+Q5HCSJ7rLtQtuc1uSA0meS/K2tXwAkqRXW7eCfY4BO6rqC0l+HNiX5JGu786q+p2FOye5GLgeeD3wU8CfJ/nnVfXD1SxcknRiyx65V9ULVfWF7vp3gGeBjSe5yTZgtqp+UFXPAweAK1ajWEnSypzSmnuSKeCNwGNd03uTPJnk7iTndW0bgW8suNkhTv5iIElaZamqle2YTAD/G7i9qh5MMgl8Eyjgt4ANVfWeJL8HfK6q/rS73V3Ap6rqgUXjbQe2A0xOTl4+Ozvb1wOZn59nYmKirzEGbRxrhjOv7v2Hj65BNcvbsvFc4Myb72Ebp7q3bt26r6qml+pbyZo7SV4DfBy4r6oeBKiqFxf0/xGwp9s8DGxacPMLu7ZXqKpdwC6A6enpmpmZWUkpJzQ3N0e/YwzaONYMZ17dN+98ePWLWYGDN84AZ958D9u41r3YSs6WCXAX8GxVfWhB+4YFu70DeKq7vhu4PsnZSS4CNgOfX72SJUnLWcmR+1uAdwP7kzzRtb0fuCHJpfSWZQ4CvwJQVU8nuR94ht6ZNrd6powkDday4V5VnwWyRNcnT3Kb24Hb+6hLktQHP6EqSQ0y3CWpQYa7JDXIcJekBhnuktQgw12SGmS4S1KDDHdJapDhLkkNMtwlqUGGuyQ1yHCXpAYZ7pLUIMNdkhpkuEtSgwx3SWqQ4S5JDTLcJalBhrskNchwl6QGGe6S1CDDXZIaZLhLUoOWDfckm5I8muSZJE8neV/Xfn6SR5J8uft5XteeJB9OciDJk0kuW+sHIUl6pZUcuR8DdlTVxcCVwK1JLgZ2AnurajOwt9sGuAbY3F22Ax9Z9aolSSe1bLhX1QtV9YXu+neAZ4GNwDbg3m63e4G3d9e3AX9cPZ8D1ifZsNqFS5JOLFW18p2TKeAzwCXA16tqfdce4KWqWp9kD3BHVX2269sL/FpVPb5orO30juyZnJy8fHZ2tq8HMj8/z8TERF9jDNo41gxnXt37Dx9dg2qWt2XjucCZN9/DNk51b926dV9VTS/Vt26lgySZAD4O/GpVfbuX5z1VVUlW/irRu80uYBfA9PR0zczMnMrNX2Vubo5+xxi0cawZzry6b9758OoXswIHb5wBzrz5HrZxrXuxFZ0tk+Q19IL9vqp6sGt+8fhyS/fzSNd+GNi04OYXdm2SpAFZydkyAe4Cnq2qDy3o2g3c1F2/CXhoQfsvdWfNXAkcraoXVrFmSdIyVrIs8xbg3cD+JE90be8H7gDuT3IL8DXgXV3fJ4FrgQPA94BfXs2CJUnLWzbcuzdGc4Luq5bYv4Bb+6xLktQHP6EqSQ0y3CWpQYa7JDVoxee5Sxqsqe78+h1bjg30XPuDd1w3sPvS2vHIXZIaZLhLUoMMd0lqkOEuSQ0y3CWpQYa7JDXIUyE1FqZW4VTAQZ9SKA2TR+6S1CDDXZIaZLhLUoMMd0lqkOEuSQ0y3CWpQYa7JDXIcJekBhnuktQgw12SGmS4S1KDDHdJatCy4Z7k7iRHkjy1oO0DSQ4neaK7XLug77YkB5I8l+Rta1W4JOnEVnLkfg9w9RLtd1bVpd3lkwBJLgauB17f3eYPkpy1WsVKklZm2XCvqs8A31rheNuA2ar6QVU9DxwAruijPknSaUhVLb9TMgXsqapLuu0PADcD3wYeB3ZU1UtJfg/4XFX9abffXcCnquqBJcbcDmwHmJycvHx2dravBzI/P8/ExERfYwzaONYMw6l7/+GjfY8x+Vp48furUMyADbruLRvPXZVxfH6vva1bt+6rquml+k73yzo+AvwWUN3PDwLvOZUBqmoXsAtgenq6ZmZmTrOUnrm5OfodY9DGsWYYTt2r8SUbO7Yc44P7x+/7aQZd98EbZ1ZlHJ/fw3VaZ8tU1YtV9cOq+nvgj/iHpZfDwKYFu17YtUmSBui0wj3JhgWb7wCOn0mzG7g+ydlJLgI2A5/vr0RJ0qla9m+9JB8FZoALkhwCfgOYSXIpvWWZg8CvAFTV00nuB54BjgG3VtUP16RySdIJLRvuVXXDEs13nWT/24Hb+ylKktQfP6EqSQ0y3CWpQYa7JDXIcJekBhnuktQgw12SGmS4S1KDDHdJapDhLkkNMtwlqUGGuyQ1yHCXpAYZ7pLUIMNdkhpkuEtSgwx3SWqQ4S5JDTLcJalBhrskNchwl6QGGe6S1CDDXZIaZLhLUoOWDfckdyc5kuSpBW3nJ3kkyZe7n+d17Uny4SQHkjyZ5LK1LF6StLSVHLnfA1y9qG0nsLeqNgN7u22Aa4DN3WU78JHVKVOSdCqWDfeq+gzwrUXN24B7u+v3Am9f0P7H1fM5YH2SDatUqyRphVJVy++UTAF7quqSbvvlqlrfXQ/wUlWtT7IHuKOqPtv17QV+raoeX2LM7fSO7pmcnLx8dna2rwcyPz/PxMREX2MM2jjWDMOpe//ho32PMflaePH7q1DMgA267i0bz12VcXx+r72tW7fuq6rppfrW9Tt4VVWS5V8hXn27XcAugOnp6ZqZmemrjrm5OfodY9DGsWYYTt0373y47zF2bDnGB/f3/ZQfuEHXffDGmVUZx+f3cJ3u2TIvHl9u6X4e6doPA5sW7Hdh1yZJGqDTPRzYDdwE3NH9fGhB+3uTzAJvAo5W1Qt9V6lXmFqFo9jTdfCO64Z235JWbtlwT/JRYAa4IMkh4Dfohfr9SW4Bvga8q9v9k8C1wAHge8Avr0HNkqRlLBvuVXXDCbquWmLfAm7ttyhJUn/8hKokNWj8Th3QUE3tfJgdW46tytkrktaOR+6S1CDDXZIaZLhLUoMMd0lqkOEuSQ0y3CWpQYa7JDXIcJekBhnuktQgw12SGmS4S1KDDHdJapDhLkkNMtwlqUGGuyQ1yHCXpAYZ7pLUIL+JSdIrTK3St2ydzjd2HbzjulW5b3nkLklNMtwlqUEuy/Sh3z9f/aJpSWulr3BPchD4DvBD4FhVTSc5H/gYMAUcBN5VVS/1V6Yk6VSsxrLM1qq6tKqmu+2dwN6q2gzs7bYlSQO0Fmvu24B7u+v3Am9fg/uQJJ1Equr0b5w8D7wEFPCHVbUryctVtb7rD/DS8e1Ft90ObAeYnJy8fHZ29rTrAJifn2diYqKvMU7V/sNH+7r95Gvhxe+vUjEDZN2DdSbVvWXjuWtTzCkYRpacrq1bt+5bsGryCv2+ofqzVXU4yU8CjyT50sLOqqokS756VNUuYBfA9PR0zczM9FXI3Nwc/Y5xqvp9M3THlmN8cP/4vadt3YN1JtV98MaZtSnmFAwjS9ZCX8syVXW4+3kE+ARwBfBikg0A3c8j/RYpSTo1px3uSc5J8uPHrwM/DzwF7AZu6na7CXio3yIlSaemn7/1JoFP9JbVWQf8j6r6syR/Cdyf5Bbga8C7+i9TknQqTjvcq+qrwBuWaP9b4Kp+ipIk9cd/PyBJDTLcJalBhrskNchwl6QGGe6S1CDDXZIaZLhLUoMMd0lqkOEuSQ0y3CWpQYa7JDXIcJekBhnuktQgw12SGmS4S1KDDHdJapDhLkkNMtwlqUGGuyQ1yHCXpAYZ7pLUoHXDLkCSjpva+fBQ7vfgHdcN5X7XkkfuktSgNQv3JFcneS7JgSQ71+p+JEmvtibhnuQs4PeBa4CLgRuSXLwW9yVJerW1WnO/AjhQVV8FSDILbAOeWe07Or5Gt2PLMW4e0nqdpPG2cK1/0FmyVuv9qarVHzR5J3B1Vf2bbvvdwJuq6r0L9tkObO82fwZ4rs+7vQD4Zp9jDNo41gzWPWjWPVjjVPc/qarXLdUxtLNlqmoXsGu1xkvyeFVNr9Z4gzCONYN1D5p1D9a41r3YWr2hehjYtGD7wq5NkjQAaxXufwlsTnJRkh8Brgd2r9F9SZIWWZNlmao6luS9wKeBs4C7q+rptbivBVZtiWeAxrFmsO5Bs+7BGte6X2FN3lCVJA2Xn1CVpAYZ7pLUoLEL9ySbkjya5JkkTyd5X9d+fpJHkny5+3nesGtdSpKzkvxVkj3d9kVJHuv+TcPHujegR0qS9UkeSPKlJM8mefOoz3eSf9c9P55K8tEkPzqqc53k7iRHkjy1oG3J+U3Ph7vH8GSSy0ao5v/cPUeeTPKJJOsX9N3W1fxckrcNo+aujlfVvaBvR5JKckG3PRJzfbrGLtyBY8COqroYuBK4tfvXBjuBvVW1GdjbbY+i9wHPLtj+beDOqvpp4CXglqFUdXK/C/xZVf0L4A306h/Z+U6yEfi3wHRVXULvTf3rGd25vge4elHbieb3GmBzd9kOfGRANS52D6+u+RHgkqr6l8D/AW4D6H4/rwde393mD7p/UTIM9/DqukmyCfh54OsLmkdlrk9PVY31BXgI+Dl6n3Dd0LVtAJ4bdm1L1HohvV/UtwJ7gND7JNy6rv/NwKeHXeeims8Fnqd7831B+8jON7AR+AZwPr0zwvYAbxvluQamgKeWm1/gD4Ebltpv2DUv6nsHcF93/TbgtgV9nwbePCpz3bU9QO/A5SBwwajN9elcxvHI/f9LMgW8EXgMmKyqF7quvwYmh1XXSfwX4N8Df99t/wTwclUd67YP0QumUXIR8DfAf++Wk/5bknMY4fmuqsPA79A7CnsBOArsY/TneqETze/xF67jRvVxvAf4VHd9pGtOsg04XFVfXNQ10nUvZ2zDPckE8HHgV6vq2wv7qvcyO1LneCb5BeBIVe0bdi2naB1wGfCRqnoj8F0WLcGM2nx369Pb6L0w/RRwDkv8KT4uRm1+l5Pk1+ktn9437FqWk+THgPcD/3HYtay2sQz3JK+hF+z3VdWDXfOLSTZ0/RuAI8Oq7wTeAvxikoPALL2lmd8F1ic5/mGyUfw3DYeAQ1X1WLf9AL2wH+X5/lfA81X1N1X1d8CD9OZ/1Od6oRPN70j/a48kNwO/ANzYvSjBaNf8z+gdBHyx+928EPhCkn/MaNe9rLEL9yQB7gKeraoPLejaDdzUXb+J3lr8yKiq26rqwqqaovfm0l9U1Y3Ao8A7u91Gse6/Br6R5Ge6pqvo/evmUZ7vrwNXJvmx7vlyvOaRnutFTjS/u4Ff6s7kuBI4umD5ZqiSXE1v2fEXq+p7C7p2A9cnOTvJRfTeoPz8MGpcrKr2V9VPVtVU97t5CLise96P7FyvyLAX/U/1AvwsvT9RnwSe6C7X0lu/3gt8Gfhz4Pxh13qSxzAD7Omu/1N6T/QDwP8Ezh52fUvUeynweDfn/ws4b9TnG/hN4EvAU8CfAGeP6lwDH6X33sDf0QuXW040v/TehP994CvAfnpnBI1KzQforVEf/738rwv2//Wu5ueAa0Zprhf1H+Qf3lAdibk+3Yv/fkCSGjR2yzKSpOUZ7pLUIMNdkhpkuEtSgwx3SWqQ4S5JDTLcJalB/w/d/1OCsXbg3QAAAABJRU5ErkJggg==\n",
      "text/plain": [
       "<Figure size 432x288 with 1 Axes>"
      ]
     },
     "metadata": {
      "needs_background": "light"
     },
     "output_type": "display_data"
    }
   ],
   "source": [
    "# Let's plot a histogram to visualize the distribution of the observed `test_duration` data points\n",
    "passing_test2[\"test_duration\"].hist()"
   ]
  },
  {
   "cell_type": "code",
   "execution_count": 46,
   "metadata": {},
   "outputs": [
    {
     "name": "stdout",
     "output_type": "stream",
     "text": [
      "\n",
      "Distributions listed by Betterment of fit:\n",
      "............................................\n",
      "   Distribution                         chi_square and p-value\n",
      "10       triang     (461.9624452114939, 4.799796517458444e-69)\n",
      "3          beta    (619.2886679176573, 2.716009412709153e-100)\n",
      "2   weibull_max   (782.1495727872282, 2.4780499811803997e-133)\n",
      "5       uniform   (800.7205543332755, 3.9377128547833523e-137)\n",
      "9      pearson3     (902.4903827437414, 4.87937692523532e-158)\n",
      "0   weibull_min   (961.9366558978377, 2.6033191498811774e-170)\n",
      "6         gamma   (1025.0253918219983, 2.234474698949537e-183)\n",
      "8       lognorm  (1063.4355506988115, 2.3726995807065007e-191)\n",
      "1          norm    (1066.204889931689, 6.306900543032179e-192)\n",
      "4      invgauss     (1076.96978515332, 3.650894820526847e-194)\n",
      "7         expon                      (2457.1474484587093, 0.0)\n"
     ]
    }
   ],
   "source": [
    "# Identify the distribution\n",
    "d2_passing, r2_passing = fit_distribution(passing_test2, \"test_duration\", 0.99, 0.01)"
   ]
  },
  {
   "cell_type": "code",
   "execution_count": 47,
   "metadata": {},
   "outputs": [
    {
     "name": "stdout",
     "output_type": "stream",
     "text": [
      "   Distribution Names                                         Parameters\n",
      "0         weibull_min  (12.20521715428722, -9.947987307617899, 10.381...\n",
      "1                norm                      (-2.900174431673878e-16, 1.0)\n",
      "2         weibull_max  (2.1554319735307503, 2.0437822972560094, 2.308...\n",
      "3                beta  (3.7771834527281305, 2.2909268094664883, -3.38...\n",
      "4            invgauss  (0.012936695580847705, -9.3755847909988, 723.7...\n",
      "5             uniform          (-2.2137979788672366, 4.1716330057230735)\n",
      "6               gamma  (234.71277775898807, -15.756136680990146, 0.06...\n",
      "7               expon           (-2.2137979788672366, 2.213797978867236)\n",
      "8             lognorm  (0.002403707049861004, -416.90701811718577, 41...\n",
      "9            pearson3  (-0.7785824858250469, -3.4824148365068255e-16,...\n",
      "10             triang  (0.6841968667427839, -2.6090072152614505, 4.63...\n"
     ]
    }
   ],
   "source": [
    "# Print the parameters for the distributions which are the mu (shape), loc (location)\n",
    "# and scale parameters\n",
    "print(d2_passing)"
   ]
  },
  {
   "cell_type": "markdown",
   "metadata": {},
   "source": [
    "We see that the top 2 distributions based on betterment of fit are **Pearson** distribution and **Triangular** distribution. Let's plot the graphs for these two distributions."
   ]
  },
  {
   "cell_type": "code",
   "execution_count": 48,
   "metadata": {},
   "outputs": [],
   "source": [
    "# Fetch the parameters required for respective distribution types to visualize the density plots\n",
    "pearson_param_passing2 = d2_passing[d2_passing[\"Distribution Names\"] == \"pearson3\"][\n",
    "    \"Parameters\"\n",
    "].values\n",
    "# Flatten list\n",
    "pearson_param_passing2 = list(itertools.chain(*pearson_param_passing2))\n",
    "triang_param_passing2 = d2_passing[d2_passing[\"Distribution Names\"] == \"triang\"][\n",
    "    \"Parameters\"\n",
    "].values\n",
    "# Flatten list\n",
    "triang_param_passing2 = list(itertools.chain(*triang_param_passing2))"
   ]
  },
  {
   "cell_type": "code",
   "execution_count": 49,
   "metadata": {},
   "outputs": [],
   "source": [
    "y_std_passing2, len_y_passing2, y_passing2 = standardize(\n",
    "    passing_test2, \"test_duration\", 0.99, 0.01\n",
    ")"
   ]
  },
  {
   "cell_type": "code",
   "execution_count": 50,
   "metadata": {},
   "outputs": [
    {
     "data": {
      "image/png": "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\n",
      "text/plain": [
       "<Figure size 648x360 with 3 Axes>"
      ]
     },
     "metadata": {
      "needs_background": "light"
     },
     "output_type": "display_data"
    }
   ],
   "source": [
    "# Plot the distributions\n",
    "fig, axes = plt.subplots(nrows=1, ncols=3, figsize=(9, 5))\n",
    "axes[0].hist(y_passing2)\n",
    "axes[0].set_xlabel(\"Test Duration\\n\\nHistogram plot of Oberseved Data\")\n",
    "axes[0].set_ylabel(\"Frequency\")\n",
    "# Plot the density plot for Pearson distribution by passing the mu (shape parameter), loc (location)\n",
    "# and scale parameters obtained from above\n",
    "axes[1].plot(\n",
    "    y_passing2,\n",
    "    pearson3.pdf(\n",
    "        y_std_passing2,\n",
    "        pearson_param_passing2[0],\n",
    "        pearson_param_passing2[1],\n",
    "        pearson_param_passing2[2],\n",
    "    ),\n",
    ")\n",
    "axes[1].set_xlabel(\"Test Duration\\n\\nPearson Distribution\")\n",
    "axes[1].set_ylabel(\"pdf\")\n",
    "# Plot the density plot for Triangular distribution by passing the mu (shape), loc (location) and\n",
    "# scale parameters obtained from above\n",
    "axes[2].plot(\n",
    "    y_passing2,\n",
    "    triang.pdf(\n",
    "        y_std_passing2,\n",
    "        triang_param_passing2[0],\n",
    "        triang_param_passing2[1],\n",
    "        triang_param_passing2[2],\n",
    "    ),\n",
    ")\n",
    "axes[2].set_xlabel(\"Test Duration\\n\\nTriangular Distribution\")\n",
    "axes[2].set_ylabel(\"pdf\")\n",
    "fig.tight_layout()"
   ]
  },
  {
   "cell_type": "markdown",
   "metadata": {},
   "source": [
    "The Histogram plot shows the distribution of test duration values over all the data points. The Pearson and Triangular graphs are density plots which are a smoothed, continuous version of a histogram estimated from the data. It plots the probability density function (along Y-axis) vs the test duration values (along X-axis). Probability density plots are used to understand data distribution for a continuous variable and we want to know the likelihood (or probability) of obtaining a range of values that the continuous variable can assume. The area under the curve contains the probabilities for the test duration values."
   ]
  },
  {
   "cell_type": "markdown",
   "metadata": {},
   "source": [
    "## Optimal Stopping Point\n",
    "Next, we would want to look into these distribution types to determine a point after which the test has a higher probability of failing.\n",
    "\n",
    "### Test: \"openshift-tests.[sig-arch][Feature:ClusterUpgrade] Cluster should remain functional during upgrade [Disruptive] [Serial]\"\n",
    "*Distribution Type*: **Log Normal**"
   ]
  },
  {
   "cell_type": "markdown",
   "metadata": {},
   "source": [
    "For the test \"openshift-tests.[sig-arch][Feature:ClusterUpgrade] Cluster should remain functional during upgrade [Disruptive] [Serial]\", let's look at the `Log Normal` distribution type.\n",
    "\n",
    "To find the optimal stopping point, we will find the intersection points for the passing and failing distribution curves using the `intersect` library. We will then consider the largest `x` co-ordinate value (i.e the test duration value) as the corresponding optimal stopping point."
   ]
  },
  {
   "cell_type": "code",
   "execution_count": 51,
   "metadata": {},
   "outputs": [],
   "source": [
    "# Fetch the parameters for the log normal distribution of passing test1\n",
    "lognorm_param_passing1 = d1_passing[d1_passing[\"Distribution Names\"] == \"lognorm\"][\n",
    "    \"Parameters\"\n",
    "].values\n",
    "# Flatten list\n",
    "lognorm_param_passing1 = list(itertools.chain(*lognorm_param_passing1))"
   ]
  },
  {
   "cell_type": "code",
   "execution_count": 52,
   "metadata": {},
   "outputs": [
    {
     "name": "stdout",
     "output_type": "stream",
     "text": [
      "[19.31628303 19.35340261 45.87843304 72.01245346]\n"
     ]
    }
   ],
   "source": [
    "# Obtain the intersection points between the distribution curves\n",
    "x1, y1 = intersection(\n",
    "    y_failing1,\n",
    "    lognorm.pdf(\n",
    "        y_std_failing1,\n",
    "        lognorm_param_failing1[0],\n",
    "        lognorm_param_failing1[1],\n",
    "        lognorm_param_failing1[2],\n",
    "    ),\n",
    "    y_passing1,\n",
    "    lognorm.pdf(\n",
    "        y_std_passing1,\n",
    "        lognorm_param_passing1[0],\n",
    "        lognorm_param_passing1[1],\n",
    "        lognorm_param_passing1[2],\n",
    "    ),\n",
    ")\n",
    "# Print the x co-ordinates of the intersection points which corresponds to the test duration values\n",
    "print(x1)"
   ]
  },
  {
   "cell_type": "code",
   "execution_count": 53,
   "metadata": {},
   "outputs": [
    {
     "data": {
      "image/png": "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\n",
      "text/plain": [
       "<Figure size 432x288 with 1 Axes>"
      ]
     },
     "metadata": {
      "needs_background": "light"
     },
     "output_type": "display_data"
    }
   ],
   "source": [
    "fig, ax = plt.subplots()\n",
    "ax.plot(\n",
    "    y_failing1,\n",
    "    lognorm.pdf(\n",
    "        y_std_failing1,\n",
    "        lognorm_param_failing1[0],\n",
    "        lognorm_param_failing1[1],\n",
    "        lognorm_param_failing1[2],\n",
    "    ),\n",
    "    label=\"Failure Distribution\",\n",
    ")\n",
    "ax.plot(\n",
    "    y_passing1,\n",
    "    lognorm.pdf(\n",
    "        y_std_passing1,\n",
    "        lognorm_param_passing1[0],\n",
    "        lognorm_param_passing1[1],\n",
    "        lognorm_param_passing1[2],\n",
    "    ),\n",
    "    label=\"Passing Distribution\",\n",
    ")\n",
    "ax.set_xlabel(\"Test Duration\")\n",
    "ax.set_ylabel(\"pdf\")\n",
    "ax.set_title(\"Test Duration vs Probability Density Function\")\n",
    "# vertical intersection point corresponding to largest x co-ordinate value\n",
    "ax.axvline(x=max(x1), color=\"r\", label=\"Optimal Stopping Point\")\n",
    "fig.tight_layout()\n",
    "plt.legend()\n",
    "plt.show()"
   ]
  },
  {
   "cell_type": "markdown",
   "metadata": {},
   "source": [
    "From the above graph, we see that passing tests (orange line) have a narrower range and smaller std, with an expected run time of between 20 and 110 seconds. Failing tests (blue line) are much less reliable with a run time spanning from 0 to 240 seconds. From this graph, we can claim that a test run longer than ~72 seconds starts to have an increased probability of being a failure and hence can be considered as an optimal stopping point."
   ]
  },
  {
   "cell_type": "markdown",
   "metadata": {},
   "source": [
    "### Test: \"operator.Run multi-stage test e2e-aws-upgrade - e2e-aws-upgrade-openshift-e2e-test container test\"\n",
    "*Distribution Type*: **Person**"
   ]
  },
  {
   "cell_type": "markdown",
   "metadata": {},
   "source": [
    "For the test \"operator.Run multi-stage test e2e-aws-upgrade - e2e-aws-upgrade-openshift-e2e-test container test\", let's look at the `Pearson` distribution type.\n",
    "\n",
    "To find the optimal stopping point, we will find the intersection points for the passing and failing distribution curves using the `intersect` library. We will then consider the largest `x` co-ordinate value (i.e the test duration value) as the corresponding optimal stopping point."
   ]
  },
  {
   "cell_type": "code",
   "execution_count": 54,
   "metadata": {},
   "outputs": [
    {
     "name": "stdout",
     "output_type": "stream",
     "text": [
      "[ 86.243292   104.17407072]\n"
     ]
    }
   ],
   "source": [
    "# Obtain the intersection points between the distribution curves\n",
    "x2, y2 = intersection(\n",
    "    y_failing2,\n",
    "    pearson3.pdf(\n",
    "        y_std_failing2,\n",
    "        pearson_param_failing2[0],\n",
    "        pearson_param_failing2[1],\n",
    "        pearson_param_failing2[2],\n",
    "    ),\n",
    "    y_passing2,\n",
    "    pearson3.pdf(\n",
    "        y_std_passing2,\n",
    "        pearson_param_passing2[0],\n",
    "        pearson_param_passing2[1],\n",
    "        pearson_param_passing2[2],\n",
    "    ),\n",
    ")\n",
    "# Print the x co-ordinates of the intersection points which corresponds to the test duration values\n",
    "print(x2)"
   ]
  },
  {
   "cell_type": "code",
   "execution_count": 55,
   "metadata": {},
   "outputs": [
    {
     "data": {
      "image/png": "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\n",
      "text/plain": [
       "<Figure size 432x288 with 1 Axes>"
      ]
     },
     "metadata": {
      "needs_background": "light"
     },
     "output_type": "display_data"
    }
   ],
   "source": [
    "fig, ax = plt.subplots()\n",
    "ax.plot(\n",
    "    y_failing2,\n",
    "    pearson3.pdf(\n",
    "        y_std_failing2,\n",
    "        pearson_param_failing2[0],\n",
    "        pearson_param_failing2[1],\n",
    "        pearson_param_failing2[2],\n",
    "    ),\n",
    "    label=\"Failure Distribution\",\n",
    ")\n",
    "ax.plot(\n",
    "    y_passing2,\n",
    "    pearson3.pdf(\n",
    "        y_std_passing2,\n",
    "        pearson_param_passing2[0],\n",
    "        pearson_param_passing2[1],\n",
    "        pearson_param_passing2[2],\n",
    "    ),\n",
    "    label=\"Passing Distribution\",\n",
    ")\n",
    "ax.set_xlabel(\"Test Duration\")\n",
    "ax.set_ylabel(\"pdf\")\n",
    "ax.set_title(\"Test Duration vs Probability Density Function\")\n",
    "# vertical intersection point corresponding to largest x co-ordinate value\n",
    "ax.axvline(x=max(x2), color=\"r\", label=\"Optimal Stopping Point\")\n",
    "fig.tight_layout()\n",
    "plt.legend()\n",
    "plt.show()"
   ]
  },
  {
   "cell_type": "markdown",
   "metadata": {},
   "source": [
    "From the above graph, we see that passing tests (orange line) have a narrower range and smaller std, with an expected run time of between 40 and 120 seconds. Failing tests (blue line) are much less reliable with a run time spanning from 0 to 160 seconds. From this graph, we can claim that a test run longer than ~104 seconds starts to have an increased probability of being a failure and hence can be considered as an optimal stopping point."
>>>>>>> 7e7fb73... Update documentation
   ]
  },
  {
   "cell_type": "markdown",
   "metadata": {},
   "source": [
    "## Conclusion:\n",
    "\n",
<<<<<<< HEAD
    "In this notebook, we have first filtered the testgrid for only failing tests and then plotted distribution for different TestGrid tests for the feature `test_duration`. We have observed that different TestGrid tests have different types of distribution for the test_duration. For future work, we aim to predict an optimal stopping point for each test considering the distribution type so as to make appropriate predictions."
=======
    "In this notebook, we have filtered the TestGrid data for failing and passing tests and identified the distributions for different TestGrid tests for the feature `test_duration`. We have observed that different TestGrid tests have different types of distributions. Based on the distribution type, we performed Chi-Square statistics for each distribution and further sorted them to find the best distribution. We then determine an optimal stopping point by plotting the intersection points between the passing and failing test distributions. For future work, we aim to develop an ML model to predict an optimal stopping point for each test considering the distribution type so as to make appropriate predictions."
>>>>>>> 7e7fb73... Update documentation
   ]
  }
 ],
 "metadata": {
  "kernelspec": {
<<<<<<< HEAD
   "display_name": "Python 3",
=======
   "display_name": "Python 3 (ipykernel)",
>>>>>>> 7e7fb73... Update documentation
   "language": "python",
   "name": "python3"
  },
  "language_info": {
   "codemirror_mode": {
    "name": "ipython",
    "version": 3
   },
   "file_extension": ".py",
   "mimetype": "text/x-python",
   "name": "python",
   "nbconvert_exporter": "python",
   "pygments_lexer": "ipython3",
   "version": "3.8.3"
  }
 },
 "nbformat": 4,
 "nbformat_minor": 4
}
